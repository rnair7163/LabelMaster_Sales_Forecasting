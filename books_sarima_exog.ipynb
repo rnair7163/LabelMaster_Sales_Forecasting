{
  "nbformat": 4,
  "nbformat_minor": 0,
  "metadata": {
    "colab": {
      "name": "books_sarima.ipynb",
      "provenance": [],
      "collapsed_sections": [],
      "include_colab_link": true
    },
    "kernelspec": {
      "name": "python3",
      "display_name": "Python 3"
    }
  },
  "cells": [
    {
      "cell_type": "markdown",
      "metadata": {
        "id": "view-in-github",
        "colab_type": "text"
      },
      "source": [
        "<a href=\"https://colab.research.google.com/github/rahulmnair1997/LabelMaster_Sales_Forecasting/blob/main/books_sarima_exog.ipynb\" target=\"_parent\"><img src=\"https://colab.research.google.com/assets/colab-badge.svg\" alt=\"Open In Colab\"/></a>"
      ]
    },
    {
      "cell_type": "code",
      "metadata": {
        "colab": {
          "base_uri": "https://localhost:8080/"
        },
        "id": "SlH1v48Lmz04",
        "outputId": "097d8082-16cf-4181-8721-44fb223e83a6"
      },
      "source": [
        "from google.colab import drive\r\n",
        "drive.mount('/content/drive')"
      ],
      "execution_count": 1,
      "outputs": [
        {
          "output_type": "stream",
          "text": [
            "Mounted at /content/drive\n"
          ],
          "name": "stdout"
        }
      ]
    },
    {
      "cell_type": "code",
      "metadata": {
        "id": "Wx5PgDOwnN1Q"
      },
      "source": [
        "import warnings\r\n",
        "import itertools\r\n",
        "import numpy as np\r\n",
        "import matplotlib.pyplot as plt\r\n",
        "warnings.filterwarnings(\"ignore\")\r\n",
        "import pandas as pd\r\n",
        "import statsmodels.api as sm\r\n",
        "import matplotlib\r\n",
        "\r\n",
        "from statsmodels.tsa.arima_model import ARIMA\r\n",
        "from statsmodels.tsa.stattools import adfuller\r\n",
        "import statsmodels.api as sm\r\n",
        " \r\n",
        "from itertools import product\r\n",
        "from tqdm import tqdm_notebook\r\n",
        "\r\n",
        "from sklearn.metrics import mean_squared_error"
      ],
      "execution_count": 2,
      "outputs": []
    },
    {
      "cell_type": "code",
      "metadata": {
        "colab": {
          "base_uri": "https://localhost:8080/",
          "height": 419
        },
        "id": "AHzywCtwncXI",
        "outputId": "9353accc-0587-4fb5-b0b3-b536057e0bac"
      },
      "source": [
        "books = pd.read_csv('/content/drive/MyDrive/Label_Master Forecasting Datasets/Books_ext_fs.csv')\r\n",
        "#books = pd.read_csv('/content/drive/MyDrive/Colab Notebooks/LabelMaster/LabelMaster Data/Books_ext.csv')\r\n",
        "sales = books[['Year_Month','Sum of Sales']]\r\n",
        "sales"
      ],
      "execution_count": 4,
      "outputs": [
        {
          "output_type": "execute_result",
          "data": {
            "text/html": [
              "<div>\n",
              "<style scoped>\n",
              "    .dataframe tbody tr th:only-of-type {\n",
              "        vertical-align: middle;\n",
              "    }\n",
              "\n",
              "    .dataframe tbody tr th {\n",
              "        vertical-align: top;\n",
              "    }\n",
              "\n",
              "    .dataframe thead th {\n",
              "        text-align: right;\n",
              "    }\n",
              "</style>\n",
              "<table border=\"1\" class=\"dataframe\">\n",
              "  <thead>\n",
              "    <tr style=\"text-align: right;\">\n",
              "      <th></th>\n",
              "      <th>Year_Month</th>\n",
              "      <th>Sum of Sales</th>\n",
              "    </tr>\n",
              "  </thead>\n",
              "  <tbody>\n",
              "    <tr>\n",
              "      <th>0</th>\n",
              "      <td>2008-01</td>\n",
              "      <td>282604.11</td>\n",
              "    </tr>\n",
              "    <tr>\n",
              "      <th>1</th>\n",
              "      <td>2008-02</td>\n",
              "      <td>262474.40</td>\n",
              "    </tr>\n",
              "    <tr>\n",
              "      <th>2</th>\n",
              "      <td>2008-03</td>\n",
              "      <td>326059.68</td>\n",
              "    </tr>\n",
              "    <tr>\n",
              "      <th>3</th>\n",
              "      <td>2008-04</td>\n",
              "      <td>215387.49</td>\n",
              "    </tr>\n",
              "    <tr>\n",
              "      <th>4</th>\n",
              "      <td>2008-05</td>\n",
              "      <td>499559.90</td>\n",
              "    </tr>\n",
              "    <tr>\n",
              "      <th>...</th>\n",
              "      <td>...</td>\n",
              "      <td>...</td>\n",
              "    </tr>\n",
              "    <tr>\n",
              "      <th>150</th>\n",
              "      <td>2020-07</td>\n",
              "      <td>150348.10</td>\n",
              "    </tr>\n",
              "    <tr>\n",
              "      <th>151</th>\n",
              "      <td>2020-08</td>\n",
              "      <td>156066.95</td>\n",
              "    </tr>\n",
              "    <tr>\n",
              "      <th>152</th>\n",
              "      <td>2020-09</td>\n",
              "      <td>468710.96</td>\n",
              "    </tr>\n",
              "    <tr>\n",
              "      <th>153</th>\n",
              "      <td>2020-10</td>\n",
              "      <td>1118446.80</td>\n",
              "    </tr>\n",
              "    <tr>\n",
              "      <th>154</th>\n",
              "      <td>2020-11</td>\n",
              "      <td>429166.77</td>\n",
              "    </tr>\n",
              "  </tbody>\n",
              "</table>\n",
              "<p>155 rows × 2 columns</p>\n",
              "</div>"
            ],
            "text/plain": [
              "    Year_Month  Sum of Sales\n",
              "0      2008-01     282604.11\n",
              "1      2008-02     262474.40\n",
              "2      2008-03     326059.68\n",
              "3      2008-04     215387.49\n",
              "4      2008-05     499559.90\n",
              "..         ...           ...\n",
              "150    2020-07     150348.10\n",
              "151    2020-08     156066.95\n",
              "152    2020-09     468710.96\n",
              "153    2020-10    1118446.80\n",
              "154    2020-11     429166.77\n",
              "\n",
              "[155 rows x 2 columns]"
            ]
          },
          "metadata": {
            "tags": []
          },
          "execution_count": 4
        }
      ]
    },
    {
      "cell_type": "code",
      "metadata": {
        "id": "N23dKSDjclVW",
        "outputId": "bd11609e-0670-4832-85d4-1ac576c4dc43",
        "colab": {
          "base_uri": "https://localhost:8080/",
          "height": 524
        }
      },
      "source": [
        "books = books.dropna(axis = 1)\r\n",
        "exog = books.iloc[:,2:]\r\n",
        "exog"
      ],
      "execution_count": 15,
      "outputs": [
        {
          "output_type": "execute_result",
          "data": {
            "text/html": [
              "<div>\n",
              "<style scoped>\n",
              "    .dataframe tbody tr th:only-of-type {\n",
              "        vertical-align: middle;\n",
              "    }\n",
              "\n",
              "    .dataframe tbody tr th {\n",
              "        vertical-align: top;\n",
              "    }\n",
              "\n",
              "    .dataframe thead th {\n",
              "        text-align: right;\n",
              "    }\n",
              "</style>\n",
              "<table border=\"1\" class=\"dataframe\">\n",
              "  <thead>\n",
              "    <tr style=\"text-align: right;\">\n",
              "      <th></th>\n",
              "      <th>FTR Truck Loadings (000s, SA)_freight_m_trucking</th>\n",
              "      <th>FTR Active Truck Utilization (%, SA)_freight_m_trucking</th>\n",
              "      <th>Reefer Trailer Loadings (000s, SA)_freight_m_trucking</th>\n",
              "      <th>Tank Trailer Loadings (000s, SA)_freight_m_trucking</th>\n",
              "      <th>Chemicals &amp; Allied Products (000s, SA)_freight_m_trucking</th>\n",
              "      <th>Spot TL Rates (w/o FSC)_rates_m_trucking</th>\n",
              "      <th>Total LTL (w/o FSC)_rates_m_trucking</th>\n",
              "      <th>Total LTL (w/ FSC)_rates_m_trucking</th>\n",
              "      <th>Contract TL Tank Rates (w/o FSC)_rates_m_trucking</th>\n",
              "      <th>OEM Net Orders (U.S. / CAN, units)_indicators_m_trucking</th>\n",
              "      <th>New Truck Lead Time (N.A. Backlog/Build Ratio, months)_indicators_m_trucking</th>\n",
              "      <th>B50001_indicators_m_trucking</th>\n",
              "      <th>GMFN_indicators_m_trucking</th>\n",
              "      <th>G325_indicators_m_trucking</th>\n",
              "      <th>G332_indicators_m_trucking</th>\n",
              "      <th>ISM_indicators_m_trucking</th>\n",
              "      <th>PORTEU_indicators_m_trucking</th>\n",
              "      <th>MANEMP_indicators_m_trucking</th>\n",
              "      <th>USTRADE_indicators_m_trucking</th>\n",
              "      <th>LEI_indicators_m_trucking</th>\n",
              "      <th>SPREAD_indicators_m_trucking</th>\n",
              "      <th>D/GAL_indicators_m_trucking</th>\n",
              "      <th>D/STOCK_indicators_m_trucking</th>\n",
              "      <th>Change in Payroll Employment (000's)_driver_indicators_m_trucking</th>\n",
              "      <th>Change in Truck Emp. (000's)_driver_indicators_m_trucking</th>\n",
              "      <th>LABORINDEX_driver_indicators_m_trucking</th>\n",
              "      <th>Total Class 8, North America_Factory Shipments (Ward's)_indicators_m_trucking_trailer</th>\n",
              "      <th>Total Class 8, North America_Factory Shipments (Ward's)_M/M % Change_indicators_m_trucking_trailer</th>\n",
              "      <th>Total Class 8, North America_Factory Shipments (Ward's)_Y/Y % Change_indicators_m_trucking_trailer</th>\n",
              "      <th>Total Class 8, North America_Retail Sales (Ward's)_indicators_m_trucking_trailer</th>\n",
              "      <th>Total Class 8, North America_Retail Sales (Ward's)_M/M % Change_indicators_m_trucking_trailer</th>\n",
              "      <th>Total Class 8, North America_Inventories (Ward's)_M/M % Change_indicators_m_trucking_trailer</th>\n",
              "      <th>Total Class 8, North America_Inventories (Ward's)_Y/Y % Change_indicators_m_trucking_trailer</th>\n",
              "      <th>Total Trailers, U.S._Production_M/M % Change_indicators_m_trucking_trailer</th>\n",
              "      <th>Total Trailers, U.S._Production_Y/Y % Change_indicators_m_trucking_trailer</th>\n",
              "      <th>Total Classes 4-7, North America_Factory Shipments (Ward's)_indicators_m_trucking_trailer</th>\n",
              "      <th>Total Classes 4-7, North America_Factory Shipments (Ward's)_M/M % Change_indicators_m_trucking_trailer</th>\n",
              "      <th>Total Classes 4-7, North America_Factory Shipments (Ward's)_Y/Y % Change_indicators_m_trucking_trailer</th>\n",
              "      <th>Total Classes 4-7, North America_Retail Sales (Ward's)_M/M % Change_indicators_m_trucking_trailer</th>\n",
              "      <th>Total Classes 4-7, North America_Retail Sales (Ward's)_Y/Y % Change_indicators_m_trucking_trailer</th>\n",
              "      <th>Total Classes 4-7, North America_Inventories (Ward's)_M/M % Change_indicators_m_trucking_trailer</th>\n",
              "      <th>Total Classes 4-7, North America_Inventories (Ward's)_Y/Y % Change_indicators_m_trucking_trailer</th>\n",
              "      <th>Class 4, North America_Factory Shipments (Ward's)_indicators_m_trucking_trailer</th>\n",
              "      <th>Class 4, North America_Retail Sales (Ward's)_indicators_m_trucking_trailer</th>\n",
              "      <th>Class 4, North America_Inventories (Ward's)_indicators_m_trucking_trailer</th>\n",
              "      <th>Class 6-7 Bus, North America_Factory Shipments (Ward's)_indicators_m_trucking_trailer</th>\n",
              "      <th>FTR Truck Loadings_M/M % Change_freight_m_trucking_trailer</th>\n",
              "      <th>FTR Truck Loadings_Y/Y % Change_freight_m_trucking_trailer</th>\n",
              "      <th>FTR Rail Intermodal Loadings_M/M % Change_freight_m_trucking_trailer</th>\n",
              "      <th>FTR Rail Intermodal Loadings_Y/Y % Change_freight_m_trucking_trailer</th>\n",
              "      <th>FTR Rail Carloadings (carload + intermodal) (000s, SA)_freight_m_trucking_trailer</th>\n",
              "      <th>FTR Rail Carloadings_M/M % Change_freight_m_trucking_trailer</th>\n",
              "      <th>FTR Rail Carloadings_Y/Y % Change_freight_m_trucking_trailer</th>\n",
              "      <th>FTR Class 8 Truck Utilization (%, SA)_freight_m_trucking_trailer</th>\n",
              "      <th>BUILD FOR_Total_Trailer</th>\n",
              "      <th>BUILD FOR_Flatbed</th>\n",
              "      <th>BUILD FOR_Liquid_Tank</th>\n",
              "      <th>BUILD FOR_Dry_Tank</th>\n",
              "      <th>BUILD FOR_Dump</th>\n",
              "      <th>BUILD FOR_Lowbed</th>\n",
              "      <th>BUILD FOR_All_Other</th>\n",
              "      <th>Change in Distillate Fuel Inventories_x</th>\n",
              "      <th>Intermodal Revenue Movements (IANA-ETSO)_Total_x</th>\n",
              "      <th>FTR Intermodal Competitive Index_Intermodal Competitive Index (0=Neutral)_x</th>\n",
              "      <th>U.S. Origin Intermodal Volumes_International_x</th>\n",
              "      <th>Canada Origin Intermodal Volumes_Domestic_x</th>\n",
              "      <th>N.A. Port Activity, Total TEUs_Exports_x</th>\n",
              "      <th>West Coast Port Activity, Total TEUs_Exports_x</th>\n",
              "      <th>Gulf Coast Port Activity, Total TEUs_Exports_x</th>\n",
              "      <th>Western Canadian Port Activity, Total TEUs_Exports_x</th>\n",
              "    </tr>\n",
              "  </thead>\n",
              "  <tbody>\n",
              "    <tr>\n",
              "      <th>0</th>\n",
              "      <td>57633.608984</td>\n",
              "      <td>88.294650</td>\n",
              "      <td>3940.638792</td>\n",
              "      <td>6915.782704</td>\n",
              "      <td>3013.868684</td>\n",
              "      <td>96.932289</td>\n",
              "      <td>99.755501</td>\n",
              "      <td>114.408275</td>\n",
              "      <td>99.995901</td>\n",
              "      <td>16185.0</td>\n",
              "      <td>4.548055</td>\n",
              "      <td>105.0619</td>\n",
              "      <td>111.0493</td>\n",
              "      <td>116.8145</td>\n",
              "      <td>117.1677</td>\n",
              "      <td>50.3</td>\n",
              "      <td>1.589857e+06</td>\n",
              "      <td>13725.0</td>\n",
              "      <td>15569.0</td>\n",
              "      <td>-0.5</td>\n",
              "      <td>3.28</td>\n",
              "      <td>3.308</td>\n",
              "      <td>130963.0</td>\n",
              "      <td>11.0</td>\n",
              "      <td>-2.0</td>\n",
              "      <td>116.621376</td>\n",
              "      <td>18095.0</td>\n",
              "      <td>27.600310</td>\n",
              "      <td>-51.678372</td>\n",
              "      <td>17273.0</td>\n",
              "      <td>17.711599</td>\n",
              "      <td>-3.727683</td>\n",
              "      <td>-18.589592</td>\n",
              "      <td>-10.826287</td>\n",
              "      <td>-34.572797</td>\n",
              "      <td>15858.0</td>\n",
              "      <td>13.710024</td>\n",
              "      <td>-27.608874</td>\n",
              "      <td>14.674525</td>\n",
              "      <td>-11.794280</td>\n",
              "      <td>-5.728404</td>\n",
              "      <td>-22.814817</td>\n",
              "      <td>2261.0</td>\n",
              "      <td>4488.0</td>\n",
              "      <td>18764.0</td>\n",
              "      <td>3297.0</td>\n",
              "      <td>-2.749882</td>\n",
              "      <td>-5.114613</td>\n",
              "      <td>-1.855190</td>\n",
              "      <td>-5.115789</td>\n",
              "      <td>3093.638815</td>\n",
              "      <td>1.794564</td>\n",
              "      <td>2.006057</td>\n",
              "      <td>83.453866</td>\n",
              "      <td>10291.0</td>\n",
              "      <td>1031.0</td>\n",
              "      <td>594.0</td>\n",
              "      <td>118.0</td>\n",
              "      <td>629.0</td>\n",
              "      <td>161.0</td>\n",
              "      <td>969.0</td>\n",
              "      <td>-2981.0</td>\n",
              "      <td>1156094.0</td>\n",
              "      <td>3.341993</td>\n",
              "      <td>557011.0</td>\n",
              "      <td>46969.0</td>\n",
              "      <td>1.035742e+06</td>\n",
              "      <td>428531.270000</td>\n",
              "      <td>90322.590000</td>\n",
              "      <td>70230.000000</td>\n",
              "    </tr>\n",
              "    <tr>\n",
              "      <th>1</th>\n",
              "      <td>57175.659828</td>\n",
              "      <td>87.998407</td>\n",
              "      <td>3927.115595</td>\n",
              "      <td>6836.939472</td>\n",
              "      <td>2975.285847</td>\n",
              "      <td>99.719858</td>\n",
              "      <td>99.755501</td>\n",
              "      <td>114.867841</td>\n",
              "      <td>100.276486</td>\n",
              "      <td>11091.0</td>\n",
              "      <td>5.234215</td>\n",
              "      <td>104.7094</td>\n",
              "      <td>110.0052</td>\n",
              "      <td>115.6614</td>\n",
              "      <td>116.8983</td>\n",
              "      <td>47.6</td>\n",
              "      <td>1.582820e+06</td>\n",
              "      <td>13696.0</td>\n",
              "      <td>15528.0</td>\n",
              "      <td>-0.2</td>\n",
              "      <td>2.97</td>\n",
              "      <td>3.377</td>\n",
              "      <td>117636.0</td>\n",
              "      <td>-79.0</td>\n",
              "      <td>-4.0</td>\n",
              "      <td>116.603578</td>\n",
              "      <td>13367.0</td>\n",
              "      <td>-26.128765</td>\n",
              "      <td>-57.030346</td>\n",
              "      <td>13629.0</td>\n",
              "      <td>-21.096509</td>\n",
              "      <td>-4.198226</td>\n",
              "      <td>-28.575950</td>\n",
              "      <td>-16.623657</td>\n",
              "      <td>-40.691569</td>\n",
              "      <td>14265.0</td>\n",
              "      <td>-10.045403</td>\n",
              "      <td>-8.198726</td>\n",
              "      <td>-18.664736</td>\n",
              "      <td>-16.655496</td>\n",
              "      <td>2.197078</td>\n",
              "      <td>-24.643299</td>\n",
              "      <td>2824.0</td>\n",
              "      <td>3912.0</td>\n",
              "      <td>18603.0</td>\n",
              "      <td>2192.0</td>\n",
              "      <td>0.590421</td>\n",
              "      <td>-4.132064</td>\n",
              "      <td>1.841867</td>\n",
              "      <td>-2.224320</td>\n",
              "      <td>3167.478461</td>\n",
              "      <td>2.386822</td>\n",
              "      <td>5.396564</td>\n",
              "      <td>83.945342</td>\n",
              "      <td>11750.0</td>\n",
              "      <td>1178.0</td>\n",
              "      <td>679.0</td>\n",
              "      <td>135.0</td>\n",
              "      <td>718.0</td>\n",
              "      <td>184.0</td>\n",
              "      <td>1104.0</td>\n",
              "      <td>-13327.0</td>\n",
              "      <td>1088826.0</td>\n",
              "      <td>2.285576</td>\n",
              "      <td>501961.0</td>\n",
              "      <td>44924.0</td>\n",
              "      <td>1.138045e+06</td>\n",
              "      <td>478707.330000</td>\n",
              "      <td>100410.660000</td>\n",
              "      <td>86567.000000</td>\n",
              "    </tr>\n",
              "    <tr>\n",
              "      <th>2</th>\n",
              "      <td>56814.700553</td>\n",
              "      <td>87.790155</td>\n",
              "      <td>3922.853376</td>\n",
              "      <td>6758.129439</td>\n",
              "      <td>2941.079313</td>\n",
              "      <td>103.347853</td>\n",
              "      <td>100.488998</td>\n",
              "      <td>117.070858</td>\n",
              "      <td>99.727612</td>\n",
              "      <td>14647.0</td>\n",
              "      <td>5.466012</td>\n",
              "      <td>104.4616</td>\n",
              "      <td>109.3938</td>\n",
              "      <td>114.5234</td>\n",
              "      <td>116.8947</td>\n",
              "      <td>48.3</td>\n",
              "      <td>1.521727e+06</td>\n",
              "      <td>13659.0</td>\n",
              "      <td>15535.0</td>\n",
              "      <td>0.0</td>\n",
              "      <td>2.96</td>\n",
              "      <td>3.881</td>\n",
              "      <td>107784.0</td>\n",
              "      <td>-49.0</td>\n",
              "      <td>2.0</td>\n",
              "      <td>116.701136</td>\n",
              "      <td>13937.0</td>\n",
              "      <td>4.264233</td>\n",
              "      <td>-43.784285</td>\n",
              "      <td>15326.0</td>\n",
              "      <td>12.451390</td>\n",
              "      <td>-5.142497</td>\n",
              "      <td>-24.097712</td>\n",
              "      <td>-6.406104</td>\n",
              "      <td>-42.219161</td>\n",
              "      <td>9943.0</td>\n",
              "      <td>-30.297932</td>\n",
              "      <td>-32.989621</td>\n",
              "      <td>18.702970</td>\n",
              "      <td>-19.271037</td>\n",
              "      <td>-6.795043</td>\n",
              "      <td>-24.848635</td>\n",
              "      <td>1764.0</td>\n",
              "      <td>6110.0</td>\n",
              "      <td>16986.0</td>\n",
              "      <td>1529.0</td>\n",
              "      <td>0.963854</td>\n",
              "      <td>-6.990265</td>\n",
              "      <td>0.682647</td>\n",
              "      <td>-4.591548</td>\n",
              "      <td>3164.474988</td>\n",
              "      <td>-0.094822</td>\n",
              "      <td>1.171330</td>\n",
              "      <td>83.954826</td>\n",
              "      <td>12333.0</td>\n",
              "      <td>1237.0</td>\n",
              "      <td>713.0</td>\n",
              "      <td>141.0</td>\n",
              "      <td>753.0</td>\n",
              "      <td>194.0</td>\n",
              "      <td>1158.0</td>\n",
              "      <td>-9852.0</td>\n",
              "      <td>1082825.0</td>\n",
              "      <td>1.924076</td>\n",
              "      <td>481100.0</td>\n",
              "      <td>46727.0</td>\n",
              "      <td>1.167742e+06</td>\n",
              "      <td>500866.450000</td>\n",
              "      <td>93384.280000</td>\n",
              "      <td>80451.000000</td>\n",
              "    </tr>\n",
              "    <tr>\n",
              "      <th>3</th>\n",
              "      <td>56916.813852</td>\n",
              "      <td>89.639867</td>\n",
              "      <td>3978.633479</td>\n",
              "      <td>6858.428982</td>\n",
              "      <td>2906.591249</td>\n",
              "      <td>111.718085</td>\n",
              "      <td>101.589242</td>\n",
              "      <td>122.811123</td>\n",
              "      <td>99.057287</td>\n",
              "      <td>14264.0</td>\n",
              "      <td>4.051479</td>\n",
              "      <td>103.6704</td>\n",
              "      <td>108.5543</td>\n",
              "      <td>113.1064</td>\n",
              "      <td>115.0098</td>\n",
              "      <td>48.8</td>\n",
              "      <td>1.606410e+06</td>\n",
              "      <td>13599.0</td>\n",
              "      <td>15434.0</td>\n",
              "      <td>0.1</td>\n",
              "      <td>2.52</td>\n",
              "      <td>4.084</td>\n",
              "      <td>107051.0</td>\n",
              "      <td>-240.0</td>\n",
              "      <td>-2.0</td>\n",
              "      <td>117.133258</td>\n",
              "      <td>16524.0</td>\n",
              "      <td>18.562101</td>\n",
              "      <td>-38.403042</td>\n",
              "      <td>13815.0</td>\n",
              "      <td>-9.859063</td>\n",
              "      <td>-0.275367</td>\n",
              "      <td>-38.585813</td>\n",
              "      <td>-20.856725</td>\n",
              "      <td>-42.061705</td>\n",
              "      <td>11065.0</td>\n",
              "      <td>11.284321</td>\n",
              "      <td>-35.458469</td>\n",
              "      <td>-19.327365</td>\n",
              "      <td>-20.971794</td>\n",
              "      <td>-3.430210</td>\n",
              "      <td>-30.219767</td>\n",
              "      <td>1858.0</td>\n",
              "      <td>3453.0</td>\n",
              "      <td>17294.0</td>\n",
              "      <td>1956.0</td>\n",
              "      <td>-0.014003</td>\n",
              "      <td>-2.546753</td>\n",
              "      <td>-2.911224</td>\n",
              "      <td>-2.905609</td>\n",
              "      <td>2955.033944</td>\n",
              "      <td>-6.618508</td>\n",
              "      <td>3.447412</td>\n",
              "      <td>84.977229</td>\n",
              "      <td>11583.0</td>\n",
              "      <td>1031.0</td>\n",
              "      <td>579.0</td>\n",
              "      <td>154.0</td>\n",
              "      <td>759.0</td>\n",
              "      <td>182.0</td>\n",
              "      <td>931.0</td>\n",
              "      <td>-733.0</td>\n",
              "      <td>1158286.0</td>\n",
              "      <td>5.986521</td>\n",
              "      <td>528843.0</td>\n",
              "      <td>53497.0</td>\n",
              "      <td>1.156788e+06</td>\n",
              "      <td>486063.840000</td>\n",
              "      <td>101642.940000</td>\n",
              "      <td>84739.000000</td>\n",
              "    </tr>\n",
              "    <tr>\n",
              "      <th>4</th>\n",
              "      <td>56194.246889</td>\n",
              "      <td>89.134818</td>\n",
              "      <td>3990.692209</td>\n",
              "      <td>6804.610846</td>\n",
              "      <td>2872.185063</td>\n",
              "      <td>117.525703</td>\n",
              "      <td>101.314181</td>\n",
              "      <td>123.968232</td>\n",
              "      <td>97.828232</td>\n",
              "      <td>12060.0</td>\n",
              "      <td>4.344198</td>\n",
              "      <td>103.0863</td>\n",
              "      <td>108.1126</td>\n",
              "      <td>112.0097</td>\n",
              "      <td>113.9287</td>\n",
              "      <td>48.8</td>\n",
              "      <td>1.656703e+06</td>\n",
              "      <td>13564.0</td>\n",
              "      <td>15379.0</td>\n",
              "      <td>-0.1</td>\n",
              "      <td>2.39</td>\n",
              "      <td>4.425</td>\n",
              "      <td>113941.0</td>\n",
              "      <td>-177.0</td>\n",
              "      <td>-6.0</td>\n",
              "      <td>117.579332</td>\n",
              "      <td>15452.0</td>\n",
              "      <td>-6.487533</td>\n",
              "      <td>-25.682955</td>\n",
              "      <td>14280.0</td>\n",
              "      <td>3.365907</td>\n",
              "      <td>3.671014</td>\n",
              "      <td>-36.439077</td>\n",
              "      <td>14.177437</td>\n",
              "      <td>-41.314554</td>\n",
              "      <td>14097.0</td>\n",
              "      <td>27.401717</td>\n",
              "      <td>-23.315019</td>\n",
              "      <td>5.938456</td>\n",
              "      <td>-11.584481</td>\n",
              "      <td>5.186474</td>\n",
              "      <td>-28.504667</td>\n",
              "      <td>2595.0</td>\n",
              "      <td>4587.0</td>\n",
              "      <td>17632.0</td>\n",
              "      <td>1637.0</td>\n",
              "      <td>-0.794587</td>\n",
              "      <td>-5.080068</td>\n",
              "      <td>3.273510</td>\n",
              "      <td>0.245110</td>\n",
              "      <td>3059.748460</td>\n",
              "      <td>3.543598</td>\n",
              "      <td>7.935335</td>\n",
              "      <td>84.692117</td>\n",
              "      <td>12336.0</td>\n",
              "      <td>1098.0</td>\n",
              "      <td>616.0</td>\n",
              "      <td>165.0</td>\n",
              "      <td>808.0</td>\n",
              "      <td>194.0</td>\n",
              "      <td>991.0</td>\n",
              "      <td>6890.0</td>\n",
              "      <td>1184144.0</td>\n",
              "      <td>7.940801</td>\n",
              "      <td>541259.0</td>\n",
              "      <td>53653.0</td>\n",
              "      <td>1.185090e+06</td>\n",
              "      <td>490618.980000</td>\n",
              "      <td>105424.640000</td>\n",
              "      <td>89548.000000</td>\n",
              "    </tr>\n",
              "    <tr>\n",
              "      <th>...</th>\n",
              "      <td>...</td>\n",
              "      <td>...</td>\n",
              "      <td>...</td>\n",
              "      <td>...</td>\n",
              "      <td>...</td>\n",
              "      <td>...</td>\n",
              "      <td>...</td>\n",
              "      <td>...</td>\n",
              "      <td>...</td>\n",
              "      <td>...</td>\n",
              "      <td>...</td>\n",
              "      <td>...</td>\n",
              "      <td>...</td>\n",
              "      <td>...</td>\n",
              "      <td>...</td>\n",
              "      <td>...</td>\n",
              "      <td>...</td>\n",
              "      <td>...</td>\n",
              "      <td>...</td>\n",
              "      <td>...</td>\n",
              "      <td>...</td>\n",
              "      <td>...</td>\n",
              "      <td>...</td>\n",
              "      <td>...</td>\n",
              "      <td>...</td>\n",
              "      <td>...</td>\n",
              "      <td>...</td>\n",
              "      <td>...</td>\n",
              "      <td>...</td>\n",
              "      <td>...</td>\n",
              "      <td>...</td>\n",
              "      <td>...</td>\n",
              "      <td>...</td>\n",
              "      <td>...</td>\n",
              "      <td>...</td>\n",
              "      <td>...</td>\n",
              "      <td>...</td>\n",
              "      <td>...</td>\n",
              "      <td>...</td>\n",
              "      <td>...</td>\n",
              "      <td>...</td>\n",
              "      <td>...</td>\n",
              "      <td>...</td>\n",
              "      <td>...</td>\n",
              "      <td>...</td>\n",
              "      <td>...</td>\n",
              "      <td>...</td>\n",
              "      <td>...</td>\n",
              "      <td>...</td>\n",
              "      <td>...</td>\n",
              "      <td>...</td>\n",
              "      <td>...</td>\n",
              "      <td>...</td>\n",
              "      <td>...</td>\n",
              "      <td>...</td>\n",
              "      <td>...</td>\n",
              "      <td>...</td>\n",
              "      <td>...</td>\n",
              "      <td>...</td>\n",
              "      <td>...</td>\n",
              "      <td>...</td>\n",
              "      <td>...</td>\n",
              "      <td>...</td>\n",
              "      <td>...</td>\n",
              "      <td>...</td>\n",
              "      <td>...</td>\n",
              "      <td>...</td>\n",
              "      <td>...</td>\n",
              "      <td>...</td>\n",
              "      <td>...</td>\n",
              "    </tr>\n",
              "    <tr>\n",
              "      <th>150</th>\n",
              "      <td>61469.059874</td>\n",
              "      <td>89.962431</td>\n",
              "      <td>4379.187334</td>\n",
              "      <td>6571.127779</td>\n",
              "      <td>2639.040651</td>\n",
              "      <td>115.128696</td>\n",
              "      <td>102.231051</td>\n",
              "      <td>113.578198</td>\n",
              "      <td>115.191063</td>\n",
              "      <td>19213.0</td>\n",
              "      <td>4.853593</td>\n",
              "      <td>101.8924</td>\n",
              "      <td>97.5812</td>\n",
              "      <td>95.6420</td>\n",
              "      <td>92.2754</td>\n",
              "      <td>54.2</td>\n",
              "      <td>2.034822e+06</td>\n",
              "      <td>12103.0</td>\n",
              "      <td>14785.0</td>\n",
              "      <td>2.0</td>\n",
              "      <td>3.07</td>\n",
              "      <td>2.434</td>\n",
              "      <td>177561.0</td>\n",
              "      <td>1761.0</td>\n",
              "      <td>3.0</td>\n",
              "      <td>125.056594</td>\n",
              "      <td>2898.0</td>\n",
              "      <td>-83.265000</td>\n",
              "      <td>-90.176271</td>\n",
              "      <td>14859.0</td>\n",
              "      <td>-25.612015</td>\n",
              "      <td>-16.432942</td>\n",
              "      <td>-14.241482</td>\n",
              "      <td>-33.586799</td>\n",
              "      <td>-56.006716</td>\n",
              "      <td>3866.0</td>\n",
              "      <td>-75.189321</td>\n",
              "      <td>-82.635645</td>\n",
              "      <td>-13.073806</td>\n",
              "      <td>-32.663197</td>\n",
              "      <td>-12.877938</td>\n",
              "      <td>-4.076380</td>\n",
              "      <td>1055.0</td>\n",
              "      <td>2182.0</td>\n",
              "      <td>10265.0</td>\n",
              "      <td>890.0</td>\n",
              "      <td>-11.868303</td>\n",
              "      <td>-13.644998</td>\n",
              "      <td>-12.597259</td>\n",
              "      <td>-20.941453</td>\n",
              "      <td>2202.067829</td>\n",
              "      <td>-14.351778</td>\n",
              "      <td>-23.680824</td>\n",
              "      <td>73.889363</td>\n",
              "      <td>15083.0</td>\n",
              "      <td>1015.0</td>\n",
              "      <td>604.0</td>\n",
              "      <td>134.0</td>\n",
              "      <td>750.0</td>\n",
              "      <td>205.0</td>\n",
              "      <td>1359.0</td>\n",
              "      <td>2134.0</td>\n",
              "      <td>1526490.0</td>\n",
              "      <td>-0.192121</td>\n",
              "      <td>513074.0</td>\n",
              "      <td>57503.0</td>\n",
              "      <td>1.095134e+06</td>\n",
              "      <td>393775.832112</td>\n",
              "      <td>125276.157772</td>\n",
              "      <td>103172.000000</td>\n",
              "    </tr>\n",
              "    <tr>\n",
              "      <th>151</th>\n",
              "      <td>62140.797176</td>\n",
              "      <td>90.641835</td>\n",
              "      <td>4404.415547</td>\n",
              "      <td>6601.260917</td>\n",
              "      <td>2676.666422</td>\n",
              "      <td>129.107598</td>\n",
              "      <td>104.339853</td>\n",
              "      <td>115.812566</td>\n",
              "      <td>114.911925</td>\n",
              "      <td>18302.0</td>\n",
              "      <td>4.735406</td>\n",
              "      <td>102.6619</td>\n",
              "      <td>99.2991</td>\n",
              "      <td>96.8567</td>\n",
              "      <td>93.6211</td>\n",
              "      <td>56.0</td>\n",
              "      <td>2.234365e+06</td>\n",
              "      <td>12133.0</td>\n",
              "      <td>15046.0</td>\n",
              "      <td>1.6</td>\n",
              "      <td>3.10</td>\n",
              "      <td>2.429</td>\n",
              "      <td>178914.0</td>\n",
              "      <td>1493.0</td>\n",
              "      <td>10.0</td>\n",
              "      <td>125.247269</td>\n",
              "      <td>5760.0</td>\n",
              "      <td>98.757764</td>\n",
              "      <td>-80.824289</td>\n",
              "      <td>11828.0</td>\n",
              "      <td>-20.398412</td>\n",
              "      <td>-9.182134</td>\n",
              "      <td>-24.026545</td>\n",
              "      <td>13.435626</td>\n",
              "      <td>-49.958769</td>\n",
              "      <td>7389.0</td>\n",
              "      <td>91.127781</td>\n",
              "      <td>-65.888001</td>\n",
              "      <td>-2.832193</td>\n",
              "      <td>-34.180655</td>\n",
              "      <td>-7.676672</td>\n",
              "      <td>-13.436249</td>\n",
              "      <td>1111.0</td>\n",
              "      <td>2590.0</td>\n",
              "      <td>8975.0</td>\n",
              "      <td>1795.0</td>\n",
              "      <td>3.278161</td>\n",
              "      <td>-10.970670</td>\n",
              "      <td>4.534112</td>\n",
              "      <td>-16.333248</td>\n",
              "      <td>2185.585205</td>\n",
              "      <td>-0.748507</td>\n",
              "      <td>-23.354863</td>\n",
              "      <td>74.533405</td>\n",
              "      <td>16134.0</td>\n",
              "      <td>1097.0</td>\n",
              "      <td>628.0</td>\n",
              "      <td>149.0</td>\n",
              "      <td>660.0</td>\n",
              "      <td>220.0</td>\n",
              "      <td>1671.0</td>\n",
              "      <td>1353.0</td>\n",
              "      <td>1575928.0</td>\n",
              "      <td>0.625716</td>\n",
              "      <td>546740.0</td>\n",
              "      <td>56478.0</td>\n",
              "      <td>1.108304e+06</td>\n",
              "      <td>389408.103791</td>\n",
              "      <td>125319.157772</td>\n",
              "      <td>93979.000000</td>\n",
              "    </tr>\n",
              "    <tr>\n",
              "      <th>152</th>\n",
              "      <td>62170.174317</td>\n",
              "      <td>90.587889</td>\n",
              "      <td>4381.188114</td>\n",
              "      <td>6556.745680</td>\n",
              "      <td>2600.808117</td>\n",
              "      <td>136.100117</td>\n",
              "      <td>105.898533</td>\n",
              "      <td>117.464895</td>\n",
              "      <td>115.470202</td>\n",
              "      <td>28766.0</td>\n",
              "      <td>4.404143</td>\n",
              "      <td>102.6008</td>\n",
              "      <td>99.1395</td>\n",
              "      <td>96.4458</td>\n",
              "      <td>95.8283</td>\n",
              "      <td>55.4</td>\n",
              "      <td>2.097868e+06</td>\n",
              "      <td>12193.0</td>\n",
              "      <td>15062.0</td>\n",
              "      <td>0.7</td>\n",
              "      <td>3.12</td>\n",
              "      <td>2.414</td>\n",
              "      <td>171718.0</td>\n",
              "      <td>711.0</td>\n",
              "      <td>4.0</td>\n",
              "      <td>125.216043</td>\n",
              "      <td>17650.0</td>\n",
              "      <td>206.423611</td>\n",
              "      <td>-38.653505</td>\n",
              "      <td>17327.0</td>\n",
              "      <td>46.491376</td>\n",
              "      <td>3.572362</td>\n",
              "      <td>-24.055345</td>\n",
              "      <td>17.536391</td>\n",
              "      <td>-41.280187</td>\n",
              "      <td>17192.0</td>\n",
              "      <td>132.670185</td>\n",
              "      <td>-19.678565</td>\n",
              "      <td>21.757348</td>\n",
              "      <td>-18.265938</td>\n",
              "      <td>3.496257</td>\n",
              "      <td>-13.570229</td>\n",
              "      <td>2316.0</td>\n",
              "      <td>3109.0</td>\n",
              "      <td>9413.0</td>\n",
              "      <td>2031.0</td>\n",
              "      <td>5.879324</td>\n",
              "      <td>-6.599121</td>\n",
              "      <td>10.985691</td>\n",
              "      <td>-6.677512</td>\n",
              "      <td>2400.291965</td>\n",
              "      <td>9.823765</td>\n",
              "      <td>-15.086221</td>\n",
              "      <td>79.181031</td>\n",
              "      <td>18288.0</td>\n",
              "      <td>1088.0</td>\n",
              "      <td>631.0</td>\n",
              "      <td>130.0</td>\n",
              "      <td>614.0</td>\n",
              "      <td>233.0</td>\n",
              "      <td>1711.0</td>\n",
              "      <td>-7196.0</td>\n",
              "      <td>1617044.0</td>\n",
              "      <td>5.475578</td>\n",
              "      <td>557748.0</td>\n",
              "      <td>59269.0</td>\n",
              "      <td>1.099329e+06</td>\n",
              "      <td>386298.700253</td>\n",
              "      <td>117576.128306</td>\n",
              "      <td>103129.000000</td>\n",
              "    </tr>\n",
              "    <tr>\n",
              "      <th>153</th>\n",
              "      <td>62870.759335</td>\n",
              "      <td>94.367218</td>\n",
              "      <td>4436.920215</td>\n",
              "      <td>6523.796564</td>\n",
              "      <td>2593.200335</td>\n",
              "      <td>140.122763</td>\n",
              "      <td>106.265281</td>\n",
              "      <td>117.793788</td>\n",
              "      <td>115.098017</td>\n",
              "      <td>36912.0</td>\n",
              "      <td>4.929913</td>\n",
              "      <td>103.5731</td>\n",
              "      <td>100.5127</td>\n",
              "      <td>97.7867</td>\n",
              "      <td>95.6011</td>\n",
              "      <td>59.3</td>\n",
              "      <td>2.242668e+06</td>\n",
              "      <td>12226.0</td>\n",
              "      <td>15157.0</td>\n",
              "      <td>0.8</td>\n",
              "      <td>3.13</td>\n",
              "      <td>2.389</td>\n",
              "      <td>161587.6</td>\n",
              "      <td>610.0</td>\n",
              "      <td>8.0</td>\n",
              "      <td>124.895221</td>\n",
              "      <td>17243.0</td>\n",
              "      <td>-2.305949</td>\n",
              "      <td>-44.332526</td>\n",
              "      <td>18460.0</td>\n",
              "      <td>6.538928</td>\n",
              "      <td>1.306495</td>\n",
              "      <td>-26.255378</td>\n",
              "      <td>-11.888071</td>\n",
              "      <td>-45.676211</td>\n",
              "      <td>16507.0</td>\n",
              "      <td>-3.984411</td>\n",
              "      <td>-8.533274</td>\n",
              "      <td>1.950027</td>\n",
              "      <td>-19.179220</td>\n",
              "      <td>1.187032</td>\n",
              "      <td>-11.834268</td>\n",
              "      <td>2508.0</td>\n",
              "      <td>3041.0</td>\n",
              "      <td>10338.0</td>\n",
              "      <td>2315.0</td>\n",
              "      <td>2.427460</td>\n",
              "      <td>-3.721000</td>\n",
              "      <td>6.261749</td>\n",
              "      <td>-2.097751</td>\n",
              "      <td>2619.082565</td>\n",
              "      <td>9.115166</td>\n",
              "      <td>-9.409367</td>\n",
              "      <td>86.344661</td>\n",
              "      <td>19991.0</td>\n",
              "      <td>1150.0</td>\n",
              "      <td>640.0</td>\n",
              "      <td>144.0</td>\n",
              "      <td>611.0</td>\n",
              "      <td>241.0</td>\n",
              "      <td>2018.0</td>\n",
              "      <td>-10130.4</td>\n",
              "      <td>1705714.0</td>\n",
              "      <td>9.817290</td>\n",
              "      <td>591616.0</td>\n",
              "      <td>60708.0</td>\n",
              "      <td>1.186353e+06</td>\n",
              "      <td>410614.677268</td>\n",
              "      <td>123604.184721</td>\n",
              "      <td>105255.000000</td>\n",
              "    </tr>\n",
              "    <tr>\n",
              "      <th>154</th>\n",
              "      <td>63237.027387</td>\n",
              "      <td>95.404858</td>\n",
              "      <td>4457.161049</td>\n",
              "      <td>6528.943165</td>\n",
              "      <td>2589.965347</td>\n",
              "      <td>138.706256</td>\n",
              "      <td>107.591849</td>\n",
              "      <td>119.272026</td>\n",
              "      <td>116.095115</td>\n",
              "      <td>49818.0</td>\n",
              "      <td>6.896195</td>\n",
              "      <td>103.9818</td>\n",
              "      <td>100.5775</td>\n",
              "      <td>97.3144</td>\n",
              "      <td>96.0137</td>\n",
              "      <td>57.5</td>\n",
              "      <td>2.064445e+06</td>\n",
              "      <td>12253.0</td>\n",
              "      <td>15122.0</td>\n",
              "      <td>0.6</td>\n",
              "      <td>3.09</td>\n",
              "      <td>2.432</td>\n",
              "      <td>145466.0</td>\n",
              "      <td>245.0</td>\n",
              "      <td>12.0</td>\n",
              "      <td>124.974666</td>\n",
              "      <td>17059.0</td>\n",
              "      <td>-1.067100</td>\n",
              "      <td>-40.321847</td>\n",
              "      <td>21487.0</td>\n",
              "      <td>16.397616</td>\n",
              "      <td>-3.564758</td>\n",
              "      <td>-30.932695</td>\n",
              "      <td>6.968110</td>\n",
              "      <td>-44.598585</td>\n",
              "      <td>17900.5</td>\n",
              "      <td>8.441873</td>\n",
              "      <td>-18.210271</td>\n",
              "      <td>8.105860</td>\n",
              "      <td>-16.874177</td>\n",
              "      <td>2.356025</td>\n",
              "      <td>-12.632045</td>\n",
              "      <td>715.5</td>\n",
              "      <td>3111.0</td>\n",
              "      <td>11063.0</td>\n",
              "      <td>1949.0</td>\n",
              "      <td>1.092806</td>\n",
              "      <td>-3.333724</td>\n",
              "      <td>1.040215</td>\n",
              "      <td>0.158481</td>\n",
              "      <td>2647.393281</td>\n",
              "      <td>1.080940</td>\n",
              "      <td>-7.568920</td>\n",
              "      <td>86.996743</td>\n",
              "      <td>17809.0</td>\n",
              "      <td>994.0</td>\n",
              "      <td>562.0</td>\n",
              "      <td>149.0</td>\n",
              "      <td>544.0</td>\n",
              "      <td>205.0</td>\n",
              "      <td>1601.0</td>\n",
              "      <td>-16121.6</td>\n",
              "      <td>1565892.0</td>\n",
              "      <td>8.110988</td>\n",
              "      <td>554324.0</td>\n",
              "      <td>57649.0</td>\n",
              "      <td>1.135686e+06</td>\n",
              "      <td>365926.096985</td>\n",
              "      <td>130627.239881</td>\n",
              "      <td>102805.965936</td>\n",
              "    </tr>\n",
              "  </tbody>\n",
              "</table>\n",
              "<p>155 rows × 70 columns</p>\n",
              "</div>"
            ],
            "text/plain": [
              "     FTR Truck Loadings (000s, SA)_freight_m_trucking  ...  Western Canadian Port Activity, Total TEUs_Exports_x\n",
              "0                                        57633.608984  ...                                       70230.000000   \n",
              "1                                        57175.659828  ...                                       86567.000000   \n",
              "2                                        56814.700553  ...                                       80451.000000   \n",
              "3                                        56916.813852  ...                                       84739.000000   \n",
              "4                                        56194.246889  ...                                       89548.000000   \n",
              "..                                                ...  ...                                                ...   \n",
              "150                                      61469.059874  ...                                      103172.000000   \n",
              "151                                      62140.797176  ...                                       93979.000000   \n",
              "152                                      62170.174317  ...                                      103129.000000   \n",
              "153                                      62870.759335  ...                                      105255.000000   \n",
              "154                                      63237.027387  ...                                      102805.965936   \n",
              "\n",
              "[155 rows x 70 columns]"
            ]
          },
          "metadata": {
            "tags": []
          },
          "execution_count": 15
        }
      ]
    },
    {
      "cell_type": "code",
      "metadata": {
        "colab": {
          "base_uri": "https://localhost:8080/",
          "height": 513
        },
        "id": "K3n4p-tr6Qn1",
        "outputId": "27c3fc7e-c768-4f1c-bca3-61824aa5ef6a"
      },
      "source": [
        "plt.figure(figsize=[15,8])\n",
        "plt.plot(sales['Year_Month'],sales['Sum of Sales'])\n",
        "plt.title('Monthly Sum of Sales of Books Department')\n",
        "plt.xlabel('Date')\n",
        "plt.ylabel('Sales')\n",
        "plt.show()"
      ],
      "execution_count": 5,
      "outputs": [
        {
          "output_type": "display_data",
          "data": {
            "image/png": "[encoded data removed]",
            "text/plain": [
              "<Figure size 1080x576 with 1 Axes>"
            ]
          },
          "metadata": {
            "tags": [],
            "needs_background": "light"
          }
        }
      ]
    },
    {
      "cell_type": "code",
      "metadata": {
        "colab": {
          "base_uri": "https://localhost:8080/"
        },
        "id": "L684FxgN4tCE",
        "outputId": "107cd254-9d40-4d8d-bb2b-5514976fc0c0"
      },
      "source": [
        "ad_fuller_result = adfuller(sales['Sum of Sales'])\r\n",
        "print(f'ADF Statistic: {ad_fuller_result[0]}')\r\n",
        "print(f'p-value: {ad_fuller_result[1]}')"
      ],
      "execution_count": 6,
      "outputs": [
        {
          "output_type": "stream",
          "text": [
            "ADF Statistic: -2.5489088668534055\n",
            "p-value: 0.10402307648031173\n"
          ],
          "name": "stdout"
        }
      ]
    },
    {
      "cell_type": "markdown",
      "metadata": {
        "id": "W2QG1lx85L4p"
      },
      "source": [
        "Since the p-value is greater than 0.5, we cannot reject null hypothesis and must assume that the series is not stationary."
      ]
    },
    {
      "cell_type": "code",
      "metadata": {
        "colab": {
          "base_uri": "https://localhost:8080/",
          "height": 419
        },
        "id": "sxdSNYZh5Y83",
        "outputId": "40cdcc05-f0b4-46a9-af23-f4658576a288"
      },
      "source": [
        "sales['sales_diffed'] = sales['Sum of Sales'].diff(1)\r\n",
        "sales"
      ],
      "execution_count": 7,
      "outputs": [
        {
          "output_type": "execute_result",
          "data": {
            "text/html": [
              "<div>\n",
              "<style scoped>\n",
              "    .dataframe tbody tr th:only-of-type {\n",
              "        vertical-align: middle;\n",
              "    }\n",
              "\n",
              "    .dataframe tbody tr th {\n",
              "        vertical-align: top;\n",
              "    }\n",
              "\n",
              "    .dataframe thead th {\n",
              "        text-align: right;\n",
              "    }\n",
              "</style>\n",
              "<table border=\"1\" class=\"dataframe\">\n",
              "  <thead>\n",
              "    <tr style=\"text-align: right;\">\n",
              "      <th></th>\n",
              "      <th>Year_Month</th>\n",
              "      <th>Sum of Sales</th>\n",
              "      <th>sales_diffed</th>\n",
              "    </tr>\n",
              "  </thead>\n",
              "  <tbody>\n",
              "    <tr>\n",
              "      <th>0</th>\n",
              "      <td>2008-01</td>\n",
              "      <td>282604.11</td>\n",
              "      <td>NaN</td>\n",
              "    </tr>\n",
              "    <tr>\n",
              "      <th>1</th>\n",
              "      <td>2008-02</td>\n",
              "      <td>262474.40</td>\n",
              "      <td>-20129.71</td>\n",
              "    </tr>\n",
              "    <tr>\n",
              "      <th>2</th>\n",
              "      <td>2008-03</td>\n",
              "      <td>326059.68</td>\n",
              "      <td>63585.28</td>\n",
              "    </tr>\n",
              "    <tr>\n",
              "      <th>3</th>\n",
              "      <td>2008-04</td>\n",
              "      <td>215387.49</td>\n",
              "      <td>-110672.19</td>\n",
              "    </tr>\n",
              "    <tr>\n",
              "      <th>4</th>\n",
              "      <td>2008-05</td>\n",
              "      <td>499559.90</td>\n",
              "      <td>284172.41</td>\n",
              "    </tr>\n",
              "    <tr>\n",
              "      <th>...</th>\n",
              "      <td>...</td>\n",
              "      <td>...</td>\n",
              "      <td>...</td>\n",
              "    </tr>\n",
              "    <tr>\n",
              "      <th>150</th>\n",
              "      <td>2020-07</td>\n",
              "      <td>150348.10</td>\n",
              "      <td>13635.82</td>\n",
              "    </tr>\n",
              "    <tr>\n",
              "      <th>151</th>\n",
              "      <td>2020-08</td>\n",
              "      <td>156066.95</td>\n",
              "      <td>5718.85</td>\n",
              "    </tr>\n",
              "    <tr>\n",
              "      <th>152</th>\n",
              "      <td>2020-09</td>\n",
              "      <td>468710.96</td>\n",
              "      <td>312644.01</td>\n",
              "    </tr>\n",
              "    <tr>\n",
              "      <th>153</th>\n",
              "      <td>2020-10</td>\n",
              "      <td>1118446.80</td>\n",
              "      <td>649735.84</td>\n",
              "    </tr>\n",
              "    <tr>\n",
              "      <th>154</th>\n",
              "      <td>2020-11</td>\n",
              "      <td>429166.77</td>\n",
              "      <td>-689280.03</td>\n",
              "    </tr>\n",
              "  </tbody>\n",
              "</table>\n",
              "<p>155 rows × 3 columns</p>\n",
              "</div>"
            ],
            "text/plain": [
              "    Year_Month  Sum of Sales  sales_diffed\n",
              "0      2008-01     282604.11           NaN\n",
              "1      2008-02     262474.40     -20129.71\n",
              "2      2008-03     326059.68      63585.28\n",
              "3      2008-04     215387.49    -110672.19\n",
              "4      2008-05     499559.90     284172.41\n",
              "..         ...           ...           ...\n",
              "150    2020-07     150348.10      13635.82\n",
              "151    2020-08     156066.95       5718.85\n",
              "152    2020-09     468710.96     312644.01\n",
              "153    2020-10    1118446.80     649735.84\n",
              "154    2020-11     429166.77    -689280.03\n",
              "\n",
              "[155 rows x 3 columns]"
            ]
          },
          "metadata": {
            "tags": []
          },
          "execution_count": 7
        }
      ]
    },
    {
      "cell_type": "code",
      "metadata": {
        "colab": {
          "base_uri": "https://localhost:8080/"
        },
        "id": "rnc8yTOv7nYt",
        "outputId": "317449b2-7442-4c54-ec80-ba5c42ccfdca"
      },
      "source": [
        "ad_fuller_result = adfuller(sales['sales_diffed'][1:])\r\n",
        "print(f'ADF Statistic: {ad_fuller_result[0]}')\r\n",
        "print(f'p-value: {ad_fuller_result[1]}')"
      ],
      "execution_count": 8,
      "outputs": [
        {
          "output_type": "stream",
          "text": [
            "ADF Statistic: -5.799805714064923\n",
            "p-value: 4.6595513291859336e-07\n"
          ],
          "name": "stdout"
        }
      ]
    },
    {
      "cell_type": "code",
      "metadata": {
        "colab": {
          "base_uri": "https://localhost:8080/",
          "height": 499
        },
        "id": "TKOFWQA86s9-",
        "outputId": "f40aacd7-caed-4f17-bfa9-d68c90a3b704"
      },
      "source": [
        "fig, ax = plt.subplots(2,1, figsize= (12,8))\n",
        "fig = sm.graphics.tsa.plot_acf(sales['sales_diffed'][1:], lags=50, ax=ax[0])\n",
        "fig = sm.graphics.tsa.plot_pacf(sales['sales_diffed'][1:], lags=50, ax=ax[1])\n",
        "plt.show()"
      ],
      "execution_count": 9,
      "outputs": [
        {
          "output_type": "display_data",
          "data": {
            "image/png": "[encoded data removed]",
            "text/plain": [
              "<Figure size 864x576 with 2 Axes>"
            ]
          },
          "metadata": {
            "tags": [],
            "needs_background": "light"
          }
        }
      ]
    },
    {
      "cell_type": "code",
      "metadata": {
        "id": "lpKOX1yF4sVo"
      },
      "source": [
        ""
      ],
      "execution_count": null,
      "outputs": []
    },
    {
      "cell_type": "markdown",
      "metadata": {
        "id": "bLGEh8Ad3Pog"
      },
      "source": [
        "# New Section"
      ]
    },
    {
      "cell_type": "code",
      "metadata": {
        "colab": {
          "base_uri": "https://localhost:8080/"
        },
        "id": "6TyDuvVkEkRQ",
        "outputId": "67384564-1d6c-4643-9aeb-5c7832bbcbf7"
      },
      "source": [
        "p = range(0,4)\r\n",
        "d = range(1,2)\r\n",
        "q = range(0,4)\r\n",
        "pdq = list(itertools.product(p, d, q))\r\n",
        "seasonal_pdq = [(x[0], x[1], x[2], 12) for x in list(itertools.product(p, d, q))]\r\n",
        "\r\n",
        "df = pd.DataFrame()\r\n",
        "for param in pdq:\r\n",
        "    for param_seasonal in seasonal_pdq:\r\n",
        "        try:\r\n",
        "            mod = sm.tsa.statespace.SARIMAX(sales['Sum of Sales'],\r\n",
        "                                            exog = exog,\r\n",
        "                                            order=param,\r\n",
        "                                            seasonal_order=param_seasonal,\r\n",
        "                                            enforce_stationarity=False,\r\n",
        "                                            enforce_invertibility=False)\r\n",
        "            results = mod.fit()\r\n",
        "            print('ARIMA{}x{}- AIC:{}'.format(param, param_seasonal, results.aic))\r\n",
        "\r\n",
        "            combo = [(param,param_seasonal,results.aic)]\r\n",
        "            df = df.append(combo)\r\n",
        "            print(\" \")\r\n",
        "        except:\r\n",
        "            continue\r\n",
        "df.columns = ['param','param_seasonal', 'AIC']"
      ],
      "execution_count": 16,
      "outputs": [
        {
          "output_type": "stream",
          "text": [
            "ARIMA(0, 1, 0)x(0, 1, 0, 12)- AIC:4373.9493785983595\n",
            " \n"
          ],
          "name": "stdout"
        },
        {
          "output_type": "stream",
          "text": [
            "/usr/local/lib/python3.7/dist-packages/statsmodels/base/model.py:512: ConvergenceWarning: Maximum Likelihood optimization failed to converge. Check mle_retvals\n",
            "  \"Check mle_retvals\", ConvergenceWarning)\n"
          ],
          "name": "stderr"
        },
        {
          "output_type": "stream",
          "text": [
            "ARIMA(0, 1, 0)x(0, 1, 1, 12)- AIC:3508.396441182058\n",
            " \n"
          ],
          "name": "stdout"
        },
        {
          "output_type": "stream",
          "text": [
            "/usr/local/lib/python3.7/dist-packages/statsmodels/base/model.py:512: ConvergenceWarning: Maximum Likelihood optimization failed to converge. Check mle_retvals\n",
            "  \"Check mle_retvals\", ConvergenceWarning)\n"
          ],
          "name": "stderr"
        },
        {
          "output_type": "stream",
          "text": [
            "ARIMA(0, 1, 0)x(0, 1, 2, 12)- AIC:3193.2448146069223\n",
            " \n",
            "ARIMA(0, 1, 0)x(0, 1, 3, 12)- AIC:9044.622376871053\n",
            " \n"
          ],
          "name": "stdout"
        },
        {
          "output_type": "stream",
          "text": [
            "/usr/local/lib/python3.7/dist-packages/statsmodels/base/model.py:512: ConvergenceWarning: Maximum Likelihood optimization failed to converge. Check mle_retvals\n",
            "  \"Check mle_retvals\", ConvergenceWarning)\n"
          ],
          "name": "stderr"
        },
        {
          "output_type": "stream",
          "text": [
            "ARIMA(0, 1, 0)x(1, 1, 0, 12)- AIC:3533.4383589482172\n",
            " \n"
          ],
          "name": "stdout"
        },
        {
          "output_type": "stream",
          "text": [
            "/usr/local/lib/python3.7/dist-packages/statsmodels/base/model.py:512: ConvergenceWarning: Maximum Likelihood optimization failed to converge. Check mle_retvals\n",
            "  \"Check mle_retvals\", ConvergenceWarning)\n"
          ],
          "name": "stderr"
        },
        {
          "output_type": "stream",
          "text": [
            "ARIMA(0, 1, 0)x(1, 1, 1, 12)- AIC:3509.8063097192817\n",
            " \n"
          ],
          "name": "stdout"
        },
        {
          "output_type": "stream",
          "text": [
            "/usr/local/lib/python3.7/dist-packages/statsmodels/base/model.py:512: ConvergenceWarning: Maximum Likelihood optimization failed to converge. Check mle_retvals\n",
            "  \"Check mle_retvals\", ConvergenceWarning)\n"
          ],
          "name": "stderr"
        },
        {
          "output_type": "stream",
          "text": [
            "ARIMA(0, 1, 0)x(1, 1, 2, 12)- AIC:3195.3357272605217\n",
            " \n",
            "ARIMA(0, 1, 0)x(1, 1, 3, 12)- AIC:9210.288263251852\n",
            " \n"
          ],
          "name": "stdout"
        },
        {
          "output_type": "stream",
          "text": [
            "/usr/local/lib/python3.7/dist-packages/statsmodels/base/model.py:512: ConvergenceWarning: Maximum Likelihood optimization failed to converge. Check mle_retvals\n",
            "  \"Check mle_retvals\", ConvergenceWarning)\n"
          ],
          "name": "stderr"
        },
        {
          "output_type": "stream",
          "text": [
            "ARIMA(0, 1, 0)x(2, 1, 0, 12)- AIC:3216.5867010273537\n",
            " \n"
          ],
          "name": "stdout"
        },
        {
          "output_type": "stream",
          "text": [
            "/usr/local/lib/python3.7/dist-packages/statsmodels/base/model.py:512: ConvergenceWarning: Maximum Likelihood optimization failed to converge. Check mle_retvals\n",
            "  \"Check mle_retvals\", ConvergenceWarning)\n"
          ],
          "name": "stderr"
        },
        {
          "output_type": "stream",
          "text": [
            "ARIMA(0, 1, 0)x(2, 1, 1, 12)- AIC:3217.788168328135\n",
            " \n"
          ],
          "name": "stdout"
        },
        {
          "output_type": "stream",
          "text": [
            "/usr/local/lib/python3.7/dist-packages/statsmodels/base/model.py:512: ConvergenceWarning: Maximum Likelihood optimization failed to converge. Check mle_retvals\n",
            "  \"Check mle_retvals\", ConvergenceWarning)\n"
          ],
          "name": "stderr"
        },
        {
          "output_type": "stream",
          "text": [
            "ARIMA(0, 1, 0)x(2, 1, 2, 12)- AIC:3195.198719715115\n",
            " \n",
            "ARIMA(0, 1, 0)x(2, 1, 3, 12)- AIC:9133.610177644776\n",
            " \n"
          ],
          "name": "stdout"
        },
        {
          "output_type": "stream",
          "text": [
            "/usr/local/lib/python3.7/dist-packages/statsmodels/base/model.py:512: ConvergenceWarning: Maximum Likelihood optimization failed to converge. Check mle_retvals\n",
            "  \"Check mle_retvals\", ConvergenceWarning)\n"
          ],
          "name": "stderr"
        },
        {
          "output_type": "stream",
          "text": [
            "ARIMA(0, 1, 0)x(3, 1, 0, 12)- AIC:2904.150186418607\n",
            " \n"
          ],
          "name": "stdout"
        },
        {
          "output_type": "stream",
          "text": [
            "/usr/local/lib/python3.7/dist-packages/statsmodels/base/model.py:512: ConvergenceWarning: Maximum Likelihood optimization failed to converge. Check mle_retvals\n",
            "  \"Check mle_retvals\", ConvergenceWarning)\n"
          ],
          "name": "stderr"
        },
        {
          "output_type": "stream",
          "text": [
            "ARIMA(0, 1, 0)x(3, 1, 1, 12)- AIC:2906.410956771907\n",
            " \n"
          ],
          "name": "stdout"
        },
        {
          "output_type": "stream",
          "text": [
            "/usr/local/lib/python3.7/dist-packages/statsmodels/base/model.py:512: ConvergenceWarning: Maximum Likelihood optimization failed to converge. Check mle_retvals\n",
            "  \"Check mle_retvals\", ConvergenceWarning)\n"
          ],
          "name": "stderr"
        },
        {
          "output_type": "stream",
          "text": [
            "ARIMA(0, 1, 0)x(3, 1, 2, 12)- AIC:2904.1502248474244\n",
            " \n",
            "ARIMA(0, 1, 0)x(3, 1, 3, 12)- AIC:9303.634422046827\n",
            " \n"
          ],
          "name": "stdout"
        },
        {
          "output_type": "stream",
          "text": [
            "/usr/local/lib/python3.7/dist-packages/statsmodels/base/model.py:512: ConvergenceWarning: Maximum Likelihood optimization failed to converge. Check mle_retvals\n",
            "  \"Check mle_retvals\", ConvergenceWarning)\n"
          ],
          "name": "stderr"
        },
        {
          "output_type": "stream",
          "text": [
            "ARIMA(0, 1, 1)x(0, 1, 0, 12)- AIC:3789.2112771188704\n",
            " \n"
          ],
          "name": "stdout"
        },
        {
          "output_type": "stream",
          "text": [
            "/usr/local/lib/python3.7/dist-packages/statsmodels/base/model.py:512: ConvergenceWarning: Maximum Likelihood optimization failed to converge. Check mle_retvals\n",
            "  \"Check mle_retvals\", ConvergenceWarning)\n"
          ],
          "name": "stderr"
        },
        {
          "output_type": "stream",
          "text": [
            "ARIMA(0, 1, 1)x(0, 1, 1, 12)- AIC:3482.286152197547\n",
            " \n"
          ],
          "name": "stdout"
        },
        {
          "output_type": "stream",
          "text": [
            "/usr/local/lib/python3.7/dist-packages/statsmodels/base/model.py:512: ConvergenceWarning: Maximum Likelihood optimization failed to converge. Check mle_retvals\n",
            "  \"Check mle_retvals\", ConvergenceWarning)\n"
          ],
          "name": "stderr"
        },
        {
          "output_type": "stream",
          "text": [
            "ARIMA(0, 1, 1)x(0, 1, 2, 12)- AIC:3168.740547206946\n",
            " \n"
          ],
          "name": "stdout"
        },
        {
          "output_type": "stream",
          "text": [
            "/usr/local/lib/python3.7/dist-packages/statsmodels/base/model.py:512: ConvergenceWarning: Maximum Likelihood optimization failed to converge. Check mle_retvals\n",
            "  \"Check mle_retvals\", ConvergenceWarning)\n"
          ],
          "name": "stderr"
        },
        {
          "output_type": "stream",
          "text": [
            "ARIMA(0, 1, 1)x(0, 1, 3, 12)- AIC:8948.435870736172\n",
            " \n"
          ],
          "name": "stdout"
        },
        {
          "output_type": "stream",
          "text": [
            "/usr/local/lib/python3.7/dist-packages/statsmodels/base/model.py:512: ConvergenceWarning: Maximum Likelihood optimization failed to converge. Check mle_retvals\n",
            "  \"Check mle_retvals\", ConvergenceWarning)\n"
          ],
          "name": "stderr"
        },
        {
          "output_type": "stream",
          "text": [
            "ARIMA(0, 1, 1)x(1, 1, 0, 12)- AIC:3533.5059477531963\n",
            " \n"
          ],
          "name": "stdout"
        },
        {
          "output_type": "stream",
          "text": [
            "/usr/local/lib/python3.7/dist-packages/statsmodels/base/model.py:512: ConvergenceWarning: Maximum Likelihood optimization failed to converge. Check mle_retvals\n",
            "  \"Check mle_retvals\", ConvergenceWarning)\n"
          ],
          "name": "stderr"
        },
        {
          "output_type": "stream",
          "text": [
            "ARIMA(0, 1, 1)x(1, 1, 1, 12)- AIC:3484.5588945187696\n",
            " \n"
          ],
          "name": "stdout"
        },
        {
          "output_type": "stream",
          "text": [
            "/usr/local/lib/python3.7/dist-packages/statsmodels/base/model.py:512: ConvergenceWarning: Maximum Likelihood optimization failed to converge. Check mle_retvals\n",
            "  \"Check mle_retvals\", ConvergenceWarning)\n"
          ],
          "name": "stderr"
        },
        {
          "output_type": "stream",
          "text": [
            "ARIMA(0, 1, 1)x(1, 1, 2, 12)- AIC:3170.8213184122906\n",
            " \n",
            "ARIMA(0, 1, 1)x(1, 1, 3, 12)- AIC:9112.302179027716\n",
            " \n"
          ],
          "name": "stdout"
        },
        {
          "output_type": "stream",
          "text": [
            "/usr/local/lib/python3.7/dist-packages/statsmodels/base/model.py:512: ConvergenceWarning: Maximum Likelihood optimization failed to converge. Check mle_retvals\n",
            "  \"Check mle_retvals\", ConvergenceWarning)\n"
          ],
          "name": "stderr"
        },
        {
          "output_type": "stream",
          "text": [
            "ARIMA(0, 1, 1)x(2, 1, 0, 12)- AIC:3218.7185097263637\n",
            " \n"
          ],
          "name": "stdout"
        },
        {
          "output_type": "stream",
          "text": [
            "/usr/local/lib/python3.7/dist-packages/statsmodels/base/model.py:512: ConvergenceWarning: Maximum Likelihood optimization failed to converge. Check mle_retvals\n",
            "  \"Check mle_retvals\", ConvergenceWarning)\n"
          ],
          "name": "stderr"
        },
        {
          "output_type": "stream",
          "text": [
            "ARIMA(0, 1, 1)x(2, 1, 1, 12)- AIC:3219.958583409059\n",
            " \n"
          ],
          "name": "stdout"
        },
        {
          "output_type": "stream",
          "text": [
            "/usr/local/lib/python3.7/dist-packages/statsmodels/base/model.py:512: ConvergenceWarning: Maximum Likelihood optimization failed to converge. Check mle_retvals\n",
            "  \"Check mle_retvals\", ConvergenceWarning)\n"
          ],
          "name": "stderr"
        },
        {
          "output_type": "stream",
          "text": [
            "ARIMA(0, 1, 1)x(2, 1, 2, 12)- AIC:3170.6779917066838\n",
            " \n",
            "ARIMA(0, 1, 1)x(2, 1, 3, 12)- AIC:9035.1841208755\n",
            " \n"
          ],
          "name": "stdout"
        },
        {
          "output_type": "stream",
          "text": [
            "/usr/local/lib/python3.7/dist-packages/statsmodels/base/model.py:512: ConvergenceWarning: Maximum Likelihood optimization failed to converge. Check mle_retvals\n",
            "  \"Check mle_retvals\", ConvergenceWarning)\n"
          ],
          "name": "stderr"
        },
        {
          "output_type": "stream",
          "text": [
            "ARIMA(0, 1, 1)x(3, 1, 0, 12)- AIC:2906.1436930620534\n",
            " \n"
          ],
          "name": "stdout"
        },
        {
          "output_type": "stream",
          "text": [
            "/usr/local/lib/python3.7/dist-packages/statsmodels/base/model.py:512: ConvergenceWarning: Maximum Likelihood optimization failed to converge. Check mle_retvals\n",
            "  \"Check mle_retvals\", ConvergenceWarning)\n"
          ],
          "name": "stderr"
        },
        {
          "output_type": "stream",
          "text": [
            "ARIMA(0, 1, 1)x(3, 1, 1, 12)- AIC:2908.369477653121\n",
            " \n"
          ],
          "name": "stdout"
        },
        {
          "output_type": "stream",
          "text": [
            "/usr/local/lib/python3.7/dist-packages/statsmodels/base/model.py:512: ConvergenceWarning: Maximum Likelihood optimization failed to converge. Check mle_retvals\n",
            "  \"Check mle_retvals\", ConvergenceWarning)\n"
          ],
          "name": "stderr"
        },
        {
          "output_type": "stream",
          "text": [
            "ARIMA(0, 1, 1)x(3, 1, 2, 12)- AIC:2905.2886202759396\n",
            " \n",
            "ARIMA(0, 1, 1)x(3, 1, 3, 12)- AIC:9207.872543434412\n",
            " \n"
          ],
          "name": "stdout"
        },
        {
          "output_type": "stream",
          "text": [
            "/usr/local/lib/python3.7/dist-packages/statsmodels/base/model.py:512: ConvergenceWarning: Maximum Likelihood optimization failed to converge. Check mle_retvals\n",
            "  \"Check mle_retvals\", ConvergenceWarning)\n"
          ],
          "name": "stderr"
        },
        {
          "output_type": "stream",
          "text": [
            "ARIMA(0, 1, 2)x(0, 1, 0, 12)- AIC:3765.2367236474347\n",
            " \n"
          ],
          "name": "stdout"
        },
        {
          "output_type": "stream",
          "text": [
            "/usr/local/lib/python3.7/dist-packages/statsmodels/base/model.py:512: ConvergenceWarning: Maximum Likelihood optimization failed to converge. Check mle_retvals\n",
            "  \"Check mle_retvals\", ConvergenceWarning)\n"
          ],
          "name": "stderr"
        },
        {
          "output_type": "stream",
          "text": [
            "ARIMA(0, 1, 2)x(0, 1, 1, 12)- AIC:3456.222657995871\n",
            " \n"
          ],
          "name": "stdout"
        },
        {
          "output_type": "stream",
          "text": [
            "/usr/local/lib/python3.7/dist-packages/statsmodels/base/model.py:512: ConvergenceWarning: Maximum Likelihood optimization failed to converge. Check mle_retvals\n",
            "  \"Check mle_retvals\", ConvergenceWarning)\n"
          ],
          "name": "stderr"
        },
        {
          "output_type": "stream",
          "text": [
            "ARIMA(0, 1, 2)x(0, 1, 2, 12)- AIC:3144.660084234985\n",
            " \n",
            "ARIMA(0, 1, 2)x(0, 1, 3, 12)- AIC:9198.31917187381\n",
            " \n"
          ],
          "name": "stdout"
        },
        {
          "output_type": "stream",
          "text": [
            "/usr/local/lib/python3.7/dist-packages/statsmodels/base/model.py:512: ConvergenceWarning: Maximum Likelihood optimization failed to converge. Check mle_retvals\n",
            "  \"Check mle_retvals\", ConvergenceWarning)\n"
          ],
          "name": "stderr"
        },
        {
          "output_type": "stream",
          "text": [
            "ARIMA(0, 1, 2)x(1, 1, 0, 12)- AIC:3533.225742363412\n",
            " \n"
          ],
          "name": "stdout"
        },
        {
          "output_type": "stream",
          "text": [
            "/usr/local/lib/python3.7/dist-packages/statsmodels/base/model.py:512: ConvergenceWarning: Maximum Likelihood optimization failed to converge. Check mle_retvals\n",
            "  \"Check mle_retvals\", ConvergenceWarning)\n"
          ],
          "name": "stderr"
        },
        {
          "output_type": "stream",
          "text": [
            "ARIMA(0, 1, 2)x(1, 1, 1, 12)- AIC:3458.3095749155987\n",
            " \n"
          ],
          "name": "stdout"
        },
        {
          "output_type": "stream",
          "text": [
            "/usr/local/lib/python3.7/dist-packages/statsmodels/base/model.py:512: ConvergenceWarning: Maximum Likelihood optimization failed to converge. Check mle_retvals\n",
            "  \"Check mle_retvals\", ConvergenceWarning)\n"
          ],
          "name": "stderr"
        },
        {
          "output_type": "stream",
          "text": [
            "ARIMA(0, 1, 2)x(1, 1, 2, 12)- AIC:3146.645453618\n",
            " \n",
            "ARIMA(0, 1, 2)x(1, 1, 3, 12)- AIC:9026.985353059921\n",
            " \n"
          ],
          "name": "stdout"
        },
        {
          "output_type": "stream",
          "text": [
            "/usr/local/lib/python3.7/dist-packages/statsmodels/base/model.py:512: ConvergenceWarning: Maximum Likelihood optimization failed to converge. Check mle_retvals\n",
            "  \"Check mle_retvals\", ConvergenceWarning)\n"
          ],
          "name": "stderr"
        },
        {
          "output_type": "stream",
          "text": [
            "ARIMA(0, 1, 2)x(2, 1, 0, 12)- AIC:3220.875888774944\n",
            " \n"
          ],
          "name": "stdout"
        },
        {
          "output_type": "stream",
          "text": [
            "/usr/local/lib/python3.7/dist-packages/statsmodels/base/model.py:512: ConvergenceWarning: Maximum Likelihood optimization failed to converge. Check mle_retvals\n",
            "  \"Check mle_retvals\", ConvergenceWarning)\n"
          ],
          "name": "stderr"
        },
        {
          "output_type": "stream",
          "text": [
            "ARIMA(0, 1, 2)x(2, 1, 1, 12)- AIC:3222.1029963215015\n",
            " \n"
          ],
          "name": "stdout"
        },
        {
          "output_type": "stream",
          "text": [
            "/usr/local/lib/python3.7/dist-packages/statsmodels/base/model.py:512: ConvergenceWarning: Maximum Likelihood optimization failed to converge. Check mle_retvals\n",
            "  \"Check mle_retvals\", ConvergenceWarning)\n"
          ],
          "name": "stderr"
        },
        {
          "output_type": "stream",
          "text": [
            "ARIMA(0, 1, 2)x(2, 1, 2, 12)- AIC:3145.6418935562997\n",
            " \n",
            "ARIMA(0, 1, 2)x(2, 1, 3, 12)- AIC:8950.62804547396\n",
            " \n"
          ],
          "name": "stdout"
        },
        {
          "output_type": "stream",
          "text": [
            "/usr/local/lib/python3.7/dist-packages/statsmodels/base/model.py:512: ConvergenceWarning: Maximum Likelihood optimization failed to converge. Check mle_retvals\n",
            "  \"Check mle_retvals\", ConvergenceWarning)\n"
          ],
          "name": "stderr"
        },
        {
          "output_type": "stream",
          "text": [
            "ARIMA(0, 1, 2)x(3, 1, 0, 12)- AIC:2906.1270312310417\n",
            " \n"
          ],
          "name": "stdout"
        },
        {
          "output_type": "stream",
          "text": [
            "/usr/local/lib/python3.7/dist-packages/statsmodels/base/model.py:512: ConvergenceWarning: Maximum Likelihood optimization failed to converge. Check mle_retvals\n",
            "  \"Check mle_retvals\", ConvergenceWarning)\n"
          ],
          "name": "stderr"
        },
        {
          "output_type": "stream",
          "text": [
            "ARIMA(0, 1, 2)x(3, 1, 1, 12)- AIC:2908.5045101155833\n",
            " \n"
          ],
          "name": "stdout"
        },
        {
          "output_type": "stream",
          "text": [
            "/usr/local/lib/python3.7/dist-packages/statsmodels/base/model.py:512: ConvergenceWarning: Maximum Likelihood optimization failed to converge. Check mle_retvals\n",
            "  \"Check mle_retvals\", ConvergenceWarning)\n"
          ],
          "name": "stderr"
        },
        {
          "output_type": "stream",
          "text": [
            "ARIMA(0, 1, 2)x(3, 1, 2, 12)- AIC:2907.5647291415003\n",
            " \n",
            "ARIMA(0, 1, 2)x(3, 1, 3, 12)- AIC:9121.675233193459\n",
            " \n"
          ],
          "name": "stdout"
        },
        {
          "output_type": "stream",
          "text": [
            "/usr/local/lib/python3.7/dist-packages/statsmodels/base/model.py:512: ConvergenceWarning: Maximum Likelihood optimization failed to converge. Check mle_retvals\n",
            "  \"Check mle_retvals\", ConvergenceWarning)\n"
          ],
          "name": "stderr"
        },
        {
          "output_type": "stream",
          "text": [
            "ARIMA(0, 1, 3)x(0, 1, 0, 12)- AIC:3737.438678769763\n",
            " \n"
          ],
          "name": "stdout"
        },
        {
          "output_type": "stream",
          "text": [
            "/usr/local/lib/python3.7/dist-packages/statsmodels/base/model.py:512: ConvergenceWarning: Maximum Likelihood optimization failed to converge. Check mle_retvals\n",
            "  \"Check mle_retvals\", ConvergenceWarning)\n"
          ],
          "name": "stderr"
        },
        {
          "output_type": "stream",
          "text": [
            "ARIMA(0, 1, 3)x(0, 1, 1, 12)- AIC:3428.0242722439916\n",
            " \n"
          ],
          "name": "stdout"
        },
        {
          "output_type": "stream",
          "text": [
            "/usr/local/lib/python3.7/dist-packages/statsmodels/base/model.py:512: ConvergenceWarning: Maximum Likelihood optimization failed to converge. Check mle_retvals\n",
            "  \"Check mle_retvals\", ConvergenceWarning)\n"
          ],
          "name": "stderr"
        },
        {
          "output_type": "stream",
          "text": [
            "ARIMA(0, 1, 3)x(0, 1, 2, 12)- AIC:3120.4282473455496\n",
            " \n"
          ],
          "name": "stdout"
        },
        {
          "output_type": "stream",
          "text": [
            "/usr/local/lib/python3.7/dist-packages/statsmodels/base/model.py:512: ConvergenceWarning: Maximum Likelihood optimization failed to converge. Check mle_retvals\n",
            "  \"Check mle_retvals\", ConvergenceWarning)\n"
          ],
          "name": "stderr"
        },
        {
          "output_type": "stream",
          "text": [
            "ARIMA(0, 1, 3)x(0, 1, 3, 12)- AIC:8784.39989127759\n",
            " \n"
          ],
          "name": "stdout"
        },
        {
          "output_type": "stream",
          "text": [
            "/usr/local/lib/python3.7/dist-packages/statsmodels/base/model.py:512: ConvergenceWarning: Maximum Likelihood optimization failed to converge. Check mle_retvals\n",
            "  \"Check mle_retvals\", ConvergenceWarning)\n"
          ],
          "name": "stderr"
        },
        {
          "output_type": "stream",
          "text": [
            "ARIMA(0, 1, 3)x(1, 1, 0, 12)- AIC:3535.236506599476\n",
            " \n"
          ],
          "name": "stdout"
        },
        {
          "output_type": "stream",
          "text": [
            "/usr/local/lib/python3.7/dist-packages/statsmodels/base/model.py:512: ConvergenceWarning: Maximum Likelihood optimization failed to converge. Check mle_retvals\n",
            "  \"Check mle_retvals\", ConvergenceWarning)\n"
          ],
          "name": "stderr"
        },
        {
          "output_type": "stream",
          "text": [
            "ARIMA(0, 1, 3)x(1, 1, 1, 12)- AIC:3429.7365159980704\n",
            " \n"
          ],
          "name": "stdout"
        },
        {
          "output_type": "stream",
          "text": [
            "/usr/local/lib/python3.7/dist-packages/statsmodels/base/model.py:512: ConvergenceWarning: Maximum Likelihood optimization failed to converge. Check mle_retvals\n",
            "  \"Check mle_retvals\", ConvergenceWarning)\n"
          ],
          "name": "stderr"
        },
        {
          "output_type": "stream",
          "text": [
            "ARIMA(0, 1, 3)x(1, 1, 2, 12)- AIC:3121.87337496906\n",
            " \n",
            "ARIMA(0, 1, 3)x(1, 1, 3, 12)- AIC:8945.153474937299\n",
            " \n"
          ],
          "name": "stdout"
        },
        {
          "output_type": "stream",
          "text": [
            "/usr/local/lib/python3.7/dist-packages/statsmodels/base/model.py:512: ConvergenceWarning: Maximum Likelihood optimization failed to converge. Check mle_retvals\n",
            "  \"Check mle_retvals\", ConvergenceWarning)\n"
          ],
          "name": "stderr"
        },
        {
          "output_type": "stream",
          "text": [
            "ARIMA(0, 1, 3)x(2, 1, 0, 12)- AIC:3222.725187999009\n",
            " \n"
          ],
          "name": "stdout"
        },
        {
          "output_type": "stream",
          "text": [
            "/usr/local/lib/python3.7/dist-packages/statsmodels/base/model.py:512: ConvergenceWarning: Maximum Likelihood optimization failed to converge. Check mle_retvals\n",
            "  \"Check mle_retvals\", ConvergenceWarning)\n"
          ],
          "name": "stderr"
        },
        {
          "output_type": "stream",
          "text": [
            "ARIMA(0, 1, 3)x(2, 1, 1, 12)- AIC:3223.773040146434\n",
            " \n"
          ],
          "name": "stdout"
        },
        {
          "output_type": "stream",
          "text": [
            "/usr/local/lib/python3.7/dist-packages/statsmodels/base/model.py:512: ConvergenceWarning: Maximum Likelihood optimization failed to converge. Check mle_retvals\n",
            "  \"Check mle_retvals\", ConvergenceWarning)\n"
          ],
          "name": "stderr"
        },
        {
          "output_type": "stream",
          "text": [
            "ARIMA(0, 1, 3)x(2, 1, 2, 12)- AIC:3119.4437690941627\n",
            " \n",
            "ARIMA(0, 1, 3)x(2, 1, 3, 12)- AIC:8869.555355690263\n",
            " \n"
          ],
          "name": "stdout"
        },
        {
          "output_type": "stream",
          "text": [
            "/usr/local/lib/python3.7/dist-packages/statsmodels/base/model.py:512: ConvergenceWarning: Maximum Likelihood optimization failed to converge. Check mle_retvals\n",
            "  \"Check mle_retvals\", ConvergenceWarning)\n"
          ],
          "name": "stderr"
        },
        {
          "output_type": "stream",
          "text": [
            "ARIMA(0, 1, 3)x(3, 1, 0, 12)- AIC:2906.047477598882\n",
            " \n"
          ],
          "name": "stdout"
        },
        {
          "output_type": "stream",
          "text": [
            "/usr/local/lib/python3.7/dist-packages/statsmodels/base/model.py:512: ConvergenceWarning: Maximum Likelihood optimization failed to converge. Check mle_retvals\n",
            "  \"Check mle_retvals\", ConvergenceWarning)\n"
          ],
          "name": "stderr"
        },
        {
          "output_type": "stream",
          "text": [
            "ARIMA(0, 1, 3)x(3, 1, 1, 12)- AIC:2908.50098445451\n",
            " \n"
          ],
          "name": "stdout"
        },
        {
          "output_type": "stream",
          "text": [
            "/usr/local/lib/python3.7/dist-packages/statsmodels/base/model.py:512: ConvergenceWarning: Maximum Likelihood optimization failed to converge. Check mle_retvals\n",
            "  \"Check mle_retvals\", ConvergenceWarning)\n"
          ],
          "name": "stderr"
        },
        {
          "output_type": "stream",
          "text": [
            "ARIMA(0, 1, 3)x(3, 1, 2, 12)- AIC:2908.782807595138\n",
            " \n",
            "ARIMA(0, 1, 3)x(3, 1, 3, 12)- AIC:9038.96287079774\n",
            " \n"
          ],
          "name": "stdout"
        },
        {
          "output_type": "stream",
          "text": [
            "/usr/local/lib/python3.7/dist-packages/statsmodels/base/model.py:512: ConvergenceWarning: Maximum Likelihood optimization failed to converge. Check mle_retvals\n",
            "  \"Check mle_retvals\", ConvergenceWarning)\n"
          ],
          "name": "stderr"
        },
        {
          "output_type": "stream",
          "text": [
            "ARIMA(1, 1, 0)x(0, 1, 0, 12)- AIC:3816.812996507092\n",
            " \n"
          ],
          "name": "stdout"
        },
        {
          "output_type": "stream",
          "text": [
            "/usr/local/lib/python3.7/dist-packages/statsmodels/base/model.py:512: ConvergenceWarning: Maximum Likelihood optimization failed to converge. Check mle_retvals\n",
            "  \"Check mle_retvals\", ConvergenceWarning)\n"
          ],
          "name": "stderr"
        },
        {
          "output_type": "stream",
          "text": [
            "ARIMA(1, 1, 0)x(0, 1, 1, 12)- AIC:3508.8175809669724\n",
            " \n"
          ],
          "name": "stdout"
        },
        {
          "output_type": "stream",
          "text": [
            "/usr/local/lib/python3.7/dist-packages/statsmodels/base/model.py:512: ConvergenceWarning: Maximum Likelihood optimization failed to converge. Check mle_retvals\n",
            "  \"Check mle_retvals\", ConvergenceWarning)\n"
          ],
          "name": "stderr"
        },
        {
          "output_type": "stream",
          "text": [
            "ARIMA(1, 1, 0)x(0, 1, 2, 12)- AIC:3194.8462836908775\n",
            " \n"
          ],
          "name": "stdout"
        },
        {
          "output_type": "stream",
          "text": [
            "/usr/local/lib/python3.7/dist-packages/statsmodels/base/model.py:512: ConvergenceWarning: Maximum Likelihood optimization failed to converge. Check mle_retvals\n",
            "  \"Check mle_retvals\", ConvergenceWarning)\n"
          ],
          "name": "stderr"
        },
        {
          "output_type": "stream",
          "text": [
            "ARIMA(1, 1, 0)x(0, 1, 3, 12)- AIC:9033.421516829083\n",
            " \n"
          ],
          "name": "stdout"
        },
        {
          "output_type": "stream",
          "text": [
            "/usr/local/lib/python3.7/dist-packages/statsmodels/base/model.py:512: ConvergenceWarning: Maximum Likelihood optimization failed to converge. Check mle_retvals\n",
            "  \"Check mle_retvals\", ConvergenceWarning)\n"
          ],
          "name": "stderr"
        },
        {
          "output_type": "stream",
          "text": [
            "ARIMA(1, 1, 0)x(1, 1, 0, 12)- AIC:3508.7675791512274\n",
            " \n"
          ],
          "name": "stdout"
        },
        {
          "output_type": "stream",
          "text": [
            "/usr/local/lib/python3.7/dist-packages/statsmodels/base/model.py:512: ConvergenceWarning: Maximum Likelihood optimization failed to converge. Check mle_retvals\n",
            "  \"Check mle_retvals\", ConvergenceWarning)\n"
          ],
          "name": "stderr"
        },
        {
          "output_type": "stream",
          "text": [
            "ARIMA(1, 1, 0)x(1, 1, 1, 12)- AIC:3511.1985805706863\n",
            " \n"
          ],
          "name": "stdout"
        },
        {
          "output_type": "stream",
          "text": [
            "/usr/local/lib/python3.7/dist-packages/statsmodels/base/model.py:512: ConvergenceWarning: Maximum Likelihood optimization failed to converge. Check mle_retvals\n",
            "  \"Check mle_retvals\", ConvergenceWarning)\n"
          ],
          "name": "stderr"
        },
        {
          "output_type": "stream",
          "text": [
            "ARIMA(1, 1, 0)x(1, 1, 2, 12)- AIC:3196.81030964492\n",
            " \n",
            "ARIMA(1, 1, 0)x(1, 1, 3, 12)- AIC:9198.844209715868\n",
            " \n"
          ],
          "name": "stdout"
        },
        {
          "output_type": "stream",
          "text": [
            "/usr/local/lib/python3.7/dist-packages/statsmodels/base/model.py:512: ConvergenceWarning: Maximum Likelihood optimization failed to converge. Check mle_retvals\n",
            "  \"Check mle_retvals\", ConvergenceWarning)\n"
          ],
          "name": "stderr"
        },
        {
          "output_type": "stream",
          "text": [
            "ARIMA(1, 1, 0)x(2, 1, 0, 12)- AIC:3193.322910320464\n",
            " \n"
          ],
          "name": "stdout"
        },
        {
          "output_type": "stream",
          "text": [
            "/usr/local/lib/python3.7/dist-packages/statsmodels/base/model.py:512: ConvergenceWarning: Maximum Likelihood optimization failed to converge. Check mle_retvals\n",
            "  \"Check mle_retvals\", ConvergenceWarning)\n"
          ],
          "name": "stderr"
        },
        {
          "output_type": "stream",
          "text": [
            "ARIMA(1, 1, 0)x(2, 1, 1, 12)- AIC:3194.721747855919\n",
            " \n"
          ],
          "name": "stdout"
        },
        {
          "output_type": "stream",
          "text": [
            "/usr/local/lib/python3.7/dist-packages/statsmodels/base/model.py:512: ConvergenceWarning: Maximum Likelihood optimization failed to converge. Check mle_retvals\n",
            "  \"Check mle_retvals\", ConvergenceWarning)\n"
          ],
          "name": "stderr"
        },
        {
          "output_type": "stream",
          "text": [
            "ARIMA(1, 1, 0)x(2, 1, 2, 12)- AIC:3196.9409032875433\n",
            " \n",
            "ARIMA(1, 1, 0)x(2, 1, 3, 12)- AIC:9120.965400988573\n",
            " \n"
          ],
          "name": "stdout"
        },
        {
          "output_type": "stream",
          "text": [
            "/usr/local/lib/python3.7/dist-packages/statsmodels/base/model.py:512: ConvergenceWarning: Maximum Likelihood optimization failed to converge. Check mle_retvals\n",
            "  \"Check mle_retvals\", ConvergenceWarning)\n"
          ],
          "name": "stderr"
        },
        {
          "output_type": "stream",
          "text": [
            "ARIMA(1, 1, 0)x(3, 1, 0, 12)- AIC:2880.6829832911835\n",
            " \n"
          ],
          "name": "stdout"
        },
        {
          "output_type": "stream",
          "text": [
            "/usr/local/lib/python3.7/dist-packages/statsmodels/base/model.py:512: ConvergenceWarning: Maximum Likelihood optimization failed to converge. Check mle_retvals\n",
            "  \"Check mle_retvals\", ConvergenceWarning)\n"
          ],
          "name": "stderr"
        },
        {
          "output_type": "stream",
          "text": [
            "ARIMA(1, 1, 0)x(3, 1, 1, 12)- AIC:2882.864404875076\n",
            " \n"
          ],
          "name": "stdout"
        },
        {
          "output_type": "stream",
          "text": [
            "/usr/local/lib/python3.7/dist-packages/statsmodels/base/model.py:512: ConvergenceWarning: Maximum Likelihood optimization failed to converge. Check mle_retvals\n",
            "  \"Check mle_retvals\", ConvergenceWarning)\n"
          ],
          "name": "stderr"
        },
        {
          "output_type": "stream",
          "text": [
            "ARIMA(1, 1, 0)x(3, 1, 2, 12)- AIC:2880.051038497816\n",
            " \n",
            "ARIMA(1, 1, 0)x(3, 1, 3, 12)- AIC:9295.295058395648\n",
            " \n"
          ],
          "name": "stdout"
        },
        {
          "output_type": "stream",
          "text": [
            "/usr/local/lib/python3.7/dist-packages/statsmodels/base/model.py:512: ConvergenceWarning: Maximum Likelihood optimization failed to converge. Check mle_retvals\n",
            "  \"Check mle_retvals\", ConvergenceWarning)\n"
          ],
          "name": "stderr"
        },
        {
          "output_type": "stream",
          "text": [
            "ARIMA(1, 1, 1)x(0, 1, 0, 12)- AIC:3790.7691983620944\n",
            " \n"
          ],
          "name": "stdout"
        },
        {
          "output_type": "stream",
          "text": [
            "/usr/local/lib/python3.7/dist-packages/statsmodels/base/model.py:512: ConvergenceWarning: Maximum Likelihood optimization failed to converge. Check mle_retvals\n",
            "  \"Check mle_retvals\", ConvergenceWarning)\n"
          ],
          "name": "stderr"
        },
        {
          "output_type": "stream",
          "text": [
            "ARIMA(1, 1, 1)x(0, 1, 1, 12)- AIC:3482.8204485545284\n",
            " \n"
          ],
          "name": "stdout"
        },
        {
          "output_type": "stream",
          "text": [
            "/usr/local/lib/python3.7/dist-packages/statsmodels/base/model.py:512: ConvergenceWarning: Maximum Likelihood optimization failed to converge. Check mle_retvals\n",
            "  \"Check mle_retvals\", ConvergenceWarning)\n"
          ],
          "name": "stderr"
        },
        {
          "output_type": "stream",
          "text": [
            "ARIMA(1, 1, 1)x(0, 1, 2, 12)- AIC:3170.2667352169897\n",
            " \n"
          ],
          "name": "stdout"
        },
        {
          "output_type": "stream",
          "text": [
            "/usr/local/lib/python3.7/dist-packages/statsmodels/base/model.py:512: ConvergenceWarning: Maximum Likelihood optimization failed to converge. Check mle_retvals\n",
            "  \"Check mle_retvals\", ConvergenceWarning)\n"
          ],
          "name": "stderr"
        },
        {
          "output_type": "stream",
          "text": [
            "ARIMA(1, 1, 1)x(0, 1, 3, 12)- AIC:8949.968080297846\n",
            " \n"
          ],
          "name": "stdout"
        },
        {
          "output_type": "stream",
          "text": [
            "/usr/local/lib/python3.7/dist-packages/statsmodels/base/model.py:512: ConvergenceWarning: Maximum Likelihood optimization failed to converge. Check mle_retvals\n",
            "  \"Check mle_retvals\", ConvergenceWarning)\n"
          ],
          "name": "stderr"
        },
        {
          "output_type": "stream",
          "text": [
            "ARIMA(1, 1, 1)x(1, 1, 0, 12)- AIC:3508.227906951553\n",
            " \n"
          ],
          "name": "stdout"
        },
        {
          "output_type": "stream",
          "text": [
            "/usr/local/lib/python3.7/dist-packages/statsmodels/base/model.py:512: ConvergenceWarning: Maximum Likelihood optimization failed to converge. Check mle_retvals\n",
            "  \"Check mle_retvals\", ConvergenceWarning)\n"
          ],
          "name": "stderr"
        },
        {
          "output_type": "stream",
          "text": [
            "ARIMA(1, 1, 1)x(1, 1, 1, 12)- AIC:3485.008819460113\n",
            " \n"
          ],
          "name": "stdout"
        },
        {
          "output_type": "stream",
          "text": [
            "/usr/local/lib/python3.7/dist-packages/statsmodels/base/model.py:512: ConvergenceWarning: Maximum Likelihood optimization failed to converge. Check mle_retvals\n",
            "  \"Check mle_retvals\", ConvergenceWarning)\n"
          ],
          "name": "stderr"
        },
        {
          "output_type": "stream",
          "text": [
            "ARIMA(1, 1, 1)x(1, 1, 2, 12)- AIC:3169.5964479461827\n",
            " \n",
            "ARIMA(1, 1, 1)x(1, 1, 3, 12)- AIC:9113.834349500969\n",
            " \n"
          ],
          "name": "stdout"
        },
        {
          "output_type": "stream",
          "text": [
            "/usr/local/lib/python3.7/dist-packages/statsmodels/base/model.py:512: ConvergenceWarning: Maximum Likelihood optimization failed to converge. Check mle_retvals\n",
            "  \"Check mle_retvals\", ConvergenceWarning)\n"
          ],
          "name": "stderr"
        },
        {
          "output_type": "stream",
          "text": [
            "ARIMA(1, 1, 1)x(2, 1, 0, 12)- AIC:3194.0286952827373\n",
            " \n"
          ],
          "name": "stdout"
        },
        {
          "output_type": "stream",
          "text": [
            "/usr/local/lib/python3.7/dist-packages/statsmodels/base/model.py:512: ConvergenceWarning: Maximum Likelihood optimization failed to converge. Check mle_retvals\n",
            "  \"Check mle_retvals\", ConvergenceWarning)\n"
          ],
          "name": "stderr"
        },
        {
          "output_type": "stream",
          "text": [
            "ARIMA(1, 1, 1)x(2, 1, 1, 12)- AIC:3195.82994039187\n",
            " \n"
          ],
          "name": "stdout"
        },
        {
          "output_type": "stream",
          "text": [
            "/usr/local/lib/python3.7/dist-packages/statsmodels/base/model.py:512: ConvergenceWarning: Maximum Likelihood optimization failed to converge. Check mle_retvals\n",
            "  \"Check mle_retvals\", ConvergenceWarning)\n"
          ],
          "name": "stderr"
        },
        {
          "output_type": "stream",
          "text": [
            "ARIMA(1, 1, 1)x(2, 1, 2, 12)- AIC:3171.0996893727493\n",
            " \n",
            "ARIMA(1, 1, 1)x(2, 1, 3, 12)- AIC:9357.250792758787\n",
            " \n"
          ],
          "name": "stdout"
        },
        {
          "output_type": "stream",
          "text": [
            "/usr/local/lib/python3.7/dist-packages/statsmodels/base/model.py:512: ConvergenceWarning: Maximum Likelihood optimization failed to converge. Check mle_retvals\n",
            "  \"Check mle_retvals\", ConvergenceWarning)\n"
          ],
          "name": "stderr"
        },
        {
          "output_type": "stream",
          "text": [
            "ARIMA(1, 1, 1)x(3, 1, 0, 12)- AIC:2880.746712576928\n",
            " \n"
          ],
          "name": "stdout"
        },
        {
          "output_type": "stream",
          "text": [
            "/usr/local/lib/python3.7/dist-packages/statsmodels/base/model.py:512: ConvergenceWarning: Maximum Likelihood optimization failed to converge. Check mle_retvals\n",
            "  \"Check mle_retvals\", ConvergenceWarning)\n"
          ],
          "name": "stderr"
        },
        {
          "output_type": "stream",
          "text": [
            "ARIMA(1, 1, 1)x(3, 1, 1, 12)- AIC:2882.822118767036\n",
            " \n"
          ],
          "name": "stdout"
        },
        {
          "output_type": "stream",
          "text": [
            "/usr/local/lib/python3.7/dist-packages/statsmodels/base/model.py:512: ConvergenceWarning: Maximum Likelihood optimization failed to converge. Check mle_retvals\n",
            "  \"Check mle_retvals\", ConvergenceWarning)\n"
          ],
          "name": "stderr"
        },
        {
          "output_type": "stream",
          "text": [
            "ARIMA(1, 1, 1)x(3, 1, 2, 12)- AIC:2882.1267356878657\n",
            " \n",
            "ARIMA(1, 1, 1)x(3, 1, 3, 12)- AIC:9209.404713907645\n",
            " \n"
          ],
          "name": "stdout"
        },
        {
          "output_type": "stream",
          "text": [
            "/usr/local/lib/python3.7/dist-packages/statsmodels/base/model.py:512: ConvergenceWarning: Maximum Likelihood optimization failed to converge. Check mle_retvals\n",
            "  \"Check mle_retvals\", ConvergenceWarning)\n"
          ],
          "name": "stderr"
        },
        {
          "output_type": "stream",
          "text": [
            "ARIMA(1, 1, 2)x(0, 1, 0, 12)- AIC:3767.1300117507544\n",
            " \n"
          ],
          "name": "stdout"
        },
        {
          "output_type": "stream",
          "text": [
            "/usr/local/lib/python3.7/dist-packages/statsmodels/base/model.py:512: ConvergenceWarning: Maximum Likelihood optimization failed to converge. Check mle_retvals\n",
            "  \"Check mle_retvals\", ConvergenceWarning)\n"
          ],
          "name": "stderr"
        },
        {
          "output_type": "stream",
          "text": [
            "ARIMA(1, 1, 2)x(0, 1, 1, 12)- AIC:3458.2086090690673\n",
            " \n"
          ],
          "name": "stdout"
        },
        {
          "output_type": "stream",
          "text": [
            "/usr/local/lib/python3.7/dist-packages/statsmodels/base/model.py:512: ConvergenceWarning: Maximum Likelihood optimization failed to converge. Check mle_retvals\n",
            "  \"Check mle_retvals\", ConvergenceWarning)\n"
          ],
          "name": "stderr"
        },
        {
          "output_type": "stream",
          "text": [
            "ARIMA(1, 1, 2)x(0, 1, 2, 12)- AIC:3146.8096328493325\n",
            " \n"
          ],
          "name": "stdout"
        },
        {
          "output_type": "stream",
          "text": [
            "/usr/local/lib/python3.7/dist-packages/statsmodels/base/model.py:512: ConvergenceWarning: Maximum Likelihood optimization failed to converge. Check mle_retvals\n",
            "  \"Check mle_retvals\", ConvergenceWarning)\n"
          ],
          "name": "stderr"
        },
        {
          "output_type": "stream",
          "text": [
            "ARIMA(1, 1, 2)x(0, 1, 3, 12)- AIC:8866.599091369744\n",
            " \n"
          ],
          "name": "stdout"
        },
        {
          "output_type": "stream",
          "text": [
            "/usr/local/lib/python3.7/dist-packages/statsmodels/base/model.py:512: ConvergenceWarning: Maximum Likelihood optimization failed to converge. Check mle_retvals\n",
            "  \"Check mle_retvals\", ConvergenceWarning)\n"
          ],
          "name": "stderr"
        },
        {
          "output_type": "stream",
          "text": [
            "ARIMA(1, 1, 2)x(1, 1, 0, 12)- AIC:3509.904775226568\n",
            " \n"
          ],
          "name": "stdout"
        },
        {
          "output_type": "stream",
          "text": [
            "/usr/local/lib/python3.7/dist-packages/statsmodels/base/model.py:512: ConvergenceWarning: Maximum Likelihood optimization failed to converge. Check mle_retvals\n",
            "  \"Check mle_retvals\", ConvergenceWarning)\n"
          ],
          "name": "stderr"
        },
        {
          "output_type": "stream",
          "text": [
            "ARIMA(1, 1, 2)x(1, 1, 1, 12)- AIC:3460.4961514091633\n",
            " \n"
          ],
          "name": "stdout"
        },
        {
          "output_type": "stream",
          "text": [
            "/usr/local/lib/python3.7/dist-packages/statsmodels/base/model.py:512: ConvergenceWarning: Maximum Likelihood optimization failed to converge. Check mle_retvals\n",
            "  \"Check mle_retvals\", ConvergenceWarning)\n"
          ],
          "name": "stderr"
        },
        {
          "output_type": "stream",
          "text": [
            "ARIMA(1, 1, 2)x(1, 1, 2, 12)- AIC:3145.5867945703067\n",
            " \n",
            "ARIMA(1, 1, 2)x(1, 1, 3, 12)- AIC:9028.90895405463\n",
            " \n"
          ],
          "name": "stdout"
        },
        {
          "output_type": "stream",
          "text": [
            "/usr/local/lib/python3.7/dist-packages/statsmodels/base/model.py:512: ConvergenceWarning: Maximum Likelihood optimization failed to converge. Check mle_retvals\n",
            "  \"Check mle_retvals\", ConvergenceWarning)\n"
          ],
          "name": "stderr"
        },
        {
          "output_type": "stream",
          "text": [
            "ARIMA(1, 1, 2)x(2, 1, 0, 12)- AIC:3196.129679933412\n",
            " \n"
          ],
          "name": "stdout"
        },
        {
          "output_type": "stream",
          "text": [
            "/usr/local/lib/python3.7/dist-packages/statsmodels/base/model.py:512: ConvergenceWarning: Maximum Likelihood optimization failed to converge. Check mle_retvals\n",
            "  \"Check mle_retvals\", ConvergenceWarning)\n"
          ],
          "name": "stderr"
        },
        {
          "output_type": "stream",
          "text": [
            "ARIMA(1, 1, 2)x(2, 1, 1, 12)- AIC:3198.676094144444\n",
            " \n"
          ],
          "name": "stdout"
        },
        {
          "output_type": "stream",
          "text": [
            "/usr/local/lib/python3.7/dist-packages/statsmodels/base/model.py:512: ConvergenceWarning: Maximum Likelihood optimization failed to converge. Check mle_retvals\n",
            "  \"Check mle_retvals\", ConvergenceWarning)\n"
          ],
          "name": "stderr"
        },
        {
          "output_type": "stream",
          "text": [
            "ARIMA(1, 1, 2)x(2, 1, 2, 12)- AIC:3147.032229182498\n",
            " \n",
            "ARIMA(1, 1, 2)x(2, 1, 3, 12)- AIC:8952.55164644404\n",
            " \n"
          ],
          "name": "stdout"
        },
        {
          "output_type": "stream",
          "text": [
            "/usr/local/lib/python3.7/dist-packages/statsmodels/base/model.py:512: ConvergenceWarning: Maximum Likelihood optimization failed to converge. Check mle_retvals\n",
            "  \"Check mle_retvals\", ConvergenceWarning)\n"
          ],
          "name": "stderr"
        },
        {
          "output_type": "stream",
          "text": [
            "ARIMA(1, 1, 2)x(3, 1, 0, 12)- AIC:2879.7873104945343\n",
            " \n"
          ],
          "name": "stdout"
        },
        {
          "output_type": "stream",
          "text": [
            "/usr/local/lib/python3.7/dist-packages/statsmodels/base/model.py:512: ConvergenceWarning: Maximum Likelihood optimization failed to converge. Check mle_retvals\n",
            "  \"Check mle_retvals\", ConvergenceWarning)\n"
          ],
          "name": "stderr"
        },
        {
          "output_type": "stream",
          "text": [
            "ARIMA(1, 1, 2)x(3, 1, 1, 12)- AIC:2881.8215817659093\n",
            " \n"
          ],
          "name": "stdout"
        },
        {
          "output_type": "stream",
          "text": [
            "/usr/local/lib/python3.7/dist-packages/statsmodels/base/model.py:512: ConvergenceWarning: Maximum Likelihood optimization failed to converge. Check mle_retvals\n",
            "  \"Check mle_retvals\", ConvergenceWarning)\n"
          ],
          "name": "stderr"
        },
        {
          "output_type": "stream",
          "text": [
            "ARIMA(1, 1, 2)x(3, 1, 2, 12)- AIC:2884.5289299318565\n",
            " \n",
            "ARIMA(1, 1, 2)x(3, 1, 3, 12)- AIC:9123.598834188033\n",
            " \n"
          ],
          "name": "stdout"
        },
        {
          "output_type": "stream",
          "text": [
            "/usr/local/lib/python3.7/dist-packages/statsmodels/base/model.py:512: ConvergenceWarning: Maximum Likelihood optimization failed to converge. Check mle_retvals\n",
            "  \"Check mle_retvals\", ConvergenceWarning)\n"
          ],
          "name": "stderr"
        },
        {
          "output_type": "stream",
          "text": [
            "ARIMA(1, 1, 3)x(0, 1, 0, 12)- AIC:3739.227139255075\n",
            " \n"
          ],
          "name": "stdout"
        },
        {
          "output_type": "stream",
          "text": [
            "/usr/local/lib/python3.7/dist-packages/statsmodels/base/model.py:512: ConvergenceWarning: Maximum Likelihood optimization failed to converge. Check mle_retvals\n",
            "  \"Check mle_retvals\", ConvergenceWarning)\n"
          ],
          "name": "stderr"
        },
        {
          "output_type": "stream",
          "text": [
            "ARIMA(1, 1, 3)x(0, 1, 1, 12)- AIC:3429.7436883731266\n",
            " \n"
          ],
          "name": "stdout"
        },
        {
          "output_type": "stream",
          "text": [
            "/usr/local/lib/python3.7/dist-packages/statsmodels/base/model.py:512: ConvergenceWarning: Maximum Likelihood optimization failed to converge. Check mle_retvals\n",
            "  \"Check mle_retvals\", ConvergenceWarning)\n"
          ],
          "name": "stderr"
        },
        {
          "output_type": "stream",
          "text": [
            "ARIMA(1, 1, 3)x(0, 1, 2, 12)- AIC:3122.1493189437865\n",
            " \n"
          ],
          "name": "stdout"
        },
        {
          "output_type": "stream",
          "text": [
            "/usr/local/lib/python3.7/dist-packages/statsmodels/base/model.py:512: ConvergenceWarning: Maximum Likelihood optimization failed to converge. Check mle_retvals\n",
            "  \"Check mle_retvals\", ConvergenceWarning)\n"
          ],
          "name": "stderr"
        },
        {
          "output_type": "stream",
          "text": [
            "ARIMA(1, 1, 3)x(0, 1, 3, 12)- AIC:8786.087776287883\n",
            " \n"
          ],
          "name": "stdout"
        },
        {
          "output_type": "stream",
          "text": [
            "/usr/local/lib/python3.7/dist-packages/statsmodels/base/model.py:512: ConvergenceWarning: Maximum Likelihood optimization failed to converge. Check mle_retvals\n",
            "  \"Check mle_retvals\", ConvergenceWarning)\n"
          ],
          "name": "stderr"
        },
        {
          "output_type": "stream",
          "text": [
            "ARIMA(1, 1, 3)x(1, 1, 0, 12)- AIC:3511.8743642141944\n",
            " \n"
          ],
          "name": "stdout"
        },
        {
          "output_type": "stream",
          "text": [
            "/usr/local/lib/python3.7/dist-packages/statsmodels/base/model.py:512: ConvergenceWarning: Maximum Likelihood optimization failed to converge. Check mle_retvals\n",
            "  \"Check mle_retvals\", ConvergenceWarning)\n"
          ],
          "name": "stderr"
        },
        {
          "output_type": "stream",
          "text": [
            "ARIMA(1, 1, 3)x(1, 1, 1, 12)- AIC:3431.516660523531\n",
            " \n"
          ],
          "name": "stdout"
        },
        {
          "output_type": "stream",
          "text": [
            "/usr/local/lib/python3.7/dist-packages/statsmodels/base/model.py:512: ConvergenceWarning: Maximum Likelihood optimization failed to converge. Check mle_retvals\n",
            "  \"Check mle_retvals\", ConvergenceWarning)\n"
          ],
          "name": "stderr"
        },
        {
          "output_type": "stream",
          "text": [
            "ARIMA(1, 1, 3)x(1, 1, 2, 12)- AIC:3121.741859773541\n",
            " \n",
            "ARIMA(1, 1, 3)x(1, 1, 3, 12)- AIC:8946.841212605494\n",
            " \n"
          ],
          "name": "stdout"
        },
        {
          "output_type": "stream",
          "text": [
            "/usr/local/lib/python3.7/dist-packages/statsmodels/base/model.py:512: ConvergenceWarning: Maximum Likelihood optimization failed to converge. Check mle_retvals\n",
            "  \"Check mle_retvals\", ConvergenceWarning)\n"
          ],
          "name": "stderr"
        },
        {
          "output_type": "stream",
          "text": [
            "ARIMA(1, 1, 3)x(2, 1, 0, 12)- AIC:3198.4547632382846\n",
            " \n"
          ],
          "name": "stdout"
        },
        {
          "output_type": "stream",
          "text": [
            "/usr/local/lib/python3.7/dist-packages/statsmodels/base/model.py:512: ConvergenceWarning: Maximum Likelihood optimization failed to converge. Check mle_retvals\n",
            "  \"Check mle_retvals\", ConvergenceWarning)\n"
          ],
          "name": "stderr"
        },
        {
          "output_type": "stream",
          "text": [
            "ARIMA(1, 1, 3)x(2, 1, 1, 12)- AIC:3200.7189540811023\n",
            " \n"
          ],
          "name": "stdout"
        },
        {
          "output_type": "stream",
          "text": [
            "/usr/local/lib/python3.7/dist-packages/statsmodels/base/model.py:512: ConvergenceWarning: Maximum Likelihood optimization failed to converge. Check mle_retvals\n",
            "  \"Check mle_retvals\", ConvergenceWarning)\n"
          ],
          "name": "stderr"
        },
        {
          "output_type": "stream",
          "text": [
            "ARIMA(1, 1, 3)x(2, 1, 2, 12)- AIC:3119.4766293049906\n",
            " \n",
            "ARIMA(1, 1, 3)x(2, 1, 3, 12)- AIC:8871.244655528126\n",
            " \n"
          ],
          "name": "stdout"
        },
        {
          "output_type": "stream",
          "text": [
            "/usr/local/lib/python3.7/dist-packages/statsmodels/base/model.py:512: ConvergenceWarning: Maximum Likelihood optimization failed to converge. Check mle_retvals\n",
            "  \"Check mle_retvals\", ConvergenceWarning)\n"
          ],
          "name": "stderr"
        },
        {
          "output_type": "stream",
          "text": [
            "ARIMA(1, 1, 3)x(3, 1, 0, 12)- AIC:2881.374034916696\n",
            " \n"
          ],
          "name": "stdout"
        },
        {
          "output_type": "stream",
          "text": [
            "/usr/local/lib/python3.7/dist-packages/statsmodels/base/model.py:512: ConvergenceWarning: Maximum Likelihood optimization failed to converge. Check mle_retvals\n",
            "  \"Check mle_retvals\", ConvergenceWarning)\n"
          ],
          "name": "stderr"
        },
        {
          "output_type": "stream",
          "text": [
            "ARIMA(1, 1, 3)x(3, 1, 1, 12)- AIC:2883.335282876656\n",
            " \n"
          ],
          "name": "stdout"
        },
        {
          "output_type": "stream",
          "text": [
            "/usr/local/lib/python3.7/dist-packages/statsmodels/base/model.py:512: ConvergenceWarning: Maximum Likelihood optimization failed to converge. Check mle_retvals\n",
            "  \"Check mle_retvals\", ConvergenceWarning)\n"
          ],
          "name": "stderr"
        },
        {
          "output_type": "stream",
          "text": [
            "ARIMA(1, 1, 3)x(3, 1, 2, 12)- AIC:2885.3846184465197\n",
            " \n",
            "ARIMA(1, 1, 3)x(3, 1, 3, 12)- AIC:9040.650608465812\n",
            " \n"
          ],
          "name": "stdout"
        },
        {
          "output_type": "stream",
          "text": [
            "/usr/local/lib/python3.7/dist-packages/statsmodels/base/model.py:512: ConvergenceWarning: Maximum Likelihood optimization failed to converge. Check mle_retvals\n",
            "  \"Check mle_retvals\", ConvergenceWarning)\n"
          ],
          "name": "stderr"
        },
        {
          "output_type": "stream",
          "text": [
            "ARIMA(2, 1, 0)x(0, 1, 0, 12)- AIC:3789.973818702806\n",
            " \n"
          ],
          "name": "stdout"
        },
        {
          "output_type": "stream",
          "text": [
            "/usr/local/lib/python3.7/dist-packages/statsmodels/base/model.py:512: ConvergenceWarning: Maximum Likelihood optimization failed to converge. Check mle_retvals\n",
            "  \"Check mle_retvals\", ConvergenceWarning)\n"
          ],
          "name": "stderr"
        },
        {
          "output_type": "stream",
          "text": [
            "ARIMA(2, 1, 0)x(0, 1, 1, 12)- AIC:3508.394356892215\n",
            " \n"
          ],
          "name": "stdout"
        },
        {
          "output_type": "stream",
          "text": [
            "/usr/local/lib/python3.7/dist-packages/statsmodels/base/model.py:512: ConvergenceWarning: Maximum Likelihood optimization failed to converge. Check mle_retvals\n",
            "  \"Check mle_retvals\", ConvergenceWarning)\n"
          ],
          "name": "stderr"
        },
        {
          "output_type": "stream",
          "text": [
            "ARIMA(2, 1, 0)x(0, 1, 2, 12)- AIC:3196.757693302502\n",
            " \n",
            "ARIMA(2, 1, 0)x(0, 1, 3, 12)- AIC:9033.783112366904\n",
            " \n"
          ],
          "name": "stdout"
        },
        {
          "output_type": "stream",
          "text": [
            "/usr/local/lib/python3.7/dist-packages/statsmodels/base/model.py:512: ConvergenceWarning: Maximum Likelihood optimization failed to converge. Check mle_retvals\n",
            "  \"Check mle_retvals\", ConvergenceWarning)\n"
          ],
          "name": "stderr"
        },
        {
          "output_type": "stream",
          "text": [
            "ARIMA(2, 1, 0)x(1, 1, 0, 12)- AIC:3483.0603240854934\n",
            " \n"
          ],
          "name": "stdout"
        },
        {
          "output_type": "stream",
          "text": [
            "/usr/local/lib/python3.7/dist-packages/statsmodels/base/model.py:512: ConvergenceWarning: Maximum Likelihood optimization failed to converge. Check mle_retvals\n",
            "  \"Check mle_retvals\", ConvergenceWarning)\n"
          ],
          "name": "stderr"
        },
        {
          "output_type": "stream",
          "text": [
            "ARIMA(2, 1, 0)x(1, 1, 1, 12)- AIC:3485.2946191803567\n",
            " \n"
          ],
          "name": "stdout"
        },
        {
          "output_type": "stream",
          "text": [
            "/usr/local/lib/python3.7/dist-packages/statsmodels/base/model.py:512: ConvergenceWarning: Maximum Likelihood optimization failed to converge. Check mle_retvals\n",
            "  \"Check mle_retvals\", ConvergenceWarning)\n"
          ],
          "name": "stderr"
        },
        {
          "output_type": "stream",
          "text": [
            "ARIMA(2, 1, 0)x(1, 1, 2, 12)- AIC:3198.727839818193\n",
            " \n",
            "ARIMA(2, 1, 0)x(1, 1, 3, 12)- AIC:9199.205800881527\n",
            " \n"
          ],
          "name": "stdout"
        },
        {
          "output_type": "stream",
          "text": [
            "/usr/local/lib/python3.7/dist-packages/statsmodels/base/model.py:512: ConvergenceWarning: Maximum Likelihood optimization failed to converge. Check mle_retvals\n",
            "  \"Check mle_retvals\", ConvergenceWarning)\n"
          ],
          "name": "stderr"
        },
        {
          "output_type": "stream",
          "text": [
            "ARIMA(2, 1, 0)x(2, 1, 0, 12)- AIC:3168.518579984139\n",
            " \n"
          ],
          "name": "stdout"
        },
        {
          "output_type": "stream",
          "text": [
            "/usr/local/lib/python3.7/dist-packages/statsmodels/base/model.py:512: ConvergenceWarning: Maximum Likelihood optimization failed to converge. Check mle_retvals\n",
            "  \"Check mle_retvals\", ConvergenceWarning)\n"
          ],
          "name": "stderr"
        },
        {
          "output_type": "stream",
          "text": [
            "ARIMA(2, 1, 0)x(2, 1, 1, 12)- AIC:3169.916245966566\n",
            " \n"
          ],
          "name": "stdout"
        },
        {
          "output_type": "stream",
          "text": [
            "/usr/local/lib/python3.7/dist-packages/statsmodels/base/model.py:512: ConvergenceWarning: Maximum Likelihood optimization failed to converge. Check mle_retvals\n",
            "  \"Check mle_retvals\", ConvergenceWarning)\n"
          ],
          "name": "stderr"
        },
        {
          "output_type": "stream",
          "text": [
            "ARIMA(2, 1, 0)x(2, 1, 2, 12)- AIC:3171.3411492903756\n",
            " \n",
            "ARIMA(2, 1, 0)x(2, 1, 3, 12)- AIC:9121.326992143999\n",
            " \n"
          ],
          "name": "stdout"
        },
        {
          "output_type": "stream",
          "text": [
            "/usr/local/lib/python3.7/dist-packages/statsmodels/base/model.py:512: ConvergenceWarning: Maximum Likelihood optimization failed to converge. Check mle_retvals\n",
            "  \"Check mle_retvals\", ConvergenceWarning)\n"
          ],
          "name": "stderr"
        },
        {
          "output_type": "stream",
          "text": [
            "ARIMA(2, 1, 0)x(3, 1, 0, 12)- AIC:2856.6454493919655\n",
            " \n"
          ],
          "name": "stdout"
        },
        {
          "output_type": "stream",
          "text": [
            "/usr/local/lib/python3.7/dist-packages/statsmodels/base/model.py:512: ConvergenceWarning: Maximum Likelihood optimization failed to converge. Check mle_retvals\n",
            "  \"Check mle_retvals\", ConvergenceWarning)\n"
          ],
          "name": "stderr"
        },
        {
          "output_type": "stream",
          "text": [
            "ARIMA(2, 1, 0)x(3, 1, 1, 12)- AIC:2858.8845018394395\n",
            " \n"
          ],
          "name": "stdout"
        },
        {
          "output_type": "stream",
          "text": [
            "/usr/local/lib/python3.7/dist-packages/statsmodels/base/model.py:512: ConvergenceWarning: Maximum Likelihood optimization failed to converge. Check mle_retvals\n",
            "  \"Check mle_retvals\", ConvergenceWarning)\n"
          ],
          "name": "stderr"
        },
        {
          "output_type": "stream",
          "text": [
            "ARIMA(2, 1, 0)x(3, 1, 2, 12)- AIC:2856.7031149003674\n",
            " \n",
            "ARIMA(2, 1, 0)x(3, 1, 3, 12)- AIC:9208.63134813693\n",
            " \n"
          ],
          "name": "stdout"
        },
        {
          "output_type": "stream",
          "text": [
            "/usr/local/lib/python3.7/dist-packages/statsmodels/base/model.py:512: ConvergenceWarning: Maximum Likelihood optimization failed to converge. Check mle_retvals\n",
            "  \"Check mle_retvals\", ConvergenceWarning)\n"
          ],
          "name": "stderr"
        },
        {
          "output_type": "stream",
          "text": [
            "ARIMA(2, 1, 1)x(0, 1, 0, 12)- AIC:3791.210683000352\n",
            " \n"
          ],
          "name": "stdout"
        },
        {
          "output_type": "stream",
          "text": [
            "/usr/local/lib/python3.7/dist-packages/statsmodels/base/model.py:512: ConvergenceWarning: Maximum Likelihood optimization failed to converge. Check mle_retvals\n",
            "  \"Check mle_retvals\", ConvergenceWarning)\n"
          ],
          "name": "stderr"
        },
        {
          "output_type": "stream",
          "text": [
            "ARIMA(2, 1, 1)x(0, 1, 1, 12)- AIC:3484.618356114312\n",
            " \n"
          ],
          "name": "stdout"
        },
        {
          "output_type": "stream",
          "text": [
            "/usr/local/lib/python3.7/dist-packages/statsmodels/base/model.py:512: ConvergenceWarning: Maximum Likelihood optimization failed to converge. Check mle_retvals\n",
            "  \"Check mle_retvals\", ConvergenceWarning)\n"
          ],
          "name": "stderr"
        },
        {
          "output_type": "stream",
          "text": [
            "ARIMA(2, 1, 1)x(0, 1, 2, 12)- AIC:3171.8089780499877\n",
            " \n",
            "ARIMA(2, 1, 1)x(0, 1, 3, 12)- AIC:8950.901305536183\n",
            " \n"
          ],
          "name": "stdout"
        },
        {
          "output_type": "stream",
          "text": [
            "/usr/local/lib/python3.7/dist-packages/statsmodels/base/model.py:512: ConvergenceWarning: Maximum Likelihood optimization failed to converge. Check mle_retvals\n",
            "  \"Check mle_retvals\", ConvergenceWarning)\n"
          ],
          "name": "stderr"
        },
        {
          "output_type": "stream",
          "text": [
            "ARIMA(2, 1, 1)x(1, 1, 0, 12)- AIC:3484.6200683064317\n",
            " \n"
          ],
          "name": "stdout"
        },
        {
          "output_type": "stream",
          "text": [
            "/usr/local/lib/python3.7/dist-packages/statsmodels/base/model.py:512: ConvergenceWarning: Maximum Likelihood optimization failed to converge. Check mle_retvals\n",
            "  \"Check mle_retvals\", ConvergenceWarning)\n"
          ],
          "name": "stderr"
        },
        {
          "output_type": "stream",
          "text": [
            "ARIMA(2, 1, 1)x(1, 1, 1, 12)- AIC:3486.410529638575\n",
            " \n"
          ],
          "name": "stdout"
        },
        {
          "output_type": "stream",
          "text": [
            "/usr/local/lib/python3.7/dist-packages/statsmodels/base/model.py:512: ConvergenceWarning: Maximum Likelihood optimization failed to converge. Check mle_retvals\n",
            "  \"Check mle_retvals\", ConvergenceWarning)\n"
          ],
          "name": "stderr"
        },
        {
          "output_type": "stream",
          "text": [
            "ARIMA(2, 1, 1)x(1, 1, 2, 12)- AIC:3171.4949454358707\n",
            " \n",
            "ARIMA(2, 1, 1)x(1, 1, 3, 12)- AIC:9114.767548098134\n",
            " \n"
          ],
          "name": "stdout"
        },
        {
          "output_type": "stream",
          "text": [
            "/usr/local/lib/python3.7/dist-packages/statsmodels/base/model.py:512: ConvergenceWarning: Maximum Likelihood optimization failed to converge. Check mle_retvals\n",
            "  \"Check mle_retvals\", ConvergenceWarning)\n"
          ],
          "name": "stderr"
        },
        {
          "output_type": "stream",
          "text": [
            "ARIMA(2, 1, 1)x(2, 1, 0, 12)- AIC:3170.525256297148\n",
            " \n"
          ],
          "name": "stdout"
        },
        {
          "output_type": "stream",
          "text": [
            "/usr/local/lib/python3.7/dist-packages/statsmodels/base/model.py:512: ConvergenceWarning: Maximum Likelihood optimization failed to converge. Check mle_retvals\n",
            "  \"Check mle_retvals\", ConvergenceWarning)\n"
          ],
          "name": "stderr"
        },
        {
          "output_type": "stream",
          "text": [
            "ARIMA(2, 1, 1)x(2, 1, 1, 12)- AIC:3171.663338679692\n",
            " \n"
          ],
          "name": "stdout"
        },
        {
          "output_type": "stream",
          "text": [
            "/usr/local/lib/python3.7/dist-packages/statsmodels/base/model.py:512: ConvergenceWarning: Maximum Likelihood optimization failed to converge. Check mle_retvals\n",
            "  \"Check mle_retvals\", ConvergenceWarning)\n"
          ],
          "name": "stderr"
        },
        {
          "output_type": "stream",
          "text": [
            "ARIMA(2, 1, 1)x(2, 1, 2, 12)- AIC:3171.324288195546\n",
            " \n",
            "ARIMA(2, 1, 1)x(2, 1, 3, 12)- AIC:9037.649489896081\n",
            " \n"
          ],
          "name": "stdout"
        },
        {
          "output_type": "stream",
          "text": [
            "/usr/local/lib/python3.7/dist-packages/statsmodels/base/model.py:512: ConvergenceWarning: Maximum Likelihood optimization failed to converge. Check mle_retvals\n",
            "  \"Check mle_retvals\", ConvergenceWarning)\n"
          ],
          "name": "stderr"
        },
        {
          "output_type": "stream",
          "text": [
            "ARIMA(2, 1, 1)x(3, 1, 0, 12)- AIC:2853.470995970646\n",
            " \n"
          ],
          "name": "stdout"
        },
        {
          "output_type": "stream",
          "text": [
            "/usr/local/lib/python3.7/dist-packages/statsmodels/base/model.py:512: ConvergenceWarning: Maximum Likelihood optimization failed to converge. Check mle_retvals\n",
            "  \"Check mle_retvals\", ConvergenceWarning)\n"
          ],
          "name": "stderr"
        },
        {
          "output_type": "stream",
          "text": [
            "ARIMA(2, 1, 1)x(3, 1, 1, 12)- AIC:2855.4142717320583\n",
            " \n"
          ],
          "name": "stdout"
        },
        {
          "output_type": "stream",
          "text": [
            "/usr/local/lib/python3.7/dist-packages/statsmodels/base/model.py:512: ConvergenceWarning: Maximum Likelihood optimization failed to converge. Check mle_retvals\n",
            "  \"Check mle_retvals\", ConvergenceWarning)\n"
          ],
          "name": "stderr"
        },
        {
          "output_type": "stream",
          "text": [
            "ARIMA(2, 1, 1)x(3, 1, 2, 12)- AIC:2858.248243463656\n",
            " \n",
            "ARIMA(2, 1, 1)x(3, 1, 3, 12)- AIC:9210.337912504849\n",
            " \n"
          ],
          "name": "stdout"
        },
        {
          "output_type": "stream",
          "text": [
            "/usr/local/lib/python3.7/dist-packages/statsmodels/base/model.py:512: ConvergenceWarning: Maximum Likelihood optimization failed to converge. Check mle_retvals\n",
            "  \"Check mle_retvals\", ConvergenceWarning)\n"
          ],
          "name": "stderr"
        },
        {
          "output_type": "stream",
          "text": [
            "ARIMA(2, 1, 2)x(0, 1, 0, 12)- AIC:3766.859381819543\n",
            " \n"
          ],
          "name": "stdout"
        },
        {
          "output_type": "stream",
          "text": [
            "/usr/local/lib/python3.7/dist-packages/statsmodels/base/model.py:512: ConvergenceWarning: Maximum Likelihood optimization failed to converge. Check mle_retvals\n",
            "  \"Check mle_retvals\", ConvergenceWarning)\n"
          ],
          "name": "stderr"
        },
        {
          "output_type": "stream",
          "text": [
            "ARIMA(2, 1, 2)x(0, 1, 1, 12)- AIC:3459.7007587109747\n",
            " \n"
          ],
          "name": "stdout"
        },
        {
          "output_type": "stream",
          "text": [
            "/usr/local/lib/python3.7/dist-packages/statsmodels/base/model.py:512: ConvergenceWarning: Maximum Likelihood optimization failed to converge. Check mle_retvals\n",
            "  \"Check mle_retvals\", ConvergenceWarning)\n"
          ],
          "name": "stderr"
        },
        {
          "output_type": "stream",
          "text": [
            "ARIMA(2, 1, 2)x(0, 1, 2, 12)- AIC:3148.814520261531\n",
            " \n",
            "ARIMA(2, 1, 2)x(0, 1, 3, 12)- AIC:8868.25688649838\n",
            " \n"
          ],
          "name": "stdout"
        },
        {
          "output_type": "stream",
          "text": [
            "/usr/local/lib/python3.7/dist-packages/statsmodels/base/model.py:512: ConvergenceWarning: Maximum Likelihood optimization failed to converge. Check mle_retvals\n",
            "  \"Check mle_retvals\", ConvergenceWarning)\n"
          ],
          "name": "stderr"
        },
        {
          "output_type": "stream",
          "text": [
            "ARIMA(2, 1, 2)x(1, 1, 0, 12)- AIC:3486.0230834371996\n",
            " \n"
          ],
          "name": "stdout"
        },
        {
          "output_type": "stream",
          "text": [
            "/usr/local/lib/python3.7/dist-packages/statsmodels/base/model.py:512: ConvergenceWarning: Maximum Likelihood optimization failed to converge. Check mle_retvals\n",
            "  \"Check mle_retvals\", ConvergenceWarning)\n"
          ],
          "name": "stderr"
        },
        {
          "output_type": "stream",
          "text": [
            "ARIMA(2, 1, 2)x(1, 1, 1, 12)- AIC:3461.5403496905496\n",
            " \n"
          ],
          "name": "stdout"
        },
        {
          "output_type": "stream",
          "text": [
            "/usr/local/lib/python3.7/dist-packages/statsmodels/base/model.py:512: ConvergenceWarning: Maximum Likelihood optimization failed to converge. Check mle_retvals\n",
            "  \"Check mle_retvals\", ConvergenceWarning)\n"
          ],
          "name": "stderr"
        },
        {
          "output_type": "stream",
          "text": [
            "ARIMA(2, 1, 2)x(1, 1, 2, 12)- AIC:3147.538214013781\n",
            " \n",
            "ARIMA(2, 1, 2)x(1, 1, 3, 12)- AIC:9030.566472324943\n",
            " \n"
          ],
          "name": "stdout"
        },
        {
          "output_type": "stream",
          "text": [
            "/usr/local/lib/python3.7/dist-packages/statsmodels/base/model.py:512: ConvergenceWarning: Maximum Likelihood optimization failed to converge. Check mle_retvals\n",
            "  \"Check mle_retvals\", ConvergenceWarning)\n"
          ],
          "name": "stderr"
        },
        {
          "output_type": "stream",
          "text": [
            "ARIMA(2, 1, 2)x(2, 1, 0, 12)- AIC:3171.1757144409607\n",
            " \n"
          ],
          "name": "stdout"
        },
        {
          "output_type": "stream",
          "text": [
            "/usr/local/lib/python3.7/dist-packages/statsmodels/base/model.py:512: ConvergenceWarning: Maximum Likelihood optimization failed to converge. Check mle_retvals\n",
            "  \"Check mle_retvals\", ConvergenceWarning)\n"
          ],
          "name": "stderr"
        },
        {
          "output_type": "stream",
          "text": [
            "ARIMA(2, 1, 2)x(2, 1, 1, 12)- AIC:3172.475040793576\n",
            " \n"
          ],
          "name": "stdout"
        },
        {
          "output_type": "stream",
          "text": [
            "/usr/local/lib/python3.7/dist-packages/statsmodels/base/model.py:512: ConvergenceWarning: Maximum Likelihood optimization failed to converge. Check mle_retvals\n",
            "  \"Check mle_retvals\", ConvergenceWarning)\n"
          ],
          "name": "stderr"
        },
        {
          "output_type": "stream",
          "text": [
            "ARIMA(2, 1, 2)x(2, 1, 2, 12)- AIC:3146.948236477429\n",
            " \n",
            "ARIMA(2, 1, 2)x(2, 1, 3, 12)- AIC:9226.15738443857\n",
            " \n"
          ],
          "name": "stdout"
        },
        {
          "output_type": "stream",
          "text": [
            "/usr/local/lib/python3.7/dist-packages/statsmodels/base/model.py:512: ConvergenceWarning: Maximum Likelihood optimization failed to converge. Check mle_retvals\n",
            "  \"Check mle_retvals\", ConvergenceWarning)\n"
          ],
          "name": "stderr"
        },
        {
          "output_type": "stream",
          "text": [
            "ARIMA(2, 1, 2)x(3, 1, 0, 12)- AIC:2853.3116001003564\n",
            " \n"
          ],
          "name": "stdout"
        },
        {
          "output_type": "stream",
          "text": [
            "/usr/local/lib/python3.7/dist-packages/statsmodels/base/model.py:512: ConvergenceWarning: Maximum Likelihood optimization failed to converge. Check mle_retvals\n",
            "  \"Check mle_retvals\", ConvergenceWarning)\n"
          ],
          "name": "stderr"
        },
        {
          "output_type": "stream",
          "text": [
            "ARIMA(2, 1, 2)x(3, 1, 1, 12)- AIC:2855.658437927472\n",
            " \n"
          ],
          "name": "stdout"
        },
        {
          "output_type": "stream",
          "text": [
            "/usr/local/lib/python3.7/dist-packages/statsmodels/base/model.py:512: ConvergenceWarning: Maximum Likelihood optimization failed to converge. Check mle_retvals\n",
            "  \"Check mle_retvals\", ConvergenceWarning)\n"
          ],
          "name": "stderr"
        },
        {
          "output_type": "stream",
          "text": [
            "ARIMA(2, 1, 2)x(3, 1, 2, 12)- AIC:2858.267180993663\n",
            " \n",
            "ARIMA(2, 1, 2)x(3, 1, 3, 12)- AIC:9125.25635245839\n",
            " \n"
          ],
          "name": "stdout"
        },
        {
          "output_type": "stream",
          "text": [
            "/usr/local/lib/python3.7/dist-packages/statsmodels/base/model.py:512: ConvergenceWarning: Maximum Likelihood optimization failed to converge. Check mle_retvals\n",
            "  \"Check mle_retvals\", ConvergenceWarning)\n"
          ],
          "name": "stderr"
        },
        {
          "output_type": "stream",
          "text": [
            "ARIMA(2, 1, 3)x(0, 1, 0, 12)- AIC:3740.851751716309\n",
            " \n"
          ],
          "name": "stdout"
        },
        {
          "output_type": "stream",
          "text": [
            "/usr/local/lib/python3.7/dist-packages/statsmodels/base/model.py:512: ConvergenceWarning: Maximum Likelihood optimization failed to converge. Check mle_retvals\n",
            "  \"Check mle_retvals\", ConvergenceWarning)\n"
          ],
          "name": "stderr"
        },
        {
          "output_type": "stream",
          "text": [
            "ARIMA(2, 1, 3)x(0, 1, 1, 12)- AIC:3431.1792626895754\n",
            " \n"
          ],
          "name": "stdout"
        },
        {
          "output_type": "stream",
          "text": [
            "/usr/local/lib/python3.7/dist-packages/statsmodels/base/model.py:512: ConvergenceWarning: Maximum Likelihood optimization failed to converge. Check mle_retvals\n",
            "  \"Check mle_retvals\", ConvergenceWarning)\n"
          ],
          "name": "stderr"
        },
        {
          "output_type": "stream",
          "text": [
            "ARIMA(2, 1, 3)x(0, 1, 2, 12)- AIC:3124.188005996575\n",
            " \n",
            "ARIMA(2, 1, 3)x(0, 1, 3, 12)- AIC:8788.03854413082\n",
            " \n"
          ],
          "name": "stdout"
        },
        {
          "output_type": "stream",
          "text": [
            "/usr/local/lib/python3.7/dist-packages/statsmodels/base/model.py:512: ConvergenceWarning: Maximum Likelihood optimization failed to converge. Check mle_retvals\n",
            "  \"Check mle_retvals\", ConvergenceWarning)\n"
          ],
          "name": "stderr"
        },
        {
          "output_type": "stream",
          "text": [
            "ARIMA(2, 1, 3)x(1, 1, 0, 12)- AIC:3487.8670013362016\n",
            " \n"
          ],
          "name": "stdout"
        },
        {
          "output_type": "stream",
          "text": [
            "/usr/local/lib/python3.7/dist-packages/statsmodels/base/model.py:512: ConvergenceWarning: Maximum Likelihood optimization failed to converge. Check mle_retvals\n",
            "  \"Check mle_retvals\", ConvergenceWarning)\n"
          ],
          "name": "stderr"
        },
        {
          "output_type": "stream",
          "text": [
            "ARIMA(2, 1, 3)x(1, 1, 1, 12)- AIC:3431.7182353825056\n",
            " \n"
          ],
          "name": "stdout"
        },
        {
          "output_type": "stream",
          "text": [
            "/usr/local/lib/python3.7/dist-packages/statsmodels/base/model.py:512: ConvergenceWarning: Maximum Likelihood optimization failed to converge. Check mle_retvals\n",
            "  \"Check mle_retvals\", ConvergenceWarning)\n"
          ],
          "name": "stderr"
        },
        {
          "output_type": "stream",
          "text": [
            "ARIMA(2, 1, 3)x(1, 1, 2, 12)- AIC:3123.724416516194\n",
            " \n",
            "ARIMA(2, 1, 3)x(1, 1, 3, 12)- AIC:8948.792054831561\n",
            " \n"
          ],
          "name": "stdout"
        },
        {
          "output_type": "stream",
          "text": [
            "/usr/local/lib/python3.7/dist-packages/statsmodels/base/model.py:512: ConvergenceWarning: Maximum Likelihood optimization failed to converge. Check mle_retvals\n",
            "  \"Check mle_retvals\", ConvergenceWarning)\n"
          ],
          "name": "stderr"
        },
        {
          "output_type": "stream",
          "text": [
            "ARIMA(2, 1, 3)x(2, 1, 0, 12)- AIC:3172.957724271794\n",
            " \n"
          ],
          "name": "stdout"
        },
        {
          "output_type": "stream",
          "text": [
            "/usr/local/lib/python3.7/dist-packages/statsmodels/base/model.py:512: ConvergenceWarning: Maximum Likelihood optimization failed to converge. Check mle_retvals\n",
            "  \"Check mle_retvals\", ConvergenceWarning)\n"
          ],
          "name": "stderr"
        },
        {
          "output_type": "stream",
          "text": [
            "ARIMA(2, 1, 3)x(2, 1, 1, 12)- AIC:3172.0785681210614\n",
            " \n"
          ],
          "name": "stdout"
        },
        {
          "output_type": "stream",
          "text": [
            "/usr/local/lib/python3.7/dist-packages/statsmodels/base/model.py:512: ConvergenceWarning: Maximum Likelihood optimization failed to converge. Check mle_retvals\n",
            "  \"Check mle_retvals\", ConvergenceWarning)\n"
          ],
          "name": "stderr"
        },
        {
          "output_type": "stream",
          "text": [
            "ARIMA(2, 1, 3)x(2, 1, 2, 12)- AIC:3119.369574323351\n",
            " \n",
            "ARIMA(2, 1, 3)x(2, 1, 3, 12)- AIC:8873.188266391666\n",
            " \n"
          ],
          "name": "stdout"
        },
        {
          "output_type": "stream",
          "text": [
            "/usr/local/lib/python3.7/dist-packages/statsmodels/base/model.py:512: ConvergenceWarning: Maximum Likelihood optimization failed to converge. Check mle_retvals\n",
            "  \"Check mle_retvals\", ConvergenceWarning)\n"
          ],
          "name": "stderr"
        },
        {
          "output_type": "stream",
          "text": [
            "ARIMA(2, 1, 3)x(3, 1, 0, 12)- AIC:2856.1673309646712\n",
            " \n"
          ],
          "name": "stdout"
        },
        {
          "output_type": "stream",
          "text": [
            "/usr/local/lib/python3.7/dist-packages/statsmodels/base/model.py:512: ConvergenceWarning: Maximum Likelihood optimization failed to converge. Check mle_retvals\n",
            "  \"Check mle_retvals\", ConvergenceWarning)\n"
          ],
          "name": "stderr"
        },
        {
          "output_type": "stream",
          "text": [
            "ARIMA(2, 1, 3)x(3, 1, 1, 12)- AIC:2857.9309658470283\n",
            " \n"
          ],
          "name": "stdout"
        },
        {
          "output_type": "stream",
          "text": [
            "/usr/local/lib/python3.7/dist-packages/statsmodels/base/model.py:512: ConvergenceWarning: Maximum Likelihood optimization failed to converge. Check mle_retvals\n",
            "  \"Check mle_retvals\", ConvergenceWarning)\n"
          ],
          "name": "stderr"
        },
        {
          "output_type": "stream",
          "text": [
            "ARIMA(2, 1, 3)x(3, 1, 2, 12)- AIC:2860.4131218003795\n",
            " \n",
            "ARIMA(2, 1, 3)x(3, 1, 3, 12)- AIC:9042.60145069183\n",
            " \n"
          ],
          "name": "stdout"
        },
        {
          "output_type": "stream",
          "text": [
            "/usr/local/lib/python3.7/dist-packages/statsmodels/base/model.py:512: ConvergenceWarning: Maximum Likelihood optimization failed to converge. Check mle_retvals\n",
            "  \"Check mle_retvals\", ConvergenceWarning)\n"
          ],
          "name": "stderr"
        },
        {
          "output_type": "stream",
          "text": [
            "ARIMA(3, 1, 0)x(0, 1, 0, 12)- AIC:3765.9250426708113\n",
            " \n"
          ],
          "name": "stdout"
        },
        {
          "output_type": "stream",
          "text": [
            "/usr/local/lib/python3.7/dist-packages/statsmodels/base/model.py:512: ConvergenceWarning: Maximum Likelihood optimization failed to converge. Check mle_retvals\n",
            "  \"Check mle_retvals\", ConvergenceWarning)\n"
          ],
          "name": "stderr"
        },
        {
          "output_type": "stream",
          "text": [
            "ARIMA(3, 1, 0)x(0, 1, 1, 12)- AIC:3510.095359838426\n",
            " \n"
          ],
          "name": "stdout"
        },
        {
          "output_type": "stream",
          "text": [
            "/usr/local/lib/python3.7/dist-packages/statsmodels/base/model.py:512: ConvergenceWarning: Maximum Likelihood optimization failed to converge. Check mle_retvals\n",
            "  \"Check mle_retvals\", ConvergenceWarning)\n"
          ],
          "name": "stderr"
        },
        {
          "output_type": "stream",
          "text": [
            "ARIMA(3, 1, 0)x(0, 1, 2, 12)- AIC:3198.8510871443323\n",
            " \n",
            "ARIMA(3, 1, 0)x(0, 1, 3, 12)- AIC:9035.716522422405\n",
            " \n"
          ],
          "name": "stdout"
        },
        {
          "output_type": "stream",
          "text": [
            "/usr/local/lib/python3.7/dist-packages/statsmodels/base/model.py:512: ConvergenceWarning: Maximum Likelihood optimization failed to converge. Check mle_retvals\n",
            "  \"Check mle_retvals\", ConvergenceWarning)\n"
          ],
          "name": "stderr"
        },
        {
          "output_type": "stream",
          "text": [
            "ARIMA(3, 1, 0)x(1, 1, 0, 12)- AIC:3458.4253729529096\n",
            " \n"
          ],
          "name": "stdout"
        },
        {
          "output_type": "stream",
          "text": [
            "/usr/local/lib/python3.7/dist-packages/statsmodels/base/model.py:512: ConvergenceWarning: Maximum Likelihood optimization failed to converge. Check mle_retvals\n",
            "  \"Check mle_retvals\", ConvergenceWarning)\n"
          ],
          "name": "stderr"
        },
        {
          "output_type": "stream",
          "text": [
            "ARIMA(3, 1, 0)x(1, 1, 1, 12)- AIC:3460.6234588050106\n",
            " \n"
          ],
          "name": "stdout"
        },
        {
          "output_type": "stream",
          "text": [
            "/usr/local/lib/python3.7/dist-packages/statsmodels/base/model.py:512: ConvergenceWarning: Maximum Likelihood optimization failed to converge. Check mle_retvals\n",
            "  \"Check mle_retvals\", ConvergenceWarning)\n"
          ],
          "name": "stderr"
        },
        {
          "output_type": "stream",
          "text": [
            "ARIMA(3, 1, 0)x(1, 1, 2, 12)- AIC:3200.9217904038674\n",
            " \n",
            "ARIMA(3, 1, 0)x(1, 1, 3, 12)- AIC:9201.139206677322\n",
            " \n"
          ],
          "name": "stdout"
        },
        {
          "output_type": "stream",
          "text": [
            "/usr/local/lib/python3.7/dist-packages/statsmodels/base/model.py:512: ConvergenceWarning: Maximum Likelihood optimization failed to converge. Check mle_retvals\n",
            "  \"Check mle_retvals\", ConvergenceWarning)\n"
          ],
          "name": "stderr"
        },
        {
          "output_type": "stream",
          "text": [
            "ARIMA(3, 1, 0)x(2, 1, 0, 12)- AIC:3145.0462329140178\n",
            " \n"
          ],
          "name": "stdout"
        },
        {
          "output_type": "stream",
          "text": [
            "/usr/local/lib/python3.7/dist-packages/statsmodels/base/model.py:512: ConvergenceWarning: Maximum Likelihood optimization failed to converge. Check mle_retvals\n",
            "  \"Check mle_retvals\", ConvergenceWarning)\n"
          ],
          "name": "stderr"
        },
        {
          "output_type": "stream",
          "text": [
            "ARIMA(3, 1, 0)x(2, 1, 1, 12)- AIC:3146.367509305894\n",
            " \n"
          ],
          "name": "stdout"
        },
        {
          "output_type": "stream",
          "text": [
            "/usr/local/lib/python3.7/dist-packages/statsmodels/base/model.py:512: ConvergenceWarning: Maximum Likelihood optimization failed to converge. Check mle_retvals\n",
            "  \"Check mle_retvals\", ConvergenceWarning)\n"
          ],
          "name": "stderr"
        },
        {
          "output_type": "stream",
          "text": [
            "ARIMA(3, 1, 0)x(2, 1, 2, 12)- AIC:3147.7518692228255\n",
            " \n",
            "ARIMA(3, 1, 0)x(2, 1, 3, 12)- AIC:9123.260397945856\n",
            " \n"
          ],
          "name": "stdout"
        },
        {
          "output_type": "stream",
          "text": [
            "/usr/local/lib/python3.7/dist-packages/statsmodels/base/model.py:512: ConvergenceWarning: Maximum Likelihood optimization failed to converge. Check mle_retvals\n",
            "  \"Check mle_retvals\", ConvergenceWarning)\n"
          ],
          "name": "stderr"
        },
        {
          "output_type": "stream",
          "text": [
            "ARIMA(3, 1, 0)x(3, 1, 0, 12)- AIC:2832.3723742020234\n",
            " \n"
          ],
          "name": "stdout"
        },
        {
          "output_type": "stream",
          "text": [
            "/usr/local/lib/python3.7/dist-packages/statsmodels/base/model.py:512: ConvergenceWarning: Maximum Likelihood optimization failed to converge. Check mle_retvals\n",
            "  \"Check mle_retvals\", ConvergenceWarning)\n"
          ],
          "name": "stderr"
        },
        {
          "output_type": "stream",
          "text": [
            "ARIMA(3, 1, 0)x(3, 1, 1, 12)- AIC:2834.528532651603\n",
            " \n"
          ],
          "name": "stdout"
        },
        {
          "output_type": "stream",
          "text": [
            "/usr/local/lib/python3.7/dist-packages/statsmodels/base/model.py:512: ConvergenceWarning: Maximum Likelihood optimization failed to converge. Check mle_retvals\n",
            "  \"Check mle_retvals\", ConvergenceWarning)\n"
          ],
          "name": "stderr"
        },
        {
          "output_type": "stream",
          "text": [
            "ARIMA(3, 1, 0)x(3, 1, 2, 12)- AIC:2832.7881152755012\n",
            " \n",
            "ARIMA(3, 1, 0)x(3, 1, 3, 12)- AIC:9123.540720969371\n",
            " \n"
          ],
          "name": "stdout"
        },
        {
          "output_type": "stream",
          "text": [
            "/usr/local/lib/python3.7/dist-packages/statsmodels/base/model.py:512: ConvergenceWarning: Maximum Likelihood optimization failed to converge. Check mle_retvals\n",
            "  \"Check mle_retvals\", ConvergenceWarning)\n"
          ],
          "name": "stderr"
        },
        {
          "output_type": "stream",
          "text": [
            "ARIMA(3, 1, 1)x(0, 1, 0, 12)- AIC:3767.3283068301253\n",
            " \n"
          ],
          "name": "stdout"
        },
        {
          "output_type": "stream",
          "text": [
            "/usr/local/lib/python3.7/dist-packages/statsmodels/base/model.py:512: ConvergenceWarning: Maximum Likelihood optimization failed to converge. Check mle_retvals\n",
            "  \"Check mle_retvals\", ConvergenceWarning)\n"
          ],
          "name": "stderr"
        },
        {
          "output_type": "stream",
          "text": [
            "ARIMA(3, 1, 1)x(0, 1, 1, 12)- AIC:3486.56799848791\n",
            " \n"
          ],
          "name": "stdout"
        },
        {
          "output_type": "stream",
          "text": [
            "/usr/local/lib/python3.7/dist-packages/statsmodels/base/model.py:512: ConvergenceWarning: Maximum Likelihood optimization failed to converge. Check mle_retvals\n",
            "  \"Check mle_retvals\", ConvergenceWarning)\n"
          ],
          "name": "stderr"
        },
        {
          "output_type": "stream",
          "text": [
            "ARIMA(3, 1, 1)x(0, 1, 2, 12)- AIC:3173.7986867593977\n",
            " \n",
            "ARIMA(3, 1, 1)x(0, 1, 3, 12)- AIC:8952.901350500437\n",
            " \n"
          ],
          "name": "stdout"
        },
        {
          "output_type": "stream",
          "text": [
            "/usr/local/lib/python3.7/dist-packages/statsmodels/base/model.py:512: ConvergenceWarning: Maximum Likelihood optimization failed to converge. Check mle_retvals\n",
            "  \"Check mle_retvals\", ConvergenceWarning)\n"
          ],
          "name": "stderr"
        },
        {
          "output_type": "stream",
          "text": [
            "ARIMA(3, 1, 1)x(1, 1, 0, 12)- AIC:3460.2425052260974\n",
            " \n"
          ],
          "name": "stdout"
        },
        {
          "output_type": "stream",
          "text": [
            "/usr/local/lib/python3.7/dist-packages/statsmodels/base/model.py:512: ConvergenceWarning: Maximum Likelihood optimization failed to converge. Check mle_retvals\n",
            "  \"Check mle_retvals\", ConvergenceWarning)\n"
          ],
          "name": "stderr"
        },
        {
          "output_type": "stream",
          "text": [
            "ARIMA(3, 1, 1)x(1, 1, 1, 12)- AIC:3462.5389649535223\n",
            " \n"
          ],
          "name": "stdout"
        },
        {
          "output_type": "stream",
          "text": [
            "/usr/local/lib/python3.7/dist-packages/statsmodels/base/model.py:512: ConvergenceWarning: Maximum Likelihood optimization failed to converge. Check mle_retvals\n",
            "  \"Check mle_retvals\", ConvergenceWarning)\n"
          ],
          "name": "stderr"
        },
        {
          "output_type": "stream",
          "text": [
            "ARIMA(3, 1, 1)x(1, 1, 2, 12)- AIC:3173.3402242635825\n",
            " \n",
            "ARIMA(3, 1, 1)x(1, 1, 3, 12)- AIC:9116.767548098154\n",
            " \n"
          ],
          "name": "stdout"
        },
        {
          "output_type": "stream",
          "text": [
            "/usr/local/lib/python3.7/dist-packages/statsmodels/base/model.py:512: ConvergenceWarning: Maximum Likelihood optimization failed to converge. Check mle_retvals\n",
            "  \"Check mle_retvals\", ConvergenceWarning)\n"
          ],
          "name": "stderr"
        },
        {
          "output_type": "stream",
          "text": [
            "ARIMA(3, 1, 1)x(2, 1, 0, 12)- AIC:3145.391459459897\n",
            " \n"
          ],
          "name": "stdout"
        },
        {
          "output_type": "stream",
          "text": [
            "/usr/local/lib/python3.7/dist-packages/statsmodels/base/model.py:512: ConvergenceWarning: Maximum Likelihood optimization failed to converge. Check mle_retvals\n",
            "  \"Check mle_retvals\", ConvergenceWarning)\n"
          ],
          "name": "stderr"
        },
        {
          "output_type": "stream",
          "text": [
            "ARIMA(3, 1, 1)x(2, 1, 1, 12)- AIC:3147.7961015702576\n",
            " \n"
          ],
          "name": "stdout"
        },
        {
          "output_type": "stream",
          "text": [
            "/usr/local/lib/python3.7/dist-packages/statsmodels/base/model.py:512: ConvergenceWarning: Maximum Likelihood optimization failed to converge. Check mle_retvals\n",
            "  \"Check mle_retvals\", ConvergenceWarning)\n"
          ],
          "name": "stderr"
        },
        {
          "output_type": "stream",
          "text": [
            "ARIMA(3, 1, 1)x(2, 1, 2, 12)- AIC:3148.430883940171\n",
            " \n",
            "ARIMA(3, 1, 1)x(2, 1, 3, 12)- AIC:9295.1428672434\n",
            " \n"
          ],
          "name": "stdout"
        },
        {
          "output_type": "stream",
          "text": [
            "/usr/local/lib/python3.7/dist-packages/statsmodels/base/model.py:512: ConvergenceWarning: Maximum Likelihood optimization failed to converge. Check mle_retvals\n",
            "  \"Check mle_retvals\", ConvergenceWarning)\n"
          ],
          "name": "stderr"
        },
        {
          "output_type": "stream",
          "text": [
            "ARIMA(3, 1, 1)x(3, 1, 0, 12)- AIC:2828.563996304415\n",
            " \n"
          ],
          "name": "stdout"
        },
        {
          "output_type": "stream",
          "text": [
            "/usr/local/lib/python3.7/dist-packages/statsmodels/base/model.py:512: ConvergenceWarning: Maximum Likelihood optimization failed to converge. Check mle_retvals\n",
            "  \"Check mle_retvals\", ConvergenceWarning)\n"
          ],
          "name": "stderr"
        },
        {
          "output_type": "stream",
          "text": [
            "ARIMA(3, 1, 1)x(3, 1, 1, 12)- AIC:2830.23451844824\n",
            " \n"
          ],
          "name": "stdout"
        },
        {
          "output_type": "stream",
          "text": [
            "/usr/local/lib/python3.7/dist-packages/statsmodels/base/model.py:512: ConvergenceWarning: Maximum Likelihood optimization failed to converge. Check mle_retvals\n",
            "  \"Check mle_retvals\", ConvergenceWarning)\n"
          ],
          "name": "stderr"
        },
        {
          "output_type": "stream",
          "text": [
            "ARIMA(3, 1, 1)x(3, 1, 2, 12)- AIC:2835.103424642477\n",
            " \n",
            "ARIMA(3, 1, 1)x(3, 1, 3, 12)- AIC:9125.315432576917\n",
            " \n"
          ],
          "name": "stdout"
        },
        {
          "output_type": "stream",
          "text": [
            "/usr/local/lib/python3.7/dist-packages/statsmodels/base/model.py:512: ConvergenceWarning: Maximum Likelihood optimization failed to converge. Check mle_retvals\n",
            "  \"Check mle_retvals\", ConvergenceWarning)\n"
          ],
          "name": "stderr"
        },
        {
          "output_type": "stream",
          "text": [
            "ARIMA(3, 1, 2)x(0, 1, 0, 12)- AIC:3769.0234695954655\n",
            " \n"
          ],
          "name": "stdout"
        },
        {
          "output_type": "stream",
          "text": [
            "/usr/local/lib/python3.7/dist-packages/statsmodels/base/model.py:512: ConvergenceWarning: Maximum Likelihood optimization failed to converge. Check mle_retvals\n",
            "  \"Check mle_retvals\", ConvergenceWarning)\n"
          ],
          "name": "stderr"
        },
        {
          "output_type": "stream",
          "text": [
            "ARIMA(3, 1, 2)x(0, 1, 1, 12)- AIC:3461.5996132080654\n",
            " \n"
          ],
          "name": "stdout"
        },
        {
          "output_type": "stream",
          "text": [
            "/usr/local/lib/python3.7/dist-packages/statsmodels/base/model.py:512: ConvergenceWarning: Maximum Likelihood optimization failed to converge. Check mle_retvals\n",
            "  \"Check mle_retvals\", ConvergenceWarning)\n"
          ],
          "name": "stderr"
        },
        {
          "output_type": "stream",
          "text": [
            "ARIMA(3, 1, 2)x(0, 1, 2, 12)- AIC:3150.301578184272\n",
            " \n"
          ],
          "name": "stdout"
        },
        {
          "output_type": "stream",
          "text": [
            "/usr/local/lib/python3.7/dist-packages/statsmodels/base/model.py:512: ConvergenceWarning: Maximum Likelihood optimization failed to converge. Check mle_retvals\n",
            "  \"Check mle_retvals\", ConvergenceWarning)\n"
          ],
          "name": "stderr"
        },
        {
          "output_type": "stream",
          "text": [
            "ARIMA(3, 1, 2)x(0, 1, 3, 12)- AIC:8870.010288042713\n",
            " \n"
          ],
          "name": "stdout"
        },
        {
          "output_type": "stream",
          "text": [
            "/usr/local/lib/python3.7/dist-packages/statsmodels/base/model.py:512: ConvergenceWarning: Maximum Likelihood optimization failed to converge. Check mle_retvals\n",
            "  \"Check mle_retvals\", ConvergenceWarning)\n"
          ],
          "name": "stderr"
        },
        {
          "output_type": "stream",
          "text": [
            "ARIMA(3, 1, 2)x(1, 1, 0, 12)- AIC:3461.4927697284143\n",
            " \n"
          ],
          "name": "stdout"
        },
        {
          "output_type": "stream",
          "text": [
            "/usr/local/lib/python3.7/dist-packages/statsmodels/base/model.py:512: ConvergenceWarning: Maximum Likelihood optimization failed to converge. Check mle_retvals\n",
            "  \"Check mle_retvals\", ConvergenceWarning)\n"
          ],
          "name": "stderr"
        },
        {
          "output_type": "stream",
          "text": [
            "ARIMA(3, 1, 2)x(1, 1, 1, 12)- AIC:3463.555290263974\n",
            " \n"
          ],
          "name": "stdout"
        },
        {
          "output_type": "stream",
          "text": [
            "/usr/local/lib/python3.7/dist-packages/statsmodels/base/model.py:512: ConvergenceWarning: Maximum Likelihood optimization failed to converge. Check mle_retvals\n",
            "  \"Check mle_retvals\", ConvergenceWarning)\n"
          ],
          "name": "stderr"
        },
        {
          "output_type": "stream",
          "text": [
            "ARIMA(3, 1, 2)x(1, 1, 2, 12)- AIC:3149.278072376258\n",
            " \n",
            "ARIMA(3, 1, 2)x(1, 1, 3, 12)- AIC:9032.320606271143\n",
            " \n"
          ],
          "name": "stdout"
        },
        {
          "output_type": "stream",
          "text": [
            "/usr/local/lib/python3.7/dist-packages/statsmodels/base/model.py:512: ConvergenceWarning: Maximum Likelihood optimization failed to converge. Check mle_retvals\n",
            "  \"Check mle_retvals\", ConvergenceWarning)\n"
          ],
          "name": "stderr"
        },
        {
          "output_type": "stream",
          "text": [
            "ARIMA(3, 1, 2)x(2, 1, 0, 12)- AIC:3148.2521273415186\n",
            " \n"
          ],
          "name": "stdout"
        },
        {
          "output_type": "stream",
          "text": [
            "/usr/local/lib/python3.7/dist-packages/statsmodels/base/model.py:512: ConvergenceWarning: Maximum Likelihood optimization failed to converge. Check mle_retvals\n",
            "  \"Check mle_retvals\", ConvergenceWarning)\n"
          ],
          "name": "stderr"
        },
        {
          "output_type": "stream",
          "text": [
            "ARIMA(3, 1, 2)x(2, 1, 1, 12)- AIC:3150.813334222642\n",
            " \n"
          ],
          "name": "stdout"
        },
        {
          "output_type": "stream",
          "text": [
            "/usr/local/lib/python3.7/dist-packages/statsmodels/base/model.py:512: ConvergenceWarning: Maximum Likelihood optimization failed to converge. Check mle_retvals\n",
            "  \"Check mle_retvals\", ConvergenceWarning)\n"
          ],
          "name": "stderr"
        },
        {
          "output_type": "stream",
          "text": [
            "ARIMA(3, 1, 2)x(2, 1, 2, 12)- AIC:3151.0136738349274\n",
            " \n",
            "ARIMA(3, 1, 2)x(2, 1, 3, 12)- AIC:8955.963298655952\n",
            " \n"
          ],
          "name": "stdout"
        },
        {
          "output_type": "stream",
          "text": [
            "/usr/local/lib/python3.7/dist-packages/statsmodels/base/model.py:512: ConvergenceWarning: Maximum Likelihood optimization failed to converge. Check mle_retvals\n",
            "  \"Check mle_retvals\", ConvergenceWarning)\n"
          ],
          "name": "stderr"
        },
        {
          "output_type": "stream",
          "text": [
            "ARIMA(3, 1, 2)x(3, 1, 0, 12)- AIC:2830.242310447152\n",
            " \n"
          ],
          "name": "stdout"
        },
        {
          "output_type": "stream",
          "text": [
            "/usr/local/lib/python3.7/dist-packages/statsmodels/base/model.py:512: ConvergenceWarning: Maximum Likelihood optimization failed to converge. Check mle_retvals\n",
            "  \"Check mle_retvals\", ConvergenceWarning)\n"
          ],
          "name": "stderr"
        },
        {
          "output_type": "stream",
          "text": [
            "ARIMA(3, 1, 2)x(3, 1, 1, 12)- AIC:2831.9341403045883\n",
            " \n"
          ],
          "name": "stdout"
        },
        {
          "output_type": "stream",
          "text": [
            "/usr/local/lib/python3.7/dist-packages/statsmodels/base/model.py:512: ConvergenceWarning: Maximum Likelihood optimization failed to converge. Check mle_retvals\n",
            "  \"Check mle_retvals\", ConvergenceWarning)\n"
          ],
          "name": "stderr"
        },
        {
          "output_type": "stream",
          "text": [
            "ARIMA(3, 1, 2)x(3, 1, 2, 12)- AIC:2835.156960637592\n",
            " \n",
            "ARIMA(3, 1, 2)x(3, 1, 3, 12)- AIC:9127.010486404739\n",
            " \n"
          ],
          "name": "stdout"
        },
        {
          "output_type": "stream",
          "text": [
            "/usr/local/lib/python3.7/dist-packages/statsmodels/base/model.py:512: ConvergenceWarning: Maximum Likelihood optimization failed to converge. Check mle_retvals\n",
            "  \"Check mle_retvals\", ConvergenceWarning)\n"
          ],
          "name": "stderr"
        },
        {
          "output_type": "stream",
          "text": [
            "ARIMA(3, 1, 3)x(0, 1, 0, 12)- AIC:3743.053608107477\n",
            " \n"
          ],
          "name": "stdout"
        },
        {
          "output_type": "stream",
          "text": [
            "/usr/local/lib/python3.7/dist-packages/statsmodels/base/model.py:512: ConvergenceWarning: Maximum Likelihood optimization failed to converge. Check mle_retvals\n",
            "  \"Check mle_retvals\", ConvergenceWarning)\n"
          ],
          "name": "stderr"
        },
        {
          "output_type": "stream",
          "text": [
            "ARIMA(3, 1, 3)x(0, 1, 1, 12)- AIC:3431.2261214452124\n",
            " \n"
          ],
          "name": "stdout"
        },
        {
          "output_type": "stream",
          "text": [
            "/usr/local/lib/python3.7/dist-packages/statsmodels/base/model.py:512: ConvergenceWarning: Maximum Likelihood optimization failed to converge. Check mle_retvals\n",
            "  \"Check mle_retvals\", ConvergenceWarning)\n"
          ],
          "name": "stderr"
        },
        {
          "output_type": "stream",
          "text": [
            "ARIMA(3, 1, 3)x(0, 1, 2, 12)- AIC:3123.1997926673075\n",
            " \n",
            "ARIMA(3, 1, 3)x(0, 1, 3, 12)- AIC:8789.72421096738\n",
            " \n"
          ],
          "name": "stdout"
        },
        {
          "output_type": "stream",
          "text": [
            "/usr/local/lib/python3.7/dist-packages/statsmodels/base/model.py:512: ConvergenceWarning: Maximum Likelihood optimization failed to converge. Check mle_retvals\n",
            "  \"Check mle_retvals\", ConvergenceWarning)\n"
          ],
          "name": "stderr"
        },
        {
          "output_type": "stream",
          "text": [
            "ARIMA(3, 1, 3)x(1, 1, 0, 12)- AIC:3457.8390744390686\n",
            " \n"
          ],
          "name": "stdout"
        },
        {
          "output_type": "stream",
          "text": [
            "/usr/local/lib/python3.7/dist-packages/statsmodels/base/model.py:512: ConvergenceWarning: Maximum Likelihood optimization failed to converge. Check mle_retvals\n",
            "  \"Check mle_retvals\", ConvergenceWarning)\n"
          ],
          "name": "stderr"
        },
        {
          "output_type": "stream",
          "text": [
            "ARIMA(3, 1, 3)x(1, 1, 1, 12)- AIC:3433.316189191333\n",
            " \n"
          ],
          "name": "stdout"
        },
        {
          "output_type": "stream",
          "text": [
            "/usr/local/lib/python3.7/dist-packages/statsmodels/base/model.py:512: ConvergenceWarning: Maximum Likelihood optimization failed to converge. Check mle_retvals\n",
            "  \"Check mle_retvals\", ConvergenceWarning)\n"
          ],
          "name": "stderr"
        },
        {
          "output_type": "stream",
          "text": [
            "ARIMA(3, 1, 3)x(1, 1, 2, 12)- AIC:3125.1469288542353\n",
            " \n",
            "ARIMA(3, 1, 3)x(1, 1, 3, 12)- AIC:8950.477809537604\n",
            " \n"
          ],
          "name": "stdout"
        },
        {
          "output_type": "stream",
          "text": [
            "/usr/local/lib/python3.7/dist-packages/statsmodels/base/model.py:512: ConvergenceWarning: Maximum Likelihood optimization failed to converge. Check mle_retvals\n",
            "  \"Check mle_retvals\", ConvergenceWarning)\n"
          ],
          "name": "stderr"
        },
        {
          "output_type": "stream",
          "text": [
            "ARIMA(3, 1, 3)x(2, 1, 0, 12)- AIC:3148.548457003529\n",
            " \n"
          ],
          "name": "stdout"
        },
        {
          "output_type": "stream",
          "text": [
            "/usr/local/lib/python3.7/dist-packages/statsmodels/base/model.py:512: ConvergenceWarning: Maximum Likelihood optimization failed to converge. Check mle_retvals\n",
            "  \"Check mle_retvals\", ConvergenceWarning)\n"
          ],
          "name": "stderr"
        },
        {
          "output_type": "stream",
          "text": [
            "ARIMA(3, 1, 3)x(2, 1, 1, 12)- AIC:3150.33261479567\n",
            " \n"
          ],
          "name": "stdout"
        },
        {
          "output_type": "stream",
          "text": [
            "/usr/local/lib/python3.7/dist-packages/statsmodels/base/model.py:512: ConvergenceWarning: Maximum Likelihood optimization failed to converge. Check mle_retvals\n",
            "  \"Check mle_retvals\", ConvergenceWarning)\n"
          ],
          "name": "stderr"
        },
        {
          "output_type": "stream",
          "text": [
            "ARIMA(3, 1, 3)x(2, 1, 2, 12)- AIC:3120.072269144472\n",
            " \n",
            "ARIMA(3, 1, 3)x(2, 1, 3, 12)- AIC:8874.881252415833\n",
            " \n"
          ],
          "name": "stdout"
        },
        {
          "output_type": "stream",
          "text": [
            "/usr/local/lib/python3.7/dist-packages/statsmodels/base/model.py:512: ConvergenceWarning: Maximum Likelihood optimization failed to converge. Check mle_retvals\n",
            "  \"Check mle_retvals\", ConvergenceWarning)\n"
          ],
          "name": "stderr"
        },
        {
          "output_type": "stream",
          "text": [
            "ARIMA(3, 1, 3)x(3, 1, 0, 12)- AIC:2832.4860483301163\n",
            " \n"
          ],
          "name": "stdout"
        },
        {
          "output_type": "stream",
          "text": [
            "/usr/local/lib/python3.7/dist-packages/statsmodels/base/model.py:512: ConvergenceWarning: Maximum Likelihood optimization failed to converge. Check mle_retvals\n",
            "  \"Check mle_retvals\", ConvergenceWarning)\n"
          ],
          "name": "stderr"
        },
        {
          "output_type": "stream",
          "text": [
            "ARIMA(3, 1, 3)x(3, 1, 1, 12)- AIC:2833.5048555954404\n",
            " \n"
          ],
          "name": "stdout"
        },
        {
          "output_type": "stream",
          "text": [
            "/usr/local/lib/python3.7/dist-packages/statsmodels/base/model.py:512: ConvergenceWarning: Maximum Likelihood optimization failed to converge. Check mle_retvals\n",
            "  \"Check mle_retvals\", ConvergenceWarning)\n"
          ],
          "name": "stderr"
        },
        {
          "output_type": "stream",
          "text": [
            "ARIMA(3, 1, 3)x(3, 1, 2, 12)- AIC:2837.3133767627805\n",
            " \n",
            "ARIMA(3, 1, 3)x(3, 1, 3, 12)- AIC:9044.287205397863\n",
            " \n"
          ],
          "name": "stdout"
        }
      ]
    },
    {
      "cell_type": "code",
      "metadata": {
        "colab": {
          "base_uri": "https://localhost:8080/",
          "height": 419
        },
        "id": "HiZqRoLuLYDQ",
        "outputId": "526d0291-4b4b-4486-8587-579fe7d0ea39"
      },
      "source": [
        "df = df.sort_values('AIC').reset_index(drop= True)\r\n",
        "df"
      ],
      "execution_count": 17,
      "outputs": [
        {
          "output_type": "execute_result",
          "data": {
            "text/html": [
              "<div>\n",
              "<style scoped>\n",
              "    .dataframe tbody tr th:only-of-type {\n",
              "        vertical-align: middle;\n",
              "    }\n",
              "\n",
              "    .dataframe tbody tr th {\n",
              "        vertical-align: top;\n",
              "    }\n",
              "\n",
              "    .dataframe thead th {\n",
              "        text-align: right;\n",
              "    }\n",
              "</style>\n",
              "<table border=\"1\" class=\"dataframe\">\n",
              "  <thead>\n",
              "    <tr style=\"text-align: right;\">\n",
              "      <th></th>\n",
              "      <th>param</th>\n",
              "      <th>param_seasonal</th>\n",
              "      <th>AIC</th>\n",
              "    </tr>\n",
              "  </thead>\n",
              "  <tbody>\n",
              "    <tr>\n",
              "      <th>0</th>\n",
              "      <td>(3, 1, 1)</td>\n",
              "      <td>(3, 1, 0, 12)</td>\n",
              "      <td>2828.563996</td>\n",
              "    </tr>\n",
              "    <tr>\n",
              "      <th>1</th>\n",
              "      <td>(3, 1, 1)</td>\n",
              "      <td>(3, 1, 1, 12)</td>\n",
              "      <td>2830.234518</td>\n",
              "    </tr>\n",
              "    <tr>\n",
              "      <th>2</th>\n",
              "      <td>(3, 1, 2)</td>\n",
              "      <td>(3, 1, 0, 12)</td>\n",
              "      <td>2830.242310</td>\n",
              "    </tr>\n",
              "    <tr>\n",
              "      <th>3</th>\n",
              "      <td>(3, 1, 2)</td>\n",
              "      <td>(3, 1, 1, 12)</td>\n",
              "      <td>2831.934140</td>\n",
              "    </tr>\n",
              "    <tr>\n",
              "      <th>4</th>\n",
              "      <td>(3, 1, 0)</td>\n",
              "      <td>(3, 1, 0, 12)</td>\n",
              "      <td>2832.372374</td>\n",
              "    </tr>\n",
              "    <tr>\n",
              "      <th>...</th>\n",
              "      <td>...</td>\n",
              "      <td>...</td>\n",
              "      <td>...</td>\n",
              "    </tr>\n",
              "    <tr>\n",
              "      <th>251</th>\n",
              "      <td>(2, 1, 2)</td>\n",
              "      <td>(2, 1, 3, 12)</td>\n",
              "      <td>9226.157384</td>\n",
              "    </tr>\n",
              "    <tr>\n",
              "      <th>252</th>\n",
              "      <td>(3, 1, 1)</td>\n",
              "      <td>(2, 1, 3, 12)</td>\n",
              "      <td>9295.142867</td>\n",
              "    </tr>\n",
              "    <tr>\n",
              "      <th>253</th>\n",
              "      <td>(1, 1, 0)</td>\n",
              "      <td>(3, 1, 3, 12)</td>\n",
              "      <td>9295.295058</td>\n",
              "    </tr>\n",
              "    <tr>\n",
              "      <th>254</th>\n",
              "      <td>(0, 1, 0)</td>\n",
              "      <td>(3, 1, 3, 12)</td>\n",
              "      <td>9303.634422</td>\n",
              "    </tr>\n",
              "    <tr>\n",
              "      <th>255</th>\n",
              "      <td>(1, 1, 1)</td>\n",
              "      <td>(2, 1, 3, 12)</td>\n",
              "      <td>9357.250793</td>\n",
              "    </tr>\n",
              "  </tbody>\n",
              "</table>\n",
              "<p>256 rows × 3 columns</p>\n",
              "</div>"
            ],
            "text/plain": [
              "         param param_seasonal          AIC\n",
              "0    (3, 1, 1)  (3, 1, 0, 12)  2828.563996\n",
              "1    (3, 1, 1)  (3, 1, 1, 12)  2830.234518\n",
              "2    (3, 1, 2)  (3, 1, 0, 12)  2830.242310\n",
              "3    (3, 1, 2)  (3, 1, 1, 12)  2831.934140\n",
              "4    (3, 1, 0)  (3, 1, 0, 12)  2832.372374\n",
              "..         ...            ...          ...\n",
              "251  (2, 1, 2)  (2, 1, 3, 12)  9226.157384\n",
              "252  (3, 1, 1)  (2, 1, 3, 12)  9295.142867\n",
              "253  (1, 1, 0)  (3, 1, 3, 12)  9295.295058\n",
              "254  (0, 1, 0)  (3, 1, 3, 12)  9303.634422\n",
              "255  (1, 1, 1)  (2, 1, 3, 12)  9357.250793\n",
              "\n",
              "[256 rows x 3 columns]"
            ]
          },
          "metadata": {
            "tags": []
          },
          "execution_count": 17
        }
      ]
    },
    {
      "cell_type": "markdown",
      "metadata": {
        "id": "iNNhWYXHLhAL"
      },
      "source": [
        "The above output suggests that SARIMAX(3,1,1)(3,1,0,12) yields the lowest AIC value of 2828.563996. Therefore we should consider this to be the optimal option."
      ]
    },
    {
      "cell_type": "code",
      "metadata": {
        "colab": {
          "base_uri": "https://localhost:8080/"
        },
        "id": "kOTO2gV8Lyrv",
        "outputId": "40c519c8-d977-4807-8df3-bf530a698661"
      },
      "source": [
        "mod = sm.tsa.statespace.SARIMAX(sales['Sum of Sales'],\r\n",
        "                                exog = exog,\r\n",
        "                                order=(3, 1, 1),\r\n",
        "                                seasonal_order=(3, 1, 0, 12))\r\n",
        "results = mod.fit()\r\n",
        "print(results.summary())"
      ],
      "execution_count": 20,
      "outputs": [
        {
          "output_type": "stream",
          "text": [
            "/usr/local/lib/python3.7/dist-packages/statsmodels/base/model.py:512: ConvergenceWarning: Maximum Likelihood optimization failed to converge. Check mle_retvals\n",
            "  \"Check mle_retvals\", ConvergenceWarning)\n"
          ],
          "name": "stderr"
        },
        {
          "output_type": "stream",
          "text": [
            "                                 Statespace Model Results                                 \n",
            "==========================================================================================\n",
            "Dep. Variable:                       Sum of Sales   No. Observations:                  155\n",
            "Model:             SARIMAX(3, 1, 1)x(3, 1, 0, 12)   Log Likelihood               -1848.107\n",
            "Date:                            Tue, 09 Mar 2021   AIC                           3852.214\n",
            "Time:                                    23:27:16   BIC                           4082.768\n",
            "Sample:                                         0   HQIC                          3945.902\n",
            "                                            - 155                                         \n",
            "Covariance Type:                              opg                                         \n",
            "==========================================================================================================================================================================\n",
            "                                                                                                             coef    std err          z      P>|z|      [0.025      0.975]\n",
            "--------------------------------------------------------------------------------------------------------------------------------------------------------------------------\n",
            "FTR Truck Loadings (000s, SA)_freight_m_trucking                                                         -11.8752     43.014     -0.276      0.782     -96.181      72.431\n",
            "FTR Active Truck Utilization (%, SA)_freight_m_trucking                                                -2.537e+04   2.51e+04     -1.011      0.312   -7.45e+04    2.38e+04\n",
            "Reefer Trailer Loadings (000s, SA)_freight_m_trucking                                                   -232.8256    615.959     -0.378      0.705   -1440.082     974.431\n",
            "Tank Trailer Loadings (000s, SA)_freight_m_trucking                                                      -10.3110    198.009     -0.052      0.958    -398.402     377.780\n",
            "Chemicals & Allied Products (000s, SA)_freight_m_trucking                                                971.3858    859.568      1.130      0.258    -713.337    2656.108\n",
            "Spot TL Rates (w/o FSC)_rates_m_trucking                                                                1518.7616   6224.156      0.244      0.807   -1.07e+04    1.37e+04\n",
            "Total LTL (w/o FSC)_rates_m_trucking                                                                    2.625e+04   6.74e+04      0.390      0.697   -1.06e+05    1.58e+05\n",
            "Total LTL (w/ FSC)_rates_m_trucking                                                                    -1.924e+04   6.44e+04     -0.299      0.765   -1.46e+05    1.07e+05\n",
            "Contract TL Tank Rates (w/o FSC)_rates_m_trucking                                                      -1849.1830      1e+04     -0.185      0.853   -2.15e+04    1.78e+04\n",
            "OEM Net Orders (U.S. / CAN, units)_indicators_m_trucking                                                   1.4876      3.961      0.376      0.707      -6.276       9.252\n",
            "New Truck Lead Time (N.A. Backlog/Build Ratio, months)_indicators_m_trucking                           -5.124e+04    2.4e+04     -2.135      0.033   -9.83e+04   -4199.299\n",
            "B50001_indicators_m_trucking                                                                            3.196e+04   4.05e+04      0.789      0.430   -4.74e+04    1.11e+05\n",
            "GMFN_indicators_m_trucking                                                                             -7648.1713   7.22e+04     -0.106      0.916   -1.49e+05    1.34e+05\n",
            "G325_indicators_m_trucking                                                                             -3.427e+04   4.72e+04     -0.726      0.468   -1.27e+05    5.82e+04\n",
            "G332_indicators_m_trucking                                                                             -3.249e+04   2.87e+04     -1.131      0.258   -8.88e+04    2.38e+04\n",
            "ISM_indicators_m_trucking                                                                               1.693e+04   1.54e+04      1.097      0.273   -1.33e+04    4.72e+04\n",
            "PORTEU_indicators_m_trucking                                                                              -0.1119      0.254     -0.441      0.659      -0.609       0.385\n",
            "MANEMP_indicators_m_trucking                                                                             802.3029    958.846      0.837      0.403   -1077.001    2681.607\n",
            "USTRADE_indicators_m_trucking                                                                           -597.9871    566.843     -1.055      0.291   -1708.979     513.005\n",
            "LEI_indicators_m_trucking                                                                              -2.514e+04   3.85e+04     -0.653      0.514   -1.01e+05    5.03e+04\n",
            "SPREAD_indicators_m_trucking                                                                            8.784e+04   2.02e+05      0.435      0.664   -3.08e+05    4.84e+05\n",
            "D/GAL_indicators_m_trucking                                                                            -2.023e+05   2.57e+05     -0.786      0.432   -7.07e+05    3.02e+05\n",
            "D/STOCK_indicators_m_trucking                                                                             -2.6348      7.574     -0.348      0.728     -17.479      12.209\n",
            "Change in Payroll Employment (000's)_driver_indicators_m_trucking                                        -48.6548     39.561     -1.230      0.219    -126.192      28.883\n",
            "Change in Truck Emp. (000's)_driver_indicators_m_trucking                                              -3671.2638   3908.330     -0.939      0.348   -1.13e+04    3988.923\n",
            "LABORINDEX_driver_indicators_m_trucking                                                                -8.136e+04   7.09e+04     -1.147      0.251    -2.2e+05    5.77e+04\n",
            "Total Class 8, North America_Factory Shipments (Ward's)_indicators_m_trucking_trailer                     26.5008     27.295      0.971      0.332     -26.997      79.999\n",
            "Total Class 8, North America_Factory Shipments (Ward's)_M/M % Change_indicators_m_trucking_trailer       142.6321   1349.279      0.106      0.916   -2501.906    2787.170\n",
            "Total Class 8, North America_Factory Shipments (Ward's)_Y/Y % Change_indicators_m_trucking_trailer     -1519.0004   2113.555     -0.719      0.472   -5661.492    2623.491\n",
            "Total Class 8, North America_Retail Sales (Ward's)_indicators_m_trucking_trailer                         -11.2386     20.263     -0.555      0.579     -50.953      28.476\n",
            "Total Class 8, North America_Retail Sales (Ward's)_M/M % Change_indicators_m_trucking_trailer           -257.7769   2537.772     -0.102      0.919   -5231.719    4716.165\n",
            "Total Class 8, North America_Inventories (Ward's)_M/M % Change_indicators_m_trucking_trailer           -3671.1759   8216.660     -0.447      0.655   -1.98e+04    1.24e+04\n",
            "Total Class 8, North America_Inventories (Ward's)_Y/Y % Change_indicators_m_trucking_trailer           -3782.6308   3328.072     -1.137      0.256   -1.03e+04    2740.271\n",
            "Total Trailers, U.S._Production_M/M % Change_indicators_m_trucking_trailer                             -1533.5444   2442.392     -0.628      0.530   -6320.545    3253.456\n",
            "Total Trailers, U.S._Production_Y/Y % Change_indicators_m_trucking_trailer                              -866.6337   1813.116     -0.478      0.633   -4420.276    2687.008\n",
            "Total Classes 4-7, North America_Factory Shipments (Ward's)_indicators_m_trucking_trailer                -21.8241     24.791     -0.880      0.379     -70.414      26.766\n",
            "Total Classes 4-7, North America_Factory Shipments (Ward's)_M/M % Change_indicators_m_trucking_trailer  -530.0368   1334.751     -0.397      0.691   -3146.100    2086.027\n",
            "Total Classes 4-7, North America_Factory Shipments (Ward's)_Y/Y % Change_indicators_m_trucking_trailer    87.0130   1881.684      0.046      0.963   -3601.020    3775.046\n",
            "Total Classes 4-7, North America_Retail Sales (Ward's)_M/M % Change_indicators_m_trucking_trailer       -751.9293   2727.652     -0.276      0.783   -6098.029    4594.171\n",
            "Total Classes 4-7, North America_Retail Sales (Ward's)_Y/Y % Change_indicators_m_trucking_trailer       1386.5098   2934.342      0.473      0.637   -4364.694    7137.714\n",
            "Total Classes 4-7, North America_Inventories (Ward's)_M/M % Change_indicators_m_trucking_trailer        2668.7510   4231.845      0.631      0.528   -5625.512     1.1e+04\n",
            "Total Classes 4-7, North America_Inventories (Ward's)_Y/Y % Change_indicators_m_trucking_trailer         654.7261   3276.726      0.200      0.842   -5767.538    7076.991\n",
            "Class 4, North America_Factory Shipments (Ward's)_indicators_m_trucking_trailer                           22.1286     78.826      0.281      0.779    -132.367     176.624\n",
            "Class 4, North America_Retail Sales (Ward's)_indicators_m_trucking_trailer                                27.8831     86.142      0.324      0.746    -140.953     196.719\n",
            "Class 4, North America_Inventories (Ward's)_indicators_m_trucking_trailer                                -27.2504     25.701     -1.060      0.289     -77.623      23.122\n",
            "Class 6-7 Bus, North America_Factory Shipments (Ward's)_indicators_m_trucking_trailer                     39.1476     68.790      0.569      0.569     -95.678     173.973\n",
            "FTR Truck Loadings_M/M % Change_freight_m_trucking_trailer                                              5959.2508   1.54e+04      0.388      0.698   -2.41e+04    3.61e+04\n",
            "FTR Truck Loadings_Y/Y % Change_freight_m_trucking_trailer                                             -3244.9242   1.63e+04     -0.199      0.842   -3.52e+04    2.87e+04\n",
            "FTR Rail Intermodal Loadings_M/M % Change_freight_m_trucking_trailer                                    -609.1753   8256.220     -0.074      0.941   -1.68e+04    1.56e+04\n",
            "FTR Rail Intermodal Loadings_Y/Y % Change_freight_m_trucking_trailer                                     880.7735   5177.960      0.170      0.865   -9267.842     1.1e+04\n",
            "FTR Rail Carloadings (carload + intermodal) (000s, SA)_freight_m_trucking_trailer                       -426.5464    491.092     -0.869      0.385   -1389.068     535.976\n",
            "FTR Rail Carloadings_M/M % Change_freight_m_trucking_trailer                                            -320.3409   8862.594     -0.036      0.971   -1.77e+04    1.71e+04\n",
            "FTR Rail Carloadings_Y/Y % Change_freight_m_trucking_trailer                                            2573.1755   7666.762      0.336      0.737   -1.25e+04    1.76e+04\n",
            "FTR Class 8 Truck Utilization (%, SA)_freight_m_trucking_trailer                                        3.259e+04   2.34e+04      1.394      0.163   -1.32e+04    7.84e+04\n",
            "BUILD FOR_Total_Trailer                                                                                   19.6862     27.239      0.723      0.470     -33.702      73.075\n",
            "BUILD FOR_Flatbed                                                                                       -123.5790    150.072     -0.823      0.410    -417.715     170.557\n",
            "BUILD FOR_Liquid_Tank                                                                                    526.1255    478.249      1.100      0.271    -411.225    1463.476\n",
            "BUILD FOR_Dry_Tank                                                                                       365.1310    595.919      0.613      0.540    -802.850    1533.112\n",
            "BUILD FOR_Dump                                                                                          -120.8732    472.792     -0.256      0.798   -1047.528     805.782\n",
            "BUILD FOR_Lowbed                                                                                        -151.0479    844.896     -0.179      0.858   -1807.013    1504.917\n",
            "BUILD FOR_All_Other                                                                                       49.4618    123.843      0.399      0.690    -193.267     292.190\n",
            "Change in Distillate Fuel Inventories_x                                                                    7.4010      5.604      1.321      0.187      -3.582      18.384\n",
            "Intermodal Revenue Movements (IANA-ETSO)_Total_x                                                           0.8942      1.564      0.572      0.567      -2.171       3.959\n",
            "FTR Intermodal Competitive Index_Intermodal Competitive Index (0=Neutral)_x                            -3375.1984   1.15e+04     -0.293      0.769   -2.59e+04    1.92e+04\n",
            "U.S. Origin Intermodal Volumes_International_x                                                            -0.5556      2.374     -0.234      0.815      -5.208       4.097\n",
            "Canada Origin Intermodal Volumes_Domestic_x                                                               -0.1668     16.843     -0.010      0.992     -33.179      32.845\n",
            "N.A. Port Activity, Total TEUs_Exports_x                                                                   0.8860      1.122      0.790      0.430      -1.312       3.084\n",
            "West Coast Port Activity, Total TEUs_Exports_x                                                            -0.2411      1.967     -0.123      0.902      -4.097       3.615\n",
            "Gulf Coast Port Activity, Total TEUs_Exports_x                                                            -0.4875      3.033     -0.161      0.872      -6.431       5.456\n",
            "Western Canadian Port Activity, Total TEUs_Exports_x                                                      -1.6207      3.473     -0.467      0.641      -8.427       5.186\n",
            "ar.L1                                                                                                     -0.2676      2.749     -0.097      0.922      -5.655       5.120\n",
            "ar.L2                                                                                                      0.0094      0.065      0.144      0.885      -0.118       0.136\n",
            "ar.L3                                                                                                     -0.0101      0.134     -0.075      0.940      -0.273       0.253\n",
            "ma.L1                                                                                                      0.2686      2.752      0.098      0.922      -5.125       5.662\n",
            "ar.S.L12                                                                                                   0.0089      0.101      0.088      0.930      -0.190       0.208\n",
            "ar.S.L24                                                                                                   0.0094      0.057      0.165      0.869      -0.102       0.120\n",
            "ar.S.L36                                                                                                   0.0055      0.033      0.165      0.869      -0.060       0.071\n",
            "sigma2                                                                                                  1.183e+10      7.066   1.67e+09      0.000    1.18e+10    1.18e+10\n",
            "===================================================================================\n",
            "Ljung-Box (Q):                       55.42   Jarque-Bera (JB):                 7.82\n",
            "Prob(Q):                              0.05   Prob(JB):                         0.02\n",
            "Heteroskedasticity (H):               1.29   Skew:                            -0.33\n",
            "Prob(H) (two-sided):                  0.38   Kurtosis:                         3.94\n",
            "===================================================================================\n",
            "\n",
            "Warnings:\n",
            "[1] Covariance matrix calculated using the outer product of gradients (complex-step).\n",
            "[2] Covariance matrix is singular or near-singular, with condition number 2.3e+26. Standard errors may be unstable.\n"
          ],
          "name": "stdout"
        }
      ]
    },
    {
      "cell_type": "code",
      "metadata": {
        "colab": {
          "base_uri": "https://localhost:8080/",
          "height": 513
        },
        "id": "a2Mh7bwhL_DN",
        "outputId": "3410f877-7d05-4f15-9bc5-fb12dab8f806"
      },
      "source": [
        "results.plot_diagnostics(figsize=(16, 8))\r\n",
        "plt.show()"
      ],
      "execution_count": 21,
      "outputs": [
        {
          "output_type": "display_data",
          "data": {
            "image/png": "[encoded data removed]",
            "text/plain": [
              "<Figure size 1152x576 with 4 Axes>"
            ]
          },
          "metadata": {
            "tags": [],
            "needs_background": "light"
          }
        }
      ]
    },
    {
      "cell_type": "markdown",
      "metadata": {
        "id": "sPjptDL7EMfI"
      },
      "source": [
        "Here we will forecast the values using the model. Can change starting point from which we need to forecast. For now we will keep starting point after 50 observations"
      ]
    },
    {
      "cell_type": "code",
      "metadata": {
        "colab": {
          "base_uri": "https://localhost:8080/",
          "height": 439
        },
        "id": "SjwZ_3-3MBY8",
        "outputId": "16308993-aaf0-4f4e-e33d-d663fad3f542"
      },
      "source": [
        "#Point from which prediction starts\r\n",
        "start_point = 50\r\n",
        "pred = results.get_prediction(start=start_point, dynamic=False)\r\n",
        "pred_ci = pred.conf_int()\r\n",
        "ax = sales['Sum of Sales'].plot(label='observed',)\r\n",
        "pred.predicted_mean.plot(ax=ax, label='Forecasting', alpha=.7, figsize=(14, 7))\r\n",
        "ax.fill_between(pred_ci.index,\r\n",
        "                pred_ci.iloc[:, 0],\r\n",
        "                pred_ci.iloc[:, 1], color='k', alpha=.2)\r\n",
        "plt.legend()\r\n",
        "plt.show()"
      ],
      "execution_count": 22,
      "outputs": [
        {
          "output_type": "display_data",
          "data": {
            "image/png": "[encoded data removed]",
            "text/plain": [
              "<Figure size 1008x504 with 1 Axes>"
            ]
          },
          "metadata": {
            "tags": [],
            "needs_background": "light"
          }
        }
      ]
    },
    {
      "cell_type": "markdown",
      "metadata": {
        "id": "FqsiHXH1FDIy"
      },
      "source": [
        "# Model Evaluation\n",
        "### Forecast Bias\n",
        "Forecast errors can be positive and negative. This means that when the average of these values is calculated, an ideal mean forecast error would be zero.\n",
        "A mean forecast error value other than zero suggests a tendency of the model to over forecast (negative error) or under forecast (positive error)."
      ]
    },
    {
      "cell_type": "code",
      "metadata": {
        "colab": {
          "base_uri": "https://localhost:8080/"
        },
        "id": "pJyl6XE_Er7t",
        "outputId": "e13739e8-c73c-432b-e5a6-0768fd99506f"
      },
      "source": [
        "predictions = pred.predicted_mean\n",
        "actual = sales['Sum of Sales'][start_point:]\n",
        "error = predictions - actual\n",
        "bias = sum(error)/len(error)\n",
        "print(f'Bias: {bias}')"
      ],
      "execution_count": 23,
      "outputs": [
        {
          "output_type": "stream",
          "text": [
            "Bias: -196.80117598902655\n"
          ],
          "name": "stdout"
        }
      ]
    },
    {
      "cell_type": "markdown",
      "metadata": {
        "id": "nDrCWdbQFfAa"
      },
      "source": [
        "Here we have a negative bias, meaning we over forecast. Lets look into other metrics for model evaulation\n",
        "\n",
        "### MAE (Mean Absolute Error)\n",
        "The mean absolute error, or MAE, is calculated as the average of the forecast error values, where all of the forecast error values are forced to be positive."
      ]
    },
    {
      "cell_type": "code",
      "metadata": {
        "colab": {
          "base_uri": "https://localhost:8080/"
        },
        "id": "gVME82m-F-a0",
        "outputId": "b507fb0c-3666-498e-8b23-cf38a6afa6bf"
      },
      "source": [
        "from sklearn.metrics import mean_squared_error,mean_absolute_error\n",
        "MAE = mean_absolute_error(actual,predictions)\n",
        "print(f'Mean Absolute Error: {MAE}')"
      ],
      "execution_count": 24,
      "outputs": [
        {
          "output_type": "stream",
          "text": [
            "Mean Absolute Error: 84610.80799042944\n"
          ],
          "name": "stdout"
        }
      ]
    },
    {
      "cell_type": "markdown",
      "metadata": {
        "id": "fon19ZtoEhWQ"
      },
      "source": [
        "### MSE (Mean Squared Error)\n",
        "The mean squared error, or MSE, is calculated as the average of the squared forecast error values. Squaring the forecast error values forces them to be positive; it also has the effect of putting more weight on large errors."
      ]
    },
    {
      "cell_type": "code",
      "metadata": {
        "colab": {
          "base_uri": "https://localhost:8080/"
        },
        "id": "bLDuVPPu_Q9Y",
        "outputId": "7f66c306-819b-4ed4-f5e0-ebc46cfdea2b"
      },
      "source": [
        "MSE = mean_squared_error(predictions,actual)\n",
        "print(f'Mean Squared Error: {MSE}')"
      ],
      "execution_count": 25,
      "outputs": [
        {
          "output_type": "stream",
          "text": [
            "Mean Squared Error: 12545958694.81815\n"
          ],
          "name": "stdout"
        }
      ]
    },
    {
      "cell_type": "markdown",
      "metadata": {
        "id": "LoJceE63HMs4"
      },
      "source": [
        "### RMSE (Root Mean Squared Error)\n",
        "The mean squared error described above is in the squared units of the predictions.\n",
        "\n",
        "It can be transformed back into the original units of the predictions by taking the square root of the mean squared error score. This is called the root mean squared error, or RMSE."
      ]
    },
    {
      "cell_type": "code",
      "metadata": {
        "colab": {
          "base_uri": "https://localhost:8080/"
        },
        "id": "pDo2dsAw_ki7",
        "outputId": "5dcfa71f-d58f-423b-95f2-5164e9016447"
      },
      "source": [
        "from math import sqrt\n",
        "RMSE = sqrt(MSE)\n",
        "print(f'Root Mean Squared Error: {RMSE}')"
      ],
      "execution_count": 26,
      "outputs": [
        {
          "output_type": "stream",
          "text": [
            "Root Mean Squared Error: 112008.74383198014\n"
          ],
          "name": "stdout"
        }
      ]
    },
    {
      "cell_type": "code",
      "metadata": {
        "id": "VHXtx5RXDNZ9"
      },
      "source": [
        ""
      ],
      "execution_count": null,
      "outputs": []
    }
  ]
}