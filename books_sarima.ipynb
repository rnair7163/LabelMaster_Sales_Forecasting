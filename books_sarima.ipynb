{
  "nbformat": 4,
  "nbformat_minor": 0,
  "metadata": {
    "colab": {
      "name": "books_sarima.ipynb",
      "provenance": [],
      "collapsed_sections": []
    },
    "kernelspec": {
      "name": "python3",
      "display_name": "Python 3"
    }
  },
  "cells": [
    {
      "cell_type": "markdown",
      "metadata": {
        "id": "view-in-github"
      },
      "source": [
        "<a href=\"https://colab.research.google.com/github/rahulmnair1997/LabelMaster_Sales_Forecasting/blob/main/books_sarima.ipynb\" target=\"_parent\"><img src=\"https://colab.research.google.com/assets/colab-badge.svg\" alt=\"Open In Colab\"/></a>"
      ]
    },
    {
      "cell_type": "code",
      "metadata": {
        "colab": {
          "base_uri": "https://localhost:8080/"
        },
        "id": "SlH1v48Lmz04",
        "outputId": "70000729-dcd8-480d-e61b-8ca640c1fe91"
      },
      "source": [
        "from google.colab import drive\r\n",
        "drive.mount('/content/drive')"
      ],
      "execution_count": 2,
      "outputs": [
        {
          "output_type": "stream",
          "text": [
            "Mounted at /content/drive\n"
          ],
          "name": "stdout"
        }
      ]
    },
    {
      "cell_type": "code",
      "metadata": {
        "id": "Wx5PgDOwnN1Q"
      },
      "source": [
        "import warnings\r\n",
        "import itertools\r\n",
        "import numpy as np\r\n",
        "import matplotlib.pyplot as plt\r\n",
        "warnings.filterwarnings(\"ignore\")\r\n",
        "import pandas as pd\r\n",
        "import statsmodels.api as sm\r\n",
        "import matplotlib\r\n",
        "\r\n",
        "from statsmodels.tsa.arima_model import ARIMA\r\n",
        "from statsmodels.tsa.stattools import adfuller\r\n",
        "import statsmodels.api as sm\r\n",
        " \r\n",
        "from itertools import product\r\n",
        "from tqdm import tqdm_notebook\r\n",
        "\r\n",
        "from sklearn.metrics import mean_squared_error"
      ],
      "execution_count": 1,
      "outputs": []
    },
    {
      "cell_type": "code",
      "metadata": {
        "colab": {
          "base_uri": "https://localhost:8080/",
          "height": 433
        },
        "id": "AHzywCtwncXI",
        "outputId": "b8c5d2ff-e627-4e4c-d3bb-3890a6fdc7b4"
      },
      "source": [
        "#books = pd.read_csv('/content/drive/MyDrive/Label_Master Forecasting Datasets/Books_ext_fs.csv')\r\n",
        "books = pd.read_csv('/content/drive/MyDrive/Colab Notebooks/LabelMaster/LabelMaster Data/Books_ext.csv')\r\n",
        "sales = books[['Year_Month','Sum of Sales']]\r\n",
        "sales"
      ],
      "execution_count": 6,
      "outputs": [
        {
          "output_type": "execute_result",
          "data": {
            "text/html": [
              "<div>\n",
              "<style scoped>\n",
              "    .dataframe tbody tr th:only-of-type {\n",
              "        vertical-align: middle;\n",
              "    }\n",
              "\n",
              "    .dataframe tbody tr th {\n",
              "        vertical-align: top;\n",
              "    }\n",
              "\n",
              "    .dataframe thead th {\n",
              "        text-align: right;\n",
              "    }\n",
              "</style>\n",
              "<table border=\"1\" class=\"dataframe\">\n",
              "  <thead>\n",
              "    <tr style=\"text-align: right;\">\n",
              "      <th></th>\n",
              "      <th>Year_Month</th>\n",
              "      <th>Sum of Sales</th>\n",
              "    </tr>\n",
              "  </thead>\n",
              "  <tbody>\n",
              "    <tr>\n",
              "      <th>0</th>\n",
              "      <td>2008-01</td>\n",
              "      <td>282604.11</td>\n",
              "    </tr>\n",
              "    <tr>\n",
              "      <th>1</th>\n",
              "      <td>2008-02</td>\n",
              "      <td>262474.40</td>\n",
              "    </tr>\n",
              "    <tr>\n",
              "      <th>2</th>\n",
              "      <td>2008-03</td>\n",
              "      <td>326059.68</td>\n",
              "    </tr>\n",
              "    <tr>\n",
              "      <th>3</th>\n",
              "      <td>2008-04</td>\n",
              "      <td>215387.49</td>\n",
              "    </tr>\n",
              "    <tr>\n",
              "      <th>4</th>\n",
              "      <td>2008-05</td>\n",
              "      <td>499559.90</td>\n",
              "    </tr>\n",
              "    <tr>\n",
              "      <th>...</th>\n",
              "      <td>...</td>\n",
              "      <td>...</td>\n",
              "    </tr>\n",
              "    <tr>\n",
              "      <th>152</th>\n",
              "      <td>2020-09</td>\n",
              "      <td>468710.96</td>\n",
              "    </tr>\n",
              "    <tr>\n",
              "      <th>153</th>\n",
              "      <td>2020-10</td>\n",
              "      <td>1118446.80</td>\n",
              "    </tr>\n",
              "    <tr>\n",
              "      <th>154</th>\n",
              "      <td>2020-11</td>\n",
              "      <td>429166.77</td>\n",
              "    </tr>\n",
              "    <tr>\n",
              "      <th>155</th>\n",
              "      <td>2020-12</td>\n",
              "      <td>549415.01</td>\n",
              "    </tr>\n",
              "    <tr>\n",
              "      <th>156</th>\n",
              "      <td>2021-01</td>\n",
              "      <td>167437.71</td>\n",
              "    </tr>\n",
              "  </tbody>\n",
              "</table>\n",
              "<p>157 rows × 2 columns</p>\n",
              "</div>"
            ],
            "text/plain": [
              "    Year_Month  Sum of Sales\n",
              "0      2008-01     282604.11\n",
              "1      2008-02     262474.40\n",
              "2      2008-03     326059.68\n",
              "3      2008-04     215387.49\n",
              "4      2008-05     499559.90\n",
              "..         ...           ...\n",
              "152    2020-09     468710.96\n",
              "153    2020-10    1118446.80\n",
              "154    2020-11     429166.77\n",
              "155    2020-12     549415.01\n",
              "156    2021-01     167437.71\n",
              "\n",
              "[157 rows x 2 columns]"
            ]
          },
          "metadata": {
            "tags": []
          },
          "execution_count": 6
        }
      ]
    },
    {
      "cell_type": "code",
      "metadata": {
        "colab": {
          "base_uri": "https://localhost:8080/",
          "height": 533
        },
        "id": "K3n4p-tr6Qn1",
        "outputId": "fa5abdbc-95cb-4a97-bb6d-955dcc95c57e"
      },
      "source": [
        "plt.figure(figsize=[15,8])\n",
        "plt.plot(sales['Year_Month'],sales['Sum of Sales'])\n",
        "plt.title('Monthly Sum of Sales of Books Department')\n",
        "plt.xlabel('Date')\n",
        "plt.ylabel('Sales')\n",
        "plt.show()"
      ],
      "execution_count": 7,
      "outputs": [
        {
          "output_type": "display_data",
          "data": {
            "image/png": "[encoded data removed]",
            "text/plain": [
              "<Figure size 1080x576 with 1 Axes>"
            ]
          },
          "metadata": {
            "tags": [],
            "needs_background": "light"
          }
        }
      ]
    },
    {
      "cell_type": "code",
      "metadata": {
        "colab": {
          "base_uri": "https://localhost:8080/"
        },
        "id": "L684FxgN4tCE",
        "outputId": "3f426ea1-8e42-496f-de19-25496ec8dcfa"
      },
      "source": [
        "ad_fuller_result = adfuller(sales['Sum of Sales'])\r\n",
        "print(f'ADF Statistic: {ad_fuller_result[0]}')\r\n",
        "print(f'p-value: {ad_fuller_result[1]}')"
      ],
      "execution_count": 9,
      "outputs": [
        {
          "output_type": "stream",
          "text": [
            "ADF Statistic: -2.7635022193943355\n",
            "p-value: 0.06367930284184517\n"
          ],
          "name": "stdout"
        }
      ]
    },
    {
      "cell_type": "markdown",
      "metadata": {
        "id": "W2QG1lx85L4p"
      },
      "source": [
        "Since the p-value is greater than 0.5, we cannot reject null hypothesis and must assume that the series is not stationary."
      ]
    },
    {
      "cell_type": "code",
      "metadata": {
        "colab": {
          "base_uri": "https://localhost:8080/",
          "height": 433
        },
        "id": "sxdSNYZh5Y83",
        "outputId": "b2a7754d-f134-43cf-edd6-4cb5c4479ef1"
      },
      "source": [
        "sales['sales_diffed'] = sales['Sum of Sales'].diff(1)\r\n",
        "sales"
      ],
      "execution_count": 10,
      "outputs": [
        {
          "output_type": "execute_result",
          "data": {
            "text/html": [
              "<div>\n",
              "<style scoped>\n",
              "    .dataframe tbody tr th:only-of-type {\n",
              "        vertical-align: middle;\n",
              "    }\n",
              "\n",
              "    .dataframe tbody tr th {\n",
              "        vertical-align: top;\n",
              "    }\n",
              "\n",
              "    .dataframe thead th {\n",
              "        text-align: right;\n",
              "    }\n",
              "</style>\n",
              "<table border=\"1\" class=\"dataframe\">\n",
              "  <thead>\n",
              "    <tr style=\"text-align: right;\">\n",
              "      <th></th>\n",
              "      <th>Year_Month</th>\n",
              "      <th>Sum of Sales</th>\n",
              "      <th>sales_diffed</th>\n",
              "    </tr>\n",
              "  </thead>\n",
              "  <tbody>\n",
              "    <tr>\n",
              "      <th>0</th>\n",
              "      <td>2008-01</td>\n",
              "      <td>282604.11</td>\n",
              "      <td>NaN</td>\n",
              "    </tr>\n",
              "    <tr>\n",
              "      <th>1</th>\n",
              "      <td>2008-02</td>\n",
              "      <td>262474.40</td>\n",
              "      <td>-20129.71</td>\n",
              "    </tr>\n",
              "    <tr>\n",
              "      <th>2</th>\n",
              "      <td>2008-03</td>\n",
              "      <td>326059.68</td>\n",
              "      <td>63585.28</td>\n",
              "    </tr>\n",
              "    <tr>\n",
              "      <th>3</th>\n",
              "      <td>2008-04</td>\n",
              "      <td>215387.49</td>\n",
              "      <td>-110672.19</td>\n",
              "    </tr>\n",
              "    <tr>\n",
              "      <th>4</th>\n",
              "      <td>2008-05</td>\n",
              "      <td>499559.90</td>\n",
              "      <td>284172.41</td>\n",
              "    </tr>\n",
              "    <tr>\n",
              "      <th>...</th>\n",
              "      <td>...</td>\n",
              "      <td>...</td>\n",
              "      <td>...</td>\n",
              "    </tr>\n",
              "    <tr>\n",
              "      <th>152</th>\n",
              "      <td>2020-09</td>\n",
              "      <td>468710.96</td>\n",
              "      <td>312644.01</td>\n",
              "    </tr>\n",
              "    <tr>\n",
              "      <th>153</th>\n",
              "      <td>2020-10</td>\n",
              "      <td>1118446.80</td>\n",
              "      <td>649735.84</td>\n",
              "    </tr>\n",
              "    <tr>\n",
              "      <th>154</th>\n",
              "      <td>2020-11</td>\n",
              "      <td>429166.77</td>\n",
              "      <td>-689280.03</td>\n",
              "    </tr>\n",
              "    <tr>\n",
              "      <th>155</th>\n",
              "      <td>2020-12</td>\n",
              "      <td>549415.01</td>\n",
              "      <td>120248.24</td>\n",
              "    </tr>\n",
              "    <tr>\n",
              "      <th>156</th>\n",
              "      <td>2021-01</td>\n",
              "      <td>167437.71</td>\n",
              "      <td>-381977.30</td>\n",
              "    </tr>\n",
              "  </tbody>\n",
              "</table>\n",
              "<p>157 rows × 3 columns</p>\n",
              "</div>"
            ],
            "text/plain": [
              "    Year_Month  Sum of Sales  sales_diffed\n",
              "0      2008-01     282604.11           NaN\n",
              "1      2008-02     262474.40     -20129.71\n",
              "2      2008-03     326059.68      63585.28\n",
              "3      2008-04     215387.49    -110672.19\n",
              "4      2008-05     499559.90     284172.41\n",
              "..         ...           ...           ...\n",
              "152    2020-09     468710.96     312644.01\n",
              "153    2020-10    1118446.80     649735.84\n",
              "154    2020-11     429166.77    -689280.03\n",
              "155    2020-12     549415.01     120248.24\n",
              "156    2021-01     167437.71    -381977.30\n",
              "\n",
              "[157 rows x 3 columns]"
            ]
          },
          "metadata": {
            "tags": []
          },
          "execution_count": 10
        }
      ]
    },
    {
      "cell_type": "code",
      "metadata": {
        "colab": {
          "base_uri": "https://localhost:8080/"
        },
        "id": "rnc8yTOv7nYt",
        "outputId": "70d6f86d-3aa5-40df-c2c6-8781f3d3c5ba"
      },
      "source": [
        "ad_fuller_result = adfuller(sales['sales_diffed'][1:])\r\n",
        "print(f'ADF Statistic: {ad_fuller_result[0]}')\r\n",
        "print(f'p-value: {ad_fuller_result[1]}')"
      ],
      "execution_count": 11,
      "outputs": [
        {
          "output_type": "stream",
          "text": [
            "ADF Statistic: -5.778944752109984\n",
            "p-value: 5.179955882440493e-07\n"
          ],
          "name": "stdout"
        }
      ]
    },
    {
      "cell_type": "code",
      "metadata": {
        "colab": {
          "base_uri": "https://localhost:8080/",
          "height": 520
        },
        "id": "TKOFWQA86s9-",
        "outputId": "15b2697e-555b-4943-e3f1-f662cd0beb77"
      },
      "source": [
        "fig, ax = plt.subplots(2,1, figsize= (12,8))\n",
        "fig = sm.graphics.tsa.plot_acf(sales['sales_diffed'][1:], lags=50, ax=ax[0])\n",
        "fig = sm.graphics.tsa.plot_pacf(sales['sales_diffed'][1:], lags=50, ax=ax[1])\n",
        "plt.show()"
      ],
      "execution_count": 12,
      "outputs": [
        {
          "output_type": "display_data",
          "data": {
            "image/png": "[encoded data removed]",
            "text/plain": [
              "<Figure size 864x576 with 2 Axes>"
            ]
          },
          "metadata": {
            "tags": [],
            "needs_background": "light"
          }
        }
      ]
    },
    {
      "cell_type": "code",
      "metadata": {
        "id": "lpKOX1yF4sVo"
      },
      "source": [
        ""
      ],
      "execution_count": null,
      "outputs": []
    },
    {
      "cell_type": "markdown",
      "metadata": {
        "id": "bLGEh8Ad3Pog"
      },
      "source": [
        "# New Section"
      ]
    },
    {
      "cell_type": "code",
      "metadata": {
        "colab": {
          "base_uri": "https://localhost:8080/"
        },
        "id": "6TyDuvVkEkRQ",
        "outputId": "c4772328-d5fd-469b-b4c7-4136bb90a88f"
      },
      "source": [
        "p = range(0,4)\r\n",
        "d = range(1,2)\r\n",
        "q = range(0,4)\r\n",
        "pdq = list(itertools.product(p, d, q))\r\n",
        "seasonal_pdq = [(x[0], x[1], x[2], 12) for x in list(itertools.product(p, d, q))]\r\n",
        "\r\n",
        "df = pd.DataFrame()\r\n",
        "for param in pdq:\r\n",
        "    for param_seasonal in seasonal_pdq:\r\n",
        "        try:\r\n",
        "            mod = sm.tsa.statespace.SARIMAX(sales['Sum of Sales'],\r\n",
        "                                            order=param,\r\n",
        "                                            seasonal_order=param_seasonal,\r\n",
        "                                            enforce_stationarity=False,\r\n",
        "                                            enforce_invertibility=False)\r\n",
        "            results = mod.fit()\r\n",
        "            print('ARIMA{}x{}- AIC:{}'.format(param, param_seasonal, results.aic))\r\n",
        "\r\n",
        "            combo = [(param,param_seasonal,results.aic)]\r\n",
        "            df = df.append(combo)\r\n",
        "            print(\" \")\r\n",
        "        except:\r\n",
        "            continue\r\n",
        "df.columns = ['param','param_seasonal', 'AIC']"
      ],
      "execution_count": 13,
      "outputs": [
        {
          "output_type": "stream",
          "text": [
            "ARIMA(0, 1, 0)x(0, 1, 0, 12)- AIC:3861.4198757860204\n",
            " \n",
            "ARIMA(0, 1, 0)x(0, 1, 1, 12)- AIC:3497.6736490320413\n",
            " \n",
            "ARIMA(0, 1, 0)x(0, 1, 2, 12)- AIC:3176.936974534053\n",
            " \n",
            "ARIMA(0, 1, 0)x(0, 1, 3, 12)- AIC:8565.781059182842\n",
            " \n",
            "ARIMA(0, 1, 0)x(1, 1, 0, 12)- AIC:3527.7289985992074\n",
            " \n",
            "ARIMA(0, 1, 0)x(1, 1, 1, 12)- AIC:3497.9659964056586\n",
            " \n",
            "ARIMA(0, 1, 0)x(1, 1, 2, 12)- AIC:3176.1152141582843\n",
            " \n",
            "ARIMA(0, 1, 0)x(1, 1, 3, 12)- AIC:8583.097738413173\n",
            " \n",
            "ARIMA(0, 1, 0)x(2, 1, 0, 12)- AIC:3196.3556056769257\n",
            " \n",
            "ARIMA(0, 1, 0)x(2, 1, 1, 12)- AIC:3197.018790787999\n",
            " \n",
            "ARIMA(0, 1, 0)x(2, 1, 2, 12)- AIC:3174.685949329148\n",
            " \n",
            "ARIMA(0, 1, 0)x(2, 1, 3, 12)- AIC:8672.852181119995\n",
            " \n",
            "ARIMA(0, 1, 0)x(3, 1, 0, 12)- AIC:2883.7144755994805\n",
            " \n",
            "ARIMA(0, 1, 0)x(3, 1, 1, 12)- AIC:2885.442959978349\n",
            " \n",
            "ARIMA(0, 1, 0)x(3, 1, 2, 12)- AIC:2887.734047937116\n",
            " \n",
            "ARIMA(0, 1, 1)x(0, 1, 0, 12)- AIC:3810.7288562963918\n",
            " \n",
            "ARIMA(0, 1, 1)x(0, 1, 1, 12)- AIC:3455.090454742982\n",
            " \n",
            "ARIMA(0, 1, 1)x(0, 1, 2, 12)- AIC:3137.398411682222\n",
            " \n",
            "ARIMA(0, 1, 1)x(0, 1, 3, 12)- AIC:8487.38334902563\n",
            " \n",
            "ARIMA(0, 1, 1)x(1, 1, 0, 12)- AIC:3506.5034168130214\n",
            " \n",
            "ARIMA(0, 1, 1)x(1, 1, 1, 12)- AIC:3454.739628063331\n",
            " \n",
            "ARIMA(0, 1, 1)x(1, 1, 2, 12)- AIC:3137.355673119224\n",
            " \n",
            "ARIMA(0, 1, 1)x(1, 1, 3, 12)- AIC:8504.6693830632\n",
            " \n",
            "ARIMA(0, 1, 1)x(2, 1, 0, 12)- AIC:3189.17288048583\n",
            " \n",
            "ARIMA(0, 1, 1)x(2, 1, 1, 12)- AIC:3190.3547285242894\n",
            " \n",
            "ARIMA(0, 1, 1)x(2, 1, 2, 12)- AIC:3138.9900165064414\n",
            " \n",
            "ARIMA(0, 1, 1)x(2, 1, 3, 12)- AIC:8596.906541836548\n",
            " \n",
            "ARIMA(0, 1, 1)x(3, 1, 0, 12)- AIC:2873.696607239983\n",
            " \n",
            "ARIMA(0, 1, 1)x(3, 1, 1, 12)- AIC:2874.7630226320734\n",
            " \n",
            "ARIMA(0, 1, 1)x(3, 1, 2, 12)- AIC:2875.9523307587456\n",
            " \n"
          ],
          "name": "stdout"
        },
        {
          "output_type": "stream",
          "text": [
            "/usr/local/lib/python3.7/dist-packages/statsmodels/base/model.py:512: ConvergenceWarning: Maximum Likelihood optimization failed to converge. Check mle_retvals\n",
            "  \"Check mle_retvals\", ConvergenceWarning)\n"
          ],
          "name": "stderr"
        },
        {
          "output_type": "stream",
          "text": [
            "ARIMA(0, 1, 1)x(3, 1, 3, 12)- AIC:nan\n",
            " \n",
            "ARIMA(0, 1, 2)x(0, 1, 0, 12)- AIC:3783.153839437005\n",
            " \n",
            "ARIMA(0, 1, 2)x(0, 1, 1, 12)- AIC:3422.563692729486\n",
            " \n",
            "ARIMA(0, 1, 2)x(0, 1, 2, 12)- AIC:3104.591342054657\n",
            " \n",
            "ARIMA(0, 1, 2)x(0, 1, 3, 12)- AIC:8404.068872769976\n",
            " \n",
            "ARIMA(0, 1, 2)x(1, 1, 0, 12)- AIC:3500.391994574642\n",
            " \n",
            "ARIMA(0, 1, 2)x(1, 1, 1, 12)- AIC:3422.191838962467\n",
            " \n",
            "ARIMA(0, 1, 2)x(1, 1, 2, 12)- AIC:3106.2059132342765\n",
            " \n",
            "ARIMA(0, 1, 2)x(1, 1, 3, 12)- AIC:8421.210698939267\n",
            " \n",
            "ARIMA(0, 1, 2)x(2, 1, 0, 12)- AIC:3182.0663119262263\n",
            " \n",
            "ARIMA(0, 1, 2)x(2, 1, 1, 12)- AIC:3184.0447106569445\n",
            " \n",
            "ARIMA(0, 1, 2)x(2, 1, 2, 12)- AIC:3106.6578027829496\n",
            " \n",
            "ARIMA(0, 1, 2)x(2, 1, 3, 12)- AIC:8512.596563761921\n",
            " \n",
            "ARIMA(0, 1, 2)x(3, 1, 0, 12)- AIC:2867.501191810145\n",
            " \n",
            "ARIMA(0, 1, 2)x(3, 1, 1, 12)- AIC:2868.1743312791177\n",
            " \n"
          ],
          "name": "stdout"
        },
        {
          "output_type": "stream",
          "text": [
            "/usr/local/lib/python3.7/dist-packages/statsmodels/base/model.py:512: ConvergenceWarning: Maximum Likelihood optimization failed to converge. Check mle_retvals\n",
            "  \"Check mle_retvals\", ConvergenceWarning)\n"
          ],
          "name": "stderr"
        },
        {
          "output_type": "stream",
          "text": [
            "ARIMA(0, 1, 2)x(3, 1, 2, 12)- AIC:2868.4789490352414\n",
            " \n"
          ],
          "name": "stdout"
        },
        {
          "output_type": "stream",
          "text": [
            "/usr/local/lib/python3.7/dist-packages/statsmodels/base/model.py:512: ConvergenceWarning: Maximum Likelihood optimization failed to converge. Check mle_retvals\n",
            "  \"Check mle_retvals\", ConvergenceWarning)\n"
          ],
          "name": "stderr"
        },
        {
          "output_type": "stream",
          "text": [
            "ARIMA(0, 1, 2)x(3, 1, 3, 12)- AIC:nan\n",
            " \n",
            "ARIMA(0, 1, 3)x(0, 1, 0, 12)- AIC:3744.513697219933\n",
            " \n",
            "ARIMA(0, 1, 3)x(0, 1, 1, 12)- AIC:3391.9059503101316\n",
            " \n",
            "ARIMA(0, 1, 3)x(0, 1, 2, 12)- AIC:3075.018453134821\n",
            " \n",
            "ARIMA(0, 1, 3)x(0, 1, 3, 12)- AIC:8319.294708836023\n",
            " \n",
            "ARIMA(0, 1, 3)x(1, 1, 0, 12)- AIC:3497.1682219884333\n",
            " \n",
            "ARIMA(0, 1, 3)x(1, 1, 1, 12)- AIC:3391.5207237742834\n",
            " \n",
            "ARIMA(0, 1, 3)x(1, 1, 2, 12)- AIC:3076.8311621861844\n",
            " \n",
            "ARIMA(0, 1, 3)x(1, 1, 3, 12)- AIC:8336.29232713704\n",
            " \n",
            "ARIMA(0, 1, 3)x(2, 1, 0, 12)- AIC:3178.0418354796375\n",
            " \n",
            "ARIMA(0, 1, 3)x(2, 1, 1, 12)- AIC:3180.034331058164\n",
            " \n",
            "ARIMA(0, 1, 3)x(2, 1, 2, 12)- AIC:3078.0965149181566\n",
            " \n",
            "ARIMA(0, 1, 3)x(2, 1, 3, 12)- AIC:8426.826898009002\n",
            " \n",
            "ARIMA(0, 1, 3)x(3, 1, 0, 12)- AIC:2864.2776744402963\n",
            " \n",
            "ARIMA(0, 1, 3)x(3, 1, 1, 12)- AIC:2864.916046803627\n",
            " \n"
          ],
          "name": "stdout"
        },
        {
          "output_type": "stream",
          "text": [
            "/usr/local/lib/python3.7/dist-packages/statsmodels/base/model.py:512: ConvergenceWarning: Maximum Likelihood optimization failed to converge. Check mle_retvals\n",
            "  \"Check mle_retvals\", ConvergenceWarning)\n"
          ],
          "name": "stderr"
        },
        {
          "output_type": "stream",
          "text": [
            "ARIMA(0, 1, 3)x(3, 1, 2, 12)- AIC:2865.4404032801963\n",
            " \n"
          ],
          "name": "stdout"
        },
        {
          "output_type": "stream",
          "text": [
            "/usr/local/lib/python3.7/dist-packages/statsmodels/base/model.py:512: ConvergenceWarning: Maximum Likelihood optimization failed to converge. Check mle_retvals\n",
            "  \"Check mle_retvals\", ConvergenceWarning)\n"
          ],
          "name": "stderr"
        },
        {
          "output_type": "stream",
          "text": [
            "ARIMA(0, 1, 3)x(3, 1, 3, 12)- AIC:nan\n",
            " \n",
            "ARIMA(1, 1, 0)x(0, 1, 0, 12)- AIC:3846.9486593833685\n",
            " \n",
            "ARIMA(1, 1, 0)x(0, 1, 1, 12)- AIC:3489.949137802938\n",
            " \n",
            "ARIMA(1, 1, 0)x(0, 1, 2, 12)- AIC:3170.771401169127\n",
            " \n",
            "ARIMA(1, 1, 0)x(0, 1, 3, 12)- AIC:8573.8658734773\n",
            " \n",
            "ARIMA(1, 1, 0)x(1, 1, 0, 12)- AIC:3493.3699053944406\n",
            " \n",
            "ARIMA(1, 1, 0)x(1, 1, 1, 12)- AIC:3491.3120190278496\n",
            " \n",
            "ARIMA(1, 1, 0)x(1, 1, 2, 12)- AIC:3172.160963181104\n",
            " \n",
            "ARIMA(1, 1, 0)x(1, 1, 3, 12)- AIC:8591.296115383142\n",
            " \n",
            "ARIMA(1, 1, 0)x(2, 1, 0, 12)- AIC:3170.467965335322\n",
            " \n",
            "ARIMA(1, 1, 0)x(2, 1, 1, 12)- AIC:3172.4307741446296\n",
            " \n",
            "ARIMA(1, 1, 0)x(2, 1, 2, 12)- AIC:3174.2037520100703\n",
            " \n",
            "ARIMA(1, 1, 0)x(2, 1, 3, 12)- AIC:8684.384568107182\n",
            " \n",
            "ARIMA(1, 1, 0)x(3, 1, 0, 12)- AIC:2857.854034796403\n",
            " \n",
            "ARIMA(1, 1, 0)x(3, 1, 1, 12)- AIC:2859.821104001995\n",
            " \n",
            "ARIMA(1, 1, 0)x(3, 1, 2, 12)- AIC:2860.9023710736365\n",
            " \n"
          ],
          "name": "stdout"
        },
        {
          "output_type": "stream",
          "text": [
            "/usr/local/lib/python3.7/dist-packages/statsmodels/base/model.py:512: ConvergenceWarning: Maximum Likelihood optimization failed to converge. Check mle_retvals\n",
            "  \"Check mle_retvals\", ConvergenceWarning)\n"
          ],
          "name": "stderr"
        },
        {
          "output_type": "stream",
          "text": [
            "ARIMA(1, 1, 0)x(3, 1, 3, 12)- AIC:8476.307795479626\n",
            " \n",
            "ARIMA(1, 1, 1)x(0, 1, 0, 12)- AIC:3805.209772712227\n",
            " \n",
            "ARIMA(1, 1, 1)x(0, 1, 1, 12)- AIC:3449.209710564247\n",
            " \n",
            "ARIMA(1, 1, 1)x(0, 1, 2, 12)- AIC:3131.298275882623\n",
            " \n",
            "ARIMA(1, 1, 1)x(0, 1, 3, 12)- AIC:8488.294196510886\n",
            " \n",
            "ARIMA(1, 1, 1)x(1, 1, 0, 12)- AIC:3474.954091855775\n",
            " \n",
            "ARIMA(1, 1, 1)x(1, 1, 1, 12)- AIC:3449.032854860307\n",
            " \n",
            "ARIMA(1, 1, 1)x(1, 1, 2, 12)- AIC:3133.0189049042037\n",
            " \n",
            "ARIMA(1, 1, 1)x(1, 1, 3, 12)- AIC:8505.580230548458\n",
            " \n",
            "ARIMA(1, 1, 1)x(2, 1, 0, 12)- AIC:3156.0916747710976\n",
            " \n",
            "ARIMA(1, 1, 1)x(2, 1, 1, 12)- AIC:3158.0613861165307\n",
            " \n",
            "ARIMA(1, 1, 1)x(2, 1, 2, 12)- AIC:3132.337035430581\n",
            " \n",
            "ARIMA(1, 1, 1)x(2, 1, 3, 12)- AIC:8597.817389321805\n",
            " \n",
            "ARIMA(1, 1, 1)x(3, 1, 0, 12)- AIC:2841.6520976342176\n",
            " \n",
            "ARIMA(1, 1, 1)x(3, 1, 1, 12)- AIC:2841.9873474980195\n",
            " \n",
            "ARIMA(1, 1, 1)x(3, 1, 2, 12)- AIC:2842.7668472450678\n",
            " \n"
          ],
          "name": "stdout"
        },
        {
          "output_type": "stream",
          "text": [
            "/usr/local/lib/python3.7/dist-packages/statsmodels/base/model.py:512: ConvergenceWarning: Maximum Likelihood optimization failed to converge. Check mle_retvals\n",
            "  \"Check mle_retvals\", ConvergenceWarning)\n"
          ],
          "name": "stderr"
        },
        {
          "output_type": "stream",
          "text": [
            "ARIMA(1, 1, 1)x(3, 1, 3, 12)- AIC:nan\n",
            " \n",
            "ARIMA(1, 1, 2)x(0, 1, 0, 12)- AIC:3780.951649143918\n",
            " \n",
            "ARIMA(1, 1, 2)x(0, 1, 1, 12)- AIC:3423.1918287210856\n",
            " \n",
            "ARIMA(1, 1, 2)x(0, 1, 2, 12)- AIC:3105.290907517412\n",
            " \n",
            "ARIMA(1, 1, 2)x(0, 1, 3, 12)- AIC:8405.848984711203\n",
            " \n",
            "ARIMA(1, 1, 2)x(1, 1, 0, 12)- AIC:3475.1435153276943\n",
            " \n",
            "ARIMA(1, 1, 2)x(1, 1, 1, 12)- AIC:3423.013582945282\n",
            " \n",
            "ARIMA(1, 1, 2)x(1, 1, 2, 12)- AIC:3107.001299483107\n",
            " \n",
            "ARIMA(1, 1, 2)x(1, 1, 3, 12)- AIC:8422.990810880501\n",
            " \n",
            "ARIMA(1, 1, 2)x(2, 1, 0, 12)- AIC:3156.307699336945\n",
            " \n",
            "ARIMA(1, 1, 2)x(2, 1, 1, 12)- AIC:3158.2756078389157\n",
            " \n",
            "ARIMA(1, 1, 2)x(2, 1, 2, 12)- AIC:3106.3342258655166\n",
            " \n",
            "ARIMA(1, 1, 2)x(2, 1, 3, 12)- AIC:8514.376675703154\n",
            " \n",
            "ARIMA(1, 1, 2)x(3, 1, 0, 12)- AIC:2842.0647256107636\n",
            " \n",
            "ARIMA(1, 1, 2)x(3, 1, 1, 12)- AIC:2842.3348333629497\n",
            " \n"
          ],
          "name": "stdout"
        },
        {
          "output_type": "stream",
          "text": [
            "/usr/local/lib/python3.7/dist-packages/statsmodels/base/model.py:512: ConvergenceWarning: Maximum Likelihood optimization failed to converge. Check mle_retvals\n",
            "  \"Check mle_retvals\", ConvergenceWarning)\n"
          ],
          "name": "stderr"
        },
        {
          "output_type": "stream",
          "text": [
            "ARIMA(1, 1, 2)x(3, 1, 2, 12)- AIC:2843.038669443673\n",
            " \n"
          ],
          "name": "stdout"
        },
        {
          "output_type": "stream",
          "text": [
            "/usr/local/lib/python3.7/dist-packages/statsmodels/base/model.py:512: ConvergenceWarning: Maximum Likelihood optimization failed to converge. Check mle_retvals\n",
            "  \"Check mle_retvals\", ConvergenceWarning)\n"
          ],
          "name": "stderr"
        },
        {
          "output_type": "stream",
          "text": [
            "ARIMA(1, 1, 2)x(3, 1, 3, 12)- AIC:nan\n",
            " \n",
            "ARIMA(1, 1, 3)x(0, 1, 0, 12)- AIC:3746.5080372300654\n",
            " \n",
            "ARIMA(1, 1, 3)x(0, 1, 1, 12)- AIC:3393.5134724770805\n",
            " \n",
            "ARIMA(1, 1, 3)x(0, 1, 2, 12)- AIC:3076.865146161656\n",
            " \n",
            "ARIMA(1, 1, 3)x(0, 1, 3, 12)- AIC:8321.148307537806\n",
            " \n",
            "ARIMA(1, 1, 3)x(1, 1, 0, 12)- AIC:3472.781197668655\n",
            " \n",
            "ARIMA(1, 1, 3)x(1, 1, 1, 12)- AIC:3393.1653668936647\n",
            " \n",
            "ARIMA(1, 1, 3)x(1, 1, 2, 12)- AIC:3078.6817231833165\n",
            " \n",
            "ARIMA(1, 1, 3)x(1, 1, 3, 12)- AIC:8338.145925838817\n",
            " \n",
            "ARIMA(1, 1, 3)x(2, 1, 0, 12)- AIC:3154.253047269452\n",
            " \n",
            "ARIMA(1, 1, 3)x(2, 1, 1, 12)- AIC:3156.2510743845114\n",
            " \n",
            "ARIMA(1, 1, 3)x(2, 1, 2, 12)- AIC:3080.0301329043614\n",
            " \n",
            "ARIMA(1, 1, 3)x(2, 1, 3, 12)- AIC:8428.680496710776\n",
            " \n",
            "ARIMA(1, 1, 3)x(3, 1, 0, 12)- AIC:2840.2951551484516\n",
            " \n"
          ],
          "name": "stdout"
        },
        {
          "output_type": "stream",
          "text": [
            "/usr/local/lib/python3.7/dist-packages/statsmodels/base/model.py:512: ConvergenceWarning: Maximum Likelihood optimization failed to converge. Check mle_retvals\n",
            "  \"Check mle_retvals\", ConvergenceWarning)\n"
          ],
          "name": "stderr"
        },
        {
          "output_type": "stream",
          "text": [
            "ARIMA(1, 1, 3)x(3, 1, 1, 12)- AIC:2840.8903254297484\n",
            " \n"
          ],
          "name": "stdout"
        },
        {
          "output_type": "stream",
          "text": [
            "/usr/local/lib/python3.7/dist-packages/statsmodels/base/model.py:512: ConvergenceWarning: Maximum Likelihood optimization failed to converge. Check mle_retvals\n",
            "  \"Check mle_retvals\", ConvergenceWarning)\n"
          ],
          "name": "stderr"
        },
        {
          "output_type": "stream",
          "text": [
            "ARIMA(1, 1, 3)x(3, 1, 2, 12)- AIC:2841.4835205531335\n",
            " \n"
          ],
          "name": "stdout"
        },
        {
          "output_type": "stream",
          "text": [
            "/usr/local/lib/python3.7/dist-packages/statsmodels/base/model.py:512: ConvergenceWarning: Maximum Likelihood optimization failed to converge. Check mle_retvals\n",
            "  \"Check mle_retvals\", ConvergenceWarning)\n"
          ],
          "name": "stderr"
        },
        {
          "output_type": "stream",
          "text": [
            "ARIMA(1, 1, 3)x(3, 1, 3, 12)- AIC:nan\n",
            " \n",
            "ARIMA(2, 1, 0)x(0, 1, 0, 12)- AIC:3819.583692826951\n",
            " \n",
            "ARIMA(2, 1, 0)x(0, 1, 1, 12)- AIC:3489.6788586627254\n",
            " \n",
            "ARIMA(2, 1, 0)x(0, 1, 2, 12)- AIC:3170.8518704261965\n",
            " \n",
            "ARIMA(2, 1, 0)x(0, 1, 3, 12)- AIC:8573.988701866654\n",
            " \n",
            "ARIMA(2, 1, 0)x(1, 1, 0, 12)- AIC:3466.9798726318168\n",
            " \n",
            "ARIMA(2, 1, 0)x(1, 1, 1, 12)- AIC:3464.899167260006\n",
            " \n",
            "ARIMA(2, 1, 0)x(1, 1, 2, 12)- AIC:3172.436241425284\n",
            " \n",
            "ARIMA(2, 1, 0)x(1, 1, 3, 12)- AIC:8591.418943772504\n",
            " \n",
            "ARIMA(2, 1, 0)x(2, 1, 0, 12)- AIC:3144.357506310221\n",
            " \n",
            "ARIMA(2, 1, 0)x(2, 1, 1, 12)- AIC:3146.2922871218298\n",
            " \n",
            "ARIMA(2, 1, 0)x(2, 1, 2, 12)- AIC:3148.160284003944\n",
            " \n",
            "ARIMA(2, 1, 0)x(2, 1, 3, 12)- AIC:8684.507396496536\n",
            " \n",
            "ARIMA(2, 1, 0)x(3, 1, 0, 12)- AIC:2830.803084174832\n",
            " \n",
            "ARIMA(2, 1, 0)x(3, 1, 1, 12)- AIC:2832.7846618832928\n",
            " \n",
            "ARIMA(2, 1, 0)x(3, 1, 2, 12)- AIC:2834.4136962696643\n",
            " \n"
          ],
          "name": "stdout"
        },
        {
          "output_type": "stream",
          "text": [
            "/usr/local/lib/python3.7/dist-packages/statsmodels/base/model.py:512: ConvergenceWarning: Maximum Likelihood optimization failed to converge. Check mle_retvals\n",
            "  \"Check mle_retvals\", ConvergenceWarning)\n"
          ],
          "name": "stderr"
        },
        {
          "output_type": "stream",
          "text": [
            "ARIMA(2, 1, 0)x(3, 1, 3, 12)- AIC:nan\n",
            " \n",
            "ARIMA(2, 1, 1)x(0, 1, 0, 12)- AIC:3806.2705495036453\n",
            " \n",
            "ARIMA(2, 1, 1)x(0, 1, 1, 12)- AIC:3472.225116889988\n",
            " \n",
            "ARIMA(2, 1, 1)x(0, 1, 2, 12)- AIC:3132.1456236394292\n",
            " \n"
          ],
          "name": "stdout"
        },
        {
          "output_type": "stream",
          "text": [
            "/usr/local/lib/python3.7/dist-packages/statsmodels/base/model.py:512: ConvergenceWarning: Maximum Likelihood optimization failed to converge. Check mle_retvals\n",
            "  \"Check mle_retvals\", ConvergenceWarning)\n"
          ],
          "name": "stderr"
        },
        {
          "output_type": "stream",
          "text": [
            "ARIMA(2, 1, 1)x(0, 1, 3, 12)- AIC:8597.028051064884\n",
            " \n",
            "ARIMA(2, 1, 1)x(1, 1, 0, 12)- AIC:3449.8513983321236\n",
            " \n",
            "ARIMA(2, 1, 1)x(1, 1, 1, 12)- AIC:3469.848025890243\n",
            " \n",
            "ARIMA(2, 1, 1)x(1, 1, 2, 12)- AIC:3133.856521461872\n",
            " \n",
            "ARIMA(2, 1, 1)x(1, 1, 3, 12)- AIC:8614.05356255232\n",
            " \n",
            "ARIMA(2, 1, 1)x(2, 1, 0, 12)- AIC:3131.081946955672\n",
            " \n",
            "ARIMA(2, 1, 1)x(2, 1, 1, 12)- AIC:3133.0536924300927\n",
            " \n",
            "ARIMA(2, 1, 1)x(2, 1, 2, 12)- AIC:3133.0224912409994\n",
            " \n"
          ],
          "name": "stdout"
        },
        {
          "output_type": "stream",
          "text": [
            "/usr/local/lib/python3.7/dist-packages/statsmodels/base/model.py:512: ConvergenceWarning: Maximum Likelihood optimization failed to converge. Check mle_retvals\n",
            "  \"Check mle_retvals\", ConvergenceWarning)\n"
          ],
          "name": "stderr"
        },
        {
          "output_type": "stream",
          "text": [
            "ARIMA(2, 1, 1)x(2, 1, 3, 12)- AIC:nan\n",
            " \n",
            "ARIMA(2, 1, 1)x(3, 1, 0, 12)- AIC:2824.9434568665474\n",
            " \n",
            "ARIMA(2, 1, 1)x(3, 1, 1, 12)- AIC:2824.9842691947297\n",
            " \n"
          ],
          "name": "stdout"
        },
        {
          "output_type": "stream",
          "text": [
            "/usr/local/lib/python3.7/dist-packages/statsmodels/base/model.py:512: ConvergenceWarning: Maximum Likelihood optimization failed to converge. Check mle_retvals\n",
            "  \"Check mle_retvals\", ConvergenceWarning)\n"
          ],
          "name": "stderr"
        },
        {
          "output_type": "stream",
          "text": [
            "ARIMA(2, 1, 1)x(3, 1, 2, 12)- AIC:2827.183477494412\n",
            " \n"
          ],
          "name": "stdout"
        },
        {
          "output_type": "stream",
          "text": [
            "/usr/local/lib/python3.7/dist-packages/statsmodels/base/model.py:512: ConvergenceWarning: Maximum Likelihood optimization failed to converge. Check mle_retvals\n",
            "  \"Check mle_retvals\", ConvergenceWarning)\n"
          ],
          "name": "stderr"
        },
        {
          "output_type": "stream",
          "text": [
            "ARIMA(2, 1, 1)x(3, 1, 3, 12)- AIC:nan\n",
            " \n",
            "ARIMA(2, 1, 2)x(0, 1, 0, 12)- AIC:3781.246304696928\n",
            " \n",
            "ARIMA(2, 1, 2)x(0, 1, 1, 12)- AIC:3424.1585547308523\n",
            " \n",
            "ARIMA(2, 1, 2)x(0, 1, 2, 12)- AIC:3106.8776957268133\n",
            " \n",
            "ARIMA(2, 1, 2)x(0, 1, 3, 12)- AIC:8407.7232983925\n",
            " \n",
            "ARIMA(2, 1, 2)x(1, 1, 0, 12)- AIC:3450.795301023938\n",
            " \n",
            "ARIMA(2, 1, 2)x(1, 1, 1, 12)- AIC:3424.4310217481134\n",
            " \n",
            "ARIMA(2, 1, 2)x(1, 1, 2, 12)- AIC:3108.605995061921\n",
            " \n",
            "ARIMA(2, 1, 2)x(1, 1, 3, 12)- AIC:8424.865124561788\n",
            " \n",
            "ARIMA(2, 1, 2)x(2, 1, 0, 12)- AIC:3132.2884333395414\n",
            " \n",
            "ARIMA(2, 1, 2)x(2, 1, 1, 12)- AIC:3134.2768096854193\n",
            " \n"
          ],
          "name": "stdout"
        },
        {
          "output_type": "stream",
          "text": [
            "/usr/local/lib/python3.7/dist-packages/statsmodels/base/model.py:512: ConvergenceWarning: Maximum Likelihood optimization failed to converge. Check mle_retvals\n",
            "  \"Check mle_retvals\", ConvergenceWarning)\n"
          ],
          "name": "stderr"
        },
        {
          "output_type": "stream",
          "text": [
            "ARIMA(2, 1, 2)x(2, 1, 2, 12)- AIC:3098.6152680160726\n",
            " \n",
            "ARIMA(2, 1, 2)x(2, 1, 3, 12)- AIC:8516.25098938444\n",
            " \n",
            "ARIMA(2, 1, 2)x(3, 1, 0, 12)- AIC:2814.6821141584533\n",
            " \n",
            "ARIMA(2, 1, 2)x(3, 1, 1, 12)- AIC:2816.6797366465844\n",
            " \n"
          ],
          "name": "stdout"
        },
        {
          "output_type": "stream",
          "text": [
            "/usr/local/lib/python3.7/dist-packages/statsmodels/base/model.py:512: ConvergenceWarning: Maximum Likelihood optimization failed to converge. Check mle_retvals\n",
            "  \"Check mle_retvals\", ConvergenceWarning)\n"
          ],
          "name": "stderr"
        },
        {
          "output_type": "stream",
          "text": [
            "ARIMA(2, 1, 2)x(3, 1, 2, 12)- AIC:2815.6065243995363\n",
            " \n"
          ],
          "name": "stdout"
        },
        {
          "output_type": "stream",
          "text": [
            "/usr/local/lib/python3.7/dist-packages/statsmodels/base/model.py:512: ConvergenceWarning: Maximum Likelihood optimization failed to converge. Check mle_retvals\n",
            "  \"Check mle_retvals\", ConvergenceWarning)\n"
          ],
          "name": "stderr"
        },
        {
          "output_type": "stream",
          "text": [
            "ARIMA(2, 1, 2)x(3, 1, 3, 12)- AIC:nan\n",
            " \n",
            "ARIMA(2, 1, 3)x(0, 1, 0, 12)- AIC:3745.1849620864764\n",
            " \n",
            "ARIMA(2, 1, 3)x(0, 1, 1, 12)- AIC:3392.9359838586097\n",
            " \n",
            "ARIMA(2, 1, 3)x(0, 1, 2, 12)- AIC:3075.5369264879514\n",
            " \n",
            "ARIMA(2, 1, 3)x(0, 1, 3, 12)- AIC:8319.844217826361\n",
            " \n",
            "ARIMA(2, 1, 3)x(1, 1, 0, 12)- AIC:3446.701846282994\n",
            " \n",
            "ARIMA(2, 1, 3)x(1, 1, 1, 12)- AIC:3392.34247649414\n",
            " \n",
            "ARIMA(2, 1, 3)x(1, 1, 2, 12)- AIC:3077.3094251557004\n",
            " \n",
            "ARIMA(2, 1, 3)x(1, 1, 3, 12)- AIC:8336.841836127376\n",
            " \n",
            "ARIMA(2, 1, 3)x(2, 1, 0, 12)- AIC:3127.9222805580944\n",
            " \n",
            "ARIMA(2, 1, 3)x(2, 1, 1, 12)- AIC:3129.729128827238\n",
            " \n",
            "ARIMA(2, 1, 3)x(2, 1, 2, 12)- AIC:3079.180580843706\n",
            " \n",
            "ARIMA(2, 1, 3)x(2, 1, 3, 12)- AIC:8427.376406999338\n",
            " \n",
            "ARIMA(2, 1, 3)x(3, 1, 0, 12)- AIC:2809.478913984705\n",
            " \n"
          ],
          "name": "stdout"
        },
        {
          "output_type": "stream",
          "text": [
            "/usr/local/lib/python3.7/dist-packages/statsmodels/base/model.py:512: ConvergenceWarning: Maximum Likelihood optimization failed to converge. Check mle_retvals\n",
            "  \"Check mle_retvals\", ConvergenceWarning)\n"
          ],
          "name": "stderr"
        },
        {
          "output_type": "stream",
          "text": [
            "ARIMA(2, 1, 3)x(3, 1, 1, 12)- AIC:2810.9471776345376\n",
            " \n"
          ],
          "name": "stdout"
        },
        {
          "output_type": "stream",
          "text": [
            "/usr/local/lib/python3.7/dist-packages/statsmodels/base/model.py:512: ConvergenceWarning: Maximum Likelihood optimization failed to converge. Check mle_retvals\n",
            "  \"Check mle_retvals\", ConvergenceWarning)\n"
          ],
          "name": "stderr"
        },
        {
          "output_type": "stream",
          "text": [
            "ARIMA(2, 1, 3)x(3, 1, 2, 12)- AIC:2809.297192475226\n",
            " \n"
          ],
          "name": "stdout"
        },
        {
          "output_type": "stream",
          "text": [
            "/usr/local/lib/python3.7/dist-packages/statsmodels/base/model.py:512: ConvergenceWarning: Maximum Likelihood optimization failed to converge. Check mle_retvals\n",
            "  \"Check mle_retvals\", ConvergenceWarning)\n"
          ],
          "name": "stderr"
        },
        {
          "output_type": "stream",
          "text": [
            "ARIMA(2, 1, 3)x(3, 1, 3, 12)- AIC:nan\n",
            " \n",
            "ARIMA(3, 1, 0)x(0, 1, 0, 12)- AIC:3786.838785607868\n",
            " \n",
            "ARIMA(3, 1, 0)x(0, 1, 1, 12)- AIC:3484.7110680426135\n",
            " \n",
            "ARIMA(3, 1, 0)x(0, 1, 2, 12)- AIC:3167.1396280447925\n",
            " \n",
            "ARIMA(3, 1, 0)x(0, 1, 3, 12)- AIC:8570.002253701916\n",
            " \n",
            "ARIMA(3, 1, 0)x(1, 1, 0, 12)- AIC:3436.1945453824537\n",
            " \n",
            "ARIMA(3, 1, 0)x(1, 1, 1, 12)- AIC:3433.978669323742\n",
            " \n",
            "ARIMA(3, 1, 0)x(1, 1, 2, 12)- AIC:3168.626305984429\n",
            " \n",
            "ARIMA(3, 1, 0)x(1, 1, 3, 12)- AIC:8587.432495607767\n",
            " \n",
            "ARIMA(3, 1, 0)x(2, 1, 0, 12)- AIC:3114.5148722562335\n",
            " \n",
            "ARIMA(3, 1, 0)x(2, 1, 1, 12)- AIC:3116.326760335602\n",
            " \n",
            "ARIMA(3, 1, 0)x(2, 1, 2, 12)- AIC:3118.2456857519933\n",
            " \n",
            "ARIMA(3, 1, 0)x(2, 1, 3, 12)- AIC:8680.520948331803\n",
            " \n",
            "ARIMA(3, 1, 0)x(3, 1, 0, 12)- AIC:2801.2337544940615\n",
            " \n",
            "ARIMA(3, 1, 0)x(3, 1, 1, 12)- AIC:2803.170745222802\n",
            " \n",
            "ARIMA(3, 1, 0)x(3, 1, 2, 12)- AIC:2804.7653341491823\n",
            " \n"
          ],
          "name": "stdout"
        },
        {
          "output_type": "stream",
          "text": [
            "/usr/local/lib/python3.7/dist-packages/statsmodels/base/model.py:512: ConvergenceWarning: Maximum Likelihood optimization failed to converge. Check mle_retvals\n",
            "  \"Check mle_retvals\", ConvergenceWarning)\n"
          ],
          "name": "stderr"
        },
        {
          "output_type": "stream",
          "text": [
            "ARIMA(3, 1, 0)x(3, 1, 3, 12)- AIC:nan\n",
            " \n",
            "ARIMA(3, 1, 1)x(0, 1, 0, 12)- AIC:3784.4433242681303\n",
            " \n",
            "ARIMA(3, 1, 1)x(0, 1, 1, 12)- AIC:3450.3619947878688\n",
            " \n",
            "ARIMA(3, 1, 1)x(0, 1, 2, 12)- AIC:3132.7444266722455\n",
            " \n",
            "ARIMA(3, 1, 1)x(0, 1, 3, 12)- AIC:8489.266658625154\n",
            " \n",
            "ARIMA(3, 1, 1)x(1, 1, 0, 12)- AIC:3424.1367383311926\n",
            " \n",
            "ARIMA(3, 1, 1)x(1, 1, 1, 12)- AIC:3423.998885748606\n",
            " \n",
            "ARIMA(3, 1, 1)x(1, 1, 2, 12)- AIC:3134.386062911633\n",
            " \n",
            "ARIMA(3, 1, 1)x(1, 1, 3, 12)- AIC:8506.55269266272\n",
            " \n",
            "ARIMA(3, 1, 1)x(2, 1, 0, 12)- AIC:3105.8494565864416\n",
            " \n",
            "ARIMA(3, 1, 1)x(2, 1, 1, 12)- AIC:3107.8432664787133\n",
            " \n",
            "ARIMA(3, 1, 1)x(2, 1, 2, 12)- AIC:3108.330172013479\n",
            " \n",
            "ARIMA(3, 1, 1)x(2, 1, 3, 12)- AIC:8598.789851436068\n",
            " \n",
            "ARIMA(3, 1, 1)x(3, 1, 0, 12)- AIC:2788.021734734036\n",
            " \n",
            "ARIMA(3, 1, 1)x(3, 1, 1, 12)- AIC:2787.8773755703633\n",
            " \n",
            "ARIMA(3, 1, 1)x(3, 1, 2, 12)- AIC:2791.773192296788\n",
            " \n"
          ],
          "name": "stdout"
        },
        {
          "output_type": "stream",
          "text": [
            "/usr/local/lib/python3.7/dist-packages/statsmodels/base/model.py:512: ConvergenceWarning: Maximum Likelihood optimization failed to converge. Check mle_retvals\n",
            "  \"Check mle_retvals\", ConvergenceWarning)\n"
          ],
          "name": "stderr"
        },
        {
          "output_type": "stream",
          "text": [
            "ARIMA(3, 1, 1)x(3, 1, 3, 12)- AIC:nan\n",
            " \n",
            "ARIMA(3, 1, 2)x(0, 1, 0, 12)- AIC:3780.4070144568723\n",
            " \n",
            "ARIMA(3, 1, 2)x(0, 1, 1, 12)- AIC:3423.8262980215477\n",
            " \n",
            "ARIMA(3, 1, 2)x(0, 1, 2, 12)- AIC:3106.472158920055\n",
            " \n",
            "ARIMA(3, 1, 2)x(0, 1, 3, 12)- AIC:8405.800114700342\n",
            " \n",
            "ARIMA(3, 1, 2)x(1, 1, 0, 12)- AIC:3424.0587486046566\n",
            " \n",
            "ARIMA(3, 1, 2)x(1, 1, 1, 12)- AIC:3423.791671941839\n",
            " \n",
            "ARIMA(3, 1, 2)x(1, 1, 2, 12)- AIC:3108.0823216828485\n",
            " \n",
            "ARIMA(3, 1, 2)x(1, 1, 3, 12)- AIC:8422.941940869638\n",
            " \n",
            "ARIMA(3, 1, 2)x(2, 1, 0, 12)- AIC:3105.8118312178467\n",
            " \n",
            "ARIMA(3, 1, 2)x(2, 1, 1, 12)- AIC:3107.805848757181\n",
            " \n"
          ],
          "name": "stdout"
        },
        {
          "output_type": "stream",
          "text": [
            "/usr/local/lib/python3.7/dist-packages/statsmodels/base/model.py:512: ConvergenceWarning: Maximum Likelihood optimization failed to converge. Check mle_retvals\n",
            "  \"Check mle_retvals\", ConvergenceWarning)\n"
          ],
          "name": "stderr"
        },
        {
          "output_type": "stream",
          "text": [
            "ARIMA(3, 1, 2)x(2, 1, 2, 12)- AIC:3102.8128158214754\n",
            " \n",
            "ARIMA(3, 1, 2)x(2, 1, 3, 12)- AIC:8514.327805692286\n",
            " \n",
            "ARIMA(3, 1, 2)x(3, 1, 0, 12)- AIC:2787.958717208978\n",
            " \n"
          ],
          "name": "stdout"
        },
        {
          "output_type": "stream",
          "text": [
            "/usr/local/lib/python3.7/dist-packages/statsmodels/base/model.py:512: ConvergenceWarning: Maximum Likelihood optimization failed to converge. Check mle_retvals\n",
            "  \"Check mle_retvals\", ConvergenceWarning)\n"
          ],
          "name": "stderr"
        },
        {
          "output_type": "stream",
          "text": [
            "ARIMA(3, 1, 2)x(3, 1, 1, 12)- AIC:2789.2488534812155\n",
            " \n"
          ],
          "name": "stdout"
        },
        {
          "output_type": "stream",
          "text": [
            "/usr/local/lib/python3.7/dist-packages/statsmodels/base/model.py:512: ConvergenceWarning: Maximum Likelihood optimization failed to converge. Check mle_retvals\n",
            "  \"Check mle_retvals\", ConvergenceWarning)\n"
          ],
          "name": "stderr"
        },
        {
          "output_type": "stream",
          "text": [
            "ARIMA(3, 1, 2)x(3, 1, 2, 12)- AIC:2791.706306117145\n",
            " \n"
          ],
          "name": "stdout"
        },
        {
          "output_type": "stream",
          "text": [
            "/usr/local/lib/python3.7/dist-packages/statsmodels/base/model.py:512: ConvergenceWarning: Maximum Likelihood optimization failed to converge. Check mle_retvals\n",
            "  \"Check mle_retvals\", ConvergenceWarning)\n"
          ],
          "name": "stderr"
        },
        {
          "output_type": "stream",
          "text": [
            "ARIMA(3, 1, 2)x(3, 1, 3, 12)- AIC:nan\n",
            " \n",
            "ARIMA(3, 1, 3)x(0, 1, 0, 12)- AIC:3745.3139936785387\n",
            " \n",
            "ARIMA(3, 1, 3)x(0, 1, 1, 12)- AIC:3390.1739115256514\n",
            " \n",
            "ARIMA(3, 1, 3)x(0, 1, 2, 12)- AIC:3075.9575747697904\n",
            " \n",
            "ARIMA(3, 1, 3)x(0, 1, 3, 12)- AIC:8321.805827704695\n",
            " \n",
            "ARIMA(3, 1, 3)x(1, 1, 0, 12)- AIC:3418.527097344321\n",
            " \n"
          ],
          "name": "stdout"
        },
        {
          "output_type": "stream",
          "text": [
            "/usr/local/lib/python3.7/dist-packages/statsmodels/base/model.py:512: ConvergenceWarning: Maximum Likelihood optimization failed to converge. Check mle_retvals\n",
            "  \"Check mle_retvals\", ConvergenceWarning)\n"
          ],
          "name": "stderr"
        },
        {
          "output_type": "stream",
          "text": [
            "ARIMA(3, 1, 3)x(1, 1, 1, 12)- AIC:3383.9993668410507\n",
            " \n"
          ],
          "name": "stdout"
        },
        {
          "output_type": "stream",
          "text": [
            "/usr/local/lib/python3.7/dist-packages/statsmodels/base/model.py:512: ConvergenceWarning: Maximum Likelihood optimization failed to converge. Check mle_retvals\n",
            "  \"Check mle_retvals\", ConvergenceWarning)\n"
          ],
          "name": "stderr"
        },
        {
          "output_type": "stream",
          "text": [
            "ARIMA(3, 1, 3)x(1, 1, 2, 12)- AIC:3071.462003968001\n",
            " \n",
            "ARIMA(3, 1, 3)x(1, 1, 3, 12)- AIC:8338.8034460057\n",
            " \n"
          ],
          "name": "stdout"
        },
        {
          "output_type": "stream",
          "text": [
            "/usr/local/lib/python3.7/dist-packages/statsmodels/base/model.py:512: ConvergenceWarning: Maximum Likelihood optimization failed to converge. Check mle_retvals\n",
            "  \"Check mle_retvals\", ConvergenceWarning)\n"
          ],
          "name": "stderr"
        },
        {
          "output_type": "stream",
          "text": [
            "ARIMA(3, 1, 3)x(2, 1, 0, 12)- AIC:3095.6291134552084\n",
            " \n"
          ],
          "name": "stdout"
        },
        {
          "output_type": "stream",
          "text": [
            "/usr/local/lib/python3.7/dist-packages/statsmodels/base/model.py:512: ConvergenceWarning: Maximum Likelihood optimization failed to converge. Check mle_retvals\n",
            "  \"Check mle_retvals\", ConvergenceWarning)\n"
          ],
          "name": "stderr"
        },
        {
          "output_type": "stream",
          "text": [
            "ARIMA(3, 1, 3)x(2, 1, 1, 12)- AIC:3097.6394745108973\n",
            " \n"
          ],
          "name": "stdout"
        },
        {
          "output_type": "stream",
          "text": [
            "/usr/local/lib/python3.7/dist-packages/statsmodels/base/model.py:512: ConvergenceWarning: Maximum Likelihood optimization failed to converge. Check mle_retvals\n",
            "  \"Check mle_retvals\", ConvergenceWarning)\n"
          ],
          "name": "stderr"
        },
        {
          "output_type": "stream",
          "text": [
            "ARIMA(3, 1, 3)x(2, 1, 2, 12)- AIC:3073.337564729339\n",
            " \n",
            "ARIMA(3, 1, 3)x(2, 1, 3, 12)- AIC:8429.338016877666\n",
            " \n",
            "ARIMA(3, 1, 3)x(3, 1, 0, 12)- AIC:2784.6179382437226\n",
            " \n"
          ],
          "name": "stdout"
        },
        {
          "output_type": "stream",
          "text": [
            "/usr/local/lib/python3.7/dist-packages/statsmodels/base/model.py:512: ConvergenceWarning: Maximum Likelihood optimization failed to converge. Check mle_retvals\n",
            "  \"Check mle_retvals\", ConvergenceWarning)\n"
          ],
          "name": "stderr"
        },
        {
          "output_type": "stream",
          "text": [
            "ARIMA(3, 1, 3)x(3, 1, 1, 12)- AIC:2782.5878323049915\n",
            " \n"
          ],
          "name": "stdout"
        },
        {
          "output_type": "stream",
          "text": [
            "/usr/local/lib/python3.7/dist-packages/statsmodels/base/model.py:512: ConvergenceWarning: Maximum Likelihood optimization failed to converge. Check mle_retvals\n",
            "  \"Check mle_retvals\", ConvergenceWarning)\n"
          ],
          "name": "stderr"
        },
        {
          "output_type": "stream",
          "text": [
            "ARIMA(3, 1, 3)x(3, 1, 2, 12)- AIC:2785.6100608622028\n",
            " \n"
          ],
          "name": "stdout"
        },
        {
          "output_type": "stream",
          "text": [
            "/usr/local/lib/python3.7/dist-packages/statsmodels/base/model.py:512: ConvergenceWarning: Maximum Likelihood optimization failed to converge. Check mle_retvals\n",
            "  \"Check mle_retvals\", ConvergenceWarning)\n"
          ],
          "name": "stderr"
        },
        {
          "output_type": "stream",
          "text": [
            "ARIMA(3, 1, 3)x(3, 1, 3, 12)- AIC:nan\n",
            " \n"
          ],
          "name": "stdout"
        }
      ]
    },
    {
      "cell_type": "code",
      "metadata": {
        "colab": {
          "base_uri": "https://localhost:8080/",
          "height": 433
        },
        "id": "HiZqRoLuLYDQ",
        "outputId": "fae2f30b-6eb6-469e-f8b3-45a901c62b0b"
      },
      "source": [
        "df = df.sort_values('AIC').reset_index(drop= True)\r\n",
        "df"
      ],
      "execution_count": 14,
      "outputs": [
        {
          "output_type": "execute_result",
          "data": {
            "text/html": [
              "<div>\n",
              "<style scoped>\n",
              "    .dataframe tbody tr th:only-of-type {\n",
              "        vertical-align: middle;\n",
              "    }\n",
              "\n",
              "    .dataframe tbody tr th {\n",
              "        vertical-align: top;\n",
              "    }\n",
              "\n",
              "    .dataframe thead th {\n",
              "        text-align: right;\n",
              "    }\n",
              "</style>\n",
              "<table border=\"1\" class=\"dataframe\">\n",
              "  <thead>\n",
              "    <tr style=\"text-align: right;\">\n",
              "      <th></th>\n",
              "      <th>param</th>\n",
              "      <th>param_seasonal</th>\n",
              "      <th>AIC</th>\n",
              "    </tr>\n",
              "  </thead>\n",
              "  <tbody>\n",
              "    <tr>\n",
              "      <th>0</th>\n",
              "      <td>(3, 1, 3)</td>\n",
              "      <td>(3, 1, 1, 12)</td>\n",
              "      <td>2782.587832</td>\n",
              "    </tr>\n",
              "    <tr>\n",
              "      <th>1</th>\n",
              "      <td>(3, 1, 3)</td>\n",
              "      <td>(3, 1, 0, 12)</td>\n",
              "      <td>2784.617938</td>\n",
              "    </tr>\n",
              "    <tr>\n",
              "      <th>2</th>\n",
              "      <td>(3, 1, 3)</td>\n",
              "      <td>(3, 1, 2, 12)</td>\n",
              "      <td>2785.610061</td>\n",
              "    </tr>\n",
              "    <tr>\n",
              "      <th>3</th>\n",
              "      <td>(3, 1, 1)</td>\n",
              "      <td>(3, 1, 1, 12)</td>\n",
              "      <td>2787.877376</td>\n",
              "    </tr>\n",
              "    <tr>\n",
              "      <th>4</th>\n",
              "      <td>(3, 1, 2)</td>\n",
              "      <td>(3, 1, 0, 12)</td>\n",
              "      <td>2787.958717</td>\n",
              "    </tr>\n",
              "    <tr>\n",
              "      <th>...</th>\n",
              "      <td>...</td>\n",
              "      <td>...</td>\n",
              "      <td>...</td>\n",
              "    </tr>\n",
              "    <tr>\n",
              "      <th>250</th>\n",
              "      <td>(2, 1, 3)</td>\n",
              "      <td>(3, 1, 3, 12)</td>\n",
              "      <td>NaN</td>\n",
              "    </tr>\n",
              "    <tr>\n",
              "      <th>251</th>\n",
              "      <td>(3, 1, 0)</td>\n",
              "      <td>(3, 1, 3, 12)</td>\n",
              "      <td>NaN</td>\n",
              "    </tr>\n",
              "    <tr>\n",
              "      <th>252</th>\n",
              "      <td>(3, 1, 1)</td>\n",
              "      <td>(3, 1, 3, 12)</td>\n",
              "      <td>NaN</td>\n",
              "    </tr>\n",
              "    <tr>\n",
              "      <th>253</th>\n",
              "      <td>(3, 1, 2)</td>\n",
              "      <td>(3, 1, 3, 12)</td>\n",
              "      <td>NaN</td>\n",
              "    </tr>\n",
              "    <tr>\n",
              "      <th>254</th>\n",
              "      <td>(3, 1, 3)</td>\n",
              "      <td>(3, 1, 3, 12)</td>\n",
              "      <td>NaN</td>\n",
              "    </tr>\n",
              "  </tbody>\n",
              "</table>\n",
              "<p>255 rows × 3 columns</p>\n",
              "</div>"
            ],
            "text/plain": [
              "         param param_seasonal          AIC\n",
              "0    (3, 1, 3)  (3, 1, 1, 12)  2782.587832\n",
              "1    (3, 1, 3)  (3, 1, 0, 12)  2784.617938\n",
              "2    (3, 1, 3)  (3, 1, 2, 12)  2785.610061\n",
              "3    (3, 1, 1)  (3, 1, 1, 12)  2787.877376\n",
              "4    (3, 1, 2)  (3, 1, 0, 12)  2787.958717\n",
              "..         ...            ...          ...\n",
              "250  (2, 1, 3)  (3, 1, 3, 12)          NaN\n",
              "251  (3, 1, 0)  (3, 1, 3, 12)          NaN\n",
              "252  (3, 1, 1)  (3, 1, 3, 12)          NaN\n",
              "253  (3, 1, 2)  (3, 1, 3, 12)          NaN\n",
              "254  (3, 1, 3)  (3, 1, 3, 12)          NaN\n",
              "\n",
              "[255 rows x 3 columns]"
            ]
          },
          "metadata": {
            "tags": []
          },
          "execution_count": 14
        }
      ]
    },
    {
      "cell_type": "markdown",
      "metadata": {
        "id": "iNNhWYXHLhAL"
      },
      "source": [
        "The above output suggests that SARIMAX(3,1,3)(3,1,0,12) yields the lowest AIC value of 2272.586783. Therefore we should consider this to be the optimal option."
      ]
    },
    {
      "cell_type": "code",
      "metadata": {
        "colab": {
          "base_uri": "https://localhost:8080/"
        },
        "id": "kOTO2gV8Lyrv",
        "outputId": "572b4b18-2d9e-46e7-968f-143d5750607c"
      },
      "source": [
        "mod = sm.tsa.statespace.SARIMAX(sales['Sum of Sales'],\r\n",
        "                                order=(3, 1, 3),\r\n",
        "                                seasonal_order=(3, 1, 1, 12))\r\n",
        "results = mod.fit()\r\n",
        "print(results.summary())"
      ],
      "execution_count": 15,
      "outputs": [
        {
          "output_type": "stream",
          "text": [
            "/usr/local/lib/python3.7/dist-packages/statsmodels/base/model.py:512: ConvergenceWarning: Maximum Likelihood optimization failed to converge. Check mle_retvals\n",
            "  \"Check mle_retvals\", ConvergenceWarning)\n"
          ],
          "name": "stderr"
        },
        {
          "output_type": "stream",
          "text": [
            "                                 Statespace Model Results                                 \n",
            "==========================================================================================\n",
            "Dep. Variable:                       Sum of Sales   No. Observations:                  157\n",
            "Model:             SARIMAX(3, 1, 3)x(3, 1, 1, 12)   Log Likelihood               -1900.297\n",
            "Date:                            Tue, 09 Mar 2021   AIC                           3822.594\n",
            "Time:                                    17:15:21   BIC                           3855.262\n",
            "Sample:                                         0   HQIC                          3835.868\n",
            "                                            - 157                                         \n",
            "Covariance Type:                              opg                                         \n",
            "==============================================================================\n",
            "                 coef    std err          z      P>|z|      [0.025      0.975]\n",
            "------------------------------------------------------------------------------\n",
            "ar.L1         -0.1243      0.175     -0.711      0.477      -0.467       0.218\n",
            "ar.L2         -0.6317      0.180     -3.501      0.000      -0.985      -0.278\n",
            "ar.L3          0.2518      0.214      1.176      0.239      -0.168       0.671\n",
            "ma.L1         -0.3667      0.142     -2.588      0.010      -0.644      -0.089\n",
            "ma.L2          0.4339      0.147      2.956      0.003       0.146       0.722\n",
            "ma.L3         -0.8277      0.158     -5.226      0.000      -1.138      -0.517\n",
            "ar.S.L12      -0.3056      3.074     -0.099      0.921      -6.331       5.720\n",
            "ar.S.L24       0.0329      2.259      0.015      0.988      -4.395       4.460\n",
            "ar.S.L36       0.0590      0.812      0.073      0.942      -1.533       1.651\n",
            "ma.S.L12      -0.4319      3.086     -0.140      0.889      -6.480       5.616\n",
            "sigma2      2.223e+10   1.16e-09   1.92e+19      0.000    2.22e+10    2.22e+10\n",
            "===================================================================================\n",
            "Ljung-Box (Q):                       21.87   Jarque-Bera (JB):                74.57\n",
            "Prob(Q):                              0.99   Prob(JB):                         0.00\n",
            "Heteroskedasticity (H):               1.00   Skew:                             0.96\n",
            "Prob(H) (two-sided):                  0.99   Kurtosis:                         5.96\n",
            "===================================================================================\n",
            "\n",
            "Warnings:\n",
            "[1] Covariance matrix calculated using the outer product of gradients (complex-step).\n",
            "[2] Covariance matrix is singular or near-singular, with condition number 1.75e+35. Standard errors may be unstable.\n"
          ],
          "name": "stdout"
        }
      ]
    },
    {
      "cell_type": "code",
      "metadata": {
        "colab": {
          "base_uri": "https://localhost:8080/",
          "height": 533
        },
        "id": "a2Mh7bwhL_DN",
        "outputId": "23b2a7cd-b964-4385-8884-c871275012cd"
      },
      "source": [
        "results.plot_diagnostics(figsize=(16, 8))\r\n",
        "plt.show()"
      ],
      "execution_count": 16,
      "outputs": [
        {
          "output_type": "display_data",
          "data": {
            "image/png": "[encoded data removed]",
            "text/plain": [
              "<Figure size 1152x576 with 4 Axes>"
            ]
          },
          "metadata": {
            "tags": [],
            "needs_background": "light"
          }
        }
      ]
    },
    {
      "cell_type": "markdown",
      "metadata": {
        "id": "sPjptDL7EMfI"
      },
      "source": [
        "Here we will forecast the values using the model. Can change starting point from which we need to forecast. For now we will keep starting point after 50 observations"
      ]
    },
    {
      "cell_type": "code",
      "metadata": {
        "colab": {
          "base_uri": "https://localhost:8080/",
          "height": 460
        },
        "id": "SjwZ_3-3MBY8",
        "outputId": "f02952e7-1c08-4129-c03f-3a7087916f91"
      },
      "source": [
        "#Point from which prediction starts\r\n",
        "start_point = 50\r\n",
        "pred = results.get_prediction(start=start_point, dynamic=False)\r\n",
        "pred_ci = pred.conf_int()\r\n",
        "ax = sales['Sum of Sales'].plot(label='observed',)\r\n",
        "pred.predicted_mean.plot(ax=ax, label='Forecasting', alpha=.7, figsize=(14, 7))\r\n",
        "ax.fill_between(pred_ci.index,\r\n",
        "                pred_ci.iloc[:, 0],\r\n",
        "                pred_ci.iloc[:, 1], color='k', alpha=.2)\r\n",
        "plt.legend()\r\n",
        "plt.show()"
      ],
      "execution_count": 42,
      "outputs": [
        {
          "output_type": "display_data",
          "data": {
            "image/png": "[encoded data removed]",
            "text/plain": [
              "<Figure size 1008x504 with 1 Axes>"
            ]
          },
          "metadata": {
            "tags": [],
            "needs_background": "light"
          }
        }
      ]
    },
    {
      "cell_type": "markdown",
      "metadata": {
        "id": "FqsiHXH1FDIy"
      },
      "source": [
        "# Model Evaluation\n",
        "### Forecast Bias\n",
        "Forecast errors can be positive and negative. This means that when the average of these values is calculated, an ideal mean forecast error would be zero.\n",
        "A mean forecast error value other than zero suggests a tendency of the model to over forecast (negative error) or under forecast (positive error)."
      ]
    },
    {
      "cell_type": "code",
      "metadata": {
        "colab": {
          "base_uri": "https://localhost:8080/"
        },
        "id": "pJyl6XE_Er7t",
        "outputId": "07c4ba91-5d53-4fb2-99ae-bc2718f9f0a8"
      },
      "source": [
        "predictions = pred.predicted_mean\n",
        "actual = sales['Sum of Sales'][start_point:]\n",
        "error = predictions - actual\n",
        "bias = sum(error)/len(error)\n",
        "print(f'Bias: {bias}')"
      ],
      "execution_count": 37,
      "outputs": [
        {
          "output_type": "stream",
          "text": [
            "Bias: -2960.967225628667\n"
          ],
          "name": "stdout"
        }
      ]
    },
    {
      "cell_type": "markdown",
      "metadata": {
        "id": "nDrCWdbQFfAa"
      },
      "source": [
        "Here we have a negative bias, meaning we over forecast. Lets look into other metrics for model evaulation\n",
        "\n",
        "### MAE (Mean Absolute Error)\n",
        "The mean absolute error, or MAE, is calculated as the average of the forecast error values, where all of the forecast error values are forced to be positive."
      ]
    },
    {
      "cell_type": "code",
      "metadata": {
        "colab": {
          "base_uri": "https://localhost:8080/"
        },
        "id": "gVME82m-F-a0",
        "outputId": "1ff498e3-efd9-4a7a-ceaa-5f813611c726"
      },
      "source": [
        "from sklearn.metrics import mean_squared_error,mean_absolute_error\n",
        "MAE = mean_absolute_error(actual,predictions)\n",
        "print(f'Mean Absolute Error: {MAE}')"
      ],
      "execution_count": 38,
      "outputs": [
        {
          "output_type": "stream",
          "text": [
            "Mean Absolute Error: 85620.90607543601\n"
          ],
          "name": "stdout"
        }
      ]
    },
    {
      "cell_type": "markdown",
      "metadata": {
        "id": "fon19ZtoEhWQ"
      },
      "source": [
        "### MSE (Mean Squared Error)\n",
        "The mean squared error, or MSE, is calculated as the average of the squared forecast error values. Squaring the forecast error values forces them to be positive; it also has the effect of putting more weight on large errors."
      ]
    },
    {
      "cell_type": "code",
      "metadata": {
        "colab": {
          "base_uri": "https://localhost:8080/"
        },
        "id": "bLDuVPPu_Q9Y",
        "outputId": "0fff2d99-94f6-4715-ac73-eaf15fb0288f"
      },
      "source": [
        "MSE = mean_squared_error(predictions,actual)\n",
        "print(f'Mean Squared Error: {MSE}')"
      ],
      "execution_count": 39,
      "outputs": [
        {
          "output_type": "stream",
          "text": [
            "Mean Squared Error: 16296660827.592798\n"
          ],
          "name": "stdout"
        }
      ]
    },
    {
      "cell_type": "markdown",
      "metadata": {
        "id": "LoJceE63HMs4"
      },
      "source": [
        "### RMSE (Root Mean Squared Error)\n",
        "The mean squared error described above is in the squared units of the predictions.\n",
        "\n",
        "It can be transformed back into the original units of the predictions by taking the square root of the mean squared error score. This is called the root mean squared error, or RMSE."
      ]
    },
    {
      "cell_type": "code",
      "metadata": {
        "colab": {
          "base_uri": "https://localhost:8080/"
        },
        "id": "pDo2dsAw_ki7",
        "outputId": "9edd3fd6-cc26-4dc3-cb15-1cf533216ff9"
      },
      "source": [
        "from math import sqrt\n",
        "RMSE = sqrt(MSE)\n",
        "print(f'Root Mean Squared Error: {RMSE}')"
      ],
      "execution_count": 40,
      "outputs": [
        {
          "output_type": "stream",
          "text": [
            "Root Mean Squared Error: 127658.3754698171\n"
          ],
          "name": "stdout"
        }
      ]
    },
    {
      "cell_type": "code",
      "metadata": {
        "id": "VHXtx5RXDNZ9"
      },
      "source": [
        ""
      ],
      "execution_count": null,
      "outputs": []
    }
  ]
}