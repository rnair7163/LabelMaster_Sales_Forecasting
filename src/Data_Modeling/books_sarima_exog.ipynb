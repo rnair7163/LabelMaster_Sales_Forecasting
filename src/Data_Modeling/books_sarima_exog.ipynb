{
 "cells": [
  {
   "cell_type": "markdown",
   "metadata": {
    "colab_type": "text",
    "id": "view-in-github"
   },
   "source": [
    "<a href=\"https://colab.research.google.com/github/rahulmnair1997/LabelMaster_Sales_Forecasting/blob/main/books_sarima_exog.ipynb\" target=\"_parent\"><img src=\"https://colab.research.google.com/assets/colab-badge.svg\" alt=\"Open In Colab\"/></a>"
   ]
  },
  {
   "cell_type": "code",
   "execution_count": 1,
   "metadata": {
    "colab": {
     "base_uri": "https://localhost:8080/"
    },
    "id": "SlH1v48Lmz04",
    "outputId": "097d8082-16cf-4181-8721-44fb223e83a6"
   },
   "outputs": [
    {
     "name": "stdout",
     "output_type": "stream",
     "text": [
      "Mounted at /content/drive\n"
     ]
    }
   ],
   "source": [
    "from google.colab import drive\n",
    "drive.mount('/content/drive')"
   ]
  },
  {
   "cell_type": "code",
   "execution_count": 1,
   "metadata": {
    "id": "Wx5PgDOwnN1Q"
   },
   "outputs": [],
   "source": [
    "import warnings\n",
    "import itertools\n",
    "import numpy as np\n",
    "import matplotlib.pyplot as plt\n",
    "warnings.filterwarnings(\"ignore\")\n",
    "import pandas as pd\n",
    "import statsmodels.api as sm\n",
    "import matplotlib\n",
    "\n",
    "from statsmodels.tsa.arima_model import ARIMA\n",
    "from statsmodels.tsa.stattools import adfuller\n",
    "import statsmodels.api as sm\n",
    " \n",
    "from itertools import product\n",
    "from tqdm import tqdm_notebook\n",
    "\n",
    "from sklearn.metrics import mean_squared_error"
   ]
  },
  {
   "cell_type": "code",
   "execution_count": 2,
   "metadata": {
    "colab": {
     "base_uri": "https://localhost:8080/",
     "height": 419
    },
    "id": "AHzywCtwncXI",
    "outputId": "9353accc-0587-4fb5-b0b3-b536057e0bac"
   },
   "outputs": [
    {
     "data": {
      "text/html": [
       "<div>\n",
       "<style scoped>\n",
       "    .dataframe tbody tr th:only-of-type {\n",
       "        vertical-align: middle;\n",
       "    }\n",
       "\n",
       "    .dataframe tbody tr th {\n",
       "        vertical-align: top;\n",
       "    }\n",
       "\n",
       "    .dataframe thead th {\n",
       "        text-align: right;\n",
       "    }\n",
       "</style>\n",
       "<table border=\"1\" class=\"dataframe\">\n",
       "  <thead>\n",
       "    <tr style=\"text-align: right;\">\n",
       "      <th></th>\n",
       "      <th>Year_Month</th>\n",
       "      <th>Sum of Sales</th>\n",
       "    </tr>\n",
       "  </thead>\n",
       "  <tbody>\n",
       "    <tr>\n",
       "      <td>0</td>\n",
       "      <td>2008-01</td>\n",
       "      <td>282604.11</td>\n",
       "    </tr>\n",
       "    <tr>\n",
       "      <td>1</td>\n",
       "      <td>2008-02</td>\n",
       "      <td>262474.40</td>\n",
       "    </tr>\n",
       "    <tr>\n",
       "      <td>2</td>\n",
       "      <td>2008-03</td>\n",
       "      <td>326059.68</td>\n",
       "    </tr>\n",
       "    <tr>\n",
       "      <td>3</td>\n",
       "      <td>2008-04</td>\n",
       "      <td>215387.49</td>\n",
       "    </tr>\n",
       "    <tr>\n",
       "      <td>4</td>\n",
       "      <td>2008-05</td>\n",
       "      <td>499559.90</td>\n",
       "    </tr>\n",
       "    <tr>\n",
       "      <td>...</td>\n",
       "      <td>...</td>\n",
       "      <td>...</td>\n",
       "    </tr>\n",
       "    <tr>\n",
       "      <td>150</td>\n",
       "      <td>2020-07</td>\n",
       "      <td>150348.10</td>\n",
       "    </tr>\n",
       "    <tr>\n",
       "      <td>151</td>\n",
       "      <td>2020-08</td>\n",
       "      <td>156066.95</td>\n",
       "    </tr>\n",
       "    <tr>\n",
       "      <td>152</td>\n",
       "      <td>2020-09</td>\n",
       "      <td>468710.96</td>\n",
       "    </tr>\n",
       "    <tr>\n",
       "      <td>153</td>\n",
       "      <td>2020-10</td>\n",
       "      <td>1118446.80</td>\n",
       "    </tr>\n",
       "    <tr>\n",
       "      <td>154</td>\n",
       "      <td>2020-11</td>\n",
       "      <td>429166.77</td>\n",
       "    </tr>\n",
       "  </tbody>\n",
       "</table>\n",
       "<p>155 rows × 2 columns</p>\n",
       "</div>"
      ],
      "text/plain": [
       "    Year_Month  Sum of Sales\n",
       "0      2008-01     282604.11\n",
       "1      2008-02     262474.40\n",
       "2      2008-03     326059.68\n",
       "3      2008-04     215387.49\n",
       "4      2008-05     499559.90\n",
       "..         ...           ...\n",
       "150    2020-07     150348.10\n",
       "151    2020-08     156066.95\n",
       "152    2020-09     468710.96\n",
       "153    2020-10    1118446.80\n",
       "154    2020-11     429166.77\n",
       "\n",
       "[155 rows x 2 columns]"
      ]
     },
     "execution_count": 2,
     "metadata": {},
     "output_type": "execute_result"
    }
   ],
   "source": [
    "books = pd.read_csv('/Users/rahulnair/Desktop/Labelmaster_/Sales_Data/Books_ext_fs.csv')\n",
    "#books = pd.read_csv('/content/drive/MyDrive/Colab Notebooks/LabelMaster/LabelMaster Data/Books_ext.csv')\n",
    "sales = books[['Year_Month','Sum of Sales']]\n",
    "sales"
   ]
  },
  {
   "cell_type": "code",
   "execution_count": 3,
   "metadata": {
    "colab": {
     "base_uri": "https://localhost:8080/",
     "height": 524
    },
    "id": "N23dKSDjclVW",
    "outputId": "bd11609e-0670-4832-85d4-1ac576c4dc43"
   },
   "outputs": [
    {
     "data": {
      "text/html": [
       "<div>\n",
       "<style scoped>\n",
       "    .dataframe tbody tr th:only-of-type {\n",
       "        vertical-align: middle;\n",
       "    }\n",
       "\n",
       "    .dataframe tbody tr th {\n",
       "        vertical-align: top;\n",
       "    }\n",
       "\n",
       "    .dataframe thead th {\n",
       "        text-align: right;\n",
       "    }\n",
       "</style>\n",
       "<table border=\"1\" class=\"dataframe\">\n",
       "  <thead>\n",
       "    <tr style=\"text-align: right;\">\n",
       "      <th></th>\n",
       "      <th>FTR Truck Loadings (000s, SA)_freight_m_trucking</th>\n",
       "      <th>FTR Active Truck Utilization (%, SA)_freight_m_trucking</th>\n",
       "      <th>Reefer Trailer Loadings (000s, SA)_freight_m_trucking</th>\n",
       "      <th>Tank Trailer Loadings (000s, SA)_freight_m_trucking</th>\n",
       "      <th>Chemicals &amp; Allied Products (000s, SA)_freight_m_trucking</th>\n",
       "      <th>Spot TL Rates (w/o FSC)_rates_m_trucking</th>\n",
       "      <th>Total LTL (w/o FSC)_rates_m_trucking</th>\n",
       "      <th>Total LTL (w/ FSC)_rates_m_trucking</th>\n",
       "      <th>Contract TL Tank Rates (w/o FSC)_rates_m_trucking</th>\n",
       "      <th>OEM Net Orders (U.S. / CAN, units)_indicators_m_trucking</th>\n",
       "      <th>...</th>\n",
       "      <th>BUILD FOR_All_Other</th>\n",
       "      <th>Change in Distillate Fuel Inventories_x</th>\n",
       "      <th>Intermodal Revenue Movements (IANA-ETSO)_Total_x</th>\n",
       "      <th>FTR Intermodal Competitive Index_Intermodal Competitive Index (0=Neutral)_x</th>\n",
       "      <th>U.S. Origin Intermodal Volumes_International_x</th>\n",
       "      <th>Canada Origin Intermodal Volumes_Domestic_x</th>\n",
       "      <th>N.A. Port Activity, Total TEUs_Exports_x</th>\n",
       "      <th>West Coast Port Activity, Total TEUs_Exports_x</th>\n",
       "      <th>Gulf Coast Port Activity, Total TEUs_Exports_x</th>\n",
       "      <th>Western Canadian Port Activity, Total TEUs_Exports_x</th>\n",
       "    </tr>\n",
       "  </thead>\n",
       "  <tbody>\n",
       "    <tr>\n",
       "      <td>0</td>\n",
       "      <td>57633.608984</td>\n",
       "      <td>88.294650</td>\n",
       "      <td>3940.638792</td>\n",
       "      <td>6915.782704</td>\n",
       "      <td>3013.868684</td>\n",
       "      <td>96.932289</td>\n",
       "      <td>99.755501</td>\n",
       "      <td>114.408275</td>\n",
       "      <td>99.995901</td>\n",
       "      <td>16185.0</td>\n",
       "      <td>...</td>\n",
       "      <td>969.0</td>\n",
       "      <td>-2981.0</td>\n",
       "      <td>1156094.0</td>\n",
       "      <td>3.341993</td>\n",
       "      <td>557011.0</td>\n",
       "      <td>46969.0</td>\n",
       "      <td>1.035742e+06</td>\n",
       "      <td>428531.270000</td>\n",
       "      <td>90322.590000</td>\n",
       "      <td>70230.000000</td>\n",
       "    </tr>\n",
       "    <tr>\n",
       "      <td>1</td>\n",
       "      <td>57175.659828</td>\n",
       "      <td>87.998407</td>\n",
       "      <td>3927.115595</td>\n",
       "      <td>6836.939472</td>\n",
       "      <td>2975.285847</td>\n",
       "      <td>99.719858</td>\n",
       "      <td>99.755501</td>\n",
       "      <td>114.867841</td>\n",
       "      <td>100.276486</td>\n",
       "      <td>11091.0</td>\n",
       "      <td>...</td>\n",
       "      <td>1104.0</td>\n",
       "      <td>-13327.0</td>\n",
       "      <td>1088826.0</td>\n",
       "      <td>2.285576</td>\n",
       "      <td>501961.0</td>\n",
       "      <td>44924.0</td>\n",
       "      <td>1.138045e+06</td>\n",
       "      <td>478707.330000</td>\n",
       "      <td>100410.660000</td>\n",
       "      <td>86567.000000</td>\n",
       "    </tr>\n",
       "    <tr>\n",
       "      <td>2</td>\n",
       "      <td>56814.700553</td>\n",
       "      <td>87.790155</td>\n",
       "      <td>3922.853376</td>\n",
       "      <td>6758.129439</td>\n",
       "      <td>2941.079313</td>\n",
       "      <td>103.347853</td>\n",
       "      <td>100.488998</td>\n",
       "      <td>117.070858</td>\n",
       "      <td>99.727612</td>\n",
       "      <td>14647.0</td>\n",
       "      <td>...</td>\n",
       "      <td>1158.0</td>\n",
       "      <td>-9852.0</td>\n",
       "      <td>1082825.0</td>\n",
       "      <td>1.924076</td>\n",
       "      <td>481100.0</td>\n",
       "      <td>46727.0</td>\n",
       "      <td>1.167742e+06</td>\n",
       "      <td>500866.450000</td>\n",
       "      <td>93384.280000</td>\n",
       "      <td>80451.000000</td>\n",
       "    </tr>\n",
       "    <tr>\n",
       "      <td>3</td>\n",
       "      <td>56916.813852</td>\n",
       "      <td>89.639867</td>\n",
       "      <td>3978.633479</td>\n",
       "      <td>6858.428982</td>\n",
       "      <td>2906.591249</td>\n",
       "      <td>111.718085</td>\n",
       "      <td>101.589242</td>\n",
       "      <td>122.811123</td>\n",
       "      <td>99.057287</td>\n",
       "      <td>14264.0</td>\n",
       "      <td>...</td>\n",
       "      <td>931.0</td>\n",
       "      <td>-733.0</td>\n",
       "      <td>1158286.0</td>\n",
       "      <td>5.986521</td>\n",
       "      <td>528843.0</td>\n",
       "      <td>53497.0</td>\n",
       "      <td>1.156788e+06</td>\n",
       "      <td>486063.840000</td>\n",
       "      <td>101642.940000</td>\n",
       "      <td>84739.000000</td>\n",
       "    </tr>\n",
       "    <tr>\n",
       "      <td>4</td>\n",
       "      <td>56194.246889</td>\n",
       "      <td>89.134818</td>\n",
       "      <td>3990.692209</td>\n",
       "      <td>6804.610846</td>\n",
       "      <td>2872.185063</td>\n",
       "      <td>117.525703</td>\n",
       "      <td>101.314181</td>\n",
       "      <td>123.968232</td>\n",
       "      <td>97.828232</td>\n",
       "      <td>12060.0</td>\n",
       "      <td>...</td>\n",
       "      <td>991.0</td>\n",
       "      <td>6890.0</td>\n",
       "      <td>1184144.0</td>\n",
       "      <td>7.940801</td>\n",
       "      <td>541259.0</td>\n",
       "      <td>53653.0</td>\n",
       "      <td>1.185090e+06</td>\n",
       "      <td>490618.980000</td>\n",
       "      <td>105424.640000</td>\n",
       "      <td>89548.000000</td>\n",
       "    </tr>\n",
       "    <tr>\n",
       "      <td>...</td>\n",
       "      <td>...</td>\n",
       "      <td>...</td>\n",
       "      <td>...</td>\n",
       "      <td>...</td>\n",
       "      <td>...</td>\n",
       "      <td>...</td>\n",
       "      <td>...</td>\n",
       "      <td>...</td>\n",
       "      <td>...</td>\n",
       "      <td>...</td>\n",
       "      <td>...</td>\n",
       "      <td>...</td>\n",
       "      <td>...</td>\n",
       "      <td>...</td>\n",
       "      <td>...</td>\n",
       "      <td>...</td>\n",
       "      <td>...</td>\n",
       "      <td>...</td>\n",
       "      <td>...</td>\n",
       "      <td>...</td>\n",
       "      <td>...</td>\n",
       "    </tr>\n",
       "    <tr>\n",
       "      <td>150</td>\n",
       "      <td>61469.059874</td>\n",
       "      <td>89.962431</td>\n",
       "      <td>4379.187334</td>\n",
       "      <td>6571.127779</td>\n",
       "      <td>2639.040651</td>\n",
       "      <td>115.128696</td>\n",
       "      <td>102.231051</td>\n",
       "      <td>113.578198</td>\n",
       "      <td>115.191063</td>\n",
       "      <td>19213.0</td>\n",
       "      <td>...</td>\n",
       "      <td>1359.0</td>\n",
       "      <td>2134.0</td>\n",
       "      <td>1526490.0</td>\n",
       "      <td>-0.192121</td>\n",
       "      <td>513074.0</td>\n",
       "      <td>57503.0</td>\n",
       "      <td>1.095134e+06</td>\n",
       "      <td>393775.832112</td>\n",
       "      <td>125276.157772</td>\n",
       "      <td>103172.000000</td>\n",
       "    </tr>\n",
       "    <tr>\n",
       "      <td>151</td>\n",
       "      <td>62140.797176</td>\n",
       "      <td>90.641835</td>\n",
       "      <td>4404.415547</td>\n",
       "      <td>6601.260917</td>\n",
       "      <td>2676.666422</td>\n",
       "      <td>129.107598</td>\n",
       "      <td>104.339853</td>\n",
       "      <td>115.812566</td>\n",
       "      <td>114.911925</td>\n",
       "      <td>18302.0</td>\n",
       "      <td>...</td>\n",
       "      <td>1671.0</td>\n",
       "      <td>1353.0</td>\n",
       "      <td>1575928.0</td>\n",
       "      <td>0.625716</td>\n",
       "      <td>546740.0</td>\n",
       "      <td>56478.0</td>\n",
       "      <td>1.108304e+06</td>\n",
       "      <td>389408.103791</td>\n",
       "      <td>125319.157772</td>\n",
       "      <td>93979.000000</td>\n",
       "    </tr>\n",
       "    <tr>\n",
       "      <td>152</td>\n",
       "      <td>62170.174317</td>\n",
       "      <td>90.587889</td>\n",
       "      <td>4381.188114</td>\n",
       "      <td>6556.745680</td>\n",
       "      <td>2600.808117</td>\n",
       "      <td>136.100117</td>\n",
       "      <td>105.898533</td>\n",
       "      <td>117.464895</td>\n",
       "      <td>115.470202</td>\n",
       "      <td>28766.0</td>\n",
       "      <td>...</td>\n",
       "      <td>1711.0</td>\n",
       "      <td>-7196.0</td>\n",
       "      <td>1617044.0</td>\n",
       "      <td>5.475578</td>\n",
       "      <td>557748.0</td>\n",
       "      <td>59269.0</td>\n",
       "      <td>1.099329e+06</td>\n",
       "      <td>386298.700253</td>\n",
       "      <td>117576.128306</td>\n",
       "      <td>103129.000000</td>\n",
       "    </tr>\n",
       "    <tr>\n",
       "      <td>153</td>\n",
       "      <td>62870.759335</td>\n",
       "      <td>94.367218</td>\n",
       "      <td>4436.920215</td>\n",
       "      <td>6523.796564</td>\n",
       "      <td>2593.200335</td>\n",
       "      <td>140.122763</td>\n",
       "      <td>106.265281</td>\n",
       "      <td>117.793788</td>\n",
       "      <td>115.098017</td>\n",
       "      <td>36912.0</td>\n",
       "      <td>...</td>\n",
       "      <td>2018.0</td>\n",
       "      <td>-10130.4</td>\n",
       "      <td>1705714.0</td>\n",
       "      <td>9.817290</td>\n",
       "      <td>591616.0</td>\n",
       "      <td>60708.0</td>\n",
       "      <td>1.186353e+06</td>\n",
       "      <td>410614.677268</td>\n",
       "      <td>123604.184721</td>\n",
       "      <td>105255.000000</td>\n",
       "    </tr>\n",
       "    <tr>\n",
       "      <td>154</td>\n",
       "      <td>63237.027387</td>\n",
       "      <td>95.404858</td>\n",
       "      <td>4457.161049</td>\n",
       "      <td>6528.943165</td>\n",
       "      <td>2589.965347</td>\n",
       "      <td>138.706256</td>\n",
       "      <td>107.591849</td>\n",
       "      <td>119.272026</td>\n",
       "      <td>116.095115</td>\n",
       "      <td>49818.0</td>\n",
       "      <td>...</td>\n",
       "      <td>1601.0</td>\n",
       "      <td>-16121.6</td>\n",
       "      <td>1565892.0</td>\n",
       "      <td>8.110988</td>\n",
       "      <td>554324.0</td>\n",
       "      <td>57649.0</td>\n",
       "      <td>1.135686e+06</td>\n",
       "      <td>365926.096985</td>\n",
       "      <td>130627.239881</td>\n",
       "      <td>102805.965936</td>\n",
       "    </tr>\n",
       "  </tbody>\n",
       "</table>\n",
       "<p>155 rows × 70 columns</p>\n",
       "</div>"
      ],
      "text/plain": [
       "     FTR Truck Loadings (000s, SA)_freight_m_trucking  \\\n",
       "0                                        57633.608984   \n",
       "1                                        57175.659828   \n",
       "2                                        56814.700553   \n",
       "3                                        56916.813852   \n",
       "4                                        56194.246889   \n",
       "..                                                ...   \n",
       "150                                      61469.059874   \n",
       "151                                      62140.797176   \n",
       "152                                      62170.174317   \n",
       "153                                      62870.759335   \n",
       "154                                      63237.027387   \n",
       "\n",
       "     FTR Active Truck Utilization (%, SA)_freight_m_trucking  \\\n",
       "0                                            88.294650         \n",
       "1                                            87.998407         \n",
       "2                                            87.790155         \n",
       "3                                            89.639867         \n",
       "4                                            89.134818         \n",
       "..                                                 ...         \n",
       "150                                          89.962431         \n",
       "151                                          90.641835         \n",
       "152                                          90.587889         \n",
       "153                                          94.367218         \n",
       "154                                          95.404858         \n",
       "\n",
       "     Reefer Trailer Loadings (000s, SA)_freight_m_trucking  \\\n",
       "0                                          3940.638792       \n",
       "1                                          3927.115595       \n",
       "2                                          3922.853376       \n",
       "3                                          3978.633479       \n",
       "4                                          3990.692209       \n",
       "..                                                 ...       \n",
       "150                                        4379.187334       \n",
       "151                                        4404.415547       \n",
       "152                                        4381.188114       \n",
       "153                                        4436.920215       \n",
       "154                                        4457.161049       \n",
       "\n",
       "     Tank Trailer Loadings (000s, SA)_freight_m_trucking  \\\n",
       "0                                          6915.782704     \n",
       "1                                          6836.939472     \n",
       "2                                          6758.129439     \n",
       "3                                          6858.428982     \n",
       "4                                          6804.610846     \n",
       "..                                                 ...     \n",
       "150                                        6571.127779     \n",
       "151                                        6601.260917     \n",
       "152                                        6556.745680     \n",
       "153                                        6523.796564     \n",
       "154                                        6528.943165     \n",
       "\n",
       "     Chemicals & Allied Products (000s, SA)_freight_m_trucking  \\\n",
       "0                                          3013.868684           \n",
       "1                                          2975.285847           \n",
       "2                                          2941.079313           \n",
       "3                                          2906.591249           \n",
       "4                                          2872.185063           \n",
       "..                                                 ...           \n",
       "150                                        2639.040651           \n",
       "151                                        2676.666422           \n",
       "152                                        2600.808117           \n",
       "153                                        2593.200335           \n",
       "154                                        2589.965347           \n",
       "\n",
       "     Spot TL Rates (w/o FSC)_rates_m_trucking  \\\n",
       "0                                   96.932289   \n",
       "1                                   99.719858   \n",
       "2                                  103.347853   \n",
       "3                                  111.718085   \n",
       "4                                  117.525703   \n",
       "..                                        ...   \n",
       "150                                115.128696   \n",
       "151                                129.107598   \n",
       "152                                136.100117   \n",
       "153                                140.122763   \n",
       "154                                138.706256   \n",
       "\n",
       "     Total LTL (w/o FSC)_rates_m_trucking  \\\n",
       "0                               99.755501   \n",
       "1                               99.755501   \n",
       "2                              100.488998   \n",
       "3                              101.589242   \n",
       "4                              101.314181   \n",
       "..                                    ...   \n",
       "150                            102.231051   \n",
       "151                            104.339853   \n",
       "152                            105.898533   \n",
       "153                            106.265281   \n",
       "154                            107.591849   \n",
       "\n",
       "     Total LTL (w/ FSC)_rates_m_trucking  \\\n",
       "0                             114.408275   \n",
       "1                             114.867841   \n",
       "2                             117.070858   \n",
       "3                             122.811123   \n",
       "4                             123.968232   \n",
       "..                                   ...   \n",
       "150                           113.578198   \n",
       "151                           115.812566   \n",
       "152                           117.464895   \n",
       "153                           117.793788   \n",
       "154                           119.272026   \n",
       "\n",
       "     Contract TL Tank Rates (w/o FSC)_rates_m_trucking  \\\n",
       "0                                            99.995901   \n",
       "1                                           100.276486   \n",
       "2                                            99.727612   \n",
       "3                                            99.057287   \n",
       "4                                            97.828232   \n",
       "..                                                 ...   \n",
       "150                                         115.191063   \n",
       "151                                         114.911925   \n",
       "152                                         115.470202   \n",
       "153                                         115.098017   \n",
       "154                                         116.095115   \n",
       "\n",
       "     OEM Net Orders (U.S. / CAN, units)_indicators_m_trucking  ...  \\\n",
       "0                                              16185.0         ...   \n",
       "1                                              11091.0         ...   \n",
       "2                                              14647.0         ...   \n",
       "3                                              14264.0         ...   \n",
       "4                                              12060.0         ...   \n",
       "..                                                 ...         ...   \n",
       "150                                            19213.0         ...   \n",
       "151                                            18302.0         ...   \n",
       "152                                            28766.0         ...   \n",
       "153                                            36912.0         ...   \n",
       "154                                            49818.0         ...   \n",
       "\n",
       "     BUILD FOR_All_Other  Change in Distillate Fuel Inventories_x  \\\n",
       "0                  969.0                                  -2981.0   \n",
       "1                 1104.0                                 -13327.0   \n",
       "2                 1158.0                                  -9852.0   \n",
       "3                  931.0                                   -733.0   \n",
       "4                  991.0                                   6890.0   \n",
       "..                   ...                                      ...   \n",
       "150               1359.0                                   2134.0   \n",
       "151               1671.0                                   1353.0   \n",
       "152               1711.0                                  -7196.0   \n",
       "153               2018.0                                 -10130.4   \n",
       "154               1601.0                                 -16121.6   \n",
       "\n",
       "     Intermodal Revenue Movements (IANA-ETSO)_Total_x  \\\n",
       "0                                           1156094.0   \n",
       "1                                           1088826.0   \n",
       "2                                           1082825.0   \n",
       "3                                           1158286.0   \n",
       "4                                           1184144.0   \n",
       "..                                                ...   \n",
       "150                                         1526490.0   \n",
       "151                                         1575928.0   \n",
       "152                                         1617044.0   \n",
       "153                                         1705714.0   \n",
       "154                                         1565892.0   \n",
       "\n",
       "     FTR Intermodal Competitive Index_Intermodal Competitive Index (0=Neutral)_x  \\\n",
       "0                                             3.341993                             \n",
       "1                                             2.285576                             \n",
       "2                                             1.924076                             \n",
       "3                                             5.986521                             \n",
       "4                                             7.940801                             \n",
       "..                                                 ...                             \n",
       "150                                          -0.192121                             \n",
       "151                                           0.625716                             \n",
       "152                                           5.475578                             \n",
       "153                                           9.817290                             \n",
       "154                                           8.110988                             \n",
       "\n",
       "     U.S. Origin Intermodal Volumes_International_x  \\\n",
       "0                                          557011.0   \n",
       "1                                          501961.0   \n",
       "2                                          481100.0   \n",
       "3                                          528843.0   \n",
       "4                                          541259.0   \n",
       "..                                              ...   \n",
       "150                                        513074.0   \n",
       "151                                        546740.0   \n",
       "152                                        557748.0   \n",
       "153                                        591616.0   \n",
       "154                                        554324.0   \n",
       "\n",
       "     Canada Origin Intermodal Volumes_Domestic_x  \\\n",
       "0                                        46969.0   \n",
       "1                                        44924.0   \n",
       "2                                        46727.0   \n",
       "3                                        53497.0   \n",
       "4                                        53653.0   \n",
       "..                                           ...   \n",
       "150                                      57503.0   \n",
       "151                                      56478.0   \n",
       "152                                      59269.0   \n",
       "153                                      60708.0   \n",
       "154                                      57649.0   \n",
       "\n",
       "     N.A. Port Activity, Total TEUs_Exports_x  \\\n",
       "0                                1.035742e+06   \n",
       "1                                1.138045e+06   \n",
       "2                                1.167742e+06   \n",
       "3                                1.156788e+06   \n",
       "4                                1.185090e+06   \n",
       "..                                        ...   \n",
       "150                              1.095134e+06   \n",
       "151                              1.108304e+06   \n",
       "152                              1.099329e+06   \n",
       "153                              1.186353e+06   \n",
       "154                              1.135686e+06   \n",
       "\n",
       "     West Coast Port Activity, Total TEUs_Exports_x  \\\n",
       "0                                     428531.270000   \n",
       "1                                     478707.330000   \n",
       "2                                     500866.450000   \n",
       "3                                     486063.840000   \n",
       "4                                     490618.980000   \n",
       "..                                              ...   \n",
       "150                                   393775.832112   \n",
       "151                                   389408.103791   \n",
       "152                                   386298.700253   \n",
       "153                                   410614.677268   \n",
       "154                                   365926.096985   \n",
       "\n",
       "     Gulf Coast Port Activity, Total TEUs_Exports_x  \\\n",
       "0                                      90322.590000   \n",
       "1                                     100410.660000   \n",
       "2                                      93384.280000   \n",
       "3                                     101642.940000   \n",
       "4                                     105424.640000   \n",
       "..                                              ...   \n",
       "150                                   125276.157772   \n",
       "151                                   125319.157772   \n",
       "152                                   117576.128306   \n",
       "153                                   123604.184721   \n",
       "154                                   130627.239881   \n",
       "\n",
       "     Western Canadian Port Activity, Total TEUs_Exports_x  \n",
       "0                                         70230.000000     \n",
       "1                                         86567.000000     \n",
       "2                                         80451.000000     \n",
       "3                                         84739.000000     \n",
       "4                                         89548.000000     \n",
       "..                                                 ...     \n",
       "150                                      103172.000000     \n",
       "151                                       93979.000000     \n",
       "152                                      103129.000000     \n",
       "153                                      105255.000000     \n",
       "154                                      102805.965936     \n",
       "\n",
       "[155 rows x 70 columns]"
      ]
     },
     "execution_count": 3,
     "metadata": {},
     "output_type": "execute_result"
    }
   ],
   "source": [
    "books = books.dropna(axis = 1)\n",
    "exog = books.iloc[:,2:]\n",
    "exog"
   ]
  },
  {
   "cell_type": "code",
   "execution_count": 4,
   "metadata": {
    "colab": {
     "base_uri": "https://localhost:8080/",
     "height": 513
    },
    "id": "K3n4p-tr6Qn1",
    "outputId": "27c3fc7e-c768-4f1c-bca3-61824aa5ef6a"
   },
   "outputs": [
    {
     "data": {
      "image/png": "[encoded data removed]",
      "text/plain": [
       "<Figure size 1080x576 with 1 Axes>"
      ]
     },
     "metadata": {
      "needs_background": "light"
     },
     "output_type": "display_data"
    }
   ],
   "source": [
    "plt.figure(figsize=[15,8])\n",
    "plt.plot(sales['Year_Month'],sales['Sum of Sales'])\n",
    "plt.title('Monthly Sum of Sales of Books Department')\n",
    "plt.xlabel('Date')\n",
    "plt.ylabel('Sales')\n",
    "plt.show()"
   ]
  },
  {
   "cell_type": "code",
   "execution_count": 5,
   "metadata": {
    "colab": {
     "base_uri": "https://localhost:8080/"
    },
    "id": "L684FxgN4tCE",
    "outputId": "107cd254-9d40-4d8d-bb2b-5514976fc0c0"
   },
   "outputs": [
    {
     "name": "stdout",
     "output_type": "stream",
     "text": [
      "ADF Statistic: -2.5489088668534055\n",
      "p-value: 0.10402307648031173\n"
     ]
    }
   ],
   "source": [
    "ad_fuller_result = adfuller(sales['Sum of Sales'])\n",
    "print(f'ADF Statistic: {ad_fuller_result[0]}')\n",
    "print(f'p-value: {ad_fuller_result[1]}')"
   ]
  },
  {
   "cell_type": "markdown",
   "metadata": {
    "id": "W2QG1lx85L4p"
   },
   "source": [
    "Since the p-value is greater than 0.5, we cannot reject null hypothesis and must assume that the series is not stationary."
   ]
  },
  {
   "cell_type": "code",
   "execution_count": 6,
   "metadata": {
    "colab": {
     "base_uri": "https://localhost:8080/",
     "height": 419
    },
    "id": "sxdSNYZh5Y83",
    "outputId": "40cdcc05-f0b4-46a9-af23-f4658576a288"
   },
   "outputs": [
    {
     "data": {
      "text/html": [
       "<div>\n",
       "<style scoped>\n",
       "    .dataframe tbody tr th:only-of-type {\n",
       "        vertical-align: middle;\n",
       "    }\n",
       "\n",
       "    .dataframe tbody tr th {\n",
       "        vertical-align: top;\n",
       "    }\n",
       "\n",
       "    .dataframe thead th {\n",
       "        text-align: right;\n",
       "    }\n",
       "</style>\n",
       "<table border=\"1\" class=\"dataframe\">\n",
       "  <thead>\n",
       "    <tr style=\"text-align: right;\">\n",
       "      <th></th>\n",
       "      <th>Year_Month</th>\n",
       "      <th>Sum of Sales</th>\n",
       "      <th>sales_diffed</th>\n",
       "    </tr>\n",
       "  </thead>\n",
       "  <tbody>\n",
       "    <tr>\n",
       "      <td>0</td>\n",
       "      <td>2008-01</td>\n",
       "      <td>282604.11</td>\n",
       "      <td>NaN</td>\n",
       "    </tr>\n",
       "    <tr>\n",
       "      <td>1</td>\n",
       "      <td>2008-02</td>\n",
       "      <td>262474.40</td>\n",
       "      <td>-20129.71</td>\n",
       "    </tr>\n",
       "    <tr>\n",
       "      <td>2</td>\n",
       "      <td>2008-03</td>\n",
       "      <td>326059.68</td>\n",
       "      <td>63585.28</td>\n",
       "    </tr>\n",
       "    <tr>\n",
       "      <td>3</td>\n",
       "      <td>2008-04</td>\n",
       "      <td>215387.49</td>\n",
       "      <td>-110672.19</td>\n",
       "    </tr>\n",
       "    <tr>\n",
       "      <td>4</td>\n",
       "      <td>2008-05</td>\n",
       "      <td>499559.90</td>\n",
       "      <td>284172.41</td>\n",
       "    </tr>\n",
       "    <tr>\n",
       "      <td>...</td>\n",
       "      <td>...</td>\n",
       "      <td>...</td>\n",
       "      <td>...</td>\n",
       "    </tr>\n",
       "    <tr>\n",
       "      <td>150</td>\n",
       "      <td>2020-07</td>\n",
       "      <td>150348.10</td>\n",
       "      <td>13635.82</td>\n",
       "    </tr>\n",
       "    <tr>\n",
       "      <td>151</td>\n",
       "      <td>2020-08</td>\n",
       "      <td>156066.95</td>\n",
       "      <td>5718.85</td>\n",
       "    </tr>\n",
       "    <tr>\n",
       "      <td>152</td>\n",
       "      <td>2020-09</td>\n",
       "      <td>468710.96</td>\n",
       "      <td>312644.01</td>\n",
       "    </tr>\n",
       "    <tr>\n",
       "      <td>153</td>\n",
       "      <td>2020-10</td>\n",
       "      <td>1118446.80</td>\n",
       "      <td>649735.84</td>\n",
       "    </tr>\n",
       "    <tr>\n",
       "      <td>154</td>\n",
       "      <td>2020-11</td>\n",
       "      <td>429166.77</td>\n",
       "      <td>-689280.03</td>\n",
       "    </tr>\n",
       "  </tbody>\n",
       "</table>\n",
       "<p>155 rows × 3 columns</p>\n",
       "</div>"
      ],
      "text/plain": [
       "    Year_Month  Sum of Sales  sales_diffed\n",
       "0      2008-01     282604.11           NaN\n",
       "1      2008-02     262474.40     -20129.71\n",
       "2      2008-03     326059.68      63585.28\n",
       "3      2008-04     215387.49    -110672.19\n",
       "4      2008-05     499559.90     284172.41\n",
       "..         ...           ...           ...\n",
       "150    2020-07     150348.10      13635.82\n",
       "151    2020-08     156066.95       5718.85\n",
       "152    2020-09     468710.96     312644.01\n",
       "153    2020-10    1118446.80     649735.84\n",
       "154    2020-11     429166.77    -689280.03\n",
       "\n",
       "[155 rows x 3 columns]"
      ]
     },
     "execution_count": 6,
     "metadata": {},
     "output_type": "execute_result"
    }
   ],
   "source": [
    "sales['sales_diffed'] = sales['Sum of Sales'].diff(1)\n",
    "sales"
   ]
  },
  {
   "cell_type": "code",
   "execution_count": 7,
   "metadata": {
    "colab": {
     "base_uri": "https://localhost:8080/"
    },
    "id": "rnc8yTOv7nYt",
    "outputId": "317449b2-7442-4c54-ec80-ba5c42ccfdca"
   },
   "outputs": [
    {
     "name": "stdout",
     "output_type": "stream",
     "text": [
      "ADF Statistic: -5.7998057140649335\n",
      "p-value: 4.659551329185685e-07\n"
     ]
    }
   ],
   "source": [
    "ad_fuller_result = adfuller(sales['sales_diffed'][1:])\n",
    "print(f'ADF Statistic: {ad_fuller_result[0]}')\n",
    "print(f'p-value: {ad_fuller_result[1]}')"
   ]
  },
  {
   "cell_type": "code",
   "execution_count": 8,
   "metadata": {
    "colab": {
     "base_uri": "https://localhost:8080/",
     "height": 499
    },
    "id": "TKOFWQA86s9-",
    "outputId": "f40aacd7-caed-4f17-bfa9-d68c90a3b704"
   },
   "outputs": [
    {
     "data": {
      "image/png": "[encoded data removed]",
      "text/plain": [
       "<Figure size 864x576 with 2 Axes>"
      ]
     },
     "metadata": {
      "needs_background": "light"
     },
     "output_type": "display_data"
    }
   ],
   "source": [
    "fig, ax = plt.subplots(2,1, figsize= (12,8))\n",
    "fig = sm.graphics.tsa.plot_acf(sales['sales_diffed'][1:], lags=50, ax=ax[0])\n",
    "fig = sm.graphics.tsa.plot_pacf(sales['sales_diffed'][1:], lags=50, ax=ax[1])\n",
    "plt.show()"
   ]
  },
  {
   "cell_type": "code",
   "execution_count": null,
   "metadata": {
    "id": "lpKOX1yF4sVo"
   },
   "outputs": [],
   "source": []
  },
  {
   "cell_type": "markdown",
   "metadata": {
    "id": "bLGEh8Ad3Pog"
   },
   "source": [
    "# New Section"
   ]
  },
  {
   "cell_type": "code",
   "execution_count": 9,
   "metadata": {
    "colab": {
     "base_uri": "https://localhost:8080/"
    },
    "id": "6TyDuvVkEkRQ",
    "outputId": "67384564-1d6c-4643-9aeb-5c7832bbcbf7"
   },
   "outputs": [
    {
     "name": "stdout",
     "output_type": "stream",
     "text": [
      "ARIMA(0, 1, 0)x(0, 1, 0, 12)- AIC:4373.94937859835\n",
      " \n"
     ]
    },
    {
     "name": "stderr",
     "output_type": "stream",
     "text": [
      "/Library/Frameworks/Python.framework/Versions/3.7/lib/python3.7/site-packages/statsmodels/base/model.py:512: ConvergenceWarning: Maximum Likelihood optimization failed to converge. Check mle_retvals\n",
      "  \"Check mle_retvals\", ConvergenceWarning)\n"
     ]
    },
    {
     "name": "stdout",
     "output_type": "stream",
     "text": [
      "ARIMA(0, 1, 0)x(0, 1, 1, 12)- AIC:3508.395299179378\n",
      " \n"
     ]
    },
    {
     "name": "stderr",
     "output_type": "stream",
     "text": [
      "/Library/Frameworks/Python.framework/Versions/3.7/lib/python3.7/site-packages/statsmodels/base/model.py:512: ConvergenceWarning: Maximum Likelihood optimization failed to converge. Check mle_retvals\n",
      "  \"Check mle_retvals\", ConvergenceWarning)\n"
     ]
    },
    {
     "name": "stdout",
     "output_type": "stream",
     "text": [
      "ARIMA(0, 1, 0)x(0, 1, 2, 12)- AIC:3193.2451986861506\n",
      " \n",
      "ARIMA(0, 1, 0)x(0, 1, 3, 12)- AIC:9472.093002961381\n",
      " \n"
     ]
    },
    {
     "name": "stderr",
     "output_type": "stream",
     "text": [
      "/Library/Frameworks/Python.framework/Versions/3.7/lib/python3.7/site-packages/statsmodels/base/model.py:512: ConvergenceWarning: Maximum Likelihood optimization failed to converge. Check mle_retvals\n",
      "  \"Check mle_retvals\", ConvergenceWarning)\n"
     ]
    },
    {
     "name": "stdout",
     "output_type": "stream",
     "text": [
      "ARIMA(0, 1, 0)x(1, 1, 0, 12)- AIC:3533.43778027099\n",
      " \n"
     ]
    },
    {
     "name": "stderr",
     "output_type": "stream",
     "text": [
      "/Library/Frameworks/Python.framework/Versions/3.7/lib/python3.7/site-packages/statsmodels/base/model.py:512: ConvergenceWarning: Maximum Likelihood optimization failed to converge. Check mle_retvals\n",
      "  \"Check mle_retvals\", ConvergenceWarning)\n"
     ]
    },
    {
     "name": "stdout",
     "output_type": "stream",
     "text": [
      "ARIMA(0, 1, 0)x(1, 1, 1, 12)- AIC:3509.8063005811964\n",
      " \n"
     ]
    },
    {
     "name": "stderr",
     "output_type": "stream",
     "text": [
      "/Library/Frameworks/Python.framework/Versions/3.7/lib/python3.7/site-packages/statsmodels/base/model.py:512: ConvergenceWarning: Maximum Likelihood optimization failed to converge. Check mle_retvals\n",
      "  \"Check mle_retvals\", ConvergenceWarning)\n"
     ]
    },
    {
     "name": "stdout",
     "output_type": "stream",
     "text": [
      "ARIMA(0, 1, 0)x(1, 1, 2, 12)- AIC:3195.335726386519\n",
      " \n",
      "ARIMA(0, 1, 0)x(1, 1, 3, 12)- AIC:9468.39570279219\n",
      " \n"
     ]
    },
    {
     "name": "stderr",
     "output_type": "stream",
     "text": [
      "/Library/Frameworks/Python.framework/Versions/3.7/lib/python3.7/site-packages/statsmodels/base/model.py:512: ConvergenceWarning: Maximum Likelihood optimization failed to converge. Check mle_retvals\n",
      "  \"Check mle_retvals\", ConvergenceWarning)\n"
     ]
    },
    {
     "name": "stdout",
     "output_type": "stream",
     "text": [
      "ARIMA(0, 1, 0)x(2, 1, 0, 12)- AIC:3216.5868874224343\n",
      " \n"
     ]
    },
    {
     "name": "stderr",
     "output_type": "stream",
     "text": [
      "/Library/Frameworks/Python.framework/Versions/3.7/lib/python3.7/site-packages/statsmodels/base/model.py:512: ConvergenceWarning: Maximum Likelihood optimization failed to converge. Check mle_retvals\n",
      "  \"Check mle_retvals\", ConvergenceWarning)\n"
     ]
    },
    {
     "name": "stdout",
     "output_type": "stream",
     "text": [
      "ARIMA(0, 1, 0)x(2, 1, 1, 12)- AIC:3217.7745460519136\n",
      " \n"
     ]
    },
    {
     "name": "stderr",
     "output_type": "stream",
     "text": [
      "/Library/Frameworks/Python.framework/Versions/3.7/lib/python3.7/site-packages/statsmodels/base/model.py:512: ConvergenceWarning: Maximum Likelihood optimization failed to converge. Check mle_retvals\n",
      "  \"Check mle_retvals\", ConvergenceWarning)\n"
     ]
    },
    {
     "name": "stdout",
     "output_type": "stream",
     "text": [
      "ARIMA(0, 1, 0)x(2, 1, 2, 12)- AIC:3195.198708601409\n",
      " \n",
      "ARIMA(0, 1, 0)x(2, 1, 3, 12)- AIC:9446.970338976069\n",
      " \n"
     ]
    },
    {
     "name": "stderr",
     "output_type": "stream",
     "text": [
      "/Library/Frameworks/Python.framework/Versions/3.7/lib/python3.7/site-packages/statsmodels/base/model.py:512: ConvergenceWarning: Maximum Likelihood optimization failed to converge. Check mle_retvals\n",
      "  \"Check mle_retvals\", ConvergenceWarning)\n"
     ]
    },
    {
     "name": "stdout",
     "output_type": "stream",
     "text": [
      "ARIMA(0, 1, 0)x(3, 1, 0, 12)- AIC:2904.1514932273244\n",
      " \n"
     ]
    },
    {
     "name": "stderr",
     "output_type": "stream",
     "text": [
      "/Library/Frameworks/Python.framework/Versions/3.7/lib/python3.7/site-packages/statsmodels/base/model.py:512: ConvergenceWarning: Maximum Likelihood optimization failed to converge. Check mle_retvals\n",
      "  \"Check mle_retvals\", ConvergenceWarning)\n"
     ]
    },
    {
     "name": "stdout",
     "output_type": "stream",
     "text": [
      "ARIMA(0, 1, 0)x(3, 1, 1, 12)- AIC:2906.4109624230023\n",
      " \n"
     ]
    },
    {
     "name": "stderr",
     "output_type": "stream",
     "text": [
      "/Library/Frameworks/Python.framework/Versions/3.7/lib/python3.7/site-packages/statsmodels/base/model.py:512: ConvergenceWarning: Maximum Likelihood optimization failed to converge. Check mle_retvals\n",
      "  \"Check mle_retvals\", ConvergenceWarning)\n"
     ]
    },
    {
     "name": "stdout",
     "output_type": "stream",
     "text": [
      "ARIMA(0, 1, 0)x(3, 1, 2, 12)- AIC:2904.0709295714337\n",
      " \n",
      "ARIMA(0, 1, 0)x(3, 1, 3, 12)- AIC:9444.746765896494\n",
      " \n"
     ]
    },
    {
     "name": "stderr",
     "output_type": "stream",
     "text": [
      "/Library/Frameworks/Python.framework/Versions/3.7/lib/python3.7/site-packages/statsmodels/base/model.py:512: ConvergenceWarning: Maximum Likelihood optimization failed to converge. Check mle_retvals\n",
      "  \"Check mle_retvals\", ConvergenceWarning)\n"
     ]
    },
    {
     "name": "stdout",
     "output_type": "stream",
     "text": [
      "ARIMA(0, 1, 1)x(0, 1, 0, 12)- AIC:3789.202442384937\n",
      " \n"
     ]
    },
    {
     "name": "stderr",
     "output_type": "stream",
     "text": [
      "/Library/Frameworks/Python.framework/Versions/3.7/lib/python3.7/site-packages/statsmodels/base/model.py:512: ConvergenceWarning: Maximum Likelihood optimization failed to converge. Check mle_retvals\n",
      "  \"Check mle_retvals\", ConvergenceWarning)\n"
     ]
    },
    {
     "name": "stdout",
     "output_type": "stream",
     "text": [
      "ARIMA(0, 1, 1)x(0, 1, 1, 12)- AIC:3482.2829108789606\n",
      " \n"
     ]
    },
    {
     "name": "stderr",
     "output_type": "stream",
     "text": [
      "/Library/Frameworks/Python.framework/Versions/3.7/lib/python3.7/site-packages/statsmodels/base/model.py:512: ConvergenceWarning: Maximum Likelihood optimization failed to converge. Check mle_retvals\n",
      "  \"Check mle_retvals\", ConvergenceWarning)\n"
     ]
    },
    {
     "name": "stdout",
     "output_type": "stream",
     "text": [
      "ARIMA(0, 1, 1)x(0, 1, 2, 12)- AIC:3168.7405327885053\n",
      " \n",
      "ARIMA(0, 1, 1)x(0, 1, 3, 12)- AIC:9373.921678744982\n",
      " \n"
     ]
    },
    {
     "name": "stderr",
     "output_type": "stream",
     "text": [
      "/Library/Frameworks/Python.framework/Versions/3.7/lib/python3.7/site-packages/statsmodels/base/model.py:512: ConvergenceWarning: Maximum Likelihood optimization failed to converge. Check mle_retvals\n",
      "  \"Check mle_retvals\", ConvergenceWarning)\n"
     ]
    },
    {
     "name": "stdout",
     "output_type": "stream",
     "text": [
      "ARIMA(0, 1, 1)x(1, 1, 0, 12)- AIC:3533.506134134455\n",
      " \n"
     ]
    },
    {
     "name": "stderr",
     "output_type": "stream",
     "text": [
      "/Library/Frameworks/Python.framework/Versions/3.7/lib/python3.7/site-packages/statsmodels/base/model.py:512: ConvergenceWarning: Maximum Likelihood optimization failed to converge. Check mle_retvals\n",
      "  \"Check mle_retvals\", ConvergenceWarning)\n"
     ]
    },
    {
     "name": "stdout",
     "output_type": "stream",
     "text": [
      "ARIMA(0, 1, 1)x(1, 1, 1, 12)- AIC:3484.57462801112\n",
      " \n"
     ]
    },
    {
     "name": "stderr",
     "output_type": "stream",
     "text": [
      "/Library/Frameworks/Python.framework/Versions/3.7/lib/python3.7/site-packages/statsmodels/base/model.py:512: ConvergenceWarning: Maximum Likelihood optimization failed to converge. Check mle_retvals\n",
      "  \"Check mle_retvals\", ConvergenceWarning)\n"
     ]
    },
    {
     "name": "stdout",
     "output_type": "stream",
     "text": [
      "ARIMA(0, 1, 1)x(1, 1, 2, 12)- AIC:3170.8213206076025\n",
      " \n",
      "ARIMA(0, 1, 1)x(1, 1, 3, 12)- AIC:9369.690189164023\n",
      " \n"
     ]
    },
    {
     "name": "stderr",
     "output_type": "stream",
     "text": [
      "/Library/Frameworks/Python.framework/Versions/3.7/lib/python3.7/site-packages/statsmodels/base/model.py:512: ConvergenceWarning: Maximum Likelihood optimization failed to converge. Check mle_retvals\n",
      "  \"Check mle_retvals\", ConvergenceWarning)\n"
     ]
    },
    {
     "name": "stdout",
     "output_type": "stream",
     "text": [
      "ARIMA(0, 1, 1)x(2, 1, 0, 12)- AIC:3218.718652844565\n",
      " \n"
     ]
    },
    {
     "name": "stderr",
     "output_type": "stream",
     "text": [
      "/Library/Frameworks/Python.framework/Versions/3.7/lib/python3.7/site-packages/statsmodels/base/model.py:512: ConvergenceWarning: Maximum Likelihood optimization failed to converge. Check mle_retvals\n",
      "  \"Check mle_retvals\", ConvergenceWarning)\n"
     ]
    },
    {
     "name": "stdout",
     "output_type": "stream",
     "text": [
      "ARIMA(0, 1, 1)x(2, 1, 1, 12)- AIC:3219.95846733786\n",
      " \n"
     ]
    },
    {
     "name": "stderr",
     "output_type": "stream",
     "text": [
      "/Library/Frameworks/Python.framework/Versions/3.7/lib/python3.7/site-packages/statsmodels/base/model.py:512: ConvergenceWarning: Maximum Likelihood optimization failed to converge. Check mle_retvals\n",
      "  \"Check mle_retvals\", ConvergenceWarning)\n"
     ]
    },
    {
     "name": "stdout",
     "output_type": "stream",
     "text": [
      "ARIMA(0, 1, 1)x(2, 1, 2, 12)- AIC:3170.6776215284785\n",
      " \n",
      "ARIMA(0, 1, 1)x(2, 1, 3, 12)- AIC:9346.096016955817\n",
      " \n"
     ]
    },
    {
     "name": "stderr",
     "output_type": "stream",
     "text": [
      "/Library/Frameworks/Python.framework/Versions/3.7/lib/python3.7/site-packages/statsmodels/base/model.py:512: ConvergenceWarning: Maximum Likelihood optimization failed to converge. Check mle_retvals\n",
      "  \"Check mle_retvals\", ConvergenceWarning)\n"
     ]
    },
    {
     "name": "stdout",
     "output_type": "stream",
     "text": [
      "ARIMA(0, 1, 1)x(3, 1, 0, 12)- AIC:2906.14344202988\n",
      " \n"
     ]
    },
    {
     "name": "stderr",
     "output_type": "stream",
     "text": [
      "/Library/Frameworks/Python.framework/Versions/3.7/lib/python3.7/site-packages/statsmodels/base/model.py:512: ConvergenceWarning: Maximum Likelihood optimization failed to converge. Check mle_retvals\n",
      "  \"Check mle_retvals\", ConvergenceWarning)\n"
     ]
    },
    {
     "name": "stdout",
     "output_type": "stream",
     "text": [
      "ARIMA(0, 1, 1)x(3, 1, 1, 12)- AIC:2908.370706131741\n",
      " \n"
     ]
    },
    {
     "name": "stderr",
     "output_type": "stream",
     "text": [
      "/Library/Frameworks/Python.framework/Versions/3.7/lib/python3.7/site-packages/statsmodels/base/model.py:512: ConvergenceWarning: Maximum Likelihood optimization failed to converge. Check mle_retvals\n",
      "  \"Check mle_retvals\", ConvergenceWarning)\n"
     ]
    },
    {
     "name": "stdout",
     "output_type": "stream",
     "text": [
      "ARIMA(0, 1, 1)x(3, 1, 2, 12)- AIC:2905.2853989262217\n",
      " \n",
      "ARIMA(0, 1, 1)x(3, 1, 3, 12)- AIC:9351.755666936857\n",
      " \n"
     ]
    },
    {
     "name": "stderr",
     "output_type": "stream",
     "text": [
      "/Library/Frameworks/Python.framework/Versions/3.7/lib/python3.7/site-packages/statsmodels/base/model.py:512: ConvergenceWarning: Maximum Likelihood optimization failed to converge. Check mle_retvals\n",
      "  \"Check mle_retvals\", ConvergenceWarning)\n"
     ]
    },
    {
     "name": "stdout",
     "output_type": "stream",
     "text": [
      "ARIMA(0, 1, 2)x(0, 1, 0, 12)- AIC:3765.23678890449\n",
      " \n"
     ]
    },
    {
     "name": "stderr",
     "output_type": "stream",
     "text": [
      "/Library/Frameworks/Python.framework/Versions/3.7/lib/python3.7/site-packages/statsmodels/base/model.py:512: ConvergenceWarning: Maximum Likelihood optimization failed to converge. Check mle_retvals\n",
      "  \"Check mle_retvals\", ConvergenceWarning)\n"
     ]
    },
    {
     "name": "stdout",
     "output_type": "stream",
     "text": [
      "ARIMA(0, 1, 2)x(0, 1, 1, 12)- AIC:3456.222614559226\n",
      " \n"
     ]
    },
    {
     "name": "stderr",
     "output_type": "stream",
     "text": [
      "/Library/Frameworks/Python.framework/Versions/3.7/lib/python3.7/site-packages/statsmodels/base/model.py:512: ConvergenceWarning: Maximum Likelihood optimization failed to converge. Check mle_retvals\n",
      "  \"Check mle_retvals\", ConvergenceWarning)\n"
     ]
    },
    {
     "name": "stdout",
     "output_type": "stream",
     "text": [
      "ARIMA(0, 1, 2)x(0, 1, 2, 12)- AIC:3144.6884481584025\n",
      " \n",
      "ARIMA(0, 1, 2)x(0, 1, 3, 12)- AIC:9286.070049895301\n",
      " \n"
     ]
    },
    {
     "name": "stderr",
     "output_type": "stream",
     "text": [
      "/Library/Frameworks/Python.framework/Versions/3.7/lib/python3.7/site-packages/statsmodels/base/model.py:512: ConvergenceWarning: Maximum Likelihood optimization failed to converge. Check mle_retvals\n",
      "  \"Check mle_retvals\", ConvergenceWarning)\n"
     ]
    },
    {
     "name": "stdout",
     "output_type": "stream",
     "text": [
      "ARIMA(0, 1, 2)x(1, 1, 0, 12)- AIC:3533.2265152755645\n",
      " \n"
     ]
    },
    {
     "name": "stderr",
     "output_type": "stream",
     "text": [
      "/Library/Frameworks/Python.framework/Versions/3.7/lib/python3.7/site-packages/statsmodels/base/model.py:512: ConvergenceWarning: Maximum Likelihood optimization failed to converge. Check mle_retvals\n",
      "  \"Check mle_retvals\", ConvergenceWarning)\n"
     ]
    },
    {
     "name": "stdout",
     "output_type": "stream",
     "text": [
      "ARIMA(0, 1, 2)x(1, 1, 1, 12)- AIC:3458.310199404855\n",
      " \n"
     ]
    },
    {
     "name": "stderr",
     "output_type": "stream",
     "text": [
      "/Library/Frameworks/Python.framework/Versions/3.7/lib/python3.7/site-packages/statsmodels/base/model.py:512: ConvergenceWarning: Maximum Likelihood optimization failed to converge. Check mle_retvals\n",
      "  \"Check mle_retvals\", ConvergenceWarning)\n"
     ]
    },
    {
     "name": "stdout",
     "output_type": "stream",
     "text": [
      "ARIMA(0, 1, 2)x(1, 1, 2, 12)- AIC:3146.647935062812\n",
      " \n",
      "ARIMA(0, 1, 2)x(1, 1, 3, 12)- AIC:9281.898478483396\n",
      " \n"
     ]
    },
    {
     "name": "stderr",
     "output_type": "stream",
     "text": [
      "/Library/Frameworks/Python.framework/Versions/3.7/lib/python3.7/site-packages/statsmodels/base/model.py:512: ConvergenceWarning: Maximum Likelihood optimization failed to converge. Check mle_retvals\n",
      "  \"Check mle_retvals\", ConvergenceWarning)\n"
     ]
    },
    {
     "name": "stdout",
     "output_type": "stream",
     "text": [
      "ARIMA(0, 1, 2)x(2, 1, 0, 12)- AIC:3220.8767579258415\n",
      " \n"
     ]
    },
    {
     "name": "stderr",
     "output_type": "stream",
     "text": [
      "/Library/Frameworks/Python.framework/Versions/3.7/lib/python3.7/site-packages/statsmodels/base/model.py:512: ConvergenceWarning: Maximum Likelihood optimization failed to converge. Check mle_retvals\n",
      "  \"Check mle_retvals\", ConvergenceWarning)\n"
     ]
    },
    {
     "name": "stdout",
     "output_type": "stream",
     "text": [
      "ARIMA(0, 1, 2)x(2, 1, 1, 12)- AIC:3222.103155104804\n",
      " \n"
     ]
    },
    {
     "name": "stderr",
     "output_type": "stream",
     "text": [
      "/Library/Frameworks/Python.framework/Versions/3.7/lib/python3.7/site-packages/statsmodels/base/model.py:512: ConvergenceWarning: Maximum Likelihood optimization failed to converge. Check mle_retvals\n",
      "  \"Check mle_retvals\", ConvergenceWarning)\n"
     ]
    },
    {
     "name": "stdout",
     "output_type": "stream",
     "text": [
      "ARIMA(0, 1, 2)x(2, 1, 2, 12)- AIC:3145.6419359409715\n",
      " \n",
      "ARIMA(0, 1, 2)x(2, 1, 3, 12)- AIC:9258.55040408488\n",
      " \n"
     ]
    },
    {
     "name": "stderr",
     "output_type": "stream",
     "text": [
      "/Library/Frameworks/Python.framework/Versions/3.7/lib/python3.7/site-packages/statsmodels/base/model.py:512: ConvergenceWarning: Maximum Likelihood optimization failed to converge. Check mle_retvals\n",
      "  \"Check mle_retvals\", ConvergenceWarning)\n"
     ]
    },
    {
     "name": "stdout",
     "output_type": "stream",
     "text": [
      "ARIMA(0, 1, 2)x(3, 1, 0, 12)- AIC:2906.187208461316\n",
      " \n"
     ]
    },
    {
     "name": "stderr",
     "output_type": "stream",
     "text": [
      "/Library/Frameworks/Python.framework/Versions/3.7/lib/python3.7/site-packages/statsmodels/base/model.py:512: ConvergenceWarning: Maximum Likelihood optimization failed to converge. Check mle_retvals\n",
      "  \"Check mle_retvals\", ConvergenceWarning)\n"
     ]
    },
    {
     "name": "stdout",
     "output_type": "stream",
     "text": [
      "ARIMA(0, 1, 2)x(3, 1, 1, 12)- AIC:2908.505589929906\n",
      " \n"
     ]
    },
    {
     "name": "stderr",
     "output_type": "stream",
     "text": [
      "/Library/Frameworks/Python.framework/Versions/3.7/lib/python3.7/site-packages/statsmodels/base/model.py:512: ConvergenceWarning: Maximum Likelihood optimization failed to converge. Check mle_retvals\n",
      "  \"Check mle_retvals\", ConvergenceWarning)\n"
     ]
    },
    {
     "name": "stdout",
     "output_type": "stream",
     "text": [
      "ARIMA(0, 1, 2)x(3, 1, 2, 12)- AIC:2907.554637167458\n",
      " \n",
      "ARIMA(0, 1, 2)x(3, 1, 3, 12)- AIC:9264.174865123794\n",
      " \n"
     ]
    },
    {
     "name": "stderr",
     "output_type": "stream",
     "text": [
      "/Library/Frameworks/Python.framework/Versions/3.7/lib/python3.7/site-packages/statsmodels/base/model.py:512: ConvergenceWarning: Maximum Likelihood optimization failed to converge. Check mle_retvals\n",
      "  \"Check mle_retvals\", ConvergenceWarning)\n"
     ]
    },
    {
     "name": "stdout",
     "output_type": "stream",
     "text": [
      "ARIMA(0, 1, 3)x(0, 1, 0, 12)- AIC:3737.4388723831607\n",
      " \n"
     ]
    },
    {
     "name": "stderr",
     "output_type": "stream",
     "text": [
      "/Library/Frameworks/Python.framework/Versions/3.7/lib/python3.7/site-packages/statsmodels/base/model.py:512: ConvergenceWarning: Maximum Likelihood optimization failed to converge. Check mle_retvals\n",
      "  \"Check mle_retvals\", ConvergenceWarning)\n"
     ]
    },
    {
     "name": "stdout",
     "output_type": "stream",
     "text": [
      "ARIMA(0, 1, 3)x(0, 1, 1, 12)- AIC:3428.0293475560898\n",
      " \n"
     ]
    },
    {
     "name": "stderr",
     "output_type": "stream",
     "text": [
      "/Library/Frameworks/Python.framework/Versions/3.7/lib/python3.7/site-packages/statsmodels/base/model.py:512: ConvergenceWarning: Maximum Likelihood optimization failed to converge. Check mle_retvals\n",
      "  \"Check mle_retvals\", ConvergenceWarning)\n"
     ]
    },
    {
     "name": "stdout",
     "output_type": "stream",
     "text": [
      "ARIMA(0, 1, 3)x(0, 1, 2, 12)- AIC:3120.428245516153\n",
      " \n",
      "ARIMA(0, 1, 3)x(0, 1, 3, 12)- AIC:9201.703368890836\n",
      " \n"
     ]
    },
    {
     "name": "stderr",
     "output_type": "stream",
     "text": [
      "/Library/Frameworks/Python.framework/Versions/3.7/lib/python3.7/site-packages/statsmodels/base/model.py:512: ConvergenceWarning: Maximum Likelihood optimization failed to converge. Check mle_retvals\n",
      "  \"Check mle_retvals\", ConvergenceWarning)\n"
     ]
    },
    {
     "name": "stdout",
     "output_type": "stream",
     "text": [
      "ARIMA(0, 1, 3)x(1, 1, 0, 12)- AIC:3535.236504188828\n",
      " \n"
     ]
    },
    {
     "name": "stderr",
     "output_type": "stream",
     "text": [
      "/Library/Frameworks/Python.framework/Versions/3.7/lib/python3.7/site-packages/statsmodels/base/model.py:512: ConvergenceWarning: Maximum Likelihood optimization failed to converge. Check mle_retvals\n",
      "  \"Check mle_retvals\", ConvergenceWarning)\n"
     ]
    },
    {
     "name": "stdout",
     "output_type": "stream",
     "text": [
      "ARIMA(0, 1, 3)x(1, 1, 1, 12)- AIC:3429.7419124249814\n",
      " \n"
     ]
    },
    {
     "name": "stderr",
     "output_type": "stream",
     "text": [
      "/Library/Frameworks/Python.framework/Versions/3.7/lib/python3.7/site-packages/statsmodels/base/model.py:512: ConvergenceWarning: Maximum Likelihood optimization failed to converge. Check mle_retvals\n",
      "  \"Check mle_retvals\", ConvergenceWarning)\n"
     ]
    },
    {
     "name": "stdout",
     "output_type": "stream",
     "text": [
      "ARIMA(0, 1, 3)x(1, 1, 2, 12)- AIC:3121.8733271693595\n",
      " \n",
      "ARIMA(0, 1, 3)x(1, 1, 3, 12)- AIC:9197.591715647965\n",
      " \n"
     ]
    },
    {
     "name": "stderr",
     "output_type": "stream",
     "text": [
      "/Library/Frameworks/Python.framework/Versions/3.7/lib/python3.7/site-packages/statsmodels/base/model.py:512: ConvergenceWarning: Maximum Likelihood optimization failed to converge. Check mle_retvals\n",
      "  \"Check mle_retvals\", ConvergenceWarning)\n"
     ]
    },
    {
     "name": "stdout",
     "output_type": "stream",
     "text": [
      "ARIMA(0, 1, 3)x(2, 1, 0, 12)- AIC:3222.7247390260777\n",
      " \n"
     ]
    },
    {
     "name": "stderr",
     "output_type": "stream",
     "text": [
      "/Library/Frameworks/Python.framework/Versions/3.7/lib/python3.7/site-packages/statsmodels/base/model.py:512: ConvergenceWarning: Maximum Likelihood optimization failed to converge. Check mle_retvals\n",
      "  \"Check mle_retvals\", ConvergenceWarning)\n"
     ]
    },
    {
     "name": "stdout",
     "output_type": "stream",
     "text": [
      "ARIMA(0, 1, 3)x(2, 1, 1, 12)- AIC:3223.7729982545293\n",
      " \n"
     ]
    },
    {
     "name": "stderr",
     "output_type": "stream",
     "text": [
      "/Library/Frameworks/Python.framework/Versions/3.7/lib/python3.7/site-packages/statsmodels/base/model.py:512: ConvergenceWarning: Maximum Likelihood optimization failed to converge. Check mle_retvals\n",
      "  \"Check mle_retvals\", ConvergenceWarning)\n"
     ]
    },
    {
     "name": "stdout",
     "output_type": "stream",
     "text": [
      "ARIMA(0, 1, 3)x(2, 1, 2, 12)- AIC:3119.4361220072756\n",
      " \n",
      "ARIMA(0, 1, 3)x(2, 1, 3, 12)- AIC:9174.489739059152\n",
      " \n"
     ]
    },
    {
     "name": "stderr",
     "output_type": "stream",
     "text": [
      "/Library/Frameworks/Python.framework/Versions/3.7/lib/python3.7/site-packages/statsmodels/base/model.py:512: ConvergenceWarning: Maximum Likelihood optimization failed to converge. Check mle_retvals\n",
      "  \"Check mle_retvals\", ConvergenceWarning)\n"
     ]
    },
    {
     "name": "stdout",
     "output_type": "stream",
     "text": [
      "ARIMA(0, 1, 3)x(3, 1, 0, 12)- AIC:2906.042718629024\n",
      " \n"
     ]
    },
    {
     "name": "stderr",
     "output_type": "stream",
     "text": [
      "/Library/Frameworks/Python.framework/Versions/3.7/lib/python3.7/site-packages/statsmodels/base/model.py:512: ConvergenceWarning: Maximum Likelihood optimization failed to converge. Check mle_retvals\n",
      "  \"Check mle_retvals\", ConvergenceWarning)\n"
     ]
    },
    {
     "name": "stdout",
     "output_type": "stream",
     "text": [
      "ARIMA(0, 1, 3)x(3, 1, 1, 12)- AIC:2908.5008664573866\n",
      " \n"
     ]
    },
    {
     "name": "stderr",
     "output_type": "stream",
     "text": [
      "/Library/Frameworks/Python.framework/Versions/3.7/lib/python3.7/site-packages/statsmodels/base/model.py:512: ConvergenceWarning: Maximum Likelihood optimization failed to converge. Check mle_retvals\n",
      "  \"Check mle_retvals\", ConvergenceWarning)\n"
     ]
    },
    {
     "name": "stdout",
     "output_type": "stream",
     "text": [
      "ARIMA(0, 1, 3)x(3, 1, 2, 12)- AIC:2908.782806194152\n",
      " \n",
      "ARIMA(0, 1, 3)x(3, 1, 3, 12)- AIC:9180.079011155942\n",
      " \n"
     ]
    },
    {
     "name": "stderr",
     "output_type": "stream",
     "text": [
      "/Library/Frameworks/Python.framework/Versions/3.7/lib/python3.7/site-packages/statsmodels/base/model.py:512: ConvergenceWarning: Maximum Likelihood optimization failed to converge. Check mle_retvals\n",
      "  \"Check mle_retvals\", ConvergenceWarning)\n"
     ]
    },
    {
     "name": "stdout",
     "output_type": "stream",
     "text": [
      "ARIMA(1, 1, 0)x(0, 1, 0, 12)- AIC:3816.8142021422227\n",
      " \n"
     ]
    },
    {
     "name": "stderr",
     "output_type": "stream",
     "text": [
      "/Library/Frameworks/Python.framework/Versions/3.7/lib/python3.7/site-packages/statsmodels/base/model.py:512: ConvergenceWarning: Maximum Likelihood optimization failed to converge. Check mle_retvals\n",
      "  \"Check mle_retvals\", ConvergenceWarning)\n"
     ]
    },
    {
     "name": "stdout",
     "output_type": "stream",
     "text": [
      "ARIMA(1, 1, 0)x(0, 1, 1, 12)- AIC:3508.816880056257\n",
      " \n"
     ]
    },
    {
     "name": "stderr",
     "output_type": "stream",
     "text": [
      "/Library/Frameworks/Python.framework/Versions/3.7/lib/python3.7/site-packages/statsmodels/base/model.py:512: ConvergenceWarning: Maximum Likelihood optimization failed to converge. Check mle_retvals\n",
      "  \"Check mle_retvals\", ConvergenceWarning)\n"
     ]
    },
    {
     "name": "stdout",
     "output_type": "stream",
     "text": [
      "ARIMA(1, 1, 0)x(0, 1, 2, 12)- AIC:3194.8259025335137\n",
      " \n",
      "ARIMA(1, 1, 0)x(0, 1, 3, 12)- AIC:9462.998512315215\n",
      " \n"
     ]
    },
    {
     "name": "stderr",
     "output_type": "stream",
     "text": [
      "/Library/Frameworks/Python.framework/Versions/3.7/lib/python3.7/site-packages/statsmodels/base/model.py:512: ConvergenceWarning: Maximum Likelihood optimization failed to converge. Check mle_retvals\n",
      "  \"Check mle_retvals\", ConvergenceWarning)\n"
     ]
    },
    {
     "name": "stdout",
     "output_type": "stream",
     "text": [
      "ARIMA(1, 1, 0)x(1, 1, 0, 12)- AIC:3508.7664476239715\n",
      " \n"
     ]
    },
    {
     "name": "stderr",
     "output_type": "stream",
     "text": [
      "/Library/Frameworks/Python.framework/Versions/3.7/lib/python3.7/site-packages/statsmodels/base/model.py:512: ConvergenceWarning: Maximum Likelihood optimization failed to converge. Check mle_retvals\n",
      "  \"Check mle_retvals\", ConvergenceWarning)\n"
     ]
    },
    {
     "name": "stdout",
     "output_type": "stream",
     "text": [
      "ARIMA(1, 1, 0)x(1, 1, 1, 12)- AIC:3511.198844599621\n",
      " \n"
     ]
    },
    {
     "name": "stderr",
     "output_type": "stream",
     "text": [
      "/Library/Frameworks/Python.framework/Versions/3.7/lib/python3.7/site-packages/statsmodels/base/model.py:512: ConvergenceWarning: Maximum Likelihood optimization failed to converge. Check mle_retvals\n",
      "  \"Check mle_retvals\", ConvergenceWarning)\n"
     ]
    },
    {
     "name": "stdout",
     "output_type": "stream",
     "text": [
      "ARIMA(1, 1, 0)x(1, 1, 2, 12)- AIC:3196.8341106851562\n",
      " \n",
      "ARIMA(1, 1, 0)x(1, 1, 3, 12)- AIC:9458.70710456521\n",
      " \n"
     ]
    },
    {
     "name": "stderr",
     "output_type": "stream",
     "text": [
      "/Library/Frameworks/Python.framework/Versions/3.7/lib/python3.7/site-packages/statsmodels/base/model.py:512: ConvergenceWarning: Maximum Likelihood optimization failed to converge. Check mle_retvals\n",
      "  \"Check mle_retvals\", ConvergenceWarning)\n"
     ]
    },
    {
     "name": "stdout",
     "output_type": "stream",
     "text": [
      "ARIMA(1, 1, 0)x(2, 1, 0, 12)- AIC:3193.3252489045694\n",
      " \n"
     ]
    },
    {
     "name": "stderr",
     "output_type": "stream",
     "text": [
      "/Library/Frameworks/Python.framework/Versions/3.7/lib/python3.7/site-packages/statsmodels/base/model.py:512: ConvergenceWarning: Maximum Likelihood optimization failed to converge. Check mle_retvals\n",
      "  \"Check mle_retvals\", ConvergenceWarning)\n"
     ]
    },
    {
     "name": "stdout",
     "output_type": "stream",
     "text": [
      "ARIMA(1, 1, 0)x(2, 1, 1, 12)- AIC:3194.739840816067\n",
      " \n"
     ]
    },
    {
     "name": "stderr",
     "output_type": "stream",
     "text": [
      "/Library/Frameworks/Python.framework/Versions/3.7/lib/python3.7/site-packages/statsmodels/base/model.py:512: ConvergenceWarning: Maximum Likelihood optimization failed to converge. Check mle_retvals\n",
      "  \"Check mle_retvals\", ConvergenceWarning)\n"
     ]
    },
    {
     "name": "stdout",
     "output_type": "stream",
     "text": [
      "ARIMA(1, 1, 0)x(2, 1, 2, 12)- AIC:3196.9409452011046\n",
      " \n",
      "ARIMA(1, 1, 0)x(2, 1, 3, 12)- AIC:9434.866834547307\n",
      " \n"
     ]
    },
    {
     "name": "stderr",
     "output_type": "stream",
     "text": [
      "/Library/Frameworks/Python.framework/Versions/3.7/lib/python3.7/site-packages/statsmodels/base/model.py:512: ConvergenceWarning: Maximum Likelihood optimization failed to converge. Check mle_retvals\n",
      "  \"Check mle_retvals\", ConvergenceWarning)\n"
     ]
    },
    {
     "name": "stdout",
     "output_type": "stream",
     "text": [
      "ARIMA(1, 1, 0)x(3, 1, 0, 12)- AIC:2880.6828238565226\n",
      " \n"
     ]
    },
    {
     "name": "stderr",
     "output_type": "stream",
     "text": [
      "/Library/Frameworks/Python.framework/Versions/3.7/lib/python3.7/site-packages/statsmodels/base/model.py:512: ConvergenceWarning: Maximum Likelihood optimization failed to converge. Check mle_retvals\n",
      "  \"Check mle_retvals\", ConvergenceWarning)\n"
     ]
    },
    {
     "name": "stdout",
     "output_type": "stream",
     "text": [
      "ARIMA(1, 1, 0)x(3, 1, 1, 12)- AIC:2882.860280176963\n",
      " \n"
     ]
    },
    {
     "name": "stderr",
     "output_type": "stream",
     "text": [
      "/Library/Frameworks/Python.framework/Versions/3.7/lib/python3.7/site-packages/statsmodels/base/model.py:512: ConvergenceWarning: Maximum Likelihood optimization failed to converge. Check mle_retvals\n",
      "  \"Check mle_retvals\", ConvergenceWarning)\n"
     ]
    },
    {
     "name": "stdout",
     "output_type": "stream",
     "text": [
      "ARIMA(1, 1, 0)x(3, 1, 2, 12)- AIC:2880.124421382818\n",
      " \n",
      "ARIMA(1, 1, 0)x(3, 1, 3, 12)- AIC:9440.561673470473\n",
      " \n"
     ]
    },
    {
     "name": "stderr",
     "output_type": "stream",
     "text": [
      "/Library/Frameworks/Python.framework/Versions/3.7/lib/python3.7/site-packages/statsmodels/base/model.py:512: ConvergenceWarning: Maximum Likelihood optimization failed to converge. Check mle_retvals\n",
      "  \"Check mle_retvals\", ConvergenceWarning)\n"
     ]
    },
    {
     "name": "stdout",
     "output_type": "stream",
     "text": [
      "ARIMA(1, 1, 1)x(0, 1, 0, 12)- AIC:3790.7632907358425\n",
      " \n"
     ]
    },
    {
     "name": "stderr",
     "output_type": "stream",
     "text": [
      "/Library/Frameworks/Python.framework/Versions/3.7/lib/python3.7/site-packages/statsmodels/base/model.py:512: ConvergenceWarning: Maximum Likelihood optimization failed to converge. Check mle_retvals\n",
      "  \"Check mle_retvals\", ConvergenceWarning)\n"
     ]
    },
    {
     "name": "stdout",
     "output_type": "stream",
     "text": [
      "ARIMA(1, 1, 1)x(0, 1, 1, 12)- AIC:3482.820405108548\n",
      " \n"
     ]
    },
    {
     "name": "stderr",
     "output_type": "stream",
     "text": [
      "/Library/Frameworks/Python.framework/Versions/3.7/lib/python3.7/site-packages/statsmodels/base/model.py:512: ConvergenceWarning: Maximum Likelihood optimization failed to converge. Check mle_retvals\n",
      "  \"Check mle_retvals\", ConvergenceWarning)\n"
     ]
    },
    {
     "name": "stdout",
     "output_type": "stream",
     "text": [
      "ARIMA(1, 1, 1)x(0, 1, 2, 12)- AIC:3170.267130896302\n",
      " \n",
      "ARIMA(1, 1, 1)x(0, 1, 3, 12)- AIC:9375.453849218256\n",
      " \n"
     ]
    },
    {
     "name": "stderr",
     "output_type": "stream",
     "text": [
      "/Library/Frameworks/Python.framework/Versions/3.7/lib/python3.7/site-packages/statsmodels/base/model.py:512: ConvergenceWarning: Maximum Likelihood optimization failed to converge. Check mle_retvals\n",
      "  \"Check mle_retvals\", ConvergenceWarning)\n"
     ]
    },
    {
     "name": "stdout",
     "output_type": "stream",
     "text": [
      "ARIMA(1, 1, 1)x(1, 1, 0, 12)- AIC:3508.23668549538\n",
      " \n"
     ]
    },
    {
     "name": "stderr",
     "output_type": "stream",
     "text": [
      "/Library/Frameworks/Python.framework/Versions/3.7/lib/python3.7/site-packages/statsmodels/base/model.py:512: ConvergenceWarning: Maximum Likelihood optimization failed to converge. Check mle_retvals\n",
      "  \"Check mle_retvals\", ConvergenceWarning)\n"
     ]
    },
    {
     "name": "stdout",
     "output_type": "stream",
     "text": [
      "ARIMA(1, 1, 1)x(1, 1, 1, 12)- AIC:3485.005832865695\n",
      " \n"
     ]
    },
    {
     "name": "stderr",
     "output_type": "stream",
     "text": [
      "/Library/Frameworks/Python.framework/Versions/3.7/lib/python3.7/site-packages/statsmodels/base/model.py:512: ConvergenceWarning: Maximum Likelihood optimization failed to converge. Check mle_retvals\n",
      "  \"Check mle_retvals\", ConvergenceWarning)\n"
     ]
    },
    {
     "name": "stdout",
     "output_type": "stream",
     "text": [
      "ARIMA(1, 1, 1)x(1, 1, 2, 12)- AIC:3169.596447492316\n",
      " \n",
      "ARIMA(1, 1, 1)x(1, 1, 3, 12)- AIC:9371.2223596373\n",
      " \n"
     ]
    },
    {
     "name": "stderr",
     "output_type": "stream",
     "text": [
      "/Library/Frameworks/Python.framework/Versions/3.7/lib/python3.7/site-packages/statsmodels/base/model.py:512: ConvergenceWarning: Maximum Likelihood optimization failed to converge. Check mle_retvals\n",
      "  \"Check mle_retvals\", ConvergenceWarning)\n"
     ]
    },
    {
     "name": "stdout",
     "output_type": "stream",
     "text": [
      "ARIMA(1, 1, 1)x(2, 1, 0, 12)- AIC:3194.023719943086\n",
      " \n"
     ]
    },
    {
     "name": "stderr",
     "output_type": "stream",
     "text": [
      "/Library/Frameworks/Python.framework/Versions/3.7/lib/python3.7/site-packages/statsmodels/base/model.py:512: ConvergenceWarning: Maximum Likelihood optimization failed to converge. Check mle_retvals\n",
      "  \"Check mle_retvals\", ConvergenceWarning)\n"
     ]
    },
    {
     "name": "stdout",
     "output_type": "stream",
     "text": [
      "ARIMA(1, 1, 1)x(2, 1, 1, 12)- AIC:3196.0649340995355\n",
      " \n"
     ]
    },
    {
     "name": "stderr",
     "output_type": "stream",
     "text": [
      "/Library/Frameworks/Python.framework/Versions/3.7/lib/python3.7/site-packages/statsmodels/base/model.py:512: ConvergenceWarning: Maximum Likelihood optimization failed to converge. Check mle_retvals\n",
      "  \"Check mle_retvals\", ConvergenceWarning)\n"
     ]
    },
    {
     "name": "stdout",
     "output_type": "stream",
     "text": [
      "ARIMA(1, 1, 1)x(2, 1, 2, 12)- AIC:3171.0994698646373\n",
      " \n",
      "ARIMA(1, 1, 1)x(2, 1, 3, 12)- AIC:9347.62818742909\n",
      " \n"
     ]
    },
    {
     "name": "stderr",
     "output_type": "stream",
     "text": [
      "/Library/Frameworks/Python.framework/Versions/3.7/lib/python3.7/site-packages/statsmodels/base/model.py:512: ConvergenceWarning: Maximum Likelihood optimization failed to converge. Check mle_retvals\n",
      "  \"Check mle_retvals\", ConvergenceWarning)\n"
     ]
    },
    {
     "name": "stdout",
     "output_type": "stream",
     "text": [
      "ARIMA(1, 1, 1)x(3, 1, 0, 12)- AIC:2880.748376116732\n",
      " \n"
     ]
    },
    {
     "name": "stderr",
     "output_type": "stream",
     "text": [
      "/Library/Frameworks/Python.framework/Versions/3.7/lib/python3.7/site-packages/statsmodels/base/model.py:512: ConvergenceWarning: Maximum Likelihood optimization failed to converge. Check mle_retvals\n",
      "  \"Check mle_retvals\", ConvergenceWarning)\n"
     ]
    },
    {
     "name": "stdout",
     "output_type": "stream",
     "text": [
      "ARIMA(1, 1, 1)x(3, 1, 1, 12)- AIC:2882.814802100854\n",
      " \n"
     ]
    },
    {
     "name": "stderr",
     "output_type": "stream",
     "text": [
      "/Library/Frameworks/Python.framework/Versions/3.7/lib/python3.7/site-packages/statsmodels/base/model.py:512: ConvergenceWarning: Maximum Likelihood optimization failed to converge. Check mle_retvals\n",
      "  \"Check mle_retvals\", ConvergenceWarning)\n"
     ]
    },
    {
     "name": "stdout",
     "output_type": "stream",
     "text": [
      "ARIMA(1, 1, 1)x(3, 1, 2, 12)- AIC:2882.127340935047\n",
      " \n",
      "ARIMA(1, 1, 1)x(3, 1, 3, 12)- AIC:9353.287837410131\n",
      " \n"
     ]
    },
    {
     "name": "stderr",
     "output_type": "stream",
     "text": [
      "/Library/Frameworks/Python.framework/Versions/3.7/lib/python3.7/site-packages/statsmodels/base/model.py:512: ConvergenceWarning: Maximum Likelihood optimization failed to converge. Check mle_retvals\n",
      "  \"Check mle_retvals\", ConvergenceWarning)\n"
     ]
    },
    {
     "name": "stdout",
     "output_type": "stream",
     "text": [
      "ARIMA(1, 1, 2)x(0, 1, 0, 12)- AIC:3767.133086109086\n",
      " \n"
     ]
    },
    {
     "name": "stderr",
     "output_type": "stream",
     "text": [
      "/Library/Frameworks/Python.framework/Versions/3.7/lib/python3.7/site-packages/statsmodels/base/model.py:512: ConvergenceWarning: Maximum Likelihood optimization failed to converge. Check mle_retvals\n",
      "  \"Check mle_retvals\", ConvergenceWarning)\n"
     ]
    },
    {
     "name": "stdout",
     "output_type": "stream",
     "text": [
      "ARIMA(1, 1, 2)x(0, 1, 1, 12)- AIC:3458.208640542411\n",
      " \n"
     ]
    },
    {
     "name": "stderr",
     "output_type": "stream",
     "text": [
      "/Library/Frameworks/Python.framework/Versions/3.7/lib/python3.7/site-packages/statsmodels/base/model.py:512: ConvergenceWarning: Maximum Likelihood optimization failed to converge. Check mle_retvals\n",
      "  \"Check mle_retvals\", ConvergenceWarning)\n"
     ]
    },
    {
     "name": "stdout",
     "output_type": "stream",
     "text": [
      "ARIMA(1, 1, 2)x(0, 1, 2, 12)- AIC:3146.809760242106\n",
      " \n",
      "ARIMA(1, 1, 2)x(0, 1, 3, 12)- AIC:9287.993650889992\n",
      " \n"
     ]
    },
    {
     "name": "stderr",
     "output_type": "stream",
     "text": [
      "/Library/Frameworks/Python.framework/Versions/3.7/lib/python3.7/site-packages/statsmodels/base/model.py:512: ConvergenceWarning: Maximum Likelihood optimization failed to converge. Check mle_retvals\n",
      "  \"Check mle_retvals\", ConvergenceWarning)\n"
     ]
    },
    {
     "name": "stdout",
     "output_type": "stream",
     "text": [
      "ARIMA(1, 1, 2)x(1, 1, 0, 12)- AIC:3509.9047688627998\n",
      " \n"
     ]
    },
    {
     "name": "stderr",
     "output_type": "stream",
     "text": [
      "/Library/Frameworks/Python.framework/Versions/3.7/lib/python3.7/site-packages/statsmodels/base/model.py:512: ConvergenceWarning: Maximum Likelihood optimization failed to converge. Check mle_retvals\n",
      "  \"Check mle_retvals\", ConvergenceWarning)\n"
     ]
    },
    {
     "name": "stdout",
     "output_type": "stream",
     "text": [
      "ARIMA(1, 1, 2)x(1, 1, 1, 12)- AIC:3460.4961936826053\n",
      " \n"
     ]
    },
    {
     "name": "stderr",
     "output_type": "stream",
     "text": [
      "/Library/Frameworks/Python.framework/Versions/3.7/lib/python3.7/site-packages/statsmodels/base/model.py:512: ConvergenceWarning: Maximum Likelihood optimization failed to converge. Check mle_retvals\n",
      "  \"Check mle_retvals\", ConvergenceWarning)\n"
     ]
    },
    {
     "name": "stdout",
     "output_type": "stream",
     "text": [
      "ARIMA(1, 1, 2)x(1, 1, 2, 12)- AIC:3145.5821872231986\n",
      " \n",
      "ARIMA(1, 1, 2)x(1, 1, 3, 12)- AIC:9283.822079478074\n",
      " \n"
     ]
    },
    {
     "name": "stderr",
     "output_type": "stream",
     "text": [
      "/Library/Frameworks/Python.framework/Versions/3.7/lib/python3.7/site-packages/statsmodels/base/model.py:512: ConvergenceWarning: Maximum Likelihood optimization failed to converge. Check mle_retvals\n",
      "  \"Check mle_retvals\", ConvergenceWarning)\n"
     ]
    },
    {
     "name": "stdout",
     "output_type": "stream",
     "text": [
      "ARIMA(1, 1, 2)x(2, 1, 0, 12)- AIC:3196.1333785822035\n",
      " \n"
     ]
    },
    {
     "name": "stderr",
     "output_type": "stream",
     "text": [
      "/Library/Frameworks/Python.framework/Versions/3.7/lib/python3.7/site-packages/statsmodels/base/model.py:512: ConvergenceWarning: Maximum Likelihood optimization failed to converge. Check mle_retvals\n",
      "  \"Check mle_retvals\", ConvergenceWarning)\n"
     ]
    },
    {
     "name": "stdout",
     "output_type": "stream",
     "text": [
      "ARIMA(1, 1, 2)x(2, 1, 1, 12)- AIC:3198.6757004085016\n",
      " \n"
     ]
    },
    {
     "name": "stderr",
     "output_type": "stream",
     "text": [
      "/Library/Frameworks/Python.framework/Versions/3.7/lib/python3.7/site-packages/statsmodels/base/model.py:512: ConvergenceWarning: Maximum Likelihood optimization failed to converge. Check mle_retvals\n",
      "  \"Check mle_retvals\", ConvergenceWarning)\n"
     ]
    },
    {
     "name": "stdout",
     "output_type": "stream",
     "text": [
      "ARIMA(1, 1, 2)x(2, 1, 2, 12)- AIC:3147.033412225177\n",
      " \n",
      "ARIMA(1, 1, 2)x(2, 1, 3, 12)- AIC:9260.474005079568\n",
      " \n"
     ]
    },
    {
     "name": "stderr",
     "output_type": "stream",
     "text": [
      "/Library/Frameworks/Python.framework/Versions/3.7/lib/python3.7/site-packages/statsmodels/base/model.py:512: ConvergenceWarning: Maximum Likelihood optimization failed to converge. Check mle_retvals\n",
      "  \"Check mle_retvals\", ConvergenceWarning)\n"
     ]
    },
    {
     "name": "stdout",
     "output_type": "stream",
     "text": [
      "ARIMA(1, 1, 2)x(3, 1, 0, 12)- AIC:2879.7889517692583\n",
      " \n"
     ]
    },
    {
     "name": "stderr",
     "output_type": "stream",
     "text": [
      "/Library/Frameworks/Python.framework/Versions/3.7/lib/python3.7/site-packages/statsmodels/base/model.py:512: ConvergenceWarning: Maximum Likelihood optimization failed to converge. Check mle_retvals\n",
      "  \"Check mle_retvals\", ConvergenceWarning)\n"
     ]
    },
    {
     "name": "stdout",
     "output_type": "stream",
     "text": [
      "ARIMA(1, 1, 2)x(3, 1, 1, 12)- AIC:2881.790732298395\n",
      " \n"
     ]
    },
    {
     "name": "stderr",
     "output_type": "stream",
     "text": [
      "/Library/Frameworks/Python.framework/Versions/3.7/lib/python3.7/site-packages/statsmodels/base/model.py:512: ConvergenceWarning: Maximum Likelihood optimization failed to converge. Check mle_retvals\n",
      "  \"Check mle_retvals\", ConvergenceWarning)\n"
     ]
    },
    {
     "name": "stdout",
     "output_type": "stream",
     "text": [
      "ARIMA(1, 1, 2)x(3, 1, 2, 12)- AIC:2884.3792528650797\n",
      " \n",
      "ARIMA(1, 1, 2)x(3, 1, 3, 12)- AIC:9266.098466118481\n",
      " \n"
     ]
    },
    {
     "name": "stderr",
     "output_type": "stream",
     "text": [
      "/Library/Frameworks/Python.framework/Versions/3.7/lib/python3.7/site-packages/statsmodels/base/model.py:512: ConvergenceWarning: Maximum Likelihood optimization failed to converge. Check mle_retvals\n",
      "  \"Check mle_retvals\", ConvergenceWarning)\n"
     ]
    },
    {
     "name": "stdout",
     "output_type": "stream",
     "text": [
      "ARIMA(1, 1, 3)x(0, 1, 0, 12)- AIC:3739.212736809999\n",
      " \n"
     ]
    },
    {
     "name": "stderr",
     "output_type": "stream",
     "text": [
      "/Library/Frameworks/Python.framework/Versions/3.7/lib/python3.7/site-packages/statsmodels/base/model.py:512: ConvergenceWarning: Maximum Likelihood optimization failed to converge. Check mle_retvals\n",
      "  \"Check mle_retvals\", ConvergenceWarning)\n"
     ]
    },
    {
     "name": "stdout",
     "output_type": "stream",
     "text": [
      "ARIMA(1, 1, 3)x(0, 1, 1, 12)- AIC:3429.696122904644\n",
      " \n"
     ]
    },
    {
     "name": "stderr",
     "output_type": "stream",
     "text": [
      "/Library/Frameworks/Python.framework/Versions/3.7/lib/python3.7/site-packages/statsmodels/base/model.py:512: ConvergenceWarning: Maximum Likelihood optimization failed to converge. Check mle_retvals\n",
      "  \"Check mle_retvals\", ConvergenceWarning)\n"
     ]
    },
    {
     "name": "stdout",
     "output_type": "stream",
     "text": [
      "ARIMA(1, 1, 3)x(0, 1, 2, 12)- AIC:3122.149229652018\n",
      " \n",
      "ARIMA(1, 1, 3)x(0, 1, 3, 12)- AIC:9203.391106559086\n",
      " \n"
     ]
    },
    {
     "name": "stderr",
     "output_type": "stream",
     "text": [
      "/Library/Frameworks/Python.framework/Versions/3.7/lib/python3.7/site-packages/statsmodels/base/model.py:512: ConvergenceWarning: Maximum Likelihood optimization failed to converge. Check mle_retvals\n",
      "  \"Check mle_retvals\", ConvergenceWarning)\n"
     ]
    },
    {
     "name": "stdout",
     "output_type": "stream",
     "text": [
      "ARIMA(1, 1, 3)x(1, 1, 0, 12)- AIC:3511.8807334933012\n",
      " \n"
     ]
    },
    {
     "name": "stderr",
     "output_type": "stream",
     "text": [
      "/Library/Frameworks/Python.framework/Versions/3.7/lib/python3.7/site-packages/statsmodels/base/model.py:512: ConvergenceWarning: Maximum Likelihood optimization failed to converge. Check mle_retvals\n",
      "  \"Check mle_retvals\", ConvergenceWarning)\n"
     ]
    },
    {
     "name": "stdout",
     "output_type": "stream",
     "text": [
      "ARIMA(1, 1, 3)x(1, 1, 1, 12)- AIC:3431.5166286770905\n",
      " \n"
     ]
    },
    {
     "name": "stderr",
     "output_type": "stream",
     "text": [
      "/Library/Frameworks/Python.framework/Versions/3.7/lib/python3.7/site-packages/statsmodels/base/model.py:512: ConvergenceWarning: Maximum Likelihood optimization failed to converge. Check mle_retvals\n",
      "  \"Check mle_retvals\", ConvergenceWarning)\n"
     ]
    },
    {
     "name": "stdout",
     "output_type": "stream",
     "text": [
      "ARIMA(1, 1, 3)x(1, 1, 2, 12)- AIC:3121.741884154219\n",
      " \n",
      "ARIMA(1, 1, 3)x(1, 1, 3, 12)- AIC:9199.279453316214\n",
      " \n"
     ]
    },
    {
     "name": "stderr",
     "output_type": "stream",
     "text": [
      "/Library/Frameworks/Python.framework/Versions/3.7/lib/python3.7/site-packages/statsmodels/base/model.py:512: ConvergenceWarning: Maximum Likelihood optimization failed to converge. Check mle_retvals\n",
      "  \"Check mle_retvals\", ConvergenceWarning)\n"
     ]
    },
    {
     "name": "stdout",
     "output_type": "stream",
     "text": [
      "ARIMA(1, 1, 3)x(2, 1, 0, 12)- AIC:3198.4529043687567\n",
      " \n"
     ]
    },
    {
     "name": "stderr",
     "output_type": "stream",
     "text": [
      "/Library/Frameworks/Python.framework/Versions/3.7/lib/python3.7/site-packages/statsmodels/base/model.py:512: ConvergenceWarning: Maximum Likelihood optimization failed to converge. Check mle_retvals\n",
      "  \"Check mle_retvals\", ConvergenceWarning)\n"
     ]
    },
    {
     "name": "stdout",
     "output_type": "stream",
     "text": [
      "ARIMA(1, 1, 3)x(2, 1, 1, 12)- AIC:3200.719129336317\n",
      " \n"
     ]
    },
    {
     "name": "stderr",
     "output_type": "stream",
     "text": [
      "/Library/Frameworks/Python.framework/Versions/3.7/lib/python3.7/site-packages/statsmodels/base/model.py:512: ConvergenceWarning: Maximum Likelihood optimization failed to converge. Check mle_retvals\n",
      "  \"Check mle_retvals\", ConvergenceWarning)\n"
     ]
    },
    {
     "name": "stdout",
     "output_type": "stream",
     "text": [
      "ARIMA(1, 1, 3)x(2, 1, 2, 12)- AIC:3119.4765851231955\n",
      " \n",
      "ARIMA(1, 1, 3)x(2, 1, 3, 12)- AIC:9176.177476727402\n",
      " \n"
     ]
    },
    {
     "name": "stderr",
     "output_type": "stream",
     "text": [
      "/Library/Frameworks/Python.framework/Versions/3.7/lib/python3.7/site-packages/statsmodels/base/model.py:512: ConvergenceWarning: Maximum Likelihood optimization failed to converge. Check mle_retvals\n",
      "  \"Check mle_retvals\", ConvergenceWarning)\n"
     ]
    },
    {
     "name": "stdout",
     "output_type": "stream",
     "text": [
      "ARIMA(1, 1, 3)x(3, 1, 0, 12)- AIC:2881.3617183123824\n",
      " \n"
     ]
    },
    {
     "name": "stderr",
     "output_type": "stream",
     "text": [
      "/Library/Frameworks/Python.framework/Versions/3.7/lib/python3.7/site-packages/statsmodels/base/model.py:512: ConvergenceWarning: Maximum Likelihood optimization failed to converge. Check mle_retvals\n",
      "  \"Check mle_retvals\", ConvergenceWarning)\n"
     ]
    },
    {
     "name": "stdout",
     "output_type": "stream",
     "text": [
      "ARIMA(1, 1, 3)x(3, 1, 1, 12)- AIC:2883.3351145801453\n",
      " \n"
     ]
    },
    {
     "name": "stderr",
     "output_type": "stream",
     "text": [
      "/Library/Frameworks/Python.framework/Versions/3.7/lib/python3.7/site-packages/statsmodels/base/model.py:512: ConvergenceWarning: Maximum Likelihood optimization failed to converge. Check mle_retvals\n",
      "  \"Check mle_retvals\", ConvergenceWarning)\n"
     ]
    },
    {
     "name": "stdout",
     "output_type": "stream",
     "text": [
      "ARIMA(1, 1, 3)x(3, 1, 2, 12)- AIC:2885.4182003329615\n",
      " \n",
      "ARIMA(1, 1, 3)x(3, 1, 3, 12)- AIC:9181.766748824191\n",
      " \n"
     ]
    },
    {
     "name": "stderr",
     "output_type": "stream",
     "text": [
      "/Library/Frameworks/Python.framework/Versions/3.7/lib/python3.7/site-packages/statsmodels/base/model.py:512: ConvergenceWarning: Maximum Likelihood optimization failed to converge. Check mle_retvals\n",
      "  \"Check mle_retvals\", ConvergenceWarning)\n"
     ]
    },
    {
     "name": "stdout",
     "output_type": "stream",
     "text": [
      "ARIMA(2, 1, 0)x(0, 1, 0, 12)- AIC:3789.973346042995\n",
      " \n"
     ]
    },
    {
     "name": "stderr",
     "output_type": "stream",
     "text": [
      "/Library/Frameworks/Python.framework/Versions/3.7/lib/python3.7/site-packages/statsmodels/base/model.py:512: ConvergenceWarning: Maximum Likelihood optimization failed to converge. Check mle_retvals\n",
      "  \"Check mle_retvals\", ConvergenceWarning)\n"
     ]
    },
    {
     "name": "stdout",
     "output_type": "stream",
     "text": [
      "ARIMA(2, 1, 0)x(0, 1, 1, 12)- AIC:3508.393048690986\n",
      " \n"
     ]
    },
    {
     "name": "stderr",
     "output_type": "stream",
     "text": [
      "/Library/Frameworks/Python.framework/Versions/3.7/lib/python3.7/site-packages/statsmodels/base/model.py:512: ConvergenceWarning: Maximum Likelihood optimization failed to converge. Check mle_retvals\n",
      "  \"Check mle_retvals\", ConvergenceWarning)\n"
     ]
    },
    {
     "name": "stdout",
     "output_type": "stream",
     "text": [
      "ARIMA(2, 1, 0)x(0, 1, 2, 12)- AIC:3196.7365623686446\n",
      " \n",
      "ARIMA(2, 1, 0)x(0, 1, 3, 12)- AIC:9463.36010348064\n",
      " \n"
     ]
    },
    {
     "name": "stderr",
     "output_type": "stream",
     "text": [
      "/Library/Frameworks/Python.framework/Versions/3.7/lib/python3.7/site-packages/statsmodels/base/model.py:512: ConvergenceWarning: Maximum Likelihood optimization failed to converge. Check mle_retvals\n",
      "  \"Check mle_retvals\", ConvergenceWarning)\n"
     ]
    },
    {
     "name": "stdout",
     "output_type": "stream",
     "text": [
      "ARIMA(2, 1, 0)x(1, 1, 0, 12)- AIC:3483.0575744774733\n",
      " \n"
     ]
    },
    {
     "name": "stderr",
     "output_type": "stream",
     "text": [
      "/Library/Frameworks/Python.framework/Versions/3.7/lib/python3.7/site-packages/statsmodels/base/model.py:512: ConvergenceWarning: Maximum Likelihood optimization failed to converge. Check mle_retvals\n",
      "  \"Check mle_retvals\", ConvergenceWarning)\n"
     ]
    },
    {
     "name": "stdout",
     "output_type": "stream",
     "text": [
      "ARIMA(2, 1, 0)x(1, 1, 1, 12)- AIC:3485.294601693201\n",
      " \n"
     ]
    },
    {
     "name": "stderr",
     "output_type": "stream",
     "text": [
      "/Library/Frameworks/Python.framework/Versions/3.7/lib/python3.7/site-packages/statsmodels/base/model.py:512: ConvergenceWarning: Maximum Likelihood optimization failed to converge. Check mle_retvals\n",
      "  \"Check mle_retvals\", ConvergenceWarning)\n"
     ]
    },
    {
     "name": "stdout",
     "output_type": "stream",
     "text": [
      "ARIMA(2, 1, 0)x(1, 1, 2, 12)- AIC:3198.738146464576\n",
      " \n",
      "ARIMA(2, 1, 0)x(1, 1, 3, 12)- AIC:9459.068695730637\n",
      " \n"
     ]
    },
    {
     "name": "stderr",
     "output_type": "stream",
     "text": [
      "/Library/Frameworks/Python.framework/Versions/3.7/lib/python3.7/site-packages/statsmodels/base/model.py:512: ConvergenceWarning: Maximum Likelihood optimization failed to converge. Check mle_retvals\n",
      "  \"Check mle_retvals\", ConvergenceWarning)\n"
     ]
    },
    {
     "name": "stdout",
     "output_type": "stream",
     "text": [
      "ARIMA(2, 1, 0)x(2, 1, 0, 12)- AIC:3168.5152312174923\n",
      " \n"
     ]
    },
    {
     "name": "stderr",
     "output_type": "stream",
     "text": [
      "/Library/Frameworks/Python.framework/Versions/3.7/lib/python3.7/site-packages/statsmodels/base/model.py:512: ConvergenceWarning: Maximum Likelihood optimization failed to converge. Check mle_retvals\n",
      "  \"Check mle_retvals\", ConvergenceWarning)\n"
     ]
    },
    {
     "name": "stdout",
     "output_type": "stream",
     "text": [
      "ARIMA(2, 1, 0)x(2, 1, 1, 12)- AIC:3169.9117648106485\n",
      " \n"
     ]
    },
    {
     "name": "stderr",
     "output_type": "stream",
     "text": [
      "/Library/Frameworks/Python.framework/Versions/3.7/lib/python3.7/site-packages/statsmodels/base/model.py:512: ConvergenceWarning: Maximum Likelihood optimization failed to converge. Check mle_retvals\n",
      "  \"Check mle_retvals\", ConvergenceWarning)\n"
     ]
    },
    {
     "name": "stdout",
     "output_type": "stream",
     "text": [
      "ARIMA(2, 1, 0)x(2, 1, 2, 12)- AIC:3171.340841226558\n",
      " \n",
      "ARIMA(2, 1, 0)x(2, 1, 3, 12)- AIC:9435.228425712736\n",
      " \n"
     ]
    },
    {
     "name": "stderr",
     "output_type": "stream",
     "text": [
      "/Library/Frameworks/Python.framework/Versions/3.7/lib/python3.7/site-packages/statsmodels/base/model.py:512: ConvergenceWarning: Maximum Likelihood optimization failed to converge. Check mle_retvals\n",
      "  \"Check mle_retvals\", ConvergenceWarning)\n"
     ]
    },
    {
     "name": "stdout",
     "output_type": "stream",
     "text": [
      "ARIMA(2, 1, 0)x(3, 1, 0, 12)- AIC:2856.647392552512\n",
      " \n"
     ]
    },
    {
     "name": "stderr",
     "output_type": "stream",
     "text": [
      "/Library/Frameworks/Python.framework/Versions/3.7/lib/python3.7/site-packages/statsmodels/base/model.py:512: ConvergenceWarning: Maximum Likelihood optimization failed to converge. Check mle_retvals\n",
      "  \"Check mle_retvals\", ConvergenceWarning)\n"
     ]
    },
    {
     "name": "stdout",
     "output_type": "stream",
     "text": [
      "ARIMA(2, 1, 0)x(3, 1, 1, 12)- AIC:2858.885834209694\n",
      " \n"
     ]
    },
    {
     "name": "stderr",
     "output_type": "stream",
     "text": [
      "/Library/Frameworks/Python.framework/Versions/3.7/lib/python3.7/site-packages/statsmodels/base/model.py:512: ConvergenceWarning: Maximum Likelihood optimization failed to converge. Check mle_retvals\n",
      "  \"Check mle_retvals\", ConvergenceWarning)\n"
     ]
    },
    {
     "name": "stdout",
     "output_type": "stream",
     "text": [
      "ARIMA(2, 1, 0)x(3, 1, 2, 12)- AIC:2856.7026423242087\n",
      " \n",
      "ARIMA(2, 1, 0)x(3, 1, 3, 12)- AIC:9352.514471639368\n",
      " \n"
     ]
    },
    {
     "name": "stderr",
     "output_type": "stream",
     "text": [
      "/Library/Frameworks/Python.framework/Versions/3.7/lib/python3.7/site-packages/statsmodels/base/model.py:512: ConvergenceWarning: Maximum Likelihood optimization failed to converge. Check mle_retvals\n",
      "  \"Check mle_retvals\", ConvergenceWarning)\n"
     ]
    },
    {
     "name": "stdout",
     "output_type": "stream",
     "text": [
      "ARIMA(2, 1, 1)x(0, 1, 0, 12)- AIC:3791.2106760883935\n",
      " \n"
     ]
    },
    {
     "name": "stderr",
     "output_type": "stream",
     "text": [
      "/Library/Frameworks/Python.framework/Versions/3.7/lib/python3.7/site-packages/statsmodels/base/model.py:512: ConvergenceWarning: Maximum Likelihood optimization failed to converge. Check mle_retvals\n",
      "  \"Check mle_retvals\", ConvergenceWarning)\n"
     ]
    },
    {
     "name": "stdout",
     "output_type": "stream",
     "text": [
      "ARIMA(2, 1, 1)x(0, 1, 1, 12)- AIC:3484.614538582494\n",
      " \n"
     ]
    },
    {
     "name": "stderr",
     "output_type": "stream",
     "text": [
      "/Library/Frameworks/Python.framework/Versions/3.7/lib/python3.7/site-packages/statsmodels/base/model.py:512: ConvergenceWarning: Maximum Likelihood optimization failed to converge. Check mle_retvals\n",
      "  \"Check mle_retvals\", ConvergenceWarning)\n"
     ]
    },
    {
     "name": "stdout",
     "output_type": "stream",
     "text": [
      "ARIMA(2, 1, 1)x(0, 1, 2, 12)- AIC:3171.720001079937\n",
      " \n",
      "ARIMA(2, 1, 1)x(0, 1, 3, 12)- AIC:9376.38704781535\n",
      " \n"
     ]
    },
    {
     "name": "stderr",
     "output_type": "stream",
     "text": [
      "/Library/Frameworks/Python.framework/Versions/3.7/lib/python3.7/site-packages/statsmodels/base/model.py:512: ConvergenceWarning: Maximum Likelihood optimization failed to converge. Check mle_retvals\n",
      "  \"Check mle_retvals\", ConvergenceWarning)\n"
     ]
    },
    {
     "name": "stdout",
     "output_type": "stream",
     "text": [
      "ARIMA(2, 1, 1)x(1, 1, 0, 12)- AIC:3484.62000605101\n",
      " \n"
     ]
    },
    {
     "name": "stderr",
     "output_type": "stream",
     "text": [
      "/Library/Frameworks/Python.framework/Versions/3.7/lib/python3.7/site-packages/statsmodels/base/model.py:512: ConvergenceWarning: Maximum Likelihood optimization failed to converge. Check mle_retvals\n",
      "  \"Check mle_retvals\", ConvergenceWarning)\n"
     ]
    },
    {
     "name": "stdout",
     "output_type": "stream",
     "text": [
      "ARIMA(2, 1, 1)x(1, 1, 1, 12)- AIC:3486.409162093231\n",
      " \n"
     ]
    },
    {
     "name": "stderr",
     "output_type": "stream",
     "text": [
      "/Library/Frameworks/Python.framework/Versions/3.7/lib/python3.7/site-packages/statsmodels/base/model.py:512: ConvergenceWarning: Maximum Likelihood optimization failed to converge. Check mle_retvals\n",
      "  \"Check mle_retvals\", ConvergenceWarning)\n"
     ]
    },
    {
     "name": "stdout",
     "output_type": "stream",
     "text": [
      "ARIMA(2, 1, 1)x(1, 1, 2, 12)- AIC:3171.4952272811533\n",
      " \n",
      "ARIMA(2, 1, 1)x(1, 1, 3, 12)- AIC:9372.155558234394\n",
      " \n"
     ]
    },
    {
     "name": "stderr",
     "output_type": "stream",
     "text": [
      "/Library/Frameworks/Python.framework/Versions/3.7/lib/python3.7/site-packages/statsmodels/base/model.py:512: ConvergenceWarning: Maximum Likelihood optimization failed to converge. Check mle_retvals\n",
      "  \"Check mle_retvals\", ConvergenceWarning)\n"
     ]
    },
    {
     "name": "stdout",
     "output_type": "stream",
     "text": [
      "ARIMA(2, 1, 1)x(2, 1, 0, 12)- AIC:3170.5319411214987\n",
      " \n"
     ]
    },
    {
     "name": "stderr",
     "output_type": "stream",
     "text": [
      "/Library/Frameworks/Python.framework/Versions/3.7/lib/python3.7/site-packages/statsmodels/base/model.py:512: ConvergenceWarning: Maximum Likelihood optimization failed to converge. Check mle_retvals\n",
      "  \"Check mle_retvals\", ConvergenceWarning)\n"
     ]
    },
    {
     "name": "stdout",
     "output_type": "stream",
     "text": [
      "ARIMA(2, 1, 1)x(2, 1, 1, 12)- AIC:3171.6649210684627\n",
      " \n"
     ]
    },
    {
     "name": "stderr",
     "output_type": "stream",
     "text": [
      "/Library/Frameworks/Python.framework/Versions/3.7/lib/python3.7/site-packages/statsmodels/base/model.py:512: ConvergenceWarning: Maximum Likelihood optimization failed to converge. Check mle_retvals\n",
      "  \"Check mle_retvals\", ConvergenceWarning)\n"
     ]
    },
    {
     "name": "stdout",
     "output_type": "stream",
     "text": [
      "ARIMA(2, 1, 1)x(2, 1, 2, 12)- AIC:3171.324313314823\n",
      " \n",
      "ARIMA(2, 1, 1)x(2, 1, 3, 12)- AIC:9348.561386026184\n",
      " \n"
     ]
    },
    {
     "name": "stderr",
     "output_type": "stream",
     "text": [
      "/Library/Frameworks/Python.framework/Versions/3.7/lib/python3.7/site-packages/statsmodels/base/model.py:512: ConvergenceWarning: Maximum Likelihood optimization failed to converge. Check mle_retvals\n",
      "  \"Check mle_retvals\", ConvergenceWarning)\n"
     ]
    },
    {
     "name": "stdout",
     "output_type": "stream",
     "text": [
      "ARIMA(2, 1, 1)x(3, 1, 0, 12)- AIC:2853.4713251738785\n",
      " \n"
     ]
    },
    {
     "name": "stderr",
     "output_type": "stream",
     "text": [
      "/Library/Frameworks/Python.framework/Versions/3.7/lib/python3.7/site-packages/statsmodels/base/model.py:512: ConvergenceWarning: Maximum Likelihood optimization failed to converge. Check mle_retvals\n",
      "  \"Check mle_retvals\", ConvergenceWarning)\n"
     ]
    },
    {
     "name": "stdout",
     "output_type": "stream",
     "text": [
      "ARIMA(2, 1, 1)x(3, 1, 1, 12)- AIC:2855.407295087916\n",
      " \n"
     ]
    },
    {
     "name": "stderr",
     "output_type": "stream",
     "text": [
      "/Library/Frameworks/Python.framework/Versions/3.7/lib/python3.7/site-packages/statsmodels/base/model.py:512: ConvergenceWarning: Maximum Likelihood optimization failed to converge. Check mle_retvals\n",
      "  \"Check mle_retvals\", ConvergenceWarning)\n"
     ]
    },
    {
     "name": "stdout",
     "output_type": "stream",
     "text": [
      "ARIMA(2, 1, 1)x(3, 1, 2, 12)- AIC:2858.248339600833\n",
      " \n",
      "ARIMA(2, 1, 1)x(3, 1, 3, 12)- AIC:9354.221036007222\n",
      " \n"
     ]
    },
    {
     "name": "stderr",
     "output_type": "stream",
     "text": [
      "/Library/Frameworks/Python.framework/Versions/3.7/lib/python3.7/site-packages/statsmodels/base/model.py:512: ConvergenceWarning: Maximum Likelihood optimization failed to converge. Check mle_retvals\n",
      "  \"Check mle_retvals\", ConvergenceWarning)\n"
     ]
    },
    {
     "name": "stdout",
     "output_type": "stream",
     "text": [
      "ARIMA(2, 1, 2)x(0, 1, 0, 12)- AIC:3766.8593169367423\n",
      " \n"
     ]
    },
    {
     "name": "stderr",
     "output_type": "stream",
     "text": [
      "/Library/Frameworks/Python.framework/Versions/3.7/lib/python3.7/site-packages/statsmodels/base/model.py:512: ConvergenceWarning: Maximum Likelihood optimization failed to converge. Check mle_retvals\n",
      "  \"Check mle_retvals\", ConvergenceWarning)\n"
     ]
    },
    {
     "name": "stdout",
     "output_type": "stream",
     "text": [
      "ARIMA(2, 1, 2)x(0, 1, 1, 12)- AIC:3459.700764777786\n",
      " \n"
     ]
    },
    {
     "name": "stderr",
     "output_type": "stream",
     "text": [
      "/Library/Frameworks/Python.framework/Versions/3.7/lib/python3.7/site-packages/statsmodels/base/model.py:512: ConvergenceWarning: Maximum Likelihood optimization failed to converge. Check mle_retvals\n",
      "  \"Check mle_retvals\", ConvergenceWarning)\n"
     ]
    },
    {
     "name": "stdout",
     "output_type": "stream",
     "text": [
      "ARIMA(2, 1, 2)x(0, 1, 2, 12)- AIC:3148.8131954364208\n",
      " \n",
      "ARIMA(2, 1, 2)x(0, 1, 3, 12)- AIC:9289.651169160352\n",
      " \n"
     ]
    },
    {
     "name": "stderr",
     "output_type": "stream",
     "text": [
      "/Library/Frameworks/Python.framework/Versions/3.7/lib/python3.7/site-packages/statsmodels/base/model.py:512: ConvergenceWarning: Maximum Likelihood optimization failed to converge. Check mle_retvals\n",
      "  \"Check mle_retvals\", ConvergenceWarning)\n"
     ]
    },
    {
     "name": "stdout",
     "output_type": "stream",
     "text": [
      "ARIMA(2, 1, 2)x(1, 1, 0, 12)- AIC:3486.0230978867507\n",
      " \n"
     ]
    },
    {
     "name": "stderr",
     "output_type": "stream",
     "text": [
      "/Library/Frameworks/Python.framework/Versions/3.7/lib/python3.7/site-packages/statsmodels/base/model.py:512: ConvergenceWarning: Maximum Likelihood optimization failed to converge. Check mle_retvals\n",
      "  \"Check mle_retvals\", ConvergenceWarning)\n"
     ]
    },
    {
     "name": "stdout",
     "output_type": "stream",
     "text": [
      "ARIMA(2, 1, 2)x(1, 1, 1, 12)- AIC:3461.5397399342964\n",
      " \n"
     ]
    },
    {
     "name": "stderr",
     "output_type": "stream",
     "text": [
      "/Library/Frameworks/Python.framework/Versions/3.7/lib/python3.7/site-packages/statsmodels/base/model.py:512: ConvergenceWarning: Maximum Likelihood optimization failed to converge. Check mle_retvals\n",
      "  \"Check mle_retvals\", ConvergenceWarning)\n"
     ]
    },
    {
     "name": "stdout",
     "output_type": "stream",
     "text": [
      "ARIMA(2, 1, 2)x(1, 1, 2, 12)- AIC:3147.538143157533\n",
      " \n",
      "ARIMA(2, 1, 2)x(1, 1, 3, 12)- AIC:9285.479597748437\n",
      " \n"
     ]
    },
    {
     "name": "stderr",
     "output_type": "stream",
     "text": [
      "/Library/Frameworks/Python.framework/Versions/3.7/lib/python3.7/site-packages/statsmodels/base/model.py:512: ConvergenceWarning: Maximum Likelihood optimization failed to converge. Check mle_retvals\n",
      "  \"Check mle_retvals\", ConvergenceWarning)\n"
     ]
    },
    {
     "name": "stdout",
     "output_type": "stream",
     "text": [
      "ARIMA(2, 1, 2)x(2, 1, 0, 12)- AIC:3171.1984054746567\n",
      " \n"
     ]
    },
    {
     "name": "stderr",
     "output_type": "stream",
     "text": [
      "/Library/Frameworks/Python.framework/Versions/3.7/lib/python3.7/site-packages/statsmodels/base/model.py:512: ConvergenceWarning: Maximum Likelihood optimization failed to converge. Check mle_retvals\n",
      "  \"Check mle_retvals\", ConvergenceWarning)\n"
     ]
    },
    {
     "name": "stdout",
     "output_type": "stream",
     "text": [
      "ARIMA(2, 1, 2)x(2, 1, 1, 12)- AIC:3172.4218783368096\n",
      " \n"
     ]
    },
    {
     "name": "stderr",
     "output_type": "stream",
     "text": [
      "/Library/Frameworks/Python.framework/Versions/3.7/lib/python3.7/site-packages/statsmodels/base/model.py:512: ConvergenceWarning: Maximum Likelihood optimization failed to converge. Check mle_retvals\n",
      "  \"Check mle_retvals\", ConvergenceWarning)\n"
     ]
    },
    {
     "name": "stdout",
     "output_type": "stream",
     "text": [
      "ARIMA(2, 1, 2)x(2, 1, 2, 12)- AIC:3146.9507102337557\n",
      " \n",
      "ARIMA(2, 1, 2)x(2, 1, 3, 12)- AIC:9262.131523349932\n",
      " \n"
     ]
    },
    {
     "name": "stderr",
     "output_type": "stream",
     "text": [
      "/Library/Frameworks/Python.framework/Versions/3.7/lib/python3.7/site-packages/statsmodels/base/model.py:512: ConvergenceWarning: Maximum Likelihood optimization failed to converge. Check mle_retvals\n",
      "  \"Check mle_retvals\", ConvergenceWarning)\n"
     ]
    },
    {
     "name": "stdout",
     "output_type": "stream",
     "text": [
      "ARIMA(2, 1, 2)x(3, 1, 0, 12)- AIC:2853.546773716833\n",
      " \n"
     ]
    },
    {
     "name": "stderr",
     "output_type": "stream",
     "text": [
      "/Library/Frameworks/Python.framework/Versions/3.7/lib/python3.7/site-packages/statsmodels/base/model.py:512: ConvergenceWarning: Maximum Likelihood optimization failed to converge. Check mle_retvals\n",
      "  \"Check mle_retvals\", ConvergenceWarning)\n"
     ]
    },
    {
     "name": "stdout",
     "output_type": "stream",
     "text": [
      "ARIMA(2, 1, 2)x(3, 1, 1, 12)- AIC:2855.659190272383\n",
      " \n"
     ]
    },
    {
     "name": "stderr",
     "output_type": "stream",
     "text": [
      "/Library/Frameworks/Python.framework/Versions/3.7/lib/python3.7/site-packages/statsmodels/base/model.py:512: ConvergenceWarning: Maximum Likelihood optimization failed to converge. Check mle_retvals\n",
      "  \"Check mle_retvals\", ConvergenceWarning)\n"
     ]
    },
    {
     "name": "stdout",
     "output_type": "stream",
     "text": [
      "ARIMA(2, 1, 2)x(3, 1, 2, 12)- AIC:2858.301401509724\n",
      " \n",
      "ARIMA(2, 1, 2)x(3, 1, 3, 12)- AIC:9267.755984388845\n",
      " \n"
     ]
    },
    {
     "name": "stderr",
     "output_type": "stream",
     "text": [
      "/Library/Frameworks/Python.framework/Versions/3.7/lib/python3.7/site-packages/statsmodels/base/model.py:512: ConvergenceWarning: Maximum Likelihood optimization failed to converge. Check mle_retvals\n",
      "  \"Check mle_retvals\", ConvergenceWarning)\n"
     ]
    },
    {
     "name": "stdout",
     "output_type": "stream",
     "text": [
      "ARIMA(2, 1, 3)x(0, 1, 0, 12)- AIC:3740.851566972662\n",
      " \n"
     ]
    },
    {
     "name": "stderr",
     "output_type": "stream",
     "text": [
      "/Library/Frameworks/Python.framework/Versions/3.7/lib/python3.7/site-packages/statsmodels/base/model.py:512: ConvergenceWarning: Maximum Likelihood optimization failed to converge. Check mle_retvals\n",
      "  \"Check mle_retvals\", ConvergenceWarning)\n"
     ]
    },
    {
     "name": "stdout",
     "output_type": "stream",
     "text": [
      "ARIMA(2, 1, 3)x(0, 1, 1, 12)- AIC:3431.179598433813\n",
      " \n"
     ]
    },
    {
     "name": "stderr",
     "output_type": "stream",
     "text": [
      "/Library/Frameworks/Python.framework/Versions/3.7/lib/python3.7/site-packages/statsmodels/base/model.py:512: ConvergenceWarning: Maximum Likelihood optimization failed to converge. Check mle_retvals\n",
      "  \"Check mle_retvals\", ConvergenceWarning)\n"
     ]
    },
    {
     "name": "stdout",
     "output_type": "stream",
     "text": [
      "ARIMA(2, 1, 3)x(0, 1, 2, 12)- AIC:3124.1880351953346\n",
      " \n",
      "ARIMA(2, 1, 3)x(0, 1, 3, 12)- AIC:9205.34194878501\n",
      " \n"
     ]
    },
    {
     "name": "stderr",
     "output_type": "stream",
     "text": [
      "/Library/Frameworks/Python.framework/Versions/3.7/lib/python3.7/site-packages/statsmodels/base/model.py:512: ConvergenceWarning: Maximum Likelihood optimization failed to converge. Check mle_retvals\n",
      "  \"Check mle_retvals\", ConvergenceWarning)\n"
     ]
    },
    {
     "name": "stdout",
     "output_type": "stream",
     "text": [
      "ARIMA(2, 1, 3)x(1, 1, 0, 12)- AIC:3487.878054137821\n",
      " \n"
     ]
    },
    {
     "name": "stderr",
     "output_type": "stream",
     "text": [
      "/Library/Frameworks/Python.framework/Versions/3.7/lib/python3.7/site-packages/statsmodels/base/model.py:512: ConvergenceWarning: Maximum Likelihood optimization failed to converge. Check mle_retvals\n",
      "  \"Check mle_retvals\", ConvergenceWarning)\n"
     ]
    },
    {
     "name": "stdout",
     "output_type": "stream",
     "text": [
      "ARIMA(2, 1, 3)x(1, 1, 1, 12)- AIC:3431.573477324808\n",
      " \n"
     ]
    },
    {
     "name": "stderr",
     "output_type": "stream",
     "text": [
      "/Library/Frameworks/Python.framework/Versions/3.7/lib/python3.7/site-packages/statsmodels/base/model.py:512: ConvergenceWarning: Maximum Likelihood optimization failed to converge. Check mle_retvals\n",
      "  \"Check mle_retvals\", ConvergenceWarning)\n"
     ]
    },
    {
     "name": "stdout",
     "output_type": "stream",
     "text": [
      "ARIMA(2, 1, 3)x(1, 1, 2, 12)- AIC:3123.7304738775006\n",
      " \n",
      "ARIMA(2, 1, 3)x(1, 1, 3, 12)- AIC:9201.230295542146\n",
      " \n"
     ]
    },
    {
     "name": "stderr",
     "output_type": "stream",
     "text": [
      "/Library/Frameworks/Python.framework/Versions/3.7/lib/python3.7/site-packages/statsmodels/base/model.py:512: ConvergenceWarning: Maximum Likelihood optimization failed to converge. Check mle_retvals\n",
      "  \"Check mle_retvals\", ConvergenceWarning)\n"
     ]
    },
    {
     "name": "stdout",
     "output_type": "stream",
     "text": [
      "ARIMA(2, 1, 3)x(2, 1, 0, 12)- AIC:3172.9863643042822\n",
      " \n"
     ]
    },
    {
     "name": "stderr",
     "output_type": "stream",
     "text": [
      "/Library/Frameworks/Python.framework/Versions/3.7/lib/python3.7/site-packages/statsmodels/base/model.py:512: ConvergenceWarning: Maximum Likelihood optimization failed to converge. Check mle_retvals\n",
      "  \"Check mle_retvals\", ConvergenceWarning)\n"
     ]
    },
    {
     "name": "stdout",
     "output_type": "stream",
     "text": [
      "ARIMA(2, 1, 3)x(2, 1, 1, 12)- AIC:3172.197566240502\n",
      " \n"
     ]
    },
    {
     "name": "stderr",
     "output_type": "stream",
     "text": [
      "/Library/Frameworks/Python.framework/Versions/3.7/lib/python3.7/site-packages/statsmodels/base/model.py:512: ConvergenceWarning: Maximum Likelihood optimization failed to converge. Check mle_retvals\n",
      "  \"Check mle_retvals\", ConvergenceWarning)\n"
     ]
    },
    {
     "name": "stdout",
     "output_type": "stream",
     "text": [
      "ARIMA(2, 1, 3)x(2, 1, 2, 12)- AIC:3119.353012209395\n",
      " \n",
      "ARIMA(2, 1, 3)x(2, 1, 3, 12)- AIC:9178.128318953331\n",
      " \n"
     ]
    },
    {
     "name": "stderr",
     "output_type": "stream",
     "text": [
      "/Library/Frameworks/Python.framework/Versions/3.7/lib/python3.7/site-packages/statsmodels/base/model.py:512: ConvergenceWarning: Maximum Likelihood optimization failed to converge. Check mle_retvals\n",
      "  \"Check mle_retvals\", ConvergenceWarning)\n"
     ]
    },
    {
     "name": "stdout",
     "output_type": "stream",
     "text": [
      "ARIMA(2, 1, 3)x(3, 1, 0, 12)- AIC:2856.1554647060357\n",
      " \n"
     ]
    },
    {
     "name": "stderr",
     "output_type": "stream",
     "text": [
      "/Library/Frameworks/Python.framework/Versions/3.7/lib/python3.7/site-packages/statsmodels/base/model.py:512: ConvergenceWarning: Maximum Likelihood optimization failed to converge. Check mle_retvals\n",
      "  \"Check mle_retvals\", ConvergenceWarning)\n"
     ]
    },
    {
     "name": "stdout",
     "output_type": "stream",
     "text": [
      "ARIMA(2, 1, 3)x(3, 1, 1, 12)- AIC:2857.943758707058\n",
      " \n"
     ]
    },
    {
     "name": "stderr",
     "output_type": "stream",
     "text": [
      "/Library/Frameworks/Python.framework/Versions/3.7/lib/python3.7/site-packages/statsmodels/base/model.py:512: ConvergenceWarning: Maximum Likelihood optimization failed to converge. Check mle_retvals\n",
      "  \"Check mle_retvals\", ConvergenceWarning)\n"
     ]
    },
    {
     "name": "stdout",
     "output_type": "stream",
     "text": [
      "ARIMA(2, 1, 3)x(3, 1, 2, 12)- AIC:2860.4093176400747\n",
      " \n",
      "ARIMA(2, 1, 3)x(3, 1, 3, 12)- AIC:9183.717591050121\n",
      " \n"
     ]
    },
    {
     "name": "stderr",
     "output_type": "stream",
     "text": [
      "/Library/Frameworks/Python.framework/Versions/3.7/lib/python3.7/site-packages/statsmodels/base/model.py:512: ConvergenceWarning: Maximum Likelihood optimization failed to converge. Check mle_retvals\n",
      "  \"Check mle_retvals\", ConvergenceWarning)\n"
     ]
    },
    {
     "name": "stdout",
     "output_type": "stream",
     "text": [
      "ARIMA(3, 1, 0)x(0, 1, 0, 12)- AIC:3765.9250494632806\n",
      " \n"
     ]
    },
    {
     "name": "stderr",
     "output_type": "stream",
     "text": [
      "/Library/Frameworks/Python.framework/Versions/3.7/lib/python3.7/site-packages/statsmodels/base/model.py:512: ConvergenceWarning: Maximum Likelihood optimization failed to converge. Check mle_retvals\n",
      "  \"Check mle_retvals\", ConvergenceWarning)\n"
     ]
    },
    {
     "name": "stdout",
     "output_type": "stream",
     "text": [
      "ARIMA(3, 1, 0)x(0, 1, 1, 12)- AIC:3510.095794570822\n",
      " \n"
     ]
    },
    {
     "name": "stderr",
     "output_type": "stream",
     "text": [
      "/Library/Frameworks/Python.framework/Versions/3.7/lib/python3.7/site-packages/statsmodels/base/model.py:512: ConvergenceWarning: Maximum Likelihood optimization failed to converge. Check mle_retvals\n",
      "  \"Check mle_retvals\", ConvergenceWarning)\n"
     ]
    },
    {
     "name": "stdout",
     "output_type": "stream",
     "text": [
      "ARIMA(3, 1, 0)x(0, 1, 2, 12)- AIC:3198.847111237971\n",
      " \n",
      "ARIMA(3, 1, 0)x(0, 1, 3, 12)- AIC:9465.293509276475\n",
      " \n"
     ]
    },
    {
     "name": "stderr",
     "output_type": "stream",
     "text": [
      "/Library/Frameworks/Python.framework/Versions/3.7/lib/python3.7/site-packages/statsmodels/base/model.py:512: ConvergenceWarning: Maximum Likelihood optimization failed to converge. Check mle_retvals\n",
      "  \"Check mle_retvals\", ConvergenceWarning)\n"
     ]
    },
    {
     "name": "stdout",
     "output_type": "stream",
     "text": [
      "ARIMA(3, 1, 0)x(1, 1, 0, 12)- AIC:3458.4238804861593\n",
      " \n"
     ]
    },
    {
     "name": "stderr",
     "output_type": "stream",
     "text": [
      "/Library/Frameworks/Python.framework/Versions/3.7/lib/python3.7/site-packages/statsmodels/base/model.py:512: ConvergenceWarning: Maximum Likelihood optimization failed to converge. Check mle_retvals\n",
      "  \"Check mle_retvals\", ConvergenceWarning)\n"
     ]
    },
    {
     "name": "stdout",
     "output_type": "stream",
     "text": [
      "ARIMA(3, 1, 0)x(1, 1, 1, 12)- AIC:3460.6250500957913\n",
      " \n"
     ]
    },
    {
     "name": "stderr",
     "output_type": "stream",
     "text": [
      "/Library/Frameworks/Python.framework/Versions/3.7/lib/python3.7/site-packages/statsmodels/base/model.py:512: ConvergenceWarning: Maximum Likelihood optimization failed to converge. Check mle_retvals\n",
      "  \"Check mle_retvals\", ConvergenceWarning)\n"
     ]
    },
    {
     "name": "stdout",
     "output_type": "stream",
     "text": [
      "ARIMA(3, 1, 0)x(1, 1, 2, 12)- AIC:3200.9217724830705\n",
      " \n",
      "ARIMA(3, 1, 0)x(1, 1, 3, 12)- AIC:9461.00210152647\n",
      " \n"
     ]
    },
    {
     "name": "stderr",
     "output_type": "stream",
     "text": [
      "/Library/Frameworks/Python.framework/Versions/3.7/lib/python3.7/site-packages/statsmodels/base/model.py:512: ConvergenceWarning: Maximum Likelihood optimization failed to converge. Check mle_retvals\n",
      "  \"Check mle_retvals\", ConvergenceWarning)\n"
     ]
    },
    {
     "name": "stdout",
     "output_type": "stream",
     "text": [
      "ARIMA(3, 1, 0)x(2, 1, 0, 12)- AIC:3145.046295535653\n",
      " \n"
     ]
    },
    {
     "name": "stderr",
     "output_type": "stream",
     "text": [
      "/Library/Frameworks/Python.framework/Versions/3.7/lib/python3.7/site-packages/statsmodels/base/model.py:512: ConvergenceWarning: Maximum Likelihood optimization failed to converge. Check mle_retvals\n",
      "  \"Check mle_retvals\", ConvergenceWarning)\n"
     ]
    },
    {
     "name": "stdout",
     "output_type": "stream",
     "text": [
      "ARIMA(3, 1, 0)x(2, 1, 1, 12)- AIC:3146.364187258622\n",
      " \n"
     ]
    },
    {
     "name": "stderr",
     "output_type": "stream",
     "text": [
      "/Library/Frameworks/Python.framework/Versions/3.7/lib/python3.7/site-packages/statsmodels/base/model.py:512: ConvergenceWarning: Maximum Likelihood optimization failed to converge. Check mle_retvals\n",
      "  \"Check mle_retvals\", ConvergenceWarning)\n"
     ]
    },
    {
     "name": "stdout",
     "output_type": "stream",
     "text": [
      "ARIMA(3, 1, 0)x(2, 1, 2, 12)- AIC:3147.7518641656884\n",
      " \n",
      "ARIMA(3, 1, 0)x(2, 1, 3, 12)- AIC:9437.161831508567\n",
      " \n"
     ]
    },
    {
     "name": "stderr",
     "output_type": "stream",
     "text": [
      "/Library/Frameworks/Python.framework/Versions/3.7/lib/python3.7/site-packages/statsmodels/base/model.py:512: ConvergenceWarning: Maximum Likelihood optimization failed to converge. Check mle_retvals\n",
      "  \"Check mle_retvals\", ConvergenceWarning)\n"
     ]
    },
    {
     "name": "stdout",
     "output_type": "stream",
     "text": [
      "ARIMA(3, 1, 0)x(3, 1, 0, 12)- AIC:2832.4022313919954\n",
      " \n"
     ]
    },
    {
     "name": "stderr",
     "output_type": "stream",
     "text": [
      "/Library/Frameworks/Python.framework/Versions/3.7/lib/python3.7/site-packages/statsmodels/base/model.py:512: ConvergenceWarning: Maximum Likelihood optimization failed to converge. Check mle_retvals\n",
      "  \"Check mle_retvals\", ConvergenceWarning)\n"
     ]
    },
    {
     "name": "stdout",
     "output_type": "stream",
     "text": [
      "ARIMA(3, 1, 0)x(3, 1, 1, 12)- AIC:2834.613443846113\n",
      " \n"
     ]
    },
    {
     "name": "stderr",
     "output_type": "stream",
     "text": [
      "/Library/Frameworks/Python.framework/Versions/3.7/lib/python3.7/site-packages/statsmodels/base/model.py:512: ConvergenceWarning: Maximum Likelihood optimization failed to converge. Check mle_retvals\n",
      "  \"Check mle_retvals\", ConvergenceWarning)\n"
     ]
    },
    {
     "name": "stdout",
     "output_type": "stream",
     "text": [
      "ARIMA(3, 1, 0)x(3, 1, 2, 12)- AIC:2832.7471833916343\n",
      " \n",
      "ARIMA(3, 1, 0)x(3, 1, 3, 12)- AIC:9266.040352899701\n",
      " \n"
     ]
    },
    {
     "name": "stderr",
     "output_type": "stream",
     "text": [
      "/Library/Frameworks/Python.framework/Versions/3.7/lib/python3.7/site-packages/statsmodels/base/model.py:512: ConvergenceWarning: Maximum Likelihood optimization failed to converge. Check mle_retvals\n",
      "  \"Check mle_retvals\", ConvergenceWarning)\n"
     ]
    },
    {
     "name": "stdout",
     "output_type": "stream",
     "text": [
      "ARIMA(3, 1, 1)x(0, 1, 0, 12)- AIC:3767.3365228025023\n",
      " \n"
     ]
    },
    {
     "name": "stderr",
     "output_type": "stream",
     "text": [
      "/Library/Frameworks/Python.framework/Versions/3.7/lib/python3.7/site-packages/statsmodels/base/model.py:512: ConvergenceWarning: Maximum Likelihood optimization failed to converge. Check mle_retvals\n",
      "  \"Check mle_retvals\", ConvergenceWarning)\n"
     ]
    },
    {
     "name": "stdout",
     "output_type": "stream",
     "text": [
      "ARIMA(3, 1, 1)x(0, 1, 1, 12)- AIC:3486.56765363917\n",
      " \n"
     ]
    },
    {
     "name": "stderr",
     "output_type": "stream",
     "text": [
      "/Library/Frameworks/Python.framework/Versions/3.7/lib/python3.7/site-packages/statsmodels/base/model.py:512: ConvergenceWarning: Maximum Likelihood optimization failed to converge. Check mle_retvals\n",
      "  \"Check mle_retvals\", ConvergenceWarning)\n"
     ]
    },
    {
     "name": "stdout",
     "output_type": "stream",
     "text": [
      "ARIMA(3, 1, 1)x(0, 1, 2, 12)- AIC:3173.7912091230974\n",
      " \n",
      "ARIMA(3, 1, 1)x(0, 1, 3, 12)- AIC:9378.38704781535\n",
      " \n"
     ]
    },
    {
     "name": "stderr",
     "output_type": "stream",
     "text": [
      "/Library/Frameworks/Python.framework/Versions/3.7/lib/python3.7/site-packages/statsmodels/base/model.py:512: ConvergenceWarning: Maximum Likelihood optimization failed to converge. Check mle_retvals\n",
      "  \"Check mle_retvals\", ConvergenceWarning)\n"
     ]
    },
    {
     "name": "stdout",
     "output_type": "stream",
     "text": [
      "ARIMA(3, 1, 1)x(1, 1, 0, 12)- AIC:3460.236257021216\n",
      " \n"
     ]
    },
    {
     "name": "stderr",
     "output_type": "stream",
     "text": [
      "/Library/Frameworks/Python.framework/Versions/3.7/lib/python3.7/site-packages/statsmodels/base/model.py:512: ConvergenceWarning: Maximum Likelihood optimization failed to converge. Check mle_retvals\n",
      "  \"Check mle_retvals\", ConvergenceWarning)\n"
     ]
    },
    {
     "name": "stdout",
     "output_type": "stream",
     "text": [
      "ARIMA(3, 1, 1)x(1, 1, 1, 12)- AIC:3462.539724792771\n",
      " \n"
     ]
    },
    {
     "name": "stderr",
     "output_type": "stream",
     "text": [
      "/Library/Frameworks/Python.framework/Versions/3.7/lib/python3.7/site-packages/statsmodels/base/model.py:512: ConvergenceWarning: Maximum Likelihood optimization failed to converge. Check mle_retvals\n",
      "  \"Check mle_retvals\", ConvergenceWarning)\n"
     ]
    },
    {
     "name": "stdout",
     "output_type": "stream",
     "text": [
      "ARIMA(3, 1, 1)x(1, 1, 2, 12)- AIC:3173.3449795780216\n",
      " \n",
      "ARIMA(3, 1, 1)x(1, 1, 3, 12)- AIC:9374.155558234394\n",
      " \n"
     ]
    },
    {
     "name": "stderr",
     "output_type": "stream",
     "text": [
      "/Library/Frameworks/Python.framework/Versions/3.7/lib/python3.7/site-packages/statsmodels/base/model.py:512: ConvergenceWarning: Maximum Likelihood optimization failed to converge. Check mle_retvals\n",
      "  \"Check mle_retvals\", ConvergenceWarning)\n"
     ]
    },
    {
     "name": "stdout",
     "output_type": "stream",
     "text": [
      "ARIMA(3, 1, 1)x(2, 1, 0, 12)- AIC:3145.476406573019\n",
      " \n"
     ]
    },
    {
     "name": "stderr",
     "output_type": "stream",
     "text": [
      "/Library/Frameworks/Python.framework/Versions/3.7/lib/python3.7/site-packages/statsmodels/base/model.py:512: ConvergenceWarning: Maximum Likelihood optimization failed to converge. Check mle_retvals\n",
      "  \"Check mle_retvals\", ConvergenceWarning)\n"
     ]
    },
    {
     "name": "stdout",
     "output_type": "stream",
     "text": [
      "ARIMA(3, 1, 1)x(2, 1, 1, 12)- AIC:3147.496706279027\n",
      " \n"
     ]
    },
    {
     "name": "stderr",
     "output_type": "stream",
     "text": [
      "/Library/Frameworks/Python.framework/Versions/3.7/lib/python3.7/site-packages/statsmodels/base/model.py:512: ConvergenceWarning: Maximum Likelihood optimization failed to converge. Check mle_retvals\n",
      "  \"Check mle_retvals\", ConvergenceWarning)\n"
     ]
    },
    {
     "name": "stdout",
     "output_type": "stream",
     "text": [
      "ARIMA(3, 1, 1)x(2, 1, 2, 12)- AIC:3148.4087673462873\n",
      " \n",
      "ARIMA(3, 1, 1)x(2, 1, 3, 12)- AIC:9350.561386026184\n",
      " \n"
     ]
    },
    {
     "name": "stderr",
     "output_type": "stream",
     "text": [
      "/Library/Frameworks/Python.framework/Versions/3.7/lib/python3.7/site-packages/statsmodels/base/model.py:512: ConvergenceWarning: Maximum Likelihood optimization failed to converge. Check mle_retvals\n",
      "  \"Check mle_retvals\", ConvergenceWarning)\n"
     ]
    },
    {
     "name": "stdout",
     "output_type": "stream",
     "text": [
      "ARIMA(3, 1, 1)x(3, 1, 0, 12)- AIC:2828.414186880459\n",
      " \n"
     ]
    },
    {
     "name": "stderr",
     "output_type": "stream",
     "text": [
      "/Library/Frameworks/Python.framework/Versions/3.7/lib/python3.7/site-packages/statsmodels/base/model.py:512: ConvergenceWarning: Maximum Likelihood optimization failed to converge. Check mle_retvals\n",
      "  \"Check mle_retvals\", ConvergenceWarning)\n"
     ]
    },
    {
     "name": "stdout",
     "output_type": "stream",
     "text": [
      "ARIMA(3, 1, 1)x(3, 1, 1, 12)- AIC:2830.2060593457054\n",
      " \n"
     ]
    },
    {
     "name": "stderr",
     "output_type": "stream",
     "text": [
      "/Library/Frameworks/Python.framework/Versions/3.7/lib/python3.7/site-packages/statsmodels/base/model.py:512: ConvergenceWarning: Maximum Likelihood optimization failed to converge. Check mle_retvals\n",
      "  \"Check mle_retvals\", ConvergenceWarning)\n"
     ]
    },
    {
     "name": "stdout",
     "output_type": "stream",
     "text": [
      "ARIMA(3, 1, 1)x(3, 1, 2, 12)- AIC:2835.098731973707\n",
      " \n",
      "ARIMA(3, 1, 1)x(3, 1, 3, 12)- AIC:9267.815064507153\n",
      " \n"
     ]
    },
    {
     "name": "stderr",
     "output_type": "stream",
     "text": [
      "/Library/Frameworks/Python.framework/Versions/3.7/lib/python3.7/site-packages/statsmodels/base/model.py:512: ConvergenceWarning: Maximum Likelihood optimization failed to converge. Check mle_retvals\n",
      "  \"Check mle_retvals\", ConvergenceWarning)\n"
     ]
    },
    {
     "name": "stdout",
     "output_type": "stream",
     "text": [
      "ARIMA(3, 1, 2)x(0, 1, 0, 12)- AIC:3769.023390563976\n",
      " \n"
     ]
    },
    {
     "name": "stderr",
     "output_type": "stream",
     "text": [
      "/Library/Frameworks/Python.framework/Versions/3.7/lib/python3.7/site-packages/statsmodels/base/model.py:512: ConvergenceWarning: Maximum Likelihood optimization failed to converge. Check mle_retvals\n",
      "  \"Check mle_retvals\", ConvergenceWarning)\n"
     ]
    },
    {
     "name": "stdout",
     "output_type": "stream",
     "text": [
      "ARIMA(3, 1, 2)x(0, 1, 1, 12)- AIC:3461.5996041365484\n",
      " \n"
     ]
    },
    {
     "name": "stderr",
     "output_type": "stream",
     "text": [
      "/Library/Frameworks/Python.framework/Versions/3.7/lib/python3.7/site-packages/statsmodels/base/model.py:512: ConvergenceWarning: Maximum Likelihood optimization failed to converge. Check mle_retvals\n",
      "  \"Check mle_retvals\", ConvergenceWarning)\n"
     ]
    },
    {
     "name": "stdout",
     "output_type": "stream",
     "text": [
      "ARIMA(3, 1, 2)x(0, 1, 2, 12)- AIC:3150.275682299162\n",
      " \n",
      "ARIMA(3, 1, 2)x(0, 1, 3, 12)- AIC:9291.405303106638\n",
      " \n"
     ]
    },
    {
     "name": "stderr",
     "output_type": "stream",
     "text": [
      "/Library/Frameworks/Python.framework/Versions/3.7/lib/python3.7/site-packages/statsmodels/base/model.py:512: ConvergenceWarning: Maximum Likelihood optimization failed to converge. Check mle_retvals\n",
      "  \"Check mle_retvals\", ConvergenceWarning)\n"
     ]
    },
    {
     "name": "stdout",
     "output_type": "stream",
     "text": [
      "ARIMA(3, 1, 2)x(1, 1, 0, 12)- AIC:3461.4927708109053\n",
      " \n"
     ]
    },
    {
     "name": "stderr",
     "output_type": "stream",
     "text": [
      "/Library/Frameworks/Python.framework/Versions/3.7/lib/python3.7/site-packages/statsmodels/base/model.py:512: ConvergenceWarning: Maximum Likelihood optimization failed to converge. Check mle_retvals\n",
      "  \"Check mle_retvals\", ConvergenceWarning)\n"
     ]
    },
    {
     "name": "stdout",
     "output_type": "stream",
     "text": [
      "ARIMA(3, 1, 2)x(1, 1, 1, 12)- AIC:3463.5552944125984\n",
      " \n"
     ]
    },
    {
     "name": "stderr",
     "output_type": "stream",
     "text": [
      "/Library/Frameworks/Python.framework/Versions/3.7/lib/python3.7/site-packages/statsmodels/base/model.py:512: ConvergenceWarning: Maximum Likelihood optimization failed to converge. Check mle_retvals\n",
      "  \"Check mle_retvals\", ConvergenceWarning)\n"
     ]
    },
    {
     "name": "stdout",
     "output_type": "stream",
     "text": [
      "ARIMA(3, 1, 2)x(1, 1, 2, 12)- AIC:3149.2765546900914\n",
      " \n",
      "ARIMA(3, 1, 2)x(1, 1, 3, 12)- AIC:9287.233731694732\n",
      " \n"
     ]
    },
    {
     "name": "stderr",
     "output_type": "stream",
     "text": [
      "/Library/Frameworks/Python.framework/Versions/3.7/lib/python3.7/site-packages/statsmodels/base/model.py:512: ConvergenceWarning: Maximum Likelihood optimization failed to converge. Check mle_retvals\n",
      "  \"Check mle_retvals\", ConvergenceWarning)\n"
     ]
    },
    {
     "name": "stdout",
     "output_type": "stream",
     "text": [
      "ARIMA(3, 1, 2)x(2, 1, 0, 12)- AIC:3148.277141503935\n",
      " \n"
     ]
    },
    {
     "name": "stderr",
     "output_type": "stream",
     "text": [
      "/Library/Frameworks/Python.framework/Versions/3.7/lib/python3.7/site-packages/statsmodels/base/model.py:512: ConvergenceWarning: Maximum Likelihood optimization failed to converge. Check mle_retvals\n",
      "  \"Check mle_retvals\", ConvergenceWarning)\n"
     ]
    },
    {
     "name": "stdout",
     "output_type": "stream",
     "text": [
      "ARIMA(3, 1, 2)x(2, 1, 1, 12)- AIC:3150.81332983816\n",
      " \n"
     ]
    },
    {
     "name": "stderr",
     "output_type": "stream",
     "text": [
      "/Library/Frameworks/Python.framework/Versions/3.7/lib/python3.7/site-packages/statsmodels/base/model.py:512: ConvergenceWarning: Maximum Likelihood optimization failed to converge. Check mle_retvals\n",
      "  \"Check mle_retvals\", ConvergenceWarning)\n"
     ]
    },
    {
     "name": "stdout",
     "output_type": "stream",
     "text": [
      "ARIMA(3, 1, 2)x(2, 1, 2, 12)- AIC:3151.0112447373494\n",
      " \n",
      "ARIMA(3, 1, 2)x(2, 1, 3, 12)- AIC:9263.885657296212\n",
      " \n"
     ]
    },
    {
     "name": "stderr",
     "output_type": "stream",
     "text": [
      "/Library/Frameworks/Python.framework/Versions/3.7/lib/python3.7/site-packages/statsmodels/base/model.py:512: ConvergenceWarning: Maximum Likelihood optimization failed to converge. Check mle_retvals\n",
      "  \"Check mle_retvals\", ConvergenceWarning)\n"
     ]
    },
    {
     "name": "stdout",
     "output_type": "stream",
     "text": [
      "ARIMA(3, 1, 2)x(3, 1, 0, 12)- AIC:2830.2422951551343\n",
      " \n"
     ]
    },
    {
     "name": "stderr",
     "output_type": "stream",
     "text": [
      "/Library/Frameworks/Python.framework/Versions/3.7/lib/python3.7/site-packages/statsmodels/base/model.py:512: ConvergenceWarning: Maximum Likelihood optimization failed to converge. Check mle_retvals\n",
      "  \"Check mle_retvals\", ConvergenceWarning)\n"
     ]
    },
    {
     "name": "stdout",
     "output_type": "stream",
     "text": [
      "ARIMA(3, 1, 2)x(3, 1, 1, 12)- AIC:2831.935817441816\n",
      " \n"
     ]
    },
    {
     "name": "stderr",
     "output_type": "stream",
     "text": [
      "/Library/Frameworks/Python.framework/Versions/3.7/lib/python3.7/site-packages/statsmodels/base/model.py:512: ConvergenceWarning: Maximum Likelihood optimization failed to converge. Check mle_retvals\n",
      "  \"Check mle_retvals\", ConvergenceWarning)\n"
     ]
    },
    {
     "name": "stdout",
     "output_type": "stream",
     "text": [
      "ARIMA(3, 1, 2)x(3, 1, 2, 12)- AIC:2835.157680203973\n",
      " \n",
      "ARIMA(3, 1, 2)x(3, 1, 3, 12)- AIC:9269.510118335127\n",
      " \n"
     ]
    },
    {
     "name": "stderr",
     "output_type": "stream",
     "text": [
      "/Library/Frameworks/Python.framework/Versions/3.7/lib/python3.7/site-packages/statsmodels/base/model.py:512: ConvergenceWarning: Maximum Likelihood optimization failed to converge. Check mle_retvals\n",
      "  \"Check mle_retvals\", ConvergenceWarning)\n"
     ]
    },
    {
     "name": "stdout",
     "output_type": "stream",
     "text": [
      "ARIMA(3, 1, 3)x(0, 1, 0, 12)- AIC:3743.0563895941978\n",
      " \n"
     ]
    },
    {
     "name": "stderr",
     "output_type": "stream",
     "text": [
      "/Library/Frameworks/Python.framework/Versions/3.7/lib/python3.7/site-packages/statsmodels/base/model.py:512: ConvergenceWarning: Maximum Likelihood optimization failed to converge. Check mle_retvals\n",
      "  \"Check mle_retvals\", ConvergenceWarning)\n"
     ]
    },
    {
     "name": "stdout",
     "output_type": "stream",
     "text": [
      "ARIMA(3, 1, 3)x(0, 1, 1, 12)- AIC:3431.2652808009157\n",
      " \n"
     ]
    },
    {
     "name": "stderr",
     "output_type": "stream",
     "text": [
      "/Library/Frameworks/Python.framework/Versions/3.7/lib/python3.7/site-packages/statsmodels/base/model.py:512: ConvergenceWarning: Maximum Likelihood optimization failed to converge. Check mle_retvals\n",
      "  \"Check mle_retvals\", ConvergenceWarning)\n"
     ]
    },
    {
     "name": "stdout",
     "output_type": "stream",
     "text": [
      "ARIMA(3, 1, 3)x(0, 1, 2, 12)- AIC:3123.1981505437675\n",
      " \n",
      "ARIMA(3, 1, 3)x(0, 1, 3, 12)- AIC:9207.027703491223\n",
      " \n"
     ]
    },
    {
     "name": "stderr",
     "output_type": "stream",
     "text": [
      "/Library/Frameworks/Python.framework/Versions/3.7/lib/python3.7/site-packages/statsmodels/base/model.py:512: ConvergenceWarning: Maximum Likelihood optimization failed to converge. Check mle_retvals\n",
      "  \"Check mle_retvals\", ConvergenceWarning)\n"
     ]
    },
    {
     "name": "stdout",
     "output_type": "stream",
     "text": [
      "ARIMA(3, 1, 3)x(1, 1, 0, 12)- AIC:3457.8312571228776\n",
      " \n"
     ]
    },
    {
     "name": "stderr",
     "output_type": "stream",
     "text": [
      "/Library/Frameworks/Python.framework/Versions/3.7/lib/python3.7/site-packages/statsmodels/base/model.py:512: ConvergenceWarning: Maximum Likelihood optimization failed to converge. Check mle_retvals\n",
      "  \"Check mle_retvals\", ConvergenceWarning)\n"
     ]
    },
    {
     "name": "stdout",
     "output_type": "stream",
     "text": [
      "ARIMA(3, 1, 3)x(1, 1, 1, 12)- AIC:3433.311211200588\n",
      " \n"
     ]
    },
    {
     "name": "stderr",
     "output_type": "stream",
     "text": [
      "/Library/Frameworks/Python.framework/Versions/3.7/lib/python3.7/site-packages/statsmodels/base/model.py:512: ConvergenceWarning: Maximum Likelihood optimization failed to converge. Check mle_retvals\n",
      "  \"Check mle_retvals\", ConvergenceWarning)\n"
     ]
    },
    {
     "name": "stdout",
     "output_type": "stream",
     "text": [
      "ARIMA(3, 1, 3)x(1, 1, 2, 12)- AIC:3125.147809655914\n",
      " \n",
      "ARIMA(3, 1, 3)x(1, 1, 3, 12)- AIC:9202.91605024836\n",
      " \n"
     ]
    },
    {
     "name": "stderr",
     "output_type": "stream",
     "text": [
      "/Library/Frameworks/Python.framework/Versions/3.7/lib/python3.7/site-packages/statsmodels/base/model.py:512: ConvergenceWarning: Maximum Likelihood optimization failed to converge. Check mle_retvals\n",
      "  \"Check mle_retvals\", ConvergenceWarning)\n"
     ]
    },
    {
     "name": "stdout",
     "output_type": "stream",
     "text": [
      "ARIMA(3, 1, 3)x(2, 1, 0, 12)- AIC:3148.5496970240015\n",
      " \n"
     ]
    },
    {
     "name": "stderr",
     "output_type": "stream",
     "text": [
      "/Library/Frameworks/Python.framework/Versions/3.7/lib/python3.7/site-packages/statsmodels/base/model.py:512: ConvergenceWarning: Maximum Likelihood optimization failed to converge. Check mle_retvals\n",
      "  \"Check mle_retvals\", ConvergenceWarning)\n"
     ]
    },
    {
     "name": "stdout",
     "output_type": "stream",
     "text": [
      "ARIMA(3, 1, 3)x(2, 1, 1, 12)- AIC:3150.332905380856\n",
      " \n"
     ]
    },
    {
     "name": "stderr",
     "output_type": "stream",
     "text": [
      "/Library/Frameworks/Python.framework/Versions/3.7/lib/python3.7/site-packages/statsmodels/base/model.py:512: ConvergenceWarning: Maximum Likelihood optimization failed to converge. Check mle_retvals\n",
      "  \"Check mle_retvals\", ConvergenceWarning)\n"
     ]
    },
    {
     "name": "stdout",
     "output_type": "stream",
     "text": [
      "ARIMA(3, 1, 3)x(2, 1, 2, 12)- AIC:3120.0643491106716\n",
      " \n",
      "ARIMA(3, 1, 3)x(2, 1, 3, 12)- AIC:9179.814073659547\n",
      " \n"
     ]
    },
    {
     "name": "stderr",
     "output_type": "stream",
     "text": [
      "/Library/Frameworks/Python.framework/Versions/3.7/lib/python3.7/site-packages/statsmodels/base/model.py:512: ConvergenceWarning: Maximum Likelihood optimization failed to converge. Check mle_retvals\n",
      "  \"Check mle_retvals\", ConvergenceWarning)\n"
     ]
    },
    {
     "name": "stdout",
     "output_type": "stream",
     "text": [
      "ARIMA(3, 1, 3)x(3, 1, 0, 12)- AIC:2832.449793333622\n",
      " \n"
     ]
    },
    {
     "name": "stderr",
     "output_type": "stream",
     "text": [
      "/Library/Frameworks/Python.framework/Versions/3.7/lib/python3.7/site-packages/statsmodels/base/model.py:512: ConvergenceWarning: Maximum Likelihood optimization failed to converge. Check mle_retvals\n",
      "  \"Check mle_retvals\", ConvergenceWarning)\n"
     ]
    },
    {
     "name": "stdout",
     "output_type": "stream",
     "text": [
      "ARIMA(3, 1, 3)x(3, 1, 1, 12)- AIC:2833.2168778261635\n",
      " \n"
     ]
    },
    {
     "name": "stderr",
     "output_type": "stream",
     "text": [
      "/Library/Frameworks/Python.framework/Versions/3.7/lib/python3.7/site-packages/statsmodels/base/model.py:512: ConvergenceWarning: Maximum Likelihood optimization failed to converge. Check mle_retvals\n",
      "  \"Check mle_retvals\", ConvergenceWarning)\n"
     ]
    },
    {
     "name": "stdout",
     "output_type": "stream",
     "text": [
      "ARIMA(3, 1, 3)x(3, 1, 2, 12)- AIC:2837.3206869155783\n",
      " \n",
      "ARIMA(3, 1, 3)x(3, 1, 3, 12)- AIC:9185.403345756335\n",
      " \n"
     ]
    }
   ],
   "source": [
    "p = range(0,4)\n",
    "d = range(1,2)\n",
    "q = range(0,4)\n",
    "pdq = list(itertools.product(p, d, q))\n",
    "seasonal_pdq = [(x[0], x[1], x[2], 12) for x in list(itertools.product(p, d, q))]\n",
    "\n",
    "df = pd.DataFrame()\n",
    "for param in pdq:\n",
    "    for param_seasonal in seasonal_pdq:\n",
    "        try:\n",
    "            mod = sm.tsa.statespace.SARIMAX(sales['Sum of Sales'],\n",
    "                                            exog = exog,\n",
    "                                            order=param,\n",
    "                                            seasonal_order=param_seasonal,\n",
    "                                            enforce_stationarity=False,\n",
    "                                            enforce_invertibility=False)\n",
    "            results = mod.fit()\n",
    "            print('ARIMA{}x{}- AIC:{}'.format(param, param_seasonal, results.aic))\n",
    "\n",
    "            combo = [(param,param_seasonal,results.aic)]\n",
    "            df = df.append(combo)\n",
    "            print(\" \")\n",
    "        except:\n",
    "            continue\n",
    "df.columns = ['param','param_seasonal', 'AIC']"
   ]
  },
  {
   "cell_type": "code",
   "execution_count": 10,
   "metadata": {
    "colab": {
     "base_uri": "https://localhost:8080/",
     "height": 419
    },
    "id": "HiZqRoLuLYDQ",
    "outputId": "526d0291-4b4b-4486-8587-579fe7d0ea39"
   },
   "outputs": [
    {
     "data": {
      "text/html": [
       "<div>\n",
       "<style scoped>\n",
       "    .dataframe tbody tr th:only-of-type {\n",
       "        vertical-align: middle;\n",
       "    }\n",
       "\n",
       "    .dataframe tbody tr th {\n",
       "        vertical-align: top;\n",
       "    }\n",
       "\n",
       "    .dataframe thead th {\n",
       "        text-align: right;\n",
       "    }\n",
       "</style>\n",
       "<table border=\"1\" class=\"dataframe\">\n",
       "  <thead>\n",
       "    <tr style=\"text-align: right;\">\n",
       "      <th></th>\n",
       "      <th>param</th>\n",
       "      <th>param_seasonal</th>\n",
       "      <th>AIC</th>\n",
       "    </tr>\n",
       "  </thead>\n",
       "  <tbody>\n",
       "    <tr>\n",
       "      <td>0</td>\n",
       "      <td>(3, 1, 1)</td>\n",
       "      <td>(3, 1, 0, 12)</td>\n",
       "      <td>2828.414187</td>\n",
       "    </tr>\n",
       "    <tr>\n",
       "      <td>1</td>\n",
       "      <td>(3, 1, 1)</td>\n",
       "      <td>(3, 1, 1, 12)</td>\n",
       "      <td>2830.206059</td>\n",
       "    </tr>\n",
       "    <tr>\n",
       "      <td>2</td>\n",
       "      <td>(3, 1, 2)</td>\n",
       "      <td>(3, 1, 0, 12)</td>\n",
       "      <td>2830.242295</td>\n",
       "    </tr>\n",
       "    <tr>\n",
       "      <td>3</td>\n",
       "      <td>(3, 1, 2)</td>\n",
       "      <td>(3, 1, 1, 12)</td>\n",
       "      <td>2831.935817</td>\n",
       "    </tr>\n",
       "    <tr>\n",
       "      <td>4</td>\n",
       "      <td>(3, 1, 0)</td>\n",
       "      <td>(3, 1, 0, 12)</td>\n",
       "      <td>2832.402231</td>\n",
       "    </tr>\n",
       "    <tr>\n",
       "      <td>...</td>\n",
       "      <td>...</td>\n",
       "      <td>...</td>\n",
       "      <td>...</td>\n",
       "    </tr>\n",
       "    <tr>\n",
       "      <td>251</td>\n",
       "      <td>(1, 1, 0)</td>\n",
       "      <td>(0, 1, 3, 12)</td>\n",
       "      <td>9462.998512</td>\n",
       "    </tr>\n",
       "    <tr>\n",
       "      <td>252</td>\n",
       "      <td>(2, 1, 0)</td>\n",
       "      <td>(0, 1, 3, 12)</td>\n",
       "      <td>9463.360103</td>\n",
       "    </tr>\n",
       "    <tr>\n",
       "      <td>253</td>\n",
       "      <td>(3, 1, 0)</td>\n",
       "      <td>(0, 1, 3, 12)</td>\n",
       "      <td>9465.293509</td>\n",
       "    </tr>\n",
       "    <tr>\n",
       "      <td>254</td>\n",
       "      <td>(0, 1, 0)</td>\n",
       "      <td>(1, 1, 3, 12)</td>\n",
       "      <td>9468.395703</td>\n",
       "    </tr>\n",
       "    <tr>\n",
       "      <td>255</td>\n",
       "      <td>(0, 1, 0)</td>\n",
       "      <td>(0, 1, 3, 12)</td>\n",
       "      <td>9472.093003</td>\n",
       "    </tr>\n",
       "  </tbody>\n",
       "</table>\n",
       "<p>256 rows × 3 columns</p>\n",
       "</div>"
      ],
      "text/plain": [
       "         param param_seasonal          AIC\n",
       "0    (3, 1, 1)  (3, 1, 0, 12)  2828.414187\n",
       "1    (3, 1, 1)  (3, 1, 1, 12)  2830.206059\n",
       "2    (3, 1, 2)  (3, 1, 0, 12)  2830.242295\n",
       "3    (3, 1, 2)  (3, 1, 1, 12)  2831.935817\n",
       "4    (3, 1, 0)  (3, 1, 0, 12)  2832.402231\n",
       "..         ...            ...          ...\n",
       "251  (1, 1, 0)  (0, 1, 3, 12)  9462.998512\n",
       "252  (2, 1, 0)  (0, 1, 3, 12)  9463.360103\n",
       "253  (3, 1, 0)  (0, 1, 3, 12)  9465.293509\n",
       "254  (0, 1, 0)  (1, 1, 3, 12)  9468.395703\n",
       "255  (0, 1, 0)  (0, 1, 3, 12)  9472.093003\n",
       "\n",
       "[256 rows x 3 columns]"
      ]
     },
     "execution_count": 10,
     "metadata": {},
     "output_type": "execute_result"
    }
   ],
   "source": [
    "df = df.sort_values('AIC').reset_index(drop= True)\n",
    "df"
   ]
  },
  {
   "cell_type": "markdown",
   "metadata": {
    "id": "iNNhWYXHLhAL"
   },
   "source": [
    "The above output suggests that SARIMAX(3,1,1)(3,1,0,12) yields the lowest AIC value of 2828.563996. Therefore we should consider this to be the optimal option."
   ]
  },
  {
   "cell_type": "code",
   "execution_count": 11,
   "metadata": {
    "colab": {
     "base_uri": "https://localhost:8080/"
    },
    "id": "kOTO2gV8Lyrv",
    "outputId": "40c519c8-d977-4807-8df3-bf530a698661"
   },
   "outputs": [
    {
     "name": "stderr",
     "output_type": "stream",
     "text": [
      "/Library/Frameworks/Python.framework/Versions/3.7/lib/python3.7/site-packages/statsmodels/base/model.py:512: ConvergenceWarning: Maximum Likelihood optimization failed to converge. Check mle_retvals\n",
      "  \"Check mle_retvals\", ConvergenceWarning)\n"
     ]
    },
    {
     "name": "stdout",
     "output_type": "stream",
     "text": [
      "                                 Statespace Model Results                                 \n",
      "==========================================================================================\n",
      "Dep. Variable:                       Sum of Sales   No. Observations:                  155\n",
      "Model:             SARIMAX(3, 1, 1)x(3, 1, 0, 12)   Log Likelihood               -1848.107\n",
      "Date:                            Wed, 10 Mar 2021   AIC                           3852.214\n",
      "Time:                                    15:52:21   BIC                           4082.768\n",
      "Sample:                                         0   HQIC                          3945.902\n",
      "                                            - 155                                         \n",
      "Covariance Type:                              opg                                         \n",
      "==========================================================================================================================================================================\n",
      "                                                                                                             coef    std err          z      P>|z|      [0.025      0.975]\n",
      "--------------------------------------------------------------------------------------------------------------------------------------------------------------------------\n",
      "FTR Truck Loadings (000s, SA)_freight_m_trucking                                                         -11.8752     43.015     -0.276      0.782     -96.183      72.433\n",
      "FTR Active Truck Utilization (%, SA)_freight_m_trucking                                                -2.537e+04   2.51e+04     -1.011      0.312   -7.45e+04    2.38e+04\n",
      "Reefer Trailer Loadings (000s, SA)_freight_m_trucking                                                   -232.8256    615.982     -0.378      0.705   -1440.129     974.478\n",
      "Tank Trailer Loadings (000s, SA)_freight_m_trucking                                                      -10.3110    198.007     -0.052      0.958    -398.397     377.775\n",
      "Chemicals & Allied Products (000s, SA)_freight_m_trucking                                                971.3858    859.568      1.130      0.258    -713.336    2656.107\n",
      "Spot TL Rates (w/o FSC)_rates_m_trucking                                                                1518.7616   6224.398      0.244      0.807   -1.07e+04    1.37e+04\n",
      "Total LTL (w/o FSC)_rates_m_trucking                                                                    2.625e+04   6.74e+04      0.390      0.697   -1.06e+05    1.58e+05\n",
      "Total LTL (w/ FSC)_rates_m_trucking                                                                    -1.924e+04   6.44e+04     -0.299      0.765   -1.46e+05    1.07e+05\n",
      "Contract TL Tank Rates (w/o FSC)_rates_m_trucking                                                      -1849.1830      1e+04     -0.185      0.853   -2.15e+04    1.78e+04\n",
      "OEM Net Orders (U.S. / CAN, units)_indicators_m_trucking                                                   1.4876      3.961      0.376      0.707      -6.276       9.252\n",
      "New Truck Lead Time (N.A. Backlog/Build Ratio, months)_indicators_m_trucking                           -5.124e+04    2.4e+04     -2.135      0.033   -9.83e+04   -4199.367\n",
      "B50001_indicators_m_trucking                                                                            3.196e+04   4.05e+04      0.789      0.430   -4.74e+04    1.11e+05\n",
      "GMFN_indicators_m_trucking                                                                             -7648.1713   7.22e+04     -0.106      0.916   -1.49e+05    1.34e+05\n",
      "G325_indicators_m_trucking                                                                             -3.427e+04   4.72e+04     -0.726      0.468   -1.27e+05    5.82e+04\n",
      "G332_indicators_m_trucking                                                                             -3.249e+04   2.87e+04     -1.131      0.258   -8.88e+04    2.38e+04\n",
      "ISM_indicators_m_trucking                                                                               1.693e+04   1.54e+04      1.097      0.273   -1.33e+04    4.72e+04\n",
      "PORTEU_indicators_m_trucking                                                                              -0.1119      0.254     -0.441      0.659      -0.609       0.385\n",
      "MANEMP_indicators_m_trucking                                                                             802.3029    958.866      0.837      0.403   -1077.040    2681.645\n",
      "USTRADE_indicators_m_trucking                                                                           -597.9871    566.861     -1.055      0.291   -1709.014     513.039\n",
      "LEI_indicators_m_trucking                                                                              -2.514e+04   3.85e+04     -0.653      0.514   -1.01e+05    5.03e+04\n",
      "SPREAD_indicators_m_trucking                                                                            8.784e+04   2.02e+05      0.435      0.664   -3.08e+05    4.84e+05\n",
      "D/GAL_indicators_m_trucking                                                                            -2.023e+05   2.58e+05     -0.786      0.432   -7.07e+05    3.02e+05\n",
      "D/STOCK_indicators_m_trucking                                                                             -2.6348      7.574     -0.348      0.728     -17.479      12.210\n",
      "Change in Payroll Employment (000's)_driver_indicators_m_trucking                                        -48.6548     39.561     -1.230      0.219    -126.192      28.883\n",
      "Change in Truck Emp. (000's)_driver_indicators_m_trucking                                              -3671.2638   3908.302     -0.939      0.348   -1.13e+04    3988.868\n",
      "LABORINDEX_driver_indicators_m_trucking                                                                -8.136e+04   7.09e+04     -1.147      0.251    -2.2e+05    5.77e+04\n",
      "Total Class 8, North America_Factory Shipments (Ward's)_indicators_m_trucking_trailer                     26.5008     27.296      0.971      0.332     -26.999      80.000\n",
      "Total Class 8, North America_Factory Shipments (Ward's)_M/M % Change_indicators_m_trucking_trailer       142.6321   1349.311      0.106      0.916   -2501.970    2787.234\n",
      "Total Class 8, North America_Factory Shipments (Ward's)_Y/Y % Change_indicators_m_trucking_trailer     -1519.0004   2113.548     -0.719      0.472   -5661.478    2623.477\n",
      "Total Class 8, North America_Retail Sales (Ward's)_indicators_m_trucking_trailer                         -11.2386     20.263     -0.555      0.579     -50.954      28.476\n",
      "Total Class 8, North America_Retail Sales (Ward's)_M/M % Change_indicators_m_trucking_trailer           -257.7769   2537.787     -0.102      0.919   -5231.748    4716.195\n",
      "Total Class 8, North America_Inventories (Ward's)_M/M % Change_indicators_m_trucking_trailer           -3671.1759   8216.374     -0.447      0.655   -1.98e+04    1.24e+04\n",
      "Total Class 8, North America_Inventories (Ward's)_Y/Y % Change_indicators_m_trucking_trailer           -3782.6308   3328.073     -1.137      0.256   -1.03e+04    2740.272\n",
      "Total Trailers, U.S._Production_M/M % Change_indicators_m_trucking_trailer                             -1533.5444   2442.408     -0.628      0.530   -6320.575    3253.487\n",
      "Total Trailers, U.S._Production_Y/Y % Change_indicators_m_trucking_trailer                              -866.6337   1813.121     -0.478      0.633   -4420.285    2687.018\n",
      "Total Classes 4-7, North America_Factory Shipments (Ward's)_indicators_m_trucking_trailer                -21.8241     24.792     -0.880      0.379     -70.416      26.768\n",
      "Total Classes 4-7, North America_Factory Shipments (Ward's)_M/M % Change_indicators_m_trucking_trailer  -530.0368   1334.744     -0.397      0.691   -3146.086    2086.013\n",
      "Total Classes 4-7, North America_Factory Shipments (Ward's)_Y/Y % Change_indicators_m_trucking_trailer    87.0130   1881.658      0.046      0.963   -3600.969    3774.995\n",
      "Total Classes 4-7, North America_Retail Sales (Ward's)_M/M % Change_indicators_m_trucking_trailer       -751.9293   2727.656     -0.276      0.783   -6098.037    4594.179\n",
      "Total Classes 4-7, North America_Retail Sales (Ward's)_Y/Y % Change_indicators_m_trucking_trailer       1386.5098   2934.284      0.473      0.637   -4364.581    7137.600\n",
      "Total Classes 4-7, North America_Inventories (Ward's)_M/M % Change_indicators_m_trucking_trailer        2668.7510   4231.855      0.631      0.528   -5625.533     1.1e+04\n",
      "Total Classes 4-7, North America_Inventories (Ward's)_Y/Y % Change_indicators_m_trucking_trailer         654.7261   3276.723      0.200      0.842   -5767.532    7076.985\n",
      "Class 4, North America_Factory Shipments (Ward's)_indicators_m_trucking_trailer                           22.1286     78.828      0.281      0.779    -132.372     176.629\n",
      "Class 4, North America_Retail Sales (Ward's)_indicators_m_trucking_trailer                                27.8831     86.142      0.324      0.746    -140.953     196.719\n",
      "Class 4, North America_Inventories (Ward's)_indicators_m_trucking_trailer                                -27.2504     25.701     -1.060      0.289     -77.624      23.123\n",
      "Class 6-7 Bus, North America_Factory Shipments (Ward's)_indicators_m_trucking_trailer                     39.1476     68.791      0.569      0.569     -95.680     173.975\n",
      "FTR Truck Loadings_M/M % Change_freight_m_trucking_trailer                                              5959.2508   1.54e+04      0.388      0.698   -2.41e+04    3.61e+04\n",
      "FTR Truck Loadings_Y/Y % Change_freight_m_trucking_trailer                                             -3244.9242   1.63e+04     -0.199      0.842   -3.52e+04    2.87e+04\n",
      "FTR Rail Intermodal Loadings_M/M % Change_freight_m_trucking_trailer                                    -609.1753   8256.439     -0.074      0.941   -1.68e+04    1.56e+04\n",
      "FTR Rail Intermodal Loadings_Y/Y % Change_freight_m_trucking_trailer                                     880.7735   5177.949      0.170      0.865   -9267.821     1.1e+04\n",
      "FTR Rail Carloadings (carload + intermodal) (000s, SA)_freight_m_trucking_trailer                       -426.5464    491.090     -0.869      0.385   -1389.065     535.972\n",
      "FTR Rail Carloadings_M/M % Change_freight_m_trucking_trailer                                            -320.3409   8862.329     -0.036      0.971   -1.77e+04     1.7e+04\n",
      "FTR Rail Carloadings_Y/Y % Change_freight_m_trucking_trailer                                            2573.1755   7666.695      0.336      0.737   -1.25e+04    1.76e+04\n",
      "FTR Class 8 Truck Utilization (%, SA)_freight_m_trucking_trailer                                        3.259e+04   2.34e+04      1.394      0.163   -1.32e+04    7.84e+04\n",
      "BUILD FOR_Total_Trailer                                                                                   19.6862     27.240      0.723      0.470     -33.702      73.075\n",
      "BUILD FOR_Flatbed                                                                                       -123.5790    150.070     -0.823      0.410    -417.710     170.552\n",
      "BUILD FOR_Liquid_Tank                                                                                    526.1255    478.253      1.100      0.271    -411.232    1463.483\n",
      "BUILD FOR_Dry_Tank                                                                                       365.1310    595.920      0.613      0.540    -802.850    1533.112\n",
      "BUILD FOR_Dump                                                                                          -120.8732    472.788     -0.256      0.798   -1047.521     805.775\n",
      "BUILD FOR_Lowbed                                                                                        -151.0479    844.890     -0.179      0.858   -1807.002    1504.906\n",
      "BUILD FOR_All_Other                                                                                       49.4618    123.843      0.399      0.690    -193.266     292.189\n",
      "Change in Distillate Fuel Inventories_x                                                                    7.4010      5.604      1.321      0.187      -3.582      18.384\n",
      "Intermodal Revenue Movements (IANA-ETSO)_Total_x                                                           0.8942      1.564      0.572      0.567      -2.171       3.959\n",
      "FTR Intermodal Competitive Index_Intermodal Competitive Index (0=Neutral)_x                            -3375.1984   1.15e+04     -0.293      0.769   -2.59e+04    1.92e+04\n",
      "U.S. Origin Intermodal Volumes_International_x                                                            -0.5556      2.374     -0.234      0.815      -5.208       4.097\n",
      "Canada Origin Intermodal Volumes_Domestic_x                                                               -0.1668     16.844     -0.010      0.992     -33.180      32.846\n",
      "N.A. Port Activity, Total TEUs_Exports_x                                                                   0.8860      1.122      0.790      0.430      -1.312       3.084\n",
      "West Coast Port Activity, Total TEUs_Exports_x                                                            -0.2411      1.967     -0.123      0.902      -4.097       3.615\n",
      "Gulf Coast Port Activity, Total TEUs_Exports_x                                                            -0.4875      3.033     -0.161      0.872      -6.431       5.456\n",
      "Western Canadian Port Activity, Total TEUs_Exports_x                                                      -1.6207      3.473     -0.467      0.641      -8.427       5.186\n",
      "ar.L1                                                                                                     -0.2676      2.749     -0.097      0.922      -5.655       5.120\n",
      "ar.L2                                                                                                      0.0094      0.065      0.144      0.885      -0.118       0.136\n",
      "ar.L3                                                                                                     -0.0101      0.134     -0.075      0.940      -0.273       0.253\n",
      "ma.L1                                                                                                      0.2686      2.752      0.098      0.922      -5.125       5.662\n",
      "ar.S.L12                                                                                                   0.0089      0.101      0.088      0.930      -0.190       0.208\n",
      "ar.S.L24                                                                                                   0.0094      0.057      0.165      0.869      -0.102       0.120\n",
      "ar.S.L36                                                                                                   0.0055      0.033      0.165      0.869      -0.060       0.071\n",
      "sigma2                                                                                                  1.183e+10      7.066   1.67e+09      0.000    1.18e+10    1.18e+10\n",
      "===================================================================================\n",
      "Ljung-Box (Q):                       55.42   Jarque-Bera (JB):                 7.82\n",
      "Prob(Q):                              0.05   Prob(JB):                         0.02\n",
      "Heteroskedasticity (H):               1.29   Skew:                            -0.33\n",
      "Prob(H) (two-sided):                  0.38   Kurtosis:                         3.94\n",
      "===================================================================================\n",
      "\n",
      "Warnings:\n",
      "[1] Covariance matrix calculated using the outer product of gradients (complex-step).\n",
      "[2] Covariance matrix is singular or near-singular, with condition number 4.38e+25. Standard errors may be unstable.\n"
     ]
    }
   ],
   "source": [
    "mod = sm.tsa.statespace.SARIMAX(sales['Sum of Sales'],\n",
    "                                exog = exog,\n",
    "                                order=(3, 1, 1),\n",
    "                                seasonal_order=(3, 1, 0, 12))\n",
    "results = mod.fit()\n",
    "print(results.summary())"
   ]
  },
  {
   "cell_type": "code",
   "execution_count": 12,
   "metadata": {
    "colab": {
     "base_uri": "https://localhost:8080/",
     "height": 513
    },
    "id": "a2Mh7bwhL_DN",
    "outputId": "3410f877-7d05-4f15-9bc5-fb12dab8f806"
   },
   "outputs": [
    {
     "data": {
      "image/png": "[encoded data removed]",
      "text/plain": [
       "<Figure size 1152x576 with 4 Axes>"
      ]
     },
     "metadata": {
      "needs_background": "light"
     },
     "output_type": "display_data"
    }
   ],
   "source": [
    "results.plot_diagnostics(figsize=(16, 8))\n",
    "plt.show()"
   ]
  },
  {
   "cell_type": "markdown",
   "metadata": {
    "id": "sPjptDL7EMfI"
   },
   "source": [
    "Here we will forecast the values using the model. Can change starting point from which we need to forecast. For now we will keep starting point after 50 observations"
   ]
  },
  {
   "cell_type": "code",
   "execution_count": 13,
   "metadata": {
    "colab": {
     "base_uri": "https://localhost:8080/",
     "height": 439
    },
    "id": "SjwZ_3-3MBY8",
    "outputId": "16308993-aaf0-4f4e-e33d-d663fad3f542"
   },
   "outputs": [
    {
     "data": {
      "image/png": "[encoded data removed]",
      "text/plain": [
       "<Figure size 1008x504 with 1 Axes>"
      ]
     },
     "metadata": {
      "needs_background": "light"
     },
     "output_type": "display_data"
    }
   ],
   "source": [
    "#Point from which prediction starts\n",
    "start_point = 50\n",
    "pred = results.get_prediction(start=start_point, dynamic=False)\n",
    "pred_ci = pred.conf_int()\n",
    "ax = sales['Sum of Sales'].plot(label='observed',)\n",
    "pred.predicted_mean.plot(ax=ax, label='Forecasting', alpha=.7, figsize=(14, 7))\n",
    "ax.fill_between(pred_ci.index,\n",
    "                pred_ci.iloc[:, 0],\n",
    "                pred_ci.iloc[:, 1], color='k', alpha=.2)\n",
    "plt.legend()\n",
    "plt.show()"
   ]
  },
  {
   "cell_type": "markdown",
   "metadata": {
    "id": "FqsiHXH1FDIy"
   },
   "source": [
    "# Model Evaluation\n",
    "### Forecast Bias\n",
    "Forecast errors can be positive and negative. This means that when the average of these values is calculated, an ideal mean forecast error would be zero.\n",
    "A mean forecast error value other than zero suggests a tendency of the model to over forecast (negative error) or under forecast (positive error)."
   ]
  },
  {
   "cell_type": "code",
   "execution_count": 16,
   "metadata": {},
   "outputs": [
    {
     "data": {
      "text/plain": [
       "50     1.751731e+05\n",
       "51     1.061040e+05\n",
       "52     2.685887e+05\n",
       "53     1.309019e+05\n",
       "54     4.123164e+05\n",
       "           ...     \n",
       "150    8.743925e+04\n",
       "151    1.094570e+05\n",
       "152    3.203617e+05\n",
       "153    1.003299e+06\n",
       "154    8.125360e+05\n",
       "Length: 105, dtype: float64"
      ]
     },
     "execution_count": 16,
     "metadata": {},
     "output_type": "execute_result"
    }
   ],
   "source": [
    "predictions = pred.predicted_mean\n",
    "predictions"
   ]
  },
  {
   "cell_type": "code",
   "execution_count": 24,
   "metadata": {
    "colab": {
     "base_uri": "https://localhost:8080/"
    },
    "id": "pJyl6XE_Er7t",
    "outputId": "e13739e8-c73c-432b-e5a6-0768fd99506f"
   },
   "outputs": [
    {
     "name": "stdout",
     "output_type": "stream",
     "text": [
      "Bias: 196.807219\n"
     ]
    }
   ],
   "source": [
    "predictions = pred.predicted_mean\n",
    "actual = sales['Sum of Sales'][start_point:]\n",
    "error = actual - predictions\n",
    "bias = sum(error)/len(error)\n",
    "print('Bias: %f' %bias)"
   ]
  },
  {
   "cell_type": "markdown",
   "metadata": {
    "id": "nDrCWdbQFfAa"
   },
   "source": [
    "Here we have a negative bias, meaning we over forecast. Lets look into other metrics for model evaulation\n",
    "\n",
    "### MAE (Mean Absolute Error)\n",
    "The mean absolute error, or MAE, is calculated as the average of the forecast error values, where all of the forecast error values are forced to be positive."
   ]
  },
  {
   "cell_type": "code",
   "execution_count": 18,
   "metadata": {
    "colab": {
     "base_uri": "https://localhost:8080/"
    },
    "id": "gVME82m-F-a0",
    "outputId": "b507fb0c-3666-498e-8b23-cf38a6afa6bf"
   },
   "outputs": [
    {
     "name": "stdout",
     "output_type": "stream",
     "text": [
      "Mean Absolute Error: 84610.81926691142\n"
     ]
    }
   ],
   "source": [
    "from sklearn.metrics import mean_squared_error,mean_absolute_error\n",
    "MAE = mean_absolute_error(actual,predictions)\n",
    "print(f'Mean Absolute Error: {MAE}')"
   ]
  },
  {
   "cell_type": "markdown",
   "metadata": {
    "id": "fon19ZtoEhWQ"
   },
   "source": [
    "### MSE (Mean Squared Error)\n",
    "The mean squared error, or MSE, is calculated as the average of the squared forecast error values. Squaring the forecast error values forces them to be positive; it also has the effect of putting more weight on large errors."
   ]
  },
  {
   "cell_type": "code",
   "execution_count": 19,
   "metadata": {
    "colab": {
     "base_uri": "https://localhost:8080/"
    },
    "id": "bLDuVPPu_Q9Y",
    "outputId": "7f66c306-819b-4ed4-f5e0-ebc46cfdea2b"
   },
   "outputs": [
    {
     "name": "stdout",
     "output_type": "stream",
     "text": [
      "Mean Squared Error: 12545958954.831171\n"
     ]
    }
   ],
   "source": [
    "MSE = mean_squared_error(predictions,actual)\n",
    "print(f'Mean Squared Error: {MSE}')"
   ]
  },
  {
   "cell_type": "code",
   "execution_count": 29,
   "metadata": {},
   "outputs": [
    {
     "name": "stdout",
     "output_type": "stream",
     "text": [
      "0.35601071356320146\n"
     ]
    }
   ],
   "source": [
    "def mean_absolute_percentage_error(y_true, y_pred):\n",
    "    y_true, y_pred = np.array(y_true), np.array(y_pred)\n",
    "    return np.mean(np.abs((y_true - y_pred) / y_true))\n",
    "\n",
    "\n",
    "print(mean_absolute_percentage_error(actual, predictions))"
   ]
  },
  {
   "cell_type": "markdown",
   "metadata": {
    "id": "LoJceE63HMs4"
   },
   "source": [
    "### RMSE (Root Mean Squared Error)\n",
    "The mean squared error described above is in the squared units of the predictions.\n",
    "\n",
    "It can be transformed back into the original units of the predictions by taking the square root of the mean squared error score. This is called the root mean squared error, or RMSE."
   ]
  },
  {
   "cell_type": "code",
   "execution_count": 26,
   "metadata": {
    "colab": {
     "base_uri": "https://localhost:8080/"
    },
    "id": "pDo2dsAw_ki7",
    "outputId": "5dcfa71f-d58f-423b-95f2-5164e9016447"
   },
   "outputs": [
    {
     "name": "stdout",
     "output_type": "stream",
     "text": [
      "Root Mean Squared Error: 112008.74383198014\n"
     ]
    }
   ],
   "source": [
    "from math import sqrt\n",
    "RMSE = sqrt(MSE)\n",
    "print(f'Root Mean Squared Error: {RMSE}')"
   ]
  },
  {
   "cell_type": "code",
   "execution_count": null,
   "metadata": {
    "id": "VHXtx5RXDNZ9"
   },
   "outputs": [],
   "source": []
  }
 ],
 "metadata": {
  "colab": {
   "collapsed_sections": [],
   "include_colab_link": true,
   "name": "books_sarima.ipynb",
   "provenance": []
  },
  "kernelspec": {
   "display_name": "Python 3",
   "language": "python",
   "name": "python3"
  },
  "language_info": {
   "codemirror_mode": {
    "name": "ipython",
    "version": 3
   },
   "file_extension": ".py",
   "mimetype": "text/x-python",
   "name": "python",
   "nbconvert_exporter": "python",
   "pygments_lexer": "ipython3",
   "version": "3.7.1"
  }
 },
 "nbformat": 4,
 "nbformat_minor": 1
}
