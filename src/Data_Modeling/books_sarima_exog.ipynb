{
 "cells": [
  {
   "cell_type": "code",
   "execution_count": 1,
   "metadata": {
    "colab": {
     "base_uri": "https://localhost:8080/"
    },
    "id": "SlH1v48Lmz04",
    "outputId": "097d8082-16cf-4181-8721-44fb223e83a6"
   },
   "outputs": [
    {
     "name": "stdout",
     "output_type": "stream",
     "text": [
      "Mounted at /content/drive\n"
     ]
    }
   ],
   "source": [
    "from google.colab import drive\n",
    "drive.mount('/content/drive')"
   ]
  },
  {
   "cell_type": "code",
   "execution_count": 28,
   "metadata": {
    "id": "Wx5PgDOwnN1Q"
   },
   "outputs": [],
   "source": [
    "import warnings\n",
    "import itertools\n",
    "import numpy as np\n",
    "import matplotlib.pyplot as plt\n",
    "warnings.filterwarnings(\"ignore\")\n",
    "import pandas as pd\n",
    "import statsmodels.api as sm\n",
    "import matplotlib\n",
    "\n",
    "from statsmodels.tsa.arima_model import ARIMA\n",
    "from statsmodels.tsa.stattools import adfuller\n",
    "import statsmodels.api as sm\n",
    " \n",
    "from itertools import product\n",
    "from tqdm import tqdm_notebook\n",
    "\n",
    "import Model_Evaluation as me"
   ]
  },
  {
   "cell_type": "code",
   "execution_count": 2,
   "metadata": {
    "colab": {
     "base_uri": "https://localhost:8080/",
     "height": 419
    },
    "id": "AHzywCtwncXI",
    "outputId": "9353accc-0587-4fb5-b0b3-b536057e0bac"
   },
   "outputs": [
    {
     "data": {
      "text/html": [
       "<div>\n",
       "<style scoped>\n",
       "    .dataframe tbody tr th:only-of-type {\n",
       "        vertical-align: middle;\n",
       "    }\n",
       "\n",
       "    .dataframe tbody tr th {\n",
       "        vertical-align: top;\n",
       "    }\n",
       "\n",
       "    .dataframe thead th {\n",
       "        text-align: right;\n",
       "    }\n",
       "</style>\n",
       "<table border=\"1\" class=\"dataframe\">\n",
       "  <thead>\n",
       "    <tr style=\"text-align: right;\">\n",
       "      <th></th>\n",
       "      <th>Year_Month</th>\n",
       "      <th>Sum of Sales</th>\n",
       "    </tr>\n",
       "  </thead>\n",
       "  <tbody>\n",
       "    <tr>\n",
       "      <td>0</td>\n",
       "      <td>2008-01</td>\n",
       "      <td>282604.11</td>\n",
       "    </tr>\n",
       "    <tr>\n",
       "      <td>1</td>\n",
       "      <td>2008-02</td>\n",
       "      <td>262474.40</td>\n",
       "    </tr>\n",
       "    <tr>\n",
       "      <td>2</td>\n",
       "      <td>2008-03</td>\n",
       "      <td>326059.68</td>\n",
       "    </tr>\n",
       "    <tr>\n",
       "      <td>3</td>\n",
       "      <td>2008-04</td>\n",
       "      <td>215387.49</td>\n",
       "    </tr>\n",
       "    <tr>\n",
       "      <td>4</td>\n",
       "      <td>2008-05</td>\n",
       "      <td>499559.90</td>\n",
       "    </tr>\n",
       "    <tr>\n",
       "      <td>...</td>\n",
       "      <td>...</td>\n",
       "      <td>...</td>\n",
       "    </tr>\n",
       "    <tr>\n",
       "      <td>150</td>\n",
       "      <td>2020-07</td>\n",
       "      <td>150348.10</td>\n",
       "    </tr>\n",
       "    <tr>\n",
       "      <td>151</td>\n",
       "      <td>2020-08</td>\n",
       "      <td>156066.95</td>\n",
       "    </tr>\n",
       "    <tr>\n",
       "      <td>152</td>\n",
       "      <td>2020-09</td>\n",
       "      <td>468710.96</td>\n",
       "    </tr>\n",
       "    <tr>\n",
       "      <td>153</td>\n",
       "      <td>2020-10</td>\n",
       "      <td>1118446.80</td>\n",
       "    </tr>\n",
       "    <tr>\n",
       "      <td>154</td>\n",
       "      <td>2020-11</td>\n",
       "      <td>429166.77</td>\n",
       "    </tr>\n",
       "  </tbody>\n",
       "</table>\n",
       "<p>155 rows × 2 columns</p>\n",
       "</div>"
      ],
      "text/plain": [
       "    Year_Month  Sum of Sales\n",
       "0      2008-01     282604.11\n",
       "1      2008-02     262474.40\n",
       "2      2008-03     326059.68\n",
       "3      2008-04     215387.49\n",
       "4      2008-05     499559.90\n",
       "..         ...           ...\n",
       "150    2020-07     150348.10\n",
       "151    2020-08     156066.95\n",
       "152    2020-09     468710.96\n",
       "153    2020-10    1118446.80\n",
       "154    2020-11     429166.77\n",
       "\n",
       "[155 rows x 2 columns]"
      ]
     },
     "execution_count": 2,
     "metadata": {},
     "output_type": "execute_result"
    }
   ],
   "source": [
    "books = pd.read_csv('/Users/rahulnair/Desktop/Labelmaster_/Sales_Data/Books_ext_fs.csv')\n",
    "#books = pd.read_csv('/content/drive/MyDrive/Colab Notebooks/LabelMaster/LabelMaster Data/Books_ext.csv')\n",
    "sales = books[['Year_Month','Sum of Sales']]\n",
    "sales"
   ]
  },
  {
   "cell_type": "code",
   "execution_count": 3,
   "metadata": {
    "colab": {
     "base_uri": "https://localhost:8080/",
     "height": 524
    },
    "id": "N23dKSDjclVW",
    "outputId": "bd11609e-0670-4832-85d4-1ac576c4dc43"
   },
   "outputs": [
    {
     "data": {
      "text/html": [
       "<div>\n",
       "<style scoped>\n",
       "    .dataframe tbody tr th:only-of-type {\n",
       "        vertical-align: middle;\n",
       "    }\n",
       "\n",
       "    .dataframe tbody tr th {\n",
       "        vertical-align: top;\n",
       "    }\n",
       "\n",
       "    .dataframe thead th {\n",
       "        text-align: right;\n",
       "    }\n",
       "</style>\n",
       "<table border=\"1\" class=\"dataframe\">\n",
       "  <thead>\n",
       "    <tr style=\"text-align: right;\">\n",
       "      <th></th>\n",
       "      <th>FTR Truck Loadings (000s, SA)_freight_m_trucking</th>\n",
       "      <th>FTR Active Truck Utilization (%, SA)_freight_m_trucking</th>\n",
       "      <th>Reefer Trailer Loadings (000s, SA)_freight_m_trucking</th>\n",
       "      <th>Tank Trailer Loadings (000s, SA)_freight_m_trucking</th>\n",
       "      <th>Chemicals &amp; Allied Products (000s, SA)_freight_m_trucking</th>\n",
       "      <th>Spot TL Rates (w/o FSC)_rates_m_trucking</th>\n",
       "      <th>Total LTL (w/o FSC)_rates_m_trucking</th>\n",
       "      <th>Total LTL (w/ FSC)_rates_m_trucking</th>\n",
       "      <th>Contract TL Tank Rates (w/o FSC)_rates_m_trucking</th>\n",
       "      <th>OEM Net Orders (U.S. / CAN, units)_indicators_m_trucking</th>\n",
       "      <th>...</th>\n",
       "      <th>BUILD FOR_All_Other</th>\n",
       "      <th>Change in Distillate Fuel Inventories_x</th>\n",
       "      <th>Intermodal Revenue Movements (IANA-ETSO)_Total_x</th>\n",
       "      <th>FTR Intermodal Competitive Index_Intermodal Competitive Index (0=Neutral)_x</th>\n",
       "      <th>U.S. Origin Intermodal Volumes_International_x</th>\n",
       "      <th>Canada Origin Intermodal Volumes_Domestic_x</th>\n",
       "      <th>N.A. Port Activity, Total TEUs_Exports_x</th>\n",
       "      <th>West Coast Port Activity, Total TEUs_Exports_x</th>\n",
       "      <th>Gulf Coast Port Activity, Total TEUs_Exports_x</th>\n",
       "      <th>Western Canadian Port Activity, Total TEUs_Exports_x</th>\n",
       "    </tr>\n",
       "  </thead>\n",
       "  <tbody>\n",
       "    <tr>\n",
       "      <td>0</td>\n",
       "      <td>57633.608984</td>\n",
       "      <td>88.294650</td>\n",
       "      <td>3940.638792</td>\n",
       "      <td>6915.782704</td>\n",
       "      <td>3013.868684</td>\n",
       "      <td>96.932289</td>\n",
       "      <td>99.755501</td>\n",
       "      <td>114.408275</td>\n",
       "      <td>99.995901</td>\n",
       "      <td>16185.0</td>\n",
       "      <td>...</td>\n",
       "      <td>969.0</td>\n",
       "      <td>-2981.0</td>\n",
       "      <td>1156094.0</td>\n",
       "      <td>3.341993</td>\n",
       "      <td>557011.0</td>\n",
       "      <td>46969.0</td>\n",
       "      <td>1.035742e+06</td>\n",
       "      <td>428531.270000</td>\n",
       "      <td>90322.590000</td>\n",
       "      <td>70230.000000</td>\n",
       "    </tr>\n",
       "    <tr>\n",
       "      <td>1</td>\n",
       "      <td>57175.659828</td>\n",
       "      <td>87.998407</td>\n",
       "      <td>3927.115595</td>\n",
       "      <td>6836.939472</td>\n",
       "      <td>2975.285847</td>\n",
       "      <td>99.719858</td>\n",
       "      <td>99.755501</td>\n",
       "      <td>114.867841</td>\n",
       "      <td>100.276486</td>\n",
       "      <td>11091.0</td>\n",
       "      <td>...</td>\n",
       "      <td>1104.0</td>\n",
       "      <td>-13327.0</td>\n",
       "      <td>1088826.0</td>\n",
       "      <td>2.285576</td>\n",
       "      <td>501961.0</td>\n",
       "      <td>44924.0</td>\n",
       "      <td>1.138045e+06</td>\n",
       "      <td>478707.330000</td>\n",
       "      <td>100410.660000</td>\n",
       "      <td>86567.000000</td>\n",
       "    </tr>\n",
       "    <tr>\n",
       "      <td>2</td>\n",
       "      <td>56814.700553</td>\n",
       "      <td>87.790155</td>\n",
       "      <td>3922.853376</td>\n",
       "      <td>6758.129439</td>\n",
       "      <td>2941.079313</td>\n",
       "      <td>103.347853</td>\n",
       "      <td>100.488998</td>\n",
       "      <td>117.070858</td>\n",
       "      <td>99.727612</td>\n",
       "      <td>14647.0</td>\n",
       "      <td>...</td>\n",
       "      <td>1158.0</td>\n",
       "      <td>-9852.0</td>\n",
       "      <td>1082825.0</td>\n",
       "      <td>1.924076</td>\n",
       "      <td>481100.0</td>\n",
       "      <td>46727.0</td>\n",
       "      <td>1.167742e+06</td>\n",
       "      <td>500866.450000</td>\n",
       "      <td>93384.280000</td>\n",
       "      <td>80451.000000</td>\n",
       "    </tr>\n",
       "    <tr>\n",
       "      <td>3</td>\n",
       "      <td>56916.813852</td>\n",
       "      <td>89.639867</td>\n",
       "      <td>3978.633479</td>\n",
       "      <td>6858.428982</td>\n",
       "      <td>2906.591249</td>\n",
       "      <td>111.718085</td>\n",
       "      <td>101.589242</td>\n",
       "      <td>122.811123</td>\n",
       "      <td>99.057287</td>\n",
       "      <td>14264.0</td>\n",
       "      <td>...</td>\n",
       "      <td>931.0</td>\n",
       "      <td>-733.0</td>\n",
       "      <td>1158286.0</td>\n",
       "      <td>5.986521</td>\n",
       "      <td>528843.0</td>\n",
       "      <td>53497.0</td>\n",
       "      <td>1.156788e+06</td>\n",
       "      <td>486063.840000</td>\n",
       "      <td>101642.940000</td>\n",
       "      <td>84739.000000</td>\n",
       "    </tr>\n",
       "    <tr>\n",
       "      <td>4</td>\n",
       "      <td>56194.246889</td>\n",
       "      <td>89.134818</td>\n",
       "      <td>3990.692209</td>\n",
       "      <td>6804.610846</td>\n",
       "      <td>2872.185063</td>\n",
       "      <td>117.525703</td>\n",
       "      <td>101.314181</td>\n",
       "      <td>123.968232</td>\n",
       "      <td>97.828232</td>\n",
       "      <td>12060.0</td>\n",
       "      <td>...</td>\n",
       "      <td>991.0</td>\n",
       "      <td>6890.0</td>\n",
       "      <td>1184144.0</td>\n",
       "      <td>7.940801</td>\n",
       "      <td>541259.0</td>\n",
       "      <td>53653.0</td>\n",
       "      <td>1.185090e+06</td>\n",
       "      <td>490618.980000</td>\n",
       "      <td>105424.640000</td>\n",
       "      <td>89548.000000</td>\n",
       "    </tr>\n",
       "    <tr>\n",
       "      <td>...</td>\n",
       "      <td>...</td>\n",
       "      <td>...</td>\n",
       "      <td>...</td>\n",
       "      <td>...</td>\n",
       "      <td>...</td>\n",
       "      <td>...</td>\n",
       "      <td>...</td>\n",
       "      <td>...</td>\n",
       "      <td>...</td>\n",
       "      <td>...</td>\n",
       "      <td>...</td>\n",
       "      <td>...</td>\n",
       "      <td>...</td>\n",
       "      <td>...</td>\n",
       "      <td>...</td>\n",
       "      <td>...</td>\n",
       "      <td>...</td>\n",
       "      <td>...</td>\n",
       "      <td>...</td>\n",
       "      <td>...</td>\n",
       "      <td>...</td>\n",
       "    </tr>\n",
       "    <tr>\n",
       "      <td>150</td>\n",
       "      <td>61469.059874</td>\n",
       "      <td>89.962431</td>\n",
       "      <td>4379.187334</td>\n",
       "      <td>6571.127779</td>\n",
       "      <td>2639.040651</td>\n",
       "      <td>115.128696</td>\n",
       "      <td>102.231051</td>\n",
       "      <td>113.578198</td>\n",
       "      <td>115.191063</td>\n",
       "      <td>19213.0</td>\n",
       "      <td>...</td>\n",
       "      <td>1359.0</td>\n",
       "      <td>2134.0</td>\n",
       "      <td>1526490.0</td>\n",
       "      <td>-0.192121</td>\n",
       "      <td>513074.0</td>\n",
       "      <td>57503.0</td>\n",
       "      <td>1.095134e+06</td>\n",
       "      <td>393775.832112</td>\n",
       "      <td>125276.157772</td>\n",
       "      <td>103172.000000</td>\n",
       "    </tr>\n",
       "    <tr>\n",
       "      <td>151</td>\n",
       "      <td>62140.797176</td>\n",
       "      <td>90.641835</td>\n",
       "      <td>4404.415547</td>\n",
       "      <td>6601.260917</td>\n",
       "      <td>2676.666422</td>\n",
       "      <td>129.107598</td>\n",
       "      <td>104.339853</td>\n",
       "      <td>115.812566</td>\n",
       "      <td>114.911925</td>\n",
       "      <td>18302.0</td>\n",
       "      <td>...</td>\n",
       "      <td>1671.0</td>\n",
       "      <td>1353.0</td>\n",
       "      <td>1575928.0</td>\n",
       "      <td>0.625716</td>\n",
       "      <td>546740.0</td>\n",
       "      <td>56478.0</td>\n",
       "      <td>1.108304e+06</td>\n",
       "      <td>389408.103791</td>\n",
       "      <td>125319.157772</td>\n",
       "      <td>93979.000000</td>\n",
       "    </tr>\n",
       "    <tr>\n",
       "      <td>152</td>\n",
       "      <td>62170.174317</td>\n",
       "      <td>90.587889</td>\n",
       "      <td>4381.188114</td>\n",
       "      <td>6556.745680</td>\n",
       "      <td>2600.808117</td>\n",
       "      <td>136.100117</td>\n",
       "      <td>105.898533</td>\n",
       "      <td>117.464895</td>\n",
       "      <td>115.470202</td>\n",
       "      <td>28766.0</td>\n",
       "      <td>...</td>\n",
       "      <td>1711.0</td>\n",
       "      <td>-7196.0</td>\n",
       "      <td>1617044.0</td>\n",
       "      <td>5.475578</td>\n",
       "      <td>557748.0</td>\n",
       "      <td>59269.0</td>\n",
       "      <td>1.099329e+06</td>\n",
       "      <td>386298.700253</td>\n",
       "      <td>117576.128306</td>\n",
       "      <td>103129.000000</td>\n",
       "    </tr>\n",
       "    <tr>\n",
       "      <td>153</td>\n",
       "      <td>62870.759335</td>\n",
       "      <td>94.367218</td>\n",
       "      <td>4436.920215</td>\n",
       "      <td>6523.796564</td>\n",
       "      <td>2593.200335</td>\n",
       "      <td>140.122763</td>\n",
       "      <td>106.265281</td>\n",
       "      <td>117.793788</td>\n",
       "      <td>115.098017</td>\n",
       "      <td>36912.0</td>\n",
       "      <td>...</td>\n",
       "      <td>2018.0</td>\n",
       "      <td>-10130.4</td>\n",
       "      <td>1705714.0</td>\n",
       "      <td>9.817290</td>\n",
       "      <td>591616.0</td>\n",
       "      <td>60708.0</td>\n",
       "      <td>1.186353e+06</td>\n",
       "      <td>410614.677268</td>\n",
       "      <td>123604.184721</td>\n",
       "      <td>105255.000000</td>\n",
       "    </tr>\n",
       "    <tr>\n",
       "      <td>154</td>\n",
       "      <td>63237.027387</td>\n",
       "      <td>95.404858</td>\n",
       "      <td>4457.161049</td>\n",
       "      <td>6528.943165</td>\n",
       "      <td>2589.965347</td>\n",
       "      <td>138.706256</td>\n",
       "      <td>107.591849</td>\n",
       "      <td>119.272026</td>\n",
       "      <td>116.095115</td>\n",
       "      <td>49818.0</td>\n",
       "      <td>...</td>\n",
       "      <td>1601.0</td>\n",
       "      <td>-16121.6</td>\n",
       "      <td>1565892.0</td>\n",
       "      <td>8.110988</td>\n",
       "      <td>554324.0</td>\n",
       "      <td>57649.0</td>\n",
       "      <td>1.135686e+06</td>\n",
       "      <td>365926.096985</td>\n",
       "      <td>130627.239881</td>\n",
       "      <td>102805.965936</td>\n",
       "    </tr>\n",
       "  </tbody>\n",
       "</table>\n",
       "<p>155 rows × 70 columns</p>\n",
       "</div>"
      ],
      "text/plain": [
       "     FTR Truck Loadings (000s, SA)_freight_m_trucking  \\\n",
       "0                                        57633.608984   \n",
       "1                                        57175.659828   \n",
       "2                                        56814.700553   \n",
       "3                                        56916.813852   \n",
       "4                                        56194.246889   \n",
       "..                                                ...   \n",
       "150                                      61469.059874   \n",
       "151                                      62140.797176   \n",
       "152                                      62170.174317   \n",
       "153                                      62870.759335   \n",
       "154                                      63237.027387   \n",
       "\n",
       "     FTR Active Truck Utilization (%, SA)_freight_m_trucking  \\\n",
       "0                                            88.294650         \n",
       "1                                            87.998407         \n",
       "2                                            87.790155         \n",
       "3                                            89.639867         \n",
       "4                                            89.134818         \n",
       "..                                                 ...         \n",
       "150                                          89.962431         \n",
       "151                                          90.641835         \n",
       "152                                          90.587889         \n",
       "153                                          94.367218         \n",
       "154                                          95.404858         \n",
       "\n",
       "     Reefer Trailer Loadings (000s, SA)_freight_m_trucking  \\\n",
       "0                                          3940.638792       \n",
       "1                                          3927.115595       \n",
       "2                                          3922.853376       \n",
       "3                                          3978.633479       \n",
       "4                                          3990.692209       \n",
       "..                                                 ...       \n",
       "150                                        4379.187334       \n",
       "151                                        4404.415547       \n",
       "152                                        4381.188114       \n",
       "153                                        4436.920215       \n",
       "154                                        4457.161049       \n",
       "\n",
       "     Tank Trailer Loadings (000s, SA)_freight_m_trucking  \\\n",
       "0                                          6915.782704     \n",
       "1                                          6836.939472     \n",
       "2                                          6758.129439     \n",
       "3                                          6858.428982     \n",
       "4                                          6804.610846     \n",
       "..                                                 ...     \n",
       "150                                        6571.127779     \n",
       "151                                        6601.260917     \n",
       "152                                        6556.745680     \n",
       "153                                        6523.796564     \n",
       "154                                        6528.943165     \n",
       "\n",
       "     Chemicals & Allied Products (000s, SA)_freight_m_trucking  \\\n",
       "0                                          3013.868684           \n",
       "1                                          2975.285847           \n",
       "2                                          2941.079313           \n",
       "3                                          2906.591249           \n",
       "4                                          2872.185063           \n",
       "..                                                 ...           \n",
       "150                                        2639.040651           \n",
       "151                                        2676.666422           \n",
       "152                                        2600.808117           \n",
       "153                                        2593.200335           \n",
       "154                                        2589.965347           \n",
       "\n",
       "     Spot TL Rates (w/o FSC)_rates_m_trucking  \\\n",
       "0                                   96.932289   \n",
       "1                                   99.719858   \n",
       "2                                  103.347853   \n",
       "3                                  111.718085   \n",
       "4                                  117.525703   \n",
       "..                                        ...   \n",
       "150                                115.128696   \n",
       "151                                129.107598   \n",
       "152                                136.100117   \n",
       "153                                140.122763   \n",
       "154                                138.706256   \n",
       "\n",
       "     Total LTL (w/o FSC)_rates_m_trucking  \\\n",
       "0                               99.755501   \n",
       "1                               99.755501   \n",
       "2                              100.488998   \n",
       "3                              101.589242   \n",
       "4                              101.314181   \n",
       "..                                    ...   \n",
       "150                            102.231051   \n",
       "151                            104.339853   \n",
       "152                            105.898533   \n",
       "153                            106.265281   \n",
       "154                            107.591849   \n",
       "\n",
       "     Total LTL (w/ FSC)_rates_m_trucking  \\\n",
       "0                             114.408275   \n",
       "1                             114.867841   \n",
       "2                             117.070858   \n",
       "3                             122.811123   \n",
       "4                             123.968232   \n",
       "..                                   ...   \n",
       "150                           113.578198   \n",
       "151                           115.812566   \n",
       "152                           117.464895   \n",
       "153                           117.793788   \n",
       "154                           119.272026   \n",
       "\n",
       "     Contract TL Tank Rates (w/o FSC)_rates_m_trucking  \\\n",
       "0                                            99.995901   \n",
       "1                                           100.276486   \n",
       "2                                            99.727612   \n",
       "3                                            99.057287   \n",
       "4                                            97.828232   \n",
       "..                                                 ...   \n",
       "150                                         115.191063   \n",
       "151                                         114.911925   \n",
       "152                                         115.470202   \n",
       "153                                         115.098017   \n",
       "154                                         116.095115   \n",
       "\n",
       "     OEM Net Orders (U.S. / CAN, units)_indicators_m_trucking  ...  \\\n",
       "0                                              16185.0         ...   \n",
       "1                                              11091.0         ...   \n",
       "2                                              14647.0         ...   \n",
       "3                                              14264.0         ...   \n",
       "4                                              12060.0         ...   \n",
       "..                                                 ...         ...   \n",
       "150                                            19213.0         ...   \n",
       "151                                            18302.0         ...   \n",
       "152                                            28766.0         ...   \n",
       "153                                            36912.0         ...   \n",
       "154                                            49818.0         ...   \n",
       "\n",
       "     BUILD FOR_All_Other  Change in Distillate Fuel Inventories_x  \\\n",
       "0                  969.0                                  -2981.0   \n",
       "1                 1104.0                                 -13327.0   \n",
       "2                 1158.0                                  -9852.0   \n",
       "3                  931.0                                   -733.0   \n",
       "4                  991.0                                   6890.0   \n",
       "..                   ...                                      ...   \n",
       "150               1359.0                                   2134.0   \n",
       "151               1671.0                                   1353.0   \n",
       "152               1711.0                                  -7196.0   \n",
       "153               2018.0                                 -10130.4   \n",
       "154               1601.0                                 -16121.6   \n",
       "\n",
       "     Intermodal Revenue Movements (IANA-ETSO)_Total_x  \\\n",
       "0                                           1156094.0   \n",
       "1                                           1088826.0   \n",
       "2                                           1082825.0   \n",
       "3                                           1158286.0   \n",
       "4                                           1184144.0   \n",
       "..                                                ...   \n",
       "150                                         1526490.0   \n",
       "151                                         1575928.0   \n",
       "152                                         1617044.0   \n",
       "153                                         1705714.0   \n",
       "154                                         1565892.0   \n",
       "\n",
       "     FTR Intermodal Competitive Index_Intermodal Competitive Index (0=Neutral)_x  \\\n",
       "0                                             3.341993                             \n",
       "1                                             2.285576                             \n",
       "2                                             1.924076                             \n",
       "3                                             5.986521                             \n",
       "4                                             7.940801                             \n",
       "..                                                 ...                             \n",
       "150                                          -0.192121                             \n",
       "151                                           0.625716                             \n",
       "152                                           5.475578                             \n",
       "153                                           9.817290                             \n",
       "154                                           8.110988                             \n",
       "\n",
       "     U.S. Origin Intermodal Volumes_International_x  \\\n",
       "0                                          557011.0   \n",
       "1                                          501961.0   \n",
       "2                                          481100.0   \n",
       "3                                          528843.0   \n",
       "4                                          541259.0   \n",
       "..                                              ...   \n",
       "150                                        513074.0   \n",
       "151                                        546740.0   \n",
       "152                                        557748.0   \n",
       "153                                        591616.0   \n",
       "154                                        554324.0   \n",
       "\n",
       "     Canada Origin Intermodal Volumes_Domestic_x  \\\n",
       "0                                        46969.0   \n",
       "1                                        44924.0   \n",
       "2                                        46727.0   \n",
       "3                                        53497.0   \n",
       "4                                        53653.0   \n",
       "..                                           ...   \n",
       "150                                      57503.0   \n",
       "151                                      56478.0   \n",
       "152                                      59269.0   \n",
       "153                                      60708.0   \n",
       "154                                      57649.0   \n",
       "\n",
       "     N.A. Port Activity, Total TEUs_Exports_x  \\\n",
       "0                                1.035742e+06   \n",
       "1                                1.138045e+06   \n",
       "2                                1.167742e+06   \n",
       "3                                1.156788e+06   \n",
       "4                                1.185090e+06   \n",
       "..                                        ...   \n",
       "150                              1.095134e+06   \n",
       "151                              1.108304e+06   \n",
       "152                              1.099329e+06   \n",
       "153                              1.186353e+06   \n",
       "154                              1.135686e+06   \n",
       "\n",
       "     West Coast Port Activity, Total TEUs_Exports_x  \\\n",
       "0                                     428531.270000   \n",
       "1                                     478707.330000   \n",
       "2                                     500866.450000   \n",
       "3                                     486063.840000   \n",
       "4                                     490618.980000   \n",
       "..                                              ...   \n",
       "150                                   393775.832112   \n",
       "151                                   389408.103791   \n",
       "152                                   386298.700253   \n",
       "153                                   410614.677268   \n",
       "154                                   365926.096985   \n",
       "\n",
       "     Gulf Coast Port Activity, Total TEUs_Exports_x  \\\n",
       "0                                      90322.590000   \n",
       "1                                     100410.660000   \n",
       "2                                      93384.280000   \n",
       "3                                     101642.940000   \n",
       "4                                     105424.640000   \n",
       "..                                              ...   \n",
       "150                                   125276.157772   \n",
       "151                                   125319.157772   \n",
       "152                                   117576.128306   \n",
       "153                                   123604.184721   \n",
       "154                                   130627.239881   \n",
       "\n",
       "     Western Canadian Port Activity, Total TEUs_Exports_x  \n",
       "0                                         70230.000000     \n",
       "1                                         86567.000000     \n",
       "2                                         80451.000000     \n",
       "3                                         84739.000000     \n",
       "4                                         89548.000000     \n",
       "..                                                 ...     \n",
       "150                                      103172.000000     \n",
       "151                                       93979.000000     \n",
       "152                                      103129.000000     \n",
       "153                                      105255.000000     \n",
       "154                                      102805.965936     \n",
       "\n",
       "[155 rows x 70 columns]"
      ]
     },
     "execution_count": 3,
     "metadata": {},
     "output_type": "execute_result"
    }
   ],
   "source": [
    "books = books.dropna(axis = 1)\n",
    "exog = books.iloc[:,2:]\n",
    "exog"
   ]
  },
  {
   "cell_type": "code",
   "execution_count": 4,
   "metadata": {
    "colab": {
     "base_uri": "https://localhost:8080/",
     "height": 513
    },
    "id": "K3n4p-tr6Qn1",
    "outputId": "27c3fc7e-c768-4f1c-bca3-61824aa5ef6a"
   },
   "outputs": [
    {
     "data": {
      "image/png": "[encoded data removed]",
      "text/plain": [
       "<Figure size 1080x576 with 1 Axes>"
      ]
     },
     "metadata": {
      "needs_background": "light"
     },
     "output_type": "display_data"
    }
   ],
   "source": [
    "plt.figure(figsize=[15,8])\n",
    "plt.plot(sales['Year_Month'],sales['Sum of Sales'])\n",
    "plt.title('Monthly Sum of Sales of Books Department')\n",
    "plt.xlabel('Date')\n",
    "plt.ylabel('Sales')\n",
    "plt.show()"
   ]
  },
  {
   "cell_type": "code",
   "execution_count": 5,
   "metadata": {
    "colab": {
     "base_uri": "https://localhost:8080/"
    },
    "id": "L684FxgN4tCE",
    "outputId": "107cd254-9d40-4d8d-bb2b-5514976fc0c0"
   },
   "outputs": [
    {
     "name": "stdout",
     "output_type": "stream",
     "text": [
      "ADF Statistic: -2.5489088668534055\n",
      "p-value: 0.10402307648031173\n"
     ]
    }
   ],
   "source": [
    "ad_fuller_result = adfuller(sales['Sum of Sales'])\n",
    "print(f'ADF Statistic: {ad_fuller_result[0]}')\n",
    "print(f'p-value: {ad_fuller_result[1]}')"
   ]
  },
  {
   "cell_type": "markdown",
   "metadata": {
    "id": "W2QG1lx85L4p"
   },
   "source": [
    "Since the p-value is greater than 0.5, we cannot reject null hypothesis and must assume that the series is not stationary."
   ]
  },
  {
   "cell_type": "code",
   "execution_count": 6,
   "metadata": {
    "colab": {
     "base_uri": "https://localhost:8080/",
     "height": 419
    },
    "id": "sxdSNYZh5Y83",
    "outputId": "40cdcc05-f0b4-46a9-af23-f4658576a288"
   },
   "outputs": [
    {
     "data": {
      "text/html": [
       "<div>\n",
       "<style scoped>\n",
       "    .dataframe tbody tr th:only-of-type {\n",
       "        vertical-align: middle;\n",
       "    }\n",
       "\n",
       "    .dataframe tbody tr th {\n",
       "        vertical-align: top;\n",
       "    }\n",
       "\n",
       "    .dataframe thead th {\n",
       "        text-align: right;\n",
       "    }\n",
       "</style>\n",
       "<table border=\"1\" class=\"dataframe\">\n",
       "  <thead>\n",
       "    <tr style=\"text-align: right;\">\n",
       "      <th></th>\n",
       "      <th>Year_Month</th>\n",
       "      <th>Sum of Sales</th>\n",
       "      <th>sales_diffed</th>\n",
       "    </tr>\n",
       "  </thead>\n",
       "  <tbody>\n",
       "    <tr>\n",
       "      <td>0</td>\n",
       "      <td>2008-01</td>\n",
       "      <td>282604.11</td>\n",
       "      <td>NaN</td>\n",
       "    </tr>\n",
       "    <tr>\n",
       "      <td>1</td>\n",
       "      <td>2008-02</td>\n",
       "      <td>262474.40</td>\n",
       "      <td>-20129.71</td>\n",
       "    </tr>\n",
       "    <tr>\n",
       "      <td>2</td>\n",
       "      <td>2008-03</td>\n",
       "      <td>326059.68</td>\n",
       "      <td>63585.28</td>\n",
       "    </tr>\n",
       "    <tr>\n",
       "      <td>3</td>\n",
       "      <td>2008-04</td>\n",
       "      <td>215387.49</td>\n",
       "      <td>-110672.19</td>\n",
       "    </tr>\n",
       "    <tr>\n",
       "      <td>4</td>\n",
       "      <td>2008-05</td>\n",
       "      <td>499559.90</td>\n",
       "      <td>284172.41</td>\n",
       "    </tr>\n",
       "    <tr>\n",
       "      <td>...</td>\n",
       "      <td>...</td>\n",
       "      <td>...</td>\n",
       "      <td>...</td>\n",
       "    </tr>\n",
       "    <tr>\n",
       "      <td>150</td>\n",
       "      <td>2020-07</td>\n",
       "      <td>150348.10</td>\n",
       "      <td>13635.82</td>\n",
       "    </tr>\n",
       "    <tr>\n",
       "      <td>151</td>\n",
       "      <td>2020-08</td>\n",
       "      <td>156066.95</td>\n",
       "      <td>5718.85</td>\n",
       "    </tr>\n",
       "    <tr>\n",
       "      <td>152</td>\n",
       "      <td>2020-09</td>\n",
       "      <td>468710.96</td>\n",
       "      <td>312644.01</td>\n",
       "    </tr>\n",
       "    <tr>\n",
       "      <td>153</td>\n",
       "      <td>2020-10</td>\n",
       "      <td>1118446.80</td>\n",
       "      <td>649735.84</td>\n",
       "    </tr>\n",
       "    <tr>\n",
       "      <td>154</td>\n",
       "      <td>2020-11</td>\n",
       "      <td>429166.77</td>\n",
       "      <td>-689280.03</td>\n",
       "    </tr>\n",
       "  </tbody>\n",
       "</table>\n",
       "<p>155 rows × 3 columns</p>\n",
       "</div>"
      ],
      "text/plain": [
       "    Year_Month  Sum of Sales  sales_diffed\n",
       "0      2008-01     282604.11           NaN\n",
       "1      2008-02     262474.40     -20129.71\n",
       "2      2008-03     326059.68      63585.28\n",
       "3      2008-04     215387.49    -110672.19\n",
       "4      2008-05     499559.90     284172.41\n",
       "..         ...           ...           ...\n",
       "150    2020-07     150348.10      13635.82\n",
       "151    2020-08     156066.95       5718.85\n",
       "152    2020-09     468710.96     312644.01\n",
       "153    2020-10    1118446.80     649735.84\n",
       "154    2020-11     429166.77    -689280.03\n",
       "\n",
       "[155 rows x 3 columns]"
      ]
     },
     "execution_count": 6,
     "metadata": {},
     "output_type": "execute_result"
    }
   ],
   "source": [
    "sales['sales_diffed'] = sales['Sum of Sales'].diff(1)\n",
    "sales"
   ]
  },
  {
   "cell_type": "code",
   "execution_count": 7,
   "metadata": {
    "colab": {
     "base_uri": "https://localhost:8080/"
    },
    "id": "rnc8yTOv7nYt",
    "outputId": "317449b2-7442-4c54-ec80-ba5c42ccfdca"
   },
   "outputs": [
    {
     "name": "stdout",
     "output_type": "stream",
     "text": [
      "ADF Statistic: -5.7998057140649335\n",
      "p-value: 4.659551329185685e-07\n"
     ]
    }
   ],
   "source": [
    "ad_fuller_result = adfuller(sales['sales_diffed'][1:])\n",
    "print(f'ADF Statistic: {ad_fuller_result[0]}')\n",
    "print(f'p-value: {ad_fuller_result[1]}')"
   ]
  },
  {
   "cell_type": "code",
   "execution_count": 8,
   "metadata": {
    "colab": {
     "base_uri": "https://localhost:8080/",
     "height": 499
    },
    "id": "TKOFWQA86s9-",
    "outputId": "f40aacd7-caed-4f17-bfa9-d68c90a3b704"
   },
   "outputs": [
    {
     "data": {
      "image/png": "[encoded data removed]",
      "text/plain": [
       "<Figure size 864x576 with 2 Axes>"
      ]
     },
     "metadata": {
      "needs_background": "light"
     },
     "output_type": "display_data"
    }
   ],
   "source": [
    "fig, ax = plt.subplots(2,1, figsize= (12,8))\n",
    "fig = sm.graphics.tsa.plot_acf(sales['sales_diffed'][1:], lags=50, ax=ax[0])\n",
    "fig = sm.graphics.tsa.plot_pacf(sales['sales_diffed'][1:], lags=50, ax=ax[1])\n",
    "plt.show()"
   ]
  },
  {
   "cell_type": "code",
   "execution_count": null,
   "metadata": {
    "id": "lpKOX1yF4sVo"
   },
   "outputs": [],
   "source": []
  },
  {
   "cell_type": "markdown",
   "metadata": {
    "id": "bLGEh8Ad3Pog"
   },
   "source": [
    "# New Section"
   ]
  },
  {
   "cell_type": "code",
   "execution_count": 9,
   "metadata": {
    "colab": {
     "base_uri": "https://localhost:8080/"
    },
    "id": "6TyDuvVkEkRQ",
    "outputId": "67384564-1d6c-4643-9aeb-5c7832bbcbf7"
   },
   "outputs": [
    {
     "name": "stdout",
     "output_type": "stream",
     "text": [
      "ARIMA(0, 1, 0)x(0, 1, 0, 12)- AIC:4373.94937859835\n",
      " \n"
     ]
    },
    {
     "name": "stderr",
     "output_type": "stream",
     "text": [
      "/Library/Frameworks/Python.framework/Versions/3.7/lib/python3.7/site-packages/statsmodels/base/model.py:512: ConvergenceWarning: Maximum Likelihood optimization failed to converge. Check mle_retvals\n",
      "  \"Check mle_retvals\", ConvergenceWarning)\n"
     ]
    },
    {
     "name": "stdout",
     "output_type": "stream",
     "text": [
      "ARIMA(0, 1, 0)x(0, 1, 1, 12)- AIC:3508.390518308127\n",
      " \n"
     ]
    },
    {
     "name": "stderr",
     "output_type": "stream",
     "text": [
      "/Library/Frameworks/Python.framework/Versions/3.7/lib/python3.7/site-packages/statsmodels/base/model.py:512: ConvergenceWarning: Maximum Likelihood optimization failed to converge. Check mle_retvals\n",
      "  \"Check mle_retvals\", ConvergenceWarning)\n"
     ]
    },
    {
     "name": "stdout",
     "output_type": "stream",
     "text": [
      "ARIMA(0, 1, 0)x(0, 1, 2, 12)- AIC:3193.336859696294\n",
      " \n",
      "ARIMA(0, 1, 0)x(0, 1, 3, 12)- AIC:9485.060658740067\n",
      " \n"
     ]
    },
    {
     "name": "stderr",
     "output_type": "stream",
     "text": [
      "/Library/Frameworks/Python.framework/Versions/3.7/lib/python3.7/site-packages/statsmodels/base/model.py:512: ConvergenceWarning: Maximum Likelihood optimization failed to converge. Check mle_retvals\n",
      "  \"Check mle_retvals\", ConvergenceWarning)\n"
     ]
    },
    {
     "name": "stdout",
     "output_type": "stream",
     "text": [
      "ARIMA(0, 1, 0)x(1, 1, 0, 12)- AIC:3533.4398333618865\n",
      " \n"
     ]
    },
    {
     "name": "stderr",
     "output_type": "stream",
     "text": [
      "/Library/Frameworks/Python.framework/Versions/3.7/lib/python3.7/site-packages/statsmodels/base/model.py:512: ConvergenceWarning: Maximum Likelihood optimization failed to converge. Check mle_retvals\n",
      "  \"Check mle_retvals\", ConvergenceWarning)\n"
     ]
    },
    {
     "name": "stdout",
     "output_type": "stream",
     "text": [
      "ARIMA(0, 1, 0)x(1, 1, 1, 12)- AIC:3509.806261006779\n",
      " \n"
     ]
    },
    {
     "name": "stderr",
     "output_type": "stream",
     "text": [
      "/Library/Frameworks/Python.framework/Versions/3.7/lib/python3.7/site-packages/statsmodels/base/model.py:512: ConvergenceWarning: Maximum Likelihood optimization failed to converge. Check mle_retvals\n",
      "  \"Check mle_retvals\", ConvergenceWarning)\n"
     ]
    },
    {
     "name": "stdout",
     "output_type": "stream",
     "text": [
      "ARIMA(0, 1, 0)x(1, 1, 2, 12)- AIC:3195.3357456100093\n",
      " \n",
      "ARIMA(0, 1, 0)x(1, 1, 3, 12)- AIC:9495.564982244234\n",
      " \n"
     ]
    },
    {
     "name": "stderr",
     "output_type": "stream",
     "text": [
      "/Library/Frameworks/Python.framework/Versions/3.7/lib/python3.7/site-packages/statsmodels/base/model.py:512: ConvergenceWarning: Maximum Likelihood optimization failed to converge. Check mle_retvals\n",
      "  \"Check mle_retvals\", ConvergenceWarning)\n"
     ]
    },
    {
     "name": "stdout",
     "output_type": "stream",
     "text": [
      "ARIMA(0, 1, 0)x(2, 1, 0, 12)- AIC:3216.5859952055166\n",
      " \n"
     ]
    },
    {
     "name": "stderr",
     "output_type": "stream",
     "text": [
      "/Library/Frameworks/Python.framework/Versions/3.7/lib/python3.7/site-packages/statsmodels/base/model.py:512: ConvergenceWarning: Maximum Likelihood optimization failed to converge. Check mle_retvals\n",
      "  \"Check mle_retvals\", ConvergenceWarning)\n"
     ]
    },
    {
     "name": "stdout",
     "output_type": "stream",
     "text": [
      "ARIMA(0, 1, 0)x(2, 1, 1, 12)- AIC:3217.7645355141776\n",
      " \n"
     ]
    },
    {
     "name": "stderr",
     "output_type": "stream",
     "text": [
      "/Library/Frameworks/Python.framework/Versions/3.7/lib/python3.7/site-packages/statsmodels/base/model.py:512: ConvergenceWarning: Maximum Likelihood optimization failed to converge. Check mle_retvals\n",
      "  \"Check mle_retvals\", ConvergenceWarning)\n"
     ]
    },
    {
     "name": "stdout",
     "output_type": "stream",
     "text": [
      "ARIMA(0, 1, 0)x(2, 1, 2, 12)- AIC:3195.1987094332458\n",
      " \n",
      "ARIMA(0, 1, 0)x(2, 1, 3, 12)- AIC:9484.933662167105\n",
      " \n"
     ]
    },
    {
     "name": "stderr",
     "output_type": "stream",
     "text": [
      "/Library/Frameworks/Python.framework/Versions/3.7/lib/python3.7/site-packages/statsmodels/base/model.py:512: ConvergenceWarning: Maximum Likelihood optimization failed to converge. Check mle_retvals\n",
      "  \"Check mle_retvals\", ConvergenceWarning)\n"
     ]
    },
    {
     "name": "stdout",
     "output_type": "stream",
     "text": [
      "ARIMA(0, 1, 0)x(3, 1, 0, 12)- AIC:2904.150789445545\n",
      " \n"
     ]
    },
    {
     "name": "stderr",
     "output_type": "stream",
     "text": [
      "/Library/Frameworks/Python.framework/Versions/3.7/lib/python3.7/site-packages/statsmodels/base/model.py:512: ConvergenceWarning: Maximum Likelihood optimization failed to converge. Check mle_retvals\n",
      "  \"Check mle_retvals\", ConvergenceWarning)\n"
     ]
    },
    {
     "name": "stdout",
     "output_type": "stream",
     "text": [
      "ARIMA(0, 1, 0)x(3, 1, 1, 12)- AIC:2906.4109642620633\n",
      " \n"
     ]
    },
    {
     "name": "stderr",
     "output_type": "stream",
     "text": [
      "/Library/Frameworks/Python.framework/Versions/3.7/lib/python3.7/site-packages/statsmodels/base/model.py:512: ConvergenceWarning: Maximum Likelihood optimization failed to converge. Check mle_retvals\n",
      "  \"Check mle_retvals\", ConvergenceWarning)\n"
     ]
    },
    {
     "name": "stdout",
     "output_type": "stream",
     "text": [
      "ARIMA(0, 1, 0)x(3, 1, 2, 12)- AIC:2904.139129381426\n",
      " \n",
      "ARIMA(0, 1, 0)x(3, 1, 3, 12)- AIC:9426.851384028776\n",
      " \n"
     ]
    },
    {
     "name": "stderr",
     "output_type": "stream",
     "text": [
      "/Library/Frameworks/Python.framework/Versions/3.7/lib/python3.7/site-packages/statsmodels/base/model.py:512: ConvergenceWarning: Maximum Likelihood optimization failed to converge. Check mle_retvals\n",
      "  \"Check mle_retvals\", ConvergenceWarning)\n"
     ]
    },
    {
     "name": "stdout",
     "output_type": "stream",
     "text": [
      "ARIMA(0, 1, 1)x(0, 1, 0, 12)- AIC:3789.2028860990386\n",
      " \n"
     ]
    },
    {
     "name": "stderr",
     "output_type": "stream",
     "text": [
      "/Library/Frameworks/Python.framework/Versions/3.7/lib/python3.7/site-packages/statsmodels/base/model.py:512: ConvergenceWarning: Maximum Likelihood optimization failed to converge. Check mle_retvals\n",
      "  \"Check mle_retvals\", ConvergenceWarning)\n"
     ]
    },
    {
     "name": "stdout",
     "output_type": "stream",
     "text": [
      "ARIMA(0, 1, 1)x(0, 1, 1, 12)- AIC:3482.281695683303\n",
      " \n"
     ]
    },
    {
     "name": "stderr",
     "output_type": "stream",
     "text": [
      "/Library/Frameworks/Python.framework/Versions/3.7/lib/python3.7/site-packages/statsmodels/base/model.py:512: ConvergenceWarning: Maximum Likelihood optimization failed to converge. Check mle_retvals\n",
      "  \"Check mle_retvals\", ConvergenceWarning)\n"
     ]
    },
    {
     "name": "stdout",
     "output_type": "stream",
     "text": [
      "ARIMA(0, 1, 1)x(0, 1, 2, 12)- AIC:3168.740528486076\n",
      " \n",
      "ARIMA(0, 1, 1)x(0, 1, 3, 12)- AIC:9390.207917233227\n",
      " \n"
     ]
    },
    {
     "name": "stderr",
     "output_type": "stream",
     "text": [
      "/Library/Frameworks/Python.framework/Versions/3.7/lib/python3.7/site-packages/statsmodels/base/model.py:512: ConvergenceWarning: Maximum Likelihood optimization failed to converge. Check mle_retvals\n",
      "  \"Check mle_retvals\", ConvergenceWarning)\n"
     ]
    },
    {
     "name": "stdout",
     "output_type": "stream",
     "text": [
      "ARIMA(0, 1, 1)x(1, 1, 0, 12)- AIC:3533.5062322091967\n",
      " \n"
     ]
    },
    {
     "name": "stderr",
     "output_type": "stream",
     "text": [
      "/Library/Frameworks/Python.framework/Versions/3.7/lib/python3.7/site-packages/statsmodels/base/model.py:512: ConvergenceWarning: Maximum Likelihood optimization failed to converge. Check mle_retvals\n",
      "  \"Check mle_retvals\", ConvergenceWarning)\n"
     ]
    },
    {
     "name": "stdout",
     "output_type": "stream",
     "text": [
      "ARIMA(0, 1, 1)x(1, 1, 1, 12)- AIC:3484.5507657438357\n",
      " \n"
     ]
    },
    {
     "name": "stderr",
     "output_type": "stream",
     "text": [
      "/Library/Frameworks/Python.framework/Versions/3.7/lib/python3.7/site-packages/statsmodels/base/model.py:512: ConvergenceWarning: Maximum Likelihood optimization failed to converge. Check mle_retvals\n",
      "  \"Check mle_retvals\", ConvergenceWarning)\n"
     ]
    },
    {
     "name": "stdout",
     "output_type": "stream",
     "text": [
      "ARIMA(0, 1, 1)x(1, 1, 2, 12)- AIC:3170.8213167921735\n",
      " \n",
      "ARIMA(0, 1, 1)x(1, 1, 3, 12)- AIC:9400.378277081927\n",
      " \n"
     ]
    },
    {
     "name": "stderr",
     "output_type": "stream",
     "text": [
      "/Library/Frameworks/Python.framework/Versions/3.7/lib/python3.7/site-packages/statsmodels/base/model.py:512: ConvergenceWarning: Maximum Likelihood optimization failed to converge. Check mle_retvals\n",
      "  \"Check mle_retvals\", ConvergenceWarning)\n"
     ]
    },
    {
     "name": "stdout",
     "output_type": "stream",
     "text": [
      "ARIMA(0, 1, 1)x(2, 1, 0, 12)- AIC:3218.718505148934\n",
      " \n"
     ]
    },
    {
     "name": "stderr",
     "output_type": "stream",
     "text": [
      "/Library/Frameworks/Python.framework/Versions/3.7/lib/python3.7/site-packages/statsmodels/base/model.py:512: ConvergenceWarning: Maximum Likelihood optimization failed to converge. Check mle_retvals\n",
      "  \"Check mle_retvals\", ConvergenceWarning)\n"
     ]
    },
    {
     "name": "stdout",
     "output_type": "stream",
     "text": [
      "ARIMA(0, 1, 1)x(2, 1, 1, 12)- AIC:3219.9580520265736\n",
      " \n"
     ]
    },
    {
     "name": "stderr",
     "output_type": "stream",
     "text": [
      "/Library/Frameworks/Python.framework/Versions/3.7/lib/python3.7/site-packages/statsmodels/base/model.py:512: ConvergenceWarning: Maximum Likelihood optimization failed to converge. Check mle_retvals\n",
      "  \"Check mle_retvals\", ConvergenceWarning)\n"
     ]
    },
    {
     "name": "stdout",
     "output_type": "stream",
     "text": [
      "ARIMA(0, 1, 1)x(2, 1, 2, 12)- AIC:3170.673374875312\n",
      " \n",
      "ARIMA(0, 1, 1)x(2, 1, 3, 12)- AIC:9384.654996276335\n",
      " \n"
     ]
    },
    {
     "name": "stderr",
     "output_type": "stream",
     "text": [
      "/Library/Frameworks/Python.framework/Versions/3.7/lib/python3.7/site-packages/statsmodels/base/model.py:512: ConvergenceWarning: Maximum Likelihood optimization failed to converge. Check mle_retvals\n",
      "  \"Check mle_retvals\", ConvergenceWarning)\n"
     ]
    },
    {
     "name": "stdout",
     "output_type": "stream",
     "text": [
      "ARIMA(0, 1, 1)x(3, 1, 0, 12)- AIC:2906.1425693851315\n",
      " \n"
     ]
    },
    {
     "name": "stderr",
     "output_type": "stream",
     "text": [
      "/Library/Frameworks/Python.framework/Versions/3.7/lib/python3.7/site-packages/statsmodels/base/model.py:512: ConvergenceWarning: Maximum Likelihood optimization failed to converge. Check mle_retvals\n",
      "  \"Check mle_retvals\", ConvergenceWarning)\n"
     ]
    },
    {
     "name": "stdout",
     "output_type": "stream",
     "text": [
      "ARIMA(0, 1, 1)x(3, 1, 1, 12)- AIC:2908.373601106715\n",
      " \n"
     ]
    },
    {
     "name": "stderr",
     "output_type": "stream",
     "text": [
      "/Library/Frameworks/Python.framework/Versions/3.7/lib/python3.7/site-packages/statsmodels/base/model.py:512: ConvergenceWarning: Maximum Likelihood optimization failed to converge. Check mle_retvals\n",
      "  \"Check mle_retvals\", ConvergenceWarning)\n"
     ]
    },
    {
     "name": "stdout",
     "output_type": "stream",
     "text": [
      "ARIMA(0, 1, 1)x(3, 1, 2, 12)- AIC:2905.2979678576608\n",
      " \n",
      "ARIMA(0, 1, 1)x(3, 1, 3, 12)- AIC:9338.336770486309\n",
      " \n"
     ]
    },
    {
     "name": "stderr",
     "output_type": "stream",
     "text": [
      "/Library/Frameworks/Python.framework/Versions/3.7/lib/python3.7/site-packages/statsmodels/base/model.py:512: ConvergenceWarning: Maximum Likelihood optimization failed to converge. Check mle_retvals\n",
      "  \"Check mle_retvals\", ConvergenceWarning)\n"
     ]
    },
    {
     "name": "stdout",
     "output_type": "stream",
     "text": [
      "ARIMA(0, 1, 2)x(0, 1, 0, 12)- AIC:3765.2367840580773\n",
      " \n"
     ]
    },
    {
     "name": "stderr",
     "output_type": "stream",
     "text": [
      "/Library/Frameworks/Python.framework/Versions/3.7/lib/python3.7/site-packages/statsmodels/base/model.py:512: ConvergenceWarning: Maximum Likelihood optimization failed to converge. Check mle_retvals\n",
      "  \"Check mle_retvals\", ConvergenceWarning)\n"
     ]
    },
    {
     "name": "stdout",
     "output_type": "stream",
     "text": [
      "ARIMA(0, 1, 2)x(0, 1, 1, 12)- AIC:3456.222635493016\n",
      " \n"
     ]
    },
    {
     "name": "stderr",
     "output_type": "stream",
     "text": [
      "/Library/Frameworks/Python.framework/Versions/3.7/lib/python3.7/site-packages/statsmodels/base/model.py:512: ConvergenceWarning: Maximum Likelihood optimization failed to converge. Check mle_retvals\n",
      "  \"Check mle_retvals\", ConvergenceWarning)\n"
     ]
    },
    {
     "name": "stdout",
     "output_type": "stream",
     "text": [
      "ARIMA(0, 1, 2)x(0, 1, 2, 12)- AIC:3144.6644745677822\n",
      " \n",
      "ARIMA(0, 1, 2)x(0, 1, 3, 12)- AIC:9302.199689936551\n",
      " \n"
     ]
    },
    {
     "name": "stderr",
     "output_type": "stream",
     "text": [
      "/Library/Frameworks/Python.framework/Versions/3.7/lib/python3.7/site-packages/statsmodels/base/model.py:512: ConvergenceWarning: Maximum Likelihood optimization failed to converge. Check mle_retvals\n",
      "  \"Check mle_retvals\", ConvergenceWarning)\n"
     ]
    },
    {
     "name": "stdout",
     "output_type": "stream",
     "text": [
      "ARIMA(0, 1, 2)x(1, 1, 0, 12)- AIC:3533.2261727760765\n",
      " \n"
     ]
    },
    {
     "name": "stderr",
     "output_type": "stream",
     "text": [
      "/Library/Frameworks/Python.framework/Versions/3.7/lib/python3.7/site-packages/statsmodels/base/model.py:512: ConvergenceWarning: Maximum Likelihood optimization failed to converge. Check mle_retvals\n",
      "  \"Check mle_retvals\", ConvergenceWarning)\n"
     ]
    },
    {
     "name": "stdout",
     "output_type": "stream",
     "text": [
      "ARIMA(0, 1, 2)x(1, 1, 1, 12)- AIC:3458.3031341931546\n",
      " \n"
     ]
    },
    {
     "name": "stderr",
     "output_type": "stream",
     "text": [
      "/Library/Frameworks/Python.framework/Versions/3.7/lib/python3.7/site-packages/statsmodels/base/model.py:512: ConvergenceWarning: Maximum Likelihood optimization failed to converge. Check mle_retvals\n",
      "  \"Check mle_retvals\", ConvergenceWarning)\n"
     ]
    },
    {
     "name": "stdout",
     "output_type": "stream",
     "text": [
      "ARIMA(0, 1, 2)x(1, 1, 2, 12)- AIC:3146.6345947431414\n",
      " \n",
      "ARIMA(0, 1, 2)x(1, 1, 3, 12)- AIC:9312.29148863286\n",
      " \n"
     ]
    },
    {
     "name": "stderr",
     "output_type": "stream",
     "text": [
      "/Library/Frameworks/Python.framework/Versions/3.7/lib/python3.7/site-packages/statsmodels/base/model.py:512: ConvergenceWarning: Maximum Likelihood optimization failed to converge. Check mle_retvals\n",
      "  \"Check mle_retvals\", ConvergenceWarning)\n"
     ]
    },
    {
     "name": "stdout",
     "output_type": "stream",
     "text": [
      "ARIMA(0, 1, 2)x(2, 1, 0, 12)- AIC:3220.884217943499\n",
      " \n"
     ]
    },
    {
     "name": "stderr",
     "output_type": "stream",
     "text": [
      "/Library/Frameworks/Python.framework/Versions/3.7/lib/python3.7/site-packages/statsmodels/base/model.py:512: ConvergenceWarning: Maximum Likelihood optimization failed to converge. Check mle_retvals\n",
      "  \"Check mle_retvals\", ConvergenceWarning)\n"
     ]
    },
    {
     "name": "stdout",
     "output_type": "stream",
     "text": [
      "ARIMA(0, 1, 2)x(2, 1, 1, 12)- AIC:3222.103117672883\n",
      " \n"
     ]
    },
    {
     "name": "stderr",
     "output_type": "stream",
     "text": [
      "/Library/Frameworks/Python.framework/Versions/3.7/lib/python3.7/site-packages/statsmodels/base/model.py:512: ConvergenceWarning: Maximum Likelihood optimization failed to converge. Check mle_retvals\n",
      "  \"Check mle_retvals\", ConvergenceWarning)\n"
     ]
    },
    {
     "name": "stdout",
     "output_type": "stream",
     "text": [
      "ARIMA(0, 1, 2)x(2, 1, 2, 12)- AIC:3145.641084272716\n",
      " \n",
      "ARIMA(0, 1, 2)x(2, 1, 3, 12)- AIC:9296.738623988864\n",
      " \n"
     ]
    },
    {
     "name": "stderr",
     "output_type": "stream",
     "text": [
      "/Library/Frameworks/Python.framework/Versions/3.7/lib/python3.7/site-packages/statsmodels/base/model.py:512: ConvergenceWarning: Maximum Likelihood optimization failed to converge. Check mle_retvals\n",
      "  \"Check mle_retvals\", ConvergenceWarning)\n"
     ]
    },
    {
     "name": "stdout",
     "output_type": "stream",
     "text": [
      "ARIMA(0, 1, 2)x(3, 1, 0, 12)- AIC:2906.188469529572\n",
      " \n"
     ]
    },
    {
     "name": "stderr",
     "output_type": "stream",
     "text": [
      "/Library/Frameworks/Python.framework/Versions/3.7/lib/python3.7/site-packages/statsmodels/base/model.py:512: ConvergenceWarning: Maximum Likelihood optimization failed to converge. Check mle_retvals\n",
      "  \"Check mle_retvals\", ConvergenceWarning)\n"
     ]
    },
    {
     "name": "stdout",
     "output_type": "stream",
     "text": [
      "ARIMA(0, 1, 2)x(3, 1, 1, 12)- AIC:2908.5054923143\n",
      " \n"
     ]
    },
    {
     "name": "stderr",
     "output_type": "stream",
     "text": [
      "/Library/Frameworks/Python.framework/Versions/3.7/lib/python3.7/site-packages/statsmodels/base/model.py:512: ConvergenceWarning: Maximum Likelihood optimization failed to converge. Check mle_retvals\n",
      "  \"Check mle_retvals\", ConvergenceWarning)\n"
     ]
    },
    {
     "name": "stdout",
     "output_type": "stream",
     "text": [
      "ARIMA(0, 1, 2)x(3, 1, 2, 12)- AIC:2907.557900970513\n",
      " \n",
      "ARIMA(0, 1, 2)x(3, 1, 3, 12)- AIC:9250.884996523488\n",
      " \n"
     ]
    },
    {
     "name": "stderr",
     "output_type": "stream",
     "text": [
      "/Library/Frameworks/Python.framework/Versions/3.7/lib/python3.7/site-packages/statsmodels/base/model.py:512: ConvergenceWarning: Maximum Likelihood optimization failed to converge. Check mle_retvals\n",
      "  \"Check mle_retvals\", ConvergenceWarning)\n"
     ]
    },
    {
     "name": "stdout",
     "output_type": "stream",
     "text": [
      "ARIMA(0, 1, 3)x(0, 1, 0, 12)- AIC:3737.43872072418\n",
      " \n"
     ]
    },
    {
     "name": "stderr",
     "output_type": "stream",
     "text": [
      "/Library/Frameworks/Python.framework/Versions/3.7/lib/python3.7/site-packages/statsmodels/base/model.py:512: ConvergenceWarning: Maximum Likelihood optimization failed to converge. Check mle_retvals\n",
      "  \"Check mle_retvals\", ConvergenceWarning)\n"
     ]
    },
    {
     "name": "stdout",
     "output_type": "stream",
     "text": [
      "ARIMA(0, 1, 3)x(0, 1, 1, 12)- AIC:3428.0212665492486\n",
      " \n"
     ]
    },
    {
     "name": "stderr",
     "output_type": "stream",
     "text": [
      "/Library/Frameworks/Python.framework/Versions/3.7/lib/python3.7/site-packages/statsmodels/base/model.py:512: ConvergenceWarning: Maximum Likelihood optimization failed to converge. Check mle_retvals\n",
      "  \"Check mle_retvals\", ConvergenceWarning)\n"
     ]
    },
    {
     "name": "stdout",
     "output_type": "stream",
     "text": [
      "ARIMA(0, 1, 3)x(0, 1, 2, 12)- AIC:3120.4282458854213\n",
      " \n",
      "ARIMA(0, 1, 3)x(0, 1, 3, 12)- AIC:9217.676410485072\n",
      " \n"
     ]
    },
    {
     "name": "stderr",
     "output_type": "stream",
     "text": [
      "/Library/Frameworks/Python.framework/Versions/3.7/lib/python3.7/site-packages/statsmodels/base/model.py:512: ConvergenceWarning: Maximum Likelihood optimization failed to converge. Check mle_retvals\n",
      "  \"Check mle_retvals\", ConvergenceWarning)\n"
     ]
    },
    {
     "name": "stdout",
     "output_type": "stream",
     "text": [
      "ARIMA(0, 1, 3)x(1, 1, 0, 12)- AIC:3535.2365046423824\n",
      " \n"
     ]
    },
    {
     "name": "stderr",
     "output_type": "stream",
     "text": [
      "/Library/Frameworks/Python.framework/Versions/3.7/lib/python3.7/site-packages/statsmodels/base/model.py:512: ConvergenceWarning: Maximum Likelihood optimization failed to converge. Check mle_retvals\n",
      "  \"Check mle_retvals\", ConvergenceWarning)\n"
     ]
    },
    {
     "name": "stdout",
     "output_type": "stream",
     "text": [
      "ARIMA(0, 1, 3)x(1, 1, 1, 12)- AIC:3429.7450215525346\n",
      " \n"
     ]
    },
    {
     "name": "stderr",
     "output_type": "stream",
     "text": [
      "/Library/Frameworks/Python.framework/Versions/3.7/lib/python3.7/site-packages/statsmodels/base/model.py:512: ConvergenceWarning: Maximum Likelihood optimization failed to converge. Check mle_retvals\n",
      "  \"Check mle_retvals\", ConvergenceWarning)\n"
     ]
    },
    {
     "name": "stdout",
     "output_type": "stream",
     "text": [
      "ARIMA(0, 1, 3)x(1, 1, 2, 12)- AIC:3121.8734073080373\n",
      " \n",
      "ARIMA(0, 1, 3)x(1, 1, 3, 12)- AIC:9227.689648028989\n",
      " \n"
     ]
    },
    {
     "name": "stderr",
     "output_type": "stream",
     "text": [
      "/Library/Frameworks/Python.framework/Versions/3.7/lib/python3.7/site-packages/statsmodels/base/model.py:512: ConvergenceWarning: Maximum Likelihood optimization failed to converge. Check mle_retvals\n",
      "  \"Check mle_retvals\", ConvergenceWarning)\n"
     ]
    },
    {
     "name": "stdout",
     "output_type": "stream",
     "text": [
      "ARIMA(0, 1, 3)x(2, 1, 0, 12)- AIC:3222.7245228502948\n",
      " \n"
     ]
    },
    {
     "name": "stderr",
     "output_type": "stream",
     "text": [
      "/Library/Frameworks/Python.framework/Versions/3.7/lib/python3.7/site-packages/statsmodels/base/model.py:512: ConvergenceWarning: Maximum Likelihood optimization failed to converge. Check mle_retvals\n",
      "  \"Check mle_retvals\", ConvergenceWarning)\n"
     ]
    },
    {
     "name": "stdout",
     "output_type": "stream",
     "text": [
      "ARIMA(0, 1, 3)x(2, 1, 1, 12)- AIC:3223.7730361671465\n",
      " \n"
     ]
    },
    {
     "name": "stderr",
     "output_type": "stream",
     "text": [
      "/Library/Frameworks/Python.framework/Versions/3.7/lib/python3.7/site-packages/statsmodels/base/model.py:512: ConvergenceWarning: Maximum Likelihood optimization failed to converge. Check mle_retvals\n",
      "  \"Check mle_retvals\", ConvergenceWarning)\n"
     ]
    },
    {
     "name": "stdout",
     "output_type": "stream",
     "text": [
      "ARIMA(0, 1, 3)x(2, 1, 2, 12)- AIC:3119.432579962586\n",
      " \n",
      "ARIMA(0, 1, 3)x(2, 1, 3, 12)- AIC:9212.307199546582\n",
      " \n"
     ]
    },
    {
     "name": "stderr",
     "output_type": "stream",
     "text": [
      "/Library/Frameworks/Python.framework/Versions/3.7/lib/python3.7/site-packages/statsmodels/base/model.py:512: ConvergenceWarning: Maximum Likelihood optimization failed to converge. Check mle_retvals\n",
      "  \"Check mle_retvals\", ConvergenceWarning)\n"
     ]
    },
    {
     "name": "stdout",
     "output_type": "stream",
     "text": [
      "ARIMA(0, 1, 3)x(3, 1, 0, 12)- AIC:2906.039420752062\n",
      " \n"
     ]
    },
    {
     "name": "stderr",
     "output_type": "stream",
     "text": [
      "/Library/Frameworks/Python.framework/Versions/3.7/lib/python3.7/site-packages/statsmodels/base/model.py:512: ConvergenceWarning: Maximum Likelihood optimization failed to converge. Check mle_retvals\n",
      "  \"Check mle_retvals\", ConvergenceWarning)\n"
     ]
    },
    {
     "name": "stdout",
     "output_type": "stream",
     "text": [
      "ARIMA(0, 1, 3)x(3, 1, 1, 12)- AIC:2908.50092341347\n",
      " \n"
     ]
    },
    {
     "name": "stderr",
     "output_type": "stream",
     "text": [
      "/Library/Frameworks/Python.framework/Versions/3.7/lib/python3.7/site-packages/statsmodels/base/model.py:512: ConvergenceWarning: Maximum Likelihood optimization failed to converge. Check mle_retvals\n",
      "  \"Check mle_retvals\", ConvergenceWarning)\n"
     ]
    },
    {
     "name": "stdout",
     "output_type": "stream",
     "text": [
      "ARIMA(0, 1, 3)x(3, 1, 2, 12)- AIC:2908.7827646542983\n",
      " \n",
      "ARIMA(0, 1, 3)x(3, 1, 3, 12)- AIC:9166.918170405994\n",
      " \n"
     ]
    },
    {
     "name": "stderr",
     "output_type": "stream",
     "text": [
      "/Library/Frameworks/Python.framework/Versions/3.7/lib/python3.7/site-packages/statsmodels/base/model.py:512: ConvergenceWarning: Maximum Likelihood optimization failed to converge. Check mle_retvals\n",
      "  \"Check mle_retvals\", ConvergenceWarning)\n"
     ]
    },
    {
     "name": "stdout",
     "output_type": "stream",
     "text": [
      "ARIMA(1, 1, 0)x(0, 1, 0, 12)- AIC:3816.8128075430973\n",
      " \n"
     ]
    },
    {
     "name": "stderr",
     "output_type": "stream",
     "text": [
      "/Library/Frameworks/Python.framework/Versions/3.7/lib/python3.7/site-packages/statsmodels/base/model.py:512: ConvergenceWarning: Maximum Likelihood optimization failed to converge. Check mle_retvals\n",
      "  \"Check mle_retvals\", ConvergenceWarning)\n"
     ]
    },
    {
     "name": "stdout",
     "output_type": "stream",
     "text": [
      "ARIMA(1, 1, 0)x(0, 1, 1, 12)- AIC:3508.8170357096747\n",
      " \n"
     ]
    },
    {
     "name": "stderr",
     "output_type": "stream",
     "text": [
      "/Library/Frameworks/Python.framework/Versions/3.7/lib/python3.7/site-packages/statsmodels/base/model.py:512: ConvergenceWarning: Maximum Likelihood optimization failed to converge. Check mle_retvals\n",
      "  \"Check mle_retvals\", ConvergenceWarning)\n"
     ]
    },
    {
     "name": "stdout",
     "output_type": "stream",
     "text": [
      "ARIMA(1, 1, 0)x(0, 1, 2, 12)- AIC:3194.848300914777\n",
      " \n",
      "ARIMA(1, 1, 0)x(0, 1, 3, 12)- AIC:9479.441349250461\n",
      " \n"
     ]
    },
    {
     "name": "stderr",
     "output_type": "stream",
     "text": [
      "/Library/Frameworks/Python.framework/Versions/3.7/lib/python3.7/site-packages/statsmodels/base/model.py:512: ConvergenceWarning: Maximum Likelihood optimization failed to converge. Check mle_retvals\n",
      "  \"Check mle_retvals\", ConvergenceWarning)\n"
     ]
    },
    {
     "name": "stdout",
     "output_type": "stream",
     "text": [
      "ARIMA(1, 1, 0)x(1, 1, 0, 12)- AIC:3508.7668765980143\n",
      " \n"
     ]
    },
    {
     "name": "stderr",
     "output_type": "stream",
     "text": [
      "/Library/Frameworks/Python.framework/Versions/3.7/lib/python3.7/site-packages/statsmodels/base/model.py:512: ConvergenceWarning: Maximum Likelihood optimization failed to converge. Check mle_retvals\n",
      "  \"Check mle_retvals\", ConvergenceWarning)\n"
     ]
    },
    {
     "name": "stdout",
     "output_type": "stream",
     "text": [
      "ARIMA(1, 1, 0)x(1, 1, 1, 12)- AIC:3511.198657064371\n",
      " \n"
     ]
    },
    {
     "name": "stderr",
     "output_type": "stream",
     "text": [
      "/Library/Frameworks/Python.framework/Versions/3.7/lib/python3.7/site-packages/statsmodels/base/model.py:512: ConvergenceWarning: Maximum Likelihood optimization failed to converge. Check mle_retvals\n",
      "  \"Check mle_retvals\", ConvergenceWarning)\n"
     ]
    },
    {
     "name": "stdout",
     "output_type": "stream",
     "text": [
      "ARIMA(1, 1, 0)x(1, 1, 2, 12)- AIC:3196.810473577735\n",
      " \n",
      "ARIMA(1, 1, 0)x(1, 1, 3, 12)- AIC:9489.69027025155\n",
      " \n"
     ]
    },
    {
     "name": "stderr",
     "output_type": "stream",
     "text": [
      "/Library/Frameworks/Python.framework/Versions/3.7/lib/python3.7/site-packages/statsmodels/base/model.py:512: ConvergenceWarning: Maximum Likelihood optimization failed to converge. Check mle_retvals\n",
      "  \"Check mle_retvals\", ConvergenceWarning)\n"
     ]
    },
    {
     "name": "stdout",
     "output_type": "stream",
     "text": [
      "ARIMA(1, 1, 0)x(2, 1, 0, 12)- AIC:3193.3308772698047\n",
      " \n"
     ]
    },
    {
     "name": "stderr",
     "output_type": "stream",
     "text": [
      "/Library/Frameworks/Python.framework/Versions/3.7/lib/python3.7/site-packages/statsmodels/base/model.py:512: ConvergenceWarning: Maximum Likelihood optimization failed to converge. Check mle_retvals\n",
      "  \"Check mle_retvals\", ConvergenceWarning)\n"
     ]
    },
    {
     "name": "stdout",
     "output_type": "stream",
     "text": [
      "ARIMA(1, 1, 0)x(2, 1, 1, 12)- AIC:3194.738659523612\n",
      " \n"
     ]
    },
    {
     "name": "stderr",
     "output_type": "stream",
     "text": [
      "/Library/Frameworks/Python.framework/Versions/3.7/lib/python3.7/site-packages/statsmodels/base/model.py:512: ConvergenceWarning: Maximum Likelihood optimization failed to converge. Check mle_retvals\n",
      "  \"Check mle_retvals\", ConvergenceWarning)\n"
     ]
    },
    {
     "name": "stdout",
     "output_type": "stream",
     "text": [
      "ARIMA(1, 1, 0)x(2, 1, 2, 12)- AIC:3196.9409844601673\n",
      " \n",
      "ARIMA(1, 1, 0)x(2, 1, 3, 12)- AIC:9473.796573284371\n",
      " \n"
     ]
    },
    {
     "name": "stderr",
     "output_type": "stream",
     "text": [
      "/Library/Frameworks/Python.framework/Versions/3.7/lib/python3.7/site-packages/statsmodels/base/model.py:512: ConvergenceWarning: Maximum Likelihood optimization failed to converge. Check mle_retvals\n",
      "  \"Check mle_retvals\", ConvergenceWarning)\n"
     ]
    },
    {
     "name": "stdout",
     "output_type": "stream",
     "text": [
      "ARIMA(1, 1, 0)x(3, 1, 0, 12)- AIC:2880.68301420825\n",
      " \n"
     ]
    },
    {
     "name": "stderr",
     "output_type": "stream",
     "text": [
      "/Library/Frameworks/Python.framework/Versions/3.7/lib/python3.7/site-packages/statsmodels/base/model.py:512: ConvergenceWarning: Maximum Likelihood optimization failed to converge. Check mle_retvals\n",
      "  \"Check mle_retvals\", ConvergenceWarning)\n"
     ]
    },
    {
     "name": "stdout",
     "output_type": "stream",
     "text": [
      "ARIMA(1, 1, 0)x(3, 1, 1, 12)- AIC:2882.8632124509077\n",
      " \n"
     ]
    },
    {
     "name": "stderr",
     "output_type": "stream",
     "text": [
      "/Library/Frameworks/Python.framework/Versions/3.7/lib/python3.7/site-packages/statsmodels/base/model.py:512: ConvergenceWarning: Maximum Likelihood optimization failed to converge. Check mle_retvals\n",
      "  \"Check mle_retvals\", ConvergenceWarning)\n"
     ]
    },
    {
     "name": "stdout",
     "output_type": "stream",
     "text": [
      "ARIMA(1, 1, 0)x(3, 1, 2, 12)- AIC:2880.3391274127207\n",
      " \n",
      "ARIMA(1, 1, 0)x(3, 1, 3, 12)- AIC:9427.013749169155\n",
      " \n"
     ]
    },
    {
     "name": "stderr",
     "output_type": "stream",
     "text": [
      "/Library/Frameworks/Python.framework/Versions/3.7/lib/python3.7/site-packages/statsmodels/base/model.py:512: ConvergenceWarning: Maximum Likelihood optimization failed to converge. Check mle_retvals\n",
      "  \"Check mle_retvals\", ConvergenceWarning)\n"
     ]
    },
    {
     "name": "stdout",
     "output_type": "stream",
     "text": [
      "ARIMA(1, 1, 1)x(0, 1, 0, 12)- AIC:3790.779422875181\n",
      " \n"
     ]
    },
    {
     "name": "stderr",
     "output_type": "stream",
     "text": [
      "/Library/Frameworks/Python.framework/Versions/3.7/lib/python3.7/site-packages/statsmodels/base/model.py:512: ConvergenceWarning: Maximum Likelihood optimization failed to converge. Check mle_retvals\n",
      "  \"Check mle_retvals\", ConvergenceWarning)\n"
     ]
    },
    {
     "name": "stdout",
     "output_type": "stream",
     "text": [
      "ARIMA(1, 1, 1)x(0, 1, 1, 12)- AIC:3482.8204657982187\n",
      " \n"
     ]
    },
    {
     "name": "stderr",
     "output_type": "stream",
     "text": [
      "/Library/Frameworks/Python.framework/Versions/3.7/lib/python3.7/site-packages/statsmodels/base/model.py:512: ConvergenceWarning: Maximum Likelihood optimization failed to converge. Check mle_retvals\n",
      "  \"Check mle_retvals\", ConvergenceWarning)\n"
     ]
    },
    {
     "name": "stdout",
     "output_type": "stream",
     "text": [
      "ARIMA(1, 1, 1)x(0, 1, 2, 12)- AIC:3170.26569784188\n",
      " \n",
      "ARIMA(1, 1, 1)x(0, 1, 3, 12)- AIC:9391.740087706501\n",
      " \n"
     ]
    },
    {
     "name": "stderr",
     "output_type": "stream",
     "text": [
      "/Library/Frameworks/Python.framework/Versions/3.7/lib/python3.7/site-packages/statsmodels/base/model.py:512: ConvergenceWarning: Maximum Likelihood optimization failed to converge. Check mle_retvals\n",
      "  \"Check mle_retvals\", ConvergenceWarning)\n"
     ]
    },
    {
     "name": "stdout",
     "output_type": "stream",
     "text": [
      "ARIMA(1, 1, 1)x(1, 1, 0, 12)- AIC:3508.2510783319203\n",
      " \n"
     ]
    },
    {
     "name": "stderr",
     "output_type": "stream",
     "text": [
      "/Library/Frameworks/Python.framework/Versions/3.7/lib/python3.7/site-packages/statsmodels/base/model.py:512: ConvergenceWarning: Maximum Likelihood optimization failed to converge. Check mle_retvals\n",
      "  \"Check mle_retvals\", ConvergenceWarning)\n"
     ]
    },
    {
     "name": "stdout",
     "output_type": "stream",
     "text": [
      "ARIMA(1, 1, 1)x(1, 1, 1, 12)- AIC:3484.9804273822197\n",
      " \n"
     ]
    },
    {
     "name": "stderr",
     "output_type": "stream",
     "text": [
      "/Library/Frameworks/Python.framework/Versions/3.7/lib/python3.7/site-packages/statsmodels/base/model.py:512: ConvergenceWarning: Maximum Likelihood optimization failed to converge. Check mle_retvals\n",
      "  \"Check mle_retvals\", ConvergenceWarning)\n"
     ]
    },
    {
     "name": "stdout",
     "output_type": "stream",
     "text": [
      "ARIMA(1, 1, 1)x(1, 1, 2, 12)- AIC:3169.5964475123883\n",
      " \n",
      "ARIMA(1, 1, 1)x(1, 1, 3, 12)- AIC:9401.9104475552\n",
      " \n"
     ]
    },
    {
     "name": "stderr",
     "output_type": "stream",
     "text": [
      "/Library/Frameworks/Python.framework/Versions/3.7/lib/python3.7/site-packages/statsmodels/base/model.py:512: ConvergenceWarning: Maximum Likelihood optimization failed to converge. Check mle_retvals\n",
      "  \"Check mle_retvals\", ConvergenceWarning)\n"
     ]
    },
    {
     "name": "stdout",
     "output_type": "stream",
     "text": [
      "ARIMA(1, 1, 1)x(2, 1, 0, 12)- AIC:3194.052794432143\n",
      " \n"
     ]
    },
    {
     "name": "stderr",
     "output_type": "stream",
     "text": [
      "/Library/Frameworks/Python.framework/Versions/3.7/lib/python3.7/site-packages/statsmodels/base/model.py:512: ConvergenceWarning: Maximum Likelihood optimization failed to converge. Check mle_retvals\n",
      "  \"Check mle_retvals\", ConvergenceWarning)\n"
     ]
    },
    {
     "name": "stdout",
     "output_type": "stream",
     "text": [
      "ARIMA(1, 1, 1)x(2, 1, 1, 12)- AIC:3195.92264903597\n",
      " \n"
     ]
    },
    {
     "name": "stderr",
     "output_type": "stream",
     "text": [
      "/Library/Frameworks/Python.framework/Versions/3.7/lib/python3.7/site-packages/statsmodels/base/model.py:512: ConvergenceWarning: Maximum Likelihood optimization failed to converge. Check mle_retvals\n",
      "  \"Check mle_retvals\", ConvergenceWarning)\n"
     ]
    },
    {
     "name": "stdout",
     "output_type": "stream",
     "text": [
      "ARIMA(1, 1, 1)x(2, 1, 2, 12)- AIC:3171.0996623456576\n",
      " \n",
      "ARIMA(1, 1, 1)x(2, 1, 3, 12)- AIC:9386.187166749613\n",
      " \n"
     ]
    },
    {
     "name": "stderr",
     "output_type": "stream",
     "text": [
      "/Library/Frameworks/Python.framework/Versions/3.7/lib/python3.7/site-packages/statsmodels/base/model.py:512: ConvergenceWarning: Maximum Likelihood optimization failed to converge. Check mle_retvals\n",
      "  \"Check mle_retvals\", ConvergenceWarning)\n"
     ]
    },
    {
     "name": "stdout",
     "output_type": "stream",
     "text": [
      "ARIMA(1, 1, 1)x(3, 1, 0, 12)- AIC:2880.743804985049\n",
      " \n"
     ]
    },
    {
     "name": "stderr",
     "output_type": "stream",
     "text": [
      "/Library/Frameworks/Python.framework/Versions/3.7/lib/python3.7/site-packages/statsmodels/base/model.py:512: ConvergenceWarning: Maximum Likelihood optimization failed to converge. Check mle_retvals\n",
      "  \"Check mle_retvals\", ConvergenceWarning)\n"
     ]
    },
    {
     "name": "stdout",
     "output_type": "stream",
     "text": [
      "ARIMA(1, 1, 1)x(3, 1, 1, 12)- AIC:2882.8299346072317\n",
      " \n"
     ]
    },
    {
     "name": "stderr",
     "output_type": "stream",
     "text": [
      "/Library/Frameworks/Python.framework/Versions/3.7/lib/python3.7/site-packages/statsmodels/base/model.py:512: ConvergenceWarning: Maximum Likelihood optimization failed to converge. Check mle_retvals\n",
      "  \"Check mle_retvals\", ConvergenceWarning)\n"
     ]
    },
    {
     "name": "stdout",
     "output_type": "stream",
     "text": [
      "ARIMA(1, 1, 1)x(3, 1, 2, 12)- AIC:2882.1272979644077\n",
      " \n",
      "ARIMA(1, 1, 1)x(3, 1, 3, 12)- AIC:9339.868940959746\n",
      " \n"
     ]
    },
    {
     "name": "stderr",
     "output_type": "stream",
     "text": [
      "/Library/Frameworks/Python.framework/Versions/3.7/lib/python3.7/site-packages/statsmodels/base/model.py:512: ConvergenceWarning: Maximum Likelihood optimization failed to converge. Check mle_retvals\n",
      "  \"Check mle_retvals\", ConvergenceWarning)\n"
     ]
    },
    {
     "name": "stdout",
     "output_type": "stream",
     "text": [
      "ARIMA(1, 1, 2)x(0, 1, 0, 12)- AIC:3767.1302554145877\n",
      " \n"
     ]
    },
    {
     "name": "stderr",
     "output_type": "stream",
     "text": [
      "/Library/Frameworks/Python.framework/Versions/3.7/lib/python3.7/site-packages/statsmodels/base/model.py:512: ConvergenceWarning: Maximum Likelihood optimization failed to converge. Check mle_retvals\n",
      "  \"Check mle_retvals\", ConvergenceWarning)\n"
     ]
    },
    {
     "name": "stdout",
     "output_type": "stream",
     "text": [
      "ARIMA(1, 1, 2)x(0, 1, 1, 12)- AIC:3458.2112782078357\n",
      " \n"
     ]
    },
    {
     "name": "stderr",
     "output_type": "stream",
     "text": [
      "/Library/Frameworks/Python.framework/Versions/3.7/lib/python3.7/site-packages/statsmodels/base/model.py:512: ConvergenceWarning: Maximum Likelihood optimization failed to converge. Check mle_retvals\n",
      "  \"Check mle_retvals\", ConvergenceWarning)\n"
     ]
    },
    {
     "name": "stdout",
     "output_type": "stream",
     "text": [
      "ARIMA(1, 1, 2)x(0, 1, 2, 12)- AIC:3146.809612294871\n",
      " \n",
      "ARIMA(1, 1, 2)x(0, 1, 3, 12)- AIC:9304.123290931224\n",
      " \n"
     ]
    },
    {
     "name": "stderr",
     "output_type": "stream",
     "text": [
      "/Library/Frameworks/Python.framework/Versions/3.7/lib/python3.7/site-packages/statsmodels/base/model.py:512: ConvergenceWarning: Maximum Likelihood optimization failed to converge. Check mle_retvals\n",
      "  \"Check mle_retvals\", ConvergenceWarning)\n"
     ]
    },
    {
     "name": "stdout",
     "output_type": "stream",
     "text": [
      "ARIMA(1, 1, 2)x(1, 1, 0, 12)- AIC:3509.9047313374986\n",
      " \n"
     ]
    },
    {
     "name": "stderr",
     "output_type": "stream",
     "text": [
      "/Library/Frameworks/Python.framework/Versions/3.7/lib/python3.7/site-packages/statsmodels/base/model.py:512: ConvergenceWarning: Maximum Likelihood optimization failed to converge. Check mle_retvals\n",
      "  \"Check mle_retvals\", ConvergenceWarning)\n"
     ]
    },
    {
     "name": "stdout",
     "output_type": "stream",
     "text": [
      "ARIMA(1, 1, 2)x(1, 1, 1, 12)- AIC:3460.4998537440565\n",
      " \n"
     ]
    },
    {
     "name": "stderr",
     "output_type": "stream",
     "text": [
      "/Library/Frameworks/Python.framework/Versions/3.7/lib/python3.7/site-packages/statsmodels/base/model.py:512: ConvergenceWarning: Maximum Likelihood optimization failed to converge. Check mle_retvals\n",
      "  \"Check mle_retvals\", ConvergenceWarning)\n"
     ]
    },
    {
     "name": "stdout",
     "output_type": "stream",
     "text": [
      "ARIMA(1, 1, 2)x(1, 1, 2, 12)- AIC:3145.6130952222975\n",
      " \n",
      "ARIMA(1, 1, 2)x(1, 1, 3, 12)- AIC:9314.215089627538\n",
      " \n"
     ]
    },
    {
     "name": "stderr",
     "output_type": "stream",
     "text": [
      "/Library/Frameworks/Python.framework/Versions/3.7/lib/python3.7/site-packages/statsmodels/base/model.py:512: ConvergenceWarning: Maximum Likelihood optimization failed to converge. Check mle_retvals\n",
      "  \"Check mle_retvals\", ConvergenceWarning)\n"
     ]
    },
    {
     "name": "stdout",
     "output_type": "stream",
     "text": [
      "ARIMA(1, 1, 2)x(2, 1, 0, 12)- AIC:3196.1376522529545\n",
      " \n"
     ]
    },
    {
     "name": "stderr",
     "output_type": "stream",
     "text": [
      "/Library/Frameworks/Python.framework/Versions/3.7/lib/python3.7/site-packages/statsmodels/base/model.py:512: ConvergenceWarning: Maximum Likelihood optimization failed to converge. Check mle_retvals\n",
      "  \"Check mle_retvals\", ConvergenceWarning)\n"
     ]
    },
    {
     "name": "stdout",
     "output_type": "stream",
     "text": [
      "ARIMA(1, 1, 2)x(2, 1, 1, 12)- AIC:3198.676728026316\n",
      " \n"
     ]
    },
    {
     "name": "stderr",
     "output_type": "stream",
     "text": [
      "/Library/Frameworks/Python.framework/Versions/3.7/lib/python3.7/site-packages/statsmodels/base/model.py:512: ConvergenceWarning: Maximum Likelihood optimization failed to converge. Check mle_retvals\n",
      "  \"Check mle_retvals\", ConvergenceWarning)\n"
     ]
    },
    {
     "name": "stdout",
     "output_type": "stream",
     "text": [
      "ARIMA(1, 1, 2)x(2, 1, 2, 12)- AIC:3147.0322737289516\n",
      " \n",
      "ARIMA(1, 1, 2)x(2, 1, 3, 12)- AIC:9298.662224983538\n",
      " \n"
     ]
    },
    {
     "name": "stderr",
     "output_type": "stream",
     "text": [
      "/Library/Frameworks/Python.framework/Versions/3.7/lib/python3.7/site-packages/statsmodels/base/model.py:512: ConvergenceWarning: Maximum Likelihood optimization failed to converge. Check mle_retvals\n",
      "  \"Check mle_retvals\", ConvergenceWarning)\n"
     ]
    },
    {
     "name": "stdout",
     "output_type": "stream",
     "text": [
      "ARIMA(1, 1, 2)x(3, 1, 0, 12)- AIC:2879.7866172741706\n",
      " \n"
     ]
    },
    {
     "name": "stderr",
     "output_type": "stream",
     "text": [
      "/Library/Frameworks/Python.framework/Versions/3.7/lib/python3.7/site-packages/statsmodels/base/model.py:512: ConvergenceWarning: Maximum Likelihood optimization failed to converge. Check mle_retvals\n",
      "  \"Check mle_retvals\", ConvergenceWarning)\n"
     ]
    },
    {
     "name": "stdout",
     "output_type": "stream",
     "text": [
      "ARIMA(1, 1, 2)x(3, 1, 1, 12)- AIC:2881.7996052324756\n",
      " \n"
     ]
    },
    {
     "name": "stderr",
     "output_type": "stream",
     "text": [
      "/Library/Frameworks/Python.framework/Versions/3.7/lib/python3.7/site-packages/statsmodels/base/model.py:512: ConvergenceWarning: Maximum Likelihood optimization failed to converge. Check mle_retvals\n",
      "  \"Check mle_retvals\", ConvergenceWarning)\n"
     ]
    },
    {
     "name": "stdout",
     "output_type": "stream",
     "text": [
      "ARIMA(1, 1, 2)x(3, 1, 2, 12)- AIC:2884.506935590565\n",
      " \n",
      "ARIMA(1, 1, 2)x(3, 1, 3, 12)- AIC:9252.808597518148\n",
      " \n"
     ]
    },
    {
     "name": "stderr",
     "output_type": "stream",
     "text": [
      "/Library/Frameworks/Python.framework/Versions/3.7/lib/python3.7/site-packages/statsmodels/base/model.py:512: ConvergenceWarning: Maximum Likelihood optimization failed to converge. Check mle_retvals\n",
      "  \"Check mle_retvals\", ConvergenceWarning)\n"
     ]
    },
    {
     "name": "stdout",
     "output_type": "stream",
     "text": [
      "ARIMA(1, 1, 3)x(0, 1, 0, 12)- AIC:3739.184854878086\n",
      " \n"
     ]
    },
    {
     "name": "stderr",
     "output_type": "stream",
     "text": [
      "/Library/Frameworks/Python.framework/Versions/3.7/lib/python3.7/site-packages/statsmodels/base/model.py:512: ConvergenceWarning: Maximum Likelihood optimization failed to converge. Check mle_retvals\n",
      "  \"Check mle_retvals\", ConvergenceWarning)\n"
     ]
    },
    {
     "name": "stdout",
     "output_type": "stream",
     "text": [
      "ARIMA(1, 1, 3)x(0, 1, 1, 12)- AIC:3429.7440921326415\n",
      " \n"
     ]
    },
    {
     "name": "stderr",
     "output_type": "stream",
     "text": [
      "/Library/Frameworks/Python.framework/Versions/3.7/lib/python3.7/site-packages/statsmodels/base/model.py:512: ConvergenceWarning: Maximum Likelihood optimization failed to converge. Check mle_retvals\n",
      "  \"Check mle_retvals\", ConvergenceWarning)\n"
     ]
    },
    {
     "name": "stdout",
     "output_type": "stream",
     "text": [
      "ARIMA(1, 1, 3)x(0, 1, 2, 12)- AIC:3122.1494888457405\n",
      " \n",
      "ARIMA(1, 1, 3)x(0, 1, 3, 12)- AIC:9219.36414815332\n",
      " \n"
     ]
    },
    {
     "name": "stderr",
     "output_type": "stream",
     "text": [
      "/Library/Frameworks/Python.framework/Versions/3.7/lib/python3.7/site-packages/statsmodels/base/model.py:512: ConvergenceWarning: Maximum Likelihood optimization failed to converge. Check mle_retvals\n",
      "  \"Check mle_retvals\", ConvergenceWarning)\n"
     ]
    },
    {
     "name": "stdout",
     "output_type": "stream",
     "text": [
      "ARIMA(1, 1, 3)x(1, 1, 0, 12)- AIC:3511.8736305959874\n",
      " \n"
     ]
    },
    {
     "name": "stderr",
     "output_type": "stream",
     "text": [
      "/Library/Frameworks/Python.framework/Versions/3.7/lib/python3.7/site-packages/statsmodels/base/model.py:512: ConvergenceWarning: Maximum Likelihood optimization failed to converge. Check mle_retvals\n",
      "  \"Check mle_retvals\", ConvergenceWarning)\n"
     ]
    },
    {
     "name": "stdout",
     "output_type": "stream",
     "text": [
      "ARIMA(1, 1, 3)x(1, 1, 1, 12)- AIC:3431.516624486345\n",
      " \n"
     ]
    },
    {
     "name": "stderr",
     "output_type": "stream",
     "text": [
      "/Library/Frameworks/Python.framework/Versions/3.7/lib/python3.7/site-packages/statsmodels/base/model.py:512: ConvergenceWarning: Maximum Likelihood optimization failed to converge. Check mle_retvals\n",
      "  \"Check mle_retvals\", ConvergenceWarning)\n"
     ]
    },
    {
     "name": "stdout",
     "output_type": "stream",
     "text": [
      "ARIMA(1, 1, 3)x(1, 1, 2, 12)- AIC:3121.7451184829597\n",
      " \n",
      "ARIMA(1, 1, 3)x(1, 1, 3, 12)- AIC:9229.377385697238\n",
      " \n"
     ]
    },
    {
     "name": "stderr",
     "output_type": "stream",
     "text": [
      "/Library/Frameworks/Python.framework/Versions/3.7/lib/python3.7/site-packages/statsmodels/base/model.py:512: ConvergenceWarning: Maximum Likelihood optimization failed to converge. Check mle_retvals\n",
      "  \"Check mle_retvals\", ConvergenceWarning)\n"
     ]
    },
    {
     "name": "stdout",
     "output_type": "stream",
     "text": [
      "ARIMA(1, 1, 3)x(2, 1, 0, 12)- AIC:3198.4547128527315\n",
      " \n"
     ]
    },
    {
     "name": "stderr",
     "output_type": "stream",
     "text": [
      "/Library/Frameworks/Python.framework/Versions/3.7/lib/python3.7/site-packages/statsmodels/base/model.py:512: ConvergenceWarning: Maximum Likelihood optimization failed to converge. Check mle_retvals\n",
      "  \"Check mle_retvals\", ConvergenceWarning)\n"
     ]
    },
    {
     "name": "stdout",
     "output_type": "stream",
     "text": [
      "ARIMA(1, 1, 3)x(2, 1, 1, 12)- AIC:3200.718960078896\n",
      " \n"
     ]
    },
    {
     "name": "stderr",
     "output_type": "stream",
     "text": [
      "/Library/Frameworks/Python.framework/Versions/3.7/lib/python3.7/site-packages/statsmodels/base/model.py:512: ConvergenceWarning: Maximum Likelihood optimization failed to converge. Check mle_retvals\n",
      "  \"Check mle_retvals\", ConvergenceWarning)\n"
     ]
    },
    {
     "name": "stdout",
     "output_type": "stream",
     "text": [
      "ARIMA(1, 1, 3)x(2, 1, 2, 12)- AIC:3119.4766902244187\n",
      " \n",
      "ARIMA(1, 1, 3)x(2, 1, 3, 12)- AIC:9213.99493721483\n",
      " \n"
     ]
    },
    {
     "name": "stderr",
     "output_type": "stream",
     "text": [
      "/Library/Frameworks/Python.framework/Versions/3.7/lib/python3.7/site-packages/statsmodels/base/model.py:512: ConvergenceWarning: Maximum Likelihood optimization failed to converge. Check mle_retvals\n",
      "  \"Check mle_retvals\", ConvergenceWarning)\n"
     ]
    },
    {
     "name": "stdout",
     "output_type": "stream",
     "text": [
      "ARIMA(1, 1, 3)x(3, 1, 0, 12)- AIC:2881.370355257514\n",
      " \n"
     ]
    },
    {
     "name": "stderr",
     "output_type": "stream",
     "text": [
      "/Library/Frameworks/Python.framework/Versions/3.7/lib/python3.7/site-packages/statsmodels/base/model.py:512: ConvergenceWarning: Maximum Likelihood optimization failed to converge. Check mle_retvals\n",
      "  \"Check mle_retvals\", ConvergenceWarning)\n"
     ]
    },
    {
     "name": "stdout",
     "output_type": "stream",
     "text": [
      "ARIMA(1, 1, 3)x(3, 1, 1, 12)- AIC:2883.340254421751\n",
      " \n"
     ]
    },
    {
     "name": "stderr",
     "output_type": "stream",
     "text": [
      "/Library/Frameworks/Python.framework/Versions/3.7/lib/python3.7/site-packages/statsmodels/base/model.py:512: ConvergenceWarning: Maximum Likelihood optimization failed to converge. Check mle_retvals\n",
      "  \"Check mle_retvals\", ConvergenceWarning)\n"
     ]
    },
    {
     "name": "stdout",
     "output_type": "stream",
     "text": [
      "ARIMA(1, 1, 3)x(3, 1, 2, 12)- AIC:2885.43630269709\n",
      " \n",
      "ARIMA(1, 1, 3)x(3, 1, 3, 12)- AIC:9168.605908074574\n",
      " \n"
     ]
    },
    {
     "name": "stderr",
     "output_type": "stream",
     "text": [
      "/Library/Frameworks/Python.framework/Versions/3.7/lib/python3.7/site-packages/statsmodels/base/model.py:512: ConvergenceWarning: Maximum Likelihood optimization failed to converge. Check mle_retvals\n",
      "  \"Check mle_retvals\", ConvergenceWarning)\n"
     ]
    },
    {
     "name": "stdout",
     "output_type": "stream",
     "text": [
      "ARIMA(2, 1, 0)x(0, 1, 0, 12)- AIC:3789.9735953436093\n",
      " \n"
     ]
    },
    {
     "name": "stderr",
     "output_type": "stream",
     "text": [
      "/Library/Frameworks/Python.framework/Versions/3.7/lib/python3.7/site-packages/statsmodels/base/model.py:512: ConvergenceWarning: Maximum Likelihood optimization failed to converge. Check mle_retvals\n",
      "  \"Check mle_retvals\", ConvergenceWarning)\n"
     ]
    },
    {
     "name": "stdout",
     "output_type": "stream",
     "text": [
      "ARIMA(2, 1, 0)x(0, 1, 1, 12)- AIC:3508.391820677692\n",
      " \n"
     ]
    },
    {
     "name": "stderr",
     "output_type": "stream",
     "text": [
      "/Library/Frameworks/Python.framework/Versions/3.7/lib/python3.7/site-packages/statsmodels/base/model.py:512: ConvergenceWarning: Maximum Likelihood optimization failed to converge. Check mle_retvals\n",
      "  \"Check mle_retvals\", ConvergenceWarning)\n"
     ]
    },
    {
     "name": "stdout",
     "output_type": "stream",
     "text": [
      "ARIMA(2, 1, 0)x(0, 1, 2, 12)- AIC:3196.7347416980156\n",
      " \n",
      "ARIMA(2, 1, 0)x(0, 1, 3, 12)- AIC:9479.802940415888\n",
      " \n"
     ]
    },
    {
     "name": "stderr",
     "output_type": "stream",
     "text": [
      "/Library/Frameworks/Python.framework/Versions/3.7/lib/python3.7/site-packages/statsmodels/base/model.py:512: ConvergenceWarning: Maximum Likelihood optimization failed to converge. Check mle_retvals\n",
      "  \"Check mle_retvals\", ConvergenceWarning)\n"
     ]
    },
    {
     "name": "stdout",
     "output_type": "stream",
     "text": [
      "ARIMA(2, 1, 0)x(1, 1, 0, 12)- AIC:3483.056019096363\n",
      " \n"
     ]
    },
    {
     "name": "stderr",
     "output_type": "stream",
     "text": [
      "/Library/Frameworks/Python.framework/Versions/3.7/lib/python3.7/site-packages/statsmodels/base/model.py:512: ConvergenceWarning: Maximum Likelihood optimization failed to converge. Check mle_retvals\n",
      "  \"Check mle_retvals\", ConvergenceWarning)\n"
     ]
    },
    {
     "name": "stdout",
     "output_type": "stream",
     "text": [
      "ARIMA(2, 1, 0)x(1, 1, 1, 12)- AIC:3485.294592559705\n",
      " \n"
     ]
    },
    {
     "name": "stderr",
     "output_type": "stream",
     "text": [
      "/Library/Frameworks/Python.framework/Versions/3.7/lib/python3.7/site-packages/statsmodels/base/model.py:512: ConvergenceWarning: Maximum Likelihood optimization failed to converge. Check mle_retvals\n",
      "  \"Check mle_retvals\", ConvergenceWarning)\n"
     ]
    },
    {
     "name": "stdout",
     "output_type": "stream",
     "text": [
      "ARIMA(2, 1, 0)x(1, 1, 2, 12)- AIC:3198.7394415748836\n",
      " \n",
      "ARIMA(2, 1, 0)x(1, 1, 3, 12)- AIC:9490.051861416978\n",
      " \n"
     ]
    },
    {
     "name": "stderr",
     "output_type": "stream",
     "text": [
      "/Library/Frameworks/Python.framework/Versions/3.7/lib/python3.7/site-packages/statsmodels/base/model.py:512: ConvergenceWarning: Maximum Likelihood optimization failed to converge. Check mle_retvals\n",
      "  \"Check mle_retvals\", ConvergenceWarning)\n"
     ]
    },
    {
     "name": "stdout",
     "output_type": "stream",
     "text": [
      "ARIMA(2, 1, 0)x(2, 1, 0, 12)- AIC:3168.5209591583753\n",
      " \n"
     ]
    },
    {
     "name": "stderr",
     "output_type": "stream",
     "text": [
      "/Library/Frameworks/Python.framework/Versions/3.7/lib/python3.7/site-packages/statsmodels/base/model.py:512: ConvergenceWarning: Maximum Likelihood optimization failed to converge. Check mle_retvals\n",
      "  \"Check mle_retvals\", ConvergenceWarning)\n"
     ]
    },
    {
     "name": "stdout",
     "output_type": "stream",
     "text": [
      "ARIMA(2, 1, 0)x(2, 1, 1, 12)- AIC:3169.916916754985\n",
      " \n"
     ]
    },
    {
     "name": "stderr",
     "output_type": "stream",
     "text": [
      "/Library/Frameworks/Python.framework/Versions/3.7/lib/python3.7/site-packages/statsmodels/base/model.py:512: ConvergenceWarning: Maximum Likelihood optimization failed to converge. Check mle_retvals\n",
      "  \"Check mle_retvals\", ConvergenceWarning)\n"
     ]
    },
    {
     "name": "stdout",
     "output_type": "stream",
     "text": [
      "ARIMA(2, 1, 0)x(2, 1, 2, 12)- AIC:3171.341082136586\n",
      " \n",
      "ARIMA(2, 1, 0)x(2, 1, 3, 12)- AIC:9474.1581644498\n",
      " \n"
     ]
    },
    {
     "name": "stderr",
     "output_type": "stream",
     "text": [
      "/Library/Frameworks/Python.framework/Versions/3.7/lib/python3.7/site-packages/statsmodels/base/model.py:512: ConvergenceWarning: Maximum Likelihood optimization failed to converge. Check mle_retvals\n",
      "  \"Check mle_retvals\", ConvergenceWarning)\n"
     ]
    },
    {
     "name": "stdout",
     "output_type": "stream",
     "text": [
      "ARIMA(2, 1, 0)x(3, 1, 0, 12)- AIC:2856.647100947869\n",
      " \n"
     ]
    },
    {
     "name": "stderr",
     "output_type": "stream",
     "text": [
      "/Library/Frameworks/Python.framework/Versions/3.7/lib/python3.7/site-packages/statsmodels/base/model.py:512: ConvergenceWarning: Maximum Likelihood optimization failed to converge. Check mle_retvals\n",
      "  \"Check mle_retvals\", ConvergenceWarning)\n"
     ]
    },
    {
     "name": "stdout",
     "output_type": "stream",
     "text": [
      "ARIMA(2, 1, 0)x(3, 1, 1, 12)- AIC:2858.8809949389442\n",
      " \n"
     ]
    },
    {
     "name": "stderr",
     "output_type": "stream",
     "text": [
      "/Library/Frameworks/Python.framework/Versions/3.7/lib/python3.7/site-packages/statsmodels/base/model.py:512: ConvergenceWarning: Maximum Likelihood optimization failed to converge. Check mle_retvals\n",
      "  \"Check mle_retvals\", ConvergenceWarning)\n"
     ]
    },
    {
     "name": "stdout",
     "output_type": "stream",
     "text": [
      "ARIMA(2, 1, 0)x(3, 1, 2, 12)- AIC:2856.7031548528703\n",
      " \n",
      "ARIMA(2, 1, 0)x(3, 1, 3, 12)- AIC:9339.095575189122\n",
      " \n"
     ]
    },
    {
     "name": "stderr",
     "output_type": "stream",
     "text": [
      "/Library/Frameworks/Python.framework/Versions/3.7/lib/python3.7/site-packages/statsmodels/base/model.py:512: ConvergenceWarning: Maximum Likelihood optimization failed to converge. Check mle_retvals\n",
      "  \"Check mle_retvals\", ConvergenceWarning)\n"
     ]
    },
    {
     "name": "stdout",
     "output_type": "stream",
     "text": [
      "ARIMA(2, 1, 1)x(0, 1, 0, 12)- AIC:3791.2106771838467\n",
      " \n"
     ]
    },
    {
     "name": "stderr",
     "output_type": "stream",
     "text": [
      "/Library/Frameworks/Python.framework/Versions/3.7/lib/python3.7/site-packages/statsmodels/base/model.py:512: ConvergenceWarning: Maximum Likelihood optimization failed to converge. Check mle_retvals\n",
      "  \"Check mle_retvals\", ConvergenceWarning)\n"
     ]
    },
    {
     "name": "stdout",
     "output_type": "stream",
     "text": [
      "ARIMA(2, 1, 1)x(0, 1, 1, 12)- AIC:3484.618254303605\n",
      " \n"
     ]
    },
    {
     "name": "stderr",
     "output_type": "stream",
     "text": [
      "/Library/Frameworks/Python.framework/Versions/3.7/lib/python3.7/site-packages/statsmodels/base/model.py:512: ConvergenceWarning: Maximum Likelihood optimization failed to converge. Check mle_retvals\n",
      "  \"Check mle_retvals\", ConvergenceWarning)\n"
     ]
    },
    {
     "name": "stdout",
     "output_type": "stream",
     "text": [
      "ARIMA(2, 1, 1)x(0, 1, 2, 12)- AIC:3171.8098024048886\n",
      " \n",
      "ARIMA(2, 1, 1)x(0, 1, 3, 12)- AIC:9392.673286303594\n",
      " \n"
     ]
    },
    {
     "name": "stderr",
     "output_type": "stream",
     "text": [
      "/Library/Frameworks/Python.framework/Versions/3.7/lib/python3.7/site-packages/statsmodels/base/model.py:512: ConvergenceWarning: Maximum Likelihood optimization failed to converge. Check mle_retvals\n",
      "  \"Check mle_retvals\", ConvergenceWarning)\n"
     ]
    },
    {
     "name": "stdout",
     "output_type": "stream",
     "text": [
      "ARIMA(2, 1, 1)x(1, 1, 0, 12)- AIC:3484.6200644607407\n",
      " \n"
     ]
    },
    {
     "name": "stderr",
     "output_type": "stream",
     "text": [
      "/Library/Frameworks/Python.framework/Versions/3.7/lib/python3.7/site-packages/statsmodels/base/model.py:512: ConvergenceWarning: Maximum Likelihood optimization failed to converge. Check mle_retvals\n",
      "  \"Check mle_retvals\", ConvergenceWarning)\n"
     ]
    },
    {
     "name": "stdout",
     "output_type": "stream",
     "text": [
      "ARIMA(2, 1, 1)x(1, 1, 1, 12)- AIC:3486.409408095485\n",
      " \n"
     ]
    },
    {
     "name": "stderr",
     "output_type": "stream",
     "text": [
      "/Library/Frameworks/Python.framework/Versions/3.7/lib/python3.7/site-packages/statsmodels/base/model.py:512: ConvergenceWarning: Maximum Likelihood optimization failed to converge. Check mle_retvals\n",
      "  \"Check mle_retvals\", ConvergenceWarning)\n"
     ]
    },
    {
     "name": "stdout",
     "output_type": "stream",
     "text": [
      "ARIMA(2, 1, 1)x(1, 1, 2, 12)- AIC:3171.4950942429614\n",
      " \n",
      "ARIMA(2, 1, 1)x(1, 1, 3, 12)- AIC:9402.843646152294\n",
      " \n"
     ]
    },
    {
     "name": "stderr",
     "output_type": "stream",
     "text": [
      "/Library/Frameworks/Python.framework/Versions/3.7/lib/python3.7/site-packages/statsmodels/base/model.py:512: ConvergenceWarning: Maximum Likelihood optimization failed to converge. Check mle_retvals\n",
      "  \"Check mle_retvals\", ConvergenceWarning)\n"
     ]
    },
    {
     "name": "stdout",
     "output_type": "stream",
     "text": [
      "ARIMA(2, 1, 1)x(2, 1, 0, 12)- AIC:3170.5315920151206\n",
      " \n"
     ]
    },
    {
     "name": "stderr",
     "output_type": "stream",
     "text": [
      "/Library/Frameworks/Python.framework/Versions/3.7/lib/python3.7/site-packages/statsmodels/base/model.py:512: ConvergenceWarning: Maximum Likelihood optimization failed to converge. Check mle_retvals\n",
      "  \"Check mle_retvals\", ConvergenceWarning)\n"
     ]
    },
    {
     "name": "stdout",
     "output_type": "stream",
     "text": [
      "ARIMA(2, 1, 1)x(2, 1, 1, 12)- AIC:3171.6687753521605\n",
      " \n"
     ]
    },
    {
     "name": "stderr",
     "output_type": "stream",
     "text": [
      "/Library/Frameworks/Python.framework/Versions/3.7/lib/python3.7/site-packages/statsmodels/base/model.py:512: ConvergenceWarning: Maximum Likelihood optimization failed to converge. Check mle_retvals\n",
      "  \"Check mle_retvals\", ConvergenceWarning)\n"
     ]
    },
    {
     "name": "stdout",
     "output_type": "stream",
     "text": [
      "ARIMA(2, 1, 1)x(2, 1, 2, 12)- AIC:3171.3242783996457\n",
      " \n",
      "ARIMA(2, 1, 1)x(2, 1, 3, 12)- AIC:9387.120365346704\n",
      " \n"
     ]
    },
    {
     "name": "stderr",
     "output_type": "stream",
     "text": [
      "/Library/Frameworks/Python.framework/Versions/3.7/lib/python3.7/site-packages/statsmodels/base/model.py:512: ConvergenceWarning: Maximum Likelihood optimization failed to converge. Check mle_retvals\n",
      "  \"Check mle_retvals\", ConvergenceWarning)\n"
     ]
    },
    {
     "name": "stdout",
     "output_type": "stream",
     "text": [
      "ARIMA(2, 1, 1)x(3, 1, 0, 12)- AIC:2853.470122349001\n",
      " \n"
     ]
    },
    {
     "name": "stderr",
     "output_type": "stream",
     "text": [
      "/Library/Frameworks/Python.framework/Versions/3.7/lib/python3.7/site-packages/statsmodels/base/model.py:512: ConvergenceWarning: Maximum Likelihood optimization failed to converge. Check mle_retvals\n",
      "  \"Check mle_retvals\", ConvergenceWarning)\n"
     ]
    },
    {
     "name": "stdout",
     "output_type": "stream",
     "text": [
      "ARIMA(2, 1, 1)x(3, 1, 1, 12)- AIC:2855.405537871784\n",
      " \n"
     ]
    },
    {
     "name": "stderr",
     "output_type": "stream",
     "text": [
      "/Library/Frameworks/Python.framework/Versions/3.7/lib/python3.7/site-packages/statsmodels/base/model.py:512: ConvergenceWarning: Maximum Likelihood optimization failed to converge. Check mle_retvals\n",
      "  \"Check mle_retvals\", ConvergenceWarning)\n"
     ]
    },
    {
     "name": "stdout",
     "output_type": "stream",
     "text": [
      "ARIMA(2, 1, 1)x(3, 1, 2, 12)- AIC:2858.248473762802\n",
      " \n",
      "ARIMA(2, 1, 1)x(3, 1, 3, 12)- AIC:9340.802139556465\n",
      " \n"
     ]
    },
    {
     "name": "stderr",
     "output_type": "stream",
     "text": [
      "/Library/Frameworks/Python.framework/Versions/3.7/lib/python3.7/site-packages/statsmodels/base/model.py:512: ConvergenceWarning: Maximum Likelihood optimization failed to converge. Check mle_retvals\n",
      "  \"Check mle_retvals\", ConvergenceWarning)\n"
     ]
    },
    {
     "name": "stdout",
     "output_type": "stream",
     "text": [
      "ARIMA(2, 1, 2)x(0, 1, 0, 12)- AIC:3766.8593346790403\n",
      " \n"
     ]
    },
    {
     "name": "stderr",
     "output_type": "stream",
     "text": [
      "/Library/Frameworks/Python.framework/Versions/3.7/lib/python3.7/site-packages/statsmodels/base/model.py:512: ConvergenceWarning: Maximum Likelihood optimization failed to converge. Check mle_retvals\n",
      "  \"Check mle_retvals\", ConvergenceWarning)\n"
     ]
    },
    {
     "name": "stdout",
     "output_type": "stream",
     "text": [
      "ARIMA(2, 1, 2)x(0, 1, 1, 12)- AIC:3459.700761774641\n",
      " \n"
     ]
    },
    {
     "name": "stderr",
     "output_type": "stream",
     "text": [
      "/Library/Frameworks/Python.framework/Versions/3.7/lib/python3.7/site-packages/statsmodels/base/model.py:512: ConvergenceWarning: Maximum Likelihood optimization failed to converge. Check mle_retvals\n",
      "  \"Check mle_retvals\", ConvergenceWarning)\n"
     ]
    },
    {
     "name": "stdout",
     "output_type": "stream",
     "text": [
      "ARIMA(2, 1, 2)x(0, 1, 2, 12)- AIC:3148.814021116942\n",
      " \n",
      "ARIMA(2, 1, 2)x(0, 1, 3, 12)- AIC:9305.78080920159\n",
      " \n"
     ]
    },
    {
     "name": "stderr",
     "output_type": "stream",
     "text": [
      "/Library/Frameworks/Python.framework/Versions/3.7/lib/python3.7/site-packages/statsmodels/base/model.py:512: ConvergenceWarning: Maximum Likelihood optimization failed to converge. Check mle_retvals\n",
      "  \"Check mle_retvals\", ConvergenceWarning)\n"
     ]
    },
    {
     "name": "stdout",
     "output_type": "stream",
     "text": [
      "ARIMA(2, 1, 2)x(1, 1, 0, 12)- AIC:3486.023076663908\n",
      " \n"
     ]
    },
    {
     "name": "stderr",
     "output_type": "stream",
     "text": [
      "/Library/Frameworks/Python.framework/Versions/3.7/lib/python3.7/site-packages/statsmodels/base/model.py:512: ConvergenceWarning: Maximum Likelihood optimization failed to converge. Check mle_retvals\n",
      "  \"Check mle_retvals\", ConvergenceWarning)\n"
     ]
    },
    {
     "name": "stdout",
     "output_type": "stream",
     "text": [
      "ARIMA(2, 1, 2)x(1, 1, 1, 12)- AIC:3461.5400696403403\n",
      " \n"
     ]
    },
    {
     "name": "stderr",
     "output_type": "stream",
     "text": [
      "/Library/Frameworks/Python.framework/Versions/3.7/lib/python3.7/site-packages/statsmodels/base/model.py:512: ConvergenceWarning: Maximum Likelihood optimization failed to converge. Check mle_retvals\n",
      "  \"Check mle_retvals\", ConvergenceWarning)\n"
     ]
    },
    {
     "name": "stdout",
     "output_type": "stream",
     "text": [
      "ARIMA(2, 1, 2)x(1, 1, 2, 12)- AIC:3147.5381604699787\n",
      " \n",
      "ARIMA(2, 1, 2)x(1, 1, 3, 12)- AIC:9315.872607897902\n",
      " \n"
     ]
    },
    {
     "name": "stderr",
     "output_type": "stream",
     "text": [
      "/Library/Frameworks/Python.framework/Versions/3.7/lib/python3.7/site-packages/statsmodels/base/model.py:512: ConvergenceWarning: Maximum Likelihood optimization failed to converge. Check mle_retvals\n",
      "  \"Check mle_retvals\", ConvergenceWarning)\n"
     ]
    },
    {
     "name": "stdout",
     "output_type": "stream",
     "text": [
      "ARIMA(2, 1, 2)x(2, 1, 0, 12)- AIC:3171.1687653873423\n",
      " \n"
     ]
    },
    {
     "name": "stderr",
     "output_type": "stream",
     "text": [
      "/Library/Frameworks/Python.framework/Versions/3.7/lib/python3.7/site-packages/statsmodels/base/model.py:512: ConvergenceWarning: Maximum Likelihood optimization failed to converge. Check mle_retvals\n",
      "  \"Check mle_retvals\", ConvergenceWarning)\n"
     ]
    },
    {
     "name": "stdout",
     "output_type": "stream",
     "text": [
      "ARIMA(2, 1, 2)x(2, 1, 1, 12)- AIC:3172.4434925809624\n",
      " \n"
     ]
    },
    {
     "name": "stderr",
     "output_type": "stream",
     "text": [
      "/Library/Frameworks/Python.framework/Versions/3.7/lib/python3.7/site-packages/statsmodels/base/model.py:512: ConvergenceWarning: Maximum Likelihood optimization failed to converge. Check mle_retvals\n",
      "  \"Check mle_retvals\", ConvergenceWarning)\n"
     ]
    },
    {
     "name": "stdout",
     "output_type": "stream",
     "text": [
      "ARIMA(2, 1, 2)x(2, 1, 2, 12)- AIC:3146.9484171647005\n",
      " \n",
      "ARIMA(2, 1, 2)x(2, 1, 3, 12)- AIC:9300.319743253902\n",
      " \n"
     ]
    },
    {
     "name": "stderr",
     "output_type": "stream",
     "text": [
      "/Library/Frameworks/Python.framework/Versions/3.7/lib/python3.7/site-packages/statsmodels/base/model.py:512: ConvergenceWarning: Maximum Likelihood optimization failed to converge. Check mle_retvals\n",
      "  \"Check mle_retvals\", ConvergenceWarning)\n"
     ]
    },
    {
     "name": "stdout",
     "output_type": "stream",
     "text": [
      "ARIMA(2, 1, 2)x(3, 1, 0, 12)- AIC:2853.605500101149\n",
      " \n"
     ]
    },
    {
     "name": "stderr",
     "output_type": "stream",
     "text": [
      "/Library/Frameworks/Python.framework/Versions/3.7/lib/python3.7/site-packages/statsmodels/base/model.py:512: ConvergenceWarning: Maximum Likelihood optimization failed to converge. Check mle_retvals\n",
      "  \"Check mle_retvals\", ConvergenceWarning)\n"
     ]
    },
    {
     "name": "stdout",
     "output_type": "stream",
     "text": [
      "ARIMA(2, 1, 2)x(3, 1, 1, 12)- AIC:2855.6594398448206\n",
      " \n"
     ]
    },
    {
     "name": "stderr",
     "output_type": "stream",
     "text": [
      "/Library/Frameworks/Python.framework/Versions/3.7/lib/python3.7/site-packages/statsmodels/base/model.py:512: ConvergenceWarning: Maximum Likelihood optimization failed to converge. Check mle_retvals\n",
      "  \"Check mle_retvals\", ConvergenceWarning)\n"
     ]
    },
    {
     "name": "stdout",
     "output_type": "stream",
     "text": [
      "ARIMA(2, 1, 2)x(3, 1, 2, 12)- AIC:2858.192801588845\n",
      " \n",
      "ARIMA(2, 1, 2)x(3, 1, 3, 12)- AIC:9254.466115788653\n",
      " \n"
     ]
    },
    {
     "name": "stderr",
     "output_type": "stream",
     "text": [
      "/Library/Frameworks/Python.framework/Versions/3.7/lib/python3.7/site-packages/statsmodels/base/model.py:512: ConvergenceWarning: Maximum Likelihood optimization failed to converge. Check mle_retvals\n",
      "  \"Check mle_retvals\", ConvergenceWarning)\n"
     ]
    },
    {
     "name": "stdout",
     "output_type": "stream",
     "text": [
      "ARIMA(2, 1, 3)x(0, 1, 0, 12)- AIC:3740.8517770381886\n",
      " \n"
     ]
    },
    {
     "name": "stderr",
     "output_type": "stream",
     "text": [
      "/Library/Frameworks/Python.framework/Versions/3.7/lib/python3.7/site-packages/statsmodels/base/model.py:512: ConvergenceWarning: Maximum Likelihood optimization failed to converge. Check mle_retvals\n",
      "  \"Check mle_retvals\", ConvergenceWarning)\n"
     ]
    },
    {
     "name": "stdout",
     "output_type": "stream",
     "text": [
      "ARIMA(2, 1, 3)x(0, 1, 1, 12)- AIC:3431.1796426762758\n",
      " \n"
     ]
    },
    {
     "name": "stderr",
     "output_type": "stream",
     "text": [
      "/Library/Frameworks/Python.framework/Versions/3.7/lib/python3.7/site-packages/statsmodels/base/model.py:512: ConvergenceWarning: Maximum Likelihood optimization failed to converge. Check mle_retvals\n",
      "  \"Check mle_retvals\", ConvergenceWarning)\n"
     ]
    },
    {
     "name": "stdout",
     "output_type": "stream",
     "text": [
      "ARIMA(2, 1, 3)x(0, 1, 2, 12)- AIC:3124.1880275677204\n",
      " \n",
      "ARIMA(2, 1, 3)x(0, 1, 3, 12)- AIC:9221.314990379246\n",
      " \n"
     ]
    },
    {
     "name": "stderr",
     "output_type": "stream",
     "text": [
      "/Library/Frameworks/Python.framework/Versions/3.7/lib/python3.7/site-packages/statsmodels/base/model.py:512: ConvergenceWarning: Maximum Likelihood optimization failed to converge. Check mle_retvals\n",
      "  \"Check mle_retvals\", ConvergenceWarning)\n"
     ]
    },
    {
     "name": "stdout",
     "output_type": "stream",
     "text": [
      "ARIMA(2, 1, 3)x(1, 1, 0, 12)- AIC:3487.863519156753\n",
      " \n"
     ]
    },
    {
     "name": "stderr",
     "output_type": "stream",
     "text": [
      "/Library/Frameworks/Python.framework/Versions/3.7/lib/python3.7/site-packages/statsmodels/base/model.py:512: ConvergenceWarning: Maximum Likelihood optimization failed to converge. Check mle_retvals\n",
      "  \"Check mle_retvals\", ConvergenceWarning)\n"
     ]
    },
    {
     "name": "stdout",
     "output_type": "stream",
     "text": [
      "ARIMA(2, 1, 3)x(1, 1, 1, 12)- AIC:3431.7097139854272\n",
      " \n"
     ]
    },
    {
     "name": "stderr",
     "output_type": "stream",
     "text": [
      "/Library/Frameworks/Python.framework/Versions/3.7/lib/python3.7/site-packages/statsmodels/base/model.py:512: ConvergenceWarning: Maximum Likelihood optimization failed to converge. Check mle_retvals\n",
      "  \"Check mle_retvals\", ConvergenceWarning)\n"
     ]
    },
    {
     "name": "stdout",
     "output_type": "stream",
     "text": [
      "ARIMA(2, 1, 3)x(1, 1, 2, 12)- AIC:3123.7274278122977\n",
      " \n",
      "ARIMA(2, 1, 3)x(1, 1, 3, 12)- AIC:9231.328227923168\n",
      " \n"
     ]
    },
    {
     "name": "stderr",
     "output_type": "stream",
     "text": [
      "/Library/Frameworks/Python.framework/Versions/3.7/lib/python3.7/site-packages/statsmodels/base/model.py:512: ConvergenceWarning: Maximum Likelihood optimization failed to converge. Check mle_retvals\n",
      "  \"Check mle_retvals\", ConvergenceWarning)\n"
     ]
    },
    {
     "name": "stdout",
     "output_type": "stream",
     "text": [
      "ARIMA(2, 1, 3)x(2, 1, 0, 12)- AIC:3172.830044319516\n",
      " \n"
     ]
    },
    {
     "name": "stderr",
     "output_type": "stream",
     "text": [
      "/Library/Frameworks/Python.framework/Versions/3.7/lib/python3.7/site-packages/statsmodels/base/model.py:512: ConvergenceWarning: Maximum Likelihood optimization failed to converge. Check mle_retvals\n",
      "  \"Check mle_retvals\", ConvergenceWarning)\n"
     ]
    },
    {
     "name": "stdout",
     "output_type": "stream",
     "text": [
      "ARIMA(2, 1, 3)x(2, 1, 1, 12)- AIC:3172.1222928995785\n",
      " \n"
     ]
    },
    {
     "name": "stderr",
     "output_type": "stream",
     "text": [
      "/Library/Frameworks/Python.framework/Versions/3.7/lib/python3.7/site-packages/statsmodels/base/model.py:512: ConvergenceWarning: Maximum Likelihood optimization failed to converge. Check mle_retvals\n",
      "  \"Check mle_retvals\", ConvergenceWarning)\n"
     ]
    },
    {
     "name": "stdout",
     "output_type": "stream",
     "text": [
      "ARIMA(2, 1, 3)x(2, 1, 2, 12)- AIC:3119.358140867172\n",
      " \n",
      "ARIMA(2, 1, 3)x(2, 1, 3, 12)- AIC:9215.945779440759\n",
      " \n"
     ]
    },
    {
     "name": "stderr",
     "output_type": "stream",
     "text": [
      "/Library/Frameworks/Python.framework/Versions/3.7/lib/python3.7/site-packages/statsmodels/base/model.py:512: ConvergenceWarning: Maximum Likelihood optimization failed to converge. Check mle_retvals\n",
      "  \"Check mle_retvals\", ConvergenceWarning)\n"
     ]
    },
    {
     "name": "stdout",
     "output_type": "stream",
     "text": [
      "ARIMA(2, 1, 3)x(3, 1, 0, 12)- AIC:2856.1749622336692\n",
      " \n"
     ]
    },
    {
     "name": "stderr",
     "output_type": "stream",
     "text": [
      "/Library/Frameworks/Python.framework/Versions/3.7/lib/python3.7/site-packages/statsmodels/base/model.py:512: ConvergenceWarning: Maximum Likelihood optimization failed to converge. Check mle_retvals\n",
      "  \"Check mle_retvals\", ConvergenceWarning)\n"
     ]
    },
    {
     "name": "stdout",
     "output_type": "stream",
     "text": [
      "ARIMA(2, 1, 3)x(3, 1, 1, 12)- AIC:2857.958072693403\n",
      " \n"
     ]
    },
    {
     "name": "stderr",
     "output_type": "stream",
     "text": [
      "/Library/Frameworks/Python.framework/Versions/3.7/lib/python3.7/site-packages/statsmodels/base/model.py:512: ConvergenceWarning: Maximum Likelihood optimization failed to converge. Check mle_retvals\n",
      "  \"Check mle_retvals\", ConvergenceWarning)\n"
     ]
    },
    {
     "name": "stdout",
     "output_type": "stream",
     "text": [
      "ARIMA(2, 1, 3)x(3, 1, 2, 12)- AIC:2860.41030946935\n",
      " \n",
      "ARIMA(2, 1, 3)x(3, 1, 3, 12)- AIC:9170.556750300037\n",
      " \n"
     ]
    },
    {
     "name": "stderr",
     "output_type": "stream",
     "text": [
      "/Library/Frameworks/Python.framework/Versions/3.7/lib/python3.7/site-packages/statsmodels/base/model.py:512: ConvergenceWarning: Maximum Likelihood optimization failed to converge. Check mle_retvals\n",
      "  \"Check mle_retvals\", ConvergenceWarning)\n"
     ]
    },
    {
     "name": "stdout",
     "output_type": "stream",
     "text": [
      "ARIMA(3, 1, 0)x(0, 1, 0, 12)- AIC:3765.9250215542324\n",
      " \n"
     ]
    },
    {
     "name": "stderr",
     "output_type": "stream",
     "text": [
      "/Library/Frameworks/Python.framework/Versions/3.7/lib/python3.7/site-packages/statsmodels/base/model.py:512: ConvergenceWarning: Maximum Likelihood optimization failed to converge. Check mle_retvals\n",
      "  \"Check mle_retvals\", ConvergenceWarning)\n"
     ]
    },
    {
     "name": "stdout",
     "output_type": "stream",
     "text": [
      "ARIMA(3, 1, 0)x(0, 1, 1, 12)- AIC:3510.0912793991433\n",
      " \n"
     ]
    },
    {
     "name": "stderr",
     "output_type": "stream",
     "text": [
      "/Library/Frameworks/Python.framework/Versions/3.7/lib/python3.7/site-packages/statsmodels/base/model.py:512: ConvergenceWarning: Maximum Likelihood optimization failed to converge. Check mle_retvals\n",
      "  \"Check mle_retvals\", ConvergenceWarning)\n"
     ]
    },
    {
     "name": "stdout",
     "output_type": "stream",
     "text": [
      "ARIMA(3, 1, 0)x(0, 1, 2, 12)- AIC:3198.846459493805\n",
      " \n",
      "ARIMA(3, 1, 0)x(0, 1, 3, 12)- AIC:9481.736346211721\n",
      " \n"
     ]
    },
    {
     "name": "stderr",
     "output_type": "stream",
     "text": [
      "/Library/Frameworks/Python.framework/Versions/3.7/lib/python3.7/site-packages/statsmodels/base/model.py:512: ConvergenceWarning: Maximum Likelihood optimization failed to converge. Check mle_retvals\n",
      "  \"Check mle_retvals\", ConvergenceWarning)\n"
     ]
    },
    {
     "name": "stdout",
     "output_type": "stream",
     "text": [
      "ARIMA(3, 1, 0)x(1, 1, 0, 12)- AIC:3458.4226852255815\n",
      " \n"
     ]
    },
    {
     "name": "stderr",
     "output_type": "stream",
     "text": [
      "/Library/Frameworks/Python.framework/Versions/3.7/lib/python3.7/site-packages/statsmodels/base/model.py:512: ConvergenceWarning: Maximum Likelihood optimization failed to converge. Check mle_retvals\n",
      "  \"Check mle_retvals\", ConvergenceWarning)\n"
     ]
    },
    {
     "name": "stdout",
     "output_type": "stream",
     "text": [
      "ARIMA(3, 1, 0)x(1, 1, 1, 12)- AIC:3460.625101317353\n",
      " \n"
     ]
    },
    {
     "name": "stderr",
     "output_type": "stream",
     "text": [
      "/Library/Frameworks/Python.framework/Versions/3.7/lib/python3.7/site-packages/statsmodels/base/model.py:512: ConvergenceWarning: Maximum Likelihood optimization failed to converge. Check mle_retvals\n",
      "  \"Check mle_retvals\", ConvergenceWarning)\n"
     ]
    },
    {
     "name": "stdout",
     "output_type": "stream",
     "text": [
      "ARIMA(3, 1, 0)x(1, 1, 2, 12)- AIC:3200.921806716728\n",
      " \n",
      "ARIMA(3, 1, 0)x(1, 1, 3, 12)- AIC:9491.98526721281\n",
      " \n"
     ]
    },
    {
     "name": "stderr",
     "output_type": "stream",
     "text": [
      "/Library/Frameworks/Python.framework/Versions/3.7/lib/python3.7/site-packages/statsmodels/base/model.py:512: ConvergenceWarning: Maximum Likelihood optimization failed to converge. Check mle_retvals\n",
      "  \"Check mle_retvals\", ConvergenceWarning)\n"
     ]
    },
    {
     "name": "stdout",
     "output_type": "stream",
     "text": [
      "ARIMA(3, 1, 0)x(2, 1, 0, 12)- AIC:3145.0462303395907\n",
      " \n"
     ]
    },
    {
     "name": "stderr",
     "output_type": "stream",
     "text": [
      "/Library/Frameworks/Python.framework/Versions/3.7/lib/python3.7/site-packages/statsmodels/base/model.py:512: ConvergenceWarning: Maximum Likelihood optimization failed to converge. Check mle_retvals\n",
      "  \"Check mle_retvals\", ConvergenceWarning)\n"
     ]
    },
    {
     "name": "stdout",
     "output_type": "stream",
     "text": [
      "ARIMA(3, 1, 0)x(2, 1, 1, 12)- AIC:3146.369518143977\n",
      " \n"
     ]
    },
    {
     "name": "stderr",
     "output_type": "stream",
     "text": [
      "/Library/Frameworks/Python.framework/Versions/3.7/lib/python3.7/site-packages/statsmodels/base/model.py:512: ConvergenceWarning: Maximum Likelihood optimization failed to converge. Check mle_retvals\n",
      "  \"Check mle_retvals\", ConvergenceWarning)\n"
     ]
    },
    {
     "name": "stdout",
     "output_type": "stream",
     "text": [
      "ARIMA(3, 1, 0)x(2, 1, 2, 12)- AIC:3147.7518699976317\n",
      " \n",
      "ARIMA(3, 1, 0)x(2, 1, 3, 12)- AIC:9476.091570245631\n",
      " \n"
     ]
    },
    {
     "name": "stderr",
     "output_type": "stream",
     "text": [
      "/Library/Frameworks/Python.framework/Versions/3.7/lib/python3.7/site-packages/statsmodels/base/model.py:512: ConvergenceWarning: Maximum Likelihood optimization failed to converge. Check mle_retvals\n",
      "  \"Check mle_retvals\", ConvergenceWarning)\n"
     ]
    },
    {
     "name": "stdout",
     "output_type": "stream",
     "text": [
      "ARIMA(3, 1, 0)x(3, 1, 0, 12)- AIC:2832.407078167162\n",
      " \n"
     ]
    },
    {
     "name": "stderr",
     "output_type": "stream",
     "text": [
      "/Library/Frameworks/Python.framework/Versions/3.7/lib/python3.7/site-packages/statsmodels/base/model.py:512: ConvergenceWarning: Maximum Likelihood optimization failed to converge. Check mle_retvals\n",
      "  \"Check mle_retvals\", ConvergenceWarning)\n"
     ]
    },
    {
     "name": "stdout",
     "output_type": "stream",
     "text": [
      "ARIMA(3, 1, 0)x(3, 1, 1, 12)- AIC:2834.5266378417123\n",
      " \n"
     ]
    },
    {
     "name": "stderr",
     "output_type": "stream",
     "text": [
      "/Library/Frameworks/Python.framework/Versions/3.7/lib/python3.7/site-packages/statsmodels/base/model.py:512: ConvergenceWarning: Maximum Likelihood optimization failed to converge. Check mle_retvals\n",
      "  \"Check mle_retvals\", ConvergenceWarning)\n"
     ]
    },
    {
     "name": "stdout",
     "output_type": "stream",
     "text": [
      "ARIMA(3, 1, 0)x(3, 1, 2, 12)- AIC:2832.756699827565\n",
      " \n",
      "ARIMA(3, 1, 0)x(3, 1, 3, 12)- AIC:9252.75048429963\n",
      " \n"
     ]
    },
    {
     "name": "stderr",
     "output_type": "stream",
     "text": [
      "/Library/Frameworks/Python.framework/Versions/3.7/lib/python3.7/site-packages/statsmodels/base/model.py:512: ConvergenceWarning: Maximum Likelihood optimization failed to converge. Check mle_retvals\n",
      "  \"Check mle_retvals\", ConvergenceWarning)\n"
     ]
    },
    {
     "name": "stdout",
     "output_type": "stream",
     "text": [
      "ARIMA(3, 1, 1)x(0, 1, 0, 12)- AIC:3767.334103758428\n",
      " \n"
     ]
    },
    {
     "name": "stderr",
     "output_type": "stream",
     "text": [
      "/Library/Frameworks/Python.framework/Versions/3.7/lib/python3.7/site-packages/statsmodels/base/model.py:512: ConvergenceWarning: Maximum Likelihood optimization failed to converge. Check mle_retvals\n",
      "  \"Check mle_retvals\", ConvergenceWarning)\n"
     ]
    },
    {
     "name": "stdout",
     "output_type": "stream",
     "text": [
      "ARIMA(3, 1, 1)x(0, 1, 1, 12)- AIC:3486.567322538218\n",
      " \n"
     ]
    },
    {
     "name": "stderr",
     "output_type": "stream",
     "text": [
      "/Library/Frameworks/Python.framework/Versions/3.7/lib/python3.7/site-packages/statsmodels/base/model.py:512: ConvergenceWarning: Maximum Likelihood optimization failed to converge. Check mle_retvals\n",
      "  \"Check mle_retvals\", ConvergenceWarning)\n"
     ]
    },
    {
     "name": "stdout",
     "output_type": "stream",
     "text": [
      "ARIMA(3, 1, 1)x(0, 1, 2, 12)- AIC:3173.7874791181207\n",
      " \n",
      "ARIMA(3, 1, 1)x(0, 1, 3, 12)- AIC:9394.673286303594\n",
      " \n"
     ]
    },
    {
     "name": "stderr",
     "output_type": "stream",
     "text": [
      "/Library/Frameworks/Python.framework/Versions/3.7/lib/python3.7/site-packages/statsmodels/base/model.py:512: ConvergenceWarning: Maximum Likelihood optimization failed to converge. Check mle_retvals\n",
      "  \"Check mle_retvals\", ConvergenceWarning)\n"
     ]
    },
    {
     "name": "stdout",
     "output_type": "stream",
     "text": [
      "ARIMA(3, 1, 1)x(1, 1, 0, 12)- AIC:3460.2442879824466\n",
      " \n"
     ]
    },
    {
     "name": "stderr",
     "output_type": "stream",
     "text": [
      "/Library/Frameworks/Python.framework/Versions/3.7/lib/python3.7/site-packages/statsmodels/base/model.py:512: ConvergenceWarning: Maximum Likelihood optimization failed to converge. Check mle_retvals\n",
      "  \"Check mle_retvals\", ConvergenceWarning)\n"
     ]
    },
    {
     "name": "stdout",
     "output_type": "stream",
     "text": [
      "ARIMA(3, 1, 1)x(1, 1, 1, 12)- AIC:3462.542366678272\n",
      " \n"
     ]
    },
    {
     "name": "stderr",
     "output_type": "stream",
     "text": [
      "/Library/Frameworks/Python.framework/Versions/3.7/lib/python3.7/site-packages/statsmodels/base/model.py:512: ConvergenceWarning: Maximum Likelihood optimization failed to converge. Check mle_retvals\n",
      "  \"Check mle_retvals\", ConvergenceWarning)\n"
     ]
    },
    {
     "name": "stdout",
     "output_type": "stream",
     "text": [
      "ARIMA(3, 1, 1)x(1, 1, 2, 12)- AIC:3173.220634920202\n",
      " \n",
      "ARIMA(3, 1, 1)x(1, 1, 3, 12)- AIC:9404.843646152294\n",
      " \n"
     ]
    },
    {
     "name": "stderr",
     "output_type": "stream",
     "text": [
      "/Library/Frameworks/Python.framework/Versions/3.7/lib/python3.7/site-packages/statsmodels/base/model.py:512: ConvergenceWarning: Maximum Likelihood optimization failed to converge. Check mle_retvals\n",
      "  \"Check mle_retvals\", ConvergenceWarning)\n"
     ]
    },
    {
     "name": "stdout",
     "output_type": "stream",
     "text": [
      "ARIMA(3, 1, 1)x(2, 1, 0, 12)- AIC:3145.425229591376\n",
      " \n"
     ]
    },
    {
     "name": "stderr",
     "output_type": "stream",
     "text": [
      "/Library/Frameworks/Python.framework/Versions/3.7/lib/python3.7/site-packages/statsmodels/base/model.py:512: ConvergenceWarning: Maximum Likelihood optimization failed to converge. Check mle_retvals\n",
      "  \"Check mle_retvals\", ConvergenceWarning)\n"
     ]
    },
    {
     "name": "stdout",
     "output_type": "stream",
     "text": [
      "ARIMA(3, 1, 1)x(2, 1, 1, 12)- AIC:3147.7054628194473\n",
      " \n"
     ]
    },
    {
     "name": "stderr",
     "output_type": "stream",
     "text": [
      "/Library/Frameworks/Python.framework/Versions/3.7/lib/python3.7/site-packages/statsmodels/base/model.py:512: ConvergenceWarning: Maximum Likelihood optimization failed to converge. Check mle_retvals\n",
      "  \"Check mle_retvals\", ConvergenceWarning)\n"
     ]
    },
    {
     "name": "stdout",
     "output_type": "stream",
     "text": [
      "ARIMA(3, 1, 1)x(2, 1, 2, 12)- AIC:3148.445706401705\n",
      " \n",
      "ARIMA(3, 1, 1)x(2, 1, 3, 12)- AIC:9389.120365346704\n",
      " \n"
     ]
    },
    {
     "name": "stderr",
     "output_type": "stream",
     "text": [
      "/Library/Frameworks/Python.framework/Versions/3.7/lib/python3.7/site-packages/statsmodels/base/model.py:512: ConvergenceWarning: Maximum Likelihood optimization failed to converge. Check mle_retvals\n",
      "  \"Check mle_retvals\", ConvergenceWarning)\n"
     ]
    },
    {
     "name": "stdout",
     "output_type": "stream",
     "text": [
      "ARIMA(3, 1, 1)x(3, 1, 0, 12)- AIC:2828.37963348231\n",
      " \n"
     ]
    },
    {
     "name": "stderr",
     "output_type": "stream",
     "text": [
      "/Library/Frameworks/Python.framework/Versions/3.7/lib/python3.7/site-packages/statsmodels/base/model.py:512: ConvergenceWarning: Maximum Likelihood optimization failed to converge. Check mle_retvals\n",
      "  \"Check mle_retvals\", ConvergenceWarning)\n"
     ]
    },
    {
     "name": "stdout",
     "output_type": "stream",
     "text": [
      "ARIMA(3, 1, 1)x(3, 1, 1, 12)- AIC:2830.2062487435587\n",
      " \n"
     ]
    },
    {
     "name": "stderr",
     "output_type": "stream",
     "text": [
      "/Library/Frameworks/Python.framework/Versions/3.7/lib/python3.7/site-packages/statsmodels/base/model.py:512: ConvergenceWarning: Maximum Likelihood optimization failed to converge. Check mle_retvals\n",
      "  \"Check mle_retvals\", ConvergenceWarning)\n"
     ]
    },
    {
     "name": "stdout",
     "output_type": "stream",
     "text": [
      "ARIMA(3, 1, 1)x(3, 1, 2, 12)- AIC:2835.1021482615697\n",
      " \n",
      "ARIMA(3, 1, 1)x(3, 1, 3, 12)- AIC:9254.5251959068\n",
      " \n"
     ]
    },
    {
     "name": "stderr",
     "output_type": "stream",
     "text": [
      "/Library/Frameworks/Python.framework/Versions/3.7/lib/python3.7/site-packages/statsmodels/base/model.py:512: ConvergenceWarning: Maximum Likelihood optimization failed to converge. Check mle_retvals\n",
      "  \"Check mle_retvals\", ConvergenceWarning)\n"
     ]
    },
    {
     "name": "stdout",
     "output_type": "stream",
     "text": [
      "ARIMA(3, 1, 2)x(0, 1, 0, 12)- AIC:3769.02361762607\n",
      " \n"
     ]
    },
    {
     "name": "stderr",
     "output_type": "stream",
     "text": [
      "/Library/Frameworks/Python.framework/Versions/3.7/lib/python3.7/site-packages/statsmodels/base/model.py:512: ConvergenceWarning: Maximum Likelihood optimization failed to converge. Check mle_retvals\n",
      "  \"Check mle_retvals\", ConvergenceWarning)\n"
     ]
    },
    {
     "name": "stdout",
     "output_type": "stream",
     "text": [
      "ARIMA(3, 1, 2)x(0, 1, 1, 12)- AIC:3461.5996180117004\n",
      " \n"
     ]
    },
    {
     "name": "stderr",
     "output_type": "stream",
     "text": [
      "/Library/Frameworks/Python.framework/Versions/3.7/lib/python3.7/site-packages/statsmodels/base/model.py:512: ConvergenceWarning: Maximum Likelihood optimization failed to converge. Check mle_retvals\n",
      "  \"Check mle_retvals\", ConvergenceWarning)\n"
     ]
    },
    {
     "name": "stdout",
     "output_type": "stream",
     "text": [
      "ARIMA(3, 1, 2)x(0, 1, 2, 12)- AIC:3150.301184250504\n",
      " \n",
      "ARIMA(3, 1, 2)x(0, 1, 3, 12)- AIC:9307.534943147875\n",
      " \n"
     ]
    },
    {
     "name": "stderr",
     "output_type": "stream",
     "text": [
      "/Library/Frameworks/Python.framework/Versions/3.7/lib/python3.7/site-packages/statsmodels/base/model.py:512: ConvergenceWarning: Maximum Likelihood optimization failed to converge. Check mle_retvals\n",
      "  \"Check mle_retvals\", ConvergenceWarning)\n"
     ]
    },
    {
     "name": "stdout",
     "output_type": "stream",
     "text": [
      "ARIMA(3, 1, 2)x(1, 1, 0, 12)- AIC:3461.4927696020777\n",
      " \n"
     ]
    },
    {
     "name": "stderr",
     "output_type": "stream",
     "text": [
      "/Library/Frameworks/Python.framework/Versions/3.7/lib/python3.7/site-packages/statsmodels/base/model.py:512: ConvergenceWarning: Maximum Likelihood optimization failed to converge. Check mle_retvals\n",
      "  \"Check mle_retvals\", ConvergenceWarning)\n"
     ]
    },
    {
     "name": "stdout",
     "output_type": "stream",
     "text": [
      "ARIMA(3, 1, 2)x(1, 1, 1, 12)- AIC:3463.5552918698654\n",
      " \n"
     ]
    },
    {
     "name": "stderr",
     "output_type": "stream",
     "text": [
      "/Library/Frameworks/Python.framework/Versions/3.7/lib/python3.7/site-packages/statsmodels/base/model.py:512: ConvergenceWarning: Maximum Likelihood optimization failed to converge. Check mle_retvals\n",
      "  \"Check mle_retvals\", ConvergenceWarning)\n"
     ]
    },
    {
     "name": "stdout",
     "output_type": "stream",
     "text": [
      "ARIMA(3, 1, 2)x(1, 1, 2, 12)- AIC:3149.2783790238855\n",
      " \n",
      "ARIMA(3, 1, 2)x(1, 1, 3, 12)- AIC:9317.626741844184\n",
      " \n"
     ]
    },
    {
     "name": "stderr",
     "output_type": "stream",
     "text": [
      "/Library/Frameworks/Python.framework/Versions/3.7/lib/python3.7/site-packages/statsmodels/base/model.py:512: ConvergenceWarning: Maximum Likelihood optimization failed to converge. Check mle_retvals\n",
      "  \"Check mle_retvals\", ConvergenceWarning)\n"
     ]
    },
    {
     "name": "stdout",
     "output_type": "stream",
     "text": [
      "ARIMA(3, 1, 2)x(2, 1, 0, 12)- AIC:3148.279352806482\n",
      " \n"
     ]
    },
    {
     "name": "stderr",
     "output_type": "stream",
     "text": [
      "/Library/Frameworks/Python.framework/Versions/3.7/lib/python3.7/site-packages/statsmodels/base/model.py:512: ConvergenceWarning: Maximum Likelihood optimization failed to converge. Check mle_retvals\n",
      "  \"Check mle_retvals\", ConvergenceWarning)\n"
     ]
    },
    {
     "name": "stdout",
     "output_type": "stream",
     "text": [
      "ARIMA(3, 1, 2)x(2, 1, 1, 12)- AIC:3150.8132978744047\n",
      " \n"
     ]
    },
    {
     "name": "stderr",
     "output_type": "stream",
     "text": [
      "/Library/Frameworks/Python.framework/Versions/3.7/lib/python3.7/site-packages/statsmodels/base/model.py:512: ConvergenceWarning: Maximum Likelihood optimization failed to converge. Check mle_retvals\n",
      "  \"Check mle_retvals\", ConvergenceWarning)\n"
     ]
    },
    {
     "name": "stdout",
     "output_type": "stream",
     "text": [
      "ARIMA(3, 1, 2)x(2, 1, 2, 12)- AIC:3151.008945073942\n",
      " \n",
      "ARIMA(3, 1, 2)x(2, 1, 3, 12)- AIC:9302.073877200197\n",
      " \n"
     ]
    },
    {
     "name": "stderr",
     "output_type": "stream",
     "text": [
      "/Library/Frameworks/Python.framework/Versions/3.7/lib/python3.7/site-packages/statsmodels/base/model.py:512: ConvergenceWarning: Maximum Likelihood optimization failed to converge. Check mle_retvals\n",
      "  \"Check mle_retvals\", ConvergenceWarning)\n"
     ]
    },
    {
     "name": "stdout",
     "output_type": "stream",
     "text": [
      "ARIMA(3, 1, 2)x(3, 1, 0, 12)- AIC:2830.242291354745\n",
      " \n"
     ]
    },
    {
     "name": "stderr",
     "output_type": "stream",
     "text": [
      "/Library/Frameworks/Python.framework/Versions/3.7/lib/python3.7/site-packages/statsmodels/base/model.py:512: ConvergenceWarning: Maximum Likelihood optimization failed to converge. Check mle_retvals\n",
      "  \"Check mle_retvals\", ConvergenceWarning)\n"
     ]
    },
    {
     "name": "stdout",
     "output_type": "stream",
     "text": [
      "ARIMA(3, 1, 2)x(3, 1, 1, 12)- AIC:2831.930174783613\n",
      " \n"
     ]
    },
    {
     "name": "stderr",
     "output_type": "stream",
     "text": [
      "/Library/Frameworks/Python.framework/Versions/3.7/lib/python3.7/site-packages/statsmodels/base/model.py:512: ConvergenceWarning: Maximum Likelihood optimization failed to converge. Check mle_retvals\n",
      "  \"Check mle_retvals\", ConvergenceWarning)\n"
     ]
    },
    {
     "name": "stdout",
     "output_type": "stream",
     "text": [
      "ARIMA(3, 1, 2)x(3, 1, 2, 12)- AIC:2835.1569821798685\n",
      " \n",
      "ARIMA(3, 1, 2)x(3, 1, 3, 12)- AIC:9256.220249734653\n",
      " \n"
     ]
    },
    {
     "name": "stderr",
     "output_type": "stream",
     "text": [
      "/Library/Frameworks/Python.framework/Versions/3.7/lib/python3.7/site-packages/statsmodels/base/model.py:512: ConvergenceWarning: Maximum Likelihood optimization failed to converge. Check mle_retvals\n",
      "  \"Check mle_retvals\", ConvergenceWarning)\n"
     ]
    },
    {
     "name": "stdout",
     "output_type": "stream",
     "text": [
      "ARIMA(3, 1, 3)x(0, 1, 0, 12)- AIC:3743.0508610959073\n",
      " \n"
     ]
    },
    {
     "name": "stderr",
     "output_type": "stream",
     "text": [
      "/Library/Frameworks/Python.framework/Versions/3.7/lib/python3.7/site-packages/statsmodels/base/model.py:512: ConvergenceWarning: Maximum Likelihood optimization failed to converge. Check mle_retvals\n",
      "  \"Check mle_retvals\", ConvergenceWarning)\n"
     ]
    },
    {
     "name": "stdout",
     "output_type": "stream",
     "text": [
      "ARIMA(3, 1, 3)x(0, 1, 1, 12)- AIC:3431.2058861568307\n",
      " \n"
     ]
    },
    {
     "name": "stderr",
     "output_type": "stream",
     "text": [
      "/Library/Frameworks/Python.framework/Versions/3.7/lib/python3.7/site-packages/statsmodels/base/model.py:512: ConvergenceWarning: Maximum Likelihood optimization failed to converge. Check mle_retvals\n",
      "  \"Check mle_retvals\", ConvergenceWarning)\n"
     ]
    },
    {
     "name": "stdout",
     "output_type": "stream",
     "text": [
      "ARIMA(3, 1, 3)x(0, 1, 2, 12)- AIC:3123.2010211580277\n",
      " \n",
      "ARIMA(3, 1, 3)x(0, 1, 3, 12)- AIC:9223.00074508546\n",
      " \n"
     ]
    },
    {
     "name": "stderr",
     "output_type": "stream",
     "text": [
      "/Library/Frameworks/Python.framework/Versions/3.7/lib/python3.7/site-packages/statsmodels/base/model.py:512: ConvergenceWarning: Maximum Likelihood optimization failed to converge. Check mle_retvals\n",
      "  \"Check mle_retvals\", ConvergenceWarning)\n"
     ]
    },
    {
     "name": "stdout",
     "output_type": "stream",
     "text": [
      "ARIMA(3, 1, 3)x(1, 1, 0, 12)- AIC:3457.8263368110356\n",
      " \n"
     ]
    },
    {
     "name": "stderr",
     "output_type": "stream",
     "text": [
      "/Library/Frameworks/Python.framework/Versions/3.7/lib/python3.7/site-packages/statsmodels/base/model.py:512: ConvergenceWarning: Maximum Likelihood optimization failed to converge. Check mle_retvals\n",
      "  \"Check mle_retvals\", ConvergenceWarning)\n"
     ]
    },
    {
     "name": "stdout",
     "output_type": "stream",
     "text": [
      "ARIMA(3, 1, 3)x(1, 1, 1, 12)- AIC:3433.3116238235043\n",
      " \n"
     ]
    },
    {
     "name": "stderr",
     "output_type": "stream",
     "text": [
      "/Library/Frameworks/Python.framework/Versions/3.7/lib/python3.7/site-packages/statsmodels/base/model.py:512: ConvergenceWarning: Maximum Likelihood optimization failed to converge. Check mle_retvals\n",
      "  \"Check mle_retvals\", ConvergenceWarning)\n"
     ]
    },
    {
     "name": "stdout",
     "output_type": "stream",
     "text": [
      "ARIMA(3, 1, 3)x(1, 1, 2, 12)- AIC:3125.1472301394265\n",
      " \n",
      "ARIMA(3, 1, 3)x(1, 1, 3, 12)- AIC:9233.013982629378\n",
      " \n"
     ]
    },
    {
     "name": "stderr",
     "output_type": "stream",
     "text": [
      "/Library/Frameworks/Python.framework/Versions/3.7/lib/python3.7/site-packages/statsmodels/base/model.py:512: ConvergenceWarning: Maximum Likelihood optimization failed to converge. Check mle_retvals\n",
      "  \"Check mle_retvals\", ConvergenceWarning)\n"
     ]
    },
    {
     "name": "stdout",
     "output_type": "stream",
     "text": [
      "ARIMA(3, 1, 3)x(2, 1, 0, 12)- AIC:3148.5499024420824\n",
      " \n"
     ]
    },
    {
     "name": "stderr",
     "output_type": "stream",
     "text": [
      "/Library/Frameworks/Python.framework/Versions/3.7/lib/python3.7/site-packages/statsmodels/base/model.py:512: ConvergenceWarning: Maximum Likelihood optimization failed to converge. Check mle_retvals\n",
      "  \"Check mle_retvals\", ConvergenceWarning)\n"
     ]
    },
    {
     "name": "stdout",
     "output_type": "stream",
     "text": [
      "ARIMA(3, 1, 3)x(2, 1, 1, 12)- AIC:3150.332467167431\n",
      " \n"
     ]
    },
    {
     "name": "stderr",
     "output_type": "stream",
     "text": [
      "/Library/Frameworks/Python.framework/Versions/3.7/lib/python3.7/site-packages/statsmodels/base/model.py:512: ConvergenceWarning: Maximum Likelihood optimization failed to converge. Check mle_retvals\n",
      "  \"Check mle_retvals\", ConvergenceWarning)\n"
     ]
    },
    {
     "name": "stdout",
     "output_type": "stream",
     "text": [
      "ARIMA(3, 1, 3)x(2, 1, 2, 12)- AIC:3120.066662004962\n",
      " \n",
      "ARIMA(3, 1, 3)x(2, 1, 3, 12)- AIC:9217.631534146974\n",
      " \n"
     ]
    },
    {
     "name": "stderr",
     "output_type": "stream",
     "text": [
      "/Library/Frameworks/Python.framework/Versions/3.7/lib/python3.7/site-packages/statsmodels/base/model.py:512: ConvergenceWarning: Maximum Likelihood optimization failed to converge. Check mle_retvals\n",
      "  \"Check mle_retvals\", ConvergenceWarning)\n"
     ]
    },
    {
     "name": "stdout",
     "output_type": "stream",
     "text": [
      "ARIMA(3, 1, 3)x(3, 1, 0, 12)- AIC:2832.7083308348806\n",
      " \n"
     ]
    },
    {
     "name": "stderr",
     "output_type": "stream",
     "text": [
      "/Library/Frameworks/Python.framework/Versions/3.7/lib/python3.7/site-packages/statsmodels/base/model.py:512: ConvergenceWarning: Maximum Likelihood optimization failed to converge. Check mle_retvals\n",
      "  \"Check mle_retvals\", ConvergenceWarning)\n"
     ]
    },
    {
     "name": "stdout",
     "output_type": "stream",
     "text": [
      "ARIMA(3, 1, 3)x(3, 1, 1, 12)- AIC:2833.288217028026\n",
      " \n"
     ]
    },
    {
     "name": "stderr",
     "output_type": "stream",
     "text": [
      "/Library/Frameworks/Python.framework/Versions/3.7/lib/python3.7/site-packages/statsmodels/base/model.py:512: ConvergenceWarning: Maximum Likelihood optimization failed to converge. Check mle_retvals\n",
      "  \"Check mle_retvals\", ConvergenceWarning)\n"
     ]
    },
    {
     "name": "stdout",
     "output_type": "stream",
     "text": [
      "ARIMA(3, 1, 3)x(3, 1, 2, 12)- AIC:2837.311935008621\n",
      " \n",
      "ARIMA(3, 1, 3)x(3, 1, 3, 12)- AIC:9172.242505006046\n",
      " \n"
     ]
    }
   ],
   "source": [
    "p = range(0,4)\n",
    "d = range(1,2)\n",
    "q = range(0,4)\n",
    "pdq = list(itertools.product(p, d, q))\n",
    "seasonal_pdq = [(x[0], x[1], x[2], 12) for x in list(itertools.product(p, d, q))]\n",
    "\n",
    "df = pd.DataFrame()\n",
    "for param in pdq:\n",
    "    for param_seasonal in seasonal_pdq:\n",
    "        try:\n",
    "            mod = sm.tsa.statespace.SARIMAX(sales['Sum of Sales'],\n",
    "                                            exog = exog,\n",
    "                                            order=param,\n",
    "                                            seasonal_order=param_seasonal,\n",
    "                                            enforce_stationarity=False,\n",
    "                                            enforce_invertibility=False)\n",
    "            results = mod.fit()\n",
    "            print('ARIMA{}x{}- AIC:{}'.format(param, param_seasonal, results.aic))\n",
    "\n",
    "            combo = [(param,param_seasonal,results.aic)]\n",
    "            df = df.append(combo)\n",
    "            print(\" \")\n",
    "        except:\n",
    "            continue\n",
    "df.columns = ['param','param_seasonal', 'AIC']"
   ]
  },
  {
   "cell_type": "code",
   "execution_count": 10,
   "metadata": {
    "colab": {
     "base_uri": "https://localhost:8080/",
     "height": 419
    },
    "id": "HiZqRoLuLYDQ",
    "outputId": "526d0291-4b4b-4486-8587-579fe7d0ea39"
   },
   "outputs": [
    {
     "data": {
      "text/html": [
       "<div>\n",
       "<style scoped>\n",
       "    .dataframe tbody tr th:only-of-type {\n",
       "        vertical-align: middle;\n",
       "    }\n",
       "\n",
       "    .dataframe tbody tr th {\n",
       "        vertical-align: top;\n",
       "    }\n",
       "\n",
       "    .dataframe thead th {\n",
       "        text-align: right;\n",
       "    }\n",
       "</style>\n",
       "<table border=\"1\" class=\"dataframe\">\n",
       "  <thead>\n",
       "    <tr style=\"text-align: right;\">\n",
       "      <th></th>\n",
       "      <th>param</th>\n",
       "      <th>param_seasonal</th>\n",
       "      <th>AIC</th>\n",
       "    </tr>\n",
       "  </thead>\n",
       "  <tbody>\n",
       "    <tr>\n",
       "      <td>0</td>\n",
       "      <td>(3, 1, 1)</td>\n",
       "      <td>(3, 1, 0, 12)</td>\n",
       "      <td>2828.379633</td>\n",
       "    </tr>\n",
       "    <tr>\n",
       "      <td>1</td>\n",
       "      <td>(3, 1, 1)</td>\n",
       "      <td>(3, 1, 1, 12)</td>\n",
       "      <td>2830.206249</td>\n",
       "    </tr>\n",
       "    <tr>\n",
       "      <td>2</td>\n",
       "      <td>(3, 1, 2)</td>\n",
       "      <td>(3, 1, 0, 12)</td>\n",
       "      <td>2830.242291</td>\n",
       "    </tr>\n",
       "    <tr>\n",
       "      <td>3</td>\n",
       "      <td>(3, 1, 2)</td>\n",
       "      <td>(3, 1, 1, 12)</td>\n",
       "      <td>2831.930175</td>\n",
       "    </tr>\n",
       "    <tr>\n",
       "      <td>4</td>\n",
       "      <td>(3, 1, 0)</td>\n",
       "      <td>(3, 1, 0, 12)</td>\n",
       "      <td>2832.407078</td>\n",
       "    </tr>\n",
       "    <tr>\n",
       "      <td>...</td>\n",
       "      <td>...</td>\n",
       "      <td>...</td>\n",
       "      <td>...</td>\n",
       "    </tr>\n",
       "    <tr>\n",
       "      <td>251</td>\n",
       "      <td>(0, 1, 0)</td>\n",
       "      <td>(0, 1, 3, 12)</td>\n",
       "      <td>9485.060659</td>\n",
       "    </tr>\n",
       "    <tr>\n",
       "      <td>252</td>\n",
       "      <td>(1, 1, 0)</td>\n",
       "      <td>(1, 1, 3, 12)</td>\n",
       "      <td>9489.690270</td>\n",
       "    </tr>\n",
       "    <tr>\n",
       "      <td>253</td>\n",
       "      <td>(2, 1, 0)</td>\n",
       "      <td>(1, 1, 3, 12)</td>\n",
       "      <td>9490.051861</td>\n",
       "    </tr>\n",
       "    <tr>\n",
       "      <td>254</td>\n",
       "      <td>(3, 1, 0)</td>\n",
       "      <td>(1, 1, 3, 12)</td>\n",
       "      <td>9491.985267</td>\n",
       "    </tr>\n",
       "    <tr>\n",
       "      <td>255</td>\n",
       "      <td>(0, 1, 0)</td>\n",
       "      <td>(1, 1, 3, 12)</td>\n",
       "      <td>9495.564982</td>\n",
       "    </tr>\n",
       "  </tbody>\n",
       "</table>\n",
       "<p>256 rows × 3 columns</p>\n",
       "</div>"
      ],
      "text/plain": [
       "         param param_seasonal          AIC\n",
       "0    (3, 1, 1)  (3, 1, 0, 12)  2828.379633\n",
       "1    (3, 1, 1)  (3, 1, 1, 12)  2830.206249\n",
       "2    (3, 1, 2)  (3, 1, 0, 12)  2830.242291\n",
       "3    (3, 1, 2)  (3, 1, 1, 12)  2831.930175\n",
       "4    (3, 1, 0)  (3, 1, 0, 12)  2832.407078\n",
       "..         ...            ...          ...\n",
       "251  (0, 1, 0)  (0, 1, 3, 12)  9485.060659\n",
       "252  (1, 1, 0)  (1, 1, 3, 12)  9489.690270\n",
       "253  (2, 1, 0)  (1, 1, 3, 12)  9490.051861\n",
       "254  (3, 1, 0)  (1, 1, 3, 12)  9491.985267\n",
       "255  (0, 1, 0)  (1, 1, 3, 12)  9495.564982\n",
       "\n",
       "[256 rows x 3 columns]"
      ]
     },
     "execution_count": 10,
     "metadata": {},
     "output_type": "execute_result"
    }
   ],
   "source": [
    "df = df.sort_values('AIC').reset_index(drop= True)\n",
    "df"
   ]
  },
  {
   "cell_type": "markdown",
   "metadata": {
    "id": "iNNhWYXHLhAL"
   },
   "source": [
    "The above output suggests that SARIMAX(3,1,1)(3,1,0,12) yields the lowest AIC value of 2828.563996. Therefore we should consider this to be the optimal option."
   ]
  },
  {
   "cell_type": "code",
   "execution_count": 11,
   "metadata": {
    "colab": {
     "base_uri": "https://localhost:8080/"
    },
    "id": "kOTO2gV8Lyrv",
    "outputId": "40c519c8-d977-4807-8df3-bf530a698661"
   },
   "outputs": [
    {
     "name": "stderr",
     "output_type": "stream",
     "text": [
      "/Library/Frameworks/Python.framework/Versions/3.7/lib/python3.7/site-packages/statsmodels/base/model.py:512: ConvergenceWarning: Maximum Likelihood optimization failed to converge. Check mle_retvals\n",
      "  \"Check mle_retvals\", ConvergenceWarning)\n"
     ]
    },
    {
     "name": "stdout",
     "output_type": "stream",
     "text": [
      "                                 Statespace Model Results                                 \n",
      "==========================================================================================\n",
      "Dep. Variable:                       Sum of Sales   No. Observations:                  155\n",
      "Model:             SARIMAX(3, 1, 1)x(3, 1, 0, 12)   Log Likelihood               -1848.107\n",
      "Date:                            Thu, 18 Mar 2021   AIC                           3852.214\n",
      "Time:                                    12:43:07   BIC                           4082.768\n",
      "Sample:                                         0   HQIC                          3945.902\n",
      "                                            - 155                                         \n",
      "Covariance Type:                              opg                                         \n",
      "==========================================================================================================================================================================\n",
      "                                                                                                             coef    std err          z      P>|z|      [0.025      0.975]\n",
      "--------------------------------------------------------------------------------------------------------------------------------------------------------------------------\n",
      "FTR Truck Loadings (000s, SA)_freight_m_trucking                                                         -11.8752     43.014     -0.276      0.782     -96.181      72.431\n",
      "FTR Active Truck Utilization (%, SA)_freight_m_trucking                                                -2.537e+04   2.51e+04     -1.011      0.312   -7.45e+04    2.38e+04\n",
      "Reefer Trailer Loadings (000s, SA)_freight_m_trucking                                                   -232.8256    615.967     -0.378      0.705   -1440.098     974.447\n",
      "Tank Trailer Loadings (000s, SA)_freight_m_trucking                                                      -10.3110    198.007     -0.052      0.958    -398.398     377.776\n",
      "Chemicals & Allied Products (000s, SA)_freight_m_trucking                                                971.3858    859.574      1.130      0.258    -713.348    2656.120\n",
      "Spot TL Rates (w/o FSC)_rates_m_trucking                                                                1518.7616   6224.228      0.244      0.807   -1.07e+04    1.37e+04\n",
      "Total LTL (w/o FSC)_rates_m_trucking                                                                    2.625e+04   6.74e+04      0.390      0.697   -1.06e+05    1.58e+05\n",
      "Total LTL (w/ FSC)_rates_m_trucking                                                                    -1.924e+04   6.44e+04     -0.299      0.765   -1.46e+05    1.07e+05\n",
      "Contract TL Tank Rates (w/o FSC)_rates_m_trucking                                                      -1849.1830      1e+04     -0.185      0.853   -2.15e+04    1.78e+04\n",
      "OEM Net Orders (U.S. / CAN, units)_indicators_m_trucking                                                   1.4876      3.961      0.376      0.707      -6.276       9.252\n",
      "New Truck Lead Time (N.A. Backlog/Build Ratio, months)_indicators_m_trucking                           -5.124e+04    2.4e+04     -2.135      0.033   -9.83e+04   -4199.802\n",
      "B50001_indicators_m_trucking                                                                            3.196e+04   4.05e+04      0.789      0.430   -4.74e+04    1.11e+05\n",
      "GMFN_indicators_m_trucking                                                                             -7648.1713   7.22e+04     -0.106      0.916   -1.49e+05    1.34e+05\n",
      "G325_indicators_m_trucking                                                                             -3.427e+04   4.72e+04     -0.726      0.468   -1.27e+05    5.82e+04\n",
      "G332_indicators_m_trucking                                                                             -3.249e+04   2.87e+04     -1.131      0.258   -8.88e+04    2.38e+04\n",
      "ISM_indicators_m_trucking                                                                               1.693e+04   1.54e+04      1.097      0.273   -1.33e+04    4.72e+04\n",
      "PORTEU_indicators_m_trucking                                                                              -0.1119      0.254     -0.441      0.659      -0.609       0.385\n",
      "MANEMP_indicators_m_trucking                                                                             802.3029    958.852      0.837      0.403   -1077.012    2681.618\n",
      "USTRADE_indicators_m_trucking                                                                           -597.9871    566.847     -1.055      0.291   -1708.986     513.012\n",
      "LEI_indicators_m_trucking                                                                              -2.514e+04   3.85e+04     -0.653      0.514   -1.01e+05    5.03e+04\n",
      "SPREAD_indicators_m_trucking                                                                            8.784e+04   2.02e+05      0.435      0.664   -3.08e+05    4.84e+05\n",
      "D/GAL_indicators_m_trucking                                                                            -2.023e+05   2.57e+05     -0.786      0.432   -7.07e+05    3.02e+05\n",
      "D/STOCK_indicators_m_trucking                                                                             -2.6348      7.574     -0.348      0.728     -17.479      12.209\n",
      "Change in Payroll Employment (000's)_driver_indicators_m_trucking                                        -48.6548     39.560     -1.230      0.219    -126.192      28.882\n",
      "Change in Truck Emp. (000's)_driver_indicators_m_trucking                                              -3671.2638   3908.325     -0.939      0.348   -1.13e+04    3988.912\n",
      "LABORINDEX_driver_indicators_m_trucking                                                                -8.136e+04   7.09e+04     -1.147      0.251    -2.2e+05    5.77e+04\n",
      "Total Class 8, North America_Factory Shipments (Ward's)_indicators_m_trucking_trailer                     26.5008     27.295      0.971      0.332     -26.997      79.999\n",
      "Total Class 8, North America_Factory Shipments (Ward's)_M/M % Change_indicators_m_trucking_trailer       142.6321   1349.281      0.106      0.916   -2501.911    2787.175\n",
      "Total Class 8, North America_Factory Shipments (Ward's)_Y/Y % Change_indicators_m_trucking_trailer     -1519.0004   2113.533     -0.719      0.472   -5661.449    2623.448\n",
      "Total Class 8, North America_Retail Sales (Ward's)_indicators_m_trucking_trailer                         -11.2386     20.263     -0.555      0.579     -50.953      28.476\n",
      "Total Class 8, North America_Retail Sales (Ward's)_M/M % Change_indicators_m_trucking_trailer           -257.7769   2537.761     -0.102      0.919   -5231.696    4716.143\n",
      "Total Class 8, North America_Inventories (Ward's)_M/M % Change_indicators_m_trucking_trailer           -3671.1759   8216.545     -0.447      0.655   -1.98e+04    1.24e+04\n",
      "Total Class 8, North America_Inventories (Ward's)_Y/Y % Change_indicators_m_trucking_trailer           -3782.6308   3328.068     -1.137      0.256   -1.03e+04    2740.263\n",
      "Total Trailers, U.S._Production_M/M % Change_indicators_m_trucking_trailer                             -1533.5444   2442.380     -0.628      0.530   -6320.520    3253.432\n",
      "Total Trailers, U.S._Production_Y/Y % Change_indicators_m_trucking_trailer                              -866.6337   1813.113     -0.478      0.633   -4420.270    2687.003\n",
      "Total Classes 4-7, North America_Factory Shipments (Ward's)_indicators_m_trucking_trailer                -21.8241     24.792     -0.880      0.379     -70.415      26.767\n",
      "Total Classes 4-7, North America_Factory Shipments (Ward's)_M/M % Change_indicators_m_trucking_trailer  -530.0368   1334.747     -0.397      0.691   -3146.093    2086.019\n",
      "Total Classes 4-7, North America_Factory Shipments (Ward's)_Y/Y % Change_indicators_m_trucking_trailer    87.0130   1881.678      0.046      0.963   -3601.009    3775.035\n",
      "Total Classes 4-7, North America_Retail Sales (Ward's)_M/M % Change_indicators_m_trucking_trailer       -751.9293   2727.648     -0.276      0.783   -6098.022    4594.163\n",
      "Total Classes 4-7, North America_Retail Sales (Ward's)_Y/Y % Change_indicators_m_trucking_trailer       1386.5098   2934.298      0.473      0.637   -4364.609    7137.628\n",
      "Total Classes 4-7, North America_Inventories (Ward's)_M/M % Change_indicators_m_trucking_trailer        2668.7510   4231.846      0.631      0.528   -5625.514     1.1e+04\n",
      "Total Classes 4-7, North America_Inventories (Ward's)_Y/Y % Change_indicators_m_trucking_trailer         654.7261   3276.720      0.200      0.842   -5767.528    7076.980\n",
      "Class 4, North America_Factory Shipments (Ward's)_indicators_m_trucking_trailer                           22.1286     78.826      0.281      0.779    -132.367     176.625\n",
      "Class 4, North America_Retail Sales (Ward's)_indicators_m_trucking_trailer                                27.8831     86.142      0.324      0.746    -140.952     196.718\n",
      "Class 4, North America_Inventories (Ward's)_indicators_m_trucking_trailer                                -27.2504     25.701     -1.060      0.289     -77.623      23.122\n",
      "Class 6-7 Bus, North America_Factory Shipments (Ward's)_indicators_m_trucking_trailer                     39.1476     68.789      0.569      0.569     -95.677     173.972\n",
      "FTR Truck Loadings_M/M % Change_freight_m_trucking_trailer                                              5959.2508   1.54e+04      0.388      0.698   -2.41e+04    3.61e+04\n",
      "FTR Truck Loadings_Y/Y % Change_freight_m_trucking_trailer                                             -3244.9242   1.63e+04     -0.199      0.842   -3.52e+04    2.87e+04\n",
      "FTR Rail Intermodal Loadings_M/M % Change_freight_m_trucking_trailer                                    -609.1753   8256.295     -0.074      0.941   -1.68e+04    1.56e+04\n",
      "FTR Rail Intermodal Loadings_Y/Y % Change_freight_m_trucking_trailer                                     880.7735   5177.890      0.170      0.865   -9267.705     1.1e+04\n",
      "FTR Rail Carloadings (carload + intermodal) (000s, SA)_freight_m_trucking_trailer                       -426.5464    491.092     -0.869      0.385   -1389.070     535.977\n",
      "FTR Rail Carloadings_M/M % Change_freight_m_trucking_trailer                                            -320.3409   8862.392     -0.036      0.971   -1.77e+04     1.7e+04\n",
      "FTR Rail Carloadings_Y/Y % Change_freight_m_trucking_trailer                                            2573.1755   7666.770      0.336      0.737   -1.25e+04    1.76e+04\n",
      "FTR Class 8 Truck Utilization (%, SA)_freight_m_trucking_trailer                                        3.259e+04   2.34e+04      1.394      0.163   -1.32e+04    7.84e+04\n",
      "BUILD FOR_Total_Trailer                                                                                   19.6862     27.239      0.723      0.470     -33.702      73.075\n",
      "BUILD FOR_Flatbed                                                                                       -123.5790    150.071     -0.823      0.410    -417.713     170.555\n",
      "BUILD FOR_Liquid_Tank                                                                                    526.1255    478.253      1.100      0.271    -411.234    1463.485\n",
      "BUILD FOR_Dry_Tank                                                                                       365.1310    595.919      0.613      0.540    -802.849    1533.111\n",
      "BUILD FOR_Dump                                                                                          -120.8732    472.793     -0.256      0.798   -1047.530     805.784\n",
      "BUILD FOR_Lowbed                                                                                        -151.0479    844.891     -0.179      0.858   -1807.003    1504.908\n",
      "BUILD FOR_All_Other                                                                                       49.4618    123.844      0.399      0.690    -193.268     292.191\n",
      "Change in Distillate Fuel Inventories_x                                                                    7.4010      5.604      1.321      0.187      -3.582      18.384\n",
      "Intermodal Revenue Movements (IANA-ETSO)_Total_x                                                           0.8942      1.564      0.572      0.567      -2.171       3.959\n",
      "FTR Intermodal Competitive Index_Intermodal Competitive Index (0=Neutral)_x                            -3375.1984   1.15e+04     -0.293      0.769   -2.59e+04    1.92e+04\n",
      "U.S. Origin Intermodal Volumes_International_x                                                            -0.5556      2.374     -0.234      0.815      -5.208       4.097\n",
      "Canada Origin Intermodal Volumes_Domestic_x                                                               -0.1668     16.843     -0.010      0.992     -33.179      32.846\n",
      "N.A. Port Activity, Total TEUs_Exports_x                                                                   0.8860      1.122      0.790      0.430      -1.312       3.084\n",
      "West Coast Port Activity, Total TEUs_Exports_x                                                            -0.2411      1.967     -0.123      0.902      -4.097       3.615\n",
      "Gulf Coast Port Activity, Total TEUs_Exports_x                                                            -0.4875      3.033     -0.161      0.872      -6.431       5.456\n",
      "Western Canadian Port Activity, Total TEUs_Exports_x                                                      -1.6207      3.473     -0.467      0.641      -8.427       5.186\n",
      "ar.L1                                                                                                     -0.2676      2.749     -0.097      0.922      -5.655       5.120\n",
      "ar.L2                                                                                                      0.0094      0.065      0.144      0.885      -0.118       0.136\n",
      "ar.L3                                                                                                     -0.0101      0.134     -0.075      0.940      -0.273       0.253\n",
      "ma.L1                                                                                                      0.2686      2.752      0.098      0.922      -5.125       5.662\n",
      "ar.S.L12                                                                                                   0.0089      0.101      0.088      0.930      -0.190       0.208\n",
      "ar.S.L24                                                                                                   0.0094      0.057      0.165      0.869      -0.102       0.120\n",
      "ar.S.L36                                                                                                   0.0055      0.033      0.165      0.869      -0.060       0.071\n",
      "sigma2                                                                                                  1.183e+10      7.064   1.67e+09      0.000    1.18e+10    1.18e+10\n",
      "===================================================================================\n",
      "Ljung-Box (Q):                       55.42   Jarque-Bera (JB):                 7.82\n",
      "Prob(Q):                              0.05   Prob(JB):                         0.02\n",
      "Heteroskedasticity (H):               1.29   Skew:                            -0.33\n",
      "Prob(H) (two-sided):                  0.38   Kurtosis:                         3.94\n",
      "===================================================================================\n",
      "\n",
      "Warnings:\n",
      "[1] Covariance matrix calculated using the outer product of gradients (complex-step).\n",
      "[2] Covariance matrix is singular or near-singular, with condition number 2.07e+25. Standard errors may be unstable.\n"
     ]
    }
   ],
   "source": [
    "mod = sm.tsa.statespace.SARIMAX(sales['Sum of Sales'],\n",
    "                                exog = exog,\n",
    "                                order=(3, 1, 1),\n",
    "                                seasonal_order=(3, 1, 0, 12))\n",
    "results = mod.fit()\n",
    "print(results.summary())"
   ]
  },
  {
   "cell_type": "code",
   "execution_count": 12,
   "metadata": {
    "colab": {
     "base_uri": "https://localhost:8080/",
     "height": 513
    },
    "id": "a2Mh7bwhL_DN",
    "outputId": "3410f877-7d05-4f15-9bc5-fb12dab8f806"
   },
   "outputs": [
    {
     "data": {
      "image/png": "[encoded data removed]",
      "text/plain": [
       "<Figure size 1152x576 with 4 Axes>"
      ]
     },
     "metadata": {
      "needs_background": "light"
     },
     "output_type": "display_data"
    }
   ],
   "source": [
    "results.plot_diagnostics(figsize=(16, 8))\n",
    "plt.show()"
   ]
  },
  {
   "cell_type": "markdown",
   "metadata": {
    "id": "sPjptDL7EMfI"
   },
   "source": [
    "Here we will forecast the values using the model. Can change starting point from which we need to forecast. For now we will keep starting point after 50 observations"
   ]
  },
  {
   "cell_type": "code",
   "execution_count": 13,
   "metadata": {
    "colab": {
     "base_uri": "https://localhost:8080/",
     "height": 439
    },
    "id": "SjwZ_3-3MBY8",
    "outputId": "16308993-aaf0-4f4e-e33d-d663fad3f542"
   },
   "outputs": [
    {
     "data": {
      "image/png": "[encoded data removed]",
      "text/plain": [
       "<Figure size 1008x504 with 1 Axes>"
      ]
     },
     "metadata": {
      "needs_background": "light"
     },
     "output_type": "display_data"
    }
   ],
   "source": [
    "#Point from which prediction starts\n",
    "start_point = 50\n",
    "pred = results.get_prediction(start=start_point, dynamic=False)\n",
    "pred_ci = pred.conf_int()\n",
    "ax = sales['Sum of Sales'].plot(label='observed',)\n",
    "pred.predicted_mean.plot(ax=ax, label='Forecasting', alpha=.7, figsize=(14, 7))\n",
    "ax.fill_between(pred_ci.index,\n",
    "                pred_ci.iloc[:, 0],\n",
    "                pred_ci.iloc[:, 1], color='k', alpha=.2)\n",
    "plt.legend()\n",
    "plt.show()"
   ]
  },
  {
   "cell_type": "markdown",
   "metadata": {
    "id": "FqsiHXH1FDIy"
   },
   "source": [
    "# Model Evaluation\n",
    " - Mean Absolute Percentage Error\n",
    " - Mean Absolute Error\n",
    " - BIAS\n",
    " - Mean Squared Error\n",
    " - Root Mean Squared Error"
   ]
  },
  {
   "cell_type": "code",
   "execution_count": 29,
   "metadata": {
    "scrolled": true
   },
   "outputs": [
    {
     "name": "stdout",
     "output_type": "stream",
     "text": [
      "===================================================================\n",
      "\t\t\tModel Performance\n",
      "===================================================================\n",
      "\n",
      "Mean Absolute Percentage Error0.3560106661188843\n",
      "\n",
      "Mean Absolute Error 84610.80846783008\n",
      "\n",
      "BIAS: 196.80214295822995\n",
      "\n",
      "Mean Squared Error 4066763.764659915\n",
      "\n",
      "Root Mean Squared Error 2016.6218695283246\n",
      "===================================================================\n"
     ]
    }
   ],
   "source": [
    "me.evaluate_model(predictions,actual)"
   ]
  },
  {
   "cell_type": "code",
   "execution_count": null,
   "metadata": {},
   "outputs": [],
   "source": []
  }
 ],
 "metadata": {
  "colab": {
   "collapsed_sections": [],
   "include_colab_link": true,
   "name": "books_sarima.ipynb",
   "provenance": []
  },
  "kernelspec": {
   "display_name": "Python 3",
   "language": "python",
   "name": "python3"
  },
  "language_info": {
   "codemirror_mode": {
    "name": "ipython",
    "version": 3
   },
   "file_extension": ".py",
   "mimetype": "text/x-python",
   "name": "python",
   "nbconvert_exporter": "python",
   "pygments_lexer": "ipython3",
   "version": "3.7.1"
  }
 },
 "nbformat": 4,
 "nbformat_minor": 1
}
