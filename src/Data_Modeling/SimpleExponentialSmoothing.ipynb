{
  "nbformat": 4,
  "nbformat_minor": 0,
  "metadata": {
    "colab": {
      "name": "SimpleExponentialSmoothing",
      "provenance": []
    },
    "kernelspec": {
      "name": "python3",
      "display_name": "Python 3"
    },
    "language_info": {
      "name": "python"
    }
  },
  "cells": [
    {
      "cell_type": "markdown",
      "metadata": {
        "id": "Oc29c1lIZmMg"
      },
      "source": [
        "# Exponential Smoothing"
      ]
    },
    {
      "cell_type": "code",
      "metadata": {
        "colab": {
          "base_uri": "https://localhost:8080/"
        },
        "id": "-1LJ4jmV9LUn",
        "outputId": "655ec7d6-8e84-4901-e270-856068780b2d"
      },
      "source": [
        "from google.colab import drive\n",
        "drive.mount('/content/drive')\n",
        "import pandas as pd\n",
        "import numpy as np\n",
        "import matplotlib.pyplot as plt\n",
        "import sys\n",
        "sys.path.append('/content/drive/MyDrive/Colab Notebooks')\n",
        "from Model_Evaluation import evaluate_model\n",
        "%matplotlib inline"
      ],
      "execution_count": 2,
      "outputs": [
        {
          "output_type": "stream",
          "text": [
            "Drive already mounted at /content/drive; to attempt to forcibly remount, call drive.mount(\"/content/drive\", force_remount=True).\n"
          ],
          "name": "stdout"
        }
      ]
    },
    {
      "cell_type": "code",
      "metadata": {
        "colab": {
          "base_uri": "https://localhost:8080/",
          "height": 309
        },
        "id": "F_irO8C39UGU",
        "outputId": "801b3aae-e1bc-44b9-902f-eff4ece77f8e"
      },
      "source": [
        "books = pd.read_csv('/content/drive/MyDrive/Colab Notebooks/LabelMaster/LabelMaster Data/Books_ext_fs.csv')\n",
        "books = books.dropna(axis = 1)\n",
        "sales = books[['Year_Month','Sum of Sales']]\n",
        "books.head()"
      ],
      "execution_count": 3,
      "outputs": [
        {
          "output_type": "execute_result",
          "data": {
            "text/html": [
              "<div>\n",
              "<style scoped>\n",
              "    .dataframe tbody tr th:only-of-type {\n",
              "        vertical-align: middle;\n",
              "    }\n",
              "\n",
              "    .dataframe tbody tr th {\n",
              "        vertical-align: top;\n",
              "    }\n",
              "\n",
              "    .dataframe thead th {\n",
              "        text-align: right;\n",
              "    }\n",
              "</style>\n",
              "<table border=\"1\" class=\"dataframe\">\n",
              "  <thead>\n",
              "    <tr style=\"text-align: right;\">\n",
              "      <th></th>\n",
              "      <th>Year_Month</th>\n",
              "      <th>Sum of Sales</th>\n",
              "      <th>FTR Truck Loadings (000s, SA)_freight_m_trucking</th>\n",
              "      <th>FTR Active Truck Utilization (%, SA)_freight_m_trucking</th>\n",
              "      <th>Reefer Trailer Loadings (000s, SA)_freight_m_trucking</th>\n",
              "      <th>Tank Trailer Loadings (000s, SA)_freight_m_trucking</th>\n",
              "      <th>Chemicals &amp; Allied Products (000s, SA)_freight_m_trucking</th>\n",
              "      <th>Spot TL Rates (w/o FSC)_rates_m_trucking</th>\n",
              "      <th>Total LTL (w/o FSC)_rates_m_trucking</th>\n",
              "      <th>Total LTL (w/ FSC)_rates_m_trucking</th>\n",
              "      <th>Contract TL Tank Rates (w/o FSC)_rates_m_trucking</th>\n",
              "      <th>OEM Net Orders (U.S. / CAN, units)_indicators_m_trucking</th>\n",
              "      <th>New Truck Lead Time (N.A. Backlog/Build Ratio, months)_indicators_m_trucking</th>\n",
              "      <th>B50001_indicators_m_trucking</th>\n",
              "      <th>GMFN_indicators_m_trucking</th>\n",
              "      <th>G325_indicators_m_trucking</th>\n",
              "      <th>G332_indicators_m_trucking</th>\n",
              "      <th>ISM_indicators_m_trucking</th>\n",
              "      <th>PORTEU_indicators_m_trucking</th>\n",
              "      <th>MANEMP_indicators_m_trucking</th>\n",
              "      <th>USTRADE_indicators_m_trucking</th>\n",
              "      <th>LEI_indicators_m_trucking</th>\n",
              "      <th>SPREAD_indicators_m_trucking</th>\n",
              "      <th>D/GAL_indicators_m_trucking</th>\n",
              "      <th>D/STOCK_indicators_m_trucking</th>\n",
              "      <th>Change in Payroll Employment (000's)_driver_indicators_m_trucking</th>\n",
              "      <th>Change in Truck Emp. (000's)_driver_indicators_m_trucking</th>\n",
              "      <th>LABORINDEX_driver_indicators_m_trucking</th>\n",
              "      <th>Total Class 8, North America_Factory Shipments (Ward's)_indicators_m_trucking_trailer</th>\n",
              "      <th>Total Class 8, North America_Factory Shipments (Ward's)_M/M % Change_indicators_m_trucking_trailer</th>\n",
              "      <th>Total Class 8, North America_Factory Shipments (Ward's)_Y/Y % Change_indicators_m_trucking_trailer</th>\n",
              "      <th>Total Class 8, North America_Retail Sales (Ward's)_indicators_m_trucking_trailer</th>\n",
              "      <th>Total Class 8, North America_Retail Sales (Ward's)_M/M % Change_indicators_m_trucking_trailer</th>\n",
              "      <th>Total Class 8, North America_Inventories (Ward's)_M/M % Change_indicators_m_trucking_trailer</th>\n",
              "      <th>Total Class 8, North America_Inventories (Ward's)_Y/Y % Change_indicators_m_trucking_trailer</th>\n",
              "      <th>Total Trailers, U.S._Production_M/M % Change_indicators_m_trucking_trailer</th>\n",
              "      <th>Total Trailers, U.S._Production_Y/Y % Change_indicators_m_trucking_trailer</th>\n",
              "      <th>Total Classes 4-7, North America_Factory Shipments (Ward's)_indicators_m_trucking_trailer</th>\n",
              "      <th>Total Classes 4-7, North America_Factory Shipments (Ward's)_M/M % Change_indicators_m_trucking_trailer</th>\n",
              "      <th>Total Classes 4-7, North America_Factory Shipments (Ward's)_Y/Y % Change_indicators_m_trucking_trailer</th>\n",
              "      <th>Total Classes 4-7, North America_Retail Sales (Ward's)_M/M % Change_indicators_m_trucking_trailer</th>\n",
              "      <th>Total Classes 4-7, North America_Retail Sales (Ward's)_Y/Y % Change_indicators_m_trucking_trailer</th>\n",
              "      <th>Total Classes 4-7, North America_Inventories (Ward's)_M/M % Change_indicators_m_trucking_trailer</th>\n",
              "      <th>Total Classes 4-7, North America_Inventories (Ward's)_Y/Y % Change_indicators_m_trucking_trailer</th>\n",
              "      <th>Class 4, North America_Factory Shipments (Ward's)_indicators_m_trucking_trailer</th>\n",
              "      <th>Class 4, North America_Retail Sales (Ward's)_indicators_m_trucking_trailer</th>\n",
              "      <th>Class 4, North America_Inventories (Ward's)_indicators_m_trucking_trailer</th>\n",
              "      <th>Class 6-7 Bus, North America_Factory Shipments (Ward's)_indicators_m_trucking_trailer</th>\n",
              "      <th>FTR Truck Loadings_M/M % Change_freight_m_trucking_trailer</th>\n",
              "      <th>FTR Truck Loadings_Y/Y % Change_freight_m_trucking_trailer</th>\n",
              "      <th>FTR Rail Intermodal Loadings_M/M % Change_freight_m_trucking_trailer</th>\n",
              "      <th>FTR Rail Intermodal Loadings_Y/Y % Change_freight_m_trucking_trailer</th>\n",
              "      <th>FTR Rail Carloadings (carload + intermodal) (000s, SA)_freight_m_trucking_trailer</th>\n",
              "      <th>FTR Rail Carloadings_M/M % Change_freight_m_trucking_trailer</th>\n",
              "      <th>FTR Rail Carloadings_Y/Y % Change_freight_m_trucking_trailer</th>\n",
              "      <th>FTR Class 8 Truck Utilization (%, SA)_freight_m_trucking_trailer</th>\n",
              "      <th>BUILD FOR_Total_Trailer</th>\n",
              "      <th>BUILD FOR_Flatbed</th>\n",
              "      <th>BUILD FOR_Liquid_Tank</th>\n",
              "      <th>BUILD FOR_Dry_Tank</th>\n",
              "      <th>BUILD FOR_Dump</th>\n",
              "      <th>BUILD FOR_Lowbed</th>\n",
              "      <th>BUILD FOR_All_Other</th>\n",
              "      <th>Change in Distillate Fuel Inventories_x</th>\n",
              "      <th>Intermodal Revenue Movements (IANA-ETSO)_Total_x</th>\n",
              "      <th>FTR Intermodal Competitive Index_Intermodal Competitive Index (0=Neutral)_x</th>\n",
              "      <th>U.S. Origin Intermodal Volumes_International_x</th>\n",
              "      <th>Canada Origin Intermodal Volumes_Domestic_x</th>\n",
              "      <th>N.A. Port Activity, Total TEUs_Exports_x</th>\n",
              "      <th>West Coast Port Activity, Total TEUs_Exports_x</th>\n",
              "      <th>Gulf Coast Port Activity, Total TEUs_Exports_x</th>\n",
              "      <th>Western Canadian Port Activity, Total TEUs_Exports_x</th>\n",
              "    </tr>\n",
              "  </thead>\n",
              "  <tbody>\n",
              "    <tr>\n",
              "      <th>0</th>\n",
              "      <td>2008-01</td>\n",
              "      <td>282604.11</td>\n",
              "      <td>57633.608984</td>\n",
              "      <td>88.294650</td>\n",
              "      <td>3940.638792</td>\n",
              "      <td>6915.782704</td>\n",
              "      <td>3013.868684</td>\n",
              "      <td>96.932289</td>\n",
              "      <td>99.755501</td>\n",
              "      <td>114.408275</td>\n",
              "      <td>99.995901</td>\n",
              "      <td>16185.0</td>\n",
              "      <td>4.548055</td>\n",
              "      <td>105.0619</td>\n",
              "      <td>111.0493</td>\n",
              "      <td>116.8145</td>\n",
              "      <td>117.1677</td>\n",
              "      <td>50.3</td>\n",
              "      <td>1589857.20</td>\n",
              "      <td>13725.0</td>\n",
              "      <td>15569.0</td>\n",
              "      <td>-0.5</td>\n",
              "      <td>3.28</td>\n",
              "      <td>3.308</td>\n",
              "      <td>130963.0</td>\n",
              "      <td>11.0</td>\n",
              "      <td>-2.0</td>\n",
              "      <td>116.621376</td>\n",
              "      <td>18095.0</td>\n",
              "      <td>27.600310</td>\n",
              "      <td>-51.678372</td>\n",
              "      <td>17273.0</td>\n",
              "      <td>17.711599</td>\n",
              "      <td>-3.727683</td>\n",
              "      <td>-18.589592</td>\n",
              "      <td>-10.826287</td>\n",
              "      <td>-34.572797</td>\n",
              "      <td>15858.0</td>\n",
              "      <td>13.710024</td>\n",
              "      <td>-27.608874</td>\n",
              "      <td>14.674525</td>\n",
              "      <td>-11.794280</td>\n",
              "      <td>-5.728404</td>\n",
              "      <td>-22.814817</td>\n",
              "      <td>2261.0</td>\n",
              "      <td>4488.0</td>\n",
              "      <td>18764.0</td>\n",
              "      <td>3297.0</td>\n",
              "      <td>-2.749882</td>\n",
              "      <td>-5.114613</td>\n",
              "      <td>-1.855190</td>\n",
              "      <td>-5.115789</td>\n",
              "      <td>3093.638815</td>\n",
              "      <td>1.794564</td>\n",
              "      <td>2.006057</td>\n",
              "      <td>83.453866</td>\n",
              "      <td>10291.0</td>\n",
              "      <td>1031.0</td>\n",
              "      <td>594.0</td>\n",
              "      <td>118.0</td>\n",
              "      <td>629.0</td>\n",
              "      <td>161.0</td>\n",
              "      <td>969.0</td>\n",
              "      <td>-2981.0</td>\n",
              "      <td>1156094.0</td>\n",
              "      <td>3.341993</td>\n",
              "      <td>557011.0</td>\n",
              "      <td>46969.0</td>\n",
              "      <td>1035741.59</td>\n",
              "      <td>428531.27</td>\n",
              "      <td>90322.59</td>\n",
              "      <td>70230.0</td>\n",
              "    </tr>\n",
              "    <tr>\n",
              "      <th>1</th>\n",
              "      <td>2008-02</td>\n",
              "      <td>262474.40</td>\n",
              "      <td>57175.659828</td>\n",
              "      <td>87.998407</td>\n",
              "      <td>3927.115595</td>\n",
              "      <td>6836.939472</td>\n",
              "      <td>2975.285847</td>\n",
              "      <td>99.719858</td>\n",
              "      <td>99.755501</td>\n",
              "      <td>114.867841</td>\n",
              "      <td>100.276486</td>\n",
              "      <td>11091.0</td>\n",
              "      <td>5.234215</td>\n",
              "      <td>104.7094</td>\n",
              "      <td>110.0052</td>\n",
              "      <td>115.6614</td>\n",
              "      <td>116.8983</td>\n",
              "      <td>47.6</td>\n",
              "      <td>1582819.70</td>\n",
              "      <td>13696.0</td>\n",
              "      <td>15528.0</td>\n",
              "      <td>-0.2</td>\n",
              "      <td>2.97</td>\n",
              "      <td>3.377</td>\n",
              "      <td>117636.0</td>\n",
              "      <td>-79.0</td>\n",
              "      <td>-4.0</td>\n",
              "      <td>116.603578</td>\n",
              "      <td>13367.0</td>\n",
              "      <td>-26.128765</td>\n",
              "      <td>-57.030346</td>\n",
              "      <td>13629.0</td>\n",
              "      <td>-21.096509</td>\n",
              "      <td>-4.198226</td>\n",
              "      <td>-28.575950</td>\n",
              "      <td>-16.623657</td>\n",
              "      <td>-40.691569</td>\n",
              "      <td>14265.0</td>\n",
              "      <td>-10.045403</td>\n",
              "      <td>-8.198726</td>\n",
              "      <td>-18.664736</td>\n",
              "      <td>-16.655496</td>\n",
              "      <td>2.197078</td>\n",
              "      <td>-24.643299</td>\n",
              "      <td>2824.0</td>\n",
              "      <td>3912.0</td>\n",
              "      <td>18603.0</td>\n",
              "      <td>2192.0</td>\n",
              "      <td>0.590421</td>\n",
              "      <td>-4.132064</td>\n",
              "      <td>1.841867</td>\n",
              "      <td>-2.224320</td>\n",
              "      <td>3167.478461</td>\n",
              "      <td>2.386822</td>\n",
              "      <td>5.396564</td>\n",
              "      <td>83.945342</td>\n",
              "      <td>11750.0</td>\n",
              "      <td>1178.0</td>\n",
              "      <td>679.0</td>\n",
              "      <td>135.0</td>\n",
              "      <td>718.0</td>\n",
              "      <td>184.0</td>\n",
              "      <td>1104.0</td>\n",
              "      <td>-13327.0</td>\n",
              "      <td>1088826.0</td>\n",
              "      <td>2.285576</td>\n",
              "      <td>501961.0</td>\n",
              "      <td>44924.0</td>\n",
              "      <td>1138044.52</td>\n",
              "      <td>478707.33</td>\n",
              "      <td>100410.66</td>\n",
              "      <td>86567.0</td>\n",
              "    </tr>\n",
              "    <tr>\n",
              "      <th>2</th>\n",
              "      <td>2008-03</td>\n",
              "      <td>326059.68</td>\n",
              "      <td>56814.700553</td>\n",
              "      <td>87.790155</td>\n",
              "      <td>3922.853376</td>\n",
              "      <td>6758.129439</td>\n",
              "      <td>2941.079313</td>\n",
              "      <td>103.347853</td>\n",
              "      <td>100.488998</td>\n",
              "      <td>117.070858</td>\n",
              "      <td>99.727612</td>\n",
              "      <td>14647.0</td>\n",
              "      <td>5.466012</td>\n",
              "      <td>104.4616</td>\n",
              "      <td>109.3938</td>\n",
              "      <td>114.5234</td>\n",
              "      <td>116.8947</td>\n",
              "      <td>48.3</td>\n",
              "      <td>1521727.00</td>\n",
              "      <td>13659.0</td>\n",
              "      <td>15535.0</td>\n",
              "      <td>0.0</td>\n",
              "      <td>2.96</td>\n",
              "      <td>3.881</td>\n",
              "      <td>107784.0</td>\n",
              "      <td>-49.0</td>\n",
              "      <td>2.0</td>\n",
              "      <td>116.701136</td>\n",
              "      <td>13937.0</td>\n",
              "      <td>4.264233</td>\n",
              "      <td>-43.784285</td>\n",
              "      <td>15326.0</td>\n",
              "      <td>12.451390</td>\n",
              "      <td>-5.142497</td>\n",
              "      <td>-24.097712</td>\n",
              "      <td>-6.406104</td>\n",
              "      <td>-42.219161</td>\n",
              "      <td>9943.0</td>\n",
              "      <td>-30.297932</td>\n",
              "      <td>-32.989621</td>\n",
              "      <td>18.702970</td>\n",
              "      <td>-19.271037</td>\n",
              "      <td>-6.795043</td>\n",
              "      <td>-24.848635</td>\n",
              "      <td>1764.0</td>\n",
              "      <td>6110.0</td>\n",
              "      <td>16986.0</td>\n",
              "      <td>1529.0</td>\n",
              "      <td>0.963854</td>\n",
              "      <td>-6.990265</td>\n",
              "      <td>0.682647</td>\n",
              "      <td>-4.591548</td>\n",
              "      <td>3164.474988</td>\n",
              "      <td>-0.094822</td>\n",
              "      <td>1.171330</td>\n",
              "      <td>83.954826</td>\n",
              "      <td>12333.0</td>\n",
              "      <td>1237.0</td>\n",
              "      <td>713.0</td>\n",
              "      <td>141.0</td>\n",
              "      <td>753.0</td>\n",
              "      <td>194.0</td>\n",
              "      <td>1158.0</td>\n",
              "      <td>-9852.0</td>\n",
              "      <td>1082825.0</td>\n",
              "      <td>1.924076</td>\n",
              "      <td>481100.0</td>\n",
              "      <td>46727.0</td>\n",
              "      <td>1167741.55</td>\n",
              "      <td>500866.45</td>\n",
              "      <td>93384.28</td>\n",
              "      <td>80451.0</td>\n",
              "    </tr>\n",
              "    <tr>\n",
              "      <th>3</th>\n",
              "      <td>2008-04</td>\n",
              "      <td>215387.49</td>\n",
              "      <td>56916.813852</td>\n",
              "      <td>89.639867</td>\n",
              "      <td>3978.633479</td>\n",
              "      <td>6858.428982</td>\n",
              "      <td>2906.591249</td>\n",
              "      <td>111.718085</td>\n",
              "      <td>101.589242</td>\n",
              "      <td>122.811123</td>\n",
              "      <td>99.057287</td>\n",
              "      <td>14264.0</td>\n",
              "      <td>4.051479</td>\n",
              "      <td>103.6704</td>\n",
              "      <td>108.5543</td>\n",
              "      <td>113.1064</td>\n",
              "      <td>115.0098</td>\n",
              "      <td>48.8</td>\n",
              "      <td>1606410.35</td>\n",
              "      <td>13599.0</td>\n",
              "      <td>15434.0</td>\n",
              "      <td>0.1</td>\n",
              "      <td>2.52</td>\n",
              "      <td>4.084</td>\n",
              "      <td>107051.0</td>\n",
              "      <td>-240.0</td>\n",
              "      <td>-2.0</td>\n",
              "      <td>117.133258</td>\n",
              "      <td>16524.0</td>\n",
              "      <td>18.562101</td>\n",
              "      <td>-38.403042</td>\n",
              "      <td>13815.0</td>\n",
              "      <td>-9.859063</td>\n",
              "      <td>-0.275367</td>\n",
              "      <td>-38.585813</td>\n",
              "      <td>-20.856725</td>\n",
              "      <td>-42.061705</td>\n",
              "      <td>11065.0</td>\n",
              "      <td>11.284321</td>\n",
              "      <td>-35.458469</td>\n",
              "      <td>-19.327365</td>\n",
              "      <td>-20.971794</td>\n",
              "      <td>-3.430210</td>\n",
              "      <td>-30.219767</td>\n",
              "      <td>1858.0</td>\n",
              "      <td>3453.0</td>\n",
              "      <td>17294.0</td>\n",
              "      <td>1956.0</td>\n",
              "      <td>-0.014003</td>\n",
              "      <td>-2.546753</td>\n",
              "      <td>-2.911224</td>\n",
              "      <td>-2.905609</td>\n",
              "      <td>2955.033944</td>\n",
              "      <td>-6.618508</td>\n",
              "      <td>3.447412</td>\n",
              "      <td>84.977229</td>\n",
              "      <td>11583.0</td>\n",
              "      <td>1031.0</td>\n",
              "      <td>579.0</td>\n",
              "      <td>154.0</td>\n",
              "      <td>759.0</td>\n",
              "      <td>182.0</td>\n",
              "      <td>931.0</td>\n",
              "      <td>-733.0</td>\n",
              "      <td>1158286.0</td>\n",
              "      <td>5.986521</td>\n",
              "      <td>528843.0</td>\n",
              "      <td>53497.0</td>\n",
              "      <td>1156787.83</td>\n",
              "      <td>486063.84</td>\n",
              "      <td>101642.94</td>\n",
              "      <td>84739.0</td>\n",
              "    </tr>\n",
              "    <tr>\n",
              "      <th>4</th>\n",
              "      <td>2008-05</td>\n",
              "      <td>499559.90</td>\n",
              "      <td>56194.246889</td>\n",
              "      <td>89.134818</td>\n",
              "      <td>3990.692209</td>\n",
              "      <td>6804.610846</td>\n",
              "      <td>2872.185063</td>\n",
              "      <td>117.525703</td>\n",
              "      <td>101.314181</td>\n",
              "      <td>123.968232</td>\n",
              "      <td>97.828232</td>\n",
              "      <td>12060.0</td>\n",
              "      <td>4.344198</td>\n",
              "      <td>103.0863</td>\n",
              "      <td>108.1126</td>\n",
              "      <td>112.0097</td>\n",
              "      <td>113.9287</td>\n",
              "      <td>48.8</td>\n",
              "      <td>1656702.80</td>\n",
              "      <td>13564.0</td>\n",
              "      <td>15379.0</td>\n",
              "      <td>-0.1</td>\n",
              "      <td>2.39</td>\n",
              "      <td>4.425</td>\n",
              "      <td>113941.0</td>\n",
              "      <td>-177.0</td>\n",
              "      <td>-6.0</td>\n",
              "      <td>117.579332</td>\n",
              "      <td>15452.0</td>\n",
              "      <td>-6.487533</td>\n",
              "      <td>-25.682955</td>\n",
              "      <td>14280.0</td>\n",
              "      <td>3.365907</td>\n",
              "      <td>3.671014</td>\n",
              "      <td>-36.439077</td>\n",
              "      <td>14.177437</td>\n",
              "      <td>-41.314554</td>\n",
              "      <td>14097.0</td>\n",
              "      <td>27.401717</td>\n",
              "      <td>-23.315019</td>\n",
              "      <td>5.938456</td>\n",
              "      <td>-11.584481</td>\n",
              "      <td>5.186474</td>\n",
              "      <td>-28.504667</td>\n",
              "      <td>2595.0</td>\n",
              "      <td>4587.0</td>\n",
              "      <td>17632.0</td>\n",
              "      <td>1637.0</td>\n",
              "      <td>-0.794587</td>\n",
              "      <td>-5.080068</td>\n",
              "      <td>3.273510</td>\n",
              "      <td>0.245110</td>\n",
              "      <td>3059.748460</td>\n",
              "      <td>3.543598</td>\n",
              "      <td>7.935335</td>\n",
              "      <td>84.692117</td>\n",
              "      <td>12336.0</td>\n",
              "      <td>1098.0</td>\n",
              "      <td>616.0</td>\n",
              "      <td>165.0</td>\n",
              "      <td>808.0</td>\n",
              "      <td>194.0</td>\n",
              "      <td>991.0</td>\n",
              "      <td>6890.0</td>\n",
              "      <td>1184144.0</td>\n",
              "      <td>7.940801</td>\n",
              "      <td>541259.0</td>\n",
              "      <td>53653.0</td>\n",
              "      <td>1185089.63</td>\n",
              "      <td>490618.98</td>\n",
              "      <td>105424.64</td>\n",
              "      <td>89548.0</td>\n",
              "    </tr>\n",
              "  </tbody>\n",
              "</table>\n",
              "</div>"
            ],
            "text/plain": [
              "  Year_Month  ...  Western Canadian Port Activity, Total TEUs_Exports_x\n",
              "0    2008-01  ...                                            70230.0   \n",
              "1    2008-02  ...                                            86567.0   \n",
              "2    2008-03  ...                                            80451.0   \n",
              "3    2008-04  ...                                            84739.0   \n",
              "4    2008-05  ...                                            89548.0   \n",
              "\n",
              "[5 rows x 72 columns]"
            ]
          },
          "metadata": {
            "tags": []
          },
          "execution_count": 3
        }
      ]
    },
    {
      "cell_type": "code",
      "metadata": {
        "colab": {
          "base_uri": "https://localhost:8080/",
          "height": 235
        },
        "id": "otpH8SX-9jet",
        "outputId": "4648d96b-4c11-419c-9f6a-22c86f2388ee"
      },
      "source": [
        "data = pd.DataFrame(books[[\"Year_Month\", \"Sum of Sales\"]]).set_index(\"Year_Month\")\n",
        "data.head()"
      ],
      "execution_count": 4,
      "outputs": [
        {
          "output_type": "execute_result",
          "data": {
            "text/html": [
              "<div>\n",
              "<style scoped>\n",
              "    .dataframe tbody tr th:only-of-type {\n",
              "        vertical-align: middle;\n",
              "    }\n",
              "\n",
              "    .dataframe tbody tr th {\n",
              "        vertical-align: top;\n",
              "    }\n",
              "\n",
              "    .dataframe thead th {\n",
              "        text-align: right;\n",
              "    }\n",
              "</style>\n",
              "<table border=\"1\" class=\"dataframe\">\n",
              "  <thead>\n",
              "    <tr style=\"text-align: right;\">\n",
              "      <th></th>\n",
              "      <th>Sum of Sales</th>\n",
              "    </tr>\n",
              "    <tr>\n",
              "      <th>Year_Month</th>\n",
              "      <th></th>\n",
              "    </tr>\n",
              "  </thead>\n",
              "  <tbody>\n",
              "    <tr>\n",
              "      <th>2008-01</th>\n",
              "      <td>282604.11</td>\n",
              "    </tr>\n",
              "    <tr>\n",
              "      <th>2008-02</th>\n",
              "      <td>262474.40</td>\n",
              "    </tr>\n",
              "    <tr>\n",
              "      <th>2008-03</th>\n",
              "      <td>326059.68</td>\n",
              "    </tr>\n",
              "    <tr>\n",
              "      <th>2008-04</th>\n",
              "      <td>215387.49</td>\n",
              "    </tr>\n",
              "    <tr>\n",
              "      <th>2008-05</th>\n",
              "      <td>499559.90</td>\n",
              "    </tr>\n",
              "  </tbody>\n",
              "</table>\n",
              "</div>"
            ],
            "text/plain": [
              "            Sum of Sales\n",
              "Year_Month              \n",
              "2008-01        282604.11\n",
              "2008-02        262474.40\n",
              "2008-03        326059.68\n",
              "2008-04        215387.49\n",
              "2008-05        499559.90"
            ]
          },
          "metadata": {
            "tags": []
          },
          "execution_count": 4
        }
      ]
    },
    {
      "cell_type": "code",
      "metadata": {
        "colab": {
          "base_uri": "https://localhost:8080/"
        },
        "id": "hwDvSjhcIdZJ",
        "outputId": "03d3a558-e7e2-4283-b98f-c76ef0bb4ff6"
      },
      "source": [
        "from statsmodels.tsa.stattools import adfuller\n",
        "\n",
        "def adfuller_Test(series):\n",
        "  result = adfuller(series)\n",
        "  print('ADF Statistic: %f' % result[0])\n",
        "  print('p-value: %f' % result[1])\n",
        "  print('Critical Values:')\n",
        "  for key, value in result[4].items():\n",
        "    print('\\t%s: %.3f' % (key, value))\n",
        "\n",
        "X = data[\"Sum of Sales\"]\n",
        "adfuller_Test(series = X)"
      ],
      "execution_count": 5,
      "outputs": [
        {
          "output_type": "stream",
          "text": [
            "/usr/local/lib/python3.7/dist-packages/statsmodels/tools/_testing.py:19: FutureWarning: pandas.util.testing is deprecated. Use the functions in the public API at pandas.testing instead.\n",
            "  import pandas.util.testing as tm\n"
          ],
          "name": "stderr"
        },
        {
          "output_type": "stream",
          "text": [
            "ADF Statistic: -2.548909\n",
            "p-value: 0.104023\n",
            "Critical Values:\n",
            "\t1%: -3.477\n",
            "\t5%: -2.882\n",
            "\t10%: -2.578\n"
          ],
          "name": "stdout"
        }
      ]
    },
    {
      "cell_type": "code",
      "metadata": {
        "colab": {
          "base_uri": "https://localhost:8080/"
        },
        "id": "WqGdc_K3Iree",
        "outputId": "a9a4a4e4-7b55-4efa-a797-1f186ea137d3"
      },
      "source": [
        "data['sales_diffed'] = data['Sum of Sales'].diff(1)\n",
        "adfuller_Test(series= data['sales_diffed'][1:])"
      ],
      "execution_count": 6,
      "outputs": [
        {
          "output_type": "stream",
          "text": [
            "ADF Statistic: -5.799806\n",
            "p-value: 0.000000\n",
            "Critical Values:\n",
            "\t1%: -3.477\n",
            "\t5%: -2.882\n",
            "\t10%: -2.578\n"
          ],
          "name": "stdout"
        }
      ]
    },
    {
      "cell_type": "code",
      "metadata": {
        "colab": {
          "base_uri": "https://localhost:8080/",
          "height": 54
        },
        "id": "Ij4T5n6P9nuJ",
        "outputId": "db715c93-cb5f-46ec-f61e-a47aa0499c6b"
      },
      "source": [
        "train = data[:int(0.7*(len(data)))]\n",
        "test = data[int(0.7*(len(data))):]\n",
        "\"\"\"data.plot(figsize=(12,3))\n",
        "data['z_data'] = (data['Sum of Sales'] - data[\"Sum of Sales\"].rolling(window=12).mean()) / data[\"Sum of Sales\"].rolling(window=12).std()\n",
        "data['zp_data'] = data['z_data'] - data['z_data'].shift(12)\"\"\""
      ],
      "execution_count": 7,
      "outputs": [
        {
          "output_type": "execute_result",
          "data": {
            "application/vnd.google.colaboratory.intrinsic+json": {
              "type": "string"
            },
            "text/plain": [
              "'data.plot(figsize=(12,3))\\ndata[\\'z_data\\'] = (data[\\'Sum of Sales\\'] - data[\"Sum of Sales\"].rolling(window=12).mean()) / data[\"Sum of Sales\"].rolling(window=12).std()\\ndata[\\'zp_data\\'] = data[\\'z_data\\'] - data[\\'z_data\\'].shift(12)'"
            ]
          },
          "metadata": {
            "tags": []
          },
          "execution_count": 7
        }
      ]
    },
    {
      "cell_type": "code",
      "metadata": {
        "colab": {
          "base_uri": "https://localhost:8080/",
          "height": 450
        },
        "id": "SzRArJfQI5k_",
        "outputId": "bcadc05d-2dd8-4ef2-ca1f-4da4e740621b"
      },
      "source": [
        "train"
      ],
      "execution_count": 8,
      "outputs": [
        {
          "output_type": "execute_result",
          "data": {
            "text/html": [
              "<div>\n",
              "<style scoped>\n",
              "    .dataframe tbody tr th:only-of-type {\n",
              "        vertical-align: middle;\n",
              "    }\n",
              "\n",
              "    .dataframe tbody tr th {\n",
              "        vertical-align: top;\n",
              "    }\n",
              "\n",
              "    .dataframe thead th {\n",
              "        text-align: right;\n",
              "    }\n",
              "</style>\n",
              "<table border=\"1\" class=\"dataframe\">\n",
              "  <thead>\n",
              "    <tr style=\"text-align: right;\">\n",
              "      <th></th>\n",
              "      <th>Sum of Sales</th>\n",
              "      <th>sales_diffed</th>\n",
              "    </tr>\n",
              "    <tr>\n",
              "      <th>Year_Month</th>\n",
              "      <th></th>\n",
              "      <th></th>\n",
              "    </tr>\n",
              "  </thead>\n",
              "  <tbody>\n",
              "    <tr>\n",
              "      <th>2008-01</th>\n",
              "      <td>282604.11</td>\n",
              "      <td>NaN</td>\n",
              "    </tr>\n",
              "    <tr>\n",
              "      <th>2008-02</th>\n",
              "      <td>262474.40</td>\n",
              "      <td>-20129.71</td>\n",
              "    </tr>\n",
              "    <tr>\n",
              "      <th>2008-03</th>\n",
              "      <td>326059.68</td>\n",
              "      <td>63585.28</td>\n",
              "    </tr>\n",
              "    <tr>\n",
              "      <th>2008-04</th>\n",
              "      <td>215387.49</td>\n",
              "      <td>-110672.19</td>\n",
              "    </tr>\n",
              "    <tr>\n",
              "      <th>2008-05</th>\n",
              "      <td>499559.90</td>\n",
              "      <td>284172.41</td>\n",
              "    </tr>\n",
              "    <tr>\n",
              "      <th>...</th>\n",
              "      <td>...</td>\n",
              "      <td>...</td>\n",
              "    </tr>\n",
              "    <tr>\n",
              "      <th>2016-08</th>\n",
              "      <td>142433.39</td>\n",
              "      <td>-157244.85</td>\n",
              "    </tr>\n",
              "    <tr>\n",
              "      <th>2016-09</th>\n",
              "      <td>208317.43</td>\n",
              "      <td>65884.04</td>\n",
              "    </tr>\n",
              "    <tr>\n",
              "      <th>2016-10</th>\n",
              "      <td>279851.87</td>\n",
              "      <td>71534.44</td>\n",
              "    </tr>\n",
              "    <tr>\n",
              "      <th>2016-11</th>\n",
              "      <td>556359.34</td>\n",
              "      <td>276507.47</td>\n",
              "    </tr>\n",
              "    <tr>\n",
              "      <th>2016-12</th>\n",
              "      <td>375803.00</td>\n",
              "      <td>-180556.34</td>\n",
              "    </tr>\n",
              "  </tbody>\n",
              "</table>\n",
              "<p>108 rows × 2 columns</p>\n",
              "</div>"
            ],
            "text/plain": [
              "            Sum of Sales  sales_diffed\n",
              "Year_Month                            \n",
              "2008-01        282604.11           NaN\n",
              "2008-02        262474.40     -20129.71\n",
              "2008-03        326059.68      63585.28\n",
              "2008-04        215387.49    -110672.19\n",
              "2008-05        499559.90     284172.41\n",
              "...                  ...           ...\n",
              "2016-08        142433.39    -157244.85\n",
              "2016-09        208317.43      65884.04\n",
              "2016-10        279851.87      71534.44\n",
              "2016-11        556359.34     276507.47\n",
              "2016-12        375803.00    -180556.34\n",
              "\n",
              "[108 rows x 2 columns]"
            ]
          },
          "metadata": {
            "tags": []
          },
          "execution_count": 8
        }
      ]
    },
    {
      "cell_type": "code",
      "metadata": {
        "colab": {
          "base_uri": "https://localhost:8080/",
          "height": 293
        },
        "id": "KpcTWBar_GOa",
        "outputId": "7b54b695-9460-4571-b0a8-3a3cc9c266a8"
      },
      "source": [
        "#fig, ax = plt.subplots(1,figsize=(12, 9))\n",
        "plt.plot(data.index, data[\"Sum of Sales\"], label='raw data')\n",
        "plt.plot(data[\"Sum of Sales\"].rolling(window=12).mean(), label=\"rolling mean\");\n",
        "plt.plot(data[\"Sum of Sales\"].rolling(window=12).std(), label=\"rolling std (x10)\");\n",
        "plt.legend()"
      ],
      "execution_count": 9,
      "outputs": [
        {
          "output_type": "execute_result",
          "data": {
            "text/plain": [
              "<matplotlib.legend.Legend at 0x7f15b8a2ba10>"
            ]
          },
          "metadata": {
            "tags": []
          },
          "execution_count": 9
        },
        {
          "output_type": "display_data",
          "data": {
            "image/png": "[encoded data removed]",
            "text/plain": [
              "<Figure size 432x288 with 1 Axes>"
            ]
          },
          "metadata": {
            "tags": [],
            "needs_background": "light"
          }
        }
      ]
    },
    {
      "cell_type": "code",
      "metadata": {
        "colab": {
          "base_uri": "https://localhost:8080/",
          "height": 857
        },
        "id": "89oEz9PO_mWr",
        "outputId": "f269c2a2-34fc-4300-85c5-471fcf81e2e9"
      },
      "source": [
        "from statsmodels.tsa.holtwinters import ExponentialSmoothing\n",
        "\n",
        "model = ExponentialSmoothing((train[\"Sum of Sales\"]), trend=\"add\", seasonal=\"mul\", seasonal_periods=12)\n",
        "model2 = ExponentialSmoothing(train[\"Sum of Sales\"], trend=\"add\", seasonal=\"mul\", seasonal_periods=12, damped=True)\n",
        "fit = model.fit()\n",
        "pred = fit.forecast(len(test))\n",
        "fit2 = model2.fit()\n",
        "pred2 = fit2.forecast(len(test))\n",
        "evaluate_model(predictions= pred.values, actual= test[\"Sum of Sales\"])\n",
        "evaluate_model(predictions= pred2.values, actual= test[\"Sum of Sales\"])\n",
        "plt.plot(pred.values,label = \"Predictions\")\n",
        "plt.plot(test[\"Sum of Sales\"])\n",
        "plt.legend()"
      ],
      "execution_count": 10,
      "outputs": [
        {
          "output_type": "stream",
          "text": [
            "/usr/local/lib/python3.7/dist-packages/statsmodels/tsa/base/tsa_model.py:165: ValueWarning: No frequency information was provided, so inferred frequency MS will be used.\n",
            "  % freq, ValueWarning)\n",
            "/usr/local/lib/python3.7/dist-packages/statsmodels/tsa/base/tsa_model.py:165: ValueWarning: No frequency information was provided, so inferred frequency MS will be used.\n",
            "  % freq, ValueWarning)\n"
          ],
          "name": "stderr"
        },
        {
          "output_type": "stream",
          "text": [
            "===================================================================\n",
            "\t\t\tModel Performance\n",
            "===================================================================\n",
            "\n",
            "Mean Absolute Percentage Error0.42852113932652064\n",
            "\n",
            "Mean Absolute Error 124228.72450061487\n",
            "\n",
            "BIAS: 10170.818370673027\n",
            "\n",
            "Mean Squared Error 4861940677.473337\n",
            "\n",
            "Root Mean Squared Error 69727.61775274799\n",
            "===================================================================\n",
            "===================================================================\n",
            "\t\t\tModel Performance\n",
            "===================================================================\n",
            "\n",
            "Mean Absolute Percentage Error0.4285223185375687\n",
            "\n",
            "Mean Absolute Error 124229.05125007287\n",
            "\n",
            "BIAS: 10170.544890222325\n",
            "\n",
            "Mean Squared Error 4861679218.10929\n",
            "\n",
            "Root Mean Squared Error 69725.74286523802\n",
            "===================================================================\n"
          ],
          "name": "stdout"
        },
        {
          "output_type": "execute_result",
          "data": {
            "text/plain": [
              "<matplotlib.legend.Legend at 0x7f15b7d60a10>"
            ]
          },
          "metadata": {
            "tags": []
          },
          "execution_count": 10
        },
        {
          "output_type": "display_data",
          "data": {
            "image/png": "[encoded data removed]",
            "text/plain": [
              "<Figure size 432x288 with 1 Axes>"
            ]
          },
          "metadata": {
            "tags": [],
            "needs_background": "light"
          }
        }
      ]
    },
    {
      "cell_type": "code",
      "metadata": {
        "id": "P9he4zz3NFJq"
      },
      "source": [
        ""
      ],
      "execution_count": 11,
      "outputs": []
    }
  ]
}