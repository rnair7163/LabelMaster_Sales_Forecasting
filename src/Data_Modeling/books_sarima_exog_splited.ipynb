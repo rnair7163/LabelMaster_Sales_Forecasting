{
 "cells": [
  {
   "cell_type": "code",
   "execution_count": 1,
   "metadata": {
    "colab": {
     "base_uri": "https://localhost:8080/"
    },
    "id": "SlH1v48Lmz04",
    "outputId": "097d8082-16cf-4181-8721-44fb223e83a6"
   },
   "outputs": [
    {
     "name": "stdout",
     "output_type": "stream",
     "text": [
      "Mounted at /content/drive\n"
     ]
    }
   ],
   "source": [
    "from google.colab import drive\n",
    "drive.mount('/content/drive')"
   ]
  },
  {
   "cell_type": "code",
<<<<<<< HEAD
   "execution_count": 1,
=======
   "execution_count": 4,
>>>>>>> a54b38a23fd89ae1039598e9c2c0c3eadb30b03a
   "metadata": {
    "id": "Wx5PgDOwnN1Q"
   },
   "outputs": [],
   "source": [
    "import warnings\n",
    "import itertools\n",
    "import numpy as np\n",
    "import matplotlib.pyplot as plt\n",
    "warnings.filterwarnings(\"ignore\")\n",
    "import pandas as pd\n",
    "import statsmodels.api as sm\n",
    "import matplotlib\n",
    "\n",
    "from statsmodels.tsa.arima_model import ARIMA\n",
    "from statsmodels.tsa.stattools import adfuller\n",
    "from sklearn.model_selection import train_test_split\n",
    "from sklearn.preprocessing import StandardScaler\n",
    "import statsmodels.api as sm\n",
    " \n",
    "from itertools import product\n",
    "from tqdm import tqdm_notebook\n",
    "\n",
    "import Model_Evaluation as me"
   ]
  },
  {
   "cell_type": "code",
<<<<<<< HEAD
   "execution_count": 5,
=======
   "execution_count": 2,
>>>>>>> a54b38a23fd89ae1039598e9c2c0c3eadb30b03a
   "metadata": {
    "colab": {
     "base_uri": "https://localhost:8080/",
     "height": 419
    },
    "id": "AHzywCtwncXI",
    "outputId": "9353accc-0587-4fb5-b0b3-b536057e0bac"
   },
   "outputs": [
    {
     "data": {
      "text/html": [
       "<div>\n",
       "<style scoped>\n",
       "    .dataframe tbody tr th:only-of-type {\n",
       "        vertical-align: middle;\n",
       "    }\n",
       "\n",
       "    .dataframe tbody tr th {\n",
       "        vertical-align: top;\n",
       "    }\n",
       "\n",
       "    .dataframe thead th {\n",
       "        text-align: right;\n",
       "    }\n",
       "</style>\n",
       "<table border=\"1\" class=\"dataframe\">\n",
       "  <thead>\n",
       "    <tr style=\"text-align: right;\">\n",
       "      <th></th>\n",
       "      <th>Year_Month</th>\n",
       "      <th>Sum of Sales</th>\n",
       "    </tr>\n",
       "  </thead>\n",
       "  <tbody>\n",
       "    <tr>\n",
       "      <th>0</th>\n",
       "      <td>2008-01</td>\n",
       "      <td>2.826041</td>\n",
       "    </tr>\n",
       "    <tr>\n",
       "      <th>1</th>\n",
       "      <td>2008-02</td>\n",
       "      <td>2.624744</td>\n",
       "    </tr>\n",
       "    <tr>\n",
       "      <th>2</th>\n",
       "      <td>2008-03</td>\n",
       "      <td>3.260597</td>\n",
       "    </tr>\n",
       "    <tr>\n",
       "      <th>3</th>\n",
       "      <td>2008-04</td>\n",
       "      <td>2.153875</td>\n",
       "    </tr>\n",
       "    <tr>\n",
       "      <th>4</th>\n",
       "      <td>2008-05</td>\n",
       "      <td>4.995599</td>\n",
       "    </tr>\n",
       "    <tr>\n",
       "      <th>...</th>\n",
       "      <td>...</td>\n",
       "      <td>...</td>\n",
       "    </tr>\n",
       "    <tr>\n",
       "      <th>150</th>\n",
       "      <td>2020-07</td>\n",
       "      <td>1.503481</td>\n",
       "    </tr>\n",
       "    <tr>\n",
       "      <th>151</th>\n",
       "      <td>2020-08</td>\n",
       "      <td>1.560669</td>\n",
       "    </tr>\n",
       "    <tr>\n",
       "      <th>152</th>\n",
       "      <td>2020-09</td>\n",
       "      <td>4.687110</td>\n",
       "    </tr>\n",
       "    <tr>\n",
       "      <th>153</th>\n",
       "      <td>2020-10</td>\n",
       "      <td>11.184468</td>\n",
       "    </tr>\n",
       "    <tr>\n",
       "      <th>154</th>\n",
       "      <td>2020-11</td>\n",
       "      <td>4.291668</td>\n",
       "    </tr>\n",
       "  </tbody>\n",
       "</table>\n",
       "<p>155 rows × 2 columns</p>\n",
       "</div>"
      ],
      "text/plain": [
       "    Year_Month  Sum of Sales\n",
       "0      2008-01      2.826041\n",
       "1      2008-02      2.624744\n",
       "2      2008-03      3.260597\n",
       "3      2008-04      2.153875\n",
       "4      2008-05      4.995599\n",
       "..         ...           ...\n",
       "150    2020-07      1.503481\n",
       "151    2020-08      1.560669\n",
       "152    2020-09      4.687110\n",
       "153    2020-10     11.184468\n",
       "154    2020-11      4.291668\n",
       "\n",
       "[155 rows x 2 columns]"
      ]
     },
<<<<<<< HEAD
     "execution_count": 5,
=======
     "execution_count": 2,
>>>>>>> a54b38a23fd89ae1039598e9c2c0c3eadb30b03a
     "metadata": {},
     "output_type": "execute_result"
    }
   ],
   "source": [
    "books = pd.read_csv('/Users/rahulnair/Desktop/Labelmaster_/Sales_Data/Books_ext_fs.csv')\n",
    "#books = pd.read_csv('/content/drive/MyDrive/Colab Notebooks/LabelMaster/LabelMaster Data/Books_ext.csv')\n",
<<<<<<< HEAD
    "#books = pd.read_csv('C:/Users/11602/OneDrive/Practicum/LabelMaster_Sales_Forecasting/data/Books_ext_fs.csv')\n",
    "books = pd.read_csv('C:/Users/Sword Guo/OneDrive/Practicum/LabelMaster_Sales_Forecasting/data/Books_ext_fs.csv')\n",
=======
    "# books = pd.read_csv('C:/Users/11602/OneDrive/Practicum/LabelMaster_Sales_Forecasting/data/Books_ext_fs.csv')\n",
>>>>>>> a54b38a23fd89ae1039598e9c2c0c3eadb30b03a
    "sales = books[['Year_Month','Sum of Sales']]\n",
    "sales['Sum of Sales'] = sales['Sum of Sales']/100000\n",
    "sales"
   ]
  },
  {
   "cell_type": "code",
<<<<<<< HEAD
   "execution_count": 6,
=======
   "execution_count": 3,
>>>>>>> a54b38a23fd89ae1039598e9c2c0c3eadb30b03a
   "metadata": {
    "colab": {
     "base_uri": "https://localhost:8080/",
     "height": 524
    },
    "id": "N23dKSDjclVW",
    "outputId": "bd11609e-0670-4832-85d4-1ac576c4dc43"
   },
   "outputs": [],
   "source": [
    "books = books.dropna(axis = 1)\n",
    "exog = books.iloc[:,2:]\n",
    "exog = exog[['Reefer Trailer Loadings (000s, SA)_freight_m_trucking',\n",
    "       'Chemicals & Allied Products (000s, SA)_freight_m_trucking',\n",
    "       'Total LTL (w/ FSC)_rates_m_trucking',\n",
    "       'Contract TL Tank Rates (w/o FSC)_rates_m_trucking',\n",
    "       'OEM Net Orders (U.S. / CAN, units)_indicators_m_trucking',\n",
    "       'New Truck Lead Time (N.A. Backlog/Build Ratio, months)_indicators_m_trucking',\n",
    "       'G325_indicators_m_trucking', 'G332_indicators_m_trucking',\n",
    "       'ISM_indicators_m_trucking', 'MANEMP_indicators_m_trucking',\n",
    "       'USTRADE_indicators_m_trucking', 'LEI_indicators_m_trucking',\n",
    "       'D/STOCK_indicators_m_trucking',\n",
    "       \"Change in Payroll Employment (000's)_driver_indicators_m_trucking\",\n",
    "       'LABORINDEX_driver_indicators_m_trucking',\n",
    "       \"Total Class 8, North America_Factory Shipments (Ward's)_indicators_m_trucking_trailer\",\n",
    "       \"Total Class 8, North America_Retail Sales (Ward's)_M/M % Change_indicators_m_trucking_trailer\",\n",
    "       'Total Trailers, U.S._Production_M/M % Change_indicators_m_trucking_trailer',\n",
    "       \"Total Classes 4-7, North America_Factory Shipments (Ward's)_Y/Y % Change_indicators_m_trucking_trailer\",\n",
    "       \"Total Classes 4-7, North America_Retail Sales (Ward's)_M/M % Change_indicators_m_trucking_trailer\",\n",
    "       \"Total Classes 4-7, North America_Inventories (Ward's)_M/M % Change_indicators_m_trucking_trailer\",\n",
    "       \"Total Classes 4-7, North America_Inventories (Ward's)_Y/Y % Change_indicators_m_trucking_trailer\",\n",
    "       \"Class 4, North America_Factory Shipments (Ward's)_indicators_m_trucking_trailer\",\n",
    "       'FTR Truck Loadings_M/M % Change_freight_m_trucking_trailer',\n",
    "       'FTR Truck Loadings_Y/Y % Change_freight_m_trucking_trailer',\n",
    "       'FTR Rail Intermodal Loadings_Y/Y % Change_freight_m_trucking_trailer',\n",
    "       'FTR Rail Carloadings (carload + intermodal) (000s, SA)_freight_m_trucking_trailer',\n",
    "       'FTR Rail Carloadings_M/M % Change_freight_m_trucking_trailer',\n",
    "       'BUILD FOR_Liquid_Tank', 'BUILD FOR_Dry_Tank',\n",
    "       'Change in Distillate Fuel Inventories_x',\n",
    "       'Intermodal Revenue Movements (IANA-ETSO)_Total_x',\n",
    "       'FTR Intermodal Competitive Index_Intermodal Competitive Index (0=Neutral)_x',\n",
    "       'Canada Origin Intermodal Volumes_Domestic_x',\n",
    "       'N.A. Port Activity, Total TEUs_Exports_x']]"
   ]
  },
  {
   "cell_type": "code",
   "execution_count": 8,
   "metadata": {},
   "outputs": [],
   "source": [
    "X_train, X_test, y_train, y_test = train_test_split(exog, sales, test_size=0.075, random_state=60616, shuffle=False)"
   ]
  },
  {
   "cell_type": "code",
   "execution_count": 10,
   "metadata": {},
   "outputs": [
    {
     "data": {
      "text/html": [
       "<div>\n",
       "<style scoped>\n",
       "    .dataframe tbody tr th:only-of-type {\n",
       "        vertical-align: middle;\n",
       "    }\n",
       "\n",
       "    .dataframe tbody tr th {\n",
       "        vertical-align: top;\n",
       "    }\n",
       "\n",
       "    .dataframe thead th {\n",
       "        text-align: right;\n",
       "    }\n",
       "</style>\n",
       "<table border=\"1\" class=\"dataframe\">\n",
       "  <thead>\n",
       "    <tr style=\"text-align: right;\">\n",
       "      <th></th>\n",
       "      <th>Reefer Trailer Loadings (000s, SA)_freight_m_trucking</th>\n",
       "      <th>Chemicals &amp; Allied Products (000s, SA)_freight_m_trucking</th>\n",
       "      <th>Total LTL (w/ FSC)_rates_m_trucking</th>\n",
       "      <th>Contract TL Tank Rates (w/o FSC)_rates_m_trucking</th>\n",
       "      <th>OEM Net Orders (U.S. / CAN, units)_indicators_m_trucking</th>\n",
       "      <th>New Truck Lead Time (N.A. Backlog/Build Ratio, months)_indicators_m_trucking</th>\n",
       "      <th>G325_indicators_m_trucking</th>\n",
       "      <th>G332_indicators_m_trucking</th>\n",
       "      <th>ISM_indicators_m_trucking</th>\n",
       "      <th>MANEMP_indicators_m_trucking</th>\n",
       "      <th>...</th>\n",
       "      <th>FTR Rail Intermodal Loadings_Y/Y % Change_freight_m_trucking_trailer</th>\n",
       "      <th>FTR Rail Carloadings (carload + intermodal) (000s, SA)_freight_m_trucking_trailer</th>\n",
       "      <th>FTR Rail Carloadings_M/M % Change_freight_m_trucking_trailer</th>\n",
       "      <th>BUILD FOR_Liquid_Tank</th>\n",
       "      <th>BUILD FOR_Dry_Tank</th>\n",
       "      <th>Change in Distillate Fuel Inventories_x</th>\n",
       "      <th>Intermodal Revenue Movements (IANA-ETSO)_Total_x</th>\n",
       "      <th>FTR Intermodal Competitive Index_Intermodal Competitive Index (0=Neutral)_x</th>\n",
       "      <th>Canada Origin Intermodal Volumes_Domestic_x</th>\n",
       "      <th>N.A. Port Activity, Total TEUs_Exports_x</th>\n",
       "    </tr>\n",
       "  </thead>\n",
       "  <tbody>\n",
       "    <tr>\n",
       "      <th>143</th>\n",
       "      <td>4320.742283</td>\n",
       "      <td>2660.605948</td>\n",
       "      <td>118.561126</td>\n",
       "      <td>117.479829</td>\n",
       "      <td>18761.0</td>\n",
       "      <td>7.257458</td>\n",
       "      <td>100.0057</td>\n",
       "      <td>102.7286</td>\n",
       "      <td>47.8</td>\n",
       "      <td>12866.0</td>\n",
       "      <td>...</td>\n",
       "      <td>-5.671898</td>\n",
       "      <td>2758.900663</td>\n",
       "      <td>-3.675751</td>\n",
       "      <td>638.0</td>\n",
       "      <td>175.0</td>\n",
       "      <td>13675.0</td>\n",
       "      <td>1409128.0</td>\n",
       "      <td>-9.539159</td>\n",
       "      <td>47185.0</td>\n",
       "      <td>1.150045e+06</td>\n",
       "    </tr>\n",
       "    <tr>\n",
       "      <th>144</th>\n",
       "      <td>4305.193714</td>\n",
       "      <td>2668.768337</td>\n",
       "      <td>118.099175</td>\n",
       "      <td>116.595732</td>\n",
       "      <td>15776.0</td>\n",
       "      <td>5.162854</td>\n",
       "      <td>100.1685</td>\n",
       "      <td>102.8674</td>\n",
       "      <td>50.9</td>\n",
       "      <td>12844.0</td>\n",
       "      <td>...</td>\n",
       "      <td>-7.424625</td>\n",
       "      <td>2678.187780</td>\n",
       "      <td>-2.925545</td>\n",
       "      <td>721.0</td>\n",
       "      <td>220.0</td>\n",
       "      <td>3024.0</td>\n",
       "      <td>1506793.0</td>\n",
       "      <td>-7.134955</td>\n",
       "      <td>51825.0</td>\n",
       "      <td>1.177450e+06</td>\n",
       "    </tr>\n",
       "    <tr>\n",
       "      <th>145</th>\n",
       "      <td>4340.527785</td>\n",
       "      <td>2685.691773</td>\n",
       "      <td>116.659531</td>\n",
       "      <td>114.818879</td>\n",
       "      <td>12676.0</td>\n",
       "      <td>5.524817</td>\n",
       "      <td>99.4692</td>\n",
       "      <td>103.9737</td>\n",
       "      <td>50.1</td>\n",
       "      <td>12852.0</td>\n",
       "      <td>...</td>\n",
       "      <td>-6.679464</td>\n",
       "      <td>2772.353435</td>\n",
       "      <td>3.516021</td>\n",
       "      <td>742.0</td>\n",
       "      <td>171.0</td>\n",
       "      <td>-10270.0</td>\n",
       "      <td>1330803.0</td>\n",
       "      <td>-6.699745</td>\n",
       "      <td>45069.0</td>\n",
       "      <td>1.199217e+06</td>\n",
       "    </tr>\n",
       "    <tr>\n",
       "      <th>146</th>\n",
       "      <td>4312.395902</td>\n",
       "      <td>2610.327798</td>\n",
       "      <td>115.166279</td>\n",
       "      <td>114.818879</td>\n",
       "      <td>6854.0</td>\n",
       "      <td>5.697566</td>\n",
       "      <td>99.7934</td>\n",
       "      <td>99.8502</td>\n",
       "      <td>49.1</td>\n",
       "      <td>12806.0</td>\n",
       "      <td>...</td>\n",
       "      <td>-7.278895</td>\n",
       "      <td>2893.702658</td>\n",
       "      <td>4.377119</td>\n",
       "      <td>704.0</td>\n",
       "      <td>100.0</td>\n",
       "      <td>-6027.0</td>\n",
       "      <td>1340393.0</td>\n",
       "      <td>-12.146114</td>\n",
       "      <td>54088.0</td>\n",
       "      <td>1.290557e+06</td>\n",
       "    </tr>\n",
       "    <tr>\n",
       "      <th>147</th>\n",
       "      <td>4055.401638</td>\n",
       "      <td>2559.457767</td>\n",
       "      <td>112.016570</td>\n",
       "      <td>116.958939</td>\n",
       "      <td>3688.0</td>\n",
       "      <td>38.671980</td>\n",
       "      <td>93.7259</td>\n",
       "      <td>88.5229</td>\n",
       "      <td>41.5</td>\n",
       "      <td>11489.0</td>\n",
       "      <td>...</td>\n",
       "      <td>-4.819242</td>\n",
       "      <td>2806.971135</td>\n",
       "      <td>-2.997251</td>\n",
       "      <td>294.0</td>\n",
       "      <td>49.0</td>\n",
       "      <td>23996.0</td>\n",
       "      <td>1280309.0</td>\n",
       "      <td>-20.720463</td>\n",
       "      <td>48307.0</td>\n",
       "      <td>1.092656e+06</td>\n",
       "    </tr>\n",
       "    <tr>\n",
       "      <th>148</th>\n",
       "      <td>4104.584537</td>\n",
       "      <td>2640.973090</td>\n",
       "      <td>111.178172</td>\n",
       "      <td>115.191063</td>\n",
       "      <td>6241.0</td>\n",
       "      <td>13.503583</td>\n",
       "      <td>93.2928</td>\n",
       "      <td>90.6706</td>\n",
       "      <td>43.1</td>\n",
       "      <td>11729.0</td>\n",
       "      <td>...</td>\n",
       "      <td>-3.635114</td>\n",
       "      <td>2821.248264</td>\n",
       "      <td>0.508631</td>\n",
       "      <td>586.0</td>\n",
       "      <td>107.0</td>\n",
       "      <td>25190.0</td>\n",
       "      <td>1320963.0</td>\n",
       "      <td>-17.446938</td>\n",
       "      <td>49546.0</td>\n",
       "      <td>1.093382e+06</td>\n",
       "    </tr>\n",
       "    <tr>\n",
       "      <th>149</th>\n",
       "      <td>4286.066557</td>\n",
       "      <td>2604.951258</td>\n",
       "      <td>113.999876</td>\n",
       "      <td>114.353649</td>\n",
       "      <td>15104.0</td>\n",
       "      <td>4.749057</td>\n",
       "      <td>94.0282</td>\n",
       "      <td>92.5223</td>\n",
       "      <td>52.6</td>\n",
       "      <td>12062.0</td>\n",
       "      <td>...</td>\n",
       "      <td>-11.045638</td>\n",
       "      <td>2571.060768</td>\n",
       "      <td>-8.867972</td>\n",
       "      <td>561.0</td>\n",
       "      <td>173.0</td>\n",
       "      <td>-472.0</td>\n",
       "      <td>1415627.0</td>\n",
       "      <td>-5.963543</td>\n",
       "      <td>53310.0</td>\n",
       "      <td>1.072106e+06</td>\n",
       "    </tr>\n",
       "    <tr>\n",
       "      <th>150</th>\n",
       "      <td>4379.187334</td>\n",
       "      <td>2639.040651</td>\n",
       "      <td>113.578198</td>\n",
       "      <td>115.191063</td>\n",
       "      <td>19213.0</td>\n",
       "      <td>4.853593</td>\n",
       "      <td>95.6420</td>\n",
       "      <td>92.2754</td>\n",
       "      <td>54.2</td>\n",
       "      <td>12103.0</td>\n",
       "      <td>...</td>\n",
       "      <td>-20.941453</td>\n",
       "      <td>2202.067829</td>\n",
       "      <td>-14.351778</td>\n",
       "      <td>604.0</td>\n",
       "      <td>134.0</td>\n",
       "      <td>2134.0</td>\n",
       "      <td>1526490.0</td>\n",
       "      <td>-0.192121</td>\n",
       "      <td>57503.0</td>\n",
       "      <td>1.095134e+06</td>\n",
       "    </tr>\n",
       "    <tr>\n",
       "      <th>151</th>\n",
       "      <td>4404.415547</td>\n",
       "      <td>2676.666422</td>\n",
       "      <td>115.812566</td>\n",
       "      <td>114.911925</td>\n",
       "      <td>18302.0</td>\n",
       "      <td>4.735406</td>\n",
       "      <td>96.8567</td>\n",
       "      <td>93.6211</td>\n",
       "      <td>56.0</td>\n",
       "      <td>12133.0</td>\n",
       "      <td>...</td>\n",
       "      <td>-16.333248</td>\n",
       "      <td>2185.585205</td>\n",
       "      <td>-0.748507</td>\n",
       "      <td>628.0</td>\n",
       "      <td>149.0</td>\n",
       "      <td>1353.0</td>\n",
       "      <td>1575928.0</td>\n",
       "      <td>0.625716</td>\n",
       "      <td>56478.0</td>\n",
       "      <td>1.108304e+06</td>\n",
       "    </tr>\n",
       "    <tr>\n",
       "      <th>152</th>\n",
       "      <td>4381.188114</td>\n",
       "      <td>2600.808117</td>\n",
       "      <td>117.464895</td>\n",
       "      <td>115.470202</td>\n",
       "      <td>28766.0</td>\n",
       "      <td>4.404143</td>\n",
       "      <td>96.4458</td>\n",
       "      <td>95.8283</td>\n",
       "      <td>55.4</td>\n",
       "      <td>12193.0</td>\n",
       "      <td>...</td>\n",
       "      <td>-6.677512</td>\n",
       "      <td>2400.291965</td>\n",
       "      <td>9.823765</td>\n",
       "      <td>631.0</td>\n",
       "      <td>130.0</td>\n",
       "      <td>-7196.0</td>\n",
       "      <td>1617044.0</td>\n",
       "      <td>5.475578</td>\n",
       "      <td>59269.0</td>\n",
       "      <td>1.099329e+06</td>\n",
       "    </tr>\n",
       "    <tr>\n",
       "      <th>153</th>\n",
       "      <td>4436.920215</td>\n",
       "      <td>2593.200335</td>\n",
       "      <td>117.793788</td>\n",
       "      <td>115.098017</td>\n",
       "      <td>36912.0</td>\n",
       "      <td>4.929913</td>\n",
       "      <td>97.7867</td>\n",
       "      <td>95.6011</td>\n",
       "      <td>59.3</td>\n",
       "      <td>12226.0</td>\n",
       "      <td>...</td>\n",
       "      <td>-2.097751</td>\n",
       "      <td>2619.082565</td>\n",
       "      <td>9.115166</td>\n",
       "      <td>640.0</td>\n",
       "      <td>144.0</td>\n",
       "      <td>-10130.4</td>\n",
       "      <td>1705714.0</td>\n",
       "      <td>9.817290</td>\n",
       "      <td>60708.0</td>\n",
       "      <td>1.186353e+06</td>\n",
       "    </tr>\n",
       "    <tr>\n",
       "      <th>154</th>\n",
       "      <td>4457.161049</td>\n",
       "      <td>2589.965347</td>\n",
       "      <td>119.272026</td>\n",
       "      <td>116.095115</td>\n",
       "      <td>49818.0</td>\n",
       "      <td>6.896195</td>\n",
       "      <td>97.3144</td>\n",
       "      <td>96.0137</td>\n",
       "      <td>57.5</td>\n",
       "      <td>12253.0</td>\n",
       "      <td>...</td>\n",
       "      <td>0.158481</td>\n",
       "      <td>2647.393281</td>\n",
       "      <td>1.080940</td>\n",
       "      <td>562.0</td>\n",
       "      <td>149.0</td>\n",
       "      <td>-16121.6</td>\n",
       "      <td>1565892.0</td>\n",
       "      <td>8.110988</td>\n",
       "      <td>57649.0</td>\n",
       "      <td>1.135686e+06</td>\n",
       "    </tr>\n",
       "  </tbody>\n",
       "</table>\n",
       "<p>12 rows × 35 columns</p>\n",
       "</div>"
      ],
      "text/plain": [
       "     Reefer Trailer Loadings (000s, SA)_freight_m_trucking  \\\n",
       "143                                        4320.742283       \n",
       "144                                        4305.193714       \n",
       "145                                        4340.527785       \n",
       "146                                        4312.395902       \n",
       "147                                        4055.401638       \n",
       "148                                        4104.584537       \n",
       "149                                        4286.066557       \n",
       "150                                        4379.187334       \n",
       "151                                        4404.415547       \n",
       "152                                        4381.188114       \n",
       "153                                        4436.920215       \n",
       "154                                        4457.161049       \n",
       "\n",
       "     Chemicals & Allied Products (000s, SA)_freight_m_trucking  \\\n",
       "143                                        2660.605948           \n",
       "144                                        2668.768337           \n",
       "145                                        2685.691773           \n",
       "146                                        2610.327798           \n",
       "147                                        2559.457767           \n",
       "148                                        2640.973090           \n",
       "149                                        2604.951258           \n",
       "150                                        2639.040651           \n",
       "151                                        2676.666422           \n",
       "152                                        2600.808117           \n",
       "153                                        2593.200335           \n",
       "154                                        2589.965347           \n",
       "\n",
       "     Total LTL (w/ FSC)_rates_m_trucking  \\\n",
       "143                           118.561126   \n",
       "144                           118.099175   \n",
       "145                           116.659531   \n",
       "146                           115.166279   \n",
       "147                           112.016570   \n",
       "148                           111.178172   \n",
       "149                           113.999876   \n",
       "150                           113.578198   \n",
       "151                           115.812566   \n",
       "152                           117.464895   \n",
       "153                           117.793788   \n",
       "154                           119.272026   \n",
       "\n",
       "     Contract TL Tank Rates (w/o FSC)_rates_m_trucking  \\\n",
       "143                                         117.479829   \n",
       "144                                         116.595732   \n",
       "145                                         114.818879   \n",
       "146                                         114.818879   \n",
       "147                                         116.958939   \n",
       "148                                         115.191063   \n",
       "149                                         114.353649   \n",
       "150                                         115.191063   \n",
       "151                                         114.911925   \n",
       "152                                         115.470202   \n",
       "153                                         115.098017   \n",
       "154                                         116.095115   \n",
       "\n",
       "     OEM Net Orders (U.S. / CAN, units)_indicators_m_trucking  \\\n",
       "143                                            18761.0          \n",
       "144                                            15776.0          \n",
       "145                                            12676.0          \n",
       "146                                             6854.0          \n",
       "147                                             3688.0          \n",
       "148                                             6241.0          \n",
       "149                                            15104.0          \n",
       "150                                            19213.0          \n",
       "151                                            18302.0          \n",
       "152                                            28766.0          \n",
       "153                                            36912.0          \n",
       "154                                            49818.0          \n",
       "\n",
       "     New Truck Lead Time (N.A. Backlog/Build Ratio, months)_indicators_m_trucking  \\\n",
       "143                                           7.257458                              \n",
       "144                                           5.162854                              \n",
       "145                                           5.524817                              \n",
       "146                                           5.697566                              \n",
       "147                                          38.671980                              \n",
       "148                                          13.503583                              \n",
       "149                                           4.749057                              \n",
       "150                                           4.853593                              \n",
       "151                                           4.735406                              \n",
       "152                                           4.404143                              \n",
       "153                                           4.929913                              \n",
       "154                                           6.896195                              \n",
       "\n",
       "     G325_indicators_m_trucking  G332_indicators_m_trucking  \\\n",
       "143                    100.0057                    102.7286   \n",
       "144                    100.1685                    102.8674   \n",
       "145                     99.4692                    103.9737   \n",
       "146                     99.7934                     99.8502   \n",
       "147                     93.7259                     88.5229   \n",
       "148                     93.2928                     90.6706   \n",
       "149                     94.0282                     92.5223   \n",
       "150                     95.6420                     92.2754   \n",
       "151                     96.8567                     93.6211   \n",
       "152                     96.4458                     95.8283   \n",
       "153                     97.7867                     95.6011   \n",
       "154                     97.3144                     96.0137   \n",
       "\n",
       "     ISM_indicators_m_trucking  MANEMP_indicators_m_trucking  ...  \\\n",
       "143                       47.8                       12866.0  ...   \n",
       "144                       50.9                       12844.0  ...   \n",
       "145                       50.1                       12852.0  ...   \n",
       "146                       49.1                       12806.0  ...   \n",
       "147                       41.5                       11489.0  ...   \n",
       "148                       43.1                       11729.0  ...   \n",
       "149                       52.6                       12062.0  ...   \n",
       "150                       54.2                       12103.0  ...   \n",
       "151                       56.0                       12133.0  ...   \n",
       "152                       55.4                       12193.0  ...   \n",
       "153                       59.3                       12226.0  ...   \n",
       "154                       57.5                       12253.0  ...   \n",
       "\n",
       "     FTR Rail Intermodal Loadings_Y/Y % Change_freight_m_trucking_trailer  \\\n",
       "143                                          -5.671898                      \n",
       "144                                          -7.424625                      \n",
       "145                                          -6.679464                      \n",
       "146                                          -7.278895                      \n",
       "147                                          -4.819242                      \n",
       "148                                          -3.635114                      \n",
       "149                                         -11.045638                      \n",
       "150                                         -20.941453                      \n",
       "151                                         -16.333248                      \n",
       "152                                          -6.677512                      \n",
       "153                                          -2.097751                      \n",
       "154                                           0.158481                      \n",
       "\n",
       "     FTR Rail Carloadings (carload + intermodal) (000s, SA)_freight_m_trucking_trailer  \\\n",
       "143                                        2758.900663                                   \n",
       "144                                        2678.187780                                   \n",
       "145                                        2772.353435                                   \n",
       "146                                        2893.702658                                   \n",
       "147                                        2806.971135                                   \n",
       "148                                        2821.248264                                   \n",
       "149                                        2571.060768                                   \n",
       "150                                        2202.067829                                   \n",
       "151                                        2185.585205                                   \n",
       "152                                        2400.291965                                   \n",
       "153                                        2619.082565                                   \n",
       "154                                        2647.393281                                   \n",
       "\n",
       "     FTR Rail Carloadings_M/M % Change_freight_m_trucking_trailer  \\\n",
       "143                                          -3.675751              \n",
       "144                                          -2.925545              \n",
       "145                                           3.516021              \n",
       "146                                           4.377119              \n",
       "147                                          -2.997251              \n",
       "148                                           0.508631              \n",
       "149                                          -8.867972              \n",
       "150                                         -14.351778              \n",
       "151                                          -0.748507              \n",
       "152                                           9.823765              \n",
       "153                                           9.115166              \n",
       "154                                           1.080940              \n",
       "\n",
       "     BUILD FOR_Liquid_Tank  BUILD FOR_Dry_Tank  \\\n",
       "143                  638.0               175.0   \n",
       "144                  721.0               220.0   \n",
       "145                  742.0               171.0   \n",
       "146                  704.0               100.0   \n",
       "147                  294.0                49.0   \n",
       "148                  586.0               107.0   \n",
       "149                  561.0               173.0   \n",
       "150                  604.0               134.0   \n",
       "151                  628.0               149.0   \n",
       "152                  631.0               130.0   \n",
       "153                  640.0               144.0   \n",
       "154                  562.0               149.0   \n",
       "\n",
       "     Change in Distillate Fuel Inventories_x  \\\n",
       "143                                  13675.0   \n",
       "144                                   3024.0   \n",
       "145                                 -10270.0   \n",
       "146                                  -6027.0   \n",
       "147                                  23996.0   \n",
       "148                                  25190.0   \n",
       "149                                   -472.0   \n",
       "150                                   2134.0   \n",
       "151                                   1353.0   \n",
       "152                                  -7196.0   \n",
       "153                                 -10130.4   \n",
       "154                                 -16121.6   \n",
       "\n",
       "     Intermodal Revenue Movements (IANA-ETSO)_Total_x  \\\n",
       "143                                         1409128.0   \n",
       "144                                         1506793.0   \n",
       "145                                         1330803.0   \n",
       "146                                         1340393.0   \n",
       "147                                         1280309.0   \n",
       "148                                         1320963.0   \n",
       "149                                         1415627.0   \n",
       "150                                         1526490.0   \n",
       "151                                         1575928.0   \n",
       "152                                         1617044.0   \n",
       "153                                         1705714.0   \n",
       "154                                         1565892.0   \n",
       "\n",
       "     FTR Intermodal Competitive Index_Intermodal Competitive Index (0=Neutral)_x  \\\n",
       "143                                          -9.539159                             \n",
       "144                                          -7.134955                             \n",
       "145                                          -6.699745                             \n",
       "146                                         -12.146114                             \n",
       "147                                         -20.720463                             \n",
       "148                                         -17.446938                             \n",
       "149                                          -5.963543                             \n",
       "150                                          -0.192121                             \n",
       "151                                           0.625716                             \n",
       "152                                           5.475578                             \n",
       "153                                           9.817290                             \n",
       "154                                           8.110988                             \n",
       "\n",
       "     Canada Origin Intermodal Volumes_Domestic_x  \\\n",
       "143                                      47185.0   \n",
       "144                                      51825.0   \n",
       "145                                      45069.0   \n",
       "146                                      54088.0   \n",
       "147                                      48307.0   \n",
       "148                                      49546.0   \n",
       "149                                      53310.0   \n",
       "150                                      57503.0   \n",
       "151                                      56478.0   \n",
       "152                                      59269.0   \n",
       "153                                      60708.0   \n",
       "154                                      57649.0   \n",
       "\n",
<<<<<<< HEAD
       "     N.A. Port Activity, Total TEUs_Exports_x  \n",
       "143                              1.150045e+06  \n",
       "144                              1.177450e+06  \n",
       "145                              1.199217e+06  \n",
       "146                              1.290557e+06  \n",
       "147                              1.092656e+06  \n",
       "148                              1.093382e+06  \n",
       "149                              1.072106e+06  \n",
       "150                              1.095134e+06  \n",
       "151                              1.108304e+06  \n",
       "152                              1.099329e+06  \n",
       "153                              1.186353e+06  \n",
       "154                              1.135686e+06  \n",
       "\n",
       "[12 rows x 35 columns]"
      ]
     },
     "execution_count": 10,
=======
       "     N.A. Port Activity, Total TEUs_Exports_x  \\\n",
       "0                                1.035742e+06   \n",
       "1                                1.138045e+06   \n",
       "2                                1.167742e+06   \n",
       "3                                1.156788e+06   \n",
       "4                                1.185090e+06   \n",
       "..                                        ...   \n",
       "150                              1.095134e+06   \n",
       "151                              1.108304e+06   \n",
       "152                              1.099329e+06   \n",
       "153                              1.186353e+06   \n",
       "154                              1.135686e+06   \n",
       "\n",
       "     West Coast Port Activity, Total TEUs_Exports_x  \\\n",
       "0                                     428531.270000   \n",
       "1                                     478707.330000   \n",
       "2                                     500866.450000   \n",
       "3                                     486063.840000   \n",
       "4                                     490618.980000   \n",
       "..                                              ...   \n",
       "150                                   393775.832112   \n",
       "151                                   389408.103791   \n",
       "152                                   386298.700253   \n",
       "153                                   410614.677268   \n",
       "154                                   365926.096985   \n",
       "\n",
       "     Gulf Coast Port Activity, Total TEUs_Exports_x  \\\n",
       "0                                      90322.590000   \n",
       "1                                     100410.660000   \n",
       "2                                      93384.280000   \n",
       "3                                     101642.940000   \n",
       "4                                     105424.640000   \n",
       "..                                              ...   \n",
       "150                                   125276.157772   \n",
       "151                                   125319.157772   \n",
       "152                                   117576.128306   \n",
       "153                                   123604.184721   \n",
       "154                                   130627.239881   \n",
       "\n",
       "     Western Canadian Port Activity, Total TEUs_Exports_x  \n",
       "0                                         70230.000000     \n",
       "1                                         86567.000000     \n",
       "2                                         80451.000000     \n",
       "3                                         84739.000000     \n",
       "4                                         89548.000000     \n",
       "..                                                 ...     \n",
       "150                                      103172.000000     \n",
       "151                                       93979.000000     \n",
       "152                                      103129.000000     \n",
       "153                                      105255.000000     \n",
       "154                                      102805.965936     \n",
       "\n",
       "[155 rows x 70 columns]"
      ]
     },
     "execution_count": 3,
     "metadata": {},
     "output_type": "execute_result"
    }
   ],
   "source": [
    "books = books.dropna(axis = 1)\n",
    "exog = books.iloc[:,2:]\n",
    "exog"
   ]
  },
  {
   "cell_type": "code",
   "execution_count": 5,
   "metadata": {},
   "outputs": [
    {
     "data": {
      "text/plain": [
       "array([[ 0.30107966, -0.40903828, -0.23480158, ..., -0.24847077,\n",
       "        -1.2351139 , -1.98826439],\n",
       "       [ 0.21448922, -0.47320628, -0.2941929 , ...,  0.98880211,\n",
       "        -0.59357489, -0.81291369],\n",
       "       [ 0.14623792, -0.51831502, -0.31291176, ...,  1.53521565,\n",
       "        -1.04040931, -1.25292378],\n",
       "       ...,\n",
       "       [ 1.1588675 ,  0.08769061,  1.70000768, ..., -1.28986807,\n",
       "         0.49804297,  0.37862444],\n",
       "       [ 1.29133629,  0.90631567,  1.94477252, ..., -0.69026939,\n",
       "         0.88139016,  0.53157758],\n",
       "       [ 1.36059139,  1.13107458,  2.03366644, ..., -1.79222855,\n",
       "         1.32801313,  0.35538404]])"
      ]
     },
     "execution_count": 5,
     "metadata": {},
     "output_type": "execute_result"
    }
   ],
   "source": [
    "# Standardizing the features based on unit variance\n",
    "exog = StandardScaler().fit_transform(exog)\n",
    "exog"
   ]
  },
  {
   "cell_type": "code",
   "execution_count": 6,
   "metadata": {},
   "outputs": [],
   "source": [
    "X_train, X_test, y_train, y_test = train_test_split(exog, sales, test_size=0.2, random_state=60616, shuffle=False)"
   ]
  },
  {
   "cell_type": "code",
   "execution_count": 7,
   "metadata": {},
   "outputs": [
    {
     "data": {
      "text/plain": [
       "array([[ 0.30107966, -0.40903828, -0.23480158, ..., -0.24847077,\n",
       "        -1.2351139 , -1.98826439],\n",
       "       [ 0.21448922, -0.47320628, -0.2941929 , ...,  0.98880211,\n",
       "        -0.59357489, -0.81291369],\n",
       "       [ 0.14623792, -0.51831502, -0.31291176, ...,  1.53521565,\n",
       "        -1.04040931, -1.25292378],\n",
       "       ...,\n",
       "       [ 1.55505935,  2.11060493,  1.50310715, ...,  0.01898441,\n",
       "         0.63098841, -0.20426663],\n",
       "       [ 1.42932591,  2.12640929,  1.2080596 , ...,  1.05242223,\n",
       "         1.60286642,  1.54426269],\n",
       "       [ 1.50888145,  1.84158852,  1.29193507, ...,  0.63731718,\n",
       "         1.45159109,  1.08900044]])"
      ]
     },
     "execution_count": 7,
>>>>>>> a54b38a23fd89ae1039598e9c2c0c3eadb30b03a
     "metadata": {},
     "output_type": "execute_result"
    }
   ],
   "source": [
    "X_test"
   ]
  },
  {
   "cell_type": "code",
   "execution_count": 11,
   "metadata": {
    "colab": {
     "base_uri": "https://localhost:8080/",
     "height": 513
    },
    "id": "K3n4p-tr6Qn1",
    "outputId": "27c3fc7e-c768-4f1c-bca3-61824aa5ef6a"
   },
   "outputs": [
    {
     "data": {
      "image/png": "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\n",
      "text/plain": [
       "<Figure size 1080x576 with 1 Axes>"
      ]
     },
     "metadata": {
      "needs_background": "light"
     },
     "output_type": "display_data"
    }
   ],
   "source": [
    "plt.figure(figsize=[15,8])\n",
    "plt.plot(y_train['Year_Month'],y_train['Sum of Sales'])\n",
    "plt.title('Monthly Sum of Sales of Books Department')\n",
    "plt.xlabel('Date')\n",
    "plt.ylabel('Sales')\n",
    "plt.show()"
   ]
  },
  {
   "cell_type": "code",
<<<<<<< HEAD
   "execution_count": 12,
=======
   "execution_count": 8,
>>>>>>> a54b38a23fd89ae1039598e9c2c0c3eadb30b03a
   "metadata": {
    "colab": {
     "base_uri": "https://localhost:8080/"
    },
    "id": "L684FxgN4tCE",
    "outputId": "107cd254-9d40-4d8d-bb2b-5514976fc0c0"
   },
   "outputs": [
    {
     "name": "stdout",
     "output_type": "stream",
     "text": [
<<<<<<< HEAD
      "ADF Statistic: -7.448654278403226\n",
      "p-value: 5.74799439008589e-11\n"
=======
      "ADF Statistic: -7.2230092199708915\n",
      "p-value: 2.0875628540467943e-10\n"
>>>>>>> a54b38a23fd89ae1039598e9c2c0c3eadb30b03a
     ]
    }
   ],
   "source": [
    "ad_fuller_result = adfuller(y_train['Sum of Sales'])\n",
    "print(f'ADF Statistic: {ad_fuller_result[0]}')\n",
    "print(f'p-value: {ad_fuller_result[1]}')"
   ]
  },
  {
   "cell_type": "code",
   "execution_count": 9,
   "metadata": {},
   "outputs": [
    {
     "name": "stdout",
     "output_type": "stream",
     "text": [
      "ADF Statistic: -4.351965925155114\n",
      "p-value: 0.0003606484772182935\n"
     ]
    }
   ],
   "source": [
    "ad_fuller_result = adfuller(y_test['Sum of Sales'])\n",
    "print(f'ADF Statistic: {ad_fuller_result[0]}')\n",
    "print(f'p-value: {ad_fuller_result[1]}')"
   ]
  },
  {
   "cell_type": "markdown",
   "metadata": {
    "id": "W2QG1lx85L4p"
   },
   "source": [
    "Since the p-value is greater than 0.5, we cannot reject null hypothesis and must assume that the series is not stationary."
   ]
  },
  {
   "cell_type": "markdown",
   "metadata": {
    "colab": {
     "base_uri": "https://localhost:8080/",
     "height": 419
    },
    "id": "sxdSNYZh5Y83",
    "outputId": "40cdcc05-f0b4-46a9-af23-f4658576a288"
   },
   "source": [
    "sales['sales_diffed'] = sales['Sum of Sales'].diff(1)\n",
    "sales"
   ]
  },
  {
   "cell_type": "markdown",
   "metadata": {
    "colab": {
     "base_uri": "https://localhost:8080/"
    },
    "id": "rnc8yTOv7nYt",
    "outputId": "317449b2-7442-4c54-ec80-ba5c42ccfdca"
   },
   "source": [
    "ad_fuller_result = adfuller(sales['sales_diffed'][1:])\n",
    "print(f'ADF Statistic: {ad_fuller_result[0]}')\n",
    "print(f'p-value: {ad_fuller_result[1]}')"
   ]
  },
  {
   "cell_type": "code",
   "execution_count": 13,
   "metadata": {
    "colab": {
     "base_uri": "https://localhost:8080/",
     "height": 499
    },
    "id": "TKOFWQA86s9-",
    "outputId": "f40aacd7-caed-4f17-bfa9-d68c90a3b704"
   },
   "outputs": [
    {
     "data": {
      "image/png": "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\n",
      "text/plain": [
       "<Figure size 864x576 with 2 Axes>"
      ]
     },
     "metadata": {
      "needs_background": "light"
     },
     "output_type": "display_data"
    }
   ],
   "source": [
    "fig, ax = plt.subplots(2,1, figsize= (12,8))\n",
    "fig = sm.graphics.tsa.plot_acf(y_train['Sum of Sales'], lags=50, ax=ax[0])\n",
    "fig = sm.graphics.tsa.plot_pacf(y_train['Sum of Sales'], lags=50, ax=ax[1])\n",
    "plt.show()"
   ]
  },
  {
   "cell_type": "code",
   "execution_count": null,
   "metadata": {},
   "outputs": [],
   "source": []
  },
  {
   "cell_type": "code",
   "execution_count": 11,
   "metadata": {},
   "outputs": [
    {
     "data": {
      "image/png": "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\n",
      "text/plain": [
       "<Figure size 864x576 with 2 Axes>"
      ]
     },
     "metadata": {
      "needs_background": "light"
     },
     "output_type": "display_data"
    }
   ],
   "source": [
    "fig, ax = plt.subplots(2,1, figsize= (12,8))\n",
    "fig = sm.graphics.tsa.plot_acf(y_test['Sum of Sales'], lags=25, ax=ax[0])\n",
    "fig = sm.graphics.tsa.plot_pacf(y_test['Sum of Sales'], lags=25, ax=ax[1])\n",
    "plt.show()"
   ]
  },
  {
   "cell_type": "code",
   "execution_count": null,
   "metadata": {
    "id": "lpKOX1yF4sVo"
   },
   "outputs": [],
   "source": []
  },
  {
   "cell_type": "markdown",
   "metadata": {
    "id": "bLGEh8Ad3Pog"
   },
   "source": [
    "# New Section"
   ]
  },
  {
   "cell_type": "code",
<<<<<<< HEAD
   "execution_count": 57,
=======
   "execution_count": 12,
>>>>>>> a54b38a23fd89ae1039598e9c2c0c3eadb30b03a
   "metadata": {
    "colab": {
     "base_uri": "https://localhost:8080/"
    },
    "id": "6TyDuvVkEkRQ",
    "outputId": "67384564-1d6c-4643-9aeb-5c7832bbcbf7"
   },
   "outputs": [
    {
     "name": "stderr",
     "output_type": "stream",
     "text": [
      "D:\\anaconda\\lib\\site-packages\\statsmodels\\base\\model.py:568: ConvergenceWarning: Maximum Likelihood optimization failed to converge. Check mle_retvals\n",
      "  ConvergenceWarning)\n"
     ]
    },
    {
     "name": "stdout",
     "output_type": "stream",
     "text": [
<<<<<<< HEAD
      "ARIMA(0, 0, 0)x(0, 0, 0, 12)- AIC:1090.3837334287314\n",
      " \n"
     ]
    },
    {
     "name": "stderr",
     "output_type": "stream",
     "text": [
      "D:\\anaconda\\lib\\site-packages\\statsmodels\\base\\model.py:568: ConvergenceWarning: Maximum Likelihood optimization failed to converge. Check mle_retvals\n",
      "  ConvergenceWarning)\n"
     ]
    },
    {
     "name": "stdout",
     "output_type": "stream",
     "text": [
      "ARIMA(0, 0, 0)x(0, 0, 1, 12)- AIC:520.4546943129775\n",
      " \n"
     ]
    },
    {
     "name": "stderr",
     "output_type": "stream",
     "text": [
      "D:\\anaconda\\lib\\site-packages\\statsmodels\\base\\model.py:568: ConvergenceWarning: Maximum Likelihood optimization failed to converge. Check mle_retvals\n",
      "  ConvergenceWarning)\n"
     ]
    },
    {
     "name": "stdout",
     "output_type": "stream",
     "text": [
      "ARIMA(0, 0, 0)x(0, 0, 2, 12)- AIC:520.557182603106\n",
      " \n"
     ]
    },
    {
     "name": "stderr",
     "output_type": "stream",
     "text": [
      "D:\\anaconda\\lib\\site-packages\\statsmodels\\base\\model.py:568: ConvergenceWarning: Maximum Likelihood optimization failed to converge. Check mle_retvals\n",
      "  ConvergenceWarning)\n"
     ]
    },
    {
     "name": "stdout",
     "output_type": "stream",
     "text": [
      "ARIMA(0, 0, 0)x(0, 1, 0, 12)- AIC:994.2844733190677\n",
      " \n"
     ]
    },
    {
     "name": "stderr",
     "output_type": "stream",
     "text": [
      "D:\\anaconda\\lib\\site-packages\\statsmodels\\base\\model.py:568: ConvergenceWarning: Maximum Likelihood optimization failed to converge. Check mle_retvals\n",
      "  ConvergenceWarning)\n"
     ]
    },
    {
     "name": "stdout",
     "output_type": "stream",
     "text": [
      "ARIMA(0, 0, 0)x(0, 1, 1, 12)- AIC:478.20767289414005\n",
      " \n"
     ]
    },
    {
     "name": "stderr",
     "output_type": "stream",
     "text": [
      "D:\\anaconda\\lib\\site-packages\\statsmodels\\base\\model.py:568: ConvergenceWarning: Maximum Likelihood optimization failed to converge. Check mle_retvals\n",
      "  ConvergenceWarning)\n"
     ]
    },
    {
     "name": "stdout",
     "output_type": "stream",
     "text": [
      "ARIMA(0, 0, 0)x(0, 1, 2, 12)- AIC:480.08527987218497\n",
      " \n"
     ]
    },
    {
     "name": "stderr",
     "output_type": "stream",
     "text": [
      "D:\\anaconda\\lib\\site-packages\\statsmodels\\base\\model.py:568: ConvergenceWarning: Maximum Likelihood optimization failed to converge. Check mle_retvals\n",
      "  ConvergenceWarning)\n"
     ]
    },
    {
     "name": "stdout",
     "output_type": "stream",
     "text": [
      "ARIMA(0, 0, 0)x(1, 0, 0, 12)- AIC:515.6550840365257\n",
      " \n"
     ]
    },
    {
     "name": "stderr",
     "output_type": "stream",
     "text": [
      "D:\\anaconda\\lib\\site-packages\\statsmodels\\base\\model.py:568: ConvergenceWarning: Maximum Likelihood optimization failed to converge. Check mle_retvals\n",
      "  ConvergenceWarning)\n"
     ]
    },
    {
     "name": "stdout",
     "output_type": "stream",
     "text": [
      "ARIMA(0, 0, 0)x(1, 0, 1, 12)- AIC:518.5030441008187\n",
      " \n"
     ]
    },
    {
     "name": "stderr",
     "output_type": "stream",
     "text": [
      "D:\\anaconda\\lib\\site-packages\\statsmodels\\base\\model.py:568: ConvergenceWarning: Maximum Likelihood optimization failed to converge. Check mle_retvals\n",
      "  ConvergenceWarning)\n"
     ]
    },
    {
     "name": "stdout",
     "output_type": "stream",
     "text": [
      "ARIMA(0, 0, 0)x(1, 0, 2, 12)- AIC:523.4056457474118\n",
      " \n"
     ]
    },
    {
     "name": "stderr",
     "output_type": "stream",
     "text": [
      "D:\\anaconda\\lib\\site-packages\\statsmodels\\base\\model.py:568: ConvergenceWarning: Maximum Likelihood optimization failed to converge. Check mle_retvals\n",
      "  ConvergenceWarning)\n"
     ]
    },
    {
     "name": "stdout",
     "output_type": "stream",
     "text": [
      "ARIMA(0, 0, 0)x(1, 1, 0, 12)- AIC:480.5696284216135\n",
      " \n"
     ]
    },
    {
     "name": "stderr",
     "output_type": "stream",
     "text": [
      "D:\\anaconda\\lib\\site-packages\\statsmodels\\base\\model.py:568: ConvergenceWarning: Maximum Likelihood optimization failed to converge. Check mle_retvals\n",
      "  ConvergenceWarning)\n"
     ]
    },
    {
     "name": "stdout",
     "output_type": "stream",
     "text": [
      "ARIMA(0, 0, 0)x(1, 1, 1, 12)- AIC:479.4007167083389\n",
      " \n"
     ]
    },
    {
     "name": "stderr",
     "output_type": "stream",
     "text": [
      "D:\\anaconda\\lib\\site-packages\\statsmodels\\base\\model.py:568: ConvergenceWarning: Maximum Likelihood optimization failed to converge. Check mle_retvals\n",
      "  ConvergenceWarning)\n"
     ]
    },
    {
     "name": "stdout",
     "output_type": "stream",
     "text": [
      "ARIMA(0, 0, 0)x(1, 1, 2, 12)- AIC:482.3815338336186\n",
      " \n"
     ]
    },
    {
     "name": "stderr",
     "output_type": "stream",
     "text": [
      "D:\\anaconda\\lib\\site-packages\\statsmodels\\base\\model.py:568: ConvergenceWarning: Maximum Likelihood optimization failed to converge. Check mle_retvals\n",
      "  ConvergenceWarning)\n"
     ]
    },
    {
     "name": "stdout",
     "output_type": "stream",
     "text": [
      "ARIMA(0, 0, 0)x(2, 0, 0, 12)- AIC:513.9798721947379\n",
      " \n"
     ]
    },
    {
     "name": "stderr",
     "output_type": "stream",
     "text": [
      "D:\\anaconda\\lib\\site-packages\\statsmodels\\base\\model.py:568: ConvergenceWarning: Maximum Likelihood optimization failed to converge. Check mle_retvals\n",
      "  ConvergenceWarning)\n"
     ]
    },
    {
     "name": "stdout",
     "output_type": "stream",
     "text": [
      "ARIMA(0, 0, 0)x(2, 0, 1, 12)- AIC:517.1824067954055\n",
      " \n"
     ]
    },
    {
     "name": "stderr",
     "output_type": "stream",
     "text": [
      "D:\\anaconda\\lib\\site-packages\\statsmodels\\base\\model.py:568: ConvergenceWarning: Maximum Likelihood optimization failed to converge. Check mle_retvals\n",
      "  ConvergenceWarning)\n"
     ]
    },
    {
     "name": "stdout",
     "output_type": "stream",
     "text": [
      "ARIMA(0, 0, 0)x(2, 0, 2, 12)- AIC:525.9005082392732\n",
      " \n"
     ]
    },
    {
     "name": "stderr",
     "output_type": "stream",
     "text": [
      "D:\\anaconda\\lib\\site-packages\\statsmodels\\base\\model.py:568: ConvergenceWarning: Maximum Likelihood optimization failed to converge. Check mle_retvals\n",
      "  ConvergenceWarning)\n"
     ]
    },
    {
     "name": "stdout",
     "output_type": "stream",
     "text": [
      "ARIMA(0, 0, 0)x(2, 1, 0, 12)- AIC:479.2524269551486\n",
      " \n"
     ]
    },
    {
     "name": "stderr",
     "output_type": "stream",
     "text": [
      "D:\\anaconda\\lib\\site-packages\\statsmodels\\base\\model.py:568: ConvergenceWarning: Maximum Likelihood optimization failed to converge. Check mle_retvals\n",
      "  ConvergenceWarning)\n"
     ]
    },
    {
     "name": "stdout",
     "output_type": "stream",
     "text": [
      "ARIMA(0, 0, 0)x(2, 1, 1, 12)- AIC:479.81509325119623\n",
      " \n"
     ]
    },
    {
     "name": "stderr",
     "output_type": "stream",
     "text": [
      "D:\\anaconda\\lib\\site-packages\\statsmodels\\base\\model.py:568: ConvergenceWarning: Maximum Likelihood optimization failed to converge. Check mle_retvals\n",
      "  ConvergenceWarning)\n"
     ]
    },
    {
     "name": "stdout",
     "output_type": "stream",
     "text": [
      "ARIMA(0, 0, 0)x(2, 1, 2, 12)- AIC:486.0024157583278\n",
      " \n"
     ]
    },
    {
     "name": "stderr",
     "output_type": "stream",
     "text": [
      "D:\\anaconda\\lib\\site-packages\\statsmodels\\base\\model.py:568: ConvergenceWarning: Maximum Likelihood optimization failed to converge. Check mle_retvals\n",
      "  ConvergenceWarning)\n"
     ]
    },
    {
     "name": "stdout",
     "output_type": "stream",
     "text": [
      "ARIMA(0, 0, 1)x(0, 0, 0, 12)- AIC:515.7654115609018\n",
      " \n"
     ]
    },
    {
     "name": "stderr",
     "output_type": "stream",
     "text": [
      "D:\\anaconda\\lib\\site-packages\\statsmodels\\base\\model.py:568: ConvergenceWarning: Maximum Likelihood optimization failed to converge. Check mle_retvals\n",
      "  ConvergenceWarning)\n"
     ]
    },
    {
     "name": "stdout",
     "output_type": "stream",
     "text": [
      "ARIMA(0, 0, 1)x(0, 0, 1, 12)- AIC:512.971868279553\n",
      " \n"
     ]
    },
    {
     "name": "stderr",
     "output_type": "stream",
     "text": [
      "D:\\anaconda\\lib\\site-packages\\statsmodels\\base\\model.py:568: ConvergenceWarning: Maximum Likelihood optimization failed to converge. Check mle_retvals\n",
      "  ConvergenceWarning)\n"
     ]
    },
    {
     "name": "stdout",
     "output_type": "stream",
     "text": [
      "ARIMA(0, 0, 1)x(0, 0, 2, 12)- AIC:516.7015568245199\n",
      " \n"
     ]
    },
    {
     "name": "stderr",
     "output_type": "stream",
     "text": [
      "D:\\anaconda\\lib\\site-packages\\statsmodels\\base\\model.py:568: ConvergenceWarning: Maximum Likelihood optimization failed to converge. Check mle_retvals\n",
      "  ConvergenceWarning)\n"
     ]
    },
    {
     "name": "stdout",
     "output_type": "stream",
     "text": [
      "ARIMA(0, 0, 1)x(0, 1, 0, 12)- AIC:486.1138638451284\n",
      " \n"
     ]
    },
    {
     "name": "stderr",
     "output_type": "stream",
     "text": [
      "D:\\anaconda\\lib\\site-packages\\statsmodels\\base\\model.py:568: ConvergenceWarning: Maximum Likelihood optimization failed to converge. Check mle_retvals\n",
      "  ConvergenceWarning)\n"
     ]
    },
    {
     "name": "stdout",
     "output_type": "stream",
     "text": [
      "ARIMA(0, 0, 1)x(0, 1, 1, 12)- AIC:477.9197409986357\n",
      " \n"
     ]
    },
    {
     "name": "stderr",
     "output_type": "stream",
     "text": [
      "D:\\anaconda\\lib\\site-packages\\statsmodels\\base\\model.py:568: ConvergenceWarning: Maximum Likelihood optimization failed to converge. Check mle_retvals\n",
      "  ConvergenceWarning)\n"
     ]
    },
    {
     "name": "stdout",
     "output_type": "stream",
     "text": [
      "ARIMA(0, 0, 1)x(0, 1, 2, 12)- AIC:480.15581039614426\n",
      " \n"
     ]
    },
    {
     "name": "stderr",
     "output_type": "stream",
     "text": [
      "D:\\anaconda\\lib\\site-packages\\statsmodels\\base\\model.py:568: ConvergenceWarning: Maximum Likelihood optimization failed to converge. Check mle_retvals\n",
      "  ConvergenceWarning)\n"
     ]
    },
    {
     "name": "stdout",
     "output_type": "stream",
     "text": [
      "ARIMA(0, 0, 1)x(1, 0, 0, 12)- AIC:509.43211786871655\n",
      " \n"
     ]
    },
    {
     "name": "stderr",
     "output_type": "stream",
     "text": [
      "D:\\anaconda\\lib\\site-packages\\statsmodels\\base\\model.py:568: ConvergenceWarning: Maximum Likelihood optimization failed to converge. Check mle_retvals\n",
      "  ConvergenceWarning)\n"
     ]
    },
    {
     "name": "stdout",
     "output_type": "stream",
     "text": [
      "ARIMA(0, 0, 1)x(1, 0, 1, 12)- AIC:511.881993068969\n",
      " \n"
     ]
    },
    {
     "name": "stderr",
     "output_type": "stream",
     "text": [
      "D:\\anaconda\\lib\\site-packages\\statsmodels\\base\\model.py:568: ConvergenceWarning: Maximum Likelihood optimization failed to converge. Check mle_retvals\n",
      "  ConvergenceWarning)\n"
     ]
    },
    {
     "name": "stdout",
     "output_type": "stream",
     "text": [
      "ARIMA(0, 0, 1)x(1, 0, 2, 12)- AIC:516.908258076294\n",
      " \n"
     ]
    },
    {
     "name": "stderr",
     "output_type": "stream",
     "text": [
      "D:\\anaconda\\lib\\site-packages\\statsmodels\\base\\model.py:568: ConvergenceWarning: Maximum Likelihood optimization failed to converge. Check mle_retvals\n",
      "  ConvergenceWarning)\n"
     ]
    },
    {
     "name": "stdout",
     "output_type": "stream",
     "text": [
      "ARIMA(0, 0, 1)x(1, 1, 0, 12)- AIC:480.06346639487197\n",
      " \n"
     ]
    },
    {
     "name": "stderr",
     "output_type": "stream",
     "text": [
      "D:\\anaconda\\lib\\site-packages\\statsmodels\\base\\model.py:568: ConvergenceWarning: Maximum Likelihood optimization failed to converge. Check mle_retvals\n",
      "  ConvergenceWarning)\n"
     ]
    },
    {
     "name": "stdout",
     "output_type": "stream",
     "text": [
      "ARIMA(0, 0, 1)x(1, 1, 1, 12)- AIC:479.23018581856627\n",
      " \n"
     ]
    },
    {
     "name": "stderr",
     "output_type": "stream",
     "text": [
      "D:\\anaconda\\lib\\site-packages\\statsmodels\\base\\model.py:568: ConvergenceWarning: Maximum Likelihood optimization failed to converge. Check mle_retvals\n",
      "  ConvergenceWarning)\n"
     ]
    },
    {
     "name": "stdout",
     "output_type": "stream",
     "text": [
      "ARIMA(0, 0, 1)x(1, 1, 2, 12)- AIC:482.3811384937214\n",
      " \n"
     ]
    },
    {
     "name": "stderr",
     "output_type": "stream",
     "text": [
      "D:\\anaconda\\lib\\site-packages\\statsmodels\\base\\model.py:568: ConvergenceWarning: Maximum Likelihood optimization failed to converge. Check mle_retvals\n",
      "  ConvergenceWarning)\n"
     ]
    },
    {
     "name": "stdout",
     "output_type": "stream",
     "text": [
      "ARIMA(0, 0, 1)x(2, 0, 0, 12)- AIC:508.80629845485146\n",
      " \n"
     ]
    },
    {
     "name": "stderr",
     "output_type": "stream",
     "text": [
      "D:\\anaconda\\lib\\site-packages\\statsmodels\\base\\model.py:568: ConvergenceWarning: Maximum Likelihood optimization failed to converge. Check mle_retvals\n",
      "  ConvergenceWarning)\n"
     ]
    },
    {
     "name": "stdout",
     "output_type": "stream",
     "text": [
      "ARIMA(0, 0, 1)x(2, 0, 1, 12)- AIC:511.57429203368554\n",
      " \n"
     ]
    },
    {
     "name": "stderr",
     "output_type": "stream",
     "text": [
      "D:\\anaconda\\lib\\site-packages\\statsmodels\\base\\model.py:568: ConvergenceWarning: Maximum Likelihood optimization failed to converge. Check mle_retvals\n",
      "  ConvergenceWarning)\n"
     ]
    },
    {
     "name": "stdout",
     "output_type": "stream",
     "text": [
      "ARIMA(0, 0, 1)x(2, 0, 2, 12)- AIC:519.260672258072\n",
      " \n"
     ]
    },
    {
     "name": "stderr",
     "output_type": "stream",
     "text": [
      "D:\\anaconda\\lib\\site-packages\\statsmodels\\base\\model.py:568: ConvergenceWarning: Maximum Likelihood optimization failed to converge. Check mle_retvals\n",
      "  ConvergenceWarning)\n"
     ]
    },
    {
     "name": "stdout",
     "output_type": "stream",
     "text": [
      "ARIMA(0, 0, 1)x(2, 1, 0, 12)- AIC:478.35563051215433\n",
      " \n"
     ]
    },
    {
     "name": "stderr",
     "output_type": "stream",
     "text": [
      "D:\\anaconda\\lib\\site-packages\\statsmodels\\base\\model.py:568: ConvergenceWarning: Maximum Likelihood optimization failed to converge. Check mle_retvals\n",
      "  ConvergenceWarning)\n"
     ]
    },
    {
     "name": "stdout",
     "output_type": "stream",
     "text": [
      "ARIMA(0, 0, 1)x(2, 1, 1, 12)- AIC:479.60171638406655\n",
      " \n"
     ]
    },
    {
     "name": "stderr",
     "output_type": "stream",
     "text": [
      "D:\\anaconda\\lib\\site-packages\\statsmodels\\base\\model.py:568: ConvergenceWarning: Maximum Likelihood optimization failed to converge. Check mle_retvals\n",
      "  ConvergenceWarning)\n"
     ]
    },
    {
     "name": "stdout",
     "output_type": "stream",
     "text": [
      "ARIMA(0, 0, 1)x(2, 1, 2, 12)- AIC:485.7225952760976\n",
      " \n"
     ]
    },
    {
     "name": "stderr",
     "output_type": "stream",
     "text": [
      "D:\\anaconda\\lib\\site-packages\\statsmodels\\base\\model.py:568: ConvergenceWarning: Maximum Likelihood optimization failed to converge. Check mle_retvals\n",
      "  ConvergenceWarning)\n"
     ]
    },
    {
     "name": "stdout",
     "output_type": "stream",
     "text": [
      "ARIMA(0, 0, 2)x(0, 0, 0, 12)- AIC:517.0150277179654\n",
      " \n"
     ]
    },
    {
     "name": "stderr",
     "output_type": "stream",
     "text": [
      "D:\\anaconda\\lib\\site-packages\\statsmodels\\base\\model.py:568: ConvergenceWarning: Maximum Likelihood optimization failed to converge. Check mle_retvals\n",
      "  ConvergenceWarning)\n"
     ]
    },
    {
     "name": "stdout",
     "output_type": "stream",
     "text": [
      "ARIMA(0, 0, 2)x(0, 0, 1, 12)- AIC:513.2972012734085\n",
      " \n"
     ]
    },
    {
     "name": "stderr",
     "output_type": "stream",
     "text": [
      "D:\\anaconda\\lib\\site-packages\\statsmodels\\base\\model.py:568: ConvergenceWarning: Maximum Likelihood optimization failed to converge. Check mle_retvals\n",
      "  ConvergenceWarning)\n"
     ]
    },
    {
     "name": "stdout",
     "output_type": "stream",
     "text": [
      "ARIMA(0, 0, 2)x(0, 0, 2, 12)- AIC:516.8511924806259\n",
      " \n"
     ]
    },
    {
     "name": "stderr",
     "output_type": "stream",
     "text": [
      "D:\\anaconda\\lib\\site-packages\\statsmodels\\base\\model.py:568: ConvergenceWarning: Maximum Likelihood optimization failed to converge. Check mle_retvals\n",
      "  ConvergenceWarning)\n"
     ]
    },
    {
     "name": "stdout",
     "output_type": "stream",
     "text": [
      "ARIMA(0, 0, 2)x(0, 1, 0, 12)- AIC:487.2730979771107\n",
      " \n"
     ]
    },
    {
     "name": "stderr",
     "output_type": "stream",
     "text": [
      "D:\\anaconda\\lib\\site-packages\\statsmodels\\base\\model.py:568: ConvergenceWarning: Maximum Likelihood optimization failed to converge. Check mle_retvals\n",
      "  ConvergenceWarning)\n"
     ]
    },
    {
     "name": "stdout",
     "output_type": "stream",
     "text": [
      "ARIMA(0, 0, 2)x(0, 1, 1, 12)- AIC:478.8484290619049\n",
      " \n"
     ]
    },
    {
     "name": "stderr",
     "output_type": "stream",
     "text": [
      "D:\\anaconda\\lib\\site-packages\\statsmodels\\base\\model.py:568: ConvergenceWarning: Maximum Likelihood optimization failed to converge. Check mle_retvals\n",
      "  ConvergenceWarning)\n"
     ]
    },
    {
     "name": "stdout",
     "output_type": "stream",
     "text": [
      "ARIMA(0, 0, 2)x(0, 1, 2, 12)- AIC:481.1841941165234\n",
      " \n"
     ]
    },
    {
     "name": "stderr",
     "output_type": "stream",
     "text": [
      "D:\\anaconda\\lib\\site-packages\\statsmodels\\base\\model.py:568: ConvergenceWarning: Maximum Likelihood optimization failed to converge. Check mle_retvals\n",
      "  ConvergenceWarning)\n"
     ]
    },
    {
     "name": "stdout",
     "output_type": "stream",
     "text": [
      "ARIMA(0, 0, 2)x(1, 0, 0, 12)- AIC:509.74224018782866\n",
      " \n"
     ]
    },
    {
     "name": "stderr",
     "output_type": "stream",
     "text": [
      "D:\\anaconda\\lib\\site-packages\\statsmodels\\base\\model.py:568: ConvergenceWarning: Maximum Likelihood optimization failed to converge. Check mle_retvals\n",
      "  ConvergenceWarning)\n"
     ]
    },
    {
     "name": "stdout",
     "output_type": "stream",
     "text": [
      "ARIMA(0, 0, 2)x(1, 0, 1, 12)- AIC:512.095678146329\n",
      " \n"
     ]
    },
    {
     "name": "stderr",
     "output_type": "stream",
     "text": [
      "D:\\anaconda\\lib\\site-packages\\statsmodels\\base\\model.py:568: ConvergenceWarning: Maximum Likelihood optimization failed to converge. Check mle_retvals\n",
      "  ConvergenceWarning)\n"
     ]
    },
    {
     "name": "stdout",
     "output_type": "stream",
     "text": [
      "ARIMA(0, 0, 2)x(1, 0, 2, 12)- AIC:516.9196084268522\n",
      " \n"
     ]
    },
    {
     "name": "stderr",
     "output_type": "stream",
     "text": [
      "D:\\anaconda\\lib\\site-packages\\statsmodels\\base\\model.py:568: ConvergenceWarning: Maximum Likelihood optimization failed to converge. Check mle_retvals\n",
      "  ConvergenceWarning)\n"
     ]
    },
    {
     "name": "stdout",
     "output_type": "stream",
     "text": [
      "ARIMA(0, 0, 2)x(1, 1, 0, 12)- AIC:480.9669860535422\n",
      " \n"
     ]
    },
    {
     "name": "stderr",
     "output_type": "stream",
     "text": [
      "D:\\anaconda\\lib\\site-packages\\statsmodels\\base\\model.py:568: ConvergenceWarning: Maximum Likelihood optimization failed to converge. Check mle_retvals\n",
      "  ConvergenceWarning)\n"
     ]
    },
    {
     "name": "stdout",
     "output_type": "stream",
     "text": [
      "ARIMA(0, 0, 2)x(1, 1, 1, 12)- AIC:480.1588678492802\n",
      " \n"
     ]
    },
    {
     "name": "stderr",
     "output_type": "stream",
     "text": [
      "D:\\anaconda\\lib\\site-packages\\statsmodels\\base\\model.py:568: ConvergenceWarning: Maximum Likelihood optimization failed to converge. Check mle_retvals\n",
      "  ConvergenceWarning)\n"
     ]
    },
    {
     "name": "stdout",
     "output_type": "stream",
     "text": [
      "ARIMA(0, 0, 2)x(1, 1, 2, 12)- AIC:483.42035349099217\n",
      " \n"
     ]
    },
    {
     "name": "stderr",
     "output_type": "stream",
     "text": [
      "D:\\anaconda\\lib\\site-packages\\statsmodels\\base\\model.py:568: ConvergenceWarning: Maximum Likelihood optimization failed to converge. Check mle_retvals\n",
      "  ConvergenceWarning)\n"
     ]
    },
    {
     "name": "stdout",
     "output_type": "stream",
     "text": [
      "ARIMA(0, 0, 2)x(2, 0, 0, 12)- AIC:508.96184394745393\n",
      " \n"
     ]
    },
    {
     "name": "stderr",
     "output_type": "stream",
     "text": [
      "D:\\anaconda\\lib\\site-packages\\statsmodels\\base\\model.py:568: ConvergenceWarning: Maximum Likelihood optimization failed to converge. Check mle_retvals\n",
      "  ConvergenceWarning)\n"
     ]
    },
    {
     "name": "stdout",
     "output_type": "stream",
     "text": [
      "ARIMA(0, 0, 2)x(2, 0, 1, 12)- AIC:511.70271481168356\n",
      " \n"
     ]
    },
    {
     "name": "stderr",
     "output_type": "stream",
     "text": [
      "D:\\anaconda\\lib\\site-packages\\statsmodels\\base\\model.py:568: ConvergenceWarning: Maximum Likelihood optimization failed to converge. Check mle_retvals\n",
      "  ConvergenceWarning)\n"
     ]
    },
    {
     "name": "stdout",
     "output_type": "stream",
     "text": [
      "ARIMA(0, 0, 2)x(2, 0, 2, 12)- AIC:519.2619654382489\n",
      " \n"
     ]
    },
    {
     "name": "stderr",
     "output_type": "stream",
     "text": [
      "D:\\anaconda\\lib\\site-packages\\statsmodels\\base\\model.py:568: ConvergenceWarning: Maximum Likelihood optimization failed to converge. Check mle_retvals\n",
      "  ConvergenceWarning)\n"
     ]
    },
    {
     "name": "stdout",
     "output_type": "stream",
     "text": [
      "ARIMA(0, 0, 2)x(2, 1, 0, 12)- AIC:479.45370594911486\n",
      " \n"
     ]
    },
    {
     "name": "stderr",
     "output_type": "stream",
     "text": [
      "D:\\anaconda\\lib\\site-packages\\statsmodels\\base\\model.py:568: ConvergenceWarning: Maximum Likelihood optimization failed to converge. Check mle_retvals\n",
      "  ConvergenceWarning)\n"
     ]
    },
    {
     "name": "stdout",
     "output_type": "stream",
     "text": [
      "ARIMA(0, 0, 2)x(2, 1, 1, 12)- AIC:480.68466056485613\n",
      " \n"
     ]
    },
    {
     "name": "stderr",
     "output_type": "stream",
     "text": [
      "D:\\anaconda\\lib\\site-packages\\statsmodels\\base\\model.py:568: ConvergenceWarning: Maximum Likelihood optimization failed to converge. Check mle_retvals\n",
      "  ConvergenceWarning)\n"
     ]
    },
    {
     "name": "stdout",
     "output_type": "stream",
     "text": [
      "ARIMA(0, 0, 2)x(2, 1, 2, 12)- AIC:486.8033279739771\n",
      " \n"
     ]
    },
    {
     "name": "stderr",
     "output_type": "stream",
     "text": [
      "D:\\anaconda\\lib\\site-packages\\statsmodels\\base\\model.py:568: ConvergenceWarning: Maximum Likelihood optimization failed to converge. Check mle_retvals\n",
      "  ConvergenceWarning)\n"
     ]
    },
    {
     "name": "stdout",
     "output_type": "stream",
     "text": [
      "ARIMA(0, 1, 0)x(0, 0, 0, 12)- AIC:1092.6386211199422\n",
      " \n"
     ]
    },
    {
     "name": "stderr",
     "output_type": "stream",
     "text": [
      "D:\\anaconda\\lib\\site-packages\\statsmodels\\base\\model.py:568: ConvergenceWarning: Maximum Likelihood optimization failed to converge. Check mle_retvals\n",
      "  ConvergenceWarning)\n"
     ]
    },
    {
     "name": "stdout",
     "output_type": "stream",
     "text": [
      "ARIMA(0, 1, 0)x(0, 0, 1, 12)- AIC:529.4377302913889\n",
      " \n"
     ]
    },
    {
     "name": "stderr",
     "output_type": "stream",
     "text": [
      "D:\\anaconda\\lib\\site-packages\\statsmodels\\base\\model.py:568: ConvergenceWarning: Maximum Likelihood optimization failed to converge. Check mle_retvals\n",
      "  ConvergenceWarning)\n"
     ]
    },
    {
     "name": "stdout",
     "output_type": "stream",
     "text": [
      "ARIMA(0, 1, 0)x(0, 0, 2, 12)- AIC:545.2166837310554\n",
      " \n"
     ]
    },
    {
     "name": "stderr",
     "output_type": "stream",
     "text": [
      "D:\\anaconda\\lib\\site-packages\\statsmodels\\base\\model.py:568: ConvergenceWarning: Maximum Likelihood optimization failed to converge. Check mle_retvals\n",
      "  ConvergenceWarning)\n"
     ]
    },
    {
     "name": "stdout",
     "output_type": "stream",
     "text": [
      "ARIMA(0, 1, 0)x(0, 1, 0, 12)- AIC:996.3697342330502\n",
      " \n"
     ]
    },
    {
     "name": "stderr",
     "output_type": "stream",
     "text": [
      "D:\\anaconda\\lib\\site-packages\\statsmodels\\base\\model.py:568: ConvergenceWarning: Maximum Likelihood optimization failed to converge. Check mle_retvals\n",
      "  ConvergenceWarning)\n"
     ]
    },
    {
     "name": "stdout",
     "output_type": "stream",
     "text": [
      "ARIMA(0, 1, 0)x(0, 1, 1, 12)- AIC:492.85367905613674\n",
      " \n"
     ]
    },
    {
     "name": "stderr",
     "output_type": "stream",
     "text": [
      "D:\\anaconda\\lib\\site-packages\\statsmodels\\base\\model.py:568: ConvergenceWarning: Maximum Likelihood optimization failed to converge. Check mle_retvals\n",
      "  ConvergenceWarning)\n"
     ]
    },
    {
     "name": "stdout",
     "output_type": "stream",
     "text": [
      "ARIMA(0, 1, 0)x(0, 1, 2, 12)- AIC:488.7856044261624\n",
      " \n"
     ]
    },
    {
     "name": "stderr",
     "output_type": "stream",
     "text": [
      "D:\\anaconda\\lib\\site-packages\\statsmodels\\base\\model.py:568: ConvergenceWarning: Maximum Likelihood optimization failed to converge. Check mle_retvals\n",
      "  ConvergenceWarning)\n"
     ]
    },
    {
     "name": "stdout",
     "output_type": "stream",
     "text": [
      "ARIMA(0, 1, 0)x(1, 0, 0, 12)- AIC:528.2966090099524\n",
      " \n"
     ]
    },
    {
     "name": "stderr",
     "output_type": "stream",
     "text": [
      "D:\\anaconda\\lib\\site-packages\\statsmodels\\base\\model.py:568: ConvergenceWarning: Maximum Likelihood optimization failed to converge. Check mle_retvals\n",
      "  ConvergenceWarning)\n"
     ]
    },
    {
     "name": "stdout",
     "output_type": "stream",
     "text": [
      "ARIMA(0, 1, 0)x(1, 0, 1, 12)- AIC:531.661193345253\n",
      " \n"
     ]
    },
    {
     "name": "stderr",
     "output_type": "stream",
     "text": [
      "D:\\anaconda\\lib\\site-packages\\statsmodels\\base\\model.py:568: ConvergenceWarning: Maximum Likelihood optimization failed to converge. Check mle_retvals\n",
      "  ConvergenceWarning)\n"
     ]
    },
    {
     "name": "stdout",
     "output_type": "stream",
     "text": [
      "ARIMA(0, 1, 0)x(1, 0, 2, 12)- AIC:548.1577433379719\n",
      " \n"
     ]
    },
    {
     "name": "stderr",
     "output_type": "stream",
     "text": [
      "D:\\anaconda\\lib\\site-packages\\statsmodels\\base\\model.py:568: ConvergenceWarning: Maximum Likelihood optimization failed to converge. Check mle_retvals\n",
      "  ConvergenceWarning)\n"
     ]
    },
    {
     "name": "stdout",
     "output_type": "stream",
     "text": [
      "ARIMA(0, 1, 0)x(1, 1, 0, 12)- AIC:493.31532041306053\n",
      " \n"
     ]
    },
    {
     "name": "stderr",
     "output_type": "stream",
     "text": [
      "D:\\anaconda\\lib\\site-packages\\statsmodels\\base\\model.py:568: ConvergenceWarning: Maximum Likelihood optimization failed to converge. Check mle_retvals\n",
      "  ConvergenceWarning)\n"
     ]
    },
    {
     "name": "stdout",
     "output_type": "stream",
     "text": [
      "ARIMA(0, 1, 0)x(1, 1, 1, 12)- AIC:494.5337269699029\n",
      " \n"
     ]
    },
    {
     "name": "stderr",
     "output_type": "stream",
     "text": [
      "D:\\anaconda\\lib\\site-packages\\statsmodels\\base\\model.py:568: ConvergenceWarning: Maximum Likelihood optimization failed to converge. Check mle_retvals\n",
      "  ConvergenceWarning)\n"
     ]
    },
    {
     "name": "stdout",
     "output_type": "stream",
     "text": [
      "ARIMA(0, 1, 0)x(1, 1, 2, 12)- AIC:490.92174336109474\n",
      " \n"
     ]
    },
    {
     "name": "stderr",
     "output_type": "stream",
     "text": [
      "D:\\anaconda\\lib\\site-packages\\statsmodels\\base\\model.py:568: ConvergenceWarning: Maximum Likelihood optimization failed to converge. Check mle_retvals\n",
      "  ConvergenceWarning)\n"
     ]
    },
    {
     "name": "stdout",
     "output_type": "stream",
     "text": [
      "ARIMA(0, 1, 0)x(2, 0, 0, 12)- AIC:529.9993550143306\n",
      " \n"
     ]
    },
    {
     "name": "stderr",
     "output_type": "stream",
     "text": [
      "D:\\anaconda\\lib\\site-packages\\statsmodels\\base\\model.py:568: ConvergenceWarning: Maximum Likelihood optimization failed to converge. Check mle_retvals\n",
      "  ConvergenceWarning)\n"
     ]
    },
    {
     "name": "stdout",
     "output_type": "stream",
     "text": [
      "ARIMA(0, 1, 0)x(2, 0, 1, 12)- AIC:534.7697872762819\n",
      " \n"
     ]
    },
    {
     "name": "stderr",
     "output_type": "stream",
     "text": [
      "D:\\anaconda\\lib\\site-packages\\statsmodels\\base\\model.py:568: ConvergenceWarning: Maximum Likelihood optimization failed to converge. Check mle_retvals\n",
      "  ConvergenceWarning)\n"
     ]
    },
    {
     "name": "stdout",
     "output_type": "stream",
     "text": [
      "ARIMA(0, 1, 0)x(2, 0, 2, 12)- AIC:552.2201530165403\n",
      " \n"
     ]
    },
    {
     "name": "stderr",
     "output_type": "stream",
     "text": [
      "D:\\anaconda\\lib\\site-packages\\statsmodels\\base\\model.py:568: ConvergenceWarning: Maximum Likelihood optimization failed to converge. Check mle_retvals\n",
      "  ConvergenceWarning)\n"
     ]
    },
    {
     "name": "stdout",
     "output_type": "stream",
     "text": [
      "ARIMA(0, 1, 0)x(2, 1, 0, 12)- AIC:490.33186474946524\n",
      " \n"
     ]
    },
    {
     "name": "stderr",
     "output_type": "stream",
     "text": [
      "D:\\anaconda\\lib\\site-packages\\statsmodels\\base\\model.py:568: ConvergenceWarning: Maximum Likelihood optimization failed to converge. Check mle_retvals\n",
      "  ConvergenceWarning)\n"
     ]
    },
    {
     "name": "stdout",
     "output_type": "stream",
     "text": [
      "ARIMA(0, 1, 0)x(2, 1, 1, 12)- AIC:492.3249519999347\n",
      " \n"
     ]
    },
    {
     "name": "stderr",
     "output_type": "stream",
     "text": [
      "D:\\anaconda\\lib\\site-packages\\statsmodels\\base\\model.py:568: ConvergenceWarning: Maximum Likelihood optimization failed to converge. Check mle_retvals\n",
      "  ConvergenceWarning)\n"
     ]
    },
    {
     "name": "stdout",
     "output_type": "stream",
     "text": [
      "ARIMA(0, 1, 0)x(2, 1, 2, 12)- AIC:493.6574575052982\n",
      " \n"
     ]
    },
    {
     "name": "stderr",
     "output_type": "stream",
     "text": [
      "D:\\anaconda\\lib\\site-packages\\statsmodels\\base\\model.py:568: ConvergenceWarning: Maximum Likelihood optimization failed to converge. Check mle_retvals\n",
      "  ConvergenceWarning)\n"
     ]
    },
    {
     "name": "stdout",
     "output_type": "stream",
     "text": [
      "ARIMA(0, 1, 1)x(0, 0, 0, 12)- AIC:528.3806452498735\n",
      " \n"
     ]
    },
    {
     "name": "stderr",
     "output_type": "stream",
     "text": [
      "D:\\anaconda\\lib\\site-packages\\statsmodels\\base\\model.py:568: ConvergenceWarning: Maximum Likelihood optimization failed to converge. Check mle_retvals\n",
      "  ConvergenceWarning)\n"
     ]
    },
    {
     "name": "stdout",
     "output_type": "stream",
     "text": [
      "ARIMA(0, 1, 1)x(0, 0, 1, 12)- AIC:525.821026867886\n",
      " \n"
     ]
    },
    {
     "name": "stderr",
     "output_type": "stream",
     "text": [
      "D:\\anaconda\\lib\\site-packages\\statsmodels\\base\\model.py:568: ConvergenceWarning: Maximum Likelihood optimization failed to converge. Check mle_retvals\n",
      "  ConvergenceWarning)\n"
     ]
    },
    {
     "name": "stdout",
     "output_type": "stream",
     "text": [
      "ARIMA(0, 1, 1)x(0, 0, 2, 12)- AIC:539.5664144006015\n",
      " \n"
     ]
    },
    {
     "name": "stderr",
     "output_type": "stream",
     "text": [
      "D:\\anaconda\\lib\\site-packages\\statsmodels\\base\\model.py:568: ConvergenceWarning: Maximum Likelihood optimization failed to converge. Check mle_retvals\n",
      "  ConvergenceWarning)\n"
     ]
    },
    {
     "name": "stdout",
     "output_type": "stream",
     "text": [
      "ARIMA(0, 1, 1)x(0, 1, 0, 12)- AIC:490.888091616319\n",
      " \n"
     ]
    },
    {
     "name": "stderr",
     "output_type": "stream",
     "text": [
      "D:\\anaconda\\lib\\site-packages\\statsmodels\\base\\model.py:568: ConvergenceWarning: Maximum Likelihood optimization failed to converge. Check mle_retvals\n",
      "  ConvergenceWarning)\n"
     ]
    },
    {
     "name": "stdout",
     "output_type": "stream",
     "text": [
      "ARIMA(0, 1, 1)x(0, 1, 1, 12)- AIC:490.6944034546469\n",
      " \n"
     ]
    },
    {
     "name": "stderr",
     "output_type": "stream",
     "text": [
      "D:\\anaconda\\lib\\site-packages\\statsmodels\\base\\model.py:568: ConvergenceWarning: Maximum Likelihood optimization failed to converge. Check mle_retvals\n",
      "  ConvergenceWarning)\n"
     ]
    },
    {
     "name": "stdout",
     "output_type": "stream",
     "text": [
      "ARIMA(0, 1, 1)x(0, 1, 2, 12)- AIC:486.94826710915527\n",
      " \n"
     ]
    },
    {
     "name": "stderr",
     "output_type": "stream",
     "text": [
      "D:\\anaconda\\lib\\site-packages\\statsmodels\\base\\model.py:568: ConvergenceWarning: Maximum Likelihood optimization failed to converge. Check mle_retvals\n",
      "  ConvergenceWarning)\n"
     ]
    },
    {
     "name": "stdout",
     "output_type": "stream",
     "text": [
      "ARIMA(0, 1, 1)x(1, 0, 0, 12)- AIC:525.3877183373941\n",
      " \n"
     ]
    },
    {
     "name": "stderr",
     "output_type": "stream",
     "text": [
      "D:\\anaconda\\lib\\site-packages\\statsmodels\\base\\model.py:568: ConvergenceWarning: Maximum Likelihood optimization failed to converge. Check mle_retvals\n",
      "  ConvergenceWarning)\n"
     ]
    },
    {
     "name": "stdout",
     "output_type": "stream",
     "text": [
      "ARIMA(0, 1, 1)x(1, 0, 1, 12)- AIC:527.4141673241344\n",
      " \n"
     ]
    },
    {
     "name": "stderr",
     "output_type": "stream",
     "text": [
      "D:\\anaconda\\lib\\site-packages\\statsmodels\\base\\model.py:568: ConvergenceWarning: Maximum Likelihood optimization failed to converge. Check mle_retvals\n",
      "  ConvergenceWarning)\n"
     ]
    },
    {
     "name": "stdout",
     "output_type": "stream",
     "text": [
      "ARIMA(0, 1, 1)x(1, 0, 2, 12)- AIC:541.1783096563254\n",
      " \n"
     ]
    },
    {
     "name": "stderr",
     "output_type": "stream",
     "text": [
      "D:\\anaconda\\lib\\site-packages\\statsmodels\\base\\model.py:568: ConvergenceWarning: Maximum Likelihood optimization failed to converge. Check mle_retvals\n",
      "  ConvergenceWarning)\n"
     ]
    },
    {
     "name": "stdout",
     "output_type": "stream",
     "text": [
      "ARIMA(0, 1, 1)x(1, 1, 0, 12)- AIC:491.1664858955452\n",
      " \n"
     ]
    },
    {
     "name": "stderr",
     "output_type": "stream",
     "text": [
      "D:\\anaconda\\lib\\site-packages\\statsmodels\\base\\model.py:568: ConvergenceWarning: Maximum Likelihood optimization failed to converge. Check mle_retvals\n",
      "  ConvergenceWarning)\n"
     ]
    },
    {
     "name": "stdout",
     "output_type": "stream",
     "text": [
      "ARIMA(0, 1, 1)x(1, 1, 1, 12)- AIC:492.37450789519073\n",
      " \n"
     ]
    },
    {
     "name": "stderr",
     "output_type": "stream",
     "text": [
      "D:\\anaconda\\lib\\site-packages\\statsmodels\\base\\model.py:568: ConvergenceWarning: Maximum Likelihood optimization failed to converge. Check mle_retvals\n",
      "  ConvergenceWarning)\n"
     ]
    },
    {
     "name": "stdout",
     "output_type": "stream",
     "text": [
      "ARIMA(0, 1, 1)x(1, 1, 2, 12)- AIC:489.13840347686687\n",
      " \n",
      "ARIMA(0, 1, 1)x(2, 0, 0, 12)- AIC:527.2490213504843\n",
      " \n"
     ]
    },
    {
     "name": "stderr",
     "output_type": "stream",
     "text": [
      "D:\\anaconda\\lib\\site-packages\\statsmodels\\base\\model.py:568: ConvergenceWarning: Maximum Likelihood optimization failed to converge. Check mle_retvals\n",
      "  ConvergenceWarning)\n"
     ]
    },
    {
     "name": "stdout",
     "output_type": "stream",
     "text": [
      "ARIMA(0, 1, 1)x(2, 0, 1, 12)- AIC:530.3783929307144\n",
      " \n"
     ]
    },
    {
     "name": "stderr",
     "output_type": "stream",
     "text": [
      "D:\\anaconda\\lib\\site-packages\\statsmodels\\base\\model.py:568: ConvergenceWarning: Maximum Likelihood optimization failed to converge. Check mle_retvals\n",
      "  ConvergenceWarning)\n"
     ]
    },
    {
     "name": "stdout",
     "output_type": "stream",
     "text": [
      "ARIMA(0, 1, 1)x(2, 0, 2, 12)- AIC:544.5229314494273\n",
      " \n"
     ]
    },
    {
     "name": "stderr",
     "output_type": "stream",
     "text": [
      "D:\\anaconda\\lib\\site-packages\\statsmodels\\base\\model.py:568: ConvergenceWarning: Maximum Likelihood optimization failed to converge. Check mle_retvals\n",
      "  ConvergenceWarning)\n"
     ]
    },
    {
     "name": "stdout",
     "output_type": "stream",
     "text": [
      "ARIMA(0, 1, 1)x(2, 1, 0, 12)- AIC:488.6535855663564\n",
      " \n"
     ]
    },
    {
     "name": "stderr",
     "output_type": "stream",
     "text": [
      "D:\\anaconda\\lib\\site-packages\\statsmodels\\base\\model.py:568: ConvergenceWarning: Maximum Likelihood optimization failed to converge. Check mle_retvals\n",
      "  ConvergenceWarning)\n"
     ]
    },
    {
     "name": "stdout",
     "output_type": "stream",
     "text": [
      "ARIMA(0, 1, 1)x(2, 1, 1, 12)- AIC:490.96206042504093\n",
      " \n"
     ]
    },
    {
     "name": "stderr",
     "output_type": "stream",
     "text": [
      "D:\\anaconda\\lib\\site-packages\\statsmodels\\base\\model.py:568: ConvergenceWarning: Maximum Likelihood optimization failed to converge. Check mle_retvals\n",
      "  ConvergenceWarning)\n"
     ]
    },
    {
     "name": "stdout",
     "output_type": "stream",
     "text": [
      "ARIMA(0, 1, 1)x(2, 1, 2, 12)- AIC:491.79185347674337\n",
      " \n"
     ]
    },
    {
     "name": "stderr",
     "output_type": "stream",
     "text": [
      "D:\\anaconda\\lib\\site-packages\\statsmodels\\base\\model.py:568: ConvergenceWarning: Maximum Likelihood optimization failed to converge. Check mle_retvals\n",
      "  ConvergenceWarning)\n"
     ]
    },
    {
     "name": "stdout",
     "output_type": "stream",
     "text": [
      "ARIMA(0, 1, 2)x(0, 0, 0, 12)- AIC:530.0315242557691\n",
      " \n"
     ]
    },
    {
     "name": "stderr",
     "output_type": "stream",
     "text": [
      "D:\\anaconda\\lib\\site-packages\\statsmodels\\base\\model.py:568: ConvergenceWarning: Maximum Likelihood optimization failed to converge. Check mle_retvals\n",
      "  ConvergenceWarning)\n"
     ]
    },
    {
     "name": "stdout",
     "output_type": "stream",
     "text": [
      "ARIMA(0, 1, 2)x(0, 0, 1, 12)- AIC:527.4112436037591\n",
      " \n"
     ]
    },
    {
     "name": "stderr",
     "output_type": "stream",
     "text": [
      "D:\\anaconda\\lib\\site-packages\\statsmodels\\base\\model.py:568: ConvergenceWarning: Maximum Likelihood optimization failed to converge. Check mle_retvals\n",
      "  ConvergenceWarning)\n"
     ]
    },
    {
     "name": "stdout",
     "output_type": "stream",
     "text": [
      "ARIMA(0, 1, 2)x(0, 0, 2, 12)- AIC:541.5261148526846\n",
      " \n"
     ]
    },
    {
     "name": "stderr",
     "output_type": "stream",
     "text": [
      "D:\\anaconda\\lib\\site-packages\\statsmodels\\base\\model.py:568: ConvergenceWarning: Maximum Likelihood optimization failed to converge. Check mle_retvals\n",
      "  ConvergenceWarning)\n"
     ]
    },
    {
     "name": "stdout",
     "output_type": "stream",
     "text": [
      "ARIMA(0, 1, 2)x(0, 1, 0, 12)- AIC:492.63029555206685\n",
      " \n"
     ]
    },
    {
     "name": "stderr",
     "output_type": "stream",
     "text": [
      "D:\\anaconda\\lib\\site-packages\\statsmodels\\base\\model.py:568: ConvergenceWarning: Maximum Likelihood optimization failed to converge. Check mle_retvals\n",
      "  ConvergenceWarning)\n"
     ]
    },
    {
     "name": "stdout",
     "output_type": "stream",
     "text": [
      "ARIMA(0, 1, 2)x(0, 1, 1, 12)- AIC:492.5095958575289\n",
      " \n"
     ]
    },
    {
     "name": "stderr",
     "output_type": "stream",
     "text": [
      "D:\\anaconda\\lib\\site-packages\\statsmodels\\base\\model.py:568: ConvergenceWarning: Maximum Likelihood optimization failed to converge. Check mle_retvals\n",
      "  ConvergenceWarning)\n"
     ]
    },
    {
     "name": "stdout",
     "output_type": "stream",
     "text": [
      "ARIMA(0, 1, 2)x(0, 1, 2, 12)- AIC:488.95652677526425\n",
      " \n"
     ]
    },
    {
     "name": "stderr",
     "output_type": "stream",
     "text": [
      "D:\\anaconda\\lib\\site-packages\\statsmodels\\base\\model.py:568: ConvergenceWarning: Maximum Likelihood optimization failed to converge. Check mle_retvals\n",
      "  ConvergenceWarning)\n"
     ]
    },
    {
     "name": "stdout",
     "output_type": "stream",
     "text": [
      "ARIMA(0, 1, 2)x(1, 0, 0, 12)- AIC:526.9399753163311\n",
      " \n"
     ]
    },
    {
     "name": "stderr",
     "output_type": "stream",
     "text": [
      "D:\\anaconda\\lib\\site-packages\\statsmodels\\base\\model.py:568: ConvergenceWarning: Maximum Likelihood optimization failed to converge. Check mle_retvals\n",
      "  ConvergenceWarning)\n"
     ]
    },
    {
     "name": "stdout",
     "output_type": "stream",
     "text": [
      "ARIMA(0, 1, 2)x(1, 0, 1, 12)- AIC:528.959020667248\n",
      " \n"
     ]
    },
    {
     "name": "stderr",
     "output_type": "stream",
     "text": [
      "D:\\anaconda\\lib\\site-packages\\statsmodels\\base\\model.py:568: ConvergenceWarning: Maximum Likelihood optimization failed to converge. Check mle_retvals\n",
      "  ConvergenceWarning)\n"
     ]
    },
    {
     "name": "stdout",
     "output_type": "stream",
     "text": [
      "ARIMA(0, 1, 2)x(1, 0, 2, 12)- AIC:543.0750778055885\n",
      " \n"
     ]
    },
    {
     "name": "stderr",
     "output_type": "stream",
     "text": [
      "D:\\anaconda\\lib\\site-packages\\statsmodels\\base\\model.py:568: ConvergenceWarning: Maximum Likelihood optimization failed to converge. Check mle_retvals\n",
      "  ConvergenceWarning)\n"
     ]
    },
    {
     "name": "stdout",
     "output_type": "stream",
     "text": [
      "ARIMA(0, 1, 2)x(1, 1, 0, 12)- AIC:492.97544855999917\n",
      " \n"
     ]
    },
    {
     "name": "stderr",
     "output_type": "stream",
     "text": [
      "D:\\anaconda\\lib\\site-packages\\statsmodels\\base\\model.py:568: ConvergenceWarning: Maximum Likelihood optimization failed to converge. Check mle_retvals\n",
      "  ConvergenceWarning)\n"
     ]
    },
    {
     "name": "stdout",
     "output_type": "stream",
     "text": [
      "ARIMA(0, 1, 2)x(1, 1, 1, 12)- AIC:494.19607603589\n",
      " \n"
     ]
    },
    {
     "name": "stderr",
     "output_type": "stream",
     "text": [
      "D:\\anaconda\\lib\\site-packages\\statsmodels\\base\\model.py:568: ConvergenceWarning: Maximum Likelihood optimization failed to converge. Check mle_retvals\n",
      "  ConvergenceWarning)\n"
     ]
    },
    {
     "name": "stdout",
     "output_type": "stream",
     "text": [
      "ARIMA(0, 1, 2)x(1, 1, 2, 12)- AIC:491.1266693216082\n",
      " \n"
     ]
    },
    {
     "name": "stderr",
     "output_type": "stream",
     "text": [
      "D:\\anaconda\\lib\\site-packages\\statsmodels\\base\\model.py:568: ConvergenceWarning: Maximum Likelihood optimization failed to converge. Check mle_retvals\n",
      "  ConvergenceWarning)\n"
     ]
    },
    {
     "name": "stdout",
     "output_type": "stream",
     "text": [
      "ARIMA(0, 1, 2)x(2, 0, 0, 12)- AIC:528.7798976196832\n",
      " \n"
     ]
    },
    {
     "name": "stderr",
     "output_type": "stream",
     "text": [
      "D:\\anaconda\\lib\\site-packages\\statsmodels\\base\\model.py:568: ConvergenceWarning: Maximum Likelihood optimization failed to converge. Check mle_retvals\n",
      "  ConvergenceWarning)\n"
     ]
    },
    {
     "name": "stdout",
     "output_type": "stream",
     "text": [
      "ARIMA(0, 1, 2)x(2, 0, 1, 12)- AIC:531.9684775213258\n",
      " \n"
     ]
    },
    {
     "name": "stderr",
     "output_type": "stream",
     "text": [
      "D:\\anaconda\\lib\\site-packages\\statsmodels\\base\\model.py:568: ConvergenceWarning: Maximum Likelihood optimization failed to converge. Check mle_retvals\n",
      "  ConvergenceWarning)\n"
     ]
    },
    {
     "name": "stdout",
     "output_type": "stream",
     "text": [
      "ARIMA(0, 1, 2)x(2, 0, 2, 12)- AIC:546.4081642604207\n",
      " \n"
     ]
    },
    {
     "name": "stderr",
     "output_type": "stream",
     "text": [
      "D:\\anaconda\\lib\\site-packages\\statsmodels\\base\\model.py:568: ConvergenceWarning: Maximum Likelihood optimization failed to converge. Check mle_retvals\n",
      "  ConvergenceWarning)\n"
     ]
    },
    {
     "name": "stdout",
     "output_type": "stream",
     "text": [
      "ARIMA(0, 1, 2)x(2, 1, 0, 12)- AIC:490.53382522834795\n",
      " \n"
     ]
    },
    {
     "name": "stderr",
     "output_type": "stream",
     "text": [
      "D:\\anaconda\\lib\\site-packages\\statsmodels\\base\\model.py:568: ConvergenceWarning: Maximum Likelihood optimization failed to converge. Check mle_retvals\n",
      "  ConvergenceWarning)\n"
     ]
    },
    {
     "name": "stdout",
     "output_type": "stream",
     "text": [
      "ARIMA(0, 1, 2)x(2, 1, 1, 12)- AIC:492.8333700941931\n",
      " \n"
     ]
    },
    {
     "name": "stderr",
     "output_type": "stream",
     "text": [
      "D:\\anaconda\\lib\\site-packages\\statsmodels\\base\\model.py:568: ConvergenceWarning: Maximum Likelihood optimization failed to converge. Check mle_retvals\n",
      "  ConvergenceWarning)\n"
     ]
    },
    {
     "name": "stdout",
     "output_type": "stream",
     "text": [
      "ARIMA(0, 1, 2)x(2, 1, 2, 12)- AIC:493.730161692644\n",
      " \n"
     ]
    },
    {
     "name": "stderr",
     "output_type": "stream",
     "text": [
      "D:\\anaconda\\lib\\site-packages\\statsmodels\\base\\model.py:568: ConvergenceWarning: Maximum Likelihood optimization failed to converge. Check mle_retvals\n",
      "  ConvergenceWarning)\n"
     ]
    },
    {
     "name": "stdout",
     "output_type": "stream",
     "text": [
      "ARIMA(1, 0, 0)x(0, 0, 0, 12)- AIC:515.2325952814308\n",
      " \n"
     ]
    },
    {
     "name": "stderr",
     "output_type": "stream",
     "text": [
      "D:\\anaconda\\lib\\site-packages\\statsmodels\\base\\model.py:568: ConvergenceWarning: Maximum Likelihood optimization failed to converge. Check mle_retvals\n",
      "  ConvergenceWarning)\n"
     ]
    },
    {
     "name": "stdout",
     "output_type": "stream",
     "text": [
      "ARIMA(1, 0, 0)x(0, 0, 1, 12)- AIC:511.61905462082336\n",
      " \n"
     ]
    },
    {
     "name": "stderr",
     "output_type": "stream",
     "text": [
      "D:\\anaconda\\lib\\site-packages\\statsmodels\\base\\model.py:568: ConvergenceWarning: Maximum Likelihood optimization failed to converge. Check mle_retvals\n",
      "  ConvergenceWarning)\n"
     ]
    },
    {
     "name": "stdout",
     "output_type": "stream",
     "text": [
      "ARIMA(1, 0, 0)x(0, 0, 2, 12)- AIC:515.2961258218787\n",
      " \n"
     ]
    },
    {
     "name": "stderr",
     "output_type": "stream",
     "text": [
      "D:\\anaconda\\lib\\site-packages\\statsmodels\\base\\model.py:568: ConvergenceWarning: Maximum Likelihood optimization failed to converge. Check mle_retvals\n",
      "  ConvergenceWarning)\n"
     ]
    },
    {
     "name": "stdout",
     "output_type": "stream",
     "text": [
      "ARIMA(1, 0, 0)x(0, 1, 0, 12)- AIC:485.8863861334786\n",
      " \n"
     ]
    },
    {
     "name": "stderr",
     "output_type": "stream",
     "text": [
      "D:\\anaconda\\lib\\site-packages\\statsmodels\\base\\model.py:568: ConvergenceWarning: Maximum Likelihood optimization failed to converge. Check mle_retvals\n",
      "  ConvergenceWarning)\n"
     ]
    },
    {
     "name": "stdout",
     "output_type": "stream",
     "text": [
      "ARIMA(1, 0, 0)x(0, 1, 1, 12)- AIC:477.50141221433796\n",
      " \n"
     ]
    },
    {
     "name": "stderr",
     "output_type": "stream",
     "text": [
      "D:\\anaconda\\lib\\site-packages\\statsmodels\\base\\model.py:568: ConvergenceWarning: Maximum Likelihood optimization failed to converge. Check mle_retvals\n",
      "  ConvergenceWarning)\n"
     ]
    },
    {
     "name": "stdout",
     "output_type": "stream",
     "text": [
      "ARIMA(1, 0, 0)x(0, 1, 2, 12)- AIC:479.76206625769083\n",
      " \n"
     ]
    },
    {
     "name": "stderr",
     "output_type": "stream",
     "text": [
      "D:\\anaconda\\lib\\site-packages\\statsmodels\\base\\model.py:568: ConvergenceWarning: Maximum Likelihood optimization failed to converge. Check mle_retvals\n",
      "  ConvergenceWarning)\n"
     ]
    },
    {
     "name": "stdout",
     "output_type": "stream",
     "text": [
      "ARIMA(1, 0, 0)x(1, 0, 0, 12)- AIC:508.1906094918338\n",
      " \n"
     ]
    },
    {
     "name": "stderr",
     "output_type": "stream",
     "text": [
      "D:\\anaconda\\lib\\site-packages\\statsmodels\\base\\model.py:568: ConvergenceWarning: Maximum Likelihood optimization failed to converge. Check mle_retvals\n",
      "  ConvergenceWarning)\n"
     ]
    },
    {
     "name": "stdout",
     "output_type": "stream",
     "text": [
      "ARIMA(1, 0, 0)x(1, 0, 1, 12)- AIC:510.5286789110122\n",
      " \n"
     ]
    },
    {
     "name": "stderr",
     "output_type": "stream",
     "text": [
      "D:\\anaconda\\lib\\site-packages\\statsmodels\\base\\model.py:568: ConvergenceWarning: Maximum Likelihood optimization failed to converge. Check mle_retvals\n",
      "  ConvergenceWarning)\n"
     ]
    },
    {
     "name": "stdout",
     "output_type": "stream",
     "text": [
      "ARIMA(1, 0, 0)x(1, 0, 2, 12)- AIC:515.3141499014511\n",
      " \n"
     ]
    },
    {
     "name": "stderr",
     "output_type": "stream",
     "text": [
      "D:\\anaconda\\lib\\site-packages\\statsmodels\\base\\model.py:568: ConvergenceWarning: Maximum Likelihood optimization failed to converge. Check mle_retvals\n",
      "  ConvergenceWarning)\n"
     ]
    },
    {
     "name": "stdout",
     "output_type": "stream",
     "text": [
      "ARIMA(1, 0, 0)x(1, 1, 0, 12)- AIC:479.670738125074\n",
      " \n"
     ]
    },
    {
     "name": "stderr",
     "output_type": "stream",
     "text": [
      "D:\\anaconda\\lib\\site-packages\\statsmodels\\base\\model.py:568: ConvergenceWarning: Maximum Likelihood optimization failed to converge. Check mle_retvals\n",
      "  ConvergenceWarning)\n"
     ]
    },
    {
     "name": "stdout",
     "output_type": "stream",
     "text": [
      "ARIMA(1, 0, 0)x(1, 1, 1, 12)- AIC:478.8023658025532\n",
      " \n"
     ]
    },
    {
     "name": "stderr",
     "output_type": "stream",
     "text": [
      "D:\\anaconda\\lib\\site-packages\\statsmodels\\base\\model.py:568: ConvergenceWarning: Maximum Likelihood optimization failed to converge. Check mle_retvals\n",
      "  ConvergenceWarning)\n"
     ]
    },
    {
     "name": "stdout",
     "output_type": "stream",
     "text": [
      "ARIMA(1, 0, 0)x(1, 1, 2, 12)- AIC:481.9923245522512\n",
      " \n"
     ]
    },
    {
     "name": "stderr",
     "output_type": "stream",
     "text": [
      "D:\\anaconda\\lib\\site-packages\\statsmodels\\base\\model.py:568: ConvergenceWarning: Maximum Likelihood optimization failed to converge. Check mle_retvals\n",
      "  ConvergenceWarning)\n"
     ]
    },
    {
     "name": "stdout",
     "output_type": "stream",
     "text": [
      "ARIMA(1, 0, 0)x(2, 0, 0, 12)- AIC:507.50370245438444\n",
      " \n"
     ]
    },
    {
     "name": "stderr",
     "output_type": "stream",
     "text": [
      "D:\\anaconda\\lib\\site-packages\\statsmodels\\base\\model.py:568: ConvergenceWarning: Maximum Likelihood optimization failed to converge. Check mle_retvals\n",
      "  ConvergenceWarning)\n"
     ]
    },
    {
     "name": "stdout",
     "output_type": "stream",
     "text": [
      "ARIMA(1, 0, 0)x(2, 0, 1, 12)- AIC:510.230842291027\n",
      " \n"
     ]
    },
    {
     "name": "stderr",
     "output_type": "stream",
     "text": [
      "D:\\anaconda\\lib\\site-packages\\statsmodels\\base\\model.py:568: ConvergenceWarning: Maximum Likelihood optimization failed to converge. Check mle_retvals\n",
      "  ConvergenceWarning)\n"
     ]
    },
    {
     "name": "stdout",
     "output_type": "stream",
     "text": [
      "ARIMA(1, 0, 0)x(2, 0, 2, 12)- AIC:517.6391193363934\n",
      " \n"
     ]
    },
    {
     "name": "stderr",
     "output_type": "stream",
     "text": [
      "D:\\anaconda\\lib\\site-packages\\statsmodels\\base\\model.py:568: ConvergenceWarning: Maximum Likelihood optimization failed to converge. Check mle_retvals\n",
      "  ConvergenceWarning)\n"
     ]
    },
    {
     "name": "stdout",
     "output_type": "stream",
     "text": [
      "ARIMA(1, 0, 0)x(2, 1, 0, 12)- AIC:477.9292413125644\n",
      " \n"
     ]
    },
    {
     "name": "stderr",
     "output_type": "stream",
     "text": [
      "D:\\anaconda\\lib\\site-packages\\statsmodels\\base\\model.py:568: ConvergenceWarning: Maximum Likelihood optimization failed to converge. Check mle_retvals\n",
      "  ConvergenceWarning)\n"
     ]
    },
    {
     "name": "stdout",
     "output_type": "stream",
     "text": [
      "ARIMA(1, 0, 0)x(2, 1, 1, 12)- AIC:479.1619351857837\n",
      " \n"
     ]
    },
    {
     "name": "stderr",
     "output_type": "stream",
     "text": [
      "D:\\anaconda\\lib\\site-packages\\statsmodels\\base\\model.py:568: ConvergenceWarning: Maximum Likelihood optimization failed to converge. Check mle_retvals\n",
      "  ConvergenceWarning)\n"
     ]
    },
    {
     "name": "stdout",
     "output_type": "stream",
     "text": [
      "ARIMA(1, 0, 0)x(2, 1, 2, 12)- AIC:485.35988604355293\n",
      " \n"
     ]
    },
    {
     "name": "stderr",
     "output_type": "stream",
     "text": [
      "D:\\anaconda\\lib\\site-packages\\statsmodels\\base\\model.py:568: ConvergenceWarning: Maximum Likelihood optimization failed to converge. Check mle_retvals\n",
      "  ConvergenceWarning)\n"
     ]
    },
    {
     "name": "stdout",
     "output_type": "stream",
     "text": [
      "ARIMA(1, 0, 1)x(0, 0, 0, 12)- AIC:517.2162416868331\n",
      " \n"
     ]
    },
    {
     "name": "stderr",
     "output_type": "stream",
     "text": [
      "D:\\anaconda\\lib\\site-packages\\statsmodels\\base\\model.py:568: ConvergenceWarning: Maximum Likelihood optimization failed to converge. Check mle_retvals\n",
      "  ConvergenceWarning)\n"
     ]
    },
    {
     "name": "stdout",
     "output_type": "stream",
     "text": [
      "ARIMA(1, 0, 1)x(0, 0, 1, 12)- AIC:513.8484816496502\n",
      " \n"
     ]
    },
    {
     "name": "stderr",
     "output_type": "stream",
     "text": [
      "D:\\anaconda\\lib\\site-packages\\statsmodels\\base\\model.py:568: ConvergenceWarning: Maximum Likelihood optimization failed to converge. Check mle_retvals\n",
      "  ConvergenceWarning)\n"
     ]
    },
    {
     "name": "stdout",
     "output_type": "stream",
     "text": [
      "ARIMA(1, 0, 1)x(0, 0, 2, 12)- AIC:517.5772657552492\n",
      " \n"
     ]
    },
    {
     "name": "stderr",
     "output_type": "stream",
     "text": [
      "D:\\anaconda\\lib\\site-packages\\statsmodels\\base\\model.py:568: ConvergenceWarning: Maximum Likelihood optimization failed to converge. Check mle_retvals\n",
      "  ConvergenceWarning)\n"
     ]
    },
    {
     "name": "stdout",
     "output_type": "stream",
     "text": [
      "ARIMA(1, 0, 1)x(0, 1, 0, 12)- AIC:487.8758852457329\n",
      " \n"
     ]
    },
    {
     "name": "stderr",
     "output_type": "stream",
     "text": [
      "D:\\anaconda\\lib\\site-packages\\statsmodels\\base\\model.py:568: ConvergenceWarning: Maximum Likelihood optimization failed to converge. Check mle_retvals\n",
      "  ConvergenceWarning)\n"
     ]
    },
    {
     "name": "stdout",
     "output_type": "stream",
     "text": [
      "ARIMA(1, 0, 1)x(0, 1, 1, 12)- AIC:479.6680963179523\n",
      " \n"
     ]
    },
    {
     "name": "stderr",
     "output_type": "stream",
     "text": [
      "D:\\anaconda\\lib\\site-packages\\statsmodels\\base\\model.py:568: ConvergenceWarning: Maximum Likelihood optimization failed to converge. Check mle_retvals\n",
      "  ConvergenceWarning)\n"
     ]
    },
    {
     "name": "stdout",
     "output_type": "stream",
     "text": [
      "ARIMA(1, 0, 1)x(0, 1, 2, 12)- AIC:481.93472760569273\n",
      " \n"
     ]
    },
    {
     "name": "stderr",
     "output_type": "stream",
     "text": [
      "D:\\anaconda\\lib\\site-packages\\statsmodels\\base\\model.py:568: ConvergenceWarning: Maximum Likelihood optimization failed to converge. Check mle_retvals\n",
      "  ConvergenceWarning)\n"
     ]
    },
    {
     "name": "stdout",
     "output_type": "stream",
     "text": [
      "ARIMA(1, 0, 1)x(1, 0, 0, 12)- AIC:510.43775060608334\n",
      " \n"
     ]
    },
    {
     "name": "stderr",
     "output_type": "stream",
     "text": [
      "D:\\anaconda\\lib\\site-packages\\statsmodels\\base\\model.py:568: ConvergenceWarning: Maximum Likelihood optimization failed to converge. Check mle_retvals\n",
      "  ConvergenceWarning)\n"
     ]
    },
    {
     "name": "stdout",
     "output_type": "stream",
     "text": [
      "ARIMA(1, 0, 1)x(1, 0, 1, 12)- AIC:512.8004344736743\n",
      " \n"
     ]
    },
    {
     "name": "stderr",
     "output_type": "stream",
     "text": [
      "D:\\anaconda\\lib\\site-packages\\statsmodels\\base\\model.py:568: ConvergenceWarning: Maximum Likelihood optimization failed to converge. Check mle_retvals\n",
      "  ConvergenceWarning)\n"
     ]
    },
    {
     "name": "stdout",
     "output_type": "stream",
     "text": [
      "ARIMA(1, 0, 1)x(1, 0, 2, 12)- AIC:517.6526582565971\n",
      " \n"
     ]
    },
    {
     "name": "stderr",
     "output_type": "stream",
     "text": [
      "D:\\anaconda\\lib\\site-packages\\statsmodels\\base\\model.py:568: ConvergenceWarning: Maximum Likelihood optimization failed to converge. Check mle_retvals\n",
      "  ConvergenceWarning)\n"
     ]
    },
    {
     "name": "stdout",
     "output_type": "stream",
     "text": [
      "ARIMA(1, 0, 1)x(1, 1, 0, 12)- AIC:481.7946483507862\n",
      " \n"
     ]
    },
    {
     "name": "stderr",
     "output_type": "stream",
     "text": [
      "D:\\anaconda\\lib\\site-packages\\statsmodels\\base\\model.py:568: ConvergenceWarning: Maximum Likelihood optimization failed to converge. Check mle_retvals\n",
      "  ConvergenceWarning)\n"
     ]
    },
    {
     "name": "stdout",
     "output_type": "stream",
     "text": [
      "ARIMA(1, 0, 1)x(1, 1, 1, 12)- AIC:480.9834484720868\n",
      " \n"
     ]
    },
    {
     "name": "stderr",
     "output_type": "stream",
     "text": [
      "D:\\anaconda\\lib\\site-packages\\statsmodels\\base\\model.py:568: ConvergenceWarning: Maximum Likelihood optimization failed to converge. Check mle_retvals\n",
      "  ConvergenceWarning)\n"
     ]
    },
    {
     "name": "stdout",
     "output_type": "stream",
     "text": [
      "ARIMA(1, 0, 1)x(1, 1, 2, 12)- AIC:484.1605762376536\n",
      " \n"
     ]
    },
    {
     "name": "stderr",
     "output_type": "stream",
     "text": [
      "D:\\anaconda\\lib\\site-packages\\statsmodels\\base\\model.py:568: ConvergenceWarning: Maximum Likelihood optimization failed to converge. Check mle_retvals\n",
      "  ConvergenceWarning)\n"
     ]
    },
    {
     "name": "stdout",
     "output_type": "stream",
     "text": [
      "ARIMA(1, 0, 1)x(2, 0, 0, 12)- AIC:509.8240781546966\n",
      " \n"
     ]
    },
    {
     "name": "stderr",
     "output_type": "stream",
     "text": [
      "D:\\anaconda\\lib\\site-packages\\statsmodels\\base\\model.py:568: ConvergenceWarning: Maximum Likelihood optimization failed to converge. Check mle_retvals\n",
      "  ConvergenceWarning)\n"
     ]
    },
    {
     "name": "stdout",
     "output_type": "stream",
     "text": [
      "ARIMA(1, 0, 1)x(2, 0, 1, 12)- AIC:512.5454170397306\n",
      " \n"
     ]
    },
    {
     "name": "stderr",
     "output_type": "stream",
     "text": [
      "D:\\anaconda\\lib\\site-packages\\statsmodels\\base\\model.py:568: ConvergenceWarning: Maximum Likelihood optimization failed to converge. Check mle_retvals\n",
      "  ConvergenceWarning)\n"
     ]
    },
    {
     "name": "stdout",
     "output_type": "stream",
     "text": [
      "ARIMA(1, 0, 1)x(2, 0, 2, 12)- AIC:519.9851125961151\n",
      " \n"
     ]
    },
    {
     "name": "stderr",
     "output_type": "stream",
     "text": [
      "D:\\anaconda\\lib\\site-packages\\statsmodels\\base\\model.py:568: ConvergenceWarning: Maximum Likelihood optimization failed to converge. Check mle_retvals\n",
      "  ConvergenceWarning)\n"
     ]
    },
    {
     "name": "stdout",
     "output_type": "stream",
     "text": [
      "ARIMA(1, 0, 1)x(2, 1, 0, 12)- AIC:480.14374689108865\n",
      " \n"
     ]
    },
    {
     "name": "stderr",
     "output_type": "stream",
     "text": [
      "D:\\anaconda\\lib\\site-packages\\statsmodels\\base\\model.py:568: ConvergenceWarning: Maximum Likelihood optimization failed to converge. Check mle_retvals\n",
      "  ConvergenceWarning)\n"
     ]
    },
    {
     "name": "stdout",
     "output_type": "stream",
     "text": [
      "ARIMA(1, 0, 1)x(2, 1, 1, 12)- AIC:481.3957663725479\n",
      " \n"
     ]
    },
    {
     "name": "stderr",
     "output_type": "stream",
     "text": [
      "D:\\anaconda\\lib\\site-packages\\statsmodels\\base\\model.py:568: ConvergenceWarning: Maximum Likelihood optimization failed to converge. Check mle_retvals\n",
      "  ConvergenceWarning)\n"
     ]
    },
    {
     "name": "stdout",
     "output_type": "stream",
     "text": [
      "ARIMA(1, 0, 1)x(2, 1, 2, 12)- AIC:487.5025624293694\n",
      " \n"
     ]
    },
    {
     "name": "stderr",
     "output_type": "stream",
     "text": [
      "D:\\anaconda\\lib\\site-packages\\statsmodels\\base\\model.py:568: ConvergenceWarning: Maximum Likelihood optimization failed to converge. Check mle_retvals\n",
      "  ConvergenceWarning)\n"
     ]
    },
    {
     "name": "stdout",
     "output_type": "stream",
     "text": [
      "ARIMA(1, 0, 2)x(0, 0, 0, 12)- AIC:519.965683611726\n",
      " \n"
     ]
    },
    {
     "name": "stderr",
     "output_type": "stream",
     "text": [
      "D:\\anaconda\\lib\\site-packages\\statsmodels\\base\\model.py:568: ConvergenceWarning: Maximum Likelihood optimization failed to converge. Check mle_retvals\n",
      "  ConvergenceWarning)\n"
     ]
    },
    {
     "name": "stdout",
     "output_type": "stream",
     "text": [
      "ARIMA(1, 0, 2)x(0, 0, 1, 12)- AIC:515.8766301263746\n",
      " \n"
     ]
    },
    {
     "name": "stderr",
     "output_type": "stream",
     "text": [
      "D:\\anaconda\\lib\\site-packages\\statsmodels\\base\\model.py:568: ConvergenceWarning: Maximum Likelihood optimization failed to converge. Check mle_retvals\n",
      "  ConvergenceWarning)\n"
     ]
    },
    {
     "name": "stdout",
     "output_type": "stream",
     "text": [
      "ARIMA(1, 0, 2)x(0, 0, 2, 12)- AIC:519.2912917961796\n",
      " \n"
     ]
    },
    {
     "name": "stderr",
     "output_type": "stream",
     "text": [
      "D:\\anaconda\\lib\\site-packages\\statsmodels\\base\\model.py:568: ConvergenceWarning: Maximum Likelihood optimization failed to converge. Check mle_retvals\n",
      "  ConvergenceWarning)\n"
     ]
    },
    {
     "name": "stdout",
     "output_type": "stream",
     "text": [
      "ARIMA(1, 0, 2)x(0, 1, 0, 12)- AIC:489.13859754449004\n",
      " \n"
     ]
    },
    {
     "name": "stderr",
     "output_type": "stream",
     "text": [
      "D:\\anaconda\\lib\\site-packages\\statsmodels\\base\\model.py:568: ConvergenceWarning: Maximum Likelihood optimization failed to converge. Check mle_retvals\n",
      "  ConvergenceWarning)\n"
     ]
    },
    {
     "name": "stdout",
     "output_type": "stream",
     "text": [
      "ARIMA(1, 0, 2)x(0, 1, 1, 12)- AIC:480.8580511400487\n",
      " \n"
     ]
    },
    {
     "name": "stderr",
     "output_type": "stream",
     "text": [
      "D:\\anaconda\\lib\\site-packages\\statsmodels\\base\\model.py:568: ConvergenceWarning: Maximum Likelihood optimization failed to converge. Check mle_retvals\n",
      "  ConvergenceWarning)\n"
     ]
    },
    {
     "name": "stdout",
     "output_type": "stream",
     "text": [
      "ARIMA(1, 0, 2)x(0, 1, 2, 12)- AIC:483.06580473773306\n",
      " \n"
     ]
    },
    {
     "name": "stderr",
     "output_type": "stream",
     "text": [
      "D:\\anaconda\\lib\\site-packages\\statsmodels\\base\\model.py:568: ConvergenceWarning: Maximum Likelihood optimization failed to converge. Check mle_retvals\n",
      "  ConvergenceWarning)\n"
     ]
    },
    {
     "name": "stdout",
     "output_type": "stream",
     "text": [
      "ARIMA(1, 0, 2)x(1, 0, 0, 12)- AIC:512.2893279115355\n",
      " \n"
     ]
    },
    {
     "name": "stderr",
     "output_type": "stream",
     "text": [
      "D:\\anaconda\\lib\\site-packages\\statsmodels\\base\\model.py:568: ConvergenceWarning: Maximum Likelihood optimization failed to converge. Check mle_retvals\n",
      "  ConvergenceWarning)\n"
     ]
    },
    {
     "name": "stdout",
     "output_type": "stream",
     "text": [
      "ARIMA(1, 0, 2)x(1, 0, 1, 12)- AIC:514.5991343669511\n",
      " \n"
     ]
    },
    {
     "name": "stderr",
     "output_type": "stream",
     "text": [
      "D:\\anaconda\\lib\\site-packages\\statsmodels\\base\\model.py:568: ConvergenceWarning: Maximum Likelihood optimization failed to converge. Check mle_retvals\n",
      "  ConvergenceWarning)\n"
     ]
    },
    {
     "name": "stdout",
     "output_type": "stream",
     "text": [
      "ARIMA(1, 0, 2)x(1, 0, 2, 12)- AIC:519.2748590968428\n",
      " \n"
     ]
    },
    {
     "name": "stderr",
     "output_type": "stream",
     "text": [
      "D:\\anaconda\\lib\\site-packages\\statsmodels\\base\\model.py:568: ConvergenceWarning: Maximum Likelihood optimization failed to converge. Check mle_retvals\n",
      "  ConvergenceWarning)\n"
     ]
    },
    {
     "name": "stdout",
     "output_type": "stream",
     "text": [
      "ARIMA(1, 0, 2)x(1, 1, 0, 12)- AIC:483.0202387907475\n",
      " \n"
     ]
    },
    {
     "name": "stderr",
     "output_type": "stream",
     "text": [
      "D:\\anaconda\\lib\\site-packages\\statsmodels\\base\\model.py:568: ConvergenceWarning: Maximum Likelihood optimization failed to converge. Check mle_retvals\n",
      "  ConvergenceWarning)\n"
     ]
    },
    {
     "name": "stdout",
     "output_type": "stream",
     "text": [
      "ARIMA(1, 0, 2)x(1, 1, 1, 12)- AIC:482.1550606078586\n",
      " \n"
     ]
    },
    {
     "name": "stderr",
     "output_type": "stream",
     "text": [
      "D:\\anaconda\\lib\\site-packages\\statsmodels\\base\\model.py:568: ConvergenceWarning: Maximum Likelihood optimization failed to converge. Check mle_retvals\n",
      "  ConvergenceWarning)\n"
     ]
    },
    {
     "name": "stdout",
     "output_type": "stream",
     "text": [
      "ARIMA(1, 0, 2)x(1, 1, 2, 12)- AIC:485.3004014287138\n",
      " \n"
     ]
    },
    {
     "name": "stderr",
     "output_type": "stream",
     "text": [
      "D:\\anaconda\\lib\\site-packages\\statsmodels\\base\\model.py:568: ConvergenceWarning: Maximum Likelihood optimization failed to converge. Check mle_retvals\n",
      "  ConvergenceWarning)\n"
     ]
    },
    {
     "name": "stdout",
     "output_type": "stream",
     "text": [
      "ARIMA(1, 0, 2)x(2, 0, 0, 12)- AIC:511.34320287456853\n",
      " \n"
     ]
    },
    {
     "name": "stderr",
     "output_type": "stream",
     "text": [
      "D:\\anaconda\\lib\\site-packages\\statsmodels\\base\\model.py:568: ConvergenceWarning: Maximum Likelihood optimization failed to converge. Check mle_retvals\n",
      "  ConvergenceWarning)\n"
     ]
    },
    {
     "name": "stdout",
     "output_type": "stream",
     "text": [
      "ARIMA(1, 0, 2)x(2, 0, 1, 12)- AIC:514.110286357534\n",
      " \n"
     ]
    },
    {
     "name": "stderr",
     "output_type": "stream",
     "text": [
      "D:\\anaconda\\lib\\site-packages\\statsmodels\\base\\model.py:568: ConvergenceWarning: Maximum Likelihood optimization failed to converge. Check mle_retvals\n",
      "  ConvergenceWarning)\n"
     ]
    },
    {
     "name": "stdout",
     "output_type": "stream",
     "text": [
      "ARIMA(1, 0, 2)x(2, 0, 2, 12)- AIC:521.5818160287342\n",
      " \n"
     ]
    },
    {
     "name": "stderr",
     "output_type": "stream",
     "text": [
      "D:\\anaconda\\lib\\site-packages\\statsmodels\\base\\model.py:568: ConvergenceWarning: Maximum Likelihood optimization failed to converge. Check mle_retvals\n",
      "  ConvergenceWarning)\n"
     ]
    },
    {
     "name": "stdout",
     "output_type": "stream",
     "text": [
      "ARIMA(1, 0, 2)x(2, 1, 0, 12)- AIC:481.3442870026786\n",
      " \n"
     ]
    },
    {
     "name": "stderr",
     "output_type": "stream",
     "text": [
      "D:\\anaconda\\lib\\site-packages\\statsmodels\\base\\model.py:568: ConvergenceWarning: Maximum Likelihood optimization failed to converge. Check mle_retvals\n",
      "  ConvergenceWarning)\n"
     ]
    },
    {
     "name": "stdout",
     "output_type": "stream",
     "text": [
      "ARIMA(1, 0, 2)x(2, 1, 1, 12)- AIC:482.55685739338094\n",
      " \n"
     ]
    },
    {
     "name": "stderr",
     "output_type": "stream",
     "text": [
      "D:\\anaconda\\lib\\site-packages\\statsmodels\\base\\model.py:568: ConvergenceWarning: Maximum Likelihood optimization failed to converge. Check mle_retvals\n",
      "  ConvergenceWarning)\n"
     ]
    },
    {
     "name": "stdout",
     "output_type": "stream",
     "text": [
      "ARIMA(1, 0, 2)x(2, 1, 2, 12)- AIC:488.6773720532684\n",
      " \n"
     ]
    },
    {
     "name": "stderr",
     "output_type": "stream",
     "text": [
      "D:\\anaconda\\lib\\site-packages\\statsmodels\\base\\model.py:568: ConvergenceWarning: Maximum Likelihood optimization failed to converge. Check mle_retvals\n",
      "  ConvergenceWarning)\n"
     ]
    },
    {
     "name": "stdout",
     "output_type": "stream",
     "text": [
      "ARIMA(1, 1, 0)x(0, 0, 0, 12)- AIC:528.9573439296344\n",
      " \n"
     ]
    },
    {
     "name": "stderr",
     "output_type": "stream",
     "text": [
      "D:\\anaconda\\lib\\site-packages\\statsmodels\\base\\model.py:568: ConvergenceWarning: Maximum Likelihood optimization failed to converge. Check mle_retvals\n",
      "  ConvergenceWarning)\n"
     ]
    },
    {
     "name": "stdout",
     "output_type": "stream",
     "text": [
      "ARIMA(1, 1, 0)x(0, 0, 1, 12)- AIC:526.7858313043316\n",
      " \n"
     ]
    },
    {
     "name": "stderr",
     "output_type": "stream",
     "text": [
      "D:\\anaconda\\lib\\site-packages\\statsmodels\\base\\model.py:568: ConvergenceWarning: Maximum Likelihood optimization failed to converge. Check mle_retvals\n",
      "  ConvergenceWarning)\n"
     ]
    },
    {
     "name": "stdout",
     "output_type": "stream",
     "text": [
      "ARIMA(1, 1, 0)x(0, 0, 2, 12)- AIC:539.7964052434304\n",
      " \n"
     ]
    },
    {
     "name": "stderr",
     "output_type": "stream",
     "text": [
      "D:\\anaconda\\lib\\site-packages\\statsmodels\\base\\model.py:568: ConvergenceWarning: Maximum Likelihood optimization failed to converge. Check mle_retvals\n",
      "  ConvergenceWarning)\n"
     ]
    },
    {
     "name": "stdout",
     "output_type": "stream",
     "text": [
      "ARIMA(1, 1, 0)x(0, 1, 0, 12)- AIC:491.33310382476213\n",
      " \n"
     ]
    },
    {
     "name": "stderr",
     "output_type": "stream",
     "text": [
      "D:\\anaconda\\lib\\site-packages\\statsmodels\\base\\model.py:568: ConvergenceWarning: Maximum Likelihood optimization failed to converge. Check mle_retvals\n",
      "  ConvergenceWarning)\n"
     ]
    },
    {
     "name": "stdout",
     "output_type": "stream",
     "text": [
      "ARIMA(1, 1, 0)x(0, 1, 1, 12)- AIC:491.2059208168838\n",
      " \n"
     ]
    },
    {
     "name": "stderr",
     "output_type": "stream",
     "text": [
      "D:\\anaconda\\lib\\site-packages\\statsmodels\\base\\model.py:568: ConvergenceWarning: Maximum Likelihood optimization failed to converge. Check mle_retvals\n",
      "  ConvergenceWarning)\n"
     ]
    },
    {
     "name": "stdout",
     "output_type": "stream",
     "text": [
      "ARIMA(1, 1, 0)x(0, 1, 2, 12)- AIC:487.40852011460254\n",
      " \n"
     ]
    },
    {
     "name": "stderr",
     "output_type": "stream",
     "text": [
      "D:\\anaconda\\lib\\site-packages\\statsmodels\\base\\model.py:568: ConvergenceWarning: Maximum Likelihood optimization failed to converge. Check mle_retvals\n",
      "  ConvergenceWarning)\n"
     ]
    },
    {
     "name": "stdout",
     "output_type": "stream",
     "text": [
      "ARIMA(1, 1, 0)x(1, 0, 0, 12)- AIC:526.3823568652595\n",
      " \n"
     ]
    },
    {
     "name": "stderr",
     "output_type": "stream",
     "text": [
      "D:\\anaconda\\lib\\site-packages\\statsmodels\\base\\model.py:568: ConvergenceWarning: Maximum Likelihood optimization failed to converge. Check mle_retvals\n",
      "  ConvergenceWarning)\n"
     ]
    },
    {
     "name": "stdout",
     "output_type": "stream",
     "text": [
      "ARIMA(1, 1, 0)x(1, 0, 1, 12)- AIC:528.4830865876381\n",
      " \n"
     ]
    },
    {
     "name": "stderr",
     "output_type": "stream",
     "text": [
      "D:\\anaconda\\lib\\site-packages\\statsmodels\\base\\model.py:568: ConvergenceWarning: Maximum Likelihood optimization failed to converge. Check mle_retvals\n",
      "  ConvergenceWarning)\n"
     ]
    },
    {
     "name": "stdout",
     "output_type": "stream",
     "text": [
      "ARIMA(1, 1, 0)x(1, 0, 2, 12)- AIC:541.5859969997175\n",
      " \n"
     ]
    },
    {
     "name": "stderr",
     "output_type": "stream",
     "text": [
      "D:\\anaconda\\lib\\site-packages\\statsmodels\\base\\model.py:568: ConvergenceWarning: Maximum Likelihood optimization failed to converge. Check mle_retvals\n",
      "  ConvergenceWarning)\n"
     ]
    },
    {
     "name": "stdout",
     "output_type": "stream",
     "text": [
      "ARIMA(1, 1, 0)x(1, 1, 0, 12)- AIC:491.67890791479033\n",
      " \n"
     ]
    },
    {
     "name": "stderr",
     "output_type": "stream",
     "text": [
      "D:\\anaconda\\lib\\site-packages\\statsmodels\\base\\model.py:568: ConvergenceWarning: Maximum Likelihood optimization failed to converge. Check mle_retvals\n",
      "  ConvergenceWarning)\n"
     ]
    },
    {
     "name": "stdout",
     "output_type": "stream",
     "text": [
      "ARIMA(1, 1, 0)x(1, 1, 1, 12)- AIC:492.88704279696947\n",
      " \n"
     ]
    },
    {
     "name": "stderr",
     "output_type": "stream",
     "text": [
      "D:\\anaconda\\lib\\site-packages\\statsmodels\\base\\model.py:568: ConvergenceWarning: Maximum Likelihood optimization failed to converge. Check mle_retvals\n",
      "  ConvergenceWarning)\n"
     ]
    },
    {
     "name": "stdout",
     "output_type": "stream",
     "text": [
      "ARIMA(1, 1, 0)x(1, 1, 2, 12)- AIC:489.59871823701235\n",
      " \n"
     ]
    },
    {
     "name": "stderr",
     "output_type": "stream",
     "text": [
      "D:\\anaconda\\lib\\site-packages\\statsmodels\\base\\model.py:568: ConvergenceWarning: Maximum Likelihood optimization failed to converge. Check mle_retvals\n",
      "  ConvergenceWarning)\n"
     ]
    },
    {
     "name": "stdout",
     "output_type": "stream",
     "text": [
      "ARIMA(1, 1, 0)x(2, 0, 0, 12)- AIC:528.348870622935\n",
      " \n"
     ]
    },
    {
     "name": "stderr",
     "output_type": "stream",
     "text": [
      "D:\\anaconda\\lib\\site-packages\\statsmodels\\base\\model.py:568: ConvergenceWarning: Maximum Likelihood optimization failed to converge. Check mle_retvals\n",
      "  ConvergenceWarning)\n"
     ]
    },
    {
     "name": "stdout",
     "output_type": "stream",
     "text": [
      "ARIMA(1, 1, 0)x(2, 0, 1, 12)- AIC:531.3397173074292\n",
      " \n"
     ]
    },
    {
     "name": "stderr",
     "output_type": "stream",
     "text": [
      "D:\\anaconda\\lib\\site-packages\\statsmodels\\base\\model.py:568: ConvergenceWarning: Maximum Likelihood optimization failed to converge. Check mle_retvals\n",
      "  ConvergenceWarning)\n"
     ]
    },
    {
     "name": "stdout",
     "output_type": "stream",
     "text": [
      "ARIMA(1, 1, 0)x(2, 0, 2, 12)- AIC:544.9481086662545\n",
      " \n"
     ]
    },
    {
     "name": "stderr",
     "output_type": "stream",
     "text": [
      "D:\\anaconda\\lib\\site-packages\\statsmodels\\base\\model.py:568: ConvergenceWarning: Maximum Likelihood optimization failed to converge. Check mle_retvals\n",
      "  ConvergenceWarning)\n"
     ]
    },
    {
     "name": "stdout",
     "output_type": "stream",
     "text": [
      "ARIMA(1, 1, 0)x(2, 1, 0, 12)- AIC:489.1472749684979\n",
      " \n"
     ]
    },
    {
     "name": "stderr",
     "output_type": "stream",
     "text": [
      "D:\\anaconda\\lib\\site-packages\\statsmodels\\base\\model.py:568: ConvergenceWarning: Maximum Likelihood optimization failed to converge. Check mle_retvals\n",
      "  ConvergenceWarning)\n"
     ]
    },
    {
     "name": "stdout",
     "output_type": "stream",
     "text": [
      "ARIMA(1, 1, 0)x(2, 1, 1, 12)- AIC:491.42985440641576\n",
      " \n"
     ]
    },
    {
     "name": "stderr",
     "output_type": "stream",
     "text": [
      "D:\\anaconda\\lib\\site-packages\\statsmodels\\base\\model.py:568: ConvergenceWarning: Maximum Likelihood optimization failed to converge. Check mle_retvals\n",
      "  ConvergenceWarning)\n"
     ]
    },
    {
     "name": "stdout",
     "output_type": "stream",
     "text": [
      "ARIMA(1, 1, 0)x(2, 1, 2, 12)- AIC:492.2937962281302\n",
      " \n"
     ]
    },
    {
     "name": "stderr",
     "output_type": "stream",
     "text": [
      "D:\\anaconda\\lib\\site-packages\\statsmodels\\base\\model.py:568: ConvergenceWarning: Maximum Likelihood optimization failed to converge. Check mle_retvals\n",
      "  ConvergenceWarning)\n"
     ]
    },
    {
     "name": "stdout",
     "output_type": "stream",
     "text": [
      "ARIMA(1, 1, 1)x(0, 0, 0, 12)- AIC:529.0872146204435\n",
      " \n"
     ]
    },
    {
     "name": "stderr",
     "output_type": "stream",
     "text": [
      "D:\\anaconda\\lib\\site-packages\\statsmodels\\base\\model.py:568: ConvergenceWarning: Maximum Likelihood optimization failed to converge. Check mle_retvals\n",
      "  ConvergenceWarning)\n"
     ]
    },
    {
     "name": "stdout",
     "output_type": "stream",
     "text": [
      "ARIMA(1, 1, 1)x(0, 0, 1, 12)- AIC:526.9260131829712\n",
      " \n"
     ]
    },
    {
     "name": "stderr",
     "output_type": "stream",
     "text": [
      "D:\\anaconda\\lib\\site-packages\\statsmodels\\base\\model.py:568: ConvergenceWarning: Maximum Likelihood optimization failed to converge. Check mle_retvals\n",
      "  ConvergenceWarning)\n"
     ]
    },
    {
     "name": "stdout",
     "output_type": "stream",
     "text": [
      "ARIMA(1, 1, 1)x(0, 0, 2, 12)- AIC:541.5296635074322\n",
      " \n"
     ]
    },
    {
     "name": "stderr",
     "output_type": "stream",
     "text": [
      "D:\\anaconda\\lib\\site-packages\\statsmodels\\base\\model.py:568: ConvergenceWarning: Maximum Likelihood optimization failed to converge. Check mle_retvals\n",
      "  ConvergenceWarning)\n"
     ]
    },
    {
     "name": "stdout",
     "output_type": "stream",
     "text": [
      "ARIMA(1, 1, 1)x(0, 1, 0, 12)- AIC:492.3875510780739\n",
      " \n"
     ]
    },
    {
     "name": "stderr",
     "output_type": "stream",
     "text": [
      "D:\\anaconda\\lib\\site-packages\\statsmodels\\base\\model.py:568: ConvergenceWarning: Maximum Likelihood optimization failed to converge. Check mle_retvals\n",
      "  ConvergenceWarning)\n"
     ]
    },
    {
     "name": "stdout",
     "output_type": "stream",
     "text": [
      "ARIMA(1, 1, 1)x(0, 1, 1, 12)- AIC:492.20279623688305\n",
      " \n"
     ]
    },
    {
     "name": "stderr",
     "output_type": "stream",
     "text": [
      "D:\\anaconda\\lib\\site-packages\\statsmodels\\base\\model.py:568: ConvergenceWarning: Maximum Likelihood optimization failed to converge. Check mle_retvals\n",
      "  ConvergenceWarning)\n"
     ]
    },
    {
     "name": "stdout",
     "output_type": "stream",
     "text": [
      "ARIMA(1, 1, 1)x(0, 1, 2, 12)- AIC:488.50445193887015\n",
      " \n"
     ]
    },
    {
     "name": "stderr",
     "output_type": "stream",
     "text": [
      "D:\\anaconda\\lib\\site-packages\\statsmodels\\base\\model.py:568: ConvergenceWarning: Maximum Likelihood optimization failed to converge. Check mle_retvals\n",
      "  ConvergenceWarning)\n"
     ]
    },
    {
     "name": "stdout",
     "output_type": "stream",
     "text": [
      "ARIMA(1, 1, 1)x(1, 0, 0, 12)- AIC:526.408828854305\n",
      " \n"
     ]
    },
    {
     "name": "stderr",
     "output_type": "stream",
     "text": [
      "D:\\anaconda\\lib\\site-packages\\statsmodels\\base\\model.py:568: ConvergenceWarning: Maximum Likelihood optimization failed to converge. Check mle_retvals\n",
      "  ConvergenceWarning)\n"
     ]
    },
    {
     "name": "stdout",
     "output_type": "stream",
     "text": [
      "ARIMA(1, 1, 1)x(1, 0, 1, 12)- AIC:528.6253825071379\n",
      " \n"
     ]
    },
    {
     "name": "stderr",
     "output_type": "stream",
     "text": [
      "D:\\anaconda\\lib\\site-packages\\statsmodels\\base\\model.py:568: ConvergenceWarning: Maximum Likelihood optimization failed to converge. Check mle_retvals\n",
      "  ConvergenceWarning)\n"
     ]
    },
    {
     "name": "stdout",
     "output_type": "stream",
     "text": [
      "ARIMA(1, 1, 1)x(1, 0, 2, 12)- AIC:543.0430843318071\n",
      " \n"
     ]
    },
    {
     "name": "stderr",
     "output_type": "stream",
     "text": [
      "D:\\anaconda\\lib\\site-packages\\statsmodels\\base\\model.py:568: ConvergenceWarning: Maximum Likelihood optimization failed to converge. Check mle_retvals\n",
      "  ConvergenceWarning)\n"
     ]
    },
    {
     "name": "stdout",
     "output_type": "stream",
     "text": [
      "ARIMA(1, 1, 1)x(1, 1, 0, 12)- AIC:492.67824098610527\n",
      " \n"
     ]
    },
    {
     "name": "stderr",
     "output_type": "stream",
     "text": [
      "D:\\anaconda\\lib\\site-packages\\statsmodels\\base\\model.py:568: ConvergenceWarning: Maximum Likelihood optimization failed to converge. Check mle_retvals\n",
      "  ConvergenceWarning)\n"
     ]
    },
    {
     "name": "stdout",
     "output_type": "stream",
     "text": [
      "ARIMA(1, 1, 1)x(1, 1, 1, 12)- AIC:493.8823474048644\n",
      " \n"
     ]
    },
    {
     "name": "stderr",
     "output_type": "stream",
     "text": [
      "D:\\anaconda\\lib\\site-packages\\statsmodels\\base\\model.py:568: ConvergenceWarning: Maximum Likelihood optimization failed to converge. Check mle_retvals\n",
      "  ConvergenceWarning)\n"
     ]
    },
    {
     "name": "stdout",
     "output_type": "stream",
     "text": [
      "ARIMA(1, 1, 1)x(1, 1, 2, 12)- AIC:490.6803187104017\n",
      " \n"
     ]
    },
    {
     "name": "stderr",
     "output_type": "stream",
     "text": [
      "D:\\anaconda\\lib\\site-packages\\statsmodels\\base\\model.py:568: ConvergenceWarning: Maximum Likelihood optimization failed to converge. Check mle_retvals\n",
      "  ConvergenceWarning)\n"
     ]
    },
    {
     "name": "stdout",
     "output_type": "stream",
     "text": [
      "ARIMA(1, 1, 1)x(2, 0, 0, 12)- AIC:528.4891199247758\n",
      " \n"
     ]
    },
    {
     "name": "stderr",
     "output_type": "stream",
     "text": [
      "D:\\anaconda\\lib\\site-packages\\statsmodels\\base\\model.py:568: ConvergenceWarning: Maximum Likelihood optimization failed to converge. Check mle_retvals\n",
      "  ConvergenceWarning)\n"
     ]
    },
    {
     "name": "stdout",
     "output_type": "stream",
     "text": [
      "ARIMA(1, 1, 1)x(2, 0, 1, 12)- AIC:531.5175305726401\n",
      " \n"
     ]
    },
    {
     "name": "stderr",
     "output_type": "stream",
     "text": [
      "D:\\anaconda\\lib\\site-packages\\statsmodels\\base\\model.py:568: ConvergenceWarning: Maximum Likelihood optimization failed to converge. Check mle_retvals\n",
      "  ConvergenceWarning)\n"
     ]
    },
    {
     "name": "stdout",
     "output_type": "stream",
     "text": [
      "ARIMA(1, 1, 1)x(2, 0, 2, 12)- AIC:546.2311634183641\n",
      " \n"
     ]
    },
    {
     "name": "stderr",
     "output_type": "stream",
     "text": [
      "D:\\anaconda\\lib\\site-packages\\statsmodels\\base\\model.py:568: ConvergenceWarning: Maximum Likelihood optimization failed to converge. Check mle_retvals\n",
      "  ConvergenceWarning)\n"
     ]
    },
    {
     "name": "stdout",
     "output_type": "stream",
     "text": [
      "ARIMA(1, 1, 1)x(2, 1, 0, 12)- AIC:490.1145451635897\n",
      " \n"
     ]
    },
    {
     "name": "stderr",
     "output_type": "stream",
     "text": [
      "D:\\anaconda\\lib\\site-packages\\statsmodels\\base\\model.py:568: ConvergenceWarning: Maximum Likelihood optimization failed to converge. Check mle_retvals\n",
      "  ConvergenceWarning)\n"
     ]
    },
    {
     "name": "stdout",
     "output_type": "stream",
     "text": [
      "ARIMA(1, 1, 1)x(2, 1, 1, 12)- AIC:492.4194239520274\n",
      " \n"
     ]
    },
    {
     "name": "stderr",
     "output_type": "stream",
     "text": [
      "D:\\anaconda\\lib\\site-packages\\statsmodels\\base\\model.py:568: ConvergenceWarning: Maximum Likelihood optimization failed to converge. Check mle_retvals\n",
      "  ConvergenceWarning)\n"
     ]
    },
    {
     "name": "stdout",
     "output_type": "stream",
     "text": [
      "ARIMA(1, 1, 1)x(2, 1, 2, 12)- AIC:493.2862137349223\n",
      " \n"
     ]
    },
    {
     "name": "stderr",
     "output_type": "stream",
     "text": [
      "D:\\anaconda\\lib\\site-packages\\statsmodels\\base\\model.py:568: ConvergenceWarning: Maximum Likelihood optimization failed to converge. Check mle_retvals\n",
      "  ConvergenceWarning)\n"
     ]
    },
    {
     "name": "stdout",
     "output_type": "stream",
     "text": [
      "ARIMA(1, 1, 2)x(0, 0, 0, 12)- AIC:531.9079361167868\n",
      " \n"
     ]
    },
    {
     "name": "stderr",
     "output_type": "stream",
     "text": [
      "D:\\anaconda\\lib\\site-packages\\statsmodels\\base\\model.py:568: ConvergenceWarning: Maximum Likelihood optimization failed to converge. Check mle_retvals\n",
      "  ConvergenceWarning)\n"
     ]
    },
    {
     "name": "stdout",
     "output_type": "stream",
     "text": [
      "ARIMA(1, 1, 2)x(0, 0, 1, 12)- AIC:529.353211359477\n",
      " \n"
     ]
    },
    {
     "name": "stderr",
     "output_type": "stream",
     "text": [
      "D:\\anaconda\\lib\\site-packages\\statsmodels\\base\\model.py:568: ConvergenceWarning: Maximum Likelihood optimization failed to converge. Check mle_retvals\n",
      "  ConvergenceWarning)\n"
     ]
    },
    {
     "name": "stdout",
     "output_type": "stream",
     "text": [
      "ARIMA(1, 1, 2)x(0, 0, 2, 12)- AIC:543.4948035887687\n",
      " \n"
     ]
    },
    {
     "name": "stderr",
     "output_type": "stream",
     "text": [
      "D:\\anaconda\\lib\\site-packages\\statsmodels\\base\\model.py:568: ConvergenceWarning: Maximum Likelihood optimization failed to converge. Check mle_retvals\n",
      "  ConvergenceWarning)\n"
     ]
    },
    {
     "name": "stdout",
     "output_type": "stream",
     "text": [
      "ARIMA(1, 1, 2)x(0, 1, 0, 12)- AIC:494.58467974717\n",
      " \n"
     ]
    },
    {
     "name": "stderr",
     "output_type": "stream",
     "text": [
      "D:\\anaconda\\lib\\site-packages\\statsmodels\\base\\model.py:568: ConvergenceWarning: Maximum Likelihood optimization failed to converge. Check mle_retvals\n",
      "  ConvergenceWarning)\n"
     ]
    },
    {
     "name": "stdout",
     "output_type": "stream",
     "text": [
      "ARIMA(1, 1, 2)x(0, 1, 1, 12)- AIC:494.4062033708934\n",
      " \n"
     ]
    },
    {
     "name": "stderr",
     "output_type": "stream",
     "text": [
      "D:\\anaconda\\lib\\site-packages\\statsmodels\\base\\model.py:568: ConvergenceWarning: Maximum Likelihood optimization failed to converge. Check mle_retvals\n",
      "  ConvergenceWarning)\n"
     ]
    },
    {
     "name": "stdout",
     "output_type": "stream",
     "text": [
      "ARIMA(1, 1, 2)x(0, 1, 2, 12)- AIC:491.0200172640214\n",
      " \n"
     ]
    },
    {
     "name": "stderr",
     "output_type": "stream",
     "text": [
      "D:\\anaconda\\lib\\site-packages\\statsmodels\\base\\model.py:568: ConvergenceWarning: Maximum Likelihood optimization failed to converge. Check mle_retvals\n",
      "  ConvergenceWarning)\n"
     ]
    },
    {
     "name": "stdout",
     "output_type": "stream",
     "text": [
      "ARIMA(1, 1, 2)x(1, 0, 0, 12)- AIC:528.891004032293\n",
      " \n"
     ]
    },
    {
     "name": "stderr",
     "output_type": "stream",
     "text": [
      "D:\\anaconda\\lib\\site-packages\\statsmodels\\base\\model.py:568: ConvergenceWarning: Maximum Likelihood optimization failed to converge. Check mle_retvals\n",
      "  ConvergenceWarning)\n"
     ]
    },
    {
     "name": "stdout",
     "output_type": "stream",
     "text": [
      "ARIMA(1, 1, 2)x(1, 0, 1, 12)- AIC:530.9617480974717\n",
      " \n"
     ]
    },
    {
     "name": "stderr",
     "output_type": "stream",
     "text": [
      "D:\\anaconda\\lib\\site-packages\\statsmodels\\base\\model.py:568: ConvergenceWarning: Maximum Likelihood optimization failed to converge. Check mle_retvals\n",
      "  ConvergenceWarning)\n"
     ]
    },
    {
     "name": "stdout",
     "output_type": "stream",
     "text": [
      "ARIMA(1, 1, 2)x(1, 0, 2, 12)- AIC:545.0945321221369\n",
      " \n"
     ]
    },
    {
     "name": "stderr",
     "output_type": "stream",
     "text": [
      "D:\\anaconda\\lib\\site-packages\\statsmodels\\base\\model.py:568: ConvergenceWarning: Maximum Likelihood optimization failed to converge. Check mle_retvals\n",
      "  ConvergenceWarning)\n"
     ]
    },
    {
     "name": "stdout",
     "output_type": "stream",
     "text": [
      "ARIMA(1, 1, 2)x(1, 1, 0, 12)- AIC:494.8626603717098\n",
      " \n"
     ]
    },
    {
     "name": "stderr",
     "output_type": "stream",
     "text": [
      "D:\\anaconda\\lib\\site-packages\\statsmodels\\base\\model.py:568: ConvergenceWarning: Maximum Likelihood optimization failed to converge. Check mle_retvals\n",
      "  ConvergenceWarning)\n"
     ]
    },
    {
     "name": "stdout",
     "output_type": "stream",
     "text": [
      "ARIMA(1, 1, 2)x(1, 1, 1, 12)- AIC:496.09682406583795\n",
      " \n"
     ]
    },
    {
     "name": "stderr",
     "output_type": "stream",
     "text": [
      "D:\\anaconda\\lib\\site-packages\\statsmodels\\base\\model.py:568: ConvergenceWarning: Maximum Likelihood optimization failed to converge. Check mle_retvals\n",
      "  ConvergenceWarning)\n"
     ]
    },
    {
     "name": "stdout",
     "output_type": "stream",
     "text": [
      "ARIMA(1, 1, 2)x(1, 1, 2, 12)- AIC:493.18984285577585\n",
      " \n"
     ]
    },
    {
     "name": "stderr",
     "output_type": "stream",
     "text": [
      "D:\\anaconda\\lib\\site-packages\\statsmodels\\base\\model.py:568: ConvergenceWarning: Maximum Likelihood optimization failed to converge. Check mle_retvals\n",
      "  ConvergenceWarning)\n"
     ]
    },
    {
     "name": "stdout",
     "output_type": "stream",
     "text": [
      "ARIMA(1, 1, 2)x(2, 0, 0, 12)- AIC:530.7989859428891\n",
      " \n"
     ]
    },
    {
     "name": "stderr",
     "output_type": "stream",
     "text": [
      "D:\\anaconda\\lib\\site-packages\\statsmodels\\base\\model.py:568: ConvergenceWarning: Maximum Likelihood optimization failed to converge. Check mle_retvals\n",
      "  ConvergenceWarning)\n"
     ]
    },
    {
     "name": "stdout",
     "output_type": "stream",
     "text": [
      "ARIMA(1, 1, 2)x(2, 0, 1, 12)- AIC:533.9209393756715\n",
      " \n"
     ]
    },
    {
     "name": "stderr",
     "output_type": "stream",
     "text": [
      "D:\\anaconda\\lib\\site-packages\\statsmodels\\base\\model.py:568: ConvergenceWarning: Maximum Likelihood optimization failed to converge. Check mle_retvals\n",
      "  ConvergenceWarning)\n"
     ]
    },
    {
     "name": "stdout",
     "output_type": "stream",
     "text": [
      "ARIMA(1, 1, 2)x(2, 0, 2, 12)- AIC:548.4398667248045\n",
      " \n"
     ]
    },
    {
     "name": "stderr",
     "output_type": "stream",
     "text": [
      "D:\\anaconda\\lib\\site-packages\\statsmodels\\base\\model.py:568: ConvergenceWarning: Maximum Likelihood optimization failed to converge. Check mle_retvals\n",
      "  ConvergenceWarning)\n"
     ]
    },
    {
     "name": "stdout",
     "output_type": "stream",
     "text": [
      "ARIMA(1, 1, 2)x(2, 1, 0, 12)- AIC:492.5705977244352\n",
      " \n"
     ]
    },
    {
     "name": "stderr",
     "output_type": "stream",
     "text": [
      "D:\\anaconda\\lib\\site-packages\\statsmodels\\base\\model.py:568: ConvergenceWarning: Maximum Likelihood optimization failed to converge. Check mle_retvals\n",
      "  ConvergenceWarning)\n"
     ]
    },
    {
     "name": "stdout",
     "output_type": "stream",
     "text": [
      "ARIMA(1, 1, 2)x(2, 1, 1, 12)- AIC:494.9130452622634\n",
      " \n"
     ]
    },
    {
     "name": "stderr",
     "output_type": "stream",
     "text": [
      "D:\\anaconda\\lib\\site-packages\\statsmodels\\base\\model.py:568: ConvergenceWarning: Maximum Likelihood optimization failed to converge. Check mle_retvals\n",
      "  ConvergenceWarning)\n"
     ]
    },
    {
     "name": "stdout",
     "output_type": "stream",
     "text": [
      "ARIMA(1, 1, 2)x(2, 1, 2, 12)- AIC:495.77244085480606\n",
      " \n"
     ]
    },
    {
     "name": "stderr",
     "output_type": "stream",
     "text": [
      "D:\\anaconda\\lib\\site-packages\\statsmodels\\base\\model.py:568: ConvergenceWarning: Maximum Likelihood optimization failed to converge. Check mle_retvals\n",
      "  ConvergenceWarning)\n"
     ]
    },
    {
     "name": "stdout",
     "output_type": "stream",
     "text": [
      "ARIMA(2, 0, 0)x(0, 0, 0, 12)- AIC:517.1745406115497\n",
      " \n"
     ]
    },
    {
     "name": "stderr",
     "output_type": "stream",
     "text": [
      "D:\\anaconda\\lib\\site-packages\\statsmodels\\base\\model.py:568: ConvergenceWarning: Maximum Likelihood optimization failed to converge. Check mle_retvals\n",
      "  ConvergenceWarning)\n"
     ]
    },
    {
     "name": "stdout",
     "output_type": "stream",
     "text": [
      "ARIMA(2, 0, 0)x(0, 0, 1, 12)- AIC:513.8731418039015\n",
      " \n"
     ]
    },
    {
     "name": "stderr",
     "output_type": "stream",
     "text": [
      "D:\\anaconda\\lib\\site-packages\\statsmodels\\base\\model.py:568: ConvergenceWarning: Maximum Likelihood optimization failed to converge. Check mle_retvals\n",
      "  ConvergenceWarning)\n"
     ]
    },
    {
     "name": "stdout",
     "output_type": "stream",
     "text": [
      "ARIMA(2, 0, 0)x(0, 0, 2, 12)- AIC:517.634702552632\n",
      " \n"
     ]
    },
    {
     "name": "stderr",
     "output_type": "stream",
     "text": [
      "D:\\anaconda\\lib\\site-packages\\statsmodels\\base\\model.py:568: ConvergenceWarning: Maximum Likelihood optimization failed to converge. Check mle_retvals\n",
      "  ConvergenceWarning)\n"
     ]
    },
    {
     "name": "stdout",
     "output_type": "stream",
     "text": [
      "ARIMA(2, 0, 0)x(0, 1, 0, 12)- AIC:487.69150786398484\n",
      " \n"
     ]
    },
    {
     "name": "stderr",
     "output_type": "stream",
     "text": [
      "D:\\anaconda\\lib\\site-packages\\statsmodels\\base\\model.py:568: ConvergenceWarning: Maximum Likelihood optimization failed to converge. Check mle_retvals\n",
      "  ConvergenceWarning)\n"
     ]
    },
    {
     "name": "stdout",
     "output_type": "stream",
     "text": [
      "ARIMA(2, 0, 0)x(0, 1, 1, 12)- AIC:479.3300789028105\n",
      " \n"
     ]
    },
    {
     "name": "stderr",
     "output_type": "stream",
     "text": [
      "D:\\anaconda\\lib\\site-packages\\statsmodels\\base\\model.py:568: ConvergenceWarning: Maximum Likelihood optimization failed to converge. Check mle_retvals\n",
      "  ConvergenceWarning)\n"
     ]
    },
    {
     "name": "stdout",
     "output_type": "stream",
     "text": [
      "ARIMA(2, 0, 0)x(0, 1, 2, 12)- AIC:481.65040843501913\n",
      " \n"
     ]
    },
    {
     "name": "stderr",
     "output_type": "stream",
     "text": [
      "D:\\anaconda\\lib\\site-packages\\statsmodels\\base\\model.py:568: ConvergenceWarning: Maximum Likelihood optimization failed to converge. Check mle_retvals\n",
      "  ConvergenceWarning)\n"
     ]
    },
    {
     "name": "stdout",
     "output_type": "stream",
     "text": [
      "ARIMA(2, 0, 0)x(1, 0, 0, 12)- AIC:510.43016834338624\n",
      " \n"
     ]
    },
    {
     "name": "stderr",
     "output_type": "stream",
     "text": [
      "D:\\anaconda\\lib\\site-packages\\statsmodels\\base\\model.py:568: ConvergenceWarning: Maximum Likelihood optimization failed to converge. Check mle_retvals\n",
      "  ConvergenceWarning)\n"
     ]
    },
    {
     "name": "stdout",
     "output_type": "stream",
     "text": [
      "ARIMA(2, 0, 0)x(1, 0, 1, 12)- AIC:512.8095089706604\n",
      " \n"
     ]
    },
    {
     "name": "stderr",
     "output_type": "stream",
     "text": [
      "D:\\anaconda\\lib\\site-packages\\statsmodels\\base\\model.py:568: ConvergenceWarning: Maximum Likelihood optimization failed to converge. Check mle_retvals\n",
      "  ConvergenceWarning)\n"
     ]
    },
    {
     "name": "stdout",
     "output_type": "stream",
     "text": [
      "ARIMA(2, 0, 0)x(1, 0, 2, 12)- AIC:517.7077615727898\n",
      " \n"
     ]
    },
    {
     "name": "stderr",
     "output_type": "stream",
     "text": [
      "D:\\anaconda\\lib\\site-packages\\statsmodels\\base\\model.py:568: ConvergenceWarning: Maximum Likelihood optimization failed to converge. Check mle_retvals\n",
      "  ConvergenceWarning)\n"
     ]
    },
    {
     "name": "stdout",
     "output_type": "stream",
     "text": [
      "ARIMA(2, 0, 0)x(1, 1, 0, 12)- AIC:481.4542016062045\n",
      " \n"
     ]
    },
    {
     "name": "stderr",
     "output_type": "stream",
     "text": [
      "D:\\anaconda\\lib\\site-packages\\statsmodels\\base\\model.py:568: ConvergenceWarning: Maximum Likelihood optimization failed to converge. Check mle_retvals\n",
      "  ConvergenceWarning)\n"
     ]
    },
    {
     "name": "stdout",
     "output_type": "stream",
     "text": [
      "ARIMA(2, 0, 0)x(1, 1, 1, 12)- AIC:480.6427403969453\n",
      " \n"
     ]
    },
    {
     "name": "stderr",
     "output_type": "stream",
     "text": [
      "D:\\anaconda\\lib\\site-packages\\statsmodels\\base\\model.py:568: ConvergenceWarning: Maximum Likelihood optimization failed to converge. Check mle_retvals\n",
      "  ConvergenceWarning)\n"
     ]
    },
    {
     "name": "stdout",
     "output_type": "stream",
     "text": [
      "ARIMA(2, 0, 0)x(1, 1, 2, 12)- AIC:483.88196139237414\n",
      " \n"
     ]
    },
    {
     "name": "stderr",
     "output_type": "stream",
     "text": [
      "D:\\anaconda\\lib\\site-packages\\statsmodels\\base\\model.py:568: ConvergenceWarning: Maximum Likelihood optimization failed to converge. Check mle_retvals\n",
      "  ConvergenceWarning)\n"
     ]
    },
    {
     "name": "stdout",
     "output_type": "stream",
     "text": [
      "ARIMA(2, 0, 0)x(2, 0, 0, 12)- AIC:509.80714161365773\n",
      " \n"
     ]
    },
    {
     "name": "stderr",
     "output_type": "stream",
     "text": [
      "D:\\anaconda\\lib\\site-packages\\statsmodels\\base\\model.py:568: ConvergenceWarning: Maximum Likelihood optimization failed to converge. Check mle_retvals\n",
      "  ConvergenceWarning)\n"
     ]
    },
    {
     "name": "stdout",
     "output_type": "stream",
     "text": [
      "ARIMA(2, 0, 0)x(2, 0, 1, 12)- AIC:512.5409154726932\n",
      " \n"
     ]
    },
    {
     "name": "stderr",
     "output_type": "stream",
     "text": [
      "D:\\anaconda\\lib\\site-packages\\statsmodels\\base\\model.py:568: ConvergenceWarning: Maximum Likelihood optimization failed to converge. Check mle_retvals\n",
      "  ConvergenceWarning)\n"
     ]
    },
    {
     "name": "stdout",
     "output_type": "stream",
     "text": [
      "ARIMA(2, 0, 0)x(2, 0, 2, 12)- AIC:520.0452953574273\n",
      " \n"
     ]
    },
    {
     "name": "stderr",
     "output_type": "stream",
     "text": [
      "D:\\anaconda\\lib\\site-packages\\statsmodels\\base\\model.py:568: ConvergenceWarning: Maximum Likelihood optimization failed to converge. Check mle_retvals\n",
      "  ConvergenceWarning)\n"
     ]
    },
    {
     "name": "stdout",
     "output_type": "stream",
     "text": [
      "ARIMA(2, 0, 0)x(2, 1, 0, 12)- AIC:479.865629812472\n",
      " \n"
     ]
    },
    {
     "name": "stderr",
     "output_type": "stream",
     "text": [
      "D:\\anaconda\\lib\\site-packages\\statsmodels\\base\\model.py:568: ConvergenceWarning: Maximum Likelihood optimization failed to converge. Check mle_retvals\n",
      "  ConvergenceWarning)\n"
     ]
    },
    {
     "name": "stdout",
     "output_type": "stream",
     "text": [
      "ARIMA(2, 0, 0)x(2, 1, 1, 12)- AIC:481.10672098915427\n",
      " \n"
     ]
    },
    {
     "name": "stderr",
     "output_type": "stream",
     "text": [
      "D:\\anaconda\\lib\\site-packages\\statsmodels\\base\\model.py:568: ConvergenceWarning: Maximum Likelihood optimization failed to converge. Check mle_retvals\n",
      "  ConvergenceWarning)\n"
     ]
    },
    {
     "name": "stdout",
     "output_type": "stream",
     "text": [
      "ARIMA(2, 0, 0)x(2, 1, 2, 12)- AIC:487.24747538523656\n",
      " \n"
     ]
    },
    {
     "name": "stderr",
     "output_type": "stream",
     "text": [
      "D:\\anaconda\\lib\\site-packages\\statsmodels\\base\\model.py:568: ConvergenceWarning: Maximum Likelihood optimization failed to converge. Check mle_retvals\n",
      "  ConvergenceWarning)\n"
     ]
    },
    {
     "name": "stdout",
     "output_type": "stream",
     "text": [
      "ARIMA(2, 0, 1)x(0, 0, 0, 12)- AIC:528.9415823750018\n",
      " \n"
     ]
    },
    {
     "name": "stderr",
     "output_type": "stream",
     "text": [
      "D:\\anaconda\\lib\\site-packages\\statsmodels\\base\\model.py:568: ConvergenceWarning: Maximum Likelihood optimization failed to converge. Check mle_retvals\n",
      "  ConvergenceWarning)\n"
     ]
    },
    {
     "name": "stdout",
     "output_type": "stream",
     "text": [
      "ARIMA(2, 0, 1)x(0, 0, 1, 12)- AIC:525.9112132306082\n",
      " \n"
     ]
    },
    {
     "name": "stderr",
     "output_type": "stream",
     "text": [
      "D:\\anaconda\\lib\\site-packages\\statsmodels\\base\\model.py:568: ConvergenceWarning: Maximum Likelihood optimization failed to converge. Check mle_retvals\n",
      "  ConvergenceWarning)\n"
     ]
    },
    {
     "name": "stdout",
     "output_type": "stream",
     "text": [
      "ARIMA(2, 0, 1)x(0, 0, 2, 12)- AIC:526.4980439597158\n",
      " \n"
     ]
    },
    {
     "name": "stderr",
     "output_type": "stream",
     "text": [
      "D:\\anaconda\\lib\\site-packages\\statsmodels\\base\\model.py:568: ConvergenceWarning: Maximum Likelihood optimization failed to converge. Check mle_retvals\n",
      "  ConvergenceWarning)\n"
     ]
    },
    {
     "name": "stdout",
     "output_type": "stream",
     "text": [
      "ARIMA(2, 0, 1)x(0, 1, 0, 12)- AIC:491.63365543035553\n",
      " \n"
     ]
    },
    {
     "name": "stderr",
     "output_type": "stream",
     "text": [
      "D:\\anaconda\\lib\\site-packages\\statsmodels\\base\\model.py:568: ConvergenceWarning: Maximum Likelihood optimization failed to converge. Check mle_retvals\n",
      "  ConvergenceWarning)\n"
     ]
    },
    {
     "name": "stdout",
     "output_type": "stream",
     "text": [
      "ARIMA(2, 0, 1)x(0, 1, 1, 12)- AIC:484.5334528096381\n",
      " \n"
     ]
    },
    {
     "name": "stderr",
     "output_type": "stream",
     "text": [
      "D:\\anaconda\\lib\\site-packages\\statsmodels\\base\\model.py:568: ConvergenceWarning: Maximum Likelihood optimization failed to converge. Check mle_retvals\n",
      "  ConvergenceWarning)\n"
     ]
    },
    {
     "name": "stdout",
     "output_type": "stream",
     "text": [
      "ARIMA(2, 0, 1)x(0, 1, 2, 12)- AIC:486.36348161531464\n",
      " \n"
     ]
    },
    {
     "name": "stderr",
     "output_type": "stream",
     "text": [
      "D:\\anaconda\\lib\\site-packages\\statsmodels\\base\\model.py:568: ConvergenceWarning: Maximum Likelihood optimization failed to converge. Check mle_retvals\n",
      "  ConvergenceWarning)\n"
     ]
    },
    {
     "name": "stdout",
     "output_type": "stream",
     "text": [
      "ARIMA(2, 0, 1)x(1, 0, 0, 12)- AIC:521.5308959633134\n",
      " \n"
     ]
    },
    {
     "name": "stderr",
     "output_type": "stream",
     "text": [
      "D:\\anaconda\\lib\\site-packages\\statsmodels\\base\\model.py:568: ConvergenceWarning: Maximum Likelihood optimization failed to converge. Check mle_retvals\n",
      "  ConvergenceWarning)\n"
     ]
    },
    {
     "name": "stdout",
     "output_type": "stream",
     "text": [
      "ARIMA(2, 0, 1)x(1, 0, 1, 12)- AIC:523.9701931930133\n",
      " \n"
     ]
    },
    {
     "name": "stderr",
     "output_type": "stream",
     "text": [
      "D:\\anaconda\\lib\\site-packages\\statsmodels\\base\\model.py:568: ConvergenceWarning: Maximum Likelihood optimization failed to converge. Check mle_retvals\n",
      "  ConvergenceWarning)\n"
     ]
    },
    {
     "name": "stdout",
     "output_type": "stream",
     "text": [
      "ARIMA(2, 0, 1)x(1, 0, 2, 12)- AIC:528.3306497311394\n",
      " \n"
     ]
    },
    {
     "name": "stderr",
     "output_type": "stream",
     "text": [
      "D:\\anaconda\\lib\\site-packages\\statsmodels\\base\\model.py:568: ConvergenceWarning: Maximum Likelihood optimization failed to converge. Check mle_retvals\n",
      "  ConvergenceWarning)\n"
     ]
    },
    {
     "name": "stdout",
     "output_type": "stream",
     "text": [
      "ARIMA(2, 0, 1)x(1, 1, 0, 12)- AIC:486.65058952563845\n",
      " \n"
     ]
    },
    {
     "name": "stderr",
     "output_type": "stream",
     "text": [
      "D:\\anaconda\\lib\\site-packages\\statsmodels\\base\\model.py:568: ConvergenceWarning: Maximum Likelihood optimization failed to converge. Check mle_retvals\n",
      "  ConvergenceWarning)\n"
     ]
    },
    {
     "name": "stdout",
     "output_type": "stream",
     "text": [
      "ARIMA(2, 0, 1)x(1, 1, 1, 12)- AIC:485.80732636638277\n",
      " \n"
     ]
    },
    {
     "name": "stderr",
     "output_type": "stream",
     "text": [
      "D:\\anaconda\\lib\\site-packages\\statsmodels\\base\\model.py:568: ConvergenceWarning: Maximum Likelihood optimization failed to converge. Check mle_retvals\n",
      "  ConvergenceWarning)\n"
     ]
    },
    {
     "name": "stdout",
     "output_type": "stream",
     "text": [
      "ARIMA(2, 0, 1)x(1, 1, 2, 12)- AIC:488.6167596032669\n",
      " \n"
     ]
    },
    {
     "name": "stderr",
     "output_type": "stream",
     "text": [
      "D:\\anaconda\\lib\\site-packages\\statsmodels\\base\\model.py:568: ConvergenceWarning: Maximum Likelihood optimization failed to converge. Check mle_retvals\n",
      "  ConvergenceWarning)\n"
     ]
    },
    {
     "name": "stdout",
     "output_type": "stream",
     "text": [
      "ARIMA(2, 0, 1)x(2, 0, 0, 12)- AIC:520.094802958123\n",
      " \n"
     ]
    },
    {
     "name": "stderr",
     "output_type": "stream",
     "text": [
      "D:\\anaconda\\lib\\site-packages\\statsmodels\\base\\model.py:568: ConvergenceWarning: Maximum Likelihood optimization failed to converge. Check mle_retvals\n",
      "  ConvergenceWarning)\n"
     ]
    },
    {
     "name": "stdout",
     "output_type": "stream",
     "text": [
      "ARIMA(2, 0, 1)x(2, 0, 1, 12)- AIC:522.782918872312\n",
      " \n"
     ]
    },
    {
     "name": "stderr",
     "output_type": "stream",
     "text": [
      "D:\\anaconda\\lib\\site-packages\\statsmodels\\base\\model.py:568: ConvergenceWarning: Maximum Likelihood optimization failed to converge. Check mle_retvals\n",
      "  ConvergenceWarning)\n"
     ]
    },
    {
     "name": "stdout",
     "output_type": "stream",
     "text": [
      "ARIMA(2, 0, 1)x(2, 0, 2, 12)- AIC:530.770395895867\n",
      " \n"
     ]
    },
    {
     "name": "stderr",
     "output_type": "stream",
     "text": [
      "D:\\anaconda\\lib\\site-packages\\statsmodels\\base\\model.py:568: ConvergenceWarning: Maximum Likelihood optimization failed to converge. Check mle_retvals\n",
      "  ConvergenceWarning)\n"
     ]
    },
    {
     "name": "stdout",
     "output_type": "stream",
     "text": [
      "ARIMA(2, 0, 1)x(2, 1, 0, 12)- AIC:485.38865955420795\n",
      " \n"
     ]
    },
    {
     "name": "stderr",
     "output_type": "stream",
     "text": [
      "D:\\anaconda\\lib\\site-packages\\statsmodels\\base\\model.py:568: ConvergenceWarning: Maximum Likelihood optimization failed to converge. Check mle_retvals\n",
      "  ConvergenceWarning)\n"
     ]
    },
    {
     "name": "stdout",
     "output_type": "stream",
     "text": [
      "ARIMA(2, 0, 1)x(2, 1, 1, 12)- AIC:486.38523619452985\n",
      " \n"
     ]
    },
    {
     "name": "stderr",
     "output_type": "stream",
     "text": [
      "D:\\anaconda\\lib\\site-packages\\statsmodels\\base\\model.py:568: ConvergenceWarning: Maximum Likelihood optimization failed to converge. Check mle_retvals\n",
      "  ConvergenceWarning)\n"
     ]
    },
    {
     "name": "stdout",
     "output_type": "stream",
     "text": [
      "ARIMA(2, 0, 1)x(2, 1, 2, 12)- AIC:491.98084471903246\n",
      " \n"
     ]
    },
    {
     "name": "stderr",
     "output_type": "stream",
     "text": [
      "D:\\anaconda\\lib\\site-packages\\statsmodels\\base\\model.py:568: ConvergenceWarning: Maximum Likelihood optimization failed to converge. Check mle_retvals\n",
      "  ConvergenceWarning)\n"
     ]
    },
    {
     "name": "stdout",
     "output_type": "stream",
     "text": [
      "ARIMA(2, 0, 2)x(0, 0, 0, 12)- AIC:520.438055609691\n",
      " \n"
     ]
    },
    {
     "name": "stderr",
     "output_type": "stream",
     "text": [
      "D:\\anaconda\\lib\\site-packages\\statsmodels\\base\\model.py:568: ConvergenceWarning: Maximum Likelihood optimization failed to converge. Check mle_retvals\n",
      "  ConvergenceWarning)\n"
     ]
    },
    {
     "name": "stdout",
     "output_type": "stream",
     "text": [
      "ARIMA(2, 0, 2)x(0, 0, 1, 12)- AIC:517.1023831939033\n",
      " \n"
     ]
    },
    {
     "name": "stderr",
     "output_type": "stream",
     "text": [
      "D:\\anaconda\\lib\\site-packages\\statsmodels\\base\\model.py:568: ConvergenceWarning: Maximum Likelihood optimization failed to converge. Check mle_retvals\n",
      "  ConvergenceWarning)\n"
     ]
    },
    {
     "name": "stdout",
     "output_type": "stream",
     "text": [
      "ARIMA(2, 0, 2)x(0, 0, 2, 12)- AIC:520.690342408299\n",
      " \n"
     ]
    },
    {
     "name": "stderr",
     "output_type": "stream",
     "text": [
      "D:\\anaconda\\lib\\site-packages\\statsmodels\\base\\model.py:568: ConvergenceWarning: Maximum Likelihood optimization failed to converge. Check mle_retvals\n",
      "  ConvergenceWarning)\n"
     ]
    },
    {
     "name": "stdout",
     "output_type": "stream",
     "text": [
      "ARIMA(2, 0, 2)x(0, 1, 0, 12)- AIC:486.5902275628007\n",
      " \n"
     ]
    },
    {
     "name": "stderr",
     "output_type": "stream",
     "text": [
      "D:\\anaconda\\lib\\site-packages\\statsmodels\\base\\model.py:568: ConvergenceWarning: Maximum Likelihood optimization failed to converge. Check mle_retvals\n",
      "  ConvergenceWarning)\n"
     ]
    },
    {
     "name": "stdout",
     "output_type": "stream",
     "text": [
      "ARIMA(2, 0, 2)x(0, 1, 1, 12)- AIC:481.55107342741286\n",
      " \n"
     ]
    },
    {
     "name": "stderr",
     "output_type": "stream",
     "text": [
      "D:\\anaconda\\lib\\site-packages\\statsmodels\\base\\model.py:568: ConvergenceWarning: Maximum Likelihood optimization failed to converge. Check mle_retvals\n",
      "  ConvergenceWarning)\n"
     ]
    },
    {
     "name": "stdout",
     "output_type": "stream",
     "text": [
      "ARIMA(2, 0, 2)x(0, 1, 2, 12)- AIC:482.64293209539574\n",
      " \n"
     ]
    },
    {
     "name": "stderr",
     "output_type": "stream",
     "text": [
      "D:\\anaconda\\lib\\site-packages\\statsmodels\\base\\model.py:568: ConvergenceWarning: Maximum Likelihood optimization failed to converge. Check mle_retvals\n",
      "  ConvergenceWarning)\n"
     ]
    },
    {
     "name": "stdout",
     "output_type": "stream",
     "text": [
      "ARIMA(2, 0, 2)x(1, 0, 0, 12)- AIC:513.4339410548498\n",
      " \n"
     ]
    },
    {
     "name": "stderr",
     "output_type": "stream",
     "text": [
      "D:\\anaconda\\lib\\site-packages\\statsmodels\\base\\model.py:568: ConvergenceWarning: Maximum Likelihood optimization failed to converge. Check mle_retvals\n",
      "  ConvergenceWarning)\n"
     ]
    },
    {
     "name": "stdout",
     "output_type": "stream",
     "text": [
      "ARIMA(2, 0, 2)x(1, 0, 1, 12)- AIC:515.8508591272689\n",
      " \n"
     ]
    },
    {
     "name": "stderr",
     "output_type": "stream",
     "text": [
      "D:\\anaconda\\lib\\site-packages\\statsmodels\\base\\model.py:568: ConvergenceWarning: Maximum Likelihood optimization failed to converge. Check mle_retvals\n",
      "  ConvergenceWarning)\n"
     ]
    },
    {
     "name": "stdout",
     "output_type": "stream",
     "text": [
      "ARIMA(2, 0, 2)x(1, 0, 2, 12)- AIC:520.7586709088079\n",
      " \n"
     ]
    },
    {
     "name": "stderr",
     "output_type": "stream",
     "text": [
      "D:\\anaconda\\lib\\site-packages\\statsmodels\\base\\model.py:568: ConvergenceWarning: Maximum Likelihood optimization failed to converge. Check mle_retvals\n",
      "  ConvergenceWarning)\n"
     ]
    },
    {
     "name": "stdout",
     "output_type": "stream",
     "text": [
      "ARIMA(2, 0, 2)x(1, 1, 0, 12)- AIC:483.563925612921\n",
      " \n"
     ]
    },
    {
     "name": "stderr",
     "output_type": "stream",
     "text": [
      "D:\\anaconda\\lib\\site-packages\\statsmodels\\base\\model.py:568: ConvergenceWarning: Maximum Likelihood optimization failed to converge. Check mle_retvals\n",
      "  ConvergenceWarning)\n"
     ]
    },
    {
     "name": "stdout",
     "output_type": "stream",
     "text": [
      "ARIMA(2, 0, 2)x(1, 1, 1, 12)- AIC:482.88094425096097\n",
      " \n"
     ]
    },
    {
     "name": "stderr",
     "output_type": "stream",
     "text": [
      "D:\\anaconda\\lib\\site-packages\\statsmodels\\base\\model.py:568: ConvergenceWarning: Maximum Likelihood optimization failed to converge. Check mle_retvals\n",
      "  ConvergenceWarning)\n"
     ]
    },
    {
     "name": "stdout",
     "output_type": "stream",
     "text": [
      "ARIMA(2, 0, 2)x(1, 1, 2, 12)- AIC:484.84109911508085\n",
      " \n"
     ]
    },
    {
     "name": "stderr",
     "output_type": "stream",
     "text": [
      "D:\\anaconda\\lib\\site-packages\\statsmodels\\base\\model.py:568: ConvergenceWarning: Maximum Likelihood optimization failed to converge. Check mle_retvals\n",
      "  ConvergenceWarning)\n"
     ]
    },
    {
     "name": "stdout",
     "output_type": "stream",
     "text": [
      "ARIMA(2, 0, 2)x(2, 0, 0, 12)- AIC:512.5983442070785\n",
      " \n"
     ]
    },
    {
     "name": "stderr",
     "output_type": "stream",
     "text": [
      "D:\\anaconda\\lib\\site-packages\\statsmodels\\base\\model.py:568: ConvergenceWarning: Maximum Likelihood optimization failed to converge. Check mle_retvals\n",
      "  ConvergenceWarning)\n"
     ]
    },
    {
     "name": "stdout",
     "output_type": "stream",
     "text": [
      "ARIMA(2, 0, 2)x(2, 0, 1, 12)- AIC:515.3917077416246\n",
      " \n"
     ]
    },
    {
     "name": "stderr",
     "output_type": "stream",
     "text": [
      "D:\\anaconda\\lib\\site-packages\\statsmodels\\base\\model.py:568: ConvergenceWarning: Maximum Likelihood optimization failed to converge. Check mle_retvals\n",
      "  ConvergenceWarning)\n"
     ]
    },
    {
     "name": "stdout",
     "output_type": "stream",
     "text": [
      "ARIMA(2, 0, 2)x(2, 0, 2, 12)- AIC:523.1345424873381\n",
      " \n"
     ]
    },
    {
     "name": "stderr",
     "output_type": "stream",
     "text": [
      "D:\\anaconda\\lib\\site-packages\\statsmodels\\base\\model.py:568: ConvergenceWarning: Maximum Likelihood optimization failed to converge. Check mle_retvals\n",
      "  ConvergenceWarning)\n"
     ]
    },
    {
     "name": "stdout",
     "output_type": "stream",
     "text": [
      "ARIMA(2, 0, 2)x(2, 1, 0, 12)- AIC:482.21001668030243\n",
      " \n"
     ]
    },
    {
     "name": "stderr",
     "output_type": "stream",
     "text": [
      "D:\\anaconda\\lib\\site-packages\\statsmodels\\base\\model.py:568: ConvergenceWarning: Maximum Likelihood optimization failed to converge. Check mle_retvals\n",
      "  ConvergenceWarning)\n"
     ]
    },
    {
     "name": "stdout",
     "output_type": "stream",
     "text": [
      "ARIMA(2, 0, 2)x(2, 1, 1, 12)- AIC:483.495099210758\n",
      " \n"
     ]
    },
    {
     "name": "stderr",
     "output_type": "stream",
     "text": [
      "D:\\anaconda\\lib\\site-packages\\statsmodels\\base\\model.py:568: ConvergenceWarning: Maximum Likelihood optimization failed to converge. Check mle_retvals\n",
      "  ConvergenceWarning)\n"
     ]
    },
    {
     "name": "stdout",
     "output_type": "stream",
     "text": [
      "ARIMA(2, 0, 2)x(2, 1, 2, 12)- AIC:487.9632795525788\n",
      " \n"
     ]
    },
    {
     "name": "stderr",
     "output_type": "stream",
     "text": [
      "D:\\anaconda\\lib\\site-packages\\statsmodels\\base\\model.py:568: ConvergenceWarning: Maximum Likelihood optimization failed to converge. Check mle_retvals\n",
      "  ConvergenceWarning)\n"
     ]
    },
    {
     "name": "stdout",
     "output_type": "stream",
     "text": [
      "ARIMA(2, 1, 0)x(0, 0, 0, 12)- AIC:529.2197901147905\n",
      " \n"
     ]
    },
    {
     "name": "stderr",
     "output_type": "stream",
     "text": [
      "D:\\anaconda\\lib\\site-packages\\statsmodels\\base\\model.py:568: ConvergenceWarning: Maximum Likelihood optimization failed to converge. Check mle_retvals\n",
      "  ConvergenceWarning)\n"
     ]
    },
    {
     "name": "stdout",
     "output_type": "stream",
     "text": [
      "ARIMA(2, 1, 0)x(0, 0, 1, 12)- AIC:527.0593011460381\n",
      " \n"
     ]
    },
    {
     "name": "stderr",
     "output_type": "stream",
     "text": [
      "D:\\anaconda\\lib\\site-packages\\statsmodels\\base\\model.py:568: ConvergenceWarning: Maximum Likelihood optimization failed to converge. Check mle_retvals\n",
      "  ConvergenceWarning)\n"
     ]
    },
    {
     "name": "stdout",
     "output_type": "stream",
     "text": [
      "ARIMA(2, 1, 0)x(0, 0, 2, 12)- AIC:541.2071568613178\n",
      " \n"
     ]
    },
    {
     "name": "stderr",
     "output_type": "stream",
     "text": [
      "D:\\anaconda\\lib\\site-packages\\statsmodels\\base\\model.py:568: ConvergenceWarning: Maximum Likelihood optimization failed to converge. Check mle_retvals\n",
      "  ConvergenceWarning)\n"
     ]
    },
    {
     "name": "stdout",
     "output_type": "stream",
     "text": [
      "ARIMA(2, 1, 0)x(0, 1, 0, 12)- AIC:492.77171227608517\n",
      " \n"
     ]
    },
    {
     "name": "stderr",
     "output_type": "stream",
     "text": [
      "D:\\anaconda\\lib\\site-packages\\statsmodels\\base\\model.py:568: ConvergenceWarning: Maximum Likelihood optimization failed to converge. Check mle_retvals\n",
      "  ConvergenceWarning)\n"
     ]
    },
    {
     "name": "stdout",
     "output_type": "stream",
     "text": [
      "ARIMA(2, 1, 0)x(0, 1, 1, 12)- AIC:492.5522140222377\n",
      " \n"
     ]
    },
    {
     "name": "stderr",
     "output_type": "stream",
     "text": [
      "D:\\anaconda\\lib\\site-packages\\statsmodels\\base\\model.py:568: ConvergenceWarning: Maximum Likelihood optimization failed to converge. Check mle_retvals\n",
      "  ConvergenceWarning)\n"
     ]
    },
    {
     "name": "stdout",
     "output_type": "stream",
     "text": [
      "ARIMA(2, 1, 0)x(0, 1, 2, 12)- AIC:489.05704467138105\n",
      " \n"
     ]
    },
    {
     "name": "stderr",
     "output_type": "stream",
     "text": [
      "D:\\anaconda\\lib\\site-packages\\statsmodels\\base\\model.py:568: ConvergenceWarning: Maximum Likelihood optimization failed to converge. Check mle_retvals\n",
      "  ConvergenceWarning)\n"
     ]
    },
    {
     "name": "stdout",
     "output_type": "stream",
     "text": [
      "ARIMA(2, 1, 0)x(1, 0, 0, 12)- AIC:526.4525578433072\n",
      " \n"
     ]
    },
    {
     "name": "stderr",
     "output_type": "stream",
     "text": [
      "D:\\anaconda\\lib\\site-packages\\statsmodels\\base\\model.py:568: ConvergenceWarning: Maximum Likelihood optimization failed to converge. Check mle_retvals\n",
      "  ConvergenceWarning)\n"
     ]
    },
    {
     "name": "stdout",
     "output_type": "stream",
     "text": [
      "ARIMA(2, 1, 0)x(1, 0, 1, 12)- AIC:528.4287300670816\n",
      " \n"
     ]
    },
    {
     "name": "stderr",
     "output_type": "stream",
     "text": [
      "D:\\anaconda\\lib\\site-packages\\statsmodels\\base\\model.py:568: ConvergenceWarning: Maximum Likelihood optimization failed to converge. Check mle_retvals\n",
      "  ConvergenceWarning)\n"
     ]
    },
    {
     "name": "stdout",
     "output_type": "stream",
     "text": [
      "ARIMA(2, 1, 0)x(1, 0, 2, 12)- AIC:542.4359147648998\n",
      " \n"
     ]
    },
    {
     "name": "stderr",
     "output_type": "stream",
     "text": [
      "D:\\anaconda\\lib\\site-packages\\statsmodels\\base\\model.py:568: ConvergenceWarning: Maximum Likelihood optimization failed to converge. Check mle_retvals\n",
      "  ConvergenceWarning)\n"
     ]
    },
    {
     "name": "stdout",
     "output_type": "stream",
     "text": [
      "ARIMA(2, 1, 0)x(1, 1, 0, 12)- AIC:493.0124205431367\n",
      " \n"
     ]
    },
    {
     "name": "stderr",
     "output_type": "stream",
     "text": [
      "D:\\anaconda\\lib\\site-packages\\statsmodels\\base\\model.py:568: ConvergenceWarning: Maximum Likelihood optimization failed to converge. Check mle_retvals\n",
      "  ConvergenceWarning)\n"
     ]
    },
    {
     "name": "stdout",
     "output_type": "stream",
     "text": [
      "ARIMA(2, 1, 0)x(1, 1, 1, 12)- AIC:494.2387179794884\n",
      " \n"
     ]
    },
    {
     "name": "stderr",
     "output_type": "stream",
     "text": [
      "D:\\anaconda\\lib\\site-packages\\statsmodels\\base\\model.py:568: ConvergenceWarning: Maximum Likelihood optimization failed to converge. Check mle_retvals\n",
      "  ConvergenceWarning)\n"
     ]
    },
    {
     "name": "stdout",
     "output_type": "stream",
     "text": [
      "ARIMA(2, 1, 0)x(1, 1, 2, 12)- AIC:491.2388097227947\n",
      " \n"
     ]
    },
    {
     "name": "stderr",
     "output_type": "stream",
     "text": [
      "D:\\anaconda\\lib\\site-packages\\statsmodels\\base\\model.py:568: ConvergenceWarning: Maximum Likelihood optimization failed to converge. Check mle_retvals\n",
      "  ConvergenceWarning)\n"
     ]
    },
    {
     "name": "stdout",
     "output_type": "stream",
     "text": [
      "ARIMA(2, 1, 0)x(2, 0, 0, 12)- AIC:528.1977749457994\n",
      " \n"
     ]
    },
    {
     "name": "stderr",
     "output_type": "stream",
     "text": [
      "D:\\anaconda\\lib\\site-packages\\statsmodels\\base\\model.py:568: ConvergenceWarning: Maximum Likelihood optimization failed to converge. Check mle_retvals\n",
      "  ConvergenceWarning)\n"
     ]
    },
    {
     "name": "stdout",
     "output_type": "stream",
     "text": [
      "ARIMA(2, 1, 0)x(2, 0, 1, 12)- AIC:531.5137902000379\n",
      " \n"
     ]
    },
    {
     "name": "stderr",
     "output_type": "stream",
     "text": [
      "D:\\anaconda\\lib\\site-packages\\statsmodels\\base\\model.py:568: ConvergenceWarning: Maximum Likelihood optimization failed to converge. Check mle_retvals\n",
      "  ConvergenceWarning)\n"
     ]
    },
    {
     "name": "stdout",
     "output_type": "stream",
     "text": [
      "ARIMA(2, 1, 0)x(2, 0, 2, 12)- AIC:545.4732073321427\n",
      " \n"
     ]
    },
    {
     "name": "stderr",
     "output_type": "stream",
     "text": [
      "D:\\anaconda\\lib\\site-packages\\statsmodels\\base\\model.py:568: ConvergenceWarning: Maximum Likelihood optimization failed to converge. Check mle_retvals\n",
      "  ConvergenceWarning)\n"
     ]
    },
    {
     "name": "stdout",
     "output_type": "stream",
     "text": [
      "ARIMA(2, 1, 0)x(2, 1, 0, 12)- AIC:490.6592957532931\n",
      " \n"
     ]
    },
    {
     "name": "stderr",
     "output_type": "stream",
     "text": [
      "D:\\anaconda\\lib\\site-packages\\statsmodels\\base\\model.py:568: ConvergenceWarning: Maximum Likelihood optimization failed to converge. Check mle_retvals\n",
      "  ConvergenceWarning)\n"
     ]
    },
    {
     "name": "stdout",
     "output_type": "stream",
     "text": [
      "ARIMA(2, 1, 0)x(2, 1, 1, 12)- AIC:493.0015165634597\n",
      " \n"
     ]
    },
    {
     "name": "stderr",
     "output_type": "stream",
     "text": [
      "D:\\anaconda\\lib\\site-packages\\statsmodels\\base\\model.py:568: ConvergenceWarning: Maximum Likelihood optimization failed to converge. Check mle_retvals\n",
      "  ConvergenceWarning)\n"
     ]
    },
    {
     "name": "stdout",
     "output_type": "stream",
     "text": [
      "ARIMA(2, 1, 0)x(2, 1, 2, 12)- AIC:493.8199564217474\n",
      " \n"
     ]
    },
    {
     "name": "stderr",
     "output_type": "stream",
     "text": [
      "D:\\anaconda\\lib\\site-packages\\statsmodels\\base\\model.py:568: ConvergenceWarning: Maximum Likelihood optimization failed to converge. Check mle_retvals\n",
      "  ConvergenceWarning)\n"
     ]
    },
    {
     "name": "stdout",
     "output_type": "stream",
     "text": [
      "ARIMA(2, 1, 1)x(0, 0, 0, 12)- AIC:531.1036195316233\n",
      " \n"
     ]
    },
    {
     "name": "stderr",
     "output_type": "stream",
     "text": [
      "D:\\anaconda\\lib\\site-packages\\statsmodels\\base\\model.py:568: ConvergenceWarning: Maximum Likelihood optimization failed to converge. Check mle_retvals\n",
      "  ConvergenceWarning)\n"
     ]
    },
    {
     "name": "stdout",
     "output_type": "stream",
     "text": [
      "ARIMA(2, 1, 1)x(0, 0, 1, 12)- AIC:528.6905986578118\n",
      " \n"
     ]
    },
    {
     "name": "stderr",
     "output_type": "stream",
     "text": [
      "D:\\anaconda\\lib\\site-packages\\statsmodels\\base\\model.py:568: ConvergenceWarning: Maximum Likelihood optimization failed to converge. Check mle_retvals\n",
      "  ConvergenceWarning)\n"
     ]
    },
    {
     "name": "stdout",
     "output_type": "stream",
     "text": [
      "ARIMA(2, 1, 1)x(0, 0, 2, 12)- AIC:543.3702666487623\n",
      " \n"
     ]
    },
    {
     "name": "stderr",
     "output_type": "stream",
     "text": [
      "D:\\anaconda\\lib\\site-packages\\statsmodels\\base\\model.py:568: ConvergenceWarning: Maximum Likelihood optimization failed to converge. Check mle_retvals\n",
      "  ConvergenceWarning)\n"
     ]
    },
    {
     "name": "stdout",
     "output_type": "stream",
     "text": [
      "ARIMA(2, 1, 1)x(0, 1, 0, 12)- AIC:494.6979264010679\n",
      " \n"
     ]
    },
    {
     "name": "stderr",
     "output_type": "stream",
     "text": [
      "D:\\anaconda\\lib\\site-packages\\statsmodels\\base\\model.py:568: ConvergenceWarning: Maximum Likelihood optimization failed to converge. Check mle_retvals\n",
      "  ConvergenceWarning)\n"
     ]
    },
    {
     "name": "stdout",
     "output_type": "stream",
     "text": [
      "ARIMA(2, 1, 1)x(0, 1, 1, 12)- AIC:494.5726979876714\n",
      " \n"
     ]
    },
    {
     "name": "stderr",
     "output_type": "stream",
     "text": [
      "D:\\anaconda\\lib\\site-packages\\statsmodels\\base\\model.py:568: ConvergenceWarning: Maximum Likelihood optimization failed to converge. Check mle_retvals\n",
      "  ConvergenceWarning)\n"
     ]
    },
    {
     "name": "stdout",
     "output_type": "stream",
     "text": [
      "ARIMA(2, 1, 1)x(0, 1, 2, 12)- AIC:490.6871301780344\n",
      " \n"
     ]
    },
    {
     "name": "stderr",
     "output_type": "stream",
     "text": [
      "D:\\anaconda\\lib\\site-packages\\statsmodels\\base\\model.py:568: ConvergenceWarning: Maximum Likelihood optimization failed to converge. Check mle_retvals\n",
      "  ConvergenceWarning)\n"
     ]
    },
    {
     "name": "stdout",
     "output_type": "stream",
     "text": [
      "ARIMA(2, 1, 1)x(1, 0, 0, 12)- AIC:528.1809935180967\n",
      " \n"
     ]
    },
    {
     "name": "stderr",
     "output_type": "stream",
     "text": [
      "D:\\anaconda\\lib\\site-packages\\statsmodels\\base\\model.py:568: ConvergenceWarning: Maximum Likelihood optimization failed to converge. Check mle_retvals\n",
      "  ConvergenceWarning)\n"
     ]
    },
    {
     "name": "stdout",
     "output_type": "stream",
     "text": [
      "ARIMA(2, 1, 1)x(1, 0, 1, 12)- AIC:530.1742292533689\n",
      " \n"
     ]
    },
    {
     "name": "stderr",
     "output_type": "stream",
     "text": [
      "D:\\anaconda\\lib\\site-packages\\statsmodels\\base\\model.py:568: ConvergenceWarning: Maximum Likelihood optimization failed to converge. Check mle_retvals\n",
      "  ConvergenceWarning)\n"
     ]
    },
    {
     "name": "stdout",
     "output_type": "stream",
     "text": [
      "ARIMA(2, 1, 1)x(1, 0, 2, 12)- AIC:544.6578065203498\n",
      " \n"
     ]
    },
    {
     "name": "stderr",
     "output_type": "stream",
     "text": [
      "D:\\anaconda\\lib\\site-packages\\statsmodels\\base\\model.py:568: ConvergenceWarning: Maximum Likelihood optimization failed to converge. Check mle_retvals\n",
      "  ConvergenceWarning)\n"
     ]
    },
    {
     "name": "stdout",
     "output_type": "stream",
     "text": [
      "ARIMA(2, 1, 1)x(1, 1, 0, 12)- AIC:495.05973915756533\n",
      " \n"
     ]
    },
    {
     "name": "stderr",
     "output_type": "stream",
     "text": [
      "D:\\anaconda\\lib\\site-packages\\statsmodels\\base\\model.py:568: ConvergenceWarning: Maximum Likelihood optimization failed to converge. Check mle_retvals\n",
      "  ConvergenceWarning)\n"
     ]
    },
    {
     "name": "stdout",
     "output_type": "stream",
     "text": [
      "ARIMA(2, 1, 1)x(1, 1, 1, 12)- AIC:496.24747591750145\n",
      " \n"
     ]
    },
    {
     "name": "stderr",
     "output_type": "stream",
     "text": [
      "D:\\anaconda\\lib\\site-packages\\statsmodels\\base\\model.py:568: ConvergenceWarning: Maximum Likelihood optimization failed to converge. Check mle_retvals\n",
      "  ConvergenceWarning)\n"
     ]
    },
    {
     "name": "stdout",
     "output_type": "stream",
     "text": [
      "ARIMA(2, 1, 1)x(1, 1, 2, 12)- AIC:492.86126173843127\n",
      " \n"
     ]
    },
    {
     "name": "stderr",
     "output_type": "stream",
     "text": [
      "D:\\anaconda\\lib\\site-packages\\statsmodels\\base\\model.py:568: ConvergenceWarning: Maximum Likelihood optimization failed to converge. Check mle_retvals\n",
      "  ConvergenceWarning)\n"
     ]
    },
    {
     "name": "stdout",
     "output_type": "stream",
     "text": [
      "ARIMA(2, 1, 1)x(2, 0, 0, 12)- AIC:529.9822953187562\n",
      " \n"
     ]
    },
    {
     "name": "stderr",
     "output_type": "stream",
     "text": [
      "D:\\anaconda\\lib\\site-packages\\statsmodels\\base\\model.py:568: ConvergenceWarning: Maximum Likelihood optimization failed to converge. Check mle_retvals\n",
      "  ConvergenceWarning)\n"
     ]
    },
    {
     "name": "stdout",
     "output_type": "stream",
     "text": [
      "ARIMA(2, 1, 1)x(2, 0, 1, 12)- AIC:533.2283132536053\n",
      " \n"
     ]
    },
    {
     "name": "stderr",
     "output_type": "stream",
     "text": [
      "D:\\anaconda\\lib\\site-packages\\statsmodels\\base\\model.py:568: ConvergenceWarning: Maximum Likelihood optimization failed to converge. Check mle_retvals\n",
      "  ConvergenceWarning)\n"
     ]
    },
    {
     "name": "stdout",
     "output_type": "stream",
     "text": [
      "ARIMA(2, 1, 1)x(2, 0, 2, 12)- AIC:547.7694445542622\n",
      " \n"
     ]
    },
    {
     "name": "stderr",
     "output_type": "stream",
     "text": [
      "D:\\anaconda\\lib\\site-packages\\statsmodels\\base\\model.py:568: ConvergenceWarning: Maximum Likelihood optimization failed to converge. Check mle_retvals\n",
      "  ConvergenceWarning)\n"
     ]
    },
    {
     "name": "stdout",
     "output_type": "stream",
     "text": [
      "ARIMA(2, 1, 1)x(2, 1, 0, 12)- AIC:492.3310081029217\n",
      " \n"
     ]
    },
    {
     "name": "stderr",
     "output_type": "stream",
     "text": [
      "D:\\anaconda\\lib\\site-packages\\statsmodels\\base\\model.py:568: ConvergenceWarning: Maximum Likelihood optimization failed to converge. Check mle_retvals\n",
      "  ConvergenceWarning)\n"
     ]
    },
    {
     "name": "stdout",
     "output_type": "stream",
     "text": [
      "ARIMA(2, 1, 1)x(2, 1, 1, 12)- AIC:494.5952845351288\n",
      " \n"
     ]
    },
    {
     "name": "stderr",
     "output_type": "stream",
     "text": [
      "D:\\anaconda\\lib\\site-packages\\statsmodels\\base\\model.py:568: ConvergenceWarning: Maximum Likelihood optimization failed to converge. Check mle_retvals\n",
      "  ConvergenceWarning)\n"
     ]
    },
    {
     "name": "stdout",
     "output_type": "stream",
     "text": [
      "ARIMA(2, 1, 1)x(2, 1, 2, 12)- AIC:495.5097412901541\n",
      " \n"
     ]
    },
    {
     "name": "stderr",
     "output_type": "stream",
     "text": [
      "D:\\anaconda\\lib\\site-packages\\statsmodels\\base\\model.py:568: ConvergenceWarning: Maximum Likelihood optimization failed to converge. Check mle_retvals\n",
      "  ConvergenceWarning)\n"
     ]
    },
    {
     "name": "stdout",
     "output_type": "stream",
     "text": [
      "ARIMA(2, 1, 2)x(0, 0, 0, 12)- AIC:538.882562761327\n",
      " \n"
     ]
    },
    {
     "name": "stderr",
     "output_type": "stream",
     "text": [
      "D:\\anaconda\\lib\\site-packages\\statsmodels\\base\\model.py:568: ConvergenceWarning: Maximum Likelihood optimization failed to converge. Check mle_retvals\n",
      "  ConvergenceWarning)\n"
     ]
    },
    {
     "name": "stdout",
     "output_type": "stream",
     "text": [
      "ARIMA(2, 1, 2)x(0, 0, 1, 12)- AIC:536.670859484972\n",
      " \n"
     ]
    },
    {
     "name": "stderr",
     "output_type": "stream",
     "text": [
      "D:\\anaconda\\lib\\site-packages\\statsmodels\\base\\model.py:568: ConvergenceWarning: Maximum Likelihood optimization failed to converge. Check mle_retvals\n",
      "  ConvergenceWarning)\n"
     ]
    },
    {
     "name": "stdout",
     "output_type": "stream",
     "text": [
      "ARIMA(2, 1, 2)x(0, 0, 2, 12)- AIC:550.9264819661375\n",
      " \n"
     ]
    },
    {
     "name": "stderr",
     "output_type": "stream",
     "text": [
      "D:\\anaconda\\lib\\site-packages\\statsmodels\\base\\model.py:568: ConvergenceWarning: Maximum Likelihood optimization failed to converge. Check mle_retvals\n",
      "  ConvergenceWarning)\n"
     ]
    },
    {
     "name": "stdout",
     "output_type": "stream",
     "text": [
      "ARIMA(2, 1, 2)x(0, 1, 0, 12)- AIC:496.3957550421575\n",
      " \n"
     ]
    },
    {
     "name": "stderr",
     "output_type": "stream",
     "text": [
      "D:\\anaconda\\lib\\site-packages\\statsmodels\\base\\model.py:568: ConvergenceWarning: Maximum Likelihood optimization failed to converge. Check mle_retvals\n",
      "  ConvergenceWarning)\n"
     ]
    },
    {
     "name": "stdout",
     "output_type": "stream",
     "text": [
      "ARIMA(2, 1, 2)x(0, 1, 1, 12)- AIC:496.3640597313412\n",
      " \n"
     ]
    },
    {
     "name": "stderr",
     "output_type": "stream",
     "text": [
      "D:\\anaconda\\lib\\site-packages\\statsmodels\\base\\model.py:568: ConvergenceWarning: Maximum Likelihood optimization failed to converge. Check mle_retvals\n",
      "  ConvergenceWarning)\n"
     ]
    },
    {
     "name": "stdout",
     "output_type": "stream",
     "text": [
      "ARIMA(2, 1, 2)x(0, 1, 2, 12)- AIC:493.04393721434064\n",
      " \n"
     ]
    },
    {
     "name": "stderr",
     "output_type": "stream",
     "text": [
      "D:\\anaconda\\lib\\site-packages\\statsmodels\\base\\model.py:568: ConvergenceWarning: Maximum Likelihood optimization failed to converge. Check mle_retvals\n",
      "  ConvergenceWarning)\n"
     ]
    },
    {
     "name": "stdout",
     "output_type": "stream",
     "text": [
      "ARIMA(2, 1, 2)x(1, 0, 0, 12)- AIC:536.1542909088822\n",
      " \n"
     ]
    },
    {
     "name": "stderr",
     "output_type": "stream",
     "text": [
      "D:\\anaconda\\lib\\site-packages\\statsmodels\\base\\model.py:568: ConvergenceWarning: Maximum Likelihood optimization failed to converge. Check mle_retvals\n",
      "  ConvergenceWarning)\n"
     ]
    },
    {
     "name": "stdout",
     "output_type": "stream",
     "text": [
      "ARIMA(2, 1, 2)x(1, 0, 1, 12)- AIC:538.4555602698773\n",
      " \n"
     ]
    },
    {
     "name": "stderr",
     "output_type": "stream",
     "text": [
      "D:\\anaconda\\lib\\site-packages\\statsmodels\\base\\model.py:568: ConvergenceWarning: Maximum Likelihood optimization failed to converge. Check mle_retvals\n",
      "  ConvergenceWarning)\n"
     ]
    },
    {
     "name": "stdout",
     "output_type": "stream",
     "text": [
      "ARIMA(2, 1, 2)x(1, 0, 2, 12)- AIC:553.0609810457679\n",
=======
      "ARIMA(0, 0, 0)x(0, 0, 0, 12)- AIC:435.631830161758\n",
      " \n",
      "ARIMA(0, 0, 0)x(0, 0, 1, 12)- AIC:344.7720073418544\n",
      " \n",
      "ARIMA(0, 0, 0)x(0, 0, 2, 12)- AIC:312.88885331671895\n",
      " \n",
      "ARIMA(0, 0, 0)x(0, 0, 3, 12)- AIC:3520.150483400543\n",
      " \n",
      "ARIMA(0, 0, 0)x(1, 0, 0, 12)- AIC:363.21166259767466\n",
      " \n",
      "ARIMA(0, 0, 0)x(1, 0, 1, 12)- AIC:344.2260779758842\n",
      " \n",
      "ARIMA(0, 0, 0)x(1, 0, 2, 12)- AIC:315.0681061563107\n",
      " \n",
      "ARIMA(0, 0, 0)x(1, 0, 3, 12)- AIC:3117.783394624419\n",
      " \n",
      "ARIMA(0, 0, 0)x(2, 0, 0, 12)- AIC:329.68970552982626\n",
      " \n",
      "ARIMA(0, 0, 0)x(2, 0, 1, 12)- AIC:322.19647482527944\n",
      " \n",
      "ARIMA(0, 0, 0)x(2, 0, 2, 12)- AIC:310.6917931145529\n",
      " \n",
      "ARIMA(0, 0, 0)x(2, 0, 3, 12)- AIC:4092.677625000117\n",
      " \n",
      "ARIMA(0, 0, 0)x(3, 0, 0, 12)- AIC:258.68751725700815\n",
      " \n",
      "ARIMA(0, 0, 0)x(3, 0, 1, 12)- AIC:261.46743260997175\n",
      " \n",
      "ARIMA(0, 0, 0)x(3, 0, 2, 12)- AIC:263.91790298063233\n",
      " \n",
      "ARIMA(0, 0, 0)x(3, 0, 3, 12)- AIC:3509.0825951167967\n",
      " \n",
      "ARIMA(0, 0, 1)x(0, 0, 0, 12)- AIC:391.01600833621876\n",
      " \n",
      "ARIMA(0, 0, 1)x(0, 0, 1, 12)- AIC:329.0883514170324\n",
      " \n",
      "ARIMA(0, 0, 1)x(0, 0, 2, 12)- AIC:282.94347619891676\n",
      " \n",
      "ARIMA(0, 0, 1)x(0, 0, 3, 12)- AIC:3883.7240280941023\n",
      " \n",
      "ARIMA(0, 0, 1)x(1, 0, 0, 12)- AIC:331.6736278204577\n",
      " \n",
      "ARIMA(0, 0, 1)x(1, 0, 1, 12)- AIC:330.7080987043315\n",
      " \n",
      "ARIMA(0, 0, 1)x(1, 0, 2, 12)- AIC:286.9344647094499\n",
      " \n",
      "ARIMA(0, 0, 1)x(1, 0, 3, 12)- AIC:3598.0785842241576\n",
      " \n",
      "ARIMA(0, 0, 1)x(2, 0, 0, 12)- AIC:302.3175688347275\n",
      " \n",
      "ARIMA(0, 0, 1)x(2, 0, 1, 12)- AIC:304.4501593646205\n",
      " \n",
      "ARIMA(0, 0, 1)x(2, 0, 2, 12)- AIC:293.22896692131826\n",
      " \n",
      "ARIMA(0, 0, 1)x(2, 0, 3, 12)- AIC:3671.850893524552\n",
      " \n",
      "ARIMA(0, 0, 1)x(3, 0, 0, 12)- AIC:258.53903088965865\n",
      " \n",
      "ARIMA(0, 0, 1)x(3, 0, 1, 12)- AIC:252.00347695864966\n",
      " \n",
      "ARIMA(0, 0, 1)x(3, 0, 2, 12)- AIC:257.4632247396611\n",
      " \n",
      "ARIMA(0, 0, 1)x(3, 0, 3, 12)- AIC:3548.796347180928\n",
      " \n",
      "ARIMA(0, 0, 2)x(0, 0, 0, 12)- AIC:393.57553722086266\n",
      " \n",
      "ARIMA(0, 0, 2)x(0, 0, 1, 12)- AIC:342.51728505471783\n",
      " \n",
      "ARIMA(0, 0, 2)x(0, 0, 2, 12)- AIC:310.81349580594167\n",
      " \n",
      "ARIMA(0, 0, 2)x(0, 0, 3, 12)- AIC:4356.337409291911\n",
      " \n",
      "ARIMA(0, 0, 2)x(1, 0, 0, 12)- AIC:350.6196166127496\n",
      " \n",
      "ARIMA(0, 0, 2)x(1, 0, 1, 12)- AIC:342.1808471891799\n",
      " \n",
      "ARIMA(0, 0, 2)x(1, 0, 2, 12)- AIC:318.1765830537478\n",
      " \n",
      "ARIMA(0, 0, 2)x(1, 0, 3, 12)- AIC:4074.040384221968\n",
      " \n",
      "ARIMA(0, 0, 2)x(2, 0, 0, 12)- AIC:324.0899519312047\n",
      " \n",
      "ARIMA(0, 0, 2)x(2, 0, 1, 12)- AIC:321.74426452303567\n",
      " \n",
      "ARIMA(0, 0, 2)x(2, 0, 2, 12)- AIC:321.1721477409284\n",
      " \n",
      "ARIMA(0, 0, 2)x(2, 0, 3, 12)- AIC:4146.978067791509\n",
      " \n",
      "ARIMA(0, 0, 2)x(3, 0, 0, 12)- AIC:284.24087920809626\n",
      " \n",
      "ARIMA(0, 0, 2)x(3, 0, 1, 12)- AIC:284.2126695045288\n",
      " \n",
      "ARIMA(0, 0, 2)x(3, 0, 2, 12)- AIC:288.0153769775885\n",
      " \n",
      "ARIMA(0, 0, 2)x(3, 0, 3, 12)- AIC:4025.378277340178\n",
      " \n",
      "ARIMA(0, 0, 3)x(0, 0, 0, 12)- AIC:389.9536519089305\n",
      " \n",
      "ARIMA(0, 0, 3)x(0, 0, 1, 12)- AIC:346.72366921680043\n",
      " \n",
      "ARIMA(0, 0, 3)x(0, 0, 2, 12)- AIC:303.62601061841525\n",
      " \n",
      "ARIMA(0, 0, 3)x(0, 0, 3, 12)- AIC:3603.637119509739\n",
      " \n",
      "ARIMA(0, 0, 3)x(1, 0, 0, 12)- AIC:355.70568365334447\n",
      " \n",
      "ARIMA(0, 0, 3)x(1, 0, 1, 12)- AIC:342.9367674464313\n",
      " \n",
      "ARIMA(0, 0, 3)x(1, 0, 2, 12)- AIC:304.72214072561434\n",
      " \n",
      "ARIMA(0, 0, 3)x(1, 0, 3, 12)- AIC:3324.6854815957277\n",
      " \n",
      "ARIMA(0, 0, 3)x(2, 0, 0, 12)- AIC:325.9278702876718\n",
      " \n",
      "ARIMA(0, 0, 3)x(2, 0, 1, 12)- AIC:325.5117772763114\n",
      " \n",
      "ARIMA(0, 0, 3)x(2, 0, 2, 12)- AIC:310.6269514571724\n",
      " \n",
      "ARIMA(0, 0, 3)x(2, 0, 3, 12)- AIC:3396.7881097766804\n",
      " \n",
      "ARIMA(0, 0, 3)x(3, 0, 0, 12)- AIC:294.3995980484329\n",
      " \n",
      "ARIMA(0, 0, 3)x(3, 0, 1, 12)- AIC:288.84964855439983\n",
      " \n",
      "ARIMA(0, 0, 3)x(3, 0, 2, 12)- AIC:292.12733860420633\n",
      " \n",
      "ARIMA(0, 0, 3)x(3, 0, 3, 12)- AIC:3276.6392082100533\n",
      " \n",
      "ARIMA(1, 0, 0)x(0, 0, 0, 12)- AIC:431.3462042320212\n",
      " \n",
      "ARIMA(1, 0, 0)x(0, 0, 1, 12)- AIC:340.3752891815315\n",
      " \n",
      "ARIMA(1, 0, 0)x(0, 0, 2, 12)- AIC:305.79470325861666\n",
      " \n",
      "ARIMA(1, 0, 0)x(0, 0, 3, 12)- AIC:3605.7323439505262\n",
      " \n",
      "ARIMA(1, 0, 0)x(1, 0, 0, 12)- AIC:350.3558458484898\n",
      " \n",
      "ARIMA(1, 0, 0)x(1, 0, 1, 12)- AIC:340.180021808866\n",
      " \n",
      "ARIMA(1, 0, 0)x(1, 0, 2, 12)- AIC:307.6765209545522\n",
      " \n",
      "ARIMA(1, 0, 0)x(1, 0, 3, 12)- AIC:3316.613768256169\n",
      " \n",
      "ARIMA(1, 0, 0)x(2, 0, 0, 12)- AIC:306.54148787650695\n",
      " \n",
      "ARIMA(1, 0, 0)x(2, 0, 1, 12)- AIC:310.65007409517375\n",
      " \n",
      "ARIMA(1, 0, 0)x(2, 0, 2, 12)- AIC:307.5643130878301\n",
      " \n",
      "ARIMA(1, 0, 0)x(2, 0, 3, 12)- AIC:3391.3480413019606\n",
      " \n",
      "ARIMA(1, 0, 0)x(3, 0, 0, 12)- AIC:249.4869054527485\n",
      " \n",
      "ARIMA(1, 0, 0)x(3, 0, 1, 12)- AIC:240.36321913302285\n",
      " \n",
      "ARIMA(1, 0, 0)x(3, 0, 2, 12)- AIC:246.67428670996185\n",
      " \n",
      "ARIMA(1, 0, 0)x(3, 0, 3, 12)- AIC:3267.1471708641047\n",
      " \n",
      "ARIMA(1, 0, 1)x(0, 0, 0, 12)- AIC:405.76786875877605\n",
      " \n",
      "ARIMA(1, 0, 1)x(0, 0, 1, 12)- AIC:351.8187581541968\n",
      " \n",
      "ARIMA(1, 0, 1)x(0, 0, 2, 12)- AIC:324.01094015624926\n",
      " \n",
      "ARIMA(1, 0, 1)x(0, 0, 3, 12)- AIC:3972.2941906808073\n",
      " \n",
      "ARIMA(1, 0, 1)x(1, 0, 0, 12)- AIC:356.03455163695827\n",
      " \n",
      "ARIMA(1, 0, 1)x(1, 0, 1, 12)- AIC:353.9922249902464\n",
      " \n",
      "ARIMA(1, 0, 1)x(1, 0, 2, 12)- AIC:329.96803530482583\n",
      " \n",
      "ARIMA(1, 0, 1)x(1, 0, 3, 12)- AIC:6202.483426682072\n",
      " \n",
      "ARIMA(1, 0, 1)x(2, 0, 0, 12)- AIC:328.90897807615784\n",
      " \n",
      "ARIMA(1, 0, 1)x(2, 0, 1, 12)- AIC:329.9018742794914\n",
      " \n",
      "ARIMA(1, 0, 1)x(2, 0, 2, 12)- AIC:333.0306098802856\n",
      " \n",
      "ARIMA(1, 0, 1)x(2, 0, 3, 12)- AIC:3650.0892408811533\n",
      " \n",
      "ARIMA(1, 0, 1)x(3, 0, 0, 12)- AIC:294.8201361312618\n",
      " \n",
      "ARIMA(1, 0, 1)x(3, 0, 1, 12)- AIC:292.3189644830411\n",
      " \n",
      "ARIMA(1, 0, 1)x(3, 0, 2, 12)- AIC:291.88648331613325\n",
      " \n",
      "ARIMA(1, 0, 1)x(3, 0, 3, 12)- AIC:nan\n",
      " \n",
      "ARIMA(1, 0, 2)x(0, 0, 0, 12)- AIC:401.8612439711678\n",
      " \n",
      "ARIMA(1, 0, 2)x(0, 0, 1, 12)- AIC:354.5757525132499\n",
      " \n",
      "ARIMA(1, 0, 2)x(0, 0, 2, 12)- AIC:320.53315021326057\n",
      " \n",
      "ARIMA(1, 0, 2)x(0, 0, 3, 12)- AIC:3075.372804647449\n",
      " \n",
      "ARIMA(1, 0, 2)x(1, 0, 0, 12)- AIC:360.1581928185461\n",
      " \n",
      "ARIMA(1, 0, 2)x(1, 0, 1, 12)- AIC:357.5704827063365\n",
      " \n",
      "ARIMA(1, 0, 2)x(1, 0, 2, 12)- AIC:324.1009888027114\n",
      " \n",
      "ARIMA(1, 0, 2)x(1, 0, 3, 12)- AIC:2793.0894126161543\n",
      " \n",
      "ARIMA(1, 0, 2)x(2, 0, 0, 12)- AIC:327.6195039119525\n",
      " \n",
      "ARIMA(1, 0, 2)x(2, 0, 1, 12)- AIC:336.7390878776597\n",
      " \n",
      "ARIMA(1, 0, 2)x(2, 0, 2, 12)- AIC:332.21579631709676\n",
      " \n",
      "ARIMA(1, 0, 2)x(2, 0, 3, 12)- AIC:2864.020731311279\n",
      " \n",
      "ARIMA(1, 0, 2)x(3, 0, 0, 12)- AIC:292.9713113954169\n",
      " \n",
      "ARIMA(1, 0, 2)x(3, 0, 1, 12)- AIC:290.31427256365146\n",
      " \n",
      "ARIMA(1, 0, 2)x(3, 0, 2, 12)- AIC:299.04675078245253\n",
      " \n",
      "ARIMA(1, 0, 2)x(3, 0, 3, 12)- AIC:2742.908412851102\n",
      " \n",
      "ARIMA(1, 0, 3)x(0, 0, 0, 12)- AIC:387.1300901666319\n",
      " \n",
      "ARIMA(1, 0, 3)x(0, 0, 1, 12)- AIC:346.21424077451024\n",
      " \n",
      "ARIMA(1, 0, 3)x(0, 0, 2, 12)- AIC:301.3871983149303\n",
      " \n",
      "ARIMA(1, 0, 3)x(0, 0, 3, 12)- AIC:3818.057043388257\n",
      " \n",
      "ARIMA(1, 0, 3)x(1, 0, 0, 12)- AIC:353.14086187156306\n",
      " \n",
      "ARIMA(1, 0, 3)x(1, 0, 1, 12)- AIC:346.8794082190435\n",
      " \n",
      "ARIMA(1, 0, 3)x(1, 0, 2, 12)- AIC:308.1966549602484\n",
      " \n",
      "ARIMA(1, 0, 3)x(1, 0, 3, 12)- AIC:3539.109455727626\n",
      " \n",
      "ARIMA(1, 0, 3)x(2, 0, 0, 12)- AIC:318.2591686386629\n",
      " \n",
      "ARIMA(1, 0, 3)x(2, 0, 1, 12)- AIC:323.92967772252075\n",
      " \n",
      "ARIMA(1, 0, 3)x(2, 0, 2, 12)- AIC:309.43467226343876\n",
      " \n",
      "ARIMA(1, 0, 3)x(2, 0, 3, 12)- AIC:3611.2123519166453\n",
      " \n",
      "ARIMA(1, 0, 3)x(3, 0, 0, 12)- AIC:289.3845153643621\n",
      " \n",
      "ARIMA(1, 0, 3)x(3, 0, 1, 12)- AIC:289.21195724771917\n",
      " \n",
      "ARIMA(1, 0, 3)x(3, 0, 2, 12)- AIC:288.4388470226758\n",
      " \n",
      "ARIMA(1, 0, 3)x(3, 0, 3, 12)- AIC:3491.0650591063613\n",
      " \n",
      "ARIMA(2, 0, 0)x(0, 0, 0, 12)- AIC:422.1454441773314\n",
      " \n",
      "ARIMA(2, 0, 0)x(0, 0, 1, 12)- AIC:341.67519112790694\n",
      " \n",
      "ARIMA(2, 0, 0)x(0, 0, 2, 12)- AIC:306.3846751854111\n",
      " \n",
      "ARIMA(2, 0, 0)x(0, 0, 3, 12)- AIC:3485.34022637192\n",
      " \n",
      "ARIMA(2, 0, 0)x(1, 0, 0, 12)- AIC:340.0554235585723\n",
      " \n",
      "ARIMA(2, 0, 0)x(1, 0, 1, 12)- AIC:340.33058425149284\n",
      " \n",
      "ARIMA(2, 0, 0)x(1, 0, 2, 12)- AIC:308.2854259555609\n",
      " \n",
      "ARIMA(2, 0, 0)x(1, 0, 3, 12)- AIC:3196.3031145789487\n",
      " \n",
      "ARIMA(2, 0, 0)x(2, 0, 0, 12)- AIC:299.092525631963\n",
      " \n",
      "ARIMA(2, 0, 0)x(2, 0, 1, 12)- AIC:286.0512256152416\n",
      " \n",
      "ARIMA(2, 0, 0)x(2, 0, 2, 12)- AIC:288.9347046964698\n",
      " \n",
      "ARIMA(2, 0, 0)x(2, 0, 3, 12)- AIC:3270.773284608081\n",
      " \n",
      "ARIMA(2, 0, 0)x(3, 0, 0, 12)- AIC:238.68377502108066\n",
      " \n",
      "ARIMA(2, 0, 0)x(3, 0, 1, 12)- AIC:246.80487970257207\n",
      " \n",
      "ARIMA(2, 0, 0)x(3, 0, 2, 12)- AIC:250.57345884796013\n",
      " \n",
      "ARIMA(2, 0, 0)x(3, 0, 3, 12)- AIC:3111.97233895032\n",
      " \n",
      "ARIMA(2, 0, 1)x(0, 0, 0, 12)- AIC:399.79553021693357\n",
      " \n",
      "ARIMA(2, 0, 1)x(0, 0, 1, 12)- AIC:353.0920597205023\n",
      " \n",
      "ARIMA(2, 0, 1)x(0, 0, 2, 12)- AIC:331.6058338304737\n",
      " \n",
      "ARIMA(2, 0, 1)x(0, 0, 3, 12)- AIC:3655.707114226996\n",
      " \n",
      "ARIMA(2, 0, 1)x(1, 0, 0, 12)- AIC:356.7134776136739\n",
      " \n",
      "ARIMA(2, 0, 1)x(1, 0, 1, 12)- AIC:359.22204860829356\n",
      " \n",
      "ARIMA(2, 0, 1)x(1, 0, 2, 12)- AIC:336.36519227960804\n",
>>>>>>> a54b38a23fd89ae1039598e9c2c0c3eadb30b03a
      " \n"
     ]
    },
    {
     "name": "stderr",
     "output_type": "stream",
     "text": [
      "D:\\anaconda\\lib\\site-packages\\statsmodels\\base\\model.py:568: ConvergenceWarning: Maximum Likelihood optimization failed to converge. Check mle_retvals\n",
      "  ConvergenceWarning)\n"
     ]
    },
    {
     "name": "stdout",
     "output_type": "stream",
     "text": [
<<<<<<< HEAD
      "ARIMA(2, 1, 2)x(1, 1, 0, 12)- AIC:496.8264589773917\n",
      " \n"
     ]
    },
    {
     "name": "stderr",
     "output_type": "stream",
     "text": [
      "D:\\anaconda\\lib\\site-packages\\statsmodels\\base\\model.py:568: ConvergenceWarning: Maximum Likelihood optimization failed to converge. Check mle_retvals\n",
      "  ConvergenceWarning)\n"
     ]
    },
    {
     "name": "stdout",
     "output_type": "stream",
     "text": [
      "ARIMA(2, 1, 2)x(1, 1, 1, 12)- AIC:498.056484527566\n",
      " \n"
     ]
    },
    {
     "name": "stderr",
     "output_type": "stream",
     "text": [
      "D:\\anaconda\\lib\\site-packages\\statsmodels\\base\\model.py:568: ConvergenceWarning: Maximum Likelihood optimization failed to converge. Check mle_retvals\n",
      "  ConvergenceWarning)\n"
     ]
    },
    {
     "name": "stdout",
     "output_type": "stream",
     "text": [
      "ARIMA(2, 1, 2)x(1, 1, 2, 12)- AIC:495.19705500241537\n",
      " \n"
     ]
    },
    {
     "name": "stderr",
     "output_type": "stream",
     "text": [
      "D:\\anaconda\\lib\\site-packages\\statsmodels\\base\\model.py:568: ConvergenceWarning: Maximum Likelihood optimization failed to converge. Check mle_retvals\n",
      "  ConvergenceWarning)\n"
     ]
    },
    {
     "name": "stdout",
     "output_type": "stream",
     "text": [
      "ARIMA(2, 1, 2)x(2, 0, 0, 12)- AIC:538.3145325732628\n",
      " \n"
     ]
    },
    {
     "name": "stderr",
     "output_type": "stream",
     "text": [
      "D:\\anaconda\\lib\\site-packages\\statsmodels\\base\\model.py:568: ConvergenceWarning: Maximum Likelihood optimization failed to converge. Check mle_retvals\n",
      "  ConvergenceWarning)\n"
     ]
    },
    {
     "name": "stdout",
     "output_type": "stream",
     "text": [
      "ARIMA(2, 1, 2)x(2, 0, 1, 12)- AIC:541.3366824455259\n",
      " \n"
     ]
    },
    {
     "name": "stderr",
     "output_type": "stream",
     "text": [
      "D:\\anaconda\\lib\\site-packages\\statsmodels\\base\\model.py:568: ConvergenceWarning: Maximum Likelihood optimization failed to converge. Check mle_retvals\n",
      "  ConvergenceWarning)\n"
     ]
    },
    {
     "name": "stdout",
     "output_type": "stream",
     "text": [
      "ARIMA(2, 1, 2)x(2, 0, 2, 12)- AIC:556.812152907777\n",
      " \n"
     ]
    },
    {
     "name": "stderr",
     "output_type": "stream",
     "text": [
      "D:\\anaconda\\lib\\site-packages\\statsmodels\\base\\model.py:568: ConvergenceWarning: Maximum Likelihood optimization failed to converge. Check mle_retvals\n",
      "  ConvergenceWarning)\n"
     ]
    },
    {
     "name": "stdout",
     "output_type": "stream",
     "text": [
      "ARIMA(2, 1, 2)x(2, 1, 0, 12)- AIC:494.48679353331863\n",
      " \n"
     ]
    },
    {
     "name": "stderr",
     "output_type": "stream",
     "text": [
      "D:\\anaconda\\lib\\site-packages\\statsmodels\\base\\model.py:568: ConvergenceWarning: Maximum Likelihood optimization failed to converge. Check mle_retvals\n",
      "  ConvergenceWarning)\n"
     ]
    },
    {
     "name": "stdout",
     "output_type": "stream",
     "text": [
      "ARIMA(2, 1, 2)x(2, 1, 1, 12)- AIC:496.7852308231784\n",
      " \n"
     ]
    },
    {
     "name": "stderr",
     "output_type": "stream",
     "text": [
      "D:\\anaconda\\lib\\site-packages\\statsmodels\\base\\model.py:568: ConvergenceWarning: Maximum Likelihood optimization failed to converge. Check mle_retvals\n",
      "  ConvergenceWarning)\n"
     ]
    },
    {
     "name": "stdout",
     "output_type": "stream",
     "text": [
      "ARIMA(2, 1, 2)x(2, 1, 2, 12)- AIC:497.7740200903932\n",
=======
      "ARIMA(2, 0, 1)x(1, 0, 3, 12)- AIC:3370.0507333627615\n",
      " \n",
      "ARIMA(2, 0, 1)x(2, 0, 0, 12)- AIC:331.17747573079504\n",
      " \n",
      "ARIMA(2, 0, 1)x(2, 0, 1, 12)- AIC:335.629189803989\n",
      " \n",
      "ARIMA(2, 0, 1)x(2, 0, 2, 12)- AIC:333.95200958246323\n",
      " \n",
      "ARIMA(2, 0, 1)x(2, 0, 3, 12)- AIC:3443.892472143681\n",
      " \n",
      "ARIMA(2, 0, 1)x(3, 0, 0, 12)- AIC:290.41123874066386\n",
      " \n",
      "ARIMA(2, 0, 1)x(3, 0, 1, 12)- AIC:288.4517079297814\n",
      " \n",
      "ARIMA(2, 0, 1)x(3, 0, 2, 12)- AIC:294.22637981318917\n",
      " \n",
      "ARIMA(2, 0, 1)x(3, 0, 3, 12)- AIC:3321.290480888306\n",
      " \n",
      "ARIMA(2, 0, 2)x(0, 0, 0, 12)- AIC:386.5253982731224\n",
      " \n",
      "ARIMA(2, 0, 2)x(0, 0, 1, 12)- AIC:347.77551120919736\n",
      " \n",
      "ARIMA(2, 0, 2)x(0, 0, 2, 12)- AIC:327.5515402261902\n",
      " \n",
      "ARIMA(2, 0, 2)x(0, 0, 3, 12)- AIC:4297.959519998972\n",
      " \n",
      "ARIMA(2, 0, 2)x(1, 0, 0, 12)- AIC:349.98796567591717\n",
      " \n",
      "ARIMA(2, 0, 2)x(1, 0, 1, 12)- AIC:350.8173200728616\n",
      " \n",
      "ARIMA(2, 0, 2)x(1, 0, 2, 12)- AIC:327.83400545473415\n",
      " \n",
      "ARIMA(2, 0, 2)x(1, 0, 3, 12)- AIC:4015.6638031053913\n",
      " \n",
      "ARIMA(2, 0, 2)x(2, 0, 0, 12)- AIC:327.8668264337481\n",
      " \n",
      "ARIMA(2, 0, 2)x(2, 0, 1, 12)- AIC:326.4771001162376\n",
      " \n",
      "ARIMA(2, 0, 2)x(2, 0, 2, 12)- AIC:330.67268533959657\n",
      " \n",
      "ARIMA(2, 0, 2)x(2, 0, 3, 12)- AIC:4088.6017550182455\n",
      " \n",
      "ARIMA(2, 0, 2)x(3, 0, 0, 12)- AIC:282.36157449026115\n",
      " \n",
      "ARIMA(2, 0, 2)x(3, 0, 1, 12)- AIC:284.21333204484637\n",
      " \n",
      "ARIMA(2, 0, 2)x(3, 0, 2, 12)- AIC:297.13558318536514\n",
      " \n",
      "ARIMA(2, 0, 2)x(3, 0, 3, 12)- AIC:3967.000619920272\n",
      " \n",
      "ARIMA(2, 0, 3)x(0, 0, 0, 12)- AIC:386.45589090633626\n",
      " \n",
      "ARIMA(2, 0, 3)x(0, 0, 1, 12)- AIC:343.04838521942327\n",
      " \n",
      "ARIMA(2, 0, 3)x(0, 0, 2, 12)- AIC:298.2346303356433\n",
      " \n",
      "ARIMA(2, 0, 3)x(0, 0, 3, 12)- AIC:3408.826627672178\n",
      " \n",
      "ARIMA(2, 0, 3)x(1, 0, 0, 12)- AIC:351.05143696190254\n",
      " \n",
      "ARIMA(2, 0, 3)x(1, 0, 1, 12)- AIC:347.53072509541585\n",
      " \n",
      "ARIMA(2, 0, 3)x(1, 0, 2, 12)- AIC:298.13112341847636\n",
      " \n",
      "ARIMA(2, 0, 3)x(1, 0, 3, 12)- AIC:3129.875369216497\n",
      " \n",
      "ARIMA(2, 0, 3)x(2, 0, 0, 12)- AIC:326.4756102314054\n",
      " \n",
      "ARIMA(2, 0, 3)x(2, 0, 1, 12)- AIC:316.0619151317463\n",
      " \n",
      "ARIMA(2, 0, 3)x(2, 0, 2, 12)- AIC:301.6766160908506\n",
      " \n",
      "ARIMA(2, 0, 3)x(2, 0, 3, 12)- AIC:3201.9790155368787\n",
      " \n",
      "ARIMA(2, 0, 3)x(3, 0, 0, 12)- AIC:279.6743515233945\n",
      " \n",
      "ARIMA(2, 0, 3)x(3, 0, 1, 12)- AIC:280.4077752111002\n",
      " \n",
      "ARIMA(2, 0, 3)x(3, 0, 2, 12)- AIC:283.9387193255292\n",
      " \n",
      "ARIMA(2, 0, 3)x(3, 0, 3, 12)- AIC:3081.8311903325857\n",
      " \n",
      "ARIMA(3, 0, 0)x(0, 0, 0, 12)- AIC:402.76058074859463\n",
      " \n",
      "ARIMA(3, 0, 0)x(0, 0, 1, 12)- AIC:346.45794420365564\n",
      " \n",
      "ARIMA(3, 0, 0)x(0, 0, 2, 12)- AIC:294.017991820569\n",
      " \n",
      "ARIMA(3, 0, 0)x(0, 0, 3, 12)- AIC:3996.038700351804\n",
      " \n",
      "ARIMA(3, 0, 0)x(1, 0, 0, 12)- AIC:336.1803720326627\n",
      " \n",
      "ARIMA(3, 0, 0)x(1, 0, 1, 12)- AIC:337.52210505664465\n",
      " \n",
      "ARIMA(3, 0, 0)x(1, 0, 2, 12)- AIC:294.6373781991841\n",
      " \n",
      "ARIMA(3, 0, 0)x(1, 0, 3, 12)- AIC:3707.0557294213922\n",
      " \n",
      "ARIMA(3, 0, 0)x(2, 0, 0, 12)- AIC:286.76771120279506\n",
      " \n",
      "ARIMA(3, 0, 0)x(2, 0, 1, 12)- AIC:287.7949034960046\n",
      " \n",
      "ARIMA(3, 0, 0)x(2, 0, 2, 12)- AIC:285.8435503848166\n",
      " \n",
      "ARIMA(3, 0, 0)x(2, 0, 3, 12)- AIC:3781.661679134815\n",
      " \n",
      "ARIMA(3, 0, 0)x(3, 0, 0, 12)- AIC:239.57693157090506\n",
      " \n",
      "ARIMA(3, 0, 0)x(3, 0, 1, 12)- AIC:237.4245958552984\n",
      " \n",
      "ARIMA(3, 0, 0)x(3, 0, 2, 12)- AIC:239.85615990466087\n",
      " \n",
      "ARIMA(3, 0, 0)x(3, 0, 3, 12)- AIC:3576.759155537404\n",
      " \n",
      "ARIMA(3, 0, 1)x(0, 0, 0, 12)- AIC:360.3212081822465\n",
      " \n",
      "ARIMA(3, 0, 1)x(0, 0, 1, 12)- AIC:302.5060410140868\n",
      " \n",
      "ARIMA(3, 0, 1)x(0, 0, 2, 12)- AIC:267.0838336464854\n",
      " \n",
      "ARIMA(3, 0, 1)x(0, 0, 3, 12)- AIC:3657.731995132379\n",
      " \n",
      "ARIMA(3, 0, 1)x(1, 0, 0, 12)- AIC:305.4372896191316\n",
      " \n",
      "ARIMA(3, 0, 1)x(1, 0, 1, 12)- AIC:302.2859636715335\n",
      " \n",
      "ARIMA(3, 0, 1)x(1, 0, 2, 12)- AIC:268.53845389589765\n",
      " \n",
      "ARIMA(3, 0, 1)x(1, 0, 3, 12)- AIC:3372.0976284812496\n",
      " \n",
      "ARIMA(3, 0, 1)x(2, 0, 0, 12)- AIC:269.83816817843905\n",
      " \n",
      "ARIMA(3, 0, 1)x(2, 0, 1, 12)- AIC:274.0038337636533\n",
      " \n",
      "ARIMA(3, 0, 1)x(2, 0, 2, 12)- AIC:269.40375349266617\n",
      " \n",
      "ARIMA(3, 0, 1)x(2, 0, 3, 12)- AIC:3446.0154837395917\n",
      " \n",
      "ARIMA(3, 0, 1)x(3, 0, 0, 12)- AIC:225.64621360140552\n",
      " \n",
      "ARIMA(3, 0, 1)x(3, 0, 1, 12)- AIC:210.99565336865214\n",
      " \n",
      "ARIMA(3, 0, 1)x(3, 0, 2, 12)- AIC:218.08697741204637\n",
      " \n",
      "ARIMA(3, 0, 1)x(3, 0, 3, 12)- AIC:3429.166775366855\n",
      " \n",
      "ARIMA(3, 0, 2)x(0, 0, 0, 12)- AIC:385.5944117401747\n",
      " \n",
      "ARIMA(3, 0, 2)x(0, 0, 1, 12)- AIC:333.27926683149366\n",
      " \n",
      "ARIMA(3, 0, 2)x(0, 0, 2, 12)- AIC:306.4718918598005\n",
      " \n",
      "ARIMA(3, 0, 2)x(0, 0, 3, 12)- AIC:3369.751188848208\n",
      " \n",
      "ARIMA(3, 0, 2)x(1, 0, 0, 12)- AIC:331.2021991330944\n",
      " \n",
      "ARIMA(3, 0, 2)x(1, 0, 1, 12)- AIC:332.5154698673599\n",
      " \n",
      "ARIMA(3, 0, 2)x(1, 0, 2, 12)- AIC:306.16181652720877\n",
      " \n",
      "ARIMA(3, 0, 2)x(1, 0, 3, 12)- AIC:3087.458527279836\n",
      " \n",
      "ARIMA(3, 0, 2)x(2, 0, 0, 12)- AIC:298.1697569918255\n",
      " \n",
      "ARIMA(3, 0, 2)x(2, 0, 1, 12)- AIC:302.6303431280071\n",
      " \n",
      "ARIMA(3, 0, 2)x(2, 0, 2, 12)- AIC:307.6952998594671\n",
      " \n",
      "ARIMA(3, 0, 2)x(2, 0, 3, 12)- AIC:3160.4756420916756\n",
      " \n",
      "ARIMA(3, 0, 2)x(3, 0, 0, 12)- AIC:263.0884592590826\n",
      " \n",
      "ARIMA(3, 0, 2)x(3, 0, 1, 12)- AIC:259.5827449643981\n",
      " \n",
      "ARIMA(3, 0, 2)x(3, 0, 2, 12)- AIC:269.6433742193586\n",
      " \n",
      "ARIMA(3, 0, 2)x(3, 0, 3, 12)- AIC:3038.8779686260596\n",
      " \n",
      "ARIMA(3, 0, 3)x(0, 0, 0, 12)- AIC:387.6505558039079\n",
      " \n",
      "ARIMA(3, 0, 3)x(0, 0, 1, 12)- AIC:346.4402562593579\n",
      " \n",
      "ARIMA(3, 0, 3)x(0, 0, 2, 12)- AIC:298.4605240856024\n",
      " \n",
      "ARIMA(3, 0, 3)x(0, 0, 3, 12)- AIC:3433.5761212475886\n",
      " \n",
      "ARIMA(3, 0, 3)x(1, 0, 0, 12)- AIC:344.8405706011396\n",
      " \n",
      "ARIMA(3, 0, 3)x(1, 0, 1, 12)- AIC:348.44366209094846\n",
      " \n",
      "ARIMA(3, 0, 3)x(1, 0, 2, 12)- AIC:300.63431504975216\n",
      " \n",
      "ARIMA(3, 0, 3)x(1, 0, 3, 12)- AIC:3154.625068242243\n",
      " \n",
      "ARIMA(3, 0, 3)x(2, 0, 0, 12)- AIC:314.2240141491619\n",
      " \n",
      "ARIMA(3, 0, 3)x(2, 0, 1, 12)- AIC:317.2902035872087\n",
      " \n",
      "ARIMA(3, 0, 3)x(2, 0, 2, 12)- AIC:297.9752105964339\n",
      " \n",
      "ARIMA(3, 0, 3)x(2, 0, 3, 12)- AIC:3226.72837203735\n",
      " \n",
      "ARIMA(3, 0, 3)x(3, 0, 0, 12)- AIC:272.09001911641616\n",
      " \n",
      "ARIMA(3, 0, 3)x(3, 0, 1, 12)- AIC:276.2914172638301\n",
      " \n",
      "ARIMA(3, 0, 3)x(3, 0, 2, 12)- AIC:285.0934506318111\n",
      " \n",
      "ARIMA(3, 0, 3)x(3, 0, 3, 12)- AIC:3106.5811419503643\n",
>>>>>>> a54b38a23fd89ae1039598e9c2c0c3eadb30b03a
      " \n"
     ]
    }
   ],
   "source": [
    "p = [0,1,2]\n",
    "d = [0,1]\n",
    "q = [0,1,2]\n",
    "pdq = list(itertools.product(p, d, q))\n",
    "seasonal_pdq = [(x[0], x[1], x[2], 12) for x in list(itertools.product(p, d, q))]\n",
    "\n",
    "df = pd.DataFrame()\n",
    "for param in pdq:\n",
    "    for param_seasonal in seasonal_pdq:\n",
    "        try:\n",
    "            mod = sm.tsa.statespace.SARIMAX(y_train['Sum of Sales'],\n",
    "                                            exog = X_train,\n",
    "                                            order=param,\n",
    "                                            seasonal_order=param_seasonal)\n",
    "            results = mod.fit()\n",
    "            print('ARIMA{}x{}- AIC:{}'.format(param, param_seasonal, results.aic))\n",
    "\n",
    "            combo = [(param,param_seasonal,results.aic)]\n",
    "            df = df.append(combo)\n",
    "            print(\" \")\n",
    "        except:\n",
    "            continue\n",
    "df.columns = ['param','param_seasonal', 'AIC']"
   ]
  },
  {
   "cell_type": "code",
<<<<<<< HEAD
   "execution_count": 65,
=======
   "execution_count": 13,
>>>>>>> a54b38a23fd89ae1039598e9c2c0c3eadb30b03a
   "metadata": {
    "colab": {
     "base_uri": "https://localhost:8080/",
     "height": 419
    },
    "id": "HiZqRoLuLYDQ",
    "outputId": "526d0291-4b4b-4486-8587-579fe7d0ea39"
   },
   "outputs": [
    {
     "data": {
      "text/html": [
       "<div>\n",
       "<style scoped>\n",
       "    .dataframe tbody tr th:only-of-type {\n",
       "        vertical-align: middle;\n",
       "    }\n",
       "\n",
       "    .dataframe tbody tr th {\n",
       "        vertical-align: top;\n",
       "    }\n",
       "\n",
       "    .dataframe thead th {\n",
       "        text-align: right;\n",
       "    }\n",
       "</style>\n",
       "<table border=\"1\" class=\"dataframe\">\n",
       "  <thead>\n",
       "    <tr style=\"text-align: right;\">\n",
       "      <th></th>\n",
       "      <th>param</th>\n",
       "      <th>param_seasonal</th>\n",
       "      <th>AIC</th>\n",
       "    </tr>\n",
       "  </thead>\n",
       "  <tbody>\n",
       "    <tr>\n",
<<<<<<< HEAD
       "      <th>0</th>\n",
       "      <td>(1, 0, 0)</td>\n",
       "      <td>(0, 1, 1, 12)</td>\n",
       "      <td>477.501412</td>\n",
       "    </tr>\n",
       "    <tr>\n",
       "      <th>1</th>\n",
       "      <td>(0, 0, 1)</td>\n",
       "      <td>(0, 1, 1, 12)</td>\n",
       "      <td>477.919741</td>\n",
       "    </tr>\n",
       "    <tr>\n",
       "      <th>2</th>\n",
       "      <td>(1, 0, 0)</td>\n",
       "      <td>(2, 1, 0, 12)</td>\n",
       "      <td>477.929241</td>\n",
       "    </tr>\n",
       "    <tr>\n",
       "      <th>3</th>\n",
       "      <td>(0, 0, 0)</td>\n",
       "      <td>(0, 1, 1, 12)</td>\n",
       "      <td>478.207673</td>\n",
       "    </tr>\n",
       "    <tr>\n",
       "      <th>4</th>\n",
       "      <td>(0, 0, 1)</td>\n",
       "      <td>(2, 1, 0, 12)</td>\n",
       "      <td>478.355631</td>\n",
=======
       "      <td>0</td>\n",
       "      <td>(3, 0, 1)</td>\n",
       "      <td>(3, 0, 1, 12)</td>\n",
       "      <td>210.995653</td>\n",
       "    </tr>\n",
       "    <tr>\n",
       "      <td>1</td>\n",
       "      <td>(3, 0, 1)</td>\n",
       "      <td>(3, 0, 2, 12)</td>\n",
       "      <td>218.086977</td>\n",
       "    </tr>\n",
       "    <tr>\n",
       "      <td>2</td>\n",
       "      <td>(3, 0, 1)</td>\n",
       "      <td>(3, 0, 0, 12)</td>\n",
       "      <td>225.646214</td>\n",
       "    </tr>\n",
       "    <tr>\n",
       "      <td>3</td>\n",
       "      <td>(3, 0, 0)</td>\n",
       "      <td>(3, 0, 1, 12)</td>\n",
       "      <td>237.424596</td>\n",
       "    </tr>\n",
       "    <tr>\n",
       "      <td>4</td>\n",
       "      <td>(2, 0, 0)</td>\n",
       "      <td>(3, 0, 0, 12)</td>\n",
       "      <td>238.683775</td>\n",
>>>>>>> a54b38a23fd89ae1039598e9c2c0c3eadb30b03a
       "    </tr>\n",
       "    <tr>\n",
       "      <th>...</th>\n",
       "      <td>...</td>\n",
       "      <td>...</td>\n",
       "      <td>...</td>\n",
       "    </tr>\n",
       "    <tr>\n",
<<<<<<< HEAD
       "      <th>319</th>\n",
       "      <td>(2, 1, 2)</td>\n",
       "      <td>(2, 0, 2, 12)</td>\n",
       "      <td>556.812153</td>\n",
       "    </tr>\n",
       "    <tr>\n",
       "      <th>320</th>\n",
       "      <td>(0, 0, 0)</td>\n",
       "      <td>(0, 1, 0, 12)</td>\n",
       "      <td>994.284473</td>\n",
       "    </tr>\n",
       "    <tr>\n",
       "      <th>321</th>\n",
       "      <td>(0, 1, 0)</td>\n",
       "      <td>(0, 1, 0, 12)</td>\n",
       "      <td>996.369734</td>\n",
       "    </tr>\n",
       "    <tr>\n",
       "      <th>322</th>\n",
       "      <td>(0, 0, 0)</td>\n",
       "      <td>(0, 0, 0, 12)</td>\n",
       "      <td>1090.383733</td>\n",
       "    </tr>\n",
       "    <tr>\n",
       "      <th>323</th>\n",
       "      <td>(0, 1, 0)</td>\n",
       "      <td>(0, 0, 0, 12)</td>\n",
       "      <td>1092.638621</td>\n",
=======
       "      <td>251</td>\n",
       "      <td>(0, 0, 2)</td>\n",
       "      <td>(2, 0, 3, 12)</td>\n",
       "      <td>4146.978068</td>\n",
       "    </tr>\n",
       "    <tr>\n",
       "      <td>252</td>\n",
       "      <td>(2, 0, 2)</td>\n",
       "      <td>(0, 0, 3, 12)</td>\n",
       "      <td>4297.959520</td>\n",
       "    </tr>\n",
       "    <tr>\n",
       "      <td>253</td>\n",
       "      <td>(0, 0, 2)</td>\n",
       "      <td>(0, 0, 3, 12)</td>\n",
       "      <td>4356.337409</td>\n",
       "    </tr>\n",
       "    <tr>\n",
       "      <td>254</td>\n",
       "      <td>(1, 0, 1)</td>\n",
       "      <td>(1, 0, 3, 12)</td>\n",
       "      <td>6202.483427</td>\n",
       "    </tr>\n",
       "    <tr>\n",
       "      <td>255</td>\n",
       "      <td>(1, 0, 1)</td>\n",
       "      <td>(3, 0, 3, 12)</td>\n",
       "      <td>NaN</td>\n",
>>>>>>> a54b38a23fd89ae1039598e9c2c0c3eadb30b03a
       "    </tr>\n",
       "  </tbody>\n",
       "</table>\n",
       "<p>324 rows × 3 columns</p>\n",
       "</div>"
      ],
      "text/plain": [
       "         param param_seasonal          AIC\n",
<<<<<<< HEAD
       "0    (1, 0, 0)  (0, 1, 1, 12)   477.501412\n",
       "1    (0, 0, 1)  (0, 1, 1, 12)   477.919741\n",
       "2    (1, 0, 0)  (2, 1, 0, 12)   477.929241\n",
       "3    (0, 0, 0)  (0, 1, 1, 12)   478.207673\n",
       "4    (0, 0, 1)  (2, 1, 0, 12)   478.355631\n",
       "..         ...            ...          ...\n",
       "319  (2, 1, 2)  (2, 0, 2, 12)   556.812153\n",
       "320  (0, 0, 0)  (0, 1, 0, 12)   994.284473\n",
       "321  (0, 1, 0)  (0, 1, 0, 12)   996.369734\n",
       "322  (0, 0, 0)  (0, 0, 0, 12)  1090.383733\n",
       "323  (0, 1, 0)  (0, 0, 0, 12)  1092.638621\n",
=======
       "0    (3, 0, 1)  (3, 0, 1, 12)   210.995653\n",
       "1    (3, 0, 1)  (3, 0, 2, 12)   218.086977\n",
       "2    (3, 0, 1)  (3, 0, 0, 12)   225.646214\n",
       "3    (3, 0, 0)  (3, 0, 1, 12)   237.424596\n",
       "4    (2, 0, 0)  (3, 0, 0, 12)   238.683775\n",
       "..         ...            ...          ...\n",
       "251  (0, 0, 2)  (2, 0, 3, 12)  4146.978068\n",
       "252  (2, 0, 2)  (0, 0, 3, 12)  4297.959520\n",
       "253  (0, 0, 2)  (0, 0, 3, 12)  4356.337409\n",
       "254  (1, 0, 1)  (1, 0, 3, 12)  6202.483427\n",
       "255  (1, 0, 1)  (3, 0, 3, 12)          NaN\n",
>>>>>>> a54b38a23fd89ae1039598e9c2c0c3eadb30b03a
       "\n",
       "[324 rows x 3 columns]"
      ]
     },
<<<<<<< HEAD
     "execution_count": 65,
=======
     "execution_count": 13,
>>>>>>> a54b38a23fd89ae1039598e9c2c0c3eadb30b03a
     "metadata": {},
     "output_type": "execute_result"
    }
   ],
   "source": [
    "df = df.sort_values('AIC').reset_index(drop= True)\n",
    "df"
   ]
  },
  {
   "cell_type": "markdown",
   "metadata": {
    "id": "iNNhWYXHLhAL"
   },
   "source": [
    "The above output suggests that SARIMAX(1,0,0)(0,1,1,12) yields the lowest AIC value of 477.501412. Therefore we should consider this to be the optimal option."
   ]
  },
  {
   "cell_type": "code",
<<<<<<< HEAD
   "execution_count": null,
=======
   "execution_count": 14,
>>>>>>> a54b38a23fd89ae1039598e9c2c0c3eadb30b03a
   "metadata": {
    "colab": {
     "base_uri": "https://localhost:8080/"
    },
    "id": "kOTO2gV8Lyrv",
    "outputId": "40c519c8-d977-4807-8df3-bf530a698661"
   },
<<<<<<< HEAD
   "outputs": [],
   "source": [
    "mod = sm.tsa.statespace.SARIMAX(y_train['Sum of Sales'],\n",
    "                                exog = X_train,\n",
    "                                order=(1,0,0),\n",
    "                                seasonal_order=(0, 1, 1, 12)\n",
    "                               )\n",
=======
   "outputs": [
    {
     "name": "stdout",
     "output_type": "stream",
     "text": [
      "                                 Statespace Model Results                                 \n",
      "==========================================================================================\n",
      "Dep. Variable:                       Sum of Sales   No. Observations:                  124\n",
      "Model:             SARIMAX(3, 0, 1)x(3, 0, 1, 12)   Log Likelihood                -111.570\n",
      "Date:                            Sat, 27 Mar 2021   AIC                            381.140\n",
      "Time:                                    01:35:37   BIC                            603.943\n",
      "Sample:                                         0   HQIC                           471.648\n",
      "                                            - 124                                         \n",
      "Covariance Type:                              opg                                         \n",
      "==============================================================================\n",
      "                 coef    std err          z      P>|z|      [0.025      0.975]\n",
      "------------------------------------------------------------------------------\n",
      "x1            -0.3795      4.803     -0.079      0.937      -9.793       9.034\n",
      "x2             4.0017      1.591      2.514      0.012       0.882       7.121\n",
      "x3            -1.1064      1.892     -0.585      0.559      -4.815       2.602\n",
      "x4            -0.1764      0.723     -0.244      0.807      -1.593       1.240\n",
      "x5            -0.2737      1.506     -0.182      0.856      -3.225       2.678\n",
      "x6             0.9490      1.044      0.909      0.363      -1.097       2.995\n",
      "x7            -0.3407      4.939     -0.069      0.945     -10.020       9.339\n",
      "x8             2.7837      4.337      0.642      0.521      -5.717      11.284\n",
      "x9             0.2226      1.282      0.174      0.862      -2.291       2.736\n",
      "x10            1.2172      0.771      1.580      0.114      -0.293       2.727\n",
      "x11           -1.9136      1.740     -1.100      0.271      -5.324       1.497\n",
      "x12           -3.7564      3.066     -1.225      0.220      -9.765       2.252\n",
      "x13            1.0685      2.826      0.378      0.705      -4.471       6.608\n",
      "x14           -0.4087      2.653     -0.154      0.878      -5.608       4.791\n",
      "x15            1.1986      1.990      0.602      0.547      -2.701       5.098\n",
      "x16            0.1632      1.095      0.149      0.882      -1.983       2.310\n",
      "x17           -0.0764      0.690     -0.111      0.912      -1.429       1.276\n",
      "x18           -2.6779      5.561     -0.482      0.630     -13.576       8.221\n",
      "x19            2.4811      3.319      0.748      0.455      -4.024       8.986\n",
      "x20            0.4602      0.573      0.803      0.422      -0.663       1.584\n",
      "x21           -0.3058      0.536     -0.570      0.568      -1.356       0.745\n",
      "x22           -3.0764      2.115     -1.454      0.146      -7.222       1.069\n",
      "x23           -0.5910      0.730     -0.810      0.418      -2.021       0.839\n",
      "x24            4.3314      5.805      0.746      0.456      -7.046      15.709\n",
      "x25           -1.3845      0.791     -1.751      0.080      -2.934       0.165\n",
      "x26           -2.2450      1.982     -1.133      0.257      -6.130       1.640\n",
      "x27            0.3983      1.433      0.278      0.781      -2.410       3.207\n",
      "x28            0.0035      0.901      0.004      0.997      -1.763       1.770\n",
      "x29           -0.6631      0.775     -0.855      0.392      -2.183       0.856\n",
      "x30           -1.4686      2.265     -0.648      0.517      -5.907       2.970\n",
      "x31            0.0586      0.861      0.068      0.946      -1.629       1.746\n",
      "x32           -0.3419      0.567     -0.603      0.547      -1.454       0.770\n",
      "x33            0.9110      1.222      0.746      0.456      -1.484       3.306\n",
      "x34            0.4356      0.435      1.001      0.317      -0.417       1.288\n",
      "x35           -1.0125      0.799     -1.268      0.205      -2.578       0.553\n",
      "x36           -0.4765      1.119     -0.426      0.670      -2.669       1.716\n",
      "x37            0.2328      0.412      0.565      0.572      -0.574       1.040\n",
      "x38            0.9581      0.535      1.789      0.074      -0.091       2.008\n",
      "x39           -0.2140      0.512     -0.418      0.676      -1.218       0.790\n",
      "x40           -0.2873      0.758     -0.379      0.705      -1.772       1.198\n",
      "x41           -0.1669      0.246     -0.679      0.497      -0.649       0.315\n",
      "x42            0.9407      0.915      1.028      0.304      -0.852       2.734\n",
      "x43           -0.8810      0.522     -1.688      0.091      -1.904       0.142\n",
      "x44            0.6281      0.756      0.831      0.406      -0.853       2.109\n",
      "x45           -0.5405      1.646     -0.328      0.743      -3.766       2.685\n",
      "x46           -0.2126      0.462     -0.460      0.646      -1.119       0.693\n",
      "x47           -0.3033      0.424     -0.715      0.475      -1.135       0.528\n",
      "x48            0.4143      0.959      0.432      0.666      -1.465       2.293\n",
      "x49           -0.1432      0.330     -0.434      0.665      -0.790       0.504\n",
      "x50            0.3337      0.874      0.382      0.703      -1.380       2.047\n",
      "x51            0.4219      0.690      0.612      0.541      -0.930       1.773\n",
      "x52            0.0278      0.273      0.102      0.919      -0.507       0.563\n",
      "x53           -0.5169      0.547     -0.945      0.345      -1.589       0.555\n",
      "x54           -3.0679      1.421     -2.159      0.031      -5.853      -0.282\n",
      "x55            0.9414      2.087      0.451      0.652      -3.150       5.033\n",
      "x56            0.9273      1.760      0.527      0.598      -2.523       4.378\n",
      "x57            0.5085      0.730      0.696      0.486      -0.923       1.940\n",
      "x58            0.4581      0.707      0.648      0.517      -0.928       1.845\n",
      "x59            0.1887      0.818      0.231      0.818      -1.415       1.792\n",
      "x60           -1.2016      0.994     -1.209      0.227      -3.149       0.746\n",
      "x61           -0.2525      0.440     -0.574      0.566      -1.115       0.610\n",
      "x62            0.5789      0.537      1.077      0.281      -0.474       1.632\n",
      "x63           -0.4040      1.877     -0.215      0.830      -4.083       3.275\n",
      "x64            1.1604      0.911      1.274      0.203      -0.625       2.945\n",
      "x65           -0.3817      1.231     -0.310      0.757      -2.794       2.031\n",
      "x66           -0.4468      0.872     -0.513      0.608      -2.155       1.262\n",
      "x67           -0.1861      1.708     -0.109      0.913      -3.533       3.161\n",
      "x68           -0.4930      1.077     -0.458      0.647      -2.603       1.617\n",
      "x69           -0.6503      0.712     -0.913      0.361      -2.046       0.746\n",
      "x70           -0.0887      0.640     -0.139      0.890      -1.344       1.167\n",
      "ar.L1         -0.1953      0.306     -0.639      0.523      -0.795       0.404\n",
      "ar.L2         -0.4740      0.182     -2.600      0.009      -0.831      -0.117\n",
      "ar.L3         -0.5994      0.249     -2.409      0.016      -1.087      -0.112\n",
      "ma.L1         -0.7105      0.261     -2.725      0.006      -1.221      -0.200\n",
      "ar.S.L12       0.0891      0.690      0.129      0.897      -1.264       1.442\n",
      "ar.S.L24      -0.3809      0.284     -1.341      0.180      -0.937       0.176\n",
      "ar.S.L36       0.4863      0.341      1.427      0.154      -0.182       1.154\n",
      "ma.S.L12       0.0812      0.796      0.102      0.919      -1.479       1.642\n",
      "sigma2         0.3163      0.127      2.490      0.013       0.067       0.565\n",
      "===================================================================================\n",
      "Ljung-Box (Q):                       61.51   Jarque-Bera (JB):                 8.32\n",
      "Prob(Q):                              0.02   Prob(JB):                         0.02\n",
      "Heteroskedasticity (H):               0.69   Skew:                             0.28\n",
      "Prob(H) (two-sided):                  0.23   Kurtosis:                         4.14\n",
      "===================================================================================\n",
      "\n",
      "Warnings:\n",
      "[1] Covariance matrix calculated using the outer product of gradients (complex-step).\n"
     ]
    }
   ],
   "source": [
    "mod = sm.tsa.statespace.SARIMAX(y_train['Sum of Sales'],\n",
    "                                exog = X_train,\n",
    "                                order=(3, 0, 1),\n",
    "                                seasonal_order=(3, 0, 1, 12))\n",
>>>>>>> a54b38a23fd89ae1039598e9c2c0c3eadb30b03a
    "results = mod.fit()\n",
    "print(results.summary())"
   ]
  },
  {
   "cell_type": "code",
<<<<<<< HEAD
   "execution_count": 79,
=======
   "execution_count": 15,
>>>>>>> a54b38a23fd89ae1039598e9c2c0c3eadb30b03a
   "metadata": {
    "colab": {
     "base_uri": "https://localhost:8080/",
     "height": 513
    },
    "id": "a2Mh7bwhL_DN",
    "outputId": "3410f877-7d05-4f15-9bc5-fb12dab8f806"
   },
   "outputs": [
    {
     "data": {
<<<<<<< HEAD
      "image/png": "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\n",
=======
      "image/png": "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\n",
>>>>>>> a54b38a23fd89ae1039598e9c2c0c3eadb30b03a
      "text/plain": [
       "<Figure size 1152x576 with 4 Axes>"
      ]
     },
     "metadata": {
      "needs_background": "light"
     },
     "output_type": "display_data"
    }
   ],
   "source": [
    "results.plot_diagnostics(figsize=(16, 8))\n",
    "plt.show()"
   ]
  },
  {
   "cell_type": "markdown",
   "metadata": {
    "id": "sPjptDL7EMfI"
   },
   "source": [
    "Here we will forecast the values using the model. Can change starting point from which we need to forecast. For now we will keep starting point after 50 observations"
   ]
  },
  {
   "cell_type": "code",
<<<<<<< HEAD
   "execution_count": 80,
=======
   "execution_count": 19,
>>>>>>> a54b38a23fd89ae1039598e9c2c0c3eadb30b03a
   "metadata": {
    "colab": {
     "base_uri": "https://localhost:8080/",
     "height": 439
    },
    "id": "SjwZ_3-3MBY8",
    "outputId": "16308993-aaf0-4f4e-e33d-d663fad3f542"
   },
   "outputs": [
    {
     "data": {
<<<<<<< HEAD
      "image/png": "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\n",
=======
      "image/png": "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\n",
>>>>>>> a54b38a23fd89ae1039598e9c2c0c3eadb30b03a
      "text/plain": [
       "<Figure size 1008x504 with 1 Axes>"
      ]
     },
     "metadata": {
      "needs_background": "light"
     },
     "output_type": "display_data"
    }
   ],
   "source": [
    "#Point from which prediction starts\n",
    "start_point = 0\n",
    "pred = results.get_prediction(start=start_point)\n",
    "pred_ci = pred.conf_int()\n",
    "ax = sales['Sum of Sales'].plot(label='observed',)\n",
    "pred.predicted_mean.plot(ax=ax, label='Forecasting', alpha=.7, figsize=(14, 7))\n",
    "ax.fill_between(pred_ci.index,\n",
    "                pred_ci.iloc[:, 0],\n",
    "                pred_ci.iloc[:, 1], color='k', alpha=.2)\n",
    "plt.legend()\n",
    "plt.show()"
   ]
  },
  {
   "cell_type": "code",
<<<<<<< HEAD
   "execution_count": 81,
=======
   "execution_count": 17,
>>>>>>> a54b38a23fd89ae1039598e9c2c0c3eadb30b03a
   "metadata": {},
   "outputs": [
    {
     "data": {
      "text/plain": [
<<<<<<< HEAD
       "143     5.700062\n",
       "144     6.832798\n",
       "145     4.066725\n",
       "146     5.477774\n",
       "147    18.563629\n",
       "148     3.143017\n",
       "149     1.673686\n",
       "150     4.382309\n",
       "151     3.592438\n",
       "152     0.835242\n",
       "153     5.782014\n",
       "154     5.156117\n",
       "Name: predicted_mean, dtype: float64"
      ]
     },
     "execution_count": 81,
=======
       "124    -3.677847\n",
       "125    -0.415013\n",
       "126    -2.860554\n",
       "127    -4.941995\n",
       "128    -7.251814\n",
       "129   -12.574279\n",
       "130   -15.473311\n",
       "131   -13.358354\n",
       "132   -13.312179\n",
       "133   -13.629217\n",
       "134   -15.919850\n",
       "135   -14.032685\n",
       "136   -15.018658\n",
       "137   -13.207360\n",
       "138   -16.338972\n",
       "139   -15.709204\n",
       "140   -15.999731\n",
       "141   -14.660668\n",
       "142   -13.355359\n",
       "143   -14.552810\n",
       "144   -12.632737\n",
       "145   -12.654725\n",
       "146   -20.868118\n",
       "147   -78.550429\n",
       "148    -8.371353\n",
       "149    10.138640\n",
       "150    10.284373\n",
       "151    10.601660\n",
       "152     6.584535\n",
       "153     4.894003\n",
       "154     5.591635\n",
       "dtype: float64"
      ]
     },
     "execution_count": 17,
>>>>>>> a54b38a23fd89ae1039598e9c2c0c3eadb30b03a
     "metadata": {},
     "output_type": "execute_result"
    }
   ],
   "source": [
    "results.forecast(steps=12,exog=X_test)"
   ]
  },
  {
   "cell_type": "code",
<<<<<<< HEAD
   "execution_count": 82,
=======
   "execution_count": 18,
>>>>>>> a54b38a23fd89ae1039598e9c2c0c3eadb30b03a
   "metadata": {},
   "outputs": [
    {
     "data": {
<<<<<<< HEAD
      "image/png": "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\n",
=======
      "image/png": "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\n",
>>>>>>> a54b38a23fd89ae1039598e9c2c0c3eadb30b03a
      "text/plain": [
       "<Figure size 1008x504 with 1 Axes>"
      ]
     },
     "metadata": {
      "needs_background": "light"
     },
     "output_type": "display_data"
    }
   ],
   "source": [
    "pred_uc = results.get_forecast(steps=12,exog=X_test)\n",
    "pred_ci = pred_uc.conf_int()\n",
    "ax = sales.plot(label='observed', figsize=(14, 7))\n",
    "pred_uc.predicted_mean.plot(ax=ax, label='Forecast')\n",
    "ax.fill_between(pred_ci.index,\n",
    "                pred_ci.iloc[:, 0],\n",
    "                pred_ci.iloc[:, 1], color='k', alpha=.25)\n",
    "ax.set_xlabel('Date')\n",
    "ax.set_ylabel('Sales')\n",
    "plt.legend()\n",
    "plt.show()"
   ]
  },
  {
   "cell_type": "markdown",
   "metadata": {
    "id": "FqsiHXH1FDIy"
   },
   "source": [
    "# Model Evaluation\n",
    " - Mean Absolute Percentage Error\n",
    " - Mean Absolute Error\n",
    " - BIAS\n",
    " - Mean Squared Error\n",
    " - Root Mean Squared Error"
   ]
  },
  {
   "cell_type": "code",
<<<<<<< HEAD
   "execution_count": 63,
   "metadata": {},
=======
   "execution_count": 20,
   "metadata": {},
   "outputs": [],
   "source": [
    "predictions = pred.predicted_mean\n",
    "actual = y_train['Sum of Sales'][start_point:]"
   ]
  },
  {
   "cell_type": "code",
   "execution_count": 21,
   "metadata": {
    "scrolled": true
   },
>>>>>>> a54b38a23fd89ae1039598e9c2c0c3eadb30b03a
   "outputs": [
    {
     "name": "stdout",
     "output_type": "stream",
     "text": [
      "===================================================================\n",
      "\t\t\tModel Performance\n",
      "===================================================================\n",
      "\n",
<<<<<<< HEAD
      "Mean Absolute Percentage Error: 0.34754223127281664\n",
      "\n",
      "Mean Absolute Error: 0.802196809555037\n",
      "\n",
      "BIAS: -0.10474347626296807\n",
      "\n",
      "Mean Squared Error: 1.0203212112275388\n",
      "\n",
      "Root Mean Squared Error: 1.0101095045724195\n",
=======
      "Mean Absolute Percentage Error: 0.2091088460950474\n",
      "\n",
      "Mean Absolute Error: 0.47504956071902954\n",
      "\n",
      "BIAS: -0.017753714136033816\n",
      "\n",
      "Mean Squared Error: 0.039084101337376866\n",
      "\n",
      "Root Mean Squared Error: 0.19769699374896135\n",
>>>>>>> a54b38a23fd89ae1039598e9c2c0c3eadb30b03a
      "===================================================================\n"
     ]
    }
   ],
   "source": [
    "predictions = pred.predicted_mean\n",
    "actual = y_train['Sum of Sales'][start_point:]\n",
    "me.evaluate_model(predictions,actual)"
   ]
  },
  {
   "cell_type": "code",
<<<<<<< HEAD
   "execution_count": 64,
=======
   "execution_count": 22,
   "metadata": {},
   "outputs": [
    {
     "data": {
      "text/plain": [
       "124    -3.677847\n",
       "125    -0.415013\n",
       "126    -2.860554\n",
       "127    -4.941995\n",
       "128    -7.251814\n",
       "129   -12.574279\n",
       "130   -15.473311\n",
       "131   -13.358354\n",
       "132   -13.312179\n",
       "133   -13.629217\n",
       "134   -15.919850\n",
       "135   -14.032685\n",
       "136   -15.018658\n",
       "137   -13.207360\n",
       "138   -16.338972\n",
       "139   -15.709204\n",
       "140   -15.999731\n",
       "141   -14.660668\n",
       "142   -13.355359\n",
       "143   -14.552810\n",
       "144   -12.632737\n",
       "145   -12.654725\n",
       "146   -20.868118\n",
       "147   -78.550429\n",
       "148    -8.371353\n",
       "149    10.138640\n",
       "150    10.284373\n",
       "151    10.601660\n",
       "152     6.584535\n",
       "153     4.894003\n",
       "154     5.591635\n",
       "dtype: float64"
      ]
     },
     "execution_count": 22,
     "metadata": {},
     "output_type": "execute_result"
    }
   ],
   "source": [
    "test_prediction = results.forecast(steps=31,exog=X_test)\n",
    "test_prediction"
   ]
  },
  {
   "cell_type": "code",
   "execution_count": 23,
>>>>>>> a54b38a23fd89ae1039598e9c2c0c3eadb30b03a
   "metadata": {},
   "outputs": [
    {
     "data": {
      "text/plain": [
       "143     5.255255\n",
       "144     5.733124\n",
       "145     2.894873\n",
       "146     2.462465\n",
       "147     2.193816\n",
       "148     1.286718\n",
       "149     1.367123\n",
       "150     1.503481\n",
       "151     1.560669\n",
       "152     4.687110\n",
       "153    11.184468\n",
       "154     4.291668\n",
       "Name: Sum of Sales, dtype: float64"
      ]
     },
<<<<<<< HEAD
     "execution_count": 64,
=======
     "execution_count": 23,
>>>>>>> a54b38a23fd89ae1039598e9c2c0c3eadb30b03a
     "metadata": {},
     "output_type": "execute_result"
    }
   ],
   "source": [
    "test_prediction = results.forecast(steps=12,exog=X_test)\n",
    "test_actual = y_test['Sum of Sales']\n",
    "test_actual"
   ]
  },
  {
   "cell_type": "code",
<<<<<<< HEAD
   "execution_count": 25,
=======
   "execution_count": 24,
>>>>>>> a54b38a23fd89ae1039598e9c2c0c3eadb30b03a
   "metadata": {},
   "outputs": [
    {
     "name": "stdout",
     "output_type": "stream",
     "text": [
      "===================================================================\n",
      "\t\t\tModel Performance\n",
      "===================================================================\n",
      "\n",
<<<<<<< HEAD
      "Mean Absolute Percentage Error: 1.384163509568978\n",
      "\n",
      "Mean Absolute Error: 3.351304988186357\n",
      "\n",
      "BIAS: -1.838201130933867\n",
      "\n",
      "Mean Squared Error: 40.547800773198574\n",
      "\n",
      "Root Mean Squared Error: 6.367715506616056\n",
=======
      "Mean Absolute Percentage Error: 6.395902112120059\n",
      "\n",
      "Mean Absolute Error: 15.529885969165322\n",
      "\n",
      "BIAS: 13.60789922247745\n",
      "\n",
      "Mean Squared Error: 5740.422558722174\n",
      "\n",
      "Root Mean Squared Error: 75.7655763438923\n",
>>>>>>> a54b38a23fd89ae1039598e9c2c0c3eadb30b03a
      "===================================================================\n"
     ]
    }
   ],
   "source": [
    "me.evaluate_model(test_prediction,test_actual)"
   ]
  },
  {
   "cell_type": "code",
   "execution_count": null,
   "metadata": {},
   "outputs": [],
   "source": []
  }
 ],
 "metadata": {
  "colab": {
   "collapsed_sections": [],
   "include_colab_link": true,
   "name": "books_sarima.ipynb",
   "provenance": []
  },
  "kernelspec": {
   "display_name": "Python 3",
   "language": "python",
   "name": "python3"
  },
  "language_info": {
   "codemirror_mode": {
    "name": "ipython",
    "version": 3
   },
   "file_extension": ".py",
   "mimetype": "text/x-python",
   "name": "python",
   "nbconvert_exporter": "python",
   "pygments_lexer": "ipython3",
   "version": "3.7.1"
  }
 },
 "nbformat": 4,
 "nbformat_minor": 1
}
