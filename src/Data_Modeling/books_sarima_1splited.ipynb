{
 "cells": [
  {
   "cell_type": "code",
   "execution_count": 25,
   "metadata": {
    "colab": {
     "base_uri": "https://localhost:8080/"
    },
    "id": "SlH1v48Lmz04",
    "outputId": "097d8082-16cf-4181-8721-44fb223e83a6"
   },
   "outputs": [
    {
     "ename": "ModuleNotFoundError",
     "evalue": "No module named 'google'",
     "output_type": "error",
     "traceback": [
      "\u001b[1;31m---------------------------------------------------------------------------\u001b[0m",
      "\u001b[1;31mModuleNotFoundError\u001b[0m                       Traceback (most recent call last)",
      "\u001b[1;32m<ipython-input-25-d5df0069828e>\u001b[0m in \u001b[0;36m<module>\u001b[1;34m\u001b[0m\n\u001b[1;32m----> 1\u001b[1;33m \u001b[1;32mfrom\u001b[0m \u001b[0mgoogle\u001b[0m\u001b[1;33m.\u001b[0m\u001b[0mcolab\u001b[0m \u001b[1;32mimport\u001b[0m \u001b[0mdrive\u001b[0m\u001b[1;33m\u001b[0m\u001b[1;33m\u001b[0m\u001b[0m\n\u001b[0m\u001b[0;32m      2\u001b[0m \u001b[0mdrive\u001b[0m\u001b[1;33m.\u001b[0m\u001b[0mmount\u001b[0m\u001b[1;33m(\u001b[0m\u001b[1;34m'/content/drive'\u001b[0m\u001b[1;33m)\u001b[0m\u001b[1;33m\u001b[0m\u001b[1;33m\u001b[0m\u001b[0m\n",
      "\u001b[1;31mModuleNotFoundError\u001b[0m: No module named 'google'"
     ]
    }
   ],
   "source": [
    "from google.colab import drive\n",
    "drive.mount('/content/drive')"
   ]
  },
  {
   "cell_type": "code",
   "execution_count": 1,
   "metadata": {
    "id": "Wx5PgDOwnN1Q"
   },
   "outputs": [],
   "source": [
    "import warnings\n",
    "import itertools\n",
    "import numpy as np\n",
    "import matplotlib.pyplot as plt\n",
    "warnings.filterwarnings(\"ignore\")\n",
    "import pandas as pd\n",
    "import statsmodels.api as sm\n",
    "import matplotlib\n",
    "\n",
    "from statsmodels.tsa.arima_model import ARIMA\n",
    "from statsmodels.tsa.stattools import adfuller\n",
    "from sklearn.model_selection import train_test_split\n",
    "import statsmodels.api as sm\n",
    " \n",
    "from itertools import product\n",
    "from tqdm import tqdm_notebook\n",
    "\n",
    "import Model_Evaluation as me"
   ]
  },
  {
   "cell_type": "code",
   "execution_count": 2,
   "metadata": {
    "colab": {
     "base_uri": "https://localhost:8080/",
     "height": 419
    },
    "id": "AHzywCtwncXI",
    "outputId": "9353accc-0587-4fb5-b0b3-b536057e0bac"
   },
   "outputs": [
    {
     "data": {
      "text/html": [
       "<div>\n",
       "<style scoped>\n",
       "    .dataframe tbody tr th:only-of-type {\n",
       "        vertical-align: middle;\n",
       "    }\n",
       "\n",
       "    .dataframe tbody tr th {\n",
       "        vertical-align: top;\n",
       "    }\n",
       "\n",
       "    .dataframe thead th {\n",
       "        text-align: right;\n",
       "    }\n",
       "</style>\n",
       "<table border=\"1\" class=\"dataframe\">\n",
       "  <thead>\n",
       "    <tr style=\"text-align: right;\">\n",
       "      <th></th>\n",
       "      <th>Year_Month</th>\n",
       "      <th>Sum of Sales</th>\n",
       "    </tr>\n",
       "  </thead>\n",
       "  <tbody>\n",
       "    <tr>\n",
       "      <th>0</th>\n",
       "      <td>2008-01</td>\n",
       "      <td>2.826041</td>\n",
       "    </tr>\n",
       "    <tr>\n",
       "      <th>1</th>\n",
       "      <td>2008-02</td>\n",
       "      <td>2.624744</td>\n",
       "    </tr>\n",
       "    <tr>\n",
       "      <th>2</th>\n",
       "      <td>2008-03</td>\n",
       "      <td>3.260597</td>\n",
       "    </tr>\n",
       "    <tr>\n",
       "      <th>3</th>\n",
       "      <td>2008-04</td>\n",
       "      <td>2.153875</td>\n",
       "    </tr>\n",
       "    <tr>\n",
       "      <th>4</th>\n",
       "      <td>2008-05</td>\n",
       "      <td>4.995599</td>\n",
       "    </tr>\n",
       "    <tr>\n",
       "      <th>...</th>\n",
       "      <td>...</td>\n",
       "      <td>...</td>\n",
       "    </tr>\n",
       "    <tr>\n",
       "      <th>150</th>\n",
       "      <td>2020-07</td>\n",
       "      <td>1.503481</td>\n",
       "    </tr>\n",
       "    <tr>\n",
       "      <th>151</th>\n",
       "      <td>2020-08</td>\n",
       "      <td>1.560669</td>\n",
       "    </tr>\n",
       "    <tr>\n",
       "      <th>152</th>\n",
       "      <td>2020-09</td>\n",
       "      <td>4.687110</td>\n",
       "    </tr>\n",
       "    <tr>\n",
       "      <th>153</th>\n",
       "      <td>2020-10</td>\n",
       "      <td>11.184468</td>\n",
       "    </tr>\n",
       "    <tr>\n",
       "      <th>154</th>\n",
       "      <td>2020-11</td>\n",
       "      <td>4.291668</td>\n",
       "    </tr>\n",
       "  </tbody>\n",
       "</table>\n",
       "<p>155 rows × 2 columns</p>\n",
       "</div>"
      ],
      "text/plain": [
       "    Year_Month  Sum of Sales\n",
       "0      2008-01      2.826041\n",
       "1      2008-02      2.624744\n",
       "2      2008-03      3.260597\n",
       "3      2008-04      2.153875\n",
       "4      2008-05      4.995599\n",
       "..         ...           ...\n",
       "150    2020-07      1.503481\n",
       "151    2020-08      1.560669\n",
       "152    2020-09      4.687110\n",
       "153    2020-10     11.184468\n",
       "154    2020-11      4.291668\n",
       "\n",
       "[155 rows x 2 columns]"
      ]
     },
     "execution_count": 2,
     "metadata": {},
     "output_type": "execute_result"
    }
   ],
   "source": [
    "#books = pd.read_csv('/Users/rahulnair/Desktop/Labelmaster_/Sales_Data/Books_ext_fs.csv')\n",
    "#books = pd.read_csv('/content/drive/MyDrive/Colab Notebooks/LabelMaster/LabelMaster Data/Books_ext.csv')\n",
    "#books = pd.read_csv('C:/Users/11602/OneDrive/Practicum/LabelMaster_Sales_Forecasting/data/Books_ext_fs.csv')\n",
    "books = pd.read_csv('C:/Users/Sword Guo/OneDrive/Practicum/LabelMaster_Sales_Forecasting/data/Books_ext_fs.csv')\n",
    "sales = books[['Year_Month','Sum of Sales']]\n",
    "sales['Sum of Sales'] = sales['Sum of Sales']/100000\n",
    "sales"
   ]
  },
  {
   "cell_type": "code",
   "execution_count": 3,
   "metadata": {
    "colab": {
     "base_uri": "https://localhost:8080/",
     "height": 524
    },
    "id": "N23dKSDjclVW",
    "outputId": "bd11609e-0670-4832-85d4-1ac576c4dc43"
   },
   "outputs": [
    {
     "data": {
      "text/html": [
       "<div>\n",
       "<style scoped>\n",
       "    .dataframe tbody tr th:only-of-type {\n",
       "        vertical-align: middle;\n",
       "    }\n",
       "\n",
       "    .dataframe tbody tr th {\n",
       "        vertical-align: top;\n",
       "    }\n",
       "\n",
       "    .dataframe thead th {\n",
       "        text-align: right;\n",
       "    }\n",
       "</style>\n",
       "<table border=\"1\" class=\"dataframe\">\n",
       "  <thead>\n",
       "    <tr style=\"text-align: right;\">\n",
       "      <th></th>\n",
       "      <th>FTR Truck Loadings (000s, SA)_freight_m_trucking</th>\n",
       "      <th>FTR Active Truck Utilization (%, SA)_freight_m_trucking</th>\n",
       "      <th>Reefer Trailer Loadings (000s, SA)_freight_m_trucking</th>\n",
       "      <th>Tank Trailer Loadings (000s, SA)_freight_m_trucking</th>\n",
       "      <th>Chemicals &amp; Allied Products (000s, SA)_freight_m_trucking</th>\n",
       "      <th>Spot TL Rates (w/o FSC)_rates_m_trucking</th>\n",
       "      <th>Total LTL (w/o FSC)_rates_m_trucking</th>\n",
       "      <th>Total LTL (w/ FSC)_rates_m_trucking</th>\n",
       "      <th>Contract TL Tank Rates (w/o FSC)_rates_m_trucking</th>\n",
       "      <th>OEM Net Orders (U.S. / CAN, units)_indicators_m_trucking</th>\n",
       "      <th>...</th>\n",
       "      <th>BUILD FOR_All_Other</th>\n",
       "      <th>Change in Distillate Fuel Inventories_x</th>\n",
       "      <th>Intermodal Revenue Movements (IANA-ETSO)_Total_x</th>\n",
       "      <th>FTR Intermodal Competitive Index_Intermodal Competitive Index (0=Neutral)_x</th>\n",
       "      <th>U.S. Origin Intermodal Volumes_International_x</th>\n",
       "      <th>Canada Origin Intermodal Volumes_Domestic_x</th>\n",
       "      <th>N.A. Port Activity, Total TEUs_Exports_x</th>\n",
       "      <th>West Coast Port Activity, Total TEUs_Exports_x</th>\n",
       "      <th>Gulf Coast Port Activity, Total TEUs_Exports_x</th>\n",
       "      <th>Western Canadian Port Activity, Total TEUs_Exports_x</th>\n",
       "    </tr>\n",
       "  </thead>\n",
       "  <tbody>\n",
       "    <tr>\n",
       "      <th>0</th>\n",
       "      <td>57633.608984</td>\n",
       "      <td>88.294650</td>\n",
       "      <td>3940.638792</td>\n",
       "      <td>6915.782704</td>\n",
       "      <td>3013.868684</td>\n",
       "      <td>96.932289</td>\n",
       "      <td>99.755501</td>\n",
       "      <td>114.408275</td>\n",
       "      <td>99.995901</td>\n",
       "      <td>16185.0</td>\n",
       "      <td>...</td>\n",
       "      <td>969.0</td>\n",
       "      <td>-2981.0</td>\n",
       "      <td>1156094.0</td>\n",
       "      <td>3.341993</td>\n",
       "      <td>557011.0</td>\n",
       "      <td>46969.0</td>\n",
       "      <td>1.035742e+06</td>\n",
       "      <td>428531.270000</td>\n",
       "      <td>90322.590000</td>\n",
       "      <td>70230.000000</td>\n",
       "    </tr>\n",
       "    <tr>\n",
       "      <th>1</th>\n",
       "      <td>57175.659828</td>\n",
       "      <td>87.998407</td>\n",
       "      <td>3927.115595</td>\n",
       "      <td>6836.939472</td>\n",
       "      <td>2975.285847</td>\n",
       "      <td>99.719858</td>\n",
       "      <td>99.755501</td>\n",
       "      <td>114.867841</td>\n",
       "      <td>100.276486</td>\n",
       "      <td>11091.0</td>\n",
       "      <td>...</td>\n",
       "      <td>1104.0</td>\n",
       "      <td>-13327.0</td>\n",
       "      <td>1088826.0</td>\n",
       "      <td>2.285576</td>\n",
       "      <td>501961.0</td>\n",
       "      <td>44924.0</td>\n",
       "      <td>1.138045e+06</td>\n",
       "      <td>478707.330000</td>\n",
       "      <td>100410.660000</td>\n",
       "      <td>86567.000000</td>\n",
       "    </tr>\n",
       "    <tr>\n",
       "      <th>2</th>\n",
       "      <td>56814.700553</td>\n",
       "      <td>87.790155</td>\n",
       "      <td>3922.853376</td>\n",
       "      <td>6758.129439</td>\n",
       "      <td>2941.079313</td>\n",
       "      <td>103.347853</td>\n",
       "      <td>100.488998</td>\n",
       "      <td>117.070858</td>\n",
       "      <td>99.727612</td>\n",
       "      <td>14647.0</td>\n",
       "      <td>...</td>\n",
       "      <td>1158.0</td>\n",
       "      <td>-9852.0</td>\n",
       "      <td>1082825.0</td>\n",
       "      <td>1.924076</td>\n",
       "      <td>481100.0</td>\n",
       "      <td>46727.0</td>\n",
       "      <td>1.167742e+06</td>\n",
       "      <td>500866.450000</td>\n",
       "      <td>93384.280000</td>\n",
       "      <td>80451.000000</td>\n",
       "    </tr>\n",
       "    <tr>\n",
       "      <th>3</th>\n",
       "      <td>56916.813852</td>\n",
       "      <td>89.639867</td>\n",
       "      <td>3978.633479</td>\n",
       "      <td>6858.428982</td>\n",
       "      <td>2906.591249</td>\n",
       "      <td>111.718085</td>\n",
       "      <td>101.589242</td>\n",
       "      <td>122.811123</td>\n",
       "      <td>99.057287</td>\n",
       "      <td>14264.0</td>\n",
       "      <td>...</td>\n",
       "      <td>931.0</td>\n",
       "      <td>-733.0</td>\n",
       "      <td>1158286.0</td>\n",
       "      <td>5.986521</td>\n",
       "      <td>528843.0</td>\n",
       "      <td>53497.0</td>\n",
       "      <td>1.156788e+06</td>\n",
       "      <td>486063.840000</td>\n",
       "      <td>101642.940000</td>\n",
       "      <td>84739.000000</td>\n",
       "    </tr>\n",
       "    <tr>\n",
       "      <th>4</th>\n",
       "      <td>56194.246889</td>\n",
       "      <td>89.134818</td>\n",
       "      <td>3990.692209</td>\n",
       "      <td>6804.610846</td>\n",
       "      <td>2872.185063</td>\n",
       "      <td>117.525703</td>\n",
       "      <td>101.314181</td>\n",
       "      <td>123.968232</td>\n",
       "      <td>97.828232</td>\n",
       "      <td>12060.0</td>\n",
       "      <td>...</td>\n",
       "      <td>991.0</td>\n",
       "      <td>6890.0</td>\n",
       "      <td>1184144.0</td>\n",
       "      <td>7.940801</td>\n",
       "      <td>541259.0</td>\n",
       "      <td>53653.0</td>\n",
       "      <td>1.185090e+06</td>\n",
       "      <td>490618.980000</td>\n",
       "      <td>105424.640000</td>\n",
       "      <td>89548.000000</td>\n",
       "    </tr>\n",
       "    <tr>\n",
       "      <th>...</th>\n",
       "      <td>...</td>\n",
       "      <td>...</td>\n",
       "      <td>...</td>\n",
       "      <td>...</td>\n",
       "      <td>...</td>\n",
       "      <td>...</td>\n",
       "      <td>...</td>\n",
       "      <td>...</td>\n",
       "      <td>...</td>\n",
       "      <td>...</td>\n",
       "      <td>...</td>\n",
       "      <td>...</td>\n",
       "      <td>...</td>\n",
       "      <td>...</td>\n",
       "      <td>...</td>\n",
       "      <td>...</td>\n",
       "      <td>...</td>\n",
       "      <td>...</td>\n",
       "      <td>...</td>\n",
       "      <td>...</td>\n",
       "      <td>...</td>\n",
       "    </tr>\n",
       "    <tr>\n",
       "      <th>150</th>\n",
       "      <td>61469.059874</td>\n",
       "      <td>89.962431</td>\n",
       "      <td>4379.187334</td>\n",
       "      <td>6571.127779</td>\n",
       "      <td>2639.040651</td>\n",
       "      <td>115.128696</td>\n",
       "      <td>102.231051</td>\n",
       "      <td>113.578198</td>\n",
       "      <td>115.191063</td>\n",
       "      <td>19213.0</td>\n",
       "      <td>...</td>\n",
       "      <td>1359.0</td>\n",
       "      <td>2134.0</td>\n",
       "      <td>1526490.0</td>\n",
       "      <td>-0.192121</td>\n",
       "      <td>513074.0</td>\n",
       "      <td>57503.0</td>\n",
       "      <td>1.095134e+06</td>\n",
       "      <td>393775.832112</td>\n",
       "      <td>125276.157772</td>\n",
       "      <td>103172.000000</td>\n",
       "    </tr>\n",
       "    <tr>\n",
       "      <th>151</th>\n",
       "      <td>62140.797176</td>\n",
       "      <td>90.641835</td>\n",
       "      <td>4404.415547</td>\n",
       "      <td>6601.260917</td>\n",
       "      <td>2676.666422</td>\n",
       "      <td>129.107598</td>\n",
       "      <td>104.339853</td>\n",
       "      <td>115.812566</td>\n",
       "      <td>114.911925</td>\n",
       "      <td>18302.0</td>\n",
       "      <td>...</td>\n",
       "      <td>1671.0</td>\n",
       "      <td>1353.0</td>\n",
       "      <td>1575928.0</td>\n",
       "      <td>0.625716</td>\n",
       "      <td>546740.0</td>\n",
       "      <td>56478.0</td>\n",
       "      <td>1.108304e+06</td>\n",
       "      <td>389408.103791</td>\n",
       "      <td>125319.157772</td>\n",
       "      <td>93979.000000</td>\n",
       "    </tr>\n",
       "    <tr>\n",
       "      <th>152</th>\n",
       "      <td>62170.174317</td>\n",
       "      <td>90.587889</td>\n",
       "      <td>4381.188114</td>\n",
       "      <td>6556.745680</td>\n",
       "      <td>2600.808117</td>\n",
       "      <td>136.100117</td>\n",
       "      <td>105.898533</td>\n",
       "      <td>117.464895</td>\n",
       "      <td>115.470202</td>\n",
       "      <td>28766.0</td>\n",
       "      <td>...</td>\n",
       "      <td>1711.0</td>\n",
       "      <td>-7196.0</td>\n",
       "      <td>1617044.0</td>\n",
       "      <td>5.475578</td>\n",
       "      <td>557748.0</td>\n",
       "      <td>59269.0</td>\n",
       "      <td>1.099329e+06</td>\n",
       "      <td>386298.700253</td>\n",
       "      <td>117576.128306</td>\n",
       "      <td>103129.000000</td>\n",
       "    </tr>\n",
       "    <tr>\n",
       "      <th>153</th>\n",
       "      <td>62870.759335</td>\n",
       "      <td>94.367218</td>\n",
       "      <td>4436.920215</td>\n",
       "      <td>6523.796564</td>\n",
       "      <td>2593.200335</td>\n",
       "      <td>140.122763</td>\n",
       "      <td>106.265281</td>\n",
       "      <td>117.793788</td>\n",
       "      <td>115.098017</td>\n",
       "      <td>36912.0</td>\n",
       "      <td>...</td>\n",
       "      <td>2018.0</td>\n",
       "      <td>-10130.4</td>\n",
       "      <td>1705714.0</td>\n",
       "      <td>9.817290</td>\n",
       "      <td>591616.0</td>\n",
       "      <td>60708.0</td>\n",
       "      <td>1.186353e+06</td>\n",
       "      <td>410614.677268</td>\n",
       "      <td>123604.184721</td>\n",
       "      <td>105255.000000</td>\n",
       "    </tr>\n",
       "    <tr>\n",
       "      <th>154</th>\n",
       "      <td>63237.027387</td>\n",
       "      <td>95.404858</td>\n",
       "      <td>4457.161049</td>\n",
       "      <td>6528.943165</td>\n",
       "      <td>2589.965347</td>\n",
       "      <td>138.706256</td>\n",
       "      <td>107.591849</td>\n",
       "      <td>119.272026</td>\n",
       "      <td>116.095115</td>\n",
       "      <td>49818.0</td>\n",
       "      <td>...</td>\n",
       "      <td>1601.0</td>\n",
       "      <td>-16121.6</td>\n",
       "      <td>1565892.0</td>\n",
       "      <td>8.110988</td>\n",
       "      <td>554324.0</td>\n",
       "      <td>57649.0</td>\n",
       "      <td>1.135686e+06</td>\n",
       "      <td>365926.096985</td>\n",
       "      <td>130627.239881</td>\n",
       "      <td>102805.965936</td>\n",
       "    </tr>\n",
       "  </tbody>\n",
       "</table>\n",
       "<p>155 rows × 70 columns</p>\n",
       "</div>"
      ],
      "text/plain": [
       "     FTR Truck Loadings (000s, SA)_freight_m_trucking  \\\n",
       "0                                        57633.608984   \n",
       "1                                        57175.659828   \n",
       "2                                        56814.700553   \n",
       "3                                        56916.813852   \n",
       "4                                        56194.246889   \n",
       "..                                                ...   \n",
       "150                                      61469.059874   \n",
       "151                                      62140.797176   \n",
       "152                                      62170.174317   \n",
       "153                                      62870.759335   \n",
       "154                                      63237.027387   \n",
       "\n",
       "     FTR Active Truck Utilization (%, SA)_freight_m_trucking  \\\n",
       "0                                            88.294650         \n",
       "1                                            87.998407         \n",
       "2                                            87.790155         \n",
       "3                                            89.639867         \n",
       "4                                            89.134818         \n",
       "..                                                 ...         \n",
       "150                                          89.962431         \n",
       "151                                          90.641835         \n",
       "152                                          90.587889         \n",
       "153                                          94.367218         \n",
       "154                                          95.404858         \n",
       "\n",
       "     Reefer Trailer Loadings (000s, SA)_freight_m_trucking  \\\n",
       "0                                          3940.638792       \n",
       "1                                          3927.115595       \n",
       "2                                          3922.853376       \n",
       "3                                          3978.633479       \n",
       "4                                          3990.692209       \n",
       "..                                                 ...       \n",
       "150                                        4379.187334       \n",
       "151                                        4404.415547       \n",
       "152                                        4381.188114       \n",
       "153                                        4436.920215       \n",
       "154                                        4457.161049       \n",
       "\n",
       "     Tank Trailer Loadings (000s, SA)_freight_m_trucking  \\\n",
       "0                                          6915.782704     \n",
       "1                                          6836.939472     \n",
       "2                                          6758.129439     \n",
       "3                                          6858.428982     \n",
       "4                                          6804.610846     \n",
       "..                                                 ...     \n",
       "150                                        6571.127779     \n",
       "151                                        6601.260917     \n",
       "152                                        6556.745680     \n",
       "153                                        6523.796564     \n",
       "154                                        6528.943165     \n",
       "\n",
       "     Chemicals & Allied Products (000s, SA)_freight_m_trucking  \\\n",
       "0                                          3013.868684           \n",
       "1                                          2975.285847           \n",
       "2                                          2941.079313           \n",
       "3                                          2906.591249           \n",
       "4                                          2872.185063           \n",
       "..                                                 ...           \n",
       "150                                        2639.040651           \n",
       "151                                        2676.666422           \n",
       "152                                        2600.808117           \n",
       "153                                        2593.200335           \n",
       "154                                        2589.965347           \n",
       "\n",
       "     Spot TL Rates (w/o FSC)_rates_m_trucking  \\\n",
       "0                                   96.932289   \n",
       "1                                   99.719858   \n",
       "2                                  103.347853   \n",
       "3                                  111.718085   \n",
       "4                                  117.525703   \n",
       "..                                        ...   \n",
       "150                                115.128696   \n",
       "151                                129.107598   \n",
       "152                                136.100117   \n",
       "153                                140.122763   \n",
       "154                                138.706256   \n",
       "\n",
       "     Total LTL (w/o FSC)_rates_m_trucking  \\\n",
       "0                               99.755501   \n",
       "1                               99.755501   \n",
       "2                              100.488998   \n",
       "3                              101.589242   \n",
       "4                              101.314181   \n",
       "..                                    ...   \n",
       "150                            102.231051   \n",
       "151                            104.339853   \n",
       "152                            105.898533   \n",
       "153                            106.265281   \n",
       "154                            107.591849   \n",
       "\n",
       "     Total LTL (w/ FSC)_rates_m_trucking  \\\n",
       "0                             114.408275   \n",
       "1                             114.867841   \n",
       "2                             117.070858   \n",
       "3                             122.811123   \n",
       "4                             123.968232   \n",
       "..                                   ...   \n",
       "150                           113.578198   \n",
       "151                           115.812566   \n",
       "152                           117.464895   \n",
       "153                           117.793788   \n",
       "154                           119.272026   \n",
       "\n",
       "     Contract TL Tank Rates (w/o FSC)_rates_m_trucking  \\\n",
       "0                                            99.995901   \n",
       "1                                           100.276486   \n",
       "2                                            99.727612   \n",
       "3                                            99.057287   \n",
       "4                                            97.828232   \n",
       "..                                                 ...   \n",
       "150                                         115.191063   \n",
       "151                                         114.911925   \n",
       "152                                         115.470202   \n",
       "153                                         115.098017   \n",
       "154                                         116.095115   \n",
       "\n",
       "     OEM Net Orders (U.S. / CAN, units)_indicators_m_trucking  ...  \\\n",
       "0                                              16185.0         ...   \n",
       "1                                              11091.0         ...   \n",
       "2                                              14647.0         ...   \n",
       "3                                              14264.0         ...   \n",
       "4                                              12060.0         ...   \n",
       "..                                                 ...         ...   \n",
       "150                                            19213.0         ...   \n",
       "151                                            18302.0         ...   \n",
       "152                                            28766.0         ...   \n",
       "153                                            36912.0         ...   \n",
       "154                                            49818.0         ...   \n",
       "\n",
       "     BUILD FOR_All_Other  Change in Distillate Fuel Inventories_x  \\\n",
       "0                  969.0                                  -2981.0   \n",
       "1                 1104.0                                 -13327.0   \n",
       "2                 1158.0                                  -9852.0   \n",
       "3                  931.0                                   -733.0   \n",
       "4                  991.0                                   6890.0   \n",
       "..                   ...                                      ...   \n",
       "150               1359.0                                   2134.0   \n",
       "151               1671.0                                   1353.0   \n",
       "152               1711.0                                  -7196.0   \n",
       "153               2018.0                                 -10130.4   \n",
       "154               1601.0                                 -16121.6   \n",
       "\n",
       "     Intermodal Revenue Movements (IANA-ETSO)_Total_x  \\\n",
       "0                                           1156094.0   \n",
       "1                                           1088826.0   \n",
       "2                                           1082825.0   \n",
       "3                                           1158286.0   \n",
       "4                                           1184144.0   \n",
       "..                                                ...   \n",
       "150                                         1526490.0   \n",
       "151                                         1575928.0   \n",
       "152                                         1617044.0   \n",
       "153                                         1705714.0   \n",
       "154                                         1565892.0   \n",
       "\n",
       "     FTR Intermodal Competitive Index_Intermodal Competitive Index (0=Neutral)_x  \\\n",
       "0                                             3.341993                             \n",
       "1                                             2.285576                             \n",
       "2                                             1.924076                             \n",
       "3                                             5.986521                             \n",
       "4                                             7.940801                             \n",
       "..                                                 ...                             \n",
       "150                                          -0.192121                             \n",
       "151                                           0.625716                             \n",
       "152                                           5.475578                             \n",
       "153                                           9.817290                             \n",
       "154                                           8.110988                             \n",
       "\n",
       "     U.S. Origin Intermodal Volumes_International_x  \\\n",
       "0                                          557011.0   \n",
       "1                                          501961.0   \n",
       "2                                          481100.0   \n",
       "3                                          528843.0   \n",
       "4                                          541259.0   \n",
       "..                                              ...   \n",
       "150                                        513074.0   \n",
       "151                                        546740.0   \n",
       "152                                        557748.0   \n",
       "153                                        591616.0   \n",
       "154                                        554324.0   \n",
       "\n",
       "     Canada Origin Intermodal Volumes_Domestic_x  \\\n",
       "0                                        46969.0   \n",
       "1                                        44924.0   \n",
       "2                                        46727.0   \n",
       "3                                        53497.0   \n",
       "4                                        53653.0   \n",
       "..                                           ...   \n",
       "150                                      57503.0   \n",
       "151                                      56478.0   \n",
       "152                                      59269.0   \n",
       "153                                      60708.0   \n",
       "154                                      57649.0   \n",
       "\n",
       "     N.A. Port Activity, Total TEUs_Exports_x  \\\n",
       "0                                1.035742e+06   \n",
       "1                                1.138045e+06   \n",
       "2                                1.167742e+06   \n",
       "3                                1.156788e+06   \n",
       "4                                1.185090e+06   \n",
       "..                                        ...   \n",
       "150                              1.095134e+06   \n",
       "151                              1.108304e+06   \n",
       "152                              1.099329e+06   \n",
       "153                              1.186353e+06   \n",
       "154                              1.135686e+06   \n",
       "\n",
       "     West Coast Port Activity, Total TEUs_Exports_x  \\\n",
       "0                                     428531.270000   \n",
       "1                                     478707.330000   \n",
       "2                                     500866.450000   \n",
       "3                                     486063.840000   \n",
       "4                                     490618.980000   \n",
       "..                                              ...   \n",
       "150                                   393775.832112   \n",
       "151                                   389408.103791   \n",
       "152                                   386298.700253   \n",
       "153                                   410614.677268   \n",
       "154                                   365926.096985   \n",
       "\n",
       "     Gulf Coast Port Activity, Total TEUs_Exports_x  \\\n",
       "0                                      90322.590000   \n",
       "1                                     100410.660000   \n",
       "2                                      93384.280000   \n",
       "3                                     101642.940000   \n",
       "4                                     105424.640000   \n",
       "..                                              ...   \n",
       "150                                   125276.157772   \n",
       "151                                   125319.157772   \n",
       "152                                   117576.128306   \n",
       "153                                   123604.184721   \n",
       "154                                   130627.239881   \n",
       "\n",
       "     Western Canadian Port Activity, Total TEUs_Exports_x  \n",
       "0                                         70230.000000     \n",
       "1                                         86567.000000     \n",
       "2                                         80451.000000     \n",
       "3                                         84739.000000     \n",
       "4                                         89548.000000     \n",
       "..                                                 ...     \n",
       "150                                      103172.000000     \n",
       "151                                       93979.000000     \n",
       "152                                      103129.000000     \n",
       "153                                      105255.000000     \n",
       "154                                      102805.965936     \n",
       "\n",
       "[155 rows x 70 columns]"
      ]
     },
     "execution_count": 3,
     "metadata": {},
     "output_type": "execute_result"
    }
   ],
   "source": [
    "books = books.dropna(axis = 1)\n",
    "exog = books.iloc[:,2:]\n",
    "exog"
   ]
  },
  {
   "cell_type": "code",
   "execution_count": 4,
   "metadata": {},
   "outputs": [],
   "source": [
    "train,test = train_test_split(sales, test_size=0.075, random_state=60616, shuffle=False)"
   ]
  },
  {
   "cell_type": "code",
   "execution_count": 5,
   "metadata": {},
   "outputs": [
    {
     "data": {
      "text/html": [
       "<div>\n",
       "<style scoped>\n",
       "    .dataframe tbody tr th:only-of-type {\n",
       "        vertical-align: middle;\n",
       "    }\n",
       "\n",
       "    .dataframe tbody tr th {\n",
       "        vertical-align: top;\n",
       "    }\n",
       "\n",
       "    .dataframe thead th {\n",
       "        text-align: right;\n",
       "    }\n",
       "</style>\n",
       "<table border=\"1\" class=\"dataframe\">\n",
       "  <thead>\n",
       "    <tr style=\"text-align: right;\">\n",
       "      <th></th>\n",
       "      <th>Year_Month</th>\n",
       "      <th>Sum of Sales</th>\n",
       "    </tr>\n",
       "  </thead>\n",
       "  <tbody>\n",
       "    <tr>\n",
       "      <th>143</th>\n",
       "      <td>2019-12</td>\n",
       "      <td>5.255255</td>\n",
       "    </tr>\n",
       "    <tr>\n",
       "      <th>144</th>\n",
       "      <td>2020-01</td>\n",
       "      <td>5.733124</td>\n",
       "    </tr>\n",
       "    <tr>\n",
       "      <th>145</th>\n",
       "      <td>2020-02</td>\n",
       "      <td>2.894873</td>\n",
       "    </tr>\n",
       "    <tr>\n",
       "      <th>146</th>\n",
       "      <td>2020-03</td>\n",
       "      <td>2.462465</td>\n",
       "    </tr>\n",
       "    <tr>\n",
       "      <th>147</th>\n",
       "      <td>2020-04</td>\n",
       "      <td>2.193816</td>\n",
       "    </tr>\n",
       "    <tr>\n",
       "      <th>148</th>\n",
       "      <td>2020-05</td>\n",
       "      <td>1.286718</td>\n",
       "    </tr>\n",
       "    <tr>\n",
       "      <th>149</th>\n",
       "      <td>2020-06</td>\n",
       "      <td>1.367123</td>\n",
       "    </tr>\n",
       "    <tr>\n",
       "      <th>150</th>\n",
       "      <td>2020-07</td>\n",
       "      <td>1.503481</td>\n",
       "    </tr>\n",
       "    <tr>\n",
       "      <th>151</th>\n",
       "      <td>2020-08</td>\n",
       "      <td>1.560669</td>\n",
       "    </tr>\n",
       "    <tr>\n",
       "      <th>152</th>\n",
       "      <td>2020-09</td>\n",
       "      <td>4.687110</td>\n",
       "    </tr>\n",
       "    <tr>\n",
       "      <th>153</th>\n",
       "      <td>2020-10</td>\n",
       "      <td>11.184468</td>\n",
       "    </tr>\n",
       "    <tr>\n",
       "      <th>154</th>\n",
       "      <td>2020-11</td>\n",
       "      <td>4.291668</td>\n",
       "    </tr>\n",
       "  </tbody>\n",
       "</table>\n",
       "</div>"
      ],
      "text/plain": [
       "    Year_Month  Sum of Sales\n",
       "143    2019-12      5.255255\n",
       "144    2020-01      5.733124\n",
       "145    2020-02      2.894873\n",
       "146    2020-03      2.462465\n",
       "147    2020-04      2.193816\n",
       "148    2020-05      1.286718\n",
       "149    2020-06      1.367123\n",
       "150    2020-07      1.503481\n",
       "151    2020-08      1.560669\n",
       "152    2020-09      4.687110\n",
       "153    2020-10     11.184468\n",
       "154    2020-11      4.291668"
      ]
     },
     "execution_count": 5,
     "metadata": {},
     "output_type": "execute_result"
    }
   ],
   "source": [
    "test"
   ]
  },
  {
   "cell_type": "code",
   "execution_count": 6,
   "metadata": {
    "colab": {
     "base_uri": "https://localhost:8080/",
     "height": 513
    },
    "id": "K3n4p-tr6Qn1",
    "outputId": "27c3fc7e-c768-4f1c-bca3-61824aa5ef6a"
   },
   "outputs": [
    {
     "data": {
      "image/png": "[encoded data removed]",
      "text/plain": [
       "<Figure size 1080x576 with 1 Axes>"
      ]
     },
     "metadata": {
      "needs_background": "light"
     },
     "output_type": "display_data"
    }
   ],
   "source": [
    "plt.figure(figsize=[15,8])\n",
    "plt.plot(train['Year_Month'],train['Sum of Sales'])\n",
    "plt.title('Monthly Sum of Sales of Books Department')\n",
    "plt.xlabel('Date')\n",
    "plt.ylabel('Sales')\n",
    "plt.show()"
   ]
  },
  {
   "cell_type": "code",
   "execution_count": 8,
   "metadata": {
    "colab": {
     "base_uri": "https://localhost:8080/"
    },
    "id": "L684FxgN4tCE",
    "outputId": "107cd254-9d40-4d8d-bb2b-5514976fc0c0"
   },
   "outputs": [
    {
     "name": "stdout",
     "output_type": "stream",
     "text": [
      "ADF Statistic: -7.448654278403226\n",
      "p-value: 5.74799439008589e-11\n"
     ]
    }
   ],
   "source": [
    "ad_fuller_result = adfuller(train['Sum of Sales'])\n",
    "print(f'ADF Statistic: {ad_fuller_result[0]}')\n",
    "print(f'p-value: {ad_fuller_result[1]}')"
   ]
  },
  {
   "cell_type": "markdown",
   "metadata": {
    "id": "W2QG1lx85L4p"
   },
   "source": [
    "Since the p-value is greater than 0.5, we cannot reject null hypothesis and must assume that the series is not stationary."
   ]
  },
  {
   "cell_type": "markdown",
   "metadata": {
    "colab": {
     "base_uri": "https://localhost:8080/",
     "height": 419
    },
    "id": "sxdSNYZh5Y83",
    "outputId": "40cdcc05-f0b4-46a9-af23-f4658576a288"
   },
   "source": [
    "sales['sales_diffed'] = sales['Sum of Sales'].diff(1)\n",
    "sales"
   ]
  },
  {
   "cell_type": "markdown",
   "metadata": {
    "colab": {
     "base_uri": "https://localhost:8080/"
    },
    "id": "rnc8yTOv7nYt",
    "outputId": "317449b2-7442-4c54-ec80-ba5c42ccfdca"
   },
   "source": [
    "ad_fuller_result = adfuller(sales['sales_diffed'][1:])\n",
    "print(f'ADF Statistic: {ad_fuller_result[0]}')\n",
    "print(f'p-value: {ad_fuller_result[1]}')"
   ]
  },
  {
   "cell_type": "code",
   "execution_count": 9,
   "metadata": {
    "colab": {
     "base_uri": "https://localhost:8080/",
     "height": 499
    },
    "id": "TKOFWQA86s9-",
    "outputId": "f40aacd7-caed-4f17-bfa9-d68c90a3b704"
   },
   "outputs": [
    {
     "data": {
      "image/png": "[encoded data removed]",
      "text/plain": [
       "<Figure size 864x576 with 2 Axes>"
      ]
     },
     "metadata": {
      "needs_background": "light"
     },
     "output_type": "display_data"
    }
   ],
   "source": [
    "fig, ax = plt.subplots(2,1, figsize= (12,8))\n",
    "fig = sm.graphics.tsa.plot_acf(train['Sum of Sales'], lags=50, ax=ax[0])\n",
    "fig = sm.graphics.tsa.plot_pacf(train['Sum of Sales'], lags=50, ax=ax[1])\n",
    "plt.show()"
   ]
  },
  {
   "cell_type": "code",
   "execution_count": null,
   "metadata": {
    "id": "lpKOX1yF4sVo"
   },
   "outputs": [],
   "source": []
  },
  {
   "cell_type": "markdown",
   "metadata": {
    "id": "bLGEh8Ad3Pog"
   },
   "source": [
    "# New Section"
   ]
  },
  {
   "cell_type": "code",
   "execution_count": 37,
   "metadata": {
    "colab": {
     "base_uri": "https://localhost:8080/"
    },
    "id": "6TyDuvVkEkRQ",
    "outputId": "67384564-1d6c-4643-9aeb-5c7832bbcbf7"
   },
   "outputs": [
    {
     "name": "stdout",
     "output_type": "stream",
     "text": [
      "ARIMA(0, 0, 0)x(0, 0, 0, 12)- AIC:717.5785292318133\n",
      " \n",
      "ARIMA(0, 0, 0)x(0, 0, 1, 12)- AIC:653.5776806010631\n",
      " \n",
      "ARIMA(0, 0, 0)x(0, 0, 2, 12)- AIC:594.7474520582172\n",
      " \n",
      "ARIMA(0, 0, 0)x(0, 1, 0, 12)- AIC:483.85129419470815\n",
      " \n",
      "ARIMA(0, 0, 0)x(0, 1, 1, 12)- AIC:436.14502889472817\n",
      " \n",
      "ARIMA(0, 0, 0)x(0, 1, 2, 12)- AIC:436.78898095311376\n",
      " \n",
      "ARIMA(0, 0, 0)x(1, 0, 0, 12)- AIC:542.1055882327469\n",
      " \n",
      "ARIMA(0, 0, 0)x(1, 0, 1, 12)- AIC:497.68370639845443\n",
      " \n",
      "ARIMA(0, 0, 0)x(1, 0, 2, 12)- AIC:499.1656035437626\n",
      " \n",
      "ARIMA(0, 0, 0)x(1, 1, 0, 12)- AIC:436.3344741240974\n",
      " \n",
      "ARIMA(0, 0, 0)x(1, 1, 1, 12)- AIC:435.2465681975523\n",
      " \n",
      "ARIMA(0, 0, 0)x(1, 1, 2, 12)- AIC:429.5697942965095\n",
      " \n",
      "ARIMA(0, 0, 0)x(2, 0, 0, 12)- AIC:498.6383187708254\n",
      " \n",
      "ARIMA(0, 0, 0)x(2, 0, 1, 12)- AIC:497.8286391263845\n",
      " \n",
      "ARIMA(0, 0, 0)x(2, 0, 2, 12)- AIC:491.70787967870655\n",
      " \n",
      "ARIMA(0, 0, 0)x(2, 1, 0, 12)- AIC:437.0785958961045\n",
      " \n",
      "ARIMA(0, 0, 0)x(2, 1, 1, 12)- AIC:432.5010912350658\n",
      " \n",
      "ARIMA(0, 0, 0)x(2, 1, 2, 12)- AIC:430.55938602455467\n",
      " \n",
      "ARIMA(0, 0, 1)x(0, 0, 0, 12)- AIC:616.5406536452009\n",
      " \n",
      "ARIMA(0, 0, 1)x(0, 0, 1, 12)- AIC:575.7984382033726\n",
      " \n",
      "ARIMA(0, 0, 1)x(0, 0, 2, 12)- AIC:550.1178769261275\n",
      " \n",
      "ARIMA(0, 0, 1)x(0, 1, 0, 12)- AIC:468.0958516110626\n",
      " \n",
      "ARIMA(0, 0, 1)x(0, 1, 1, 12)- AIC:421.43790049095924\n",
      " \n",
      "ARIMA(0, 0, 1)x(0, 1, 2, 12)- AIC:422.5055443542479\n",
      " \n",
      "ARIMA(0, 0, 1)x(1, 0, 0, 12)- AIC:515.9774994520901\n",
      " \n",
      "ARIMA(0, 0, 1)x(1, 0, 1, 12)- AIC:476.2313054996747\n",
      " \n",
      "ARIMA(0, 0, 1)x(1, 0, 2, 12)- AIC:477.85528902803753\n",
      " \n",
      "ARIMA(0, 0, 1)x(1, 1, 0, 12)- AIC:427.43408430166687\n",
      " \n",
      "ARIMA(0, 0, 1)x(1, 1, 1, 12)- AIC:422.09654996770314\n",
      " \n"
     ]
    },
    {
     "name": "stderr",
     "output_type": "stream",
     "text": [
      "D:\\anaconda\\lib\\site-packages\\statsmodels\\base\\model.py:568: ConvergenceWarning: Maximum Likelihood optimization failed to converge. Check mle_retvals\n",
      "  ConvergenceWarning)\n"
     ]
    },
    {
     "name": "stdout",
     "output_type": "stream",
     "text": [
      "ARIMA(0, 0, 1)x(1, 1, 2, 12)- AIC:420.05171895996966\n",
      " \n",
      "ARIMA(0, 0, 1)x(2, 0, 0, 12)- AIC:483.01528713798797\n",
      " \n",
      "ARIMA(0, 0, 1)x(2, 0, 1, 12)- AIC:477.58738974798075\n",
      " \n"
     ]
    },
    {
     "name": "stderr",
     "output_type": "stream",
     "text": [
      "D:\\anaconda\\lib\\site-packages\\statsmodels\\base\\model.py:568: ConvergenceWarning: Maximum Likelihood optimization failed to converge. Check mle_retvals\n",
      "  ConvergenceWarning)\n"
     ]
    },
    {
     "name": "stdout",
     "output_type": "stream",
     "text": [
      "ARIMA(0, 0, 1)x(2, 0, 2, 12)- AIC:475.7406600614531\n",
      " \n",
      "ARIMA(0, 0, 1)x(2, 1, 0, 12)- AIC:424.6037038708283\n",
      " \n",
      "ARIMA(0, 0, 1)x(2, 1, 1, 12)- AIC:422.0709784927584\n",
      " \n"
     ]
    },
    {
     "name": "stderr",
     "output_type": "stream",
     "text": [
      "D:\\anaconda\\lib\\site-packages\\statsmodels\\base\\model.py:568: ConvergenceWarning: Maximum Likelihood optimization failed to converge. Check mle_retvals\n",
      "  ConvergenceWarning)\n"
     ]
    },
    {
     "name": "stdout",
     "output_type": "stream",
     "text": [
      "ARIMA(0, 0, 1)x(2, 1, 2, 12)- AIC:421.9818232924008\n",
      " \n",
      "ARIMA(0, 0, 2)x(0, 0, 0, 12)- AIC:567.6583567927687\n",
      " \n",
      "ARIMA(0, 0, 2)x(0, 0, 1, 12)- AIC:538.6911657733332\n",
      " \n",
      "ARIMA(0, 0, 2)x(0, 0, 2, 12)- AIC:524.0138053672893\n",
      " \n",
      "ARIMA(0, 0, 2)x(0, 1, 0, 12)- AIC:464.29211975926717\n",
      " \n",
      "ARIMA(0, 0, 2)x(0, 1, 1, 12)- AIC:420.63543302850775\n",
      " \n",
      "ARIMA(0, 0, 2)x(0, 1, 2, 12)- AIC:422.00968685486396\n",
      " \n",
      "ARIMA(0, 0, 2)x(1, 0, 0, 12)- AIC:504.0033348417413\n",
      " \n",
      "ARIMA(0, 0, 2)x(1, 0, 1, 12)- AIC:472.039685167597\n",
      " \n",
      "ARIMA(0, 0, 2)x(1, 0, 2, 12)- AIC:473.8699639532915\n",
      " \n",
      "ARIMA(0, 0, 2)x(1, 1, 0, 12)- AIC:427.74294564818814\n",
      " \n",
      "ARIMA(0, 0, 2)x(1, 1, 1, 12)- AIC:421.76322235978387\n",
      " \n"
     ]
    },
    {
     "name": "stderr",
     "output_type": "stream",
     "text": [
      "D:\\anaconda\\lib\\site-packages\\statsmodels\\base\\model.py:568: ConvergenceWarning: Maximum Likelihood optimization failed to converge. Check mle_retvals\n",
      "  ConvergenceWarning)\n"
     ]
    },
    {
     "name": "stdout",
     "output_type": "stream",
     "text": [
      "ARIMA(0, 0, 2)x(1, 1, 2, 12)- AIC:420.7641402395671\n",
      " \n",
      "ARIMA(0, 0, 2)x(2, 0, 0, 12)- AIC:479.3291297331146\n",
      " \n",
      "ARIMA(0, 0, 2)x(2, 0, 1, 12)- AIC:473.7677759546869\n",
      " \n"
     ]
    },
    {
     "name": "stderr",
     "output_type": "stream",
     "text": [
      "D:\\anaconda\\lib\\site-packages\\statsmodels\\base\\model.py:568: ConvergenceWarning: Maximum Likelihood optimization failed to converge. Check mle_retvals\n",
      "  ConvergenceWarning)\n"
     ]
    },
    {
     "name": "stdout",
     "output_type": "stream",
     "text": [
      "ARIMA(0, 0, 2)x(2, 0, 2, 12)- AIC:473.5408251239702\n",
      " \n",
      "ARIMA(0, 0, 2)x(2, 1, 0, 12)- AIC:424.01427843109866\n",
      " \n",
      "ARIMA(0, 0, 2)x(2, 1, 1, 12)- AIC:422.1076238023777\n",
      " \n"
     ]
    },
    {
     "name": "stderr",
     "output_type": "stream",
     "text": [
      "D:\\anaconda\\lib\\site-packages\\statsmodels\\base\\model.py:568: ConvergenceWarning: Maximum Likelihood optimization failed to converge. Check mle_retvals\n",
      "  ConvergenceWarning)\n"
     ]
    },
    {
     "name": "stdout",
     "output_type": "stream",
     "text": [
      "ARIMA(0, 0, 2)x(2, 1, 2, 12)- AIC:422.7276238606089\n",
      " \n",
      "ARIMA(0, 1, 0)x(0, 0, 0, 12)- AIC:505.7616796325268\n",
      " \n",
      "ARIMA(0, 1, 0)x(0, 0, 1, 12)- AIC:500.5105559352253\n",
      " \n",
      "ARIMA(0, 1, 0)x(0, 0, 2, 12)- AIC:497.53791065560114\n",
      " \n",
      "ARIMA(0, 1, 0)x(0, 1, 0, 12)- AIC:504.0708043672463\n",
      " \n",
      "ARIMA(0, 1, 0)x(0, 1, 1, 12)- AIC:462.5096699225677\n",
      " \n",
      "ARIMA(0, 1, 0)x(0, 1, 2, 12)- AIC:464.34809755652304\n",
      " \n",
      "ARIMA(0, 1, 0)x(1, 0, 0, 12)- AIC:497.55136030962285\n",
      " \n",
      "ARIMA(0, 1, 0)x(1, 0, 1, 12)- AIC:492.6042876815832\n",
      " \n",
      "ARIMA(0, 1, 0)x(1, 0, 2, 12)- AIC:493.9941980071842\n",
      " \n",
      "ARIMA(0, 1, 0)x(1, 1, 0, 12)- AIC:476.2807562135323\n",
      " \n",
      "ARIMA(0, 1, 0)x(1, 1, 1, 12)- AIC:464.3608388864084\n",
      " \n",
      "ARIMA(0, 1, 0)x(1, 1, 2, 12)- AIC:466.5096557239042\n",
      " \n",
      "ARIMA(0, 1, 0)x(2, 0, 0, 12)- AIC:494.15986869862263\n",
      " \n",
      "ARIMA(0, 1, 0)x(2, 0, 1, 12)- AIC:494.21115086313716\n",
      " \n",
      "ARIMA(0, 1, 0)x(2, 0, 2, 12)- AIC:495.40577593022726\n",
      " \n",
      "ARIMA(0, 1, 0)x(2, 1, 0, 12)- AIC:463.0025483809785\n",
      " \n",
      "ARIMA(0, 1, 0)x(2, 1, 1, 12)- AIC:464.98727167200195\n",
      " \n",
      "ARIMA(0, 1, 0)x(2, 1, 2, 12)- AIC:466.75808748878273\n",
      " \n",
      "ARIMA(0, 1, 1)x(0, 0, 0, 12)- AIC:490.40129888162346\n",
      " \n",
      "ARIMA(0, 1, 1)x(0, 0, 1, 12)- AIC:481.8221896176619\n",
      " \n",
      "ARIMA(0, 1, 1)x(0, 0, 2, 12)- AIC:469.58111475814036\n",
      " \n",
      "ARIMA(0, 1, 1)x(0, 1, 0, 12)- AIC:474.12157503467165\n",
      " \n",
      "ARIMA(0, 1, 1)x(0, 1, 1, 12)- AIC:429.8476067208717\n",
      " \n",
      "ARIMA(0, 1, 1)x(0, 1, 2, 12)- AIC:431.3526584536954\n",
      " \n",
      "ARIMA(0, 1, 1)x(1, 0, 0, 12)- AIC:474.6953169300019\n",
      " \n",
      "ARIMA(0, 1, 1)x(1, 0, 1, 12)- AIC:462.7623952889713\n",
      " \n",
      "ARIMA(0, 1, 1)x(1, 0, 2, 12)- AIC:464.4970722056559\n",
      " \n",
      "ARIMA(0, 1, 1)x(1, 1, 0, 12)- AIC:437.08688682299805\n",
      " \n",
      "ARIMA(0, 1, 1)x(1, 1, 1, 12)- AIC:431.1068594654583\n",
      " \n"
     ]
    },
    {
     "name": "stderr",
     "output_type": "stream",
     "text": [
      "D:\\anaconda\\lib\\site-packages\\statsmodels\\base\\model.py:568: ConvergenceWarning: Maximum Likelihood optimization failed to converge. Check mle_retvals\n",
      "  ConvergenceWarning)\n"
     ]
    },
    {
     "name": "stdout",
     "output_type": "stream",
     "text": [
      "ARIMA(0, 1, 1)x(1, 1, 2, 12)- AIC:427.04775442920345\n",
      " \n",
      "ARIMA(0, 1, 1)x(2, 0, 0, 12)- AIC:462.24985292034694\n",
      " \n",
      "ARIMA(0, 1, 1)x(2, 0, 1, 12)- AIC:464.0831748262707\n",
      " \n",
      "ARIMA(0, 1, 1)x(2, 0, 2, 12)- AIC:459.0837312679448\n",
      " \n",
      "ARIMA(0, 1, 1)x(2, 1, 0, 12)- AIC:435.258850053544\n",
      " \n",
      "ARIMA(0, 1, 1)x(2, 1, 1, 12)- AIC:431.396694405041\n",
      " \n"
     ]
    },
    {
     "name": "stderr",
     "output_type": "stream",
     "text": [
      "D:\\anaconda\\lib\\site-packages\\statsmodels\\base\\model.py:568: ConvergenceWarning: Maximum Likelihood optimization failed to converge. Check mle_retvals\n",
      "  ConvergenceWarning)\n"
     ]
    },
    {
     "name": "stdout",
     "output_type": "stream",
     "text": [
      "ARIMA(0, 1, 1)x(2, 1, 2, 12)- AIC:428.85992645816447\n",
      " \n",
      "ARIMA(0, 1, 2)x(0, 0, 0, 12)- AIC:469.51004414172553\n",
      " \n",
      "ARIMA(0, 1, 2)x(0, 0, 1, 12)- AIC:465.251593696859\n",
      " \n",
      "ARIMA(0, 1, 2)x(0, 0, 2, 12)- AIC:455.0456788844824\n",
      " \n",
      "ARIMA(0, 1, 2)x(0, 1, 0, 12)- AIC:473.58904593840526\n",
      " \n",
      "ARIMA(0, 1, 2)x(0, 1, 1, 12)- AIC:424.03085349272715\n",
      " \n",
      "ARIMA(0, 1, 2)x(0, 1, 2, 12)- AIC:424.68736299086254\n",
      " \n",
      "ARIMA(0, 1, 2)x(1, 0, 0, 12)- AIC:460.94251248960285\n",
      " \n",
      "ARIMA(0, 1, 2)x(1, 0, 1, 12)- AIC:451.52719083332147\n",
      " \n",
      "ARIMA(0, 1, 2)x(1, 0, 2, 12)- AIC:451.79282776269343\n",
      " \n",
      "ARIMA(0, 1, 2)x(1, 1, 0, 12)- AIC:431.0950922452011\n",
      " \n",
      "ARIMA(0, 1, 2)x(1, 1, 1, 12)- AIC:424.34153569842084\n",
      " \n"
     ]
    },
    {
     "name": "stderr",
     "output_type": "stream",
     "text": [
      "D:\\anaconda\\lib\\site-packages\\statsmodels\\base\\model.py:568: ConvergenceWarning: Maximum Likelihood optimization failed to converge. Check mle_retvals\n",
      "  ConvergenceWarning)\n"
     ]
    },
    {
     "name": "stdout",
     "output_type": "stream",
     "text": [
      "ARIMA(0, 1, 2)x(1, 1, 2, 12)- AIC:422.0893373542273\n",
      " \n",
      "ARIMA(0, 1, 2)x(2, 0, 0, 12)- AIC:450.0430509400805\n",
      " \n",
      "ARIMA(0, 1, 2)x(2, 0, 1, 12)- AIC:451.4474589608335\n",
      " \n"
     ]
    },
    {
     "name": "stderr",
     "output_type": "stream",
     "text": [
      "D:\\anaconda\\lib\\site-packages\\statsmodels\\base\\model.py:568: ConvergenceWarning: Maximum Likelihood optimization failed to converge. Check mle_retvals\n",
      "  ConvergenceWarning)\n"
     ]
    },
    {
     "name": "stdout",
     "output_type": "stream",
     "text": [
      "ARIMA(0, 1, 2)x(2, 0, 2, 12)- AIC:450.45890264803614\n",
      " \n",
      "ARIMA(0, 1, 2)x(2, 1, 0, 12)- AIC:427.66476399486976\n",
      " \n",
      "ARIMA(0, 1, 2)x(2, 1, 1, 12)- AIC:425.5790961593576\n",
      " \n"
     ]
    },
    {
     "name": "stderr",
     "output_type": "stream",
     "text": [
      "D:\\anaconda\\lib\\site-packages\\statsmodels\\base\\model.py:568: ConvergenceWarning: Maximum Likelihood optimization failed to converge. Check mle_retvals\n",
      "  ConvergenceWarning)\n"
     ]
    },
    {
     "name": "stdout",
     "output_type": "stream",
     "text": [
      "ARIMA(0, 1, 2)x(2, 1, 2, 12)- AIC:424.0882628068333\n",
      " \n",
      "ARIMA(1, 0, 0)x(0, 0, 0, 12)- AIC:504.8053001961491\n",
      " \n",
      "ARIMA(1, 0, 0)x(0, 0, 1, 12)- AIC:496.5800387279045\n",
      " \n",
      "ARIMA(1, 0, 0)x(0, 0, 2, 12)- AIC:491.26412103998473\n",
      " \n",
      "ARIMA(1, 0, 0)x(0, 1, 0, 12)- AIC:462.74280197584267\n",
      " \n",
      "ARIMA(1, 0, 0)x(0, 1, 1, 12)- AIC:418.2553062018658\n",
      " \n",
      "ARIMA(1, 0, 0)x(0, 1, 2, 12)- AIC:419.6853297910477\n",
      " \n",
      "ARIMA(1, 0, 0)x(1, 0, 0, 12)- AIC:489.8059545759265\n",
      " \n",
      "ARIMA(1, 0, 0)x(1, 0, 1, 12)- AIC:467.4400937073551\n",
      " \n",
      "ARIMA(1, 0, 0)x(1, 0, 2, 12)- AIC:469.32884947507483\n",
      " \n",
      "ARIMA(1, 0, 0)x(1, 1, 0, 12)- AIC:425.8655539575899\n",
      " \n",
      "ARIMA(1, 0, 0)x(1, 1, 1, 12)- AIC:419.47741609314147\n",
      " \n"
     ]
    },
    {
     "name": "stderr",
     "output_type": "stream",
     "text": [
      "D:\\anaconda\\lib\\site-packages\\statsmodels\\base\\model.py:568: ConvergenceWarning: Maximum Likelihood optimization failed to converge. Check mle_retvals\n",
      "  ConvergenceWarning)\n"
     ]
    },
    {
     "name": "stdout",
     "output_type": "stream",
     "text": [
      "ARIMA(1, 0, 0)x(1, 1, 2, 12)- AIC:418.5693150117754\n",
      " \n",
      "ARIMA(1, 0, 0)x(2, 0, 0, 12)- AIC:475.52851972338897\n",
      " \n",
      "ARIMA(1, 0, 0)x(2, 0, 1, 12)- AIC:469.28000177412116\n",
      " \n"
     ]
    },
    {
     "name": "stderr",
     "output_type": "stream",
     "text": [
      "D:\\anaconda\\lib\\site-packages\\statsmodels\\base\\model.py:568: ConvergenceWarning: Maximum Likelihood optimization failed to converge. Check mle_retvals\n",
      "  ConvergenceWarning)\n"
     ]
    },
    {
     "name": "stdout",
     "output_type": "stream",
     "text": [
      "ARIMA(1, 0, 0)x(2, 0, 2, 12)- AIC:469.6361751130219\n",
      " \n",
      "ARIMA(1, 0, 0)x(2, 1, 0, 12)- AIC:421.8167277940367\n",
      " \n",
      "ARIMA(1, 0, 0)x(2, 1, 1, 12)- AIC:419.9693871744744\n",
      " \n"
     ]
    },
    {
     "name": "stderr",
     "output_type": "stream",
     "text": [
      "D:\\anaconda\\lib\\site-packages\\statsmodels\\base\\model.py:568: ConvergenceWarning: Maximum Likelihood optimization failed to converge. Check mle_retvals\n",
      "  ConvergenceWarning)\n"
     ]
    },
    {
     "name": "stdout",
     "output_type": "stream",
     "text": [
      "ARIMA(1, 0, 0)x(2, 1, 2, 12)- AIC:420.5269721381219\n",
      " \n",
      "ARIMA(1, 0, 1)x(0, 0, 0, 12)- AIC:496.0231421660674\n",
      " \n",
      "ARIMA(1, 0, 1)x(0, 0, 1, 12)- AIC:486.66778787846476\n",
      " \n",
      "ARIMA(1, 0, 1)x(0, 0, 2, 12)- AIC:476.6547934396965\n",
      " \n",
      "ARIMA(1, 0, 1)x(0, 1, 0, 12)- AIC:463.61489086761134\n",
      " \n",
      "ARIMA(1, 0, 1)x(0, 1, 1, 12)- AIC:419.947632035003\n",
      " \n",
      "ARIMA(1, 0, 1)x(0, 1, 2, 12)- AIC:421.48786337180906\n",
      " \n",
      "ARIMA(1, 0, 1)x(1, 0, 0, 12)- AIC:478.7329989330153\n",
      " \n",
      "ARIMA(1, 0, 1)x(1, 0, 1, 12)- AIC:463.84281760826167\n",
      " \n",
      "ARIMA(1, 0, 1)x(1, 0, 2, 12)- AIC:465.8179258532475\n",
      " \n",
      "ARIMA(1, 0, 1)x(1, 1, 0, 12)- AIC:427.75297131849163\n",
      " \n",
      "ARIMA(1, 0, 1)x(1, 1, 1, 12)- AIC:421.30418881830724\n",
      " \n"
     ]
    },
    {
     "name": "stderr",
     "output_type": "stream",
     "text": [
      "D:\\anaconda\\lib\\site-packages\\statsmodels\\base\\model.py:568: ConvergenceWarning: Maximum Likelihood optimization failed to converge. Check mle_retvals\n",
      "  ConvergenceWarning)\n"
     ]
    },
    {
     "name": "stdout",
     "output_type": "stream",
     "text": [
      "ARIMA(1, 0, 1)x(1, 1, 2, 12)- AIC:420.485734482053\n",
      " \n",
      "ARIMA(1, 0, 1)x(2, 0, 0, 12)- AIC:467.4310870547803\n",
      " \n",
      "ARIMA(1, 0, 1)x(2, 0, 1, 12)- AIC:465.79565081741424\n",
      " \n"
     ]
    },
    {
     "name": "stderr",
     "output_type": "stream",
     "text": [
      "D:\\anaconda\\lib\\site-packages\\statsmodels\\base\\model.py:568: ConvergenceWarning: Maximum Likelihood optimization failed to converge. Check mle_retvals\n",
      "  ConvergenceWarning)\n"
     ]
    },
    {
     "name": "stdout",
     "output_type": "stream",
     "text": [
      "ARIMA(1, 0, 1)x(2, 0, 2, 12)- AIC:465.1348588742417\n",
      " \n",
      "ARIMA(1, 0, 1)x(2, 1, 0, 12)- AIC:423.7387093085435\n",
      " \n",
      "ARIMA(1, 0, 1)x(2, 1, 1, 12)- AIC:421.7235291168645\n",
      " \n"
     ]
    },
    {
     "name": "stderr",
     "output_type": "stream",
     "text": [
      "D:\\anaconda\\lib\\site-packages\\statsmodels\\base\\model.py:568: ConvergenceWarning: Maximum Likelihood optimization failed to converge. Check mle_retvals\n",
      "  ConvergenceWarning)\n"
     ]
    },
    {
     "name": "stdout",
     "output_type": "stream",
     "text": [
      "ARIMA(1, 0, 1)x(2, 1, 2, 12)- AIC:422.4328619941309\n",
      " \n",
      "ARIMA(1, 0, 2)x(0, 0, 0, 12)- AIC:476.3836757100189\n",
      " \n",
      "ARIMA(1, 0, 2)x(0, 0, 1, 12)- AIC:472.07909528225315\n",
      " \n"
     ]
    },
    {
     "name": "stderr",
     "output_type": "stream",
     "text": [
      "D:\\anaconda\\lib\\site-packages\\statsmodels\\base\\model.py:568: ConvergenceWarning: Maximum Likelihood optimization failed to converge. Check mle_retvals\n",
      "  ConvergenceWarning)\n"
     ]
    },
    {
     "name": "stdout",
     "output_type": "stream",
     "text": [
      "ARIMA(1, 0, 2)x(0, 0, 2, 12)- AIC:461.85850421595524\n",
      " \n",
      "ARIMA(1, 0, 2)x(0, 1, 0, 12)- AIC:465.3651318937396\n",
      " \n",
      "ARIMA(1, 0, 2)x(0, 1, 1, 12)- AIC:421.2210471890477\n",
      " \n",
      "ARIMA(1, 0, 2)x(0, 1, 2, 12)- AIC:422.75483290782506\n",
      " \n"
     ]
    },
    {
     "name": "stderr",
     "output_type": "stream",
     "text": [
      "D:\\anaconda\\lib\\site-packages\\statsmodels\\base\\model.py:568: ConvergenceWarning: Maximum Likelihood optimization failed to converge. Check mle_retvals\n",
      "  ConvergenceWarning)\n"
     ]
    },
    {
     "name": "stdout",
     "output_type": "stream",
     "text": [
      "ARIMA(1, 0, 2)x(1, 0, 0, 12)- AIC:467.7569737698046\n",
      " \n",
      "ARIMA(1, 0, 2)x(1, 0, 1, 12)- AIC:458.60761193342904\n",
      " \n"
     ]
    },
    {
     "name": "stderr",
     "output_type": "stream",
     "text": [
      "D:\\anaconda\\lib\\site-packages\\statsmodels\\base\\model.py:568: ConvergenceWarning: Maximum Likelihood optimization failed to converge. Check mle_retvals\n",
      "  ConvergenceWarning)\n"
     ]
    },
    {
     "name": "stdout",
     "output_type": "stream",
     "text": [
      "ARIMA(1, 0, 2)x(1, 0, 2, 12)- AIC:458.658294037381\n",
      " \n",
      "ARIMA(1, 0, 2)x(1, 1, 0, 12)- AIC:429.48453482237886\n",
      " \n",
      "ARIMA(1, 0, 2)x(1, 1, 1, 12)- AIC:422.59312554183697\n",
      " \n"
     ]
    },
    {
     "name": "stderr",
     "output_type": "stream",
     "text": [
      "D:\\anaconda\\lib\\site-packages\\statsmodels\\base\\model.py:568: ConvergenceWarning: Maximum Likelihood optimization failed to converge. Check mle_retvals\n",
      "  ConvergenceWarning)\n"
     ]
    },
    {
     "name": "stdout",
     "output_type": "stream",
     "text": [
      "ARIMA(1, 0, 2)x(1, 1, 2, 12)- AIC:421.6542114905237\n",
      " \n"
     ]
    },
    {
     "name": "stderr",
     "output_type": "stream",
     "text": [
      "D:\\anaconda\\lib\\site-packages\\statsmodels\\base\\model.py:568: ConvergenceWarning: Maximum Likelihood optimization failed to converge. Check mle_retvals\n",
      "  ConvergenceWarning)\n"
     ]
    },
    {
     "name": "stdout",
     "output_type": "stream",
     "text": [
      "ARIMA(1, 0, 2)x(2, 0, 0, 12)- AIC:456.90800177218375\n",
      " \n"
     ]
    },
    {
     "name": "stderr",
     "output_type": "stream",
     "text": [
      "D:\\anaconda\\lib\\site-packages\\statsmodels\\base\\model.py:568: ConvergenceWarning: Maximum Likelihood optimization failed to converge. Check mle_retvals\n",
      "  ConvergenceWarning)\n"
     ]
    },
    {
     "name": "stdout",
     "output_type": "stream",
     "text": [
      "ARIMA(1, 0, 2)x(2, 0, 1, 12)- AIC:458.43705309482897\n",
      " \n"
     ]
    },
    {
     "name": "stderr",
     "output_type": "stream",
     "text": [
      "D:\\anaconda\\lib\\site-packages\\statsmodels\\base\\model.py:568: ConvergenceWarning: Maximum Likelihood optimization failed to converge. Check mle_retvals\n",
      "  ConvergenceWarning)\n"
     ]
    },
    {
     "name": "stdout",
     "output_type": "stream",
     "text": [
      "ARIMA(1, 0, 2)x(2, 0, 2, 12)- AIC:457.15748461455456\n",
      " \n",
      "ARIMA(1, 0, 2)x(2, 1, 0, 12)- AIC:425.2556015358076\n",
      " \n",
      "ARIMA(1, 0, 2)x(2, 1, 1, 12)- AIC:423.29924802186395\n",
      " \n"
     ]
    },
    {
     "name": "stderr",
     "output_type": "stream",
     "text": [
      "D:\\anaconda\\lib\\site-packages\\statsmodels\\base\\model.py:568: ConvergenceWarning: Maximum Likelihood optimization failed to converge. Check mle_retvals\n",
      "  ConvergenceWarning)\n"
     ]
    },
    {
     "name": "stdout",
     "output_type": "stream",
     "text": [
      "ARIMA(1, 0, 2)x(2, 1, 2, 12)- AIC:423.59503160993813\n",
      " \n",
      "ARIMA(1, 1, 0)x(0, 0, 0, 12)- AIC:498.6687218665876\n",
      " \n",
      "ARIMA(1, 1, 0)x(0, 0, 1, 12)- AIC:491.59141359377804\n",
      " \n",
      "ARIMA(1, 1, 0)x(0, 0, 2, 12)- AIC:486.090588992466\n",
      " \n",
      "ARIMA(1, 1, 0)x(0, 1, 0, 12)- AIC:488.3740718167721\n",
      " \n",
      "ARIMA(1, 1, 0)x(0, 1, 1, 12)- AIC:448.5177037423447\n",
      " \n",
      "ARIMA(1, 1, 0)x(0, 1, 2, 12)- AIC:450.476839935725\n",
      " \n",
      "ARIMA(1, 1, 0)x(1, 0, 0, 12)- AIC:486.81730022982947\n",
      " \n",
      "ARIMA(1, 1, 0)x(1, 0, 1, 12)- AIC:479.839892326826\n",
      " \n",
      "ARIMA(1, 1, 0)x(1, 0, 2, 12)- AIC:481.5157554122359\n",
      " \n",
      "ARIMA(1, 1, 0)x(1, 1, 0, 12)- AIC:459.9534232334188\n",
      " \n",
      "ARIMA(1, 1, 0)x(1, 1, 1, 12)- AIC:450.46913834343025\n",
      " \n",
      "ARIMA(1, 1, 0)x(1, 1, 2, 12)- AIC:452.4456589604467\n",
      " \n",
      "ARIMA(1, 1, 0)x(2, 0, 0, 12)- AIC:481.20077653853343\n",
      " \n",
      "ARIMA(1, 1, 0)x(2, 0, 1, 12)- AIC:481.5308938820632\n",
      " \n",
      "ARIMA(1, 1, 0)x(2, 0, 2, 12)- AIC:483.51549576407945\n",
      " \n",
      "ARIMA(1, 1, 0)x(2, 1, 0, 12)- AIC:452.3934775230261\n",
      " \n",
      "ARIMA(1, 1, 0)x(2, 1, 1, 12)- AIC:451.969325943799\n",
      " \n",
      "ARIMA(1, 1, 0)x(2, 1, 2, 12)- AIC:454.44530494984144\n",
      " \n",
      "ARIMA(1, 1, 1)x(0, 0, 0, 12)- AIC:466.42661860415967\n",
      " \n",
      "ARIMA(1, 1, 1)x(0, 0, 1, 12)- AIC:460.9105937621512\n",
      " \n",
      "ARIMA(1, 1, 1)x(0, 0, 2, 12)- AIC:452.3237129736319\n",
      " \n",
      "ARIMA(1, 1, 1)x(0, 1, 0, 12)- AIC:466.07334343778587\n",
      " \n",
      "ARIMA(1, 1, 1)x(0, 1, 1, 12)- AIC:422.39908816624927\n",
      " \n",
      "ARIMA(1, 1, 1)x(0, 1, 2, 12)- AIC:423.4401021910736\n",
      " \n",
      "ARIMA(1, 1, 1)x(1, 0, 0, 12)- AIC:456.35277659437884\n",
      " \n",
      "ARIMA(1, 1, 1)x(1, 0, 1, 12)- AIC:447.94982143611344\n",
      " \n",
      "ARIMA(1, 1, 1)x(1, 0, 2, 12)- AIC:448.5126493279459\n",
      " \n",
      "ARIMA(1, 1, 1)x(1, 1, 0, 12)- AIC:429.99860829490683\n",
      " \n",
      "ARIMA(1, 1, 1)x(1, 1, 1, 12)- AIC:423.2177643792296\n",
      " \n"
     ]
    },
    {
     "name": "stderr",
     "output_type": "stream",
     "text": [
      "D:\\anaconda\\lib\\site-packages\\statsmodels\\base\\model.py:568: ConvergenceWarning: Maximum Likelihood optimization failed to converge. Check mle_retvals\n",
      "  ConvergenceWarning)\n"
     ]
    },
    {
     "name": "stdout",
     "output_type": "stream",
     "text": [
      "ARIMA(1, 1, 1)x(1, 1, 2, 12)- AIC:421.8243094544679\n",
      " \n",
      "ARIMA(1, 1, 1)x(2, 0, 0, 12)- AIC:447.4087739835388\n",
      " \n",
      "ARIMA(1, 1, 1)x(2, 0, 1, 12)- AIC:448.4733759545618\n",
      " \n"
     ]
    },
    {
     "name": "stderr",
     "output_type": "stream",
     "text": [
      "D:\\anaconda\\lib\\site-packages\\statsmodels\\base\\model.py:568: ConvergenceWarning: Maximum Likelihood optimization failed to converge. Check mle_retvals\n",
      "  ConvergenceWarning)\n"
     ]
    },
    {
     "name": "stdout",
     "output_type": "stream",
     "text": [
      "ARIMA(1, 1, 1)x(2, 0, 2, 12)- AIC:448.5541408152455\n",
      " \n",
      "ARIMA(1, 1, 1)x(2, 1, 0, 12)- AIC:425.9120410711123\n",
      " \n",
      "ARIMA(1, 1, 1)x(2, 1, 1, 12)- AIC:424.58510280104156\n",
      " \n"
     ]
    },
    {
     "name": "stderr",
     "output_type": "stream",
     "text": [
      "D:\\anaconda\\lib\\site-packages\\statsmodels\\base\\model.py:568: ConvergenceWarning: Maximum Likelihood optimization failed to converge. Check mle_retvals\n",
      "  ConvergenceWarning)\n"
     ]
    },
    {
     "name": "stdout",
     "output_type": "stream",
     "text": [
      "ARIMA(1, 1, 1)x(2, 1, 2, 12)- AIC:423.82795341077144\n",
      " \n",
      "ARIMA(1, 1, 2)x(0, 0, 0, 12)- AIC:468.12157447798813\n",
      " \n",
      "ARIMA(1, 1, 2)x(0, 0, 1, 12)- AIC:462.85618931051897\n",
      " \n",
      "ARIMA(1, 1, 2)x(0, 0, 2, 12)- AIC:454.30205262740515\n",
      " \n",
      "ARIMA(1, 1, 2)x(0, 1, 0, 12)- AIC:466.6567313918141\n",
      " \n",
      "ARIMA(1, 1, 2)x(0, 1, 1, 12)- AIC:424.34048299188214\n",
      " \n",
      "ARIMA(1, 1, 2)x(0, 1, 2, 12)- AIC:425.43496571242804\n",
      " \n",
      "ARIMA(1, 1, 2)x(1, 0, 0, 12)- AIC:458.3296366886723\n",
      " \n",
      "ARIMA(1, 1, 2)x(1, 0, 1, 12)- AIC:449.87140262678724\n",
      " \n",
      "ARIMA(1, 1, 2)x(1, 0, 2, 12)- AIC:450.47252739863353\n",
      " \n",
      "ARIMA(1, 1, 2)x(1, 1, 0, 12)- AIC:431.9504384168483\n",
      " \n",
      "ARIMA(1, 1, 2)x(1, 1, 1, 12)- AIC:425.215485634938\n",
      " \n"
     ]
    },
    {
     "name": "stderr",
     "output_type": "stream",
     "text": [
      "D:\\anaconda\\lib\\site-packages\\statsmodels\\base\\model.py:568: ConvergenceWarning: Maximum Likelihood optimization failed to converge. Check mle_retvals\n",
      "  ConvergenceWarning)\n"
     ]
    },
    {
     "name": "stdout",
     "output_type": "stream",
     "text": [
      "ARIMA(1, 1, 2)x(1, 1, 2, 12)- AIC:423.79080300016153\n",
      " \n",
      "ARIMA(1, 1, 2)x(2, 0, 0, 12)- AIC:449.3710499917725\n",
      " \n",
      "ARIMA(1, 1, 2)x(2, 0, 1, 12)- AIC:450.4268072219062\n",
      " \n"
     ]
    },
    {
     "name": "stderr",
     "output_type": "stream",
     "text": [
      "D:\\anaconda\\lib\\site-packages\\statsmodels\\base\\model.py:568: ConvergenceWarning: Maximum Likelihood optimization failed to converge. Check mle_retvals\n",
      "  ConvergenceWarning)\n"
     ]
    },
    {
     "name": "stdout",
     "output_type": "stream",
     "text": [
      "ARIMA(1, 1, 2)x(2, 0, 2, 12)- AIC:450.53480481668237\n",
      " \n",
      "ARIMA(1, 1, 2)x(2, 1, 0, 12)- AIC:427.90099295688066\n",
      " \n",
      "ARIMA(1, 1, 2)x(2, 1, 1, 12)- AIC:426.5678539186673\n",
      " \n"
     ]
    },
    {
     "name": "stderr",
     "output_type": "stream",
     "text": [
      "D:\\anaconda\\lib\\site-packages\\statsmodels\\base\\model.py:568: ConvergenceWarning: Maximum Likelihood optimization failed to converge. Check mle_retvals\n",
      "  ConvergenceWarning)\n"
     ]
    },
    {
     "name": "stdout",
     "output_type": "stream",
     "text": [
      "ARIMA(1, 1, 2)x(2, 1, 2, 12)- AIC:425.8188599464313\n",
      " \n",
      "ARIMA(2, 0, 0)x(0, 0, 0, 12)- AIC:500.9311715958812\n",
      " \n",
      "ARIMA(2, 0, 0)x(0, 0, 1, 12)- AIC:492.0772931616976\n",
      " \n",
      "ARIMA(2, 0, 0)x(0, 0, 2, 12)- AIC:485.13464273542087\n",
      " \n",
      "ARIMA(2, 0, 0)x(0, 1, 0, 12)- AIC:463.7991444876367\n",
      " \n",
      "ARIMA(2, 0, 0)x(0, 1, 1, 12)- AIC:420.0366936570847\n",
      " \n",
      "ARIMA(2, 0, 0)x(0, 1, 2, 12)- AIC:421.54191003976393\n",
      " \n",
      "ARIMA(2, 0, 0)x(1, 0, 0, 12)- AIC:484.7399841484097\n",
      " \n",
      "ARIMA(2, 0, 0)x(1, 0, 1, 12)- AIC:467.35032495327675\n",
      " \n",
      "ARIMA(2, 0, 0)x(1, 0, 2, 12)- AIC:469.3143616921403\n",
      " \n",
      "ARIMA(2, 0, 0)x(1, 1, 0, 12)- AIC:427.7613777370118\n",
      " \n",
      "ARIMA(2, 0, 0)x(1, 1, 1, 12)- AIC:421.34958447650297\n",
      " \n"
     ]
    },
    {
     "name": "stderr",
     "output_type": "stream",
     "text": [
      "D:\\anaconda\\lib\\site-packages\\statsmodels\\base\\model.py:568: ConvergenceWarning: Maximum Likelihood optimization failed to converge. Check mle_retvals\n",
      "  ConvergenceWarning)\n"
     ]
    },
    {
     "name": "stdout",
     "output_type": "stream",
     "text": [
      "ARIMA(2, 0, 0)x(1, 1, 2, 12)- AIC:420.50879389530326\n",
      " \n",
      "ARIMA(2, 0, 0)x(2, 0, 0, 12)- AIC:473.8488357917553\n",
      " \n",
      "ARIMA(2, 0, 0)x(2, 0, 1, 12)- AIC:469.29385381355223\n",
      " \n"
     ]
    },
    {
     "name": "stderr",
     "output_type": "stream",
     "text": [
      "D:\\anaconda\\lib\\site-packages\\statsmodels\\base\\model.py:568: ConvergenceWarning: Maximum Likelihood optimization failed to converge. Check mle_retvals\n",
      "  ConvergenceWarning)\n"
     ]
    },
    {
     "name": "stdout",
     "output_type": "stream",
     "text": [
      "ARIMA(2, 0, 0)x(2, 0, 2, 12)- AIC:469.8849267953608\n",
      " \n",
      "ARIMA(2, 0, 0)x(2, 1, 0, 12)- AIC:423.7518345334676\n",
      " \n",
      "ARIMA(2, 0, 0)x(2, 1, 1, 12)- AIC:421.77538758295964\n",
      " \n"
     ]
    },
    {
     "name": "stderr",
     "output_type": "stream",
     "text": [
      "D:\\anaconda\\lib\\site-packages\\statsmodels\\base\\model.py:568: ConvergenceWarning: Maximum Likelihood optimization failed to converge. Check mle_retvals\n",
      "  ConvergenceWarning)\n"
     ]
    },
    {
     "name": "stdout",
     "output_type": "stream",
     "text": [
      "ARIMA(2, 0, 0)x(2, 1, 2, 12)- AIC:422.46309309521627\n",
      " \n",
      "ARIMA(2, 0, 1)x(0, 0, 0, 12)- AIC:473.2096229269247\n",
      " \n"
     ]
    },
    {
     "name": "stderr",
     "output_type": "stream",
     "text": [
      "D:\\anaconda\\lib\\site-packages\\statsmodels\\base\\model.py:568: ConvergenceWarning: Maximum Likelihood optimization failed to converge. Check mle_retvals\n",
      "  ConvergenceWarning)\n",
      "D:\\anaconda\\lib\\site-packages\\statsmodels\\base\\model.py:568: ConvergenceWarning: Maximum Likelihood optimization failed to converge. Check mle_retvals\n",
      "  ConvergenceWarning)\n"
     ]
    },
    {
     "name": "stdout",
     "output_type": "stream",
     "text": [
      "ARIMA(2, 0, 1)x(0, 0, 1, 12)- AIC:467.70192504265935\n",
      " \n"
     ]
    },
    {
     "name": "stderr",
     "output_type": "stream",
     "text": [
      "D:\\anaconda\\lib\\site-packages\\statsmodels\\base\\model.py:568: ConvergenceWarning: Maximum Likelihood optimization failed to converge. Check mle_retvals\n",
      "  ConvergenceWarning)\n"
     ]
    },
    {
     "name": "stdout",
     "output_type": "stream",
     "text": [
      "ARIMA(2, 0, 1)x(0, 0, 2, 12)- AIC:459.12723966446447\n",
      " \n",
      "ARIMA(2, 0, 1)x(0, 1, 0, 12)- AIC:465.3548047146378\n",
      " \n",
      "ARIMA(2, 0, 1)x(0, 1, 1, 12)- AIC:421.36823095201936\n",
      " \n",
      "ARIMA(2, 0, 1)x(0, 1, 2, 12)- AIC:422.9167744539592\n",
      " \n"
     ]
    },
    {
     "name": "stderr",
     "output_type": "stream",
     "text": [
      "D:\\anaconda\\lib\\site-packages\\statsmodels\\base\\model.py:568: ConvergenceWarning: Maximum Likelihood optimization failed to converge. Check mle_retvals\n",
      "  ConvergenceWarning)\n"
     ]
    },
    {
     "name": "stdout",
     "output_type": "stream",
     "text": [
      "ARIMA(2, 0, 1)x(1, 0, 0, 12)- AIC:463.1623903286641\n",
      " \n"
     ]
    },
    {
     "name": "stderr",
     "output_type": "stream",
     "text": [
      "D:\\anaconda\\lib\\site-packages\\statsmodels\\base\\model.py:568: ConvergenceWarning: Maximum Likelihood optimization failed to converge. Check mle_retvals\n",
      "  ConvergenceWarning)\n"
     ]
    },
    {
     "name": "stdout",
     "output_type": "stream",
     "text": [
      "ARIMA(2, 0, 1)x(1, 0, 1, 12)- AIC:454.8505710940525\n",
      " \n"
     ]
    },
    {
     "name": "stderr",
     "output_type": "stream",
     "text": [
      "D:\\anaconda\\lib\\site-packages\\statsmodels\\base\\model.py:568: ConvergenceWarning: Maximum Likelihood optimization failed to converge. Check mle_retvals\n",
      "  ConvergenceWarning)\n"
     ]
    },
    {
     "name": "stdout",
     "output_type": "stream",
     "text": [
      "ARIMA(2, 0, 1)x(1, 0, 2, 12)- AIC:455.42499642791995\n",
      " \n",
      "ARIMA(2, 0, 1)x(1, 1, 0, 12)- AIC:429.49713125651243\n",
      " \n",
      "ARIMA(2, 0, 1)x(1, 1, 1, 12)- AIC:422.7498328253107\n",
      " \n"
     ]
    },
    {
     "name": "stderr",
     "output_type": "stream",
     "text": [
      "D:\\anaconda\\lib\\site-packages\\statsmodels\\base\\model.py:568: ConvergenceWarning: Maximum Likelihood optimization failed to converge. Check mle_retvals\n",
      "  ConvergenceWarning)\n"
     ]
    },
    {
     "name": "stdout",
     "output_type": "stream",
     "text": [
      "ARIMA(2, 0, 1)x(1, 1, 2, 12)- AIC:421.72154922141465\n",
      " \n"
     ]
    },
    {
     "name": "stderr",
     "output_type": "stream",
     "text": [
      "D:\\anaconda\\lib\\site-packages\\statsmodels\\base\\model.py:568: ConvergenceWarning: Maximum Likelihood optimization failed to converge. Check mle_retvals\n",
      "  ConvergenceWarning)\n"
     ]
    },
    {
     "name": "stdout",
     "output_type": "stream",
     "text": [
      "ARIMA(2, 0, 1)x(2, 0, 0, 12)- AIC:454.2618302465132\n",
      " \n"
     ]
    },
    {
     "name": "stderr",
     "output_type": "stream",
     "text": [
      "D:\\anaconda\\lib\\site-packages\\statsmodels\\base\\model.py:568: ConvergenceWarning: Maximum Likelihood optimization failed to converge. Check mle_retvals\n",
      "  ConvergenceWarning)\n"
     ]
    },
    {
     "name": "stdout",
     "output_type": "stream",
     "text": [
      "ARIMA(2, 0, 1)x(2, 0, 1, 12)- AIC:455.7566122896392\n",
      " \n",
      "ARIMA(2, 0, 1)x(2, 0, 2, 12)- AIC:456.05334568684475\n",
      " \n",
      "ARIMA(2, 0, 1)x(2, 1, 0, 12)- AIC:425.37537996163235\n",
      " \n",
      "ARIMA(2, 0, 1)x(2, 1, 1, 12)- AIC:423.36054469227236\n",
      " \n"
     ]
    },
    {
     "name": "stderr",
     "output_type": "stream",
     "text": [
      "D:\\anaconda\\lib\\site-packages\\statsmodels\\base\\model.py:568: ConvergenceWarning: Maximum Likelihood optimization failed to converge. Check mle_retvals\n",
      "  ConvergenceWarning)\n"
     ]
    },
    {
     "name": "stdout",
     "output_type": "stream",
     "text": [
      "ARIMA(2, 0, 1)x(2, 1, 2, 12)- AIC:423.71086533583934\n",
      " \n"
     ]
    },
    {
     "name": "stderr",
     "output_type": "stream",
     "text": [
      "D:\\anaconda\\lib\\site-packages\\statsmodels\\base\\model.py:568: ConvergenceWarning: Maximum Likelihood optimization failed to converge. Check mle_retvals\n",
      "  ConvergenceWarning)\n"
     ]
    },
    {
     "name": "stdout",
     "output_type": "stream",
     "text": [
      "ARIMA(2, 0, 2)x(0, 0, 0, 12)- AIC:474.9082413366155\n",
      " \n"
     ]
    },
    {
     "name": "stderr",
     "output_type": "stream",
     "text": [
      "D:\\anaconda\\lib\\site-packages\\statsmodels\\base\\model.py:568: ConvergenceWarning: Maximum Likelihood optimization failed to converge. Check mle_retvals\n",
      "  ConvergenceWarning)\n"
     ]
    },
    {
     "name": "stdout",
     "output_type": "stream",
     "text": [
      "ARIMA(2, 0, 2)x(0, 0, 1, 12)- AIC:469.66428417745635\n",
      " \n"
     ]
    },
    {
     "name": "stderr",
     "output_type": "stream",
     "text": [
      "D:\\anaconda\\lib\\site-packages\\statsmodels\\base\\model.py:568: ConvergenceWarning: Maximum Likelihood optimization failed to converge. Check mle_retvals\n",
      "  ConvergenceWarning)\n"
     ]
    },
    {
     "name": "stdout",
     "output_type": "stream",
     "text": [
      "ARIMA(2, 0, 2)x(0, 0, 2, 12)- AIC:461.1587172301547\n",
      " \n",
      "ARIMA(2, 0, 2)x(0, 1, 0, 12)- AIC:467.3481728119708\n",
      " \n",
      "ARIMA(2, 0, 2)x(0, 1, 1, 12)- AIC:423.2202360290115\n",
      " \n",
      "ARIMA(2, 0, 2)x(0, 1, 2, 12)- AIC:424.56858866707273\n",
      " \n"
     ]
    },
    {
     "name": "stderr",
     "output_type": "stream",
     "text": [
      "D:\\anaconda\\lib\\site-packages\\statsmodels\\base\\model.py:568: ConvergenceWarning: Maximum Likelihood optimization failed to converge. Check mle_retvals\n",
      "  ConvergenceWarning)\n"
     ]
    },
    {
     "name": "stdout",
     "output_type": "stream",
     "text": [
      "ARIMA(2, 0, 2)x(1, 0, 0, 12)- AIC:465.1646626806503\n",
      " \n",
      "ARIMA(2, 0, 2)x(1, 0, 1, 12)- AIC:457.2101810776346\n",
      " \n"
     ]
    },
    {
     "name": "stderr",
     "output_type": "stream",
     "text": [
      "D:\\anaconda\\lib\\site-packages\\statsmodels\\base\\model.py:568: ConvergenceWarning: Maximum Likelihood optimization failed to converge. Check mle_retvals\n",
      "  ConvergenceWarning)\n"
     ]
    },
    {
     "name": "stdout",
     "output_type": "stream",
     "text": [
      "ARIMA(2, 0, 2)x(1, 0, 2, 12)- AIC:457.618229825703\n",
      " \n",
      "ARIMA(2, 0, 2)x(1, 1, 0, 12)- AIC:429.7848040463223\n",
      " \n",
      "ARIMA(2, 0, 2)x(1, 1, 1, 12)- AIC:424.86034664872614\n",
      " \n"
     ]
    },
    {
     "name": "stderr",
     "output_type": "stream",
     "text": [
      "D:\\anaconda\\lib\\site-packages\\statsmodels\\base\\model.py:568: ConvergenceWarning: Maximum Likelihood optimization failed to converge. Check mle_retvals\n",
      "  ConvergenceWarning)\n"
     ]
    },
    {
     "name": "stdout",
     "output_type": "stream",
     "text": [
      "ARIMA(2, 0, 2)x(1, 1, 2, 12)- AIC:423.6553534014249\n",
      " \n"
     ]
    },
    {
     "name": "stderr",
     "output_type": "stream",
     "text": [
      "D:\\anaconda\\lib\\site-packages\\statsmodels\\base\\model.py:568: ConvergenceWarning: Maximum Likelihood optimization failed to converge. Check mle_retvals\n",
      "  ConvergenceWarning)\n"
     ]
    },
    {
     "name": "stdout",
     "output_type": "stream",
     "text": [
      "ARIMA(2, 0, 2)x(2, 0, 0, 12)- AIC:456.26506805463157\n",
      " \n"
     ]
    },
    {
     "name": "stderr",
     "output_type": "stream",
     "text": [
      "D:\\anaconda\\lib\\site-packages\\statsmodels\\base\\model.py:568: ConvergenceWarning: Maximum Likelihood optimization failed to converge. Check mle_retvals\n",
      "  ConvergenceWarning)\n"
     ]
    },
    {
     "name": "stdout",
     "output_type": "stream",
     "text": [
      "ARIMA(2, 0, 2)x(2, 0, 1, 12)- AIC:458.3647263352733\n",
      " \n"
     ]
    },
    {
     "name": "stderr",
     "output_type": "stream",
     "text": [
      "D:\\anaconda\\lib\\site-packages\\statsmodels\\base\\model.py:568: ConvergenceWarning: Maximum Likelihood optimization failed to converge. Check mle_retvals\n",
      "  ConvergenceWarning)\n"
     ]
    },
    {
     "name": "stdout",
     "output_type": "stream",
     "text": [
      "ARIMA(2, 0, 2)x(2, 0, 2, 12)- AIC:458.3457714210711\n",
      " \n",
      "ARIMA(2, 0, 2)x(2, 1, 0, 12)- AIC:426.29557960268653\n",
      " \n"
     ]
    },
    {
     "name": "stderr",
     "output_type": "stream",
     "text": [
      "D:\\anaconda\\lib\\site-packages\\statsmodels\\base\\model.py:568: ConvergenceWarning: Maximum Likelihood optimization failed to converge. Check mle_retvals\n",
      "  ConvergenceWarning)\n"
     ]
    },
    {
     "name": "stdout",
     "output_type": "stream",
     "text": [
      "ARIMA(2, 0, 2)x(2, 1, 1, 12)- AIC:425.2685987620782\n",
      " \n"
     ]
    },
    {
     "name": "stderr",
     "output_type": "stream",
     "text": [
      "D:\\anaconda\\lib\\site-packages\\statsmodels\\base\\model.py:568: ConvergenceWarning: Maximum Likelihood optimization failed to converge. Check mle_retvals\n",
      "  ConvergenceWarning)\n"
     ]
    },
    {
     "name": "stdout",
     "output_type": "stream",
     "text": [
      "ARIMA(2, 0, 2)x(2, 1, 2, 12)- AIC:425.5957679960079\n",
      " \n",
      "ARIMA(2, 1, 0)x(0, 0, 0, 12)- AIC:496.22218508693044\n",
      " \n",
      "ARIMA(2, 1, 0)x(0, 0, 1, 12)- AIC:488.82735530628884\n",
      " \n",
      "ARIMA(2, 1, 0)x(0, 0, 2, 12)- AIC:482.603389052536\n",
      " \n",
      "ARIMA(2, 1, 0)x(0, 1, 0, 12)- AIC:484.52234564117265\n",
      " \n",
      "ARIMA(2, 1, 0)x(0, 1, 1, 12)- AIC:441.9900285425374\n",
      " \n",
      "ARIMA(2, 1, 0)x(0, 1, 2, 12)- AIC:443.8688770988947\n",
      " \n",
      "ARIMA(2, 1, 0)x(1, 0, 0, 12)- AIC:483.53393448242514\n",
      " \n",
      "ARIMA(2, 1, 0)x(1, 0, 1, 12)- AIC:474.4072726783238\n",
      " \n",
      "ARIMA(2, 1, 0)x(1, 0, 2, 12)- AIC:476.2885480341076\n",
      " \n",
      "ARIMA(2, 1, 0)x(1, 1, 0, 12)- AIC:453.881840878279\n",
      " \n",
      "ARIMA(2, 1, 0)x(1, 1, 1, 12)- AIC:443.84906869833264\n",
      " \n"
     ]
    },
    {
     "name": "stderr",
     "output_type": "stream",
     "text": [
      "D:\\anaconda\\lib\\site-packages\\statsmodels\\base\\model.py:568: ConvergenceWarning: Maximum Likelihood optimization failed to converge. Check mle_retvals\n",
      "  ConvergenceWarning)\n"
     ]
    },
    {
     "name": "stdout",
     "output_type": "stream",
     "text": [
      "ARIMA(2, 1, 0)x(1, 1, 2, 12)- AIC:444.23001939296614\n",
      " \n",
      "ARIMA(2, 1, 0)x(2, 0, 0, 12)- AIC:476.6388060132408\n",
      " \n",
      "ARIMA(2, 1, 0)x(2, 0, 1, 12)- AIC:476.2425425688755\n",
      " \n"
     ]
    },
    {
     "name": "stderr",
     "output_type": "stream",
     "text": [
      "D:\\anaconda\\lib\\site-packages\\statsmodels\\base\\model.py:568: ConvergenceWarning: Maximum Likelihood optimization failed to converge. Check mle_retvals\n",
      "  ConvergenceWarning)\n"
     ]
    },
    {
     "name": "stdout",
     "output_type": "stream",
     "text": [
      "ARIMA(2, 1, 0)x(2, 0, 2, 12)- AIC:476.8282551048362\n",
      " \n",
      "ARIMA(2, 1, 0)x(2, 1, 0, 12)- AIC:446.4780562066442\n",
      " \n",
      "ARIMA(2, 1, 0)x(2, 1, 1, 12)- AIC:445.45392078399465\n",
      " \n"
     ]
    },
    {
     "name": "stderr",
     "output_type": "stream",
     "text": [
      "D:\\anaconda\\lib\\site-packages\\statsmodels\\base\\model.py:568: ConvergenceWarning: Maximum Likelihood optimization failed to converge. Check mle_retvals\n",
      "  ConvergenceWarning)\n"
     ]
    },
    {
     "name": "stdout",
     "output_type": "stream",
     "text": [
      "ARIMA(2, 1, 0)x(2, 1, 2, 12)- AIC:446.1300447773538\n",
      " \n",
      "ARIMA(2, 1, 1)x(0, 0, 0, 12)- AIC:468.0091837905966\n",
      " \n",
      "ARIMA(2, 1, 1)x(0, 0, 1, 12)- AIC:462.84570223938374\n",
      " \n",
      "ARIMA(2, 1, 1)x(0, 0, 2, 12)- AIC:454.3002348655205\n",
      " \n",
      "ARIMA(2, 1, 1)x(0, 1, 0, 12)- AIC:466.957114124349\n",
      " \n",
      "ARIMA(2, 1, 1)x(0, 1, 1, 12)- AIC:424.35044001692813\n",
      " \n",
      "ARIMA(2, 1, 1)x(0, 1, 2, 12)- AIC:425.435516429372\n",
      " \n",
      "ARIMA(2, 1, 1)x(1, 0, 0, 12)- AIC:458.32881936316574\n",
      " \n",
      "ARIMA(2, 1, 1)x(1, 0, 1, 12)- AIC:449.87574990557385\n",
      " \n"
     ]
    },
    {
     "name": "stderr",
     "output_type": "stream",
     "text": [
      "D:\\anaconda\\lib\\site-packages\\statsmodels\\base\\model.py:568: ConvergenceWarning: Maximum Likelihood optimization failed to converge. Check mle_retvals\n",
      "  ConvergenceWarning)\n"
     ]
    },
    {
     "name": "stdout",
     "output_type": "stream",
     "text": [
      "ARIMA(2, 1, 1)x(1, 0, 2, 12)- AIC:450.4716012110611\n",
      " \n",
      "ARIMA(2, 1, 1)x(1, 1, 0, 12)- AIC:431.95052344883413\n",
      " \n",
      "ARIMA(2, 1, 1)x(1, 1, 1, 12)- AIC:425.21568034095446\n",
      " \n"
     ]
    },
    {
     "name": "stderr",
     "output_type": "stream",
     "text": [
      "D:\\anaconda\\lib\\site-packages\\statsmodels\\base\\model.py:568: ConvergenceWarning: Maximum Likelihood optimization failed to converge. Check mle_retvals\n",
      "  ConvergenceWarning)\n"
     ]
    },
    {
     "name": "stdout",
     "output_type": "stream",
     "text": [
      "ARIMA(2, 1, 1)x(1, 1, 2, 12)- AIC:423.7960150820003\n",
      " \n",
      "ARIMA(2, 1, 1)x(2, 0, 0, 12)- AIC:449.36900826374836\n",
      " \n",
      "ARIMA(2, 1, 1)x(2, 0, 1, 12)- AIC:450.42585021557863\n",
      " \n"
     ]
    },
    {
     "name": "stderr",
     "output_type": "stream",
     "text": [
      "D:\\anaconda\\lib\\site-packages\\statsmodels\\base\\model.py:568: ConvergenceWarning: Maximum Likelihood optimization failed to converge. Check mle_retvals\n",
      "  ConvergenceWarning)\n"
     ]
    },
    {
     "name": "stdout",
     "output_type": "stream",
     "text": [
      "ARIMA(2, 1, 1)x(2, 0, 2, 12)- AIC:450.53778190866535\n",
      " \n",
      "ARIMA(2, 1, 1)x(2, 1, 0, 12)- AIC:427.9019675797461\n",
      " \n"
     ]
    },
    {
     "name": "stderr",
     "output_type": "stream",
     "text": [
      "D:\\anaconda\\lib\\site-packages\\statsmodels\\base\\model.py:568: ConvergenceWarning: Maximum Likelihood optimization failed to converge. Check mle_retvals\n",
      "  ConvergenceWarning)\n"
     ]
    },
    {
     "name": "stdout",
     "output_type": "stream",
     "text": [
      "ARIMA(2, 1, 1)x(2, 1, 1, 12)- AIC:426.63357174400153\n",
      " \n"
     ]
    },
    {
     "name": "stderr",
     "output_type": "stream",
     "text": [
      "D:\\anaconda\\lib\\site-packages\\statsmodels\\base\\model.py:568: ConvergenceWarning: Maximum Likelihood optimization failed to converge. Check mle_retvals\n",
      "  ConvergenceWarning)\n"
     ]
    },
    {
     "name": "stdout",
     "output_type": "stream",
     "text": [
      "ARIMA(2, 1, 1)x(2, 1, 2, 12)- AIC:425.9050798718822\n",
      " \n",
      "ARIMA(2, 1, 2)x(0, 0, 0, 12)- AIC:470.3243699685228\n",
      " \n",
      "ARIMA(2, 1, 2)x(0, 0, 1, 12)- AIC:464.7899917026043\n",
      " \n",
      "ARIMA(2, 1, 2)x(0, 0, 2, 12)- AIC:455.9188238334142\n",
      " \n",
      "ARIMA(2, 1, 2)x(0, 1, 0, 12)- AIC:468.3224544005994\n",
      " \n",
      "ARIMA(2, 1, 2)x(0, 1, 1, 12)- AIC:426.0649207492197\n",
      " \n",
      "ARIMA(2, 1, 2)x(0, 1, 2, 12)- AIC:427.44008657451263\n",
      " \n",
      "ARIMA(2, 1, 2)x(1, 0, 0, 12)- AIC:460.0552143833521\n",
      " \n",
      "ARIMA(2, 1, 2)x(1, 0, 1, 12)- AIC:451.6047308519396\n",
      " \n"
     ]
    },
    {
     "name": "stderr",
     "output_type": "stream",
     "text": [
      "D:\\anaconda\\lib\\site-packages\\statsmodels\\base\\model.py:568: ConvergenceWarning: Maximum Likelihood optimization failed to converge. Check mle_retvals\n",
      "  ConvergenceWarning)\n"
     ]
    },
    {
     "name": "stdout",
     "output_type": "stream",
     "text": [
      "ARIMA(2, 1, 2)x(1, 0, 2, 12)- AIC:451.7240773771665\n",
      " \n",
      "ARIMA(2, 1, 2)x(1, 1, 0, 12)- AIC:433.93984834940454\n",
      " \n",
      "ARIMA(2, 1, 2)x(1, 1, 1, 12)- AIC:426.69564691514086\n",
      " \n"
     ]
    },
    {
     "name": "stderr",
     "output_type": "stream",
     "text": [
      "D:\\anaconda\\lib\\site-packages\\statsmodels\\base\\model.py:568: ConvergenceWarning: Maximum Likelihood optimization failed to converge. Check mle_retvals\n",
      "  ConvergenceWarning)\n"
     ]
    },
    {
     "name": "stdout",
     "output_type": "stream",
     "text": [
      "ARIMA(2, 1, 2)x(1, 1, 2, 12)- AIC:425.2995118133425\n",
      " \n",
      "ARIMA(2, 1, 2)x(2, 0, 0, 12)- AIC:450.6329516987614\n",
      " \n"
     ]
    },
    {
     "name": "stderr",
     "output_type": "stream",
     "text": [
      "D:\\anaconda\\lib\\site-packages\\statsmodels\\base\\model.py:568: ConvergenceWarning: Maximum Likelihood optimization failed to converge. Check mle_retvals\n",
      "  ConvergenceWarning)\n"
     ]
    },
    {
     "name": "stdout",
     "output_type": "stream",
     "text": [
      "ARIMA(2, 1, 2)x(2, 0, 1, 12)- AIC:451.7845256315722\n",
      " \n"
     ]
    },
    {
     "name": "stderr",
     "output_type": "stream",
     "text": [
      "D:\\anaconda\\lib\\site-packages\\statsmodels\\base\\model.py:568: ConvergenceWarning: Maximum Likelihood optimization failed to converge. Check mle_retvals\n",
      "  ConvergenceWarning)\n"
     ]
    },
    {
     "name": "stdout",
     "output_type": "stream",
     "text": [
      "ARIMA(2, 1, 2)x(2, 0, 2, 12)- AIC:451.84197262572417\n",
      " \n",
      "ARIMA(2, 1, 2)x(2, 1, 0, 12)- AIC:428.85569575579336\n",
      " \n",
      "ARIMA(2, 1, 2)x(2, 1, 1, 12)- AIC:428.5687964810474\n",
      " \n",
      "ARIMA(2, 1, 2)x(2, 1, 2, 12)- AIC:427.8055512146475\n",
      " \n"
     ]
    },
    {
     "name": "stderr",
     "output_type": "stream",
     "text": [
      "D:\\anaconda\\lib\\site-packages\\statsmodels\\base\\model.py:568: ConvergenceWarning: Maximum Likelihood optimization failed to converge. Check mle_retvals\n",
      "  ConvergenceWarning)\n"
     ]
    }
   ],
   "source": [
    "p = [0,1,2]\n",
    "d = [0,1]\n",
    "q = [0,1,2]\n",
    "pdq = list(itertools.product(p, d, q))\n",
    "seasonal_pdq = [(x[0], x[1], x[2], 12) for x in list(itertools.product(p, d, q))]\n",
    "\n",
    "df = pd.DataFrame()\n",
    "for param in pdq:\n",
    "    for param_seasonal in seasonal_pdq:\n",
    "        try:\n",
    "            mod = sm.tsa.statespace.SARIMAX(train['Sum of Sales'],\n",
    "                                            order=param,\n",
    "                                            seasonal_order=param_seasonal)\n",
    "            results = mod.fit()\n",
    "            print('ARIMA{}x{}- AIC:{}'.format(param, param_seasonal, results.aic))\n",
    "\n",
    "            combo = [(param,param_seasonal,results.aic)]\n",
    "            df = df.append(combo)\n",
    "            print(\" \")\n",
    "        except:\n",
    "            continue\n",
    "df.columns = ['param','param_seasonal', 'AIC']"
   ]
  },
  {
   "cell_type": "code",
   "execution_count": 38,
   "metadata": {
    "colab": {
     "base_uri": "https://localhost:8080/",
     "height": 419
    },
    "id": "HiZqRoLuLYDQ",
    "outputId": "526d0291-4b4b-4486-8587-579fe7d0ea39"
   },
   "outputs": [
    {
     "data": {
      "text/html": [
       "<div>\n",
       "<style scoped>\n",
       "    .dataframe tbody tr th:only-of-type {\n",
       "        vertical-align: middle;\n",
       "    }\n",
       "\n",
       "    .dataframe tbody tr th {\n",
       "        vertical-align: top;\n",
       "    }\n",
       "\n",
       "    .dataframe thead th {\n",
       "        text-align: right;\n",
       "    }\n",
       "</style>\n",
       "<table border=\"1\" class=\"dataframe\">\n",
       "  <thead>\n",
       "    <tr style=\"text-align: right;\">\n",
       "      <th></th>\n",
       "      <th>param</th>\n",
       "      <th>param_seasonal</th>\n",
       "      <th>AIC</th>\n",
       "    </tr>\n",
       "  </thead>\n",
       "  <tbody>\n",
       "    <tr>\n",
       "      <th>0</th>\n",
       "      <td>(1, 0, 0)</td>\n",
       "      <td>(0, 1, 1, 12)</td>\n",
       "      <td>418.255306</td>\n",
       "    </tr>\n",
       "    <tr>\n",
       "      <th>1</th>\n",
       "      <td>(1, 0, 0)</td>\n",
       "      <td>(1, 1, 2, 12)</td>\n",
       "      <td>418.569315</td>\n",
       "    </tr>\n",
       "    <tr>\n",
       "      <th>2</th>\n",
       "      <td>(1, 0, 0)</td>\n",
       "      <td>(1, 1, 1, 12)</td>\n",
       "      <td>419.477416</td>\n",
       "    </tr>\n",
       "    <tr>\n",
       "      <th>3</th>\n",
       "      <td>(1, 0, 0)</td>\n",
       "      <td>(0, 1, 2, 12)</td>\n",
       "      <td>419.685330</td>\n",
       "    </tr>\n",
       "    <tr>\n",
       "      <th>4</th>\n",
       "      <td>(1, 0, 1)</td>\n",
       "      <td>(0, 1, 1, 12)</td>\n",
       "      <td>419.947632</td>\n",
       "    </tr>\n",
       "    <tr>\n",
       "      <th>...</th>\n",
       "      <td>...</td>\n",
       "      <td>...</td>\n",
       "      <td>...</td>\n",
       "    </tr>\n",
       "    <tr>\n",
       "      <th>319</th>\n",
       "      <td>(0, 0, 1)</td>\n",
       "      <td>(0, 0, 1, 12)</td>\n",
       "      <td>575.798438</td>\n",
       "    </tr>\n",
       "    <tr>\n",
       "      <th>320</th>\n",
       "      <td>(0, 0, 0)</td>\n",
       "      <td>(0, 0, 2, 12)</td>\n",
       "      <td>594.747452</td>\n",
       "    </tr>\n",
       "    <tr>\n",
       "      <th>321</th>\n",
       "      <td>(0, 0, 1)</td>\n",
       "      <td>(0, 0, 0, 12)</td>\n",
       "      <td>616.540654</td>\n",
       "    </tr>\n",
       "    <tr>\n",
       "      <th>322</th>\n",
       "      <td>(0, 0, 0)</td>\n",
       "      <td>(0, 0, 1, 12)</td>\n",
       "      <td>653.577681</td>\n",
       "    </tr>\n",
       "    <tr>\n",
       "      <th>323</th>\n",
       "      <td>(0, 0, 0)</td>\n",
       "      <td>(0, 0, 0, 12)</td>\n",
       "      <td>717.578529</td>\n",
       "    </tr>\n",
       "  </tbody>\n",
       "</table>\n",
       "<p>324 rows × 3 columns</p>\n",
       "</div>"
      ],
      "text/plain": [
       "         param param_seasonal         AIC\n",
       "0    (1, 0, 0)  (0, 1, 1, 12)  418.255306\n",
       "1    (1, 0, 0)  (1, 1, 2, 12)  418.569315\n",
       "2    (1, 0, 0)  (1, 1, 1, 12)  419.477416\n",
       "3    (1, 0, 0)  (0, 1, 2, 12)  419.685330\n",
       "4    (1, 0, 1)  (0, 1, 1, 12)  419.947632\n",
       "..         ...            ...         ...\n",
       "319  (0, 0, 1)  (0, 0, 1, 12)  575.798438\n",
       "320  (0, 0, 0)  (0, 0, 2, 12)  594.747452\n",
       "321  (0, 0, 1)  (0, 0, 0, 12)  616.540654\n",
       "322  (0, 0, 0)  (0, 0, 1, 12)  653.577681\n",
       "323  (0, 0, 0)  (0, 0, 0, 12)  717.578529\n",
       "\n",
       "[324 rows x 3 columns]"
      ]
     },
     "execution_count": 38,
     "metadata": {},
     "output_type": "execute_result"
    }
   ],
   "source": [
    "df = df.sort_values('AIC').reset_index(drop= True)\n",
    "df"
   ]
  },
  {
   "cell_type": "markdown",
   "metadata": {
    "id": "iNNhWYXHLhAL"
   },
   "source": [
    "The above output suggests that SARIMAX(3,0,0)(3,0,0,12) yields the lowest AIC value of 328.424883. Therefore we should consider this to be the optimal option."
   ]
  },
  {
   "cell_type": "code",
   "execution_count": 39,
   "metadata": {
    "colab": {
     "base_uri": "https://localhost:8080/"
    },
    "id": "kOTO2gV8Lyrv",
    "outputId": "40c519c8-d977-4807-8df3-bf530a698661"
   },
   "outputs": [
    {
     "name": "stdout",
     "output_type": "stream",
     "text": [
      "                                      SARIMAX Results                                       \n",
      "============================================================================================\n",
      "Dep. Variable:                         Sum of Sales   No. Observations:                  143\n",
      "Model:             SARIMAX(1, 0, 0)x(0, 1, [1], 12)   Log Likelihood                -206.128\n",
      "Date:                              Mon, 29 Mar 2021   AIC                            418.255\n",
      "Time:                                      21:48:01   BIC                            426.881\n",
      "Sample:                                           0   HQIC                           421.760\n",
      "                                              - 143                                         \n",
      "Covariance Type:                                opg                                         \n",
      "==============================================================================\n",
      "                 coef    std err          z      P>|z|      [0.025      0.975]\n",
      "------------------------------------------------------------------------------\n",
      "ar.L1          0.3740      0.100      3.743      0.000       0.178       0.570\n",
      "ma.S.L12      -0.6927      0.082     -8.460      0.000      -0.853      -0.532\n",
      "sigma2         1.2816      0.111     11.536      0.000       1.064       1.499\n",
      "===================================================================================\n",
      "Ljung-Box (L1) (Q):                   0.03   Jarque-Bera (JB):                87.03\n",
      "Prob(Q):                              0.87   Prob(JB):                         0.00\n",
      "Heteroskedasticity (H):               0.81   Skew:                             0.91\n",
      "Prob(H) (two-sided):                  0.48   Kurtosis:                         6.55\n",
      "===================================================================================\n",
      "\n",
      "Warnings:\n",
      "[1] Covariance matrix calculated using the outer product of gradients (complex-step).\n"
     ]
    }
   ],
   "source": [
    "mod = sm.tsa.statespace.SARIMAX(train['Sum of Sales'],\n",
    "                                order=(1, 0, 0),\n",
    "                                seasonal_order=(0, 1, 1, 12))\n",
    "results = mod.fit()\n",
    "print(results.summary())"
   ]
  },
  {
   "cell_type": "code",
   "execution_count": 40,
   "metadata": {
    "colab": {
     "base_uri": "https://localhost:8080/",
     "height": 513
    },
    "id": "a2Mh7bwhL_DN",
    "outputId": "3410f877-7d05-4f15-9bc5-fb12dab8f806"
   },
   "outputs": [
    {
     "data": {
      "image/png": "[encoded data removed]",
      "text/plain": [
       "<Figure size 1152x576 with 4 Axes>"
      ]
     },
     "metadata": {
      "needs_background": "light"
     },
     "output_type": "display_data"
    }
   ],
   "source": [
    "results.plot_diagnostics(figsize=(16, 8))\n",
    "plt.show()"
   ]
  },
  {
   "cell_type": "markdown",
   "metadata": {
    "id": "sPjptDL7EMfI"
   },
   "source": [
    "Here we will forecast the values using the model. Can change starting point from which we need to forecast. For now we will keep starting point after 50 observations"
   ]
  },
  {
   "cell_type": "code",
   "execution_count": 41,
   "metadata": {
    "colab": {
     "base_uri": "https://localhost:8080/",
     "height": 439
    },
    "id": "SjwZ_3-3MBY8",
    "outputId": "16308993-aaf0-4f4e-e33d-d663fad3f542"
   },
   "outputs": [
    {
     "data": {
      "image/png": "[encoded data removed]",
      "text/plain": [
       "<Figure size 1008x504 with 1 Axes>"
      ]
     },
     "metadata": {
      "needs_background": "light"
     },
     "output_type": "display_data"
    }
   ],
   "source": [
    "#Point from which prediction starts\n",
    "start_point = 50\n",
    "pred = results.get_prediction(start=start_point)\n",
    "pred_ci = pred.conf_int()\n",
    "ax = sales['Sum of Sales'].plot(label='observed',)\n",
    "pred.predicted_mean.plot(ax=ax, label='Predicted', alpha=.7, figsize=(14, 7))\n",
    "ax.fill_between(pred_ci.index,\n",
    "                pred_ci.iloc[:, 0],\n",
    "                pred_ci.iloc[:, 1], color='k', alpha=.2)\n",
    "plt.legend()\n",
    "plt.show()"
   ]
  },
  {
   "cell_type": "code",
   "execution_count": 42,
   "metadata": {},
   "outputs": [
    {
     "data": {
      "text/plain": [
       "143    4.211353\n",
       "144    4.460591\n",
       "145    2.892006\n",
       "146    2.831927\n",
       "147    2.549591\n",
       "148    2.203163\n",
       "149    2.362365\n",
       "150    1.676370\n",
       "151    1.541110\n",
       "152    1.411440\n",
       "153    4.289562\n",
       "154    4.260866\n",
       "Name: predicted_mean, dtype: float64"
      ]
     },
     "execution_count": 42,
     "metadata": {},
     "output_type": "execute_result"
    }
   ],
   "source": [
    "results.forecast(steps=12)"
   ]
  },
  {
   "cell_type": "code",
   "execution_count": 43,
   "metadata": {},
   "outputs": [
    {
     "data": {
      "image/png": "[encoded data removed]",
      "text/plain": [
       "<Figure size 1008x504 with 1 Axes>"
      ]
     },
     "metadata": {
      "needs_background": "light"
     },
     "output_type": "display_data"
    }
   ],
   "source": [
    "pred_uc = results.get_forecast(steps=12)\n",
    "pred_ci = pred_uc.conf_int()\n",
    "ax = sales.plot(label='observed', figsize=(14, 7))\n",
    "pred_uc.predicted_mean.plot(ax=ax, label='Forecast')\n",
    "ax.fill_between(pred_ci.index,\n",
    "                pred_ci.iloc[:, 0],\n",
    "                pred_ci.iloc[:, 1], color='k', alpha=.25)\n",
    "ax.set_xlabel('Date')\n",
    "ax.set_ylabel('Sales')\n",
    "plt.legend()\n",
    "plt.show()"
   ]
  },
  {
   "cell_type": "markdown",
   "metadata": {
    "id": "FqsiHXH1FDIy"
   },
   "source": [
    "# Model Evaluation\n",
    " - Mean Absolute Percentage Error\n",
    " - Mean Absolute Error\n",
    " - BIAS\n",
    " - Mean Squared Error\n",
    " - Root Mean Squared Error"
   ]
  },
  {
   "cell_type": "code",
   "execution_count": 51,
   "metadata": {},
   "outputs": [
    {
     "name": "stdout",
     "output_type": "stream",
     "text": [
      "===================================================================\n",
      "\t\t\tModel Performance\n",
      "===================================================================\n",
      "\n",
      "Mean Absolute Percentage Error: 0.28916459474126316\n",
      "\n",
      "Mean Absolute Error: 0.7252759117542666\n",
      "\n",
      "BIAS: 0.10750783041400364\n",
      "\n",
      "Mean Squared Error: 1.0748878248303333\n",
      "\n",
      "Root Mean Squared Error: 1.0367679705847077\n",
      "===================================================================\n"
     ]
    }
   ],
   "source": [
    "predictions = pred.predicted_mean\n",
    "actual = train['Sum of Sales'][start_point:]\n",
    "me.evaluate_model(predictions,actual)"
   ]
  },
  {
   "cell_type": "code",
   "execution_count": 52,
   "metadata": {},
   "outputs": [
    {
     "name": "stdout",
     "output_type": "stream",
     "text": [
      "===================================================================\n",
      "\t\t\tModel Performance\n",
      "===================================================================\n",
      "\n",
      "Mean Absolute Percentage Error: 0.30200513177524907\n",
      "\n",
      "Mean Absolute Error: 1.2791712283671546\n",
      "\n",
      "BIAS: 0.8108686585978901\n",
      "\n",
      "Mean Squared Error: 7.890095777956101\n",
      "\n",
      "Root Mean Squared Error: 2.8089314299135357\n",
      "===================================================================\n"
     ]
    }
   ],
   "source": [
    "test_prediction = results.forecast(steps=12)\n",
    "test_actual = test['Sum of Sales']\n",
    "me.evaluate_model(test_prediction,test_actual)"
   ]
  }
 ],
 "metadata": {
  "colab": {
   "collapsed_sections": [],
   "include_colab_link": true,
   "name": "books_sarima.ipynb",
   "provenance": []
  },
  "kernelspec": {
   "display_name": "Python 3",
   "language": "python",
   "name": "python3"
  },
  "language_info": {
   "codemirror_mode": {
    "name": "ipython",
    "version": 3
   },
   "file_extension": ".py",
   "mimetype": "text/x-python",
   "name": "python",
   "nbconvert_exporter": "python",
   "pygments_lexer": "ipython3",
   "version": "3.7.4"
  }
 },
 "nbformat": 4,
 "nbformat_minor": 1
}
