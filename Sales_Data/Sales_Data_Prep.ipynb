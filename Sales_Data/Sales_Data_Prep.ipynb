{
 "cells": [
  {
   "cell_type": "markdown",
   "metadata": {
    "id": "9eNZPN6joge2"
   },
   "source": [
    "# LabelMaster Sales Data\n",
    "In this notebook we will prep the Labelmaster sales data and merge all the sheets into one single dataframe. "
   ]
  },
  {
   "cell_type": "code",
   "execution_count": null,
   "metadata": {
    "colab": {
     "base_uri": "https://localhost:8080/"
    },
    "id": "-1R1ImfPJdKp",
    "outputId": "32f2c42e-279d-45e8-e12e-3da206a46ff9"
   },
   "outputs": [
    {
     "name": "stdout",
     "output_type": "stream",
     "text": [
      "Drive already mounted at /content/drive; to attempt to forcibly remount, call drive.mount(\"/content/drive\", force_remount=True).\n"
     ]
    }
   ],
   "source": [
    "from google.colab import drive\n",
    "drive.mount('/content/drive')\n",
    "import pandas as pd"
   ]
  },
  {
   "cell_type": "markdown",
   "metadata": {
    "id": "gmzh0XhxoxGl"
   },
   "source": [
    "Load all the sales data sheets into the notebook"
   ]
  },
  {
   "cell_type": "code",
   "execution_count": null,
   "metadata": {
    "id": "9BF8NI4SJszH"
   },
   "outputs": [],
   "source": [
    "# Load all data sheets\n",
    "df1 = pd.read_excel(\"/content/drive/My Drive/Colab Notebooks/LabelMaster/LabelMaster Data/Labelmaster Daily Sales by Product Group Part 1.xlsx\")\n",
    "df2 = pd.read_excel(\"/content/drive/My Drive/Colab Notebooks/LabelMaster/LabelMaster Data/Labelmaster Daily Sales by Product Group Part 2.xlsx\")\n",
    "df3 = pd.read_excel(\"/content/drive/My Drive/Colab Notebooks/LabelMaster/LabelMaster Data/Labelmaster Daily Sales by Product Group Part 3.xlsx\")\n",
    "df4 = pd.read_excel(\"/content/drive/My Drive/Colab Notebooks/LabelMaster/LabelMaster Data/Labelmaster Daily Sales by Product Group Part 4.xlsx\")\n",
    "df5 = pd.read_excel(\"/content/drive/My Drive/Colab Notebooks/LabelMaster/LabelMaster Data/Labelmaster Daily Sales by Product Group Part 5.xlsx\")\n",
    "df6 = pd.read_excel(\"/content/drive/My Drive/Colab Notebooks/LabelMaster/LabelMaster Data/Labelmaster Daily Sales by Product Group Part 6.xlsx\")\n",
    "df7 = pd.read_excel(\"/content/drive/My Drive/Colab Notebooks/LabelMaster/LabelMaster Data/Labelmaster Daily Sales by Product Group Part 7.xlsx\")\n",
    "df8 = pd.read_excel(\"/content/drive/My Drive/Colab Notebooks/LabelMaster/LabelMaster Data/Labelmaster Daily Sales by Product Group Part 8.xlsx\")\n",
    "df9 = pd.read_excel(\"/content/drive/My Drive/Colab Notebooks/LabelMaster/LabelMaster Data/Labelmaster Daily Sales by Product Group Part 9.xlsx\")\n",
    "df10 = pd.read_excel(\"/content/drive/My Drive/Colab Notebooks/LabelMaster/LabelMaster Data/Labelmaster Daily Sales by Product Group Part 10.xlsx\")"
   ]
  },
  {
   "cell_type": "markdown",
   "metadata": {
    "id": "ww3GAxVMo3IS"
   },
   "source": [
    "A method to preprocess raw datasheets.\n",
    "- Rename the columns of the datasheet\n",
    "- Drop the columns which do not provide any necessary information\n",
    "- Change the datatype of column that are of numeric datatype."
   ]
  },
  {
   "cell_type": "code",
   "execution_count": null,
   "metadata": {
    "id": "d9cBZ5ZxLEXh"
   },
   "outputs": [],
   "source": [
    "def preprocess_datasheet(sheet):\n",
    "  \n",
    "  # Rename the columns\n",
    "  sheet = sheet.rename(columns=sheet.iloc[1])\n",
    "  \n",
    "  #Drop unnecessary columns\n",
    "  sheet = sheet.drop(sheet.index[0:2])\n",
    "  \n",
    "  #Change datatypes to integer and float\n",
    "  sheet[\"Department Dim\"] = sheet[\"Department Dim\"].astype(\"int\")\n",
    "  sheet[\"Sum of Sales\"] = sheet[\"Sum of Sales\"].astype(\"float\")\n",
    "\n",
    "  return sheet\n"
   ]
  },
  {
   "cell_type": "markdown",
   "metadata": {
    "id": "byIdKZ4cpeP_"
   },
   "source": [
    "Run the proeprocssing method on each sheet and create a list of all preprocessed sheets."
   ]
  },
  {
   "cell_type": "code",
   "execution_count": null,
   "metadata": {
    "colab": {
     "base_uri": "https://localhost:8080/",
     "height": 221
    },
    "id": "ggvRibiTQIDb",
    "outputId": "4417a3e9-e9c6-4c33-dbc0-39a2a62fbe8e"
   },
   "outputs": [
    {
     "data": {
      "text/html": [
       "<div>\n",
       "<style scoped>\n",
       "    .dataframe tbody tr th:only-of-type {\n",
       "        vertical-align: middle;\n",
       "    }\n",
       "\n",
       "    .dataframe tbody tr th {\n",
       "        vertical-align: top;\n",
       "    }\n",
       "\n",
       "    .dataframe thead th {\n",
       "        text-align: right;\n",
       "    }\n",
       "</style>\n",
       "<table border=\"1\" class=\"dataframe\">\n",
       "  <thead>\n",
       "    <tr style=\"text-align: right;\">\n",
       "      <th></th>\n",
       "      <th>Department Dim</th>\n",
       "      <th>Product Group Code</th>\n",
       "      <th>Posting Date</th>\n",
       "      <th>Sum of Sales</th>\n",
       "    </tr>\n",
       "  </thead>\n",
       "  <tbody>\n",
       "    <tr>\n",
       "      <th>2</th>\n",
       "      <td>505</td>\n",
       "      <td>50504</td>\n",
       "      <td>1993-01-04 00:00:00</td>\n",
       "      <td>1599.50</td>\n",
       "    </tr>\n",
       "    <tr>\n",
       "      <th>3</th>\n",
       "      <td>510</td>\n",
       "      <td>NaN</td>\n",
       "      <td>1993-01-04 00:00:00</td>\n",
       "      <td>2168.78</td>\n",
       "    </tr>\n",
       "    <tr>\n",
       "      <th>4</th>\n",
       "      <td>510</td>\n",
       "      <td>50301</td>\n",
       "      <td>1993-01-04 00:00:00</td>\n",
       "      <td>107.10</td>\n",
       "    </tr>\n",
       "    <tr>\n",
       "      <th>5</th>\n",
       "      <td>510</td>\n",
       "      <td>50305</td>\n",
       "      <td>1993-01-04 00:00:00</td>\n",
       "      <td>113.25</td>\n",
       "    </tr>\n",
       "    <tr>\n",
       "      <th>6</th>\n",
       "      <td>511</td>\n",
       "      <td>NaN</td>\n",
       "      <td>1993-01-04 00:00:00</td>\n",
       "      <td>14308.41</td>\n",
       "    </tr>\n",
       "  </tbody>\n",
       "</table>\n",
       "</div>"
      ],
      "text/plain": [
       "   Department Dim Product Group Code         Posting Date  Sum of Sales\n",
       "2             505              50504  1993-01-04 00:00:00       1599.50\n",
       "3             510                NaN  1993-01-04 00:00:00       2168.78\n",
       "4             510              50301  1993-01-04 00:00:00        107.10\n",
       "5             510              50305  1993-01-04 00:00:00        113.25\n",
       "6             511                NaN  1993-01-04 00:00:00      14308.41"
      ]
     },
     "execution_count": 51,
     "metadata": {
      "tags": []
     },
     "output_type": "execute_result"
    }
   ],
   "source": [
    "#Create a list of dataframes\n",
    "dfs = [df1,df2,df3,df4,df5,df6,df7,df8,df9,df10]\n",
    "\n",
    "#Create a list of preprocessed dataframes as sheets\n",
    "sheet = [preprocess_datasheet(df) for df in dfs]"
   ]
  },
  {
   "cell_type": "markdown",
   "metadata": {
    "id": "bsSmKSL_ppgL"
   },
   "source": [
    "Merge all the sheets into one single dataframe and save it for the future use."
   ]
  },
  {
   "cell_type": "code",
   "execution_count": null,
   "metadata": {
    "id": "6p2b7Bf2R1LZ"
   },
   "outputs": [],
   "source": [
    "#Concatenate all the sheets data\n",
    "final_sheet = pd.concat(sheet)"
   ]
  },
  {
   "cell_type": "code",
   "execution_count": null,
   "metadata": {
    "id": "xtAj9fbbNNby"
   },
   "outputs": [],
   "source": [
    "# Save the final sheet to csv format\n",
    "final_sheet.to_csv(\"/content/drive/My Drive/Colab Notebooks/LabelMaster/LabelMaster Data/concatenated_sales_data.csv\")"
   ]
  }
 ],
 "metadata": {
  "colab": {
   "name": "Sales_Data_Prep",
   "provenance": []
  },
  "kernelspec": {
   "display_name": "Python 3",
   "language": "python",
   "name": "python3"
  },
  "language_info": {
   "codemirror_mode": {
    "name": "ipython",
    "version": 3
   },
   "file_extension": ".py",
   "mimetype": "text/x-python",
   "name": "python",
   "nbconvert_exporter": "python",
   "pygments_lexer": "ipython3",
   "version": "3.7.1"
  }
 },
 "nbformat": 4,
 "nbformat_minor": 1
}
