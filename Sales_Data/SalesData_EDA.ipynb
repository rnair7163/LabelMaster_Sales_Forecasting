{
  "nbformat": 4,
  "nbformat_minor": 0,
  "metadata": {
    "colab": {
      "name": "SalesData_EDA",
      "provenance": []
    },
    "kernelspec": {
      "name": "python3",
      "display_name": "Python 3"
    }
  },
  "cells": [
    {
      "cell_type": "markdown",
      "metadata": {
        "id": "QxWiJkyRi5Mw"
      },
      "source": [
        "# LabelMaster Sales Data EDA\n",
        "In this notebook we try to find seasonality in the data according to month.\n",
        "Uses a dataset that we got from DataPrep Notebook"
      ]
    },
    {
      "cell_type": "code",
      "metadata": {
        "colab": {
          "base_uri": "https://localhost:8080/"
        },
        "id": "A6IGjc5Cjcq4",
        "outputId": "e0282a15-3d30-4621-e869-5ca940b4e27a"
      },
      "source": [
        "from google.colab import drive\n",
        "drive.mount('/content/drive')\n",
        "import pandas as pd\n",
        "import matplotlib.pyplot as plt\n",
        "import seaborn as sns"
      ],
      "execution_count": 2,
      "outputs": [
        {
          "output_type": "stream",
          "text": [
            "Mounted at /content/drive\n"
          ],
          "name": "stdout"
        }
      ]
    },
    {
      "cell_type": "code",
      "metadata": {
        "id": "S21LQZLkjgaD"
      },
      "source": [
        "df = pd.read_csv(\"/content/drive/My Drive/Colab Notebooks/LabelMaster/LabelMaster Data/concatenated_sales_data.csv\")"
      ],
      "execution_count": 3,
      "outputs": []
    },
    {
      "cell_type": "markdown",
      "metadata": {
        "id": "j5H2Gy6XjSgh"
      },
      "source": [
        "The Date column here is an object. We need to convert it to DateTime format."
      ]
    },
    {
      "cell_type": "code",
      "metadata": {
        "colab": {
          "base_uri": "https://localhost:8080/"
        },
        "id": "1piomi4xjsRl",
        "outputId": "ec93a7b3-4967-4713-dd73-c8198af7294b"
      },
      "source": [
        "df.dtypes"
      ],
      "execution_count": 6,
      "outputs": [
        {
          "output_type": "execute_result",
          "data": {
            "text/plain": [
              "Unnamed: 0              int64\n",
              "Department Dim          int64\n",
              "Product Group Code    float64\n",
              "Posting Date           object\n",
              "Sum of Sales          float64\n",
              "dtype: object"
            ]
          },
          "metadata": {
            "tags": []
          },
          "execution_count": 6
        }
      ]
    },
    {
      "cell_type": "code",
      "metadata": {
        "colab": {
          "base_uri": "https://localhost:8080/"
        },
        "id": "bryXlPdijumo",
        "outputId": "4cb0cd24-693e-4443-f2a4-1cce9d6f79f3"
      },
      "source": [
        "df['Posting Date']"
      ],
      "execution_count": 15,
      "outputs": [
        {
          "output_type": "execute_result",
          "data": {
            "text/plain": [
              "0          1993-01-04 00:00:00\n",
              "1          1993-01-04 00:00:00\n",
              "2          1993-01-04 00:00:00\n",
              "3          1993-01-04 00:00:00\n",
              "4          1993-01-04 00:00:00\n",
              "                  ...         \n",
              "1266114    2020-10-31 00:00:00\n",
              "1266115    2020-10-31 00:00:00\n",
              "1266116    2020-10-31 00:00:00\n",
              "1266117    2020-10-31 00:00:00\n",
              "1266118    2020-10-31 00:00:00\n",
              "Name: Posting Date, Length: 1266119, dtype: object"
            ]
          },
          "metadata": {
            "tags": []
          },
          "execution_count": 15
        }
      ]
    },
    {
      "cell_type": "code",
      "metadata": {
        "colab": {
          "base_uri": "https://localhost:8080/"
        },
        "id": "Qilpfu7Zj_Wo",
        "outputId": "4a8e4229-9f92-4817-fe94-f18e4474df1e"
      },
      "source": [
        "# Convert the Date column to DateTime format\n",
        "df[\"Date\"] = pd.to_datetime(df['Posting Date'], format=\"%Y-%m-%d %H:%M:%S\")\n",
        "\n",
        "#Drop the Posting Date column\n",
        "df.drop('Posting Date',axis = 1,inplace=True)\n",
        "df.dtypes"
      ],
      "execution_count": 28,
      "outputs": [
        {
          "output_type": "execute_result",
          "data": {
            "text/plain": [
              "Unnamed: 0                     int64\n",
              "Department Dim                 int64\n",
              "Product Group Code           float64\n",
              "Sum of Sales                 float64\n",
              "Date                  datetime64[ns]\n",
              "dtype: object"
            ]
          },
          "metadata": {
            "tags": []
          },
          "execution_count": 28
        }
      ]
    },
    {
      "cell_type": "code",
      "metadata": {
        "id": "RCZ-E-Yin1Et"
      },
      "source": [
        "# Filter out the departments that we wish to work on according to the Department Dim code.\n",
        "filtered_df = df[(df[\"Department Dim\"] == 504 ) | (df[\"Department Dim\"] == 506)]"
      ],
      "execution_count": 29,
      "outputs": []
    },
    {
      "cell_type": "code",
      "metadata": {
        "colab": {
          "base_uri": "https://localhost:8080/",
          "height": 221
        },
        "id": "AAE_Vlk8oS1w",
        "outputId": "522e1e84-ac25-4c2d-ed69-92172a31c97c"
      },
      "source": [
        "filtered_df.head()"
      ],
      "execution_count": 30,
      "outputs": [
        {
          "output_type": "execute_result",
          "data": {
            "text/html": [
              "<div>\n",
              "<style scoped>\n",
              "    .dataframe tbody tr th:only-of-type {\n",
              "        vertical-align: middle;\n",
              "    }\n",
              "\n",
              "    .dataframe tbody tr th {\n",
              "        vertical-align: top;\n",
              "    }\n",
              "\n",
              "    .dataframe thead th {\n",
              "        text-align: right;\n",
              "    }\n",
              "</style>\n",
              "<table border=\"1\" class=\"dataframe\">\n",
              "  <thead>\n",
              "    <tr style=\"text-align: right;\">\n",
              "      <th></th>\n",
              "      <th>Unnamed: 0</th>\n",
              "      <th>Department Dim</th>\n",
              "      <th>Product Group Code</th>\n",
              "      <th>Sum of Sales</th>\n",
              "      <th>Date</th>\n",
              "    </tr>\n",
              "  </thead>\n",
              "  <tbody>\n",
              "    <tr>\n",
              "      <th>3</th>\n",
              "      <td>5</td>\n",
              "      <td>506</td>\n",
              "      <td>50600.0</td>\n",
              "      <td>129.76</td>\n",
              "      <td>1993-01-04</td>\n",
              "    </tr>\n",
              "    <tr>\n",
              "      <th>4</th>\n",
              "      <td>6</td>\n",
              "      <td>506</td>\n",
              "      <td>51008.0</td>\n",
              "      <td>43.00</td>\n",
              "      <td>1993-01-04</td>\n",
              "    </tr>\n",
              "    <tr>\n",
              "      <th>8</th>\n",
              "      <td>10</td>\n",
              "      <td>506</td>\n",
              "      <td>NaN</td>\n",
              "      <td>5904.97</td>\n",
              "      <td>1993-01-05</td>\n",
              "    </tr>\n",
              "    <tr>\n",
              "      <th>13</th>\n",
              "      <td>15</td>\n",
              "      <td>506</td>\n",
              "      <td>50607.0</td>\n",
              "      <td>155.40</td>\n",
              "      <td>1993-01-06</td>\n",
              "    </tr>\n",
              "    <tr>\n",
              "      <th>14</th>\n",
              "      <td>16</td>\n",
              "      <td>506</td>\n",
              "      <td>50608.0</td>\n",
              "      <td>37.08</td>\n",
              "      <td>1993-01-06</td>\n",
              "    </tr>\n",
              "  </tbody>\n",
              "</table>\n",
              "</div>"
            ],
            "text/plain": [
              "    Unnamed: 0  Department Dim  Product Group Code  Sum of Sales       Date\n",
              "3            5             506             50600.0        129.76 1993-01-04\n",
              "4            6             506             51008.0         43.00 1993-01-04\n",
              "8           10             506                 NaN       5904.97 1993-01-05\n",
              "13          15             506             50607.0        155.40 1993-01-06\n",
              "14          16             506             50608.0         37.08 1993-01-06"
            ]
          },
          "metadata": {
            "tags": []
          },
          "execution_count": 30
        }
      ]
    },
    {
      "cell_type": "markdown",
      "metadata": {
        "id": "Bl214C1Ekrbp"
      },
      "source": [
        "Now we find the sum of sales by month to get an overview of how the trends per month."
      ]
    },
    {
      "cell_type": "code",
      "metadata": {
        "colab": {
          "base_uri": "https://localhost:8080/",
          "height": 464
        },
        "id": "zAVbEbGDpmyZ",
        "outputId": "8ff689c1-e601-4a0d-a0f7-91ca34cb9e03"
      },
      "source": [
        "# Create a dataframe for sum of sales by each month according to the department dimension\n",
        "sales_by_month = pd.DataFrame(filtered_df.set_index(\"Date\").groupby(\"Department Dim\")[\"Sum of Sales\"].resample(\"M\").sum())\n",
        "sales_by_month"
      ],
      "execution_count": 31,
      "outputs": [
        {
          "output_type": "execute_result",
          "data": {
            "text/html": [
              "<div>\n",
              "<style scoped>\n",
              "    .dataframe tbody tr th:only-of-type {\n",
              "        vertical-align: middle;\n",
              "    }\n",
              "\n",
              "    .dataframe tbody tr th {\n",
              "        vertical-align: top;\n",
              "    }\n",
              "\n",
              "    .dataframe thead th {\n",
              "        text-align: right;\n",
              "    }\n",
              "</style>\n",
              "<table border=\"1\" class=\"dataframe\">\n",
              "  <thead>\n",
              "    <tr style=\"text-align: right;\">\n",
              "      <th></th>\n",
              "      <th></th>\n",
              "      <th>Sum of Sales</th>\n",
              "    </tr>\n",
              "    <tr>\n",
              "      <th>Department Dim</th>\n",
              "      <th>Date</th>\n",
              "      <th></th>\n",
              "    </tr>\n",
              "  </thead>\n",
              "  <tbody>\n",
              "    <tr>\n",
              "      <th rowspan=\"5\" valign=\"top\">504</th>\n",
              "      <th>1993-01-31</th>\n",
              "      <td>236875.51</td>\n",
              "    </tr>\n",
              "    <tr>\n",
              "      <th>1993-02-28</th>\n",
              "      <td>389034.46</td>\n",
              "    </tr>\n",
              "    <tr>\n",
              "      <th>1993-03-31</th>\n",
              "      <td>221486.85</td>\n",
              "    </tr>\n",
              "    <tr>\n",
              "      <th>1993-04-30</th>\n",
              "      <td>331739.09</td>\n",
              "    </tr>\n",
              "    <tr>\n",
              "      <th>1993-05-31</th>\n",
              "      <td>325079.50</td>\n",
              "    </tr>\n",
              "    <tr>\n",
              "      <th>...</th>\n",
              "      <th>...</th>\n",
              "      <td>...</td>\n",
              "    </tr>\n",
              "    <tr>\n",
              "      <th rowspan=\"5\" valign=\"top\">506</th>\n",
              "      <th>2020-09-30</th>\n",
              "      <td>980476.36</td>\n",
              "    </tr>\n",
              "    <tr>\n",
              "      <th>2020-10-31</th>\n",
              "      <td>922901.36</td>\n",
              "    </tr>\n",
              "    <tr>\n",
              "      <th>2020-11-30</th>\n",
              "      <td>293486.93</td>\n",
              "    </tr>\n",
              "    <tr>\n",
              "      <th>2020-12-31</th>\n",
              "      <td>557010.14</td>\n",
              "    </tr>\n",
              "    <tr>\n",
              "      <th>2021-01-31</th>\n",
              "      <td>78188.86</td>\n",
              "    </tr>\n",
              "  </tbody>\n",
              "</table>\n",
              "<p>674 rows × 1 columns</p>\n",
              "</div>"
            ],
            "text/plain": [
              "                           Sum of Sales\n",
              "Department Dim Date                    \n",
              "504            1993-01-31     236875.51\n",
              "               1993-02-28     389034.46\n",
              "               1993-03-31     221486.85\n",
              "               1993-04-30     331739.09\n",
              "               1993-05-31     325079.50\n",
              "...                                 ...\n",
              "506            2020-09-30     980476.36\n",
              "               2020-10-31     922901.36\n",
              "               2020-11-30     293486.93\n",
              "               2020-12-31     557010.14\n",
              "               2021-01-31      78188.86\n",
              "\n",
              "[674 rows x 1 columns]"
            ]
          },
          "metadata": {
            "tags": []
          },
          "execution_count": 31
        }
      ]
    },
    {
      "cell_type": "code",
      "metadata": {
        "id": "2WpO52T4rOtE"
      },
      "source": [
        "#Reset the indices for the dataframe\n",
        "sales_by_month.reset_index(inplace=True)"
      ],
      "execution_count": 32,
      "outputs": []
    },
    {
      "cell_type": "code",
      "metadata": {
        "colab": {
          "base_uri": "https://localhost:8080/"
        },
        "id": "id_iU1qzuhE8",
        "outputId": "8dfeed47-b9da-4362-e0dc-cee813291767"
      },
      "source": [
        "sales_by_month[sales_by_month[\"Department Dim\"] == 506].groupby([sales_by_month[\"Date\"].dt.year,sales_by_month[\"Date\"].dt.month])[\"Sum of Sales\"].max()"
      ],
      "execution_count": 9,
      "outputs": [
        {
          "output_type": "execute_result",
          "data": {
            "text/plain": [
              "Date  Date\n",
              "1993  1       263979.80\n",
              "      2       224439.85\n",
              "      3       245191.23\n",
              "      4       244614.47\n",
              "      5       212929.28\n",
              "                ...    \n",
              "2020  9       980476.36\n",
              "      10      922901.36\n",
              "      11      293486.93\n",
              "      12      557010.14\n",
              "2021  1        78188.86\n",
              "Name: Sum of Sales, Length: 337, dtype: float64"
            ]
          },
          "metadata": {
            "tags": []
          },
          "execution_count": 9
        }
      ]
    },
    {
      "cell_type": "code",
      "metadata": {
        "colab": {
          "base_uri": "https://localhost:8080/",
          "height": 371
        },
        "id": "1s3YJC0awOz9",
        "outputId": "31178e18-709e-44a6-a541-fd113d0dd0c1"
      },
      "source": [
        "# Average sum of Sales by month for Department\n",
        "dept_sales = sales_by_month[sales_by_month[\"Department Dim\"] == 506].groupby(sales_by_month[\"Date\"].dt.month)[\"Sum of Sales\"].mean()\n",
        "\n",
        "sns.set_theme()\n",
        "\n",
        "months = [\"Jan\",\"Feb\",\"Mar\",\"April\",\"May\",\"June\",\"July\",\"Aug\",\"Sept\",\"Oct\",\"Nov\",\"Dec\"]\n",
        "\n",
        "sns.barplot(months,dept_sales)\n",
        "plt.title(\"Average Sales by month for Packaging\")\n",
        "plt.xlabel(\"Months\")\n",
        "plt.ylabel(\"Average Sales\")"
      ],
      "execution_count": 46,
      "outputs": [
        {
          "output_type": "stream",
          "text": [
            "/usr/local/lib/python3.6/dist-packages/seaborn/_decorators.py:43: FutureWarning: Pass the following variables as keyword args: x, y. From version 0.12, the only valid positional argument will be `data`, and passing other arguments without an explicit keyword will result in an error or misinterpretation.\n",
            "  FutureWarning\n"
          ],
          "name": "stderr"
        },
        {
          "output_type": "execute_result",
          "data": {
            "text/plain": [
              "Text(0, 0.5, 'Average Sales')"
            ]
          },
          "metadata": {
            "tags": []
          },
          "execution_count": 46
        },
        {
          "output_type": "display_data",
          "data": {
            "image/png": "[encoded data removed]",
            "text/plain": [
              "<Figure size 432x288 with 1 Axes>"
            ]
          },
          "metadata": {
            "tags": []
          }
        }
      ]
    },
    {
      "cell_type": "code",
      "metadata": {
        "colab": {
          "base_uri": "https://localhost:8080/",
          "height": 371
        },
        "id": "ghTtJk2B0Ip2",
        "outputId": "f02a8d79-360e-4494-d82d-d5b1ca25feec"
      },
      "source": [
        "# Average sum of Sales by month for Books Department\n",
        "sns.set_theme()\n",
        "\n",
        "books_sales = sales_by_month[sales_by_month[\"Department Dim\"] == 504].groupby(sales_by_month[\"Date\"].dt.month)[\"Sum of Sales\"].mean()\n",
        "\n",
        "sns.barplot(months,books_sales)\n",
        "plt.title(\"Average Sales by month for Books\")\n",
        "plt.xlabel(\"Months\")\n",
        "plt.ylabel(\"Average Sales\")"
      ],
      "execution_count": 47,
      "outputs": [
        {
          "output_type": "stream",
          "text": [
            "/usr/local/lib/python3.6/dist-packages/seaborn/_decorators.py:43: FutureWarning: Pass the following variables as keyword args: x, y. From version 0.12, the only valid positional argument will be `data`, and passing other arguments without an explicit keyword will result in an error or misinterpretation.\n",
            "  FutureWarning\n"
          ],
          "name": "stderr"
        },
        {
          "output_type": "execute_result",
          "data": {
            "text/plain": [
              "Text(0, 0.5, 'Average Sales')"
            ]
          },
          "metadata": {
            "tags": []
          },
          "execution_count": 47
        },
        {
          "output_type": "display_data",
          "data": {
            "image/png": "[encoded data removed]",
            "text/plain": [
              "<Figure size 432x288 with 1 Axes>"
            ]
          },
          "metadata": {
            "tags": []
          }
        }
      ]
    },
    {
      "cell_type": "markdown",
      "metadata": {
        "id": "lIxh9dojn9mr"
      },
      "source": [
        "From the plots above, we can see that there is seasonality in the data for both the departments and on average, we see a rise of sales in the last quater of the year."
      ]
    }
  ]
}